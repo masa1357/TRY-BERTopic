{
 "cells": [
  {
   "cell_type": "markdown",
   "metadata": {},
   "source": [
    "# TRY BERTopic "
   ]
  },
  {
   "cell_type": "code",
   "execution_count": 38,
   "metadata": {},
   "outputs": [],
   "source": [
    "import os\n",
    "import sys\n",
    "import numpy as np\n",
    "import pandas as pd\n",
    "from pathlib import Path"
   ]
  },
  {
   "cell_type": "markdown",
   "metadata": {},
   "source": [
    "### Define Path"
   ]
  },
  {
   "cell_type": "code",
   "execution_count": 39,
   "metadata": {},
   "outputs": [
    {
     "name": "stdout",
     "output_type": "stream",
     "text": [
      "BASE_PATH\t：/home/masa1357/Dockerdata/gitfile/TRY-BERTopic\n",
      "DATA_PATH\t：/home/masa1357/Dockerdata/gitfile/TRY-BERTopic/data/\n",
      "OUT_PATH\t：/home/masa1357/Dockerdata/gitfile/TRY-BERTopic/out/\n"
     ]
    }
   ],
   "source": [
    "\"\"\"\n",
    "Define Path\n",
    "\"\"\"\n",
    "\n",
    "dirpath = os.getcwd()\n",
    "BASE_PATH = Path(dirpath).parent\n",
    "print(f\"BASE_PATH\\t：{BASE_PATH}\")\n",
    "DATA_PATH = os.path.join(BASE_PATH, \"data/\")\n",
    "print(f\"DATA_PATH\\t：{DATA_PATH}\")\n",
    "OUT_PATH = os.path.join(BASE_PATH, \"out/\")\n",
    "print(f\"OUT_PATH\\t：{OUT_PATH}\")"
   ]
  },
  {
   "cell_type": "markdown",
   "metadata": {},
   "source": [
    "### Get Data"
   ]
  },
  {
   "cell_type": "code",
   "execution_count": 40,
   "metadata": {},
   "outputs": [],
   "source": [
    "import python.datasprit as ds\n",
    "train = pd.read_csv(\"/home/masa1357/Dockerdata/gitfile/TF-IDF/data/newdf.csv\")"
   ]
  },
  {
   "cell_type": "markdown",
   "metadata": {},
   "source": [
    "## Try BERTopic"
   ]
  },
  {
   "cell_type": "code",
   "execution_count": 41,
   "metadata": {},
   "outputs": [],
   "source": [
    "train = train[train['question_number'] == 1]"
   ]
  },
  {
   "cell_type": "code",
   "execution_count": 42,
   "metadata": {},
   "outputs": [],
   "source": [
    "df = train.copy()"
   ]
  },
  {
   "cell_type": "code",
   "execution_count": 43,
   "metadata": {},
   "outputs": [
    {
     "data": {
      "text/plain": [
       "(7535, 7)"
      ]
     },
     "execution_count": 43,
     "metadata": {},
     "output_type": "execute_result"
    }
   ],
   "source": [
    "train.shape"
   ]
  },
  {
   "cell_type": "code",
   "execution_count": 44,
   "metadata": {},
   "outputs": [
    {
     "name": "stdout",
     "output_type": "stream",
     "text": [
      "(690, 17)\n"
     ]
    }
   ],
   "source": [
    "# 講義番号，質問番号ごとに列を作成\n",
    "def create_column_name(row):\n",
    "    return f\"{int(row['course_number']):02d}-{row['question_number']}\"\n",
    "\n",
    "\n",
    "# 新しい列\n",
    "df[\"new_column\"] = df.apply(create_column_name, axis=1)\n",
    "\n",
    "# 新しいデータフレームを定義\n",
    "df_pivoted = df.pivot_table(\n",
    "    index=[\"userid\", \"label\"],\n",
    "    columns=\"new_column\",\n",
    "    values=\"text\",\n",
    "    aggfunc=lambda x: \" \".join(x),\n",
    ").reset_index()\n",
    "\n",
    "# 結果を表示\n",
    "print(df_pivoted.shape)\n",
    "df_pivoted.head()\n",
    "df_pivoted.head()\n",
    "df = df_pivoted.copy()"
   ]
  },
  {
   "cell_type": "code",
   "execution_count": 45,
   "metadata": {},
   "outputs": [],
   "source": [
    "random_state = 42\n",
    "from sklearn.model_selection import train_test_split\n",
    "train, valid = train_test_split(df, test_size=0.2, random_state=random_state, stratify=df['label'])"
   ]
  },
  {
   "cell_type": "code",
   "execution_count": 48,
   "metadata": {},
   "outputs": [],
   "source": [
    "df = train.copy()\n",
    "df.head()\n",
    "df.to_csv(OUT_PATH+\"encoded.csv\", index=False)"
   ]
  },
  {
   "cell_type": "code",
   "execution_count": null,
   "metadata": {},
   "outputs": [],
   "source": [
    "import re, unicodedata\n",
    "\n",
    "class CleaningData:\n",
    "    def __init__(self, df, target_column):\n",
    "        self.df = df\n",
    "        self.target_column = target_column\n",
    "\n",
    "    def cleaning(self):\n",
    "        self.df[self.target_column] = self.df[self.target_column].map(self.remove_extra_spaces)\n",
    "        self.df[self.target_column] = self.df[self.target_column].map(self.normalize_neologd)\n",
    "\n",
    "        # クリーニングの過程でtextが空になった行を削除\n",
    "        self.df = self.df[self.df[self.target_column] != '']\n",
    "        self.df = self.df[self.df[self.target_column] != '']\n",
    "        # 文字列が5文字以下の行を削除,「ない，なし」があったら9文字以下でも削除\n",
    "        self.df = self.df[~((self.df[self.target_column].str.len() <= 9) & ((self.df[self.target_column].str.contains('ない')) | (self.df[self.target_column].str.contains('なし'))))]\n",
    "        #self.df = self.df[(self.df[self.target_column].str.len() <= 5)]\n",
    "\n",
    "\n",
    "        self.df = self.df.reset_index()\n",
    "        return self.df\n",
    "\n",
    "    def unicode_normalize(self, cls, s):\n",
    "        pt = re.compile('([{}]+)'.format(cls))\n",
    "\n",
    "        def norm(c):\n",
    "            return unicodedata.normalize('NFKC', c) if pt.match(c) else c\n",
    "\n",
    "        s = ''.join(norm(x) for x in re.split(pt, s))\n",
    "        s = re.sub('－', '-', s)\n",
    "        return s\n",
    "\n",
    "    def remove_extra_spaces(self, s):\n",
    "        s = re.sub('[ 　]+', ' ', s)\n",
    "        blocks = ''.join(('\\u4E00-\\u9FFF',  # CJK UNIFIED IDEOGRAPHS\n",
    "                          '\\u3040-\\u309F',  # HIRAGANA\n",
    "                          '\\u30A0-\\u30FF',  # KATAKANA\n",
    "                          '\\u3000-\\u303F',  # CJK SYMBOLS AND PUNCTUATION\n",
    "                          '\\uFF00-\\uFFEF'   # HALFWIDTH AND FULLWIDTH FORMS\n",
    "                          ))\n",
    "        basic_latin = '\\u0000-\\u007F'\n",
    "\n",
    "        def remove_space_between(cls1, cls2, s):\n",
    "            p = re.compile('([{}]) ([{}])'.format(cls1, cls2))\n",
    "            while p.search(s):\n",
    "                s = p.sub(r'\\1\\2', s)\n",
    "            return s\n",
    "\n",
    "        s = remove_space_between(blocks, blocks, s)\n",
    "        s = remove_space_between(blocks, basic_latin, s)\n",
    "        s = remove_space_between(basic_latin, blocks, s)\n",
    "        return s\n",
    "\n",
    "    def normalize_neologd(self, s):\n",
    "        s = s.strip()\n",
    "        s = self.unicode_normalize('０-９Ａ-Ｚａ-ｚ｡-ﾟ', s)\n",
    "\n",
    "        def maketrans(f, t):\n",
    "            return {ord(x): ord(y) for x, y in zip(f, t)}\n",
    "\n",
    "        s = re.sub('[˗֊‐‑‒–⁃⁻₋−]+', '-', s)  # normalize hyphens\n",
    "        s = re.sub('[﹣－ｰ—―─━ー]+', 'ー', s)  # normalize choonpus\n",
    "        s = re.sub('[~∼∾〜〰～]', '', s)  # remove tildes\n",
    "        s = s.translate(\n",
    "            maketrans('!\"#$%&\\'()*+,-./:;<=>?@[¥]^_`{|}~｡､･｢｣',\n",
    "                  '！”＃＄％＆’（）＊＋，－．／：；＜＝＞？＠［￥］＾＿｀｛｜｝〜。、・「」'))\n",
    "\n",
    "        s = self.remove_extra_spaces(s)\n",
    "        s = self.unicode_normalize('！”＃＄％＆’（）＊＋，－．／：；＜＞？＠［￥］＾＿｀｛｜｝〜', s)  # keep ＝,・,「,」\n",
    "        s = re.sub('[’]', '\\'', s)\n",
    "        s = re.sub('[”]', '\"', s)\n",
    "        return s\n",
    "\n",
    "    def remove_symbols(self, text):\n",
    "        text = re.sub(r'[◎, 〇, △, ▲, ×, ◇, □]', '', text)\n",
    "        return text\n"
   ]
  },
  {
   "cell_type": "code",
   "execution_count": null,
   "metadata": {},
   "outputs": [],
   "source": [
    "cd = CleaningData(train, 'text')\n",
    "df = cd.cleaning()"
   ]
  },
  {
   "cell_type": "code",
   "execution_count": null,
   "metadata": {},
   "outputs": [
    {
     "data": {
      "text/html": [
       "<div>\n",
       "<style scoped>\n",
       "    .dataframe tbody tr th:only-of-type {\n",
       "        vertical-align: middle;\n",
       "    }\n",
       "\n",
       "    .dataframe tbody tr th {\n",
       "        vertical-align: top;\n",
       "    }\n",
       "\n",
       "    .dataframe thead th {\n",
       "        text-align: right;\n",
       "    }\n",
       "</style>\n",
       "<table border=\"1\" class=\"dataframe\">\n",
       "  <thead>\n",
       "    <tr style=\"text-align: right;\">\n",
       "      <th></th>\n",
       "      <th>index</th>\n",
       "      <th>course_number</th>\n",
       "      <th>question_number</th>\n",
       "      <th>label</th>\n",
       "    </tr>\n",
       "  </thead>\n",
       "  <tbody>\n",
       "    <tr>\n",
       "      <th>count</th>\n",
       "      <td>6038.000000</td>\n",
       "      <td>6038.000000</td>\n",
       "      <td>6038.0</td>\n",
       "      <td>6038.000000</td>\n",
       "    </tr>\n",
       "    <tr>\n",
       "      <th>mean</th>\n",
       "      <td>13596.679861</td>\n",
       "      <td>7.078503</td>\n",
       "      <td>1.0</td>\n",
       "      <td>2.024677</td>\n",
       "    </tr>\n",
       "    <tr>\n",
       "      <th>std</th>\n",
       "      <td>7945.122105</td>\n",
       "      <td>4.113045</td>\n",
       "      <td>0.0</td>\n",
       "      <td>1.539783</td>\n",
       "    </tr>\n",
       "    <tr>\n",
       "      <th>min</th>\n",
       "      <td>3.000000</td>\n",
       "      <td>1.000000</td>\n",
       "      <td>1.0</td>\n",
       "      <td>0.000000</td>\n",
       "    </tr>\n",
       "    <tr>\n",
       "      <th>25%</th>\n",
       "      <td>6610.750000</td>\n",
       "      <td>3.000000</td>\n",
       "      <td>1.0</td>\n",
       "      <td>0.000000</td>\n",
       "    </tr>\n",
       "    <tr>\n",
       "      <th>50%</th>\n",
       "      <td>13735.500000</td>\n",
       "      <td>7.000000</td>\n",
       "      <td>1.0</td>\n",
       "      <td>2.000000</td>\n",
       "    </tr>\n",
       "    <tr>\n",
       "      <th>75%</th>\n",
       "      <td>20553.250000</td>\n",
       "      <td>11.000000</td>\n",
       "      <td>1.0</td>\n",
       "      <td>4.000000</td>\n",
       "    </tr>\n",
       "    <tr>\n",
       "      <th>max</th>\n",
       "      <td>27074.000000</td>\n",
       "      <td>15.000000</td>\n",
       "      <td>1.0</td>\n",
       "      <td>4.000000</td>\n",
       "    </tr>\n",
       "  </tbody>\n",
       "</table>\n",
       "</div>"
      ],
      "text/plain": [
       "              index  course_number  question_number        label\n",
       "count   6038.000000    6038.000000           6038.0  6038.000000\n",
       "mean   13596.679861       7.078503              1.0     2.024677\n",
       "std     7945.122105       4.113045              0.0     1.539783\n",
       "min        3.000000       1.000000              1.0     0.000000\n",
       "25%     6610.750000       3.000000              1.0     0.000000\n",
       "50%    13735.500000       7.000000              1.0     2.000000\n",
       "75%    20553.250000      11.000000              1.0     4.000000\n",
       "max    27074.000000      15.000000              1.0     4.000000"
      ]
     },
     "execution_count": 381,
     "metadata": {},
     "output_type": "execute_result"
    }
   ],
   "source": [
    "df.describe()"
   ]
  },
  {
   "cell_type": "code",
   "execution_count": null,
   "metadata": {},
   "outputs": [
    {
     "name": "stdout",
     "output_type": "stream",
     "text": [
      "解析結果:\n",
      "これ\tコレ\tコレ\t此れ\t代名詞\t\t\t0\n",
      "は\tワ\tハ\tは\t助詞-係助詞\t\t\t\n",
      "MeCab\tMeCab\tMeCab\tMeCab\t名詞-普通名詞-一般\t\t\t0\n",
      "の\tノ\tノ\tの\t助詞-格助詞\t\t\t\n",
      "テスト\tテスト\tテスト\tテスト-test\t名詞-普通名詞-サ変可能\t\t\t1\n",
      "です\tデス\tデス\tです\t助動詞\t助動詞-デス\t終止形-一般\t\n",
      "。\t\t\t。\t補助記号-句点\t\t\t\n",
      "EOS\n",
      "\n",
      "単語と品詞:\n",
      "これ [代名詞]\n",
      "は [助詞-係助詞]\n",
      "MeCab [名詞-普通名詞-一般]\n",
      "の [助詞-格助詞]\n",
      "テスト [名詞-普通名詞-サ変可能]\n",
      "です [助動詞]\n",
      "。 [補助記号-句点]\n"
     ]
    }
   ],
   "source": [
    "import MeCab\n",
    "\n",
    "def test_mecab(text):\n",
    "    # MeCabのインスタンスを作成\n",
    "    tagger = MeCab.Tagger(\"-r /etc/mecabrc\")\n",
    "    \n",
    "    # テキストを解析\n",
    "    result = tagger.parse(text)\n",
    "    \n",
    "    # 解析結果を出力\n",
    "    print(\"解析結果:\")\n",
    "    print(result)\n",
    "    \n",
    "    # print(\"解析結果の詳細な形式:\")\n",
    "    # print(repr(result))\n",
    "    \n",
    "    # 各行を解析して単語と品詞を出力\n",
    "    print(\"単語と品詞:\")\n",
    "    for line in result.splitlines()[:-1]:  # EOSを除外\n",
    "        parts = line.split('\\t')\n",
    "        if len(parts) > 4:\n",
    "            surface = parts[0]  # 表層形\n",
    "            # features = parts[1].split(',')\n",
    "            pos = parts[4]  # 品詞\n",
    "            print(f\"{surface} [{pos}]\")\n",
    "\n",
    "# テスト用のテキスト\n",
    "test_text = \"これはMeCabのテストです。\"\n",
    "test_mecab(test_text)\n"
   ]
  },
  {
   "cell_type": "code",
   "execution_count": null,
   "metadata": {},
   "outputs": [],
   "source": [
    "import MeCab\n",
    "\n",
    "class Wakati:\n",
    "    \"\"\" 形態素解析クラス \"\"\"\n",
    "    # クラス変数\n",
    "    MECAB_PATH = \"-r /etc/mecabrc\"\n",
    "\n",
    "    def __init__(self, df, target_column):\n",
    "        self.df = df\n",
    "        self.target_column = target_column\n",
    "        self.tagger = MeCab.Tagger(Wakati.MECAB_PATH)\n",
    "\n",
    "    def wakati_document(self):\n",
    "        self.df[self.target_column] = self.df[self.target_column].map(self.wakati_sentence)\n",
    "        return self.df\n",
    "\n",
    "    def wakati_sentence(self, text):\n",
    "        words = []\n",
    "        for c in self.tagger.parse(text).splitlines()[:-1]:\n",
    "            try:\n",
    "                parts = c.split('\\t')\n",
    "                if len(parts) > 4:\n",
    "                    surface = parts[0]  # 表層形\n",
    "                    pos = parts[4]  # 品詞\n",
    "                    # print(f\"{surface} [{pos}]\")\n",
    "                    if any(pos.startswith(prefix) for prefix in ['名詞', '動詞', '形容詞']):\n",
    "                        words.append(surface)  # 原型が必要な場合は、適切なインデックスを使う\n",
    "            except ValueError:  # タブでの分割ができない場合はスキップ\n",
    "                continue\n",
    "        return ' '.join(words)\n"
   ]
  },
  {
   "cell_type": "code",
   "execution_count": null,
   "metadata": {},
   "outputs": [],
   "source": [
    "w = Wakati(df, 'text')\n",
    "df = w.wakati_document()\n"
   ]
  },
  {
   "cell_type": "code",
   "execution_count": null,
   "metadata": {},
   "outputs": [
    {
     "data": {
      "text/plain": [
       "0                    情報 符号 する こと より 情報 短く 伝達 する こと できる\n",
       "1                      初回 説明 ムー ドル 資料 見 bookroll 使い 学ん\n",
       "2    確認 テスト いう こと 講義 内容 計算 問題 正誤 問題 マーク 形式 記述 問題 満遍...\n",
       "3    構造 データ 言語 画像 音声 音楽 処理 つい 例 参考 し 学ん コンピュータ よる パ...\n",
       "4                               伝える 情報 正確 より する 思っ 難しい\n",
       "Name: text, dtype: object"
      ]
     },
     "execution_count": 385,
     "metadata": {},
     "output_type": "execute_result"
    }
   ],
   "source": [
    "df[\"text\"].head()"
   ]
  },
  {
   "cell_type": "code",
   "execution_count": null,
   "metadata": {},
   "outputs": [],
   "source": [
    "df = train"
   ]
  },
  {
   "cell_type": "code",
   "execution_count": null,
   "metadata": {},
   "outputs": [],
   "source": [
    "docs = df['text'].tolist()"
   ]
  },
  {
   "cell_type": "code",
   "execution_count": null,
   "metadata": {},
   "outputs": [
    {
     "name": "stderr",
     "output_type": "stream",
     "text": [
      "2024-04-08 08:15:04,131 - BERTopic - Embedding - Transforming documents to embeddings.\n",
      "Batches: 100%|██████████| 189/189 [00:51<00:00,  3.68it/s]\n",
      "2024-04-08 08:15:59,130 - BERTopic - Embedding - Completed ✓\n",
      "2024-04-08 08:15:59,131 - BERTopic - Dimensionality - Fitting the dimensionality reduction algorithm\n",
      "2024-04-08 08:16:04,153 - BERTopic - Dimensionality - Completed ✓\n",
      "2024-04-08 08:16:04,154 - BERTopic - Cluster - Start clustering the reduced embeddings\n",
      "2024-04-08 08:16:05,776 - BERTopic - Cluster - Completed ✓\n",
      "2024-04-08 08:16:05,777 - BERTopic - Representation - Extracting topics from clusters using representation models.\n",
      "2024-04-08 08:16:05,946 - BERTopic - Representation - Completed ✓\n",
      "2024-04-08 08:16:05,947 - BERTopic - Topic reduction - Reducing number of topics\n",
      "2024-04-08 08:16:06,062 - BERTopic - Topic reduction - Reduced number of topics from 127 to 51\n"
     ]
    }
   ],
   "source": [
    "from bertopic import BERTopic\n",
    "topic_model = BERTopic(language=\"japanese\", calculate_probabilities=True, verbose=True, nr_topics=\"20\")\n",
    "topics, probs = topic_model.fit_transform(docs)"
   ]
  },
  {
   "cell_type": "code",
   "execution_count": null,
   "metadata": {},
   "outputs": [
    {
     "data": {
      "text/html": [
       "<div>\n",
       "<style scoped>\n",
       "    .dataframe tbody tr th:only-of-type {\n",
       "        vertical-align: middle;\n",
       "    }\n",
       "\n",
       "    .dataframe tbody tr th {\n",
       "        vertical-align: top;\n",
       "    }\n",
       "\n",
       "    .dataframe thead th {\n",
       "        text-align: right;\n",
       "    }\n",
       "</style>\n",
       "<table border=\"1\" class=\"dataframe\">\n",
       "  <thead>\n",
       "    <tr style=\"text-align: right;\">\n",
       "      <th></th>\n",
       "      <th>Topic</th>\n",
       "      <th>Count</th>\n",
       "      <th>Name</th>\n",
       "      <th>Representation</th>\n",
       "      <th>Representative_Docs</th>\n",
       "    </tr>\n",
       "  </thead>\n",
       "  <tbody>\n",
       "    <tr>\n",
       "      <th>0</th>\n",
       "      <td>-1</td>\n",
       "      <td>876</td>\n",
       "      <td>-1_グルーピング_nlogn_距離_logn</td>\n",
       "      <td>[グルーピング, nlogn, 距離, logn, log, について, br, 予測, バ...</td>\n",
       "      <td>[まずベクトルをどのようなことに用いることができるかについての話があった例えば経済の分野では...</td>\n",
       "    </tr>\n",
       "    <tr>\n",
       "      <th>1</th>\n",
       "      <td>0</td>\n",
       "      <td>1188</td>\n",
       "      <td>0_コモンズ_nlogn_距離_2回</td>\n",
       "      <td>[コモンズ, nlogn, 距離, 2回, オープンデータ, である, xy, 類似度, 標...</td>\n",
       "      <td>[・全数調査…調査対象をすべて調べること\\r\\n→すべての調査対象…母集団\\r\\n↓\\r\\n...</td>\n",
       "    </tr>\n",
       "    <tr>\n",
       "      <th>2</th>\n",
       "      <td>1</td>\n",
       "      <td>311</td>\n",
       "      <td>1_バイ_完全性_暗号について_en</td>\n",
       "      <td>[バイ, 完全性, 暗号について, en, 機密性, 平文, 乗っ取り, シーザー暗号, 可...</td>\n",
       "      <td>[暗号とは悪意ある第三者から通信内容を守る技術で計算機やネットワークの発達と普及を背景に暗号...</td>\n",
       "    </tr>\n",
       "    <tr>\n",
       "      <th>3</th>\n",
       "      <td>2</td>\n",
       "      <td>289</td>\n",
       "      <td>2_計算_アルゴリズム_コンピュータ_問題</td>\n",
       "      <td>[計算, アルゴリズム, コンピュータ, 問題, コンピューターサイエンス, cs的アプロー...</td>\n",
       "      <td>[(\\r\\n問題:数学的に定義された関数(厳密にするべし)\\r\\n計算:問題事例xが与えられ...</td>\n",
       "    </tr>\n",
       "    <tr>\n",
       "      <th>4</th>\n",
       "      <td>3</td>\n",
       "      <td>258</td>\n",
       "      <td>3_符号語同士がs_2k_ハミング距離_符号語同士が2t</td>\n",
       "      <td>[符号語同士がs, 2k, ハミング距離, 符号語同士が2t, 反転確率, 1以上離れている...</td>\n",
       "      <td>[情報を送るときにノイズが発生してしまうがそれではもとの情報が書き換えられてしまう(ビット列...</td>\n",
       "    </tr>\n",
       "  </tbody>\n",
       "</table>\n",
       "</div>"
      ],
      "text/plain": [
       "   Topic  Count                          Name  \\\n",
       "0     -1    876       -1_グルーピング_nlogn_距離_logn   \n",
       "1      0   1188            0_コモンズ_nlogn_距離_2回   \n",
       "2      1    311            1_バイ_完全性_暗号について_en   \n",
       "3      2    289         2_計算_アルゴリズム_コンピュータ_問題   \n",
       "4      3    258  3_符号語同士がs_2k_ハミング距離_符号語同士が2t   \n",
       "\n",
       "                                      Representation  \\\n",
       "0  [グルーピング, nlogn, 距離, logn, log, について, br, 予測, バ...   \n",
       "1  [コモンズ, nlogn, 距離, 2回, オープンデータ, である, xy, 類似度, 標...   \n",
       "2  [バイ, 完全性, 暗号について, en, 機密性, 平文, 乗っ取り, シーザー暗号, 可...   \n",
       "3  [計算, アルゴリズム, コンピュータ, 問題, コンピューターサイエンス, cs的アプロー...   \n",
       "4  [符号語同士がs, 2k, ハミング距離, 符号語同士が2t, 反転確率, 1以上離れている...   \n",
       "\n",
       "                                 Representative_Docs  \n",
       "0  [まずベクトルをどのようなことに用いることができるかについての話があった例えば経済の分野では...  \n",
       "1  [・全数調査…調査対象をすべて調べること\\r\\n→すべての調査対象…母集団\\r\\n↓\\r\\n...  \n",
       "2  [暗号とは悪意ある第三者から通信内容を守る技術で計算機やネットワークの発達と普及を背景に暗号...  \n",
       "3  [(\\r\\n問題:数学的に定義された関数(厳密にするべし)\\r\\n計算:問題事例xが与えられ...  \n",
       "4  [情報を送るときにノイズが発生してしまうがそれではもとの情報が書き換えられてしまう(ビット列...  "
      ]
     },
     "execution_count": 389,
     "metadata": {},
     "output_type": "execute_result"
    }
   ],
   "source": [
    "topic_info = topic_model.get_topic_info()\n",
    "topic_info.head()"
   ]
  },
  {
   "cell_type": "code",
   "execution_count": null,
   "metadata": {},
   "outputs": [],
   "source": [
    "topic_info.to_csv(OUT_PATH + 'topic_info.csv', index=False)"
   ]
  },
  {
   "cell_type": "code",
   "execution_count": null,
   "metadata": {},
   "outputs": [],
   "source": []
  },
  {
   "cell_type": "code",
   "execution_count": null,
   "metadata": {},
   "outputs": [],
   "source": [
    "# トピックとドキュメントのペアを作成\n",
    "topic_doc_pairs = [(topic, doc) for topic, doc in zip(topics, docs)]\n",
    "\n",
    "# データフレームを作成\n",
    "df_topic_docs = pd.DataFrame(topic_doc_pairs, columns=['Topic', 'Document'])\n",
    "\n",
    "# CSVファイルに保存\n",
    "df_topic_docs.to_csv('topic_documents.csv', index=False)"
   ]
  },
  {
   "cell_type": "code",
   "execution_count": null,
   "metadata": {},
   "outputs": [
    {
     "data": {
      "application/vnd.plotly.v1+json": {
       "config": {
        "plotlyServerURL": "https://plot.ly"
       },
       "data": [
        {
         "customdata": [
          [
           0,
           "コモンズ | nlogn | 距離 | 2回 | オープンデータ",
           1188
          ],
          [
           1,
           "バイ | 完全性 | 暗号について | en | 機密性",
           311
          ],
          [
           2,
           "計算 | アルゴリズム | コンピュータ | 問題 | コンピューターサイエンス",
           289
          ],
          [
           3,
           "符号語同士がs | 2k | ハミング距離 | 符号語同士が2t | 反転確率",
           258
          ],
          [
           4,
           "情報源符号化 | 情報源 | エントロピー | 語頭条件 | 最適符号",
           247
          ],
          [
           5,
           "離散時間フーリエ変換と離散フーリエ変換 | 離散時間システム | 離散時間フーリエ変換と離散フーリエ変換について | 離散時間フーリエ変換 | 離散時間システムについて",
           235
          ],
          [
           6,
           "情報 | 情報科学 | 文章 | 情報伝達の歴史 | 授業",
           234
          ],
          [
           7,
           "パターン認識 | ベクトル | 画像処理 | 似ている | 自然言語処理",
           218
          ],
          [
           8,
           "log2 | xy | 曖昧さ | 情報量 | pm",
           193
          ],
          [
           9,
           "z変換について | z変換の性質逆z変換 | z変換の性質と逆z変換 | z変換の導入 | z変換の性質と逆z変換のやり方",
           150
          ],
          [
           10,
           "知識マップの作成 | 知識マップの作製 | 知識マップ作成 | br | 知識マップについて",
           140
          ],
          [
           11,
           "相関 | ai | 負の相関 | 差がない | 正の相関",
           139
          ],
          [
           12,
           "nt | 離散時間信号z変換 | 離散時間信号とz変換 | ωt | hz",
           129
          ],
          [
           13,
           "ディジタル信号処理の概要 | 量子化 | 符号化 | アナログ信号 | 標本化",
           115
          ],
          [
           14,
           "非周期信号のフーリエ変換 | 非周期信号とフーリエ変換 | 周期信号のフーリエ級数表現 | フーリエ変換について | フーリエ変換",
           110
          ],
          [
           15,
           "弱いai | 人工知能 | 強いai | ai | 特化型ai",
           105
          ],
          [
           16,
           "高速フーリエ変換 | 高速フーリエ変換について | 高速フーリエ変換について学んだ | 高速フーリエ変換の仕組み | 高速フーリエ変換のやり方",
           98
          ],
          [
           17,
           "期末テスト | 確認テスト | テスト | テストでした | 期末試験",
           94
          ],
          [
           18,
           "著作権について | 財産権 | 著作権 | 70年間著作物を守る | 著作権に関する様々なこと",
           62
          ],
          [
           19,
           "フーリエ級数からフーリエ変換への拡張 | フーリエ級数 | 最大公約数を表す | フーリエ級数複素フーリエ級数の求め方 | フーリエ級数展開",
           59
          ],
          [
           20,
           "離散フーリエ変換 | フーリエ変換 | 離散フーリエ変換について | フーリエ変換の説明 | フーリエ変換の復習",
           53
          ],
          [
           21,
           "brーmapを用いて振り返りを行った | 第七回の大まかな復讐 | まとめを行うことで後半内容の復習等ができた | 今日の内容は身近に感じられた | シンプルな内容でわかりやすかった",
           47
          ],
          [
           22,
           "エッジ抽出 | エッジ | 文字 | と白 | 帰無仮説",
           46
          ],
          [
           23,
           "マージソートと二分探索法について | 二分探索法 | 今回の授業ではヒープソートとマージソートについて学習した | マージソートと二分探索法 | 2分探索について",
           44
          ],
          [
           24,
           "改竄 | 捏造 | 研究における中立や客観性研究不正となる行為共同研究において必要な倫理観利益相反九大における情報倫理規定セキュリティーの存在や内容の理解 | 研究者の立場として中立的 | 研究倫理とはどういったものか守ることの重要性守らないとどうなるか",
           41
          ],
          [
           25,
           "ガイダンス | ソートの大まかな概要 | オリエンテーション | イントロダクション | ガイダンスを受けた",
           33
          ],
          [
           26,
           "授業の進め方の説明 | 授業が終わったらその回の日誌ノート要点整理を作成して投稿するまた演習課題も実施して提出する | 授業当日にはその日の範囲の内容の説明と課題の指示がなされるのでしっかりと理解しメモを取っておく内容の説明を聞きながらbookroll上でキーワードにマーカーを引くわかった | 黄色moodleを利用してログインするその後黄色moodle内のリンクから青色moodleに移動しteamsによるオンライン授業への接続を行う水色moodle内のbookrollを併用して講義を受講しノートを作成する講義が終了したら水色moodle内の振り返り日誌そして黄色moodle内の学習状況アンケートを記入する次回の講義までに講義内で指示された演習を解き作成したノートと演習をそれぞれの提出先に提出するさらにbookrollを用いて次回の授業の予習をする | 講義中に必要な事柄に対しては適時ラインを引きメモをするということ",
           31
          ],
          [
           27,
           "2fm | 連続信号の標本化の精度に関わる標本化定理やナイキスト周波数などについての内容 | とインパルス列の積として表現できる | fs | つまりは標本化定理の周辺知識",
           31
          ],
          [
           28,
           "回帰 | 相関 | 時系列 | 検定 | 検定回帰",
           30
          ],
          [
           29,
           "フーリエ級数について学んだ | これからの授業で何を学ぶかや計算とは何かについて例を用いて学んだ | 高校の数学でもかじった相関について学んだ | フーリエ級数は以前一度習ったが忘れていた | ヒープソートやマージソートなどの計算方法と比較回数の上限について学んだ",
           30
          ],
          [
           30,
           "フーリエ級数表現 | sincos | 周期的な信号はフーリエ級数によって表現できるつまりいろいろな正弦波の足し合わせで表現できるのであるフーリエ級数はオイラーの公式を用いて複素フーリエ級数に変換できる複素フーリエ級数の方がフーリエ級数よりも簡潔に表現できる | 複素フーリエ級数とフーリエ級数はオイラーの公式を用いて互いに変形できる | 波を三角関数や指数関数の重なりで表す方法",
           30
          ],
          [
           31,
           "firの設計には窓関数が用いられる手順は次のとおりである①所望の振幅特性を求める②インパルス応答を求める③窓関数を掛け合わせて有限個のインパルス応答を取り出す④因果性を満たすようにする⑤h | フィルタの次数が大きいほど望む周波数特性に近づくが演算量が増えるという欠点もある | 通過域 | 窓関数を工夫することで理想に近づける | 理想的なフィルタは実現が難しい",
           29
          ],
          [
           32,
           "離散フーリエ変換の性質について学んだ | 離散フーリエ変換について学んだ | フーリエ変換の性質などを学習したりした | フーリエ変換の性質を学んだ | 訂正における考え方を学んだ",
           29
          ],
          [
           33,
           "標本化について | 標本化 | 標本化定理 | サンプリングと標本化定理について | 標本化と標本化定理について",
           28
          ],
          [
           34,
           "ディジタルフィルタの設計 | ディジタルフィルタ設計の考え方 | firフィルタは窓関数法で設計できる | フィルターの作成手法 | フィルタの設計やiirフィルタfirフィルタのメリットデメリット",
           26
          ],
          [
           35,
           "インパルス応答 | 差分方程式 | インパルス応答伝達関数とその計算の手法 | インパルス応答伝達関数などについて | 差分方程式について学んだ",
           26
          ],
          [
           36,
           "を次で定める | 2進数を使って情報源を符号化する際に必要な条件について | 今回の講義では前回に学んだ情報の符号化について | 最適な符号を生成するために必要なこと | 情報源符号化とその目的について学習しましたまた一意復号可能や語頭符号について学習しました加えてエントロピーや情報源符号化定理について学習しました",
           26
          ],
          [
           37,
           "可視化の種類 | 可視化について | 可視化とその手法 | 可視化とは何かやいろいろな可視化手法について学んだ | 可視化とは何か",
           24
          ],
          [
           38,
           "研究倫理情報倫理について | 研究における不正や情報の倫理 | 研究における倫理と情報の扱い | 研究倫理と研究者が良識を持って遵守すべき規範 | 研究倫理と情報倫理について学んだ研究はガイドラインや規則に従って誠実に行わないといけない情報倫理は情報を用いた社会形成に必要とされる一般的な行動規範のことである",
           21
          ],
          [
           39,
           "画像について | 相関について | 相関 | 画像のエッジに関して | 相関統計的検定について学習した",
           20
          ],
          [
           40,
           "逆z変換 | 逆z変換について | 逆z変換を解く | 逆z変換の求め方に関しての講義 | 逆z変換の求め方",
           19
          ],
          [
           41,
           "ディジタルフィルタの概要を学んだ | ディジタルフィルタの種類やその設計方法について学んだ | 本日はディジタルフィルタについて学んだまたflrフィルタの場合での設計がどのような手順で行われるか学ぶことが重要である | 多様な種類のフィルタについてとフィルタを設計する際に用いる窓関数について学習した | 今日はディジタルフィルタの設計についてだったディジタルフィルタの種類を学んだりその設計の手順をやったりした",
           17
          ],
          [
           42,
           "授業のガイダンス | ictの進んだ現代において増加しているセキュリティインシデントとその対策 | ガイダンス授業の進め方 | 講義のガイダンス使用するツール類の説明と試用 | 最初のガイダンス課題として何をすればいいのか授業で何をしていくのかの説明",
           17
          ],
          [
           43,
           "線形不変システムにインパルス関数を加えたものがインパルス応答となる | 線形時不変システムの数学的な表現方法について学んだ | 線形時不変システムの出力は差分方程式で表現されそこから伝達関数の形を考えることができる | 線形時不変システムの入出力 | 線形時不変システムにインパルス関数を加えた出力インパルス応答がわかると他の信号の場合の出力を求められる",
           16
          ],
          [
           44,
           "標本化定理について学習した | また標本化定理の意味についても学習した | 標本化定理の説明とその条件について学んだ | 標本化定理の条件について学んだ | 標本化定理の導出使い方原理について学んだ",
           14
          ],
          [
           45,
           "ヒープソートとマージソートについて | ソートまとめ | マージソートの概要具体例の説明 | ヒープソートマージソートについて知る | ヒープソートマージソートについて",
           13
          ],
          [
           46,
           "周波数特性は振幅と位相の2種類を2種類を表す因果性と安定性をみたすシステムは全ての極が単位円内にそんざいしなければならない | 周波数特性とは入力信号がシステムによって受ける変化を表しておりシステム関数の大きさと偏角を合わせたものである | 安定性零点極 | システム関数や周波数特性安定なシステムについて | システム関数や周波数特性について",
           12
          ],
          [
           47,
           "非周期関数まで含めた一般的なフーリエ変換とその性質について | 非周期関数のフーリエ級数からフーリエ変換を学んだ | 非周期関数に適用 | 非周期関数に対するフーリエ変換について学んだ | 非周期関数にもフーリエ変換を用いることができることを学び代表的なフーリエ変換の例を覚えた",
           12
          ],
          [
           48,
           "ディジタルフィルタについて | ディジタルフィルタ | フィルタ | フィルタの説明 | フィルタの話題",
           12
          ],
          [
           49,
           "マージソートと2分探索法 | ヒープソートアルゴリズムとマージソートアルゴリズムについて | 二分探索の概要 | マージソート比較ソートアルゴリズム2分探索アルゴリズム | マージソートのアルゴリズム",
           11
          ]
         ],
         "hovertemplate": "<b>Topic %{customdata[0]}</b><br>%{customdata[1]}<br>Size: %{customdata[2]}",
         "legendgroup": "",
         "marker": {
          "color": "#B0BEC5",
          "line": {
           "color": "DarkSlateGrey",
           "width": 2
          },
          "size": [
           1188,
           311,
           289,
           258,
           247,
           235,
           234,
           218,
           193,
           150,
           140,
           139,
           129,
           115,
           110,
           105,
           98,
           94,
           62,
           59,
           53,
           47,
           46,
           44,
           41,
           33,
           31,
           31,
           30,
           30,
           30,
           29,
           29,
           28,
           26,
           26,
           26,
           24,
           21,
           20,
           19,
           17,
           17,
           16,
           14,
           13,
           12,
           12,
           12,
           11
          ],
          "sizemode": "area",
          "sizeref": 0.7425,
          "symbol": "circle"
         },
         "mode": "markers",
         "name": "",
         "orientation": "v",
         "showlegend": false,
         "type": "scatter",
         "x": [
          9.558300018310547,
          4.5403547286987305,
          9.072103500366211,
          21.128742218017578,
          21.317981719970703,
          8.593719482421875,
          -12.388798713684082,
          9.82742977142334,
          9.695880889892578,
          5.764871597290039,
          -12.471019744873047,
          9.317888259887695,
          8.636763572692871,
          7.812187671661377,
          8.415153503417969,
          8.998785018920898,
          8.712904930114746,
          -6.654509544372559,
          4.600528240203857,
          0.6077700257301331,
          5.480253219604492,
          -6.715799331665039,
          -1.631734848022461,
          9.22022819519043,
          4.497375011444092,
          -7.109630584716797,
          -12.088808059692383,
          7.816225051879883,
          9.278494834899902,
          0.607799768447876,
          8.279288291931152,
          8.414665222167969,
          5.427481651306152,
          7.57637882232666,
          -0.661441445350647,
          13.15864372253418,
          21.422258377075195,
          -1.3478442430496216,
          4.735067844390869,
          -1.5710391998291016,
          5.621610641479492,
          -0.661516547203064,
          -12.001326560974121,
          13.158624649047852,
          7.600255966186523,
          -7.16241455078125,
          8.00925064086914,
          8.626195907592773,
          -7.2241973876953125,
          9.08889102935791
         ],
         "xaxis": "x",
         "y": [
          19.856706619262695,
          -10.953717231750488,
          4.772167682647705,
          6.258890628814697,
          6.069700717926025,
          -5.632328033447266,
          4.922472953796387,
          20.13623809814453,
          20.000234603881836,
          8.643509864807129,
          4.839926719665527,
          19.57913589477539,
          -5.745474815368652,
          0.5611487030982971,
          -6.373432159423828,
          4.844023704528809,
          -6.653890609741211,
          0.4163208305835724,
          -11.015850067138672,
          8.346951484680176,
          8.93001651763916,
          0.3659572899341583,
          10.514887809753418,
          4.626226425170898,
          -10.912093162536621,
          0.3791595995426178,
          5.221201419830322,
          0.563875675201416,
          19.53324317932129,
          8.34698486328125,
          -6.272119522094727,
          -6.314961910247803,
          8.982643127441406,
          22.38338279724121,
          4.3058576583862305,
          1.6830912828445435,
          5.964818477630615,
          10.230693817138672,
          -11.150364875793457,
          10.454192161560059,
          8.787458419799805,
          4.305750370025635,
          5.307953834533691,
          1.6831178665161133,
          22.359615325927734,
          0.3547995686531067,
          -6.4635138511657715,
          -6.591274738311768,
          0.4827392101287842,
          4.756814956665039
         ],
         "yaxis": "y"
        }
       ],
       "layout": {
        "annotations": [
         {
          "showarrow": false,
          "text": "D1",
          "x": -14.341672706604005,
          "y": 6.458985304832458,
          "yshift": 10
         },
         {
          "showarrow": false,
          "text": "D2",
          "x": 5.146962213516234,
          "xshift": 10,
          "y": 25.740890216827392
         }
        ],
        "height": 650,
        "hoverlabel": {
         "bgcolor": "white",
         "font": {
          "family": "Rockwell",
          "size": 16
         }
        },
        "legend": {
         "itemsizing": "constant",
         "tracegroupgap": 0
        },
        "margin": {
         "t": 60
        },
        "shapes": [
         {
          "line": {
           "color": "#CFD8DC",
           "width": 2
          },
          "type": "line",
          "x0": 5.146962213516234,
          "x1": 5.146962213516234,
          "y0": -12.822919607162476,
          "y1": 25.740890216827392
         },
         {
          "line": {
           "color": "#9E9E9E",
           "width": 2
          },
          "type": "line",
          "x0": -14.341672706604005,
          "x1": 24.635597133636473,
          "y0": 6.458985304832458,
          "y1": 6.458985304832458
         }
        ],
        "sliders": [
         {
          "active": 0,
          "pad": {
           "t": 50
          },
          "steps": [
           {
            "args": [
             {
              "marker.color": [
               [
                "red",
                "#B0BEC5",
                "#B0BEC5",
                "#B0BEC5",
                "#B0BEC5",
                "#B0BEC5",
                "#B0BEC5",
                "#B0BEC5",
                "#B0BEC5",
                "#B0BEC5",
                "#B0BEC5",
                "#B0BEC5",
                "#B0BEC5",
                "#B0BEC5",
                "#B0BEC5",
                "#B0BEC5",
                "#B0BEC5",
                "#B0BEC5",
                "#B0BEC5",
                "#B0BEC5",
                "#B0BEC5",
                "#B0BEC5",
                "#B0BEC5",
                "#B0BEC5",
                "#B0BEC5",
                "#B0BEC5",
                "#B0BEC5",
                "#B0BEC5",
                "#B0BEC5",
                "#B0BEC5",
                "#B0BEC5",
                "#B0BEC5",
                "#B0BEC5",
                "#B0BEC5",
                "#B0BEC5",
                "#B0BEC5",
                "#B0BEC5",
                "#B0BEC5",
                "#B0BEC5",
                "#B0BEC5",
                "#B0BEC5",
                "#B0BEC5",
                "#B0BEC5",
                "#B0BEC5",
                "#B0BEC5",
                "#B0BEC5",
                "#B0BEC5",
                "#B0BEC5",
                "#B0BEC5",
                "#B0BEC5"
               ]
              ]
             }
            ],
            "label": "Topic 0",
            "method": "update"
           },
           {
            "args": [
             {
              "marker.color": [
               [
                "#B0BEC5",
                "red",
                "#B0BEC5",
                "#B0BEC5",
                "#B0BEC5",
                "#B0BEC5",
                "#B0BEC5",
                "#B0BEC5",
                "#B0BEC5",
                "#B0BEC5",
                "#B0BEC5",
                "#B0BEC5",
                "#B0BEC5",
                "#B0BEC5",
                "#B0BEC5",
                "#B0BEC5",
                "#B0BEC5",
                "#B0BEC5",
                "#B0BEC5",
                "#B0BEC5",
                "#B0BEC5",
                "#B0BEC5",
                "#B0BEC5",
                "#B0BEC5",
                "#B0BEC5",
                "#B0BEC5",
                "#B0BEC5",
                "#B0BEC5",
                "#B0BEC5",
                "#B0BEC5",
                "#B0BEC5",
                "#B0BEC5",
                "#B0BEC5",
                "#B0BEC5",
                "#B0BEC5",
                "#B0BEC5",
                "#B0BEC5",
                "#B0BEC5",
                "#B0BEC5",
                "#B0BEC5",
                "#B0BEC5",
                "#B0BEC5",
                "#B0BEC5",
                "#B0BEC5",
                "#B0BEC5",
                "#B0BEC5",
                "#B0BEC5",
                "#B0BEC5",
                "#B0BEC5",
                "#B0BEC5"
               ]
              ]
             }
            ],
            "label": "Topic 1",
            "method": "update"
           },
           {
            "args": [
             {
              "marker.color": [
               [
                "#B0BEC5",
                "#B0BEC5",
                "red",
                "#B0BEC5",
                "#B0BEC5",
                "#B0BEC5",
                "#B0BEC5",
                "#B0BEC5",
                "#B0BEC5",
                "#B0BEC5",
                "#B0BEC5",
                "#B0BEC5",
                "#B0BEC5",
                "#B0BEC5",
                "#B0BEC5",
                "#B0BEC5",
                "#B0BEC5",
                "#B0BEC5",
                "#B0BEC5",
                "#B0BEC5",
                "#B0BEC5",
                "#B0BEC5",
                "#B0BEC5",
                "#B0BEC5",
                "#B0BEC5",
                "#B0BEC5",
                "#B0BEC5",
                "#B0BEC5",
                "#B0BEC5",
                "#B0BEC5",
                "#B0BEC5",
                "#B0BEC5",
                "#B0BEC5",
                "#B0BEC5",
                "#B0BEC5",
                "#B0BEC5",
                "#B0BEC5",
                "#B0BEC5",
                "#B0BEC5",
                "#B0BEC5",
                "#B0BEC5",
                "#B0BEC5",
                "#B0BEC5",
                "#B0BEC5",
                "#B0BEC5",
                "#B0BEC5",
                "#B0BEC5",
                "#B0BEC5",
                "#B0BEC5",
                "#B0BEC5"
               ]
              ]
             }
            ],
            "label": "Topic 2",
            "method": "update"
           },
           {
            "args": [
             {
              "marker.color": [
               [
                "#B0BEC5",
                "#B0BEC5",
                "#B0BEC5",
                "red",
                "#B0BEC5",
                "#B0BEC5",
                "#B0BEC5",
                "#B0BEC5",
                "#B0BEC5",
                "#B0BEC5",
                "#B0BEC5",
                "#B0BEC5",
                "#B0BEC5",
                "#B0BEC5",
                "#B0BEC5",
                "#B0BEC5",
                "#B0BEC5",
                "#B0BEC5",
                "#B0BEC5",
                "#B0BEC5",
                "#B0BEC5",
                "#B0BEC5",
                "#B0BEC5",
                "#B0BEC5",
                "#B0BEC5",
                "#B0BEC5",
                "#B0BEC5",
                "#B0BEC5",
                "#B0BEC5",
                "#B0BEC5",
                "#B0BEC5",
                "#B0BEC5",
                "#B0BEC5",
                "#B0BEC5",
                "#B0BEC5",
                "#B0BEC5",
                "#B0BEC5",
                "#B0BEC5",
                "#B0BEC5",
                "#B0BEC5",
                "#B0BEC5",
                "#B0BEC5",
                "#B0BEC5",
                "#B0BEC5",
                "#B0BEC5",
                "#B0BEC5",
                "#B0BEC5",
                "#B0BEC5",
                "#B0BEC5",
                "#B0BEC5"
               ]
              ]
             }
            ],
            "label": "Topic 3",
            "method": "update"
           },
           {
            "args": [
             {
              "marker.color": [
               [
                "#B0BEC5",
                "#B0BEC5",
                "#B0BEC5",
                "#B0BEC5",
                "red",
                "#B0BEC5",
                "#B0BEC5",
                "#B0BEC5",
                "#B0BEC5",
                "#B0BEC5",
                "#B0BEC5",
                "#B0BEC5",
                "#B0BEC5",
                "#B0BEC5",
                "#B0BEC5",
                "#B0BEC5",
                "#B0BEC5",
                "#B0BEC5",
                "#B0BEC5",
                "#B0BEC5",
                "#B0BEC5",
                "#B0BEC5",
                "#B0BEC5",
                "#B0BEC5",
                "#B0BEC5",
                "#B0BEC5",
                "#B0BEC5",
                "#B0BEC5",
                "#B0BEC5",
                "#B0BEC5",
                "#B0BEC5",
                "#B0BEC5",
                "#B0BEC5",
                "#B0BEC5",
                "#B0BEC5",
                "#B0BEC5",
                "#B0BEC5",
                "#B0BEC5",
                "#B0BEC5",
                "#B0BEC5",
                "#B0BEC5",
                "#B0BEC5",
                "#B0BEC5",
                "#B0BEC5",
                "#B0BEC5",
                "#B0BEC5",
                "#B0BEC5",
                "#B0BEC5",
                "#B0BEC5",
                "#B0BEC5"
               ]
              ]
             }
            ],
            "label": "Topic 4",
            "method": "update"
           },
           {
            "args": [
             {
              "marker.color": [
               [
                "#B0BEC5",
                "#B0BEC5",
                "#B0BEC5",
                "#B0BEC5",
                "#B0BEC5",
                "red",
                "#B0BEC5",
                "#B0BEC5",
                "#B0BEC5",
                "#B0BEC5",
                "#B0BEC5",
                "#B0BEC5",
                "#B0BEC5",
                "#B0BEC5",
                "#B0BEC5",
                "#B0BEC5",
                "#B0BEC5",
                "#B0BEC5",
                "#B0BEC5",
                "#B0BEC5",
                "#B0BEC5",
                "#B0BEC5",
                "#B0BEC5",
                "#B0BEC5",
                "#B0BEC5",
                "#B0BEC5",
                "#B0BEC5",
                "#B0BEC5",
                "#B0BEC5",
                "#B0BEC5",
                "#B0BEC5",
                "#B0BEC5",
                "#B0BEC5",
                "#B0BEC5",
                "#B0BEC5",
                "#B0BEC5",
                "#B0BEC5",
                "#B0BEC5",
                "#B0BEC5",
                "#B0BEC5",
                "#B0BEC5",
                "#B0BEC5",
                "#B0BEC5",
                "#B0BEC5",
                "#B0BEC5",
                "#B0BEC5",
                "#B0BEC5",
                "#B0BEC5",
                "#B0BEC5",
                "#B0BEC5"
               ]
              ]
             }
            ],
            "label": "Topic 5",
            "method": "update"
           },
           {
            "args": [
             {
              "marker.color": [
               [
                "#B0BEC5",
                "#B0BEC5",
                "#B0BEC5",
                "#B0BEC5",
                "#B0BEC5",
                "#B0BEC5",
                "red",
                "#B0BEC5",
                "#B0BEC5",
                "#B0BEC5",
                "#B0BEC5",
                "#B0BEC5",
                "#B0BEC5",
                "#B0BEC5",
                "#B0BEC5",
                "#B0BEC5",
                "#B0BEC5",
                "#B0BEC5",
                "#B0BEC5",
                "#B0BEC5",
                "#B0BEC5",
                "#B0BEC5",
                "#B0BEC5",
                "#B0BEC5",
                "#B0BEC5",
                "#B0BEC5",
                "#B0BEC5",
                "#B0BEC5",
                "#B0BEC5",
                "#B0BEC5",
                "#B0BEC5",
                "#B0BEC5",
                "#B0BEC5",
                "#B0BEC5",
                "#B0BEC5",
                "#B0BEC5",
                "#B0BEC5",
                "#B0BEC5",
                "#B0BEC5",
                "#B0BEC5",
                "#B0BEC5",
                "#B0BEC5",
                "#B0BEC5",
                "#B0BEC5",
                "#B0BEC5",
                "#B0BEC5",
                "#B0BEC5",
                "#B0BEC5",
                "#B0BEC5",
                "#B0BEC5"
               ]
              ]
             }
            ],
            "label": "Topic 6",
            "method": "update"
           },
           {
            "args": [
             {
              "marker.color": [
               [
                "#B0BEC5",
                "#B0BEC5",
                "#B0BEC5",
                "#B0BEC5",
                "#B0BEC5",
                "#B0BEC5",
                "#B0BEC5",
                "red",
                "#B0BEC5",
                "#B0BEC5",
                "#B0BEC5",
                "#B0BEC5",
                "#B0BEC5",
                "#B0BEC5",
                "#B0BEC5",
                "#B0BEC5",
                "#B0BEC5",
                "#B0BEC5",
                "#B0BEC5",
                "#B0BEC5",
                "#B0BEC5",
                "#B0BEC5",
                "#B0BEC5",
                "#B0BEC5",
                "#B0BEC5",
                "#B0BEC5",
                "#B0BEC5",
                "#B0BEC5",
                "#B0BEC5",
                "#B0BEC5",
                "#B0BEC5",
                "#B0BEC5",
                "#B0BEC5",
                "#B0BEC5",
                "#B0BEC5",
                "#B0BEC5",
                "#B0BEC5",
                "#B0BEC5",
                "#B0BEC5",
                "#B0BEC5",
                "#B0BEC5",
                "#B0BEC5",
                "#B0BEC5",
                "#B0BEC5",
                "#B0BEC5",
                "#B0BEC5",
                "#B0BEC5",
                "#B0BEC5",
                "#B0BEC5",
                "#B0BEC5"
               ]
              ]
             }
            ],
            "label": "Topic 7",
            "method": "update"
           },
           {
            "args": [
             {
              "marker.color": [
               [
                "#B0BEC5",
                "#B0BEC5",
                "#B0BEC5",
                "#B0BEC5",
                "#B0BEC5",
                "#B0BEC5",
                "#B0BEC5",
                "#B0BEC5",
                "red",
                "#B0BEC5",
                "#B0BEC5",
                "#B0BEC5",
                "#B0BEC5",
                "#B0BEC5",
                "#B0BEC5",
                "#B0BEC5",
                "#B0BEC5",
                "#B0BEC5",
                "#B0BEC5",
                "#B0BEC5",
                "#B0BEC5",
                "#B0BEC5",
                "#B0BEC5",
                "#B0BEC5",
                "#B0BEC5",
                "#B0BEC5",
                "#B0BEC5",
                "#B0BEC5",
                "#B0BEC5",
                "#B0BEC5",
                "#B0BEC5",
                "#B0BEC5",
                "#B0BEC5",
                "#B0BEC5",
                "#B0BEC5",
                "#B0BEC5",
                "#B0BEC5",
                "#B0BEC5",
                "#B0BEC5",
                "#B0BEC5",
                "#B0BEC5",
                "#B0BEC5",
                "#B0BEC5",
                "#B0BEC5",
                "#B0BEC5",
                "#B0BEC5",
                "#B0BEC5",
                "#B0BEC5",
                "#B0BEC5",
                "#B0BEC5"
               ]
              ]
             }
            ],
            "label": "Topic 8",
            "method": "update"
           },
           {
            "args": [
             {
              "marker.color": [
               [
                "#B0BEC5",
                "#B0BEC5",
                "#B0BEC5",
                "#B0BEC5",
                "#B0BEC5",
                "#B0BEC5",
                "#B0BEC5",
                "#B0BEC5",
                "#B0BEC5",
                "red",
                "#B0BEC5",
                "#B0BEC5",
                "#B0BEC5",
                "#B0BEC5",
                "#B0BEC5",
                "#B0BEC5",
                "#B0BEC5",
                "#B0BEC5",
                "#B0BEC5",
                "#B0BEC5",
                "#B0BEC5",
                "#B0BEC5",
                "#B0BEC5",
                "#B0BEC5",
                "#B0BEC5",
                "#B0BEC5",
                "#B0BEC5",
                "#B0BEC5",
                "#B0BEC5",
                "#B0BEC5",
                "#B0BEC5",
                "#B0BEC5",
                "#B0BEC5",
                "#B0BEC5",
                "#B0BEC5",
                "#B0BEC5",
                "#B0BEC5",
                "#B0BEC5",
                "#B0BEC5",
                "#B0BEC5",
                "#B0BEC5",
                "#B0BEC5",
                "#B0BEC5",
                "#B0BEC5",
                "#B0BEC5",
                "#B0BEC5",
                "#B0BEC5",
                "#B0BEC5",
                "#B0BEC5",
                "#B0BEC5"
               ]
              ]
             }
            ],
            "label": "Topic 9",
            "method": "update"
           },
           {
            "args": [
             {
              "marker.color": [
               [
                "#B0BEC5",
                "#B0BEC5",
                "#B0BEC5",
                "#B0BEC5",
                "#B0BEC5",
                "#B0BEC5",
                "#B0BEC5",
                "#B0BEC5",
                "#B0BEC5",
                "#B0BEC5",
                "red",
                "#B0BEC5",
                "#B0BEC5",
                "#B0BEC5",
                "#B0BEC5",
                "#B0BEC5",
                "#B0BEC5",
                "#B0BEC5",
                "#B0BEC5",
                "#B0BEC5",
                "#B0BEC5",
                "#B0BEC5",
                "#B0BEC5",
                "#B0BEC5",
                "#B0BEC5",
                "#B0BEC5",
                "#B0BEC5",
                "#B0BEC5",
                "#B0BEC5",
                "#B0BEC5",
                "#B0BEC5",
                "#B0BEC5",
                "#B0BEC5",
                "#B0BEC5",
                "#B0BEC5",
                "#B0BEC5",
                "#B0BEC5",
                "#B0BEC5",
                "#B0BEC5",
                "#B0BEC5",
                "#B0BEC5",
                "#B0BEC5",
                "#B0BEC5",
                "#B0BEC5",
                "#B0BEC5",
                "#B0BEC5",
                "#B0BEC5",
                "#B0BEC5",
                "#B0BEC5",
                "#B0BEC5"
               ]
              ]
             }
            ],
            "label": "Topic 10",
            "method": "update"
           },
           {
            "args": [
             {
              "marker.color": [
               [
                "#B0BEC5",
                "#B0BEC5",
                "#B0BEC5",
                "#B0BEC5",
                "#B0BEC5",
                "#B0BEC5",
                "#B0BEC5",
                "#B0BEC5",
                "#B0BEC5",
                "#B0BEC5",
                "#B0BEC5",
                "red",
                "#B0BEC5",
                "#B0BEC5",
                "#B0BEC5",
                "#B0BEC5",
                "#B0BEC5",
                "#B0BEC5",
                "#B0BEC5",
                "#B0BEC5",
                "#B0BEC5",
                "#B0BEC5",
                "#B0BEC5",
                "#B0BEC5",
                "#B0BEC5",
                "#B0BEC5",
                "#B0BEC5",
                "#B0BEC5",
                "#B0BEC5",
                "#B0BEC5",
                "#B0BEC5",
                "#B0BEC5",
                "#B0BEC5",
                "#B0BEC5",
                "#B0BEC5",
                "#B0BEC5",
                "#B0BEC5",
                "#B0BEC5",
                "#B0BEC5",
                "#B0BEC5",
                "#B0BEC5",
                "#B0BEC5",
                "#B0BEC5",
                "#B0BEC5",
                "#B0BEC5",
                "#B0BEC5",
                "#B0BEC5",
                "#B0BEC5",
                "#B0BEC5",
                "#B0BEC5"
               ]
              ]
             }
            ],
            "label": "Topic 11",
            "method": "update"
           },
           {
            "args": [
             {
              "marker.color": [
               [
                "#B0BEC5",
                "#B0BEC5",
                "#B0BEC5",
                "#B0BEC5",
                "#B0BEC5",
                "#B0BEC5",
                "#B0BEC5",
                "#B0BEC5",
                "#B0BEC5",
                "#B0BEC5",
                "#B0BEC5",
                "#B0BEC5",
                "red",
                "#B0BEC5",
                "#B0BEC5",
                "#B0BEC5",
                "#B0BEC5",
                "#B0BEC5",
                "#B0BEC5",
                "#B0BEC5",
                "#B0BEC5",
                "#B0BEC5",
                "#B0BEC5",
                "#B0BEC5",
                "#B0BEC5",
                "#B0BEC5",
                "#B0BEC5",
                "#B0BEC5",
                "#B0BEC5",
                "#B0BEC5",
                "#B0BEC5",
                "#B0BEC5",
                "#B0BEC5",
                "#B0BEC5",
                "#B0BEC5",
                "#B0BEC5",
                "#B0BEC5",
                "#B0BEC5",
                "#B0BEC5",
                "#B0BEC5",
                "#B0BEC5",
                "#B0BEC5",
                "#B0BEC5",
                "#B0BEC5",
                "#B0BEC5",
                "#B0BEC5",
                "#B0BEC5",
                "#B0BEC5",
                "#B0BEC5",
                "#B0BEC5"
               ]
              ]
             }
            ],
            "label": "Topic 12",
            "method": "update"
           },
           {
            "args": [
             {
              "marker.color": [
               [
                "#B0BEC5",
                "#B0BEC5",
                "#B0BEC5",
                "#B0BEC5",
                "#B0BEC5",
                "#B0BEC5",
                "#B0BEC5",
                "#B0BEC5",
                "#B0BEC5",
                "#B0BEC5",
                "#B0BEC5",
                "#B0BEC5",
                "#B0BEC5",
                "red",
                "#B0BEC5",
                "#B0BEC5",
                "#B0BEC5",
                "#B0BEC5",
                "#B0BEC5",
                "#B0BEC5",
                "#B0BEC5",
                "#B0BEC5",
                "#B0BEC5",
                "#B0BEC5",
                "#B0BEC5",
                "#B0BEC5",
                "#B0BEC5",
                "#B0BEC5",
                "#B0BEC5",
                "#B0BEC5",
                "#B0BEC5",
                "#B0BEC5",
                "#B0BEC5",
                "#B0BEC5",
                "#B0BEC5",
                "#B0BEC5",
                "#B0BEC5",
                "#B0BEC5",
                "#B0BEC5",
                "#B0BEC5",
                "#B0BEC5",
                "#B0BEC5",
                "#B0BEC5",
                "#B0BEC5",
                "#B0BEC5",
                "#B0BEC5",
                "#B0BEC5",
                "#B0BEC5",
                "#B0BEC5",
                "#B0BEC5"
               ]
              ]
             }
            ],
            "label": "Topic 13",
            "method": "update"
           },
           {
            "args": [
             {
              "marker.color": [
               [
                "#B0BEC5",
                "#B0BEC5",
                "#B0BEC5",
                "#B0BEC5",
                "#B0BEC5",
                "#B0BEC5",
                "#B0BEC5",
                "#B0BEC5",
                "#B0BEC5",
                "#B0BEC5",
                "#B0BEC5",
                "#B0BEC5",
                "#B0BEC5",
                "#B0BEC5",
                "red",
                "#B0BEC5",
                "#B0BEC5",
                "#B0BEC5",
                "#B0BEC5",
                "#B0BEC5",
                "#B0BEC5",
                "#B0BEC5",
                "#B0BEC5",
                "#B0BEC5",
                "#B0BEC5",
                "#B0BEC5",
                "#B0BEC5",
                "#B0BEC5",
                "#B0BEC5",
                "#B0BEC5",
                "#B0BEC5",
                "#B0BEC5",
                "#B0BEC5",
                "#B0BEC5",
                "#B0BEC5",
                "#B0BEC5",
                "#B0BEC5",
                "#B0BEC5",
                "#B0BEC5",
                "#B0BEC5",
                "#B0BEC5",
                "#B0BEC5",
                "#B0BEC5",
                "#B0BEC5",
                "#B0BEC5",
                "#B0BEC5",
                "#B0BEC5",
                "#B0BEC5",
                "#B0BEC5",
                "#B0BEC5"
               ]
              ]
             }
            ],
            "label": "Topic 14",
            "method": "update"
           },
           {
            "args": [
             {
              "marker.color": [
               [
                "#B0BEC5",
                "#B0BEC5",
                "#B0BEC5",
                "#B0BEC5",
                "#B0BEC5",
                "#B0BEC5",
                "#B0BEC5",
                "#B0BEC5",
                "#B0BEC5",
                "#B0BEC5",
                "#B0BEC5",
                "#B0BEC5",
                "#B0BEC5",
                "#B0BEC5",
                "#B0BEC5",
                "red",
                "#B0BEC5",
                "#B0BEC5",
                "#B0BEC5",
                "#B0BEC5",
                "#B0BEC5",
                "#B0BEC5",
                "#B0BEC5",
                "#B0BEC5",
                "#B0BEC5",
                "#B0BEC5",
                "#B0BEC5",
                "#B0BEC5",
                "#B0BEC5",
                "#B0BEC5",
                "#B0BEC5",
                "#B0BEC5",
                "#B0BEC5",
                "#B0BEC5",
                "#B0BEC5",
                "#B0BEC5",
                "#B0BEC5",
                "#B0BEC5",
                "#B0BEC5",
                "#B0BEC5",
                "#B0BEC5",
                "#B0BEC5",
                "#B0BEC5",
                "#B0BEC5",
                "#B0BEC5",
                "#B0BEC5",
                "#B0BEC5",
                "#B0BEC5",
                "#B0BEC5",
                "#B0BEC5"
               ]
              ]
             }
            ],
            "label": "Topic 15",
            "method": "update"
           },
           {
            "args": [
             {
              "marker.color": [
               [
                "#B0BEC5",
                "#B0BEC5",
                "#B0BEC5",
                "#B0BEC5",
                "#B0BEC5",
                "#B0BEC5",
                "#B0BEC5",
                "#B0BEC5",
                "#B0BEC5",
                "#B0BEC5",
                "#B0BEC5",
                "#B0BEC5",
                "#B0BEC5",
                "#B0BEC5",
                "#B0BEC5",
                "#B0BEC5",
                "red",
                "#B0BEC5",
                "#B0BEC5",
                "#B0BEC5",
                "#B0BEC5",
                "#B0BEC5",
                "#B0BEC5",
                "#B0BEC5",
                "#B0BEC5",
                "#B0BEC5",
                "#B0BEC5",
                "#B0BEC5",
                "#B0BEC5",
                "#B0BEC5",
                "#B0BEC5",
                "#B0BEC5",
                "#B0BEC5",
                "#B0BEC5",
                "#B0BEC5",
                "#B0BEC5",
                "#B0BEC5",
                "#B0BEC5",
                "#B0BEC5",
                "#B0BEC5",
                "#B0BEC5",
                "#B0BEC5",
                "#B0BEC5",
                "#B0BEC5",
                "#B0BEC5",
                "#B0BEC5",
                "#B0BEC5",
                "#B0BEC5",
                "#B0BEC5",
                "#B0BEC5"
               ]
              ]
             }
            ],
            "label": "Topic 16",
            "method": "update"
           },
           {
            "args": [
             {
              "marker.color": [
               [
                "#B0BEC5",
                "#B0BEC5",
                "#B0BEC5",
                "#B0BEC5",
                "#B0BEC5",
                "#B0BEC5",
                "#B0BEC5",
                "#B0BEC5",
                "#B0BEC5",
                "#B0BEC5",
                "#B0BEC5",
                "#B0BEC5",
                "#B0BEC5",
                "#B0BEC5",
                "#B0BEC5",
                "#B0BEC5",
                "#B0BEC5",
                "red",
                "#B0BEC5",
                "#B0BEC5",
                "#B0BEC5",
                "#B0BEC5",
                "#B0BEC5",
                "#B0BEC5",
                "#B0BEC5",
                "#B0BEC5",
                "#B0BEC5",
                "#B0BEC5",
                "#B0BEC5",
                "#B0BEC5",
                "#B0BEC5",
                "#B0BEC5",
                "#B0BEC5",
                "#B0BEC5",
                "#B0BEC5",
                "#B0BEC5",
                "#B0BEC5",
                "#B0BEC5",
                "#B0BEC5",
                "#B0BEC5",
                "#B0BEC5",
                "#B0BEC5",
                "#B0BEC5",
                "#B0BEC5",
                "#B0BEC5",
                "#B0BEC5",
                "#B0BEC5",
                "#B0BEC5",
                "#B0BEC5",
                "#B0BEC5"
               ]
              ]
             }
            ],
            "label": "Topic 17",
            "method": "update"
           },
           {
            "args": [
             {
              "marker.color": [
               [
                "#B0BEC5",
                "#B0BEC5",
                "#B0BEC5",
                "#B0BEC5",
                "#B0BEC5",
                "#B0BEC5",
                "#B0BEC5",
                "#B0BEC5",
                "#B0BEC5",
                "#B0BEC5",
                "#B0BEC5",
                "#B0BEC5",
                "#B0BEC5",
                "#B0BEC5",
                "#B0BEC5",
                "#B0BEC5",
                "#B0BEC5",
                "#B0BEC5",
                "red",
                "#B0BEC5",
                "#B0BEC5",
                "#B0BEC5",
                "#B0BEC5",
                "#B0BEC5",
                "#B0BEC5",
                "#B0BEC5",
                "#B0BEC5",
                "#B0BEC5",
                "#B0BEC5",
                "#B0BEC5",
                "#B0BEC5",
                "#B0BEC5",
                "#B0BEC5",
                "#B0BEC5",
                "#B0BEC5",
                "#B0BEC5",
                "#B0BEC5",
                "#B0BEC5",
                "#B0BEC5",
                "#B0BEC5",
                "#B0BEC5",
                "#B0BEC5",
                "#B0BEC5",
                "#B0BEC5",
                "#B0BEC5",
                "#B0BEC5",
                "#B0BEC5",
                "#B0BEC5",
                "#B0BEC5",
                "#B0BEC5"
               ]
              ]
             }
            ],
            "label": "Topic 18",
            "method": "update"
           },
           {
            "args": [
             {
              "marker.color": [
               [
                "#B0BEC5",
                "#B0BEC5",
                "#B0BEC5",
                "#B0BEC5",
                "#B0BEC5",
                "#B0BEC5",
                "#B0BEC5",
                "#B0BEC5",
                "#B0BEC5",
                "#B0BEC5",
                "#B0BEC5",
                "#B0BEC5",
                "#B0BEC5",
                "#B0BEC5",
                "#B0BEC5",
                "#B0BEC5",
                "#B0BEC5",
                "#B0BEC5",
                "#B0BEC5",
                "red",
                "#B0BEC5",
                "#B0BEC5",
                "#B0BEC5",
                "#B0BEC5",
                "#B0BEC5",
                "#B0BEC5",
                "#B0BEC5",
                "#B0BEC5",
                "#B0BEC5",
                "#B0BEC5",
                "#B0BEC5",
                "#B0BEC5",
                "#B0BEC5",
                "#B0BEC5",
                "#B0BEC5",
                "#B0BEC5",
                "#B0BEC5",
                "#B0BEC5",
                "#B0BEC5",
                "#B0BEC5",
                "#B0BEC5",
                "#B0BEC5",
                "#B0BEC5",
                "#B0BEC5",
                "#B0BEC5",
                "#B0BEC5",
                "#B0BEC5",
                "#B0BEC5",
                "#B0BEC5",
                "#B0BEC5"
               ]
              ]
             }
            ],
            "label": "Topic 19",
            "method": "update"
           },
           {
            "args": [
             {
              "marker.color": [
               [
                "#B0BEC5",
                "#B0BEC5",
                "#B0BEC5",
                "#B0BEC5",
                "#B0BEC5",
                "#B0BEC5",
                "#B0BEC5",
                "#B0BEC5",
                "#B0BEC5",
                "#B0BEC5",
                "#B0BEC5",
                "#B0BEC5",
                "#B0BEC5",
                "#B0BEC5",
                "#B0BEC5",
                "#B0BEC5",
                "#B0BEC5",
                "#B0BEC5",
                "#B0BEC5",
                "#B0BEC5",
                "red",
                "#B0BEC5",
                "#B0BEC5",
                "#B0BEC5",
                "#B0BEC5",
                "#B0BEC5",
                "#B0BEC5",
                "#B0BEC5",
                "#B0BEC5",
                "#B0BEC5",
                "#B0BEC5",
                "#B0BEC5",
                "#B0BEC5",
                "#B0BEC5",
                "#B0BEC5",
                "#B0BEC5",
                "#B0BEC5",
                "#B0BEC5",
                "#B0BEC5",
                "#B0BEC5",
                "#B0BEC5",
                "#B0BEC5",
                "#B0BEC5",
                "#B0BEC5",
                "#B0BEC5",
                "#B0BEC5",
                "#B0BEC5",
                "#B0BEC5",
                "#B0BEC5",
                "#B0BEC5"
               ]
              ]
             }
            ],
            "label": "Topic 20",
            "method": "update"
           },
           {
            "args": [
             {
              "marker.color": [
               [
                "#B0BEC5",
                "#B0BEC5",
                "#B0BEC5",
                "#B0BEC5",
                "#B0BEC5",
                "#B0BEC5",
                "#B0BEC5",
                "#B0BEC5",
                "#B0BEC5",
                "#B0BEC5",
                "#B0BEC5",
                "#B0BEC5",
                "#B0BEC5",
                "#B0BEC5",
                "#B0BEC5",
                "#B0BEC5",
                "#B0BEC5",
                "#B0BEC5",
                "#B0BEC5",
                "#B0BEC5",
                "#B0BEC5",
                "red",
                "#B0BEC5",
                "#B0BEC5",
                "#B0BEC5",
                "#B0BEC5",
                "#B0BEC5",
                "#B0BEC5",
                "#B0BEC5",
                "#B0BEC5",
                "#B0BEC5",
                "#B0BEC5",
                "#B0BEC5",
                "#B0BEC5",
                "#B0BEC5",
                "#B0BEC5",
                "#B0BEC5",
                "#B0BEC5",
                "#B0BEC5",
                "#B0BEC5",
                "#B0BEC5",
                "#B0BEC5",
                "#B0BEC5",
                "#B0BEC5",
                "#B0BEC5",
                "#B0BEC5",
                "#B0BEC5",
                "#B0BEC5",
                "#B0BEC5",
                "#B0BEC5"
               ]
              ]
             }
            ],
            "label": "Topic 21",
            "method": "update"
           },
           {
            "args": [
             {
              "marker.color": [
               [
                "#B0BEC5",
                "#B0BEC5",
                "#B0BEC5",
                "#B0BEC5",
                "#B0BEC5",
                "#B0BEC5",
                "#B0BEC5",
                "#B0BEC5",
                "#B0BEC5",
                "#B0BEC5",
                "#B0BEC5",
                "#B0BEC5",
                "#B0BEC5",
                "#B0BEC5",
                "#B0BEC5",
                "#B0BEC5",
                "#B0BEC5",
                "#B0BEC5",
                "#B0BEC5",
                "#B0BEC5",
                "#B0BEC5",
                "#B0BEC5",
                "red",
                "#B0BEC5",
                "#B0BEC5",
                "#B0BEC5",
                "#B0BEC5",
                "#B0BEC5",
                "#B0BEC5",
                "#B0BEC5",
                "#B0BEC5",
                "#B0BEC5",
                "#B0BEC5",
                "#B0BEC5",
                "#B0BEC5",
                "#B0BEC5",
                "#B0BEC5",
                "#B0BEC5",
                "#B0BEC5",
                "#B0BEC5",
                "#B0BEC5",
                "#B0BEC5",
                "#B0BEC5",
                "#B0BEC5",
                "#B0BEC5",
                "#B0BEC5",
                "#B0BEC5",
                "#B0BEC5",
                "#B0BEC5",
                "#B0BEC5"
               ]
              ]
             }
            ],
            "label": "Topic 22",
            "method": "update"
           },
           {
            "args": [
             {
              "marker.color": [
               [
                "#B0BEC5",
                "#B0BEC5",
                "#B0BEC5",
                "#B0BEC5",
                "#B0BEC5",
                "#B0BEC5",
                "#B0BEC5",
                "#B0BEC5",
                "#B0BEC5",
                "#B0BEC5",
                "#B0BEC5",
                "#B0BEC5",
                "#B0BEC5",
                "#B0BEC5",
                "#B0BEC5",
                "#B0BEC5",
                "#B0BEC5",
                "#B0BEC5",
                "#B0BEC5",
                "#B0BEC5",
                "#B0BEC5",
                "#B0BEC5",
                "#B0BEC5",
                "red",
                "#B0BEC5",
                "#B0BEC5",
                "#B0BEC5",
                "#B0BEC5",
                "#B0BEC5",
                "#B0BEC5",
                "#B0BEC5",
                "#B0BEC5",
                "#B0BEC5",
                "#B0BEC5",
                "#B0BEC5",
                "#B0BEC5",
                "#B0BEC5",
                "#B0BEC5",
                "#B0BEC5",
                "#B0BEC5",
                "#B0BEC5",
                "#B0BEC5",
                "#B0BEC5",
                "#B0BEC5",
                "#B0BEC5",
                "#B0BEC5",
                "#B0BEC5",
                "#B0BEC5",
                "#B0BEC5",
                "#B0BEC5"
               ]
              ]
             }
            ],
            "label": "Topic 23",
            "method": "update"
           },
           {
            "args": [
             {
              "marker.color": [
               [
                "#B0BEC5",
                "#B0BEC5",
                "#B0BEC5",
                "#B0BEC5",
                "#B0BEC5",
                "#B0BEC5",
                "#B0BEC5",
                "#B0BEC5",
                "#B0BEC5",
                "#B0BEC5",
                "#B0BEC5",
                "#B0BEC5",
                "#B0BEC5",
                "#B0BEC5",
                "#B0BEC5",
                "#B0BEC5",
                "#B0BEC5",
                "#B0BEC5",
                "#B0BEC5",
                "#B0BEC5",
                "#B0BEC5",
                "#B0BEC5",
                "#B0BEC5",
                "#B0BEC5",
                "red",
                "#B0BEC5",
                "#B0BEC5",
                "#B0BEC5",
                "#B0BEC5",
                "#B0BEC5",
                "#B0BEC5",
                "#B0BEC5",
                "#B0BEC5",
                "#B0BEC5",
                "#B0BEC5",
                "#B0BEC5",
                "#B0BEC5",
                "#B0BEC5",
                "#B0BEC5",
                "#B0BEC5",
                "#B0BEC5",
                "#B0BEC5",
                "#B0BEC5",
                "#B0BEC5",
                "#B0BEC5",
                "#B0BEC5",
                "#B0BEC5",
                "#B0BEC5",
                "#B0BEC5",
                "#B0BEC5"
               ]
              ]
             }
            ],
            "label": "Topic 24",
            "method": "update"
           },
           {
            "args": [
             {
              "marker.color": [
               [
                "#B0BEC5",
                "#B0BEC5",
                "#B0BEC5",
                "#B0BEC5",
                "#B0BEC5",
                "#B0BEC5",
                "#B0BEC5",
                "#B0BEC5",
                "#B0BEC5",
                "#B0BEC5",
                "#B0BEC5",
                "#B0BEC5",
                "#B0BEC5",
                "#B0BEC5",
                "#B0BEC5",
                "#B0BEC5",
                "#B0BEC5",
                "#B0BEC5",
                "#B0BEC5",
                "#B0BEC5",
                "#B0BEC5",
                "#B0BEC5",
                "#B0BEC5",
                "#B0BEC5",
                "#B0BEC5",
                "red",
                "#B0BEC5",
                "#B0BEC5",
                "#B0BEC5",
                "#B0BEC5",
                "#B0BEC5",
                "#B0BEC5",
                "#B0BEC5",
                "#B0BEC5",
                "#B0BEC5",
                "#B0BEC5",
                "#B0BEC5",
                "#B0BEC5",
                "#B0BEC5",
                "#B0BEC5",
                "#B0BEC5",
                "#B0BEC5",
                "#B0BEC5",
                "#B0BEC5",
                "#B0BEC5",
                "#B0BEC5",
                "#B0BEC5",
                "#B0BEC5",
                "#B0BEC5",
                "#B0BEC5"
               ]
              ]
             }
            ],
            "label": "Topic 25",
            "method": "update"
           },
           {
            "args": [
             {
              "marker.color": [
               [
                "#B0BEC5",
                "#B0BEC5",
                "#B0BEC5",
                "#B0BEC5",
                "#B0BEC5",
                "#B0BEC5",
                "#B0BEC5",
                "#B0BEC5",
                "#B0BEC5",
                "#B0BEC5",
                "#B0BEC5",
                "#B0BEC5",
                "#B0BEC5",
                "#B0BEC5",
                "#B0BEC5",
                "#B0BEC5",
                "#B0BEC5",
                "#B0BEC5",
                "#B0BEC5",
                "#B0BEC5",
                "#B0BEC5",
                "#B0BEC5",
                "#B0BEC5",
                "#B0BEC5",
                "#B0BEC5",
                "#B0BEC5",
                "red",
                "#B0BEC5",
                "#B0BEC5",
                "#B0BEC5",
                "#B0BEC5",
                "#B0BEC5",
                "#B0BEC5",
                "#B0BEC5",
                "#B0BEC5",
                "#B0BEC5",
                "#B0BEC5",
                "#B0BEC5",
                "#B0BEC5",
                "#B0BEC5",
                "#B0BEC5",
                "#B0BEC5",
                "#B0BEC5",
                "#B0BEC5",
                "#B0BEC5",
                "#B0BEC5",
                "#B0BEC5",
                "#B0BEC5",
                "#B0BEC5",
                "#B0BEC5"
               ]
              ]
             }
            ],
            "label": "Topic 26",
            "method": "update"
           },
           {
            "args": [
             {
              "marker.color": [
               [
                "#B0BEC5",
                "#B0BEC5",
                "#B0BEC5",
                "#B0BEC5",
                "#B0BEC5",
                "#B0BEC5",
                "#B0BEC5",
                "#B0BEC5",
                "#B0BEC5",
                "#B0BEC5",
                "#B0BEC5",
                "#B0BEC5",
                "#B0BEC5",
                "#B0BEC5",
                "#B0BEC5",
                "#B0BEC5",
                "#B0BEC5",
                "#B0BEC5",
                "#B0BEC5",
                "#B0BEC5",
                "#B0BEC5",
                "#B0BEC5",
                "#B0BEC5",
                "#B0BEC5",
                "#B0BEC5",
                "#B0BEC5",
                "#B0BEC5",
                "red",
                "#B0BEC5",
                "#B0BEC5",
                "#B0BEC5",
                "#B0BEC5",
                "#B0BEC5",
                "#B0BEC5",
                "#B0BEC5",
                "#B0BEC5",
                "#B0BEC5",
                "#B0BEC5",
                "#B0BEC5",
                "#B0BEC5",
                "#B0BEC5",
                "#B0BEC5",
                "#B0BEC5",
                "#B0BEC5",
                "#B0BEC5",
                "#B0BEC5",
                "#B0BEC5",
                "#B0BEC5",
                "#B0BEC5",
                "#B0BEC5"
               ]
              ]
             }
            ],
            "label": "Topic 27",
            "method": "update"
           },
           {
            "args": [
             {
              "marker.color": [
               [
                "#B0BEC5",
                "#B0BEC5",
                "#B0BEC5",
                "#B0BEC5",
                "#B0BEC5",
                "#B0BEC5",
                "#B0BEC5",
                "#B0BEC5",
                "#B0BEC5",
                "#B0BEC5",
                "#B0BEC5",
                "#B0BEC5",
                "#B0BEC5",
                "#B0BEC5",
                "#B0BEC5",
                "#B0BEC5",
                "#B0BEC5",
                "#B0BEC5",
                "#B0BEC5",
                "#B0BEC5",
                "#B0BEC5",
                "#B0BEC5",
                "#B0BEC5",
                "#B0BEC5",
                "#B0BEC5",
                "#B0BEC5",
                "#B0BEC5",
                "#B0BEC5",
                "red",
                "#B0BEC5",
                "#B0BEC5",
                "#B0BEC5",
                "#B0BEC5",
                "#B0BEC5",
                "#B0BEC5",
                "#B0BEC5",
                "#B0BEC5",
                "#B0BEC5",
                "#B0BEC5",
                "#B0BEC5",
                "#B0BEC5",
                "#B0BEC5",
                "#B0BEC5",
                "#B0BEC5",
                "#B0BEC5",
                "#B0BEC5",
                "#B0BEC5",
                "#B0BEC5",
                "#B0BEC5",
                "#B0BEC5"
               ]
              ]
             }
            ],
            "label": "Topic 28",
            "method": "update"
           },
           {
            "args": [
             {
              "marker.color": [
               [
                "#B0BEC5",
                "#B0BEC5",
                "#B0BEC5",
                "#B0BEC5",
                "#B0BEC5",
                "#B0BEC5",
                "#B0BEC5",
                "#B0BEC5",
                "#B0BEC5",
                "#B0BEC5",
                "#B0BEC5",
                "#B0BEC5",
                "#B0BEC5",
                "#B0BEC5",
                "#B0BEC5",
                "#B0BEC5",
                "#B0BEC5",
                "#B0BEC5",
                "#B0BEC5",
                "#B0BEC5",
                "#B0BEC5",
                "#B0BEC5",
                "#B0BEC5",
                "#B0BEC5",
                "#B0BEC5",
                "#B0BEC5",
                "#B0BEC5",
                "#B0BEC5",
                "#B0BEC5",
                "red",
                "#B0BEC5",
                "#B0BEC5",
                "#B0BEC5",
                "#B0BEC5",
                "#B0BEC5",
                "#B0BEC5",
                "#B0BEC5",
                "#B0BEC5",
                "#B0BEC5",
                "#B0BEC5",
                "#B0BEC5",
                "#B0BEC5",
                "#B0BEC5",
                "#B0BEC5",
                "#B0BEC5",
                "#B0BEC5",
                "#B0BEC5",
                "#B0BEC5",
                "#B0BEC5",
                "#B0BEC5"
               ]
              ]
             }
            ],
            "label": "Topic 29",
            "method": "update"
           },
           {
            "args": [
             {
              "marker.color": [
               [
                "#B0BEC5",
                "#B0BEC5",
                "#B0BEC5",
                "#B0BEC5",
                "#B0BEC5",
                "#B0BEC5",
                "#B0BEC5",
                "#B0BEC5",
                "#B0BEC5",
                "#B0BEC5",
                "#B0BEC5",
                "#B0BEC5",
                "#B0BEC5",
                "#B0BEC5",
                "#B0BEC5",
                "#B0BEC5",
                "#B0BEC5",
                "#B0BEC5",
                "#B0BEC5",
                "#B0BEC5",
                "#B0BEC5",
                "#B0BEC5",
                "#B0BEC5",
                "#B0BEC5",
                "#B0BEC5",
                "#B0BEC5",
                "#B0BEC5",
                "#B0BEC5",
                "#B0BEC5",
                "#B0BEC5",
                "red",
                "#B0BEC5",
                "#B0BEC5",
                "#B0BEC5",
                "#B0BEC5",
                "#B0BEC5",
                "#B0BEC5",
                "#B0BEC5",
                "#B0BEC5",
                "#B0BEC5",
                "#B0BEC5",
                "#B0BEC5",
                "#B0BEC5",
                "#B0BEC5",
                "#B0BEC5",
                "#B0BEC5",
                "#B0BEC5",
                "#B0BEC5",
                "#B0BEC5",
                "#B0BEC5"
               ]
              ]
             }
            ],
            "label": "Topic 30",
            "method": "update"
           },
           {
            "args": [
             {
              "marker.color": [
               [
                "#B0BEC5",
                "#B0BEC5",
                "#B0BEC5",
                "#B0BEC5",
                "#B0BEC5",
                "#B0BEC5",
                "#B0BEC5",
                "#B0BEC5",
                "#B0BEC5",
                "#B0BEC5",
                "#B0BEC5",
                "#B0BEC5",
                "#B0BEC5",
                "#B0BEC5",
                "#B0BEC5",
                "#B0BEC5",
                "#B0BEC5",
                "#B0BEC5",
                "#B0BEC5",
                "#B0BEC5",
                "#B0BEC5",
                "#B0BEC5",
                "#B0BEC5",
                "#B0BEC5",
                "#B0BEC5",
                "#B0BEC5",
                "#B0BEC5",
                "#B0BEC5",
                "#B0BEC5",
                "#B0BEC5",
                "#B0BEC5",
                "red",
                "#B0BEC5",
                "#B0BEC5",
                "#B0BEC5",
                "#B0BEC5",
                "#B0BEC5",
                "#B0BEC5",
                "#B0BEC5",
                "#B0BEC5",
                "#B0BEC5",
                "#B0BEC5",
                "#B0BEC5",
                "#B0BEC5",
                "#B0BEC5",
                "#B0BEC5",
                "#B0BEC5",
                "#B0BEC5",
                "#B0BEC5",
                "#B0BEC5"
               ]
              ]
             }
            ],
            "label": "Topic 31",
            "method": "update"
           },
           {
            "args": [
             {
              "marker.color": [
               [
                "#B0BEC5",
                "#B0BEC5",
                "#B0BEC5",
                "#B0BEC5",
                "#B0BEC5",
                "#B0BEC5",
                "#B0BEC5",
                "#B0BEC5",
                "#B0BEC5",
                "#B0BEC5",
                "#B0BEC5",
                "#B0BEC5",
                "#B0BEC5",
                "#B0BEC5",
                "#B0BEC5",
                "#B0BEC5",
                "#B0BEC5",
                "#B0BEC5",
                "#B0BEC5",
                "#B0BEC5",
                "#B0BEC5",
                "#B0BEC5",
                "#B0BEC5",
                "#B0BEC5",
                "#B0BEC5",
                "#B0BEC5",
                "#B0BEC5",
                "#B0BEC5",
                "#B0BEC5",
                "#B0BEC5",
                "#B0BEC5",
                "#B0BEC5",
                "red",
                "#B0BEC5",
                "#B0BEC5",
                "#B0BEC5",
                "#B0BEC5",
                "#B0BEC5",
                "#B0BEC5",
                "#B0BEC5",
                "#B0BEC5",
                "#B0BEC5",
                "#B0BEC5",
                "#B0BEC5",
                "#B0BEC5",
                "#B0BEC5",
                "#B0BEC5",
                "#B0BEC5",
                "#B0BEC5",
                "#B0BEC5"
               ]
              ]
             }
            ],
            "label": "Topic 32",
            "method": "update"
           },
           {
            "args": [
             {
              "marker.color": [
               [
                "#B0BEC5",
                "#B0BEC5",
                "#B0BEC5",
                "#B0BEC5",
                "#B0BEC5",
                "#B0BEC5",
                "#B0BEC5",
                "#B0BEC5",
                "#B0BEC5",
                "#B0BEC5",
                "#B0BEC5",
                "#B0BEC5",
                "#B0BEC5",
                "#B0BEC5",
                "#B0BEC5",
                "#B0BEC5",
                "#B0BEC5",
                "#B0BEC5",
                "#B0BEC5",
                "#B0BEC5",
                "#B0BEC5",
                "#B0BEC5",
                "#B0BEC5",
                "#B0BEC5",
                "#B0BEC5",
                "#B0BEC5",
                "#B0BEC5",
                "#B0BEC5",
                "#B0BEC5",
                "#B0BEC5",
                "#B0BEC5",
                "#B0BEC5",
                "#B0BEC5",
                "red",
                "#B0BEC5",
                "#B0BEC5",
                "#B0BEC5",
                "#B0BEC5",
                "#B0BEC5",
                "#B0BEC5",
                "#B0BEC5",
                "#B0BEC5",
                "#B0BEC5",
                "#B0BEC5",
                "#B0BEC5",
                "#B0BEC5",
                "#B0BEC5",
                "#B0BEC5",
                "#B0BEC5",
                "#B0BEC5"
               ]
              ]
             }
            ],
            "label": "Topic 33",
            "method": "update"
           },
           {
            "args": [
             {
              "marker.color": [
               [
                "#B0BEC5",
                "#B0BEC5",
                "#B0BEC5",
                "#B0BEC5",
                "#B0BEC5",
                "#B0BEC5",
                "#B0BEC5",
                "#B0BEC5",
                "#B0BEC5",
                "#B0BEC5",
                "#B0BEC5",
                "#B0BEC5",
                "#B0BEC5",
                "#B0BEC5",
                "#B0BEC5",
                "#B0BEC5",
                "#B0BEC5",
                "#B0BEC5",
                "#B0BEC5",
                "#B0BEC5",
                "#B0BEC5",
                "#B0BEC5",
                "#B0BEC5",
                "#B0BEC5",
                "#B0BEC5",
                "#B0BEC5",
                "#B0BEC5",
                "#B0BEC5",
                "#B0BEC5",
                "#B0BEC5",
                "#B0BEC5",
                "#B0BEC5",
                "#B0BEC5",
                "#B0BEC5",
                "red",
                "#B0BEC5",
                "#B0BEC5",
                "#B0BEC5",
                "#B0BEC5",
                "#B0BEC5",
                "#B0BEC5",
                "#B0BEC5",
                "#B0BEC5",
                "#B0BEC5",
                "#B0BEC5",
                "#B0BEC5",
                "#B0BEC5",
                "#B0BEC5",
                "#B0BEC5",
                "#B0BEC5"
               ]
              ]
             }
            ],
            "label": "Topic 34",
            "method": "update"
           },
           {
            "args": [
             {
              "marker.color": [
               [
                "#B0BEC5",
                "#B0BEC5",
                "#B0BEC5",
                "#B0BEC5",
                "#B0BEC5",
                "#B0BEC5",
                "#B0BEC5",
                "#B0BEC5",
                "#B0BEC5",
                "#B0BEC5",
                "#B0BEC5",
                "#B0BEC5",
                "#B0BEC5",
                "#B0BEC5",
                "#B0BEC5",
                "#B0BEC5",
                "#B0BEC5",
                "#B0BEC5",
                "#B0BEC5",
                "#B0BEC5",
                "#B0BEC5",
                "#B0BEC5",
                "#B0BEC5",
                "#B0BEC5",
                "#B0BEC5",
                "#B0BEC5",
                "#B0BEC5",
                "#B0BEC5",
                "#B0BEC5",
                "#B0BEC5",
                "#B0BEC5",
                "#B0BEC5",
                "#B0BEC5",
                "#B0BEC5",
                "#B0BEC5",
                "red",
                "#B0BEC5",
                "#B0BEC5",
                "#B0BEC5",
                "#B0BEC5",
                "#B0BEC5",
                "#B0BEC5",
                "#B0BEC5",
                "#B0BEC5",
                "#B0BEC5",
                "#B0BEC5",
                "#B0BEC5",
                "#B0BEC5",
                "#B0BEC5",
                "#B0BEC5"
               ]
              ]
             }
            ],
            "label": "Topic 35",
            "method": "update"
           },
           {
            "args": [
             {
              "marker.color": [
               [
                "#B0BEC5",
                "#B0BEC5",
                "#B0BEC5",
                "#B0BEC5",
                "#B0BEC5",
                "#B0BEC5",
                "#B0BEC5",
                "#B0BEC5",
                "#B0BEC5",
                "#B0BEC5",
                "#B0BEC5",
                "#B0BEC5",
                "#B0BEC5",
                "#B0BEC5",
                "#B0BEC5",
                "#B0BEC5",
                "#B0BEC5",
                "#B0BEC5",
                "#B0BEC5",
                "#B0BEC5",
                "#B0BEC5",
                "#B0BEC5",
                "#B0BEC5",
                "#B0BEC5",
                "#B0BEC5",
                "#B0BEC5",
                "#B0BEC5",
                "#B0BEC5",
                "#B0BEC5",
                "#B0BEC5",
                "#B0BEC5",
                "#B0BEC5",
                "#B0BEC5",
                "#B0BEC5",
                "#B0BEC5",
                "#B0BEC5",
                "red",
                "#B0BEC5",
                "#B0BEC5",
                "#B0BEC5",
                "#B0BEC5",
                "#B0BEC5",
                "#B0BEC5",
                "#B0BEC5",
                "#B0BEC5",
                "#B0BEC5",
                "#B0BEC5",
                "#B0BEC5",
                "#B0BEC5",
                "#B0BEC5"
               ]
              ]
             }
            ],
            "label": "Topic 36",
            "method": "update"
           },
           {
            "args": [
             {
              "marker.color": [
               [
                "#B0BEC5",
                "#B0BEC5",
                "#B0BEC5",
                "#B0BEC5",
                "#B0BEC5",
                "#B0BEC5",
                "#B0BEC5",
                "#B0BEC5",
                "#B0BEC5",
                "#B0BEC5",
                "#B0BEC5",
                "#B0BEC5",
                "#B0BEC5",
                "#B0BEC5",
                "#B0BEC5",
                "#B0BEC5",
                "#B0BEC5",
                "#B0BEC5",
                "#B0BEC5",
                "#B0BEC5",
                "#B0BEC5",
                "#B0BEC5",
                "#B0BEC5",
                "#B0BEC5",
                "#B0BEC5",
                "#B0BEC5",
                "#B0BEC5",
                "#B0BEC5",
                "#B0BEC5",
                "#B0BEC5",
                "#B0BEC5",
                "#B0BEC5",
                "#B0BEC5",
                "#B0BEC5",
                "#B0BEC5",
                "#B0BEC5",
                "#B0BEC5",
                "red",
                "#B0BEC5",
                "#B0BEC5",
                "#B0BEC5",
                "#B0BEC5",
                "#B0BEC5",
                "#B0BEC5",
                "#B0BEC5",
                "#B0BEC5",
                "#B0BEC5",
                "#B0BEC5",
                "#B0BEC5",
                "#B0BEC5"
               ]
              ]
             }
            ],
            "label": "Topic 37",
            "method": "update"
           },
           {
            "args": [
             {
              "marker.color": [
               [
                "#B0BEC5",
                "#B0BEC5",
                "#B0BEC5",
                "#B0BEC5",
                "#B0BEC5",
                "#B0BEC5",
                "#B0BEC5",
                "#B0BEC5",
                "#B0BEC5",
                "#B0BEC5",
                "#B0BEC5",
                "#B0BEC5",
                "#B0BEC5",
                "#B0BEC5",
                "#B0BEC5",
                "#B0BEC5",
                "#B0BEC5",
                "#B0BEC5",
                "#B0BEC5",
                "#B0BEC5",
                "#B0BEC5",
                "#B0BEC5",
                "#B0BEC5",
                "#B0BEC5",
                "#B0BEC5",
                "#B0BEC5",
                "#B0BEC5",
                "#B0BEC5",
                "#B0BEC5",
                "#B0BEC5",
                "#B0BEC5",
                "#B0BEC5",
                "#B0BEC5",
                "#B0BEC5",
                "#B0BEC5",
                "#B0BEC5",
                "#B0BEC5",
                "#B0BEC5",
                "red",
                "#B0BEC5",
                "#B0BEC5",
                "#B0BEC5",
                "#B0BEC5",
                "#B0BEC5",
                "#B0BEC5",
                "#B0BEC5",
                "#B0BEC5",
                "#B0BEC5",
                "#B0BEC5",
                "#B0BEC5"
               ]
              ]
             }
            ],
            "label": "Topic 38",
            "method": "update"
           },
           {
            "args": [
             {
              "marker.color": [
               [
                "#B0BEC5",
                "#B0BEC5",
                "#B0BEC5",
                "#B0BEC5",
                "#B0BEC5",
                "#B0BEC5",
                "#B0BEC5",
                "#B0BEC5",
                "#B0BEC5",
                "#B0BEC5",
                "#B0BEC5",
                "#B0BEC5",
                "#B0BEC5",
                "#B0BEC5",
                "#B0BEC5",
                "#B0BEC5",
                "#B0BEC5",
                "#B0BEC5",
                "#B0BEC5",
                "#B0BEC5",
                "#B0BEC5",
                "#B0BEC5",
                "#B0BEC5",
                "#B0BEC5",
                "#B0BEC5",
                "#B0BEC5",
                "#B0BEC5",
                "#B0BEC5",
                "#B0BEC5",
                "#B0BEC5",
                "#B0BEC5",
                "#B0BEC5",
                "#B0BEC5",
                "#B0BEC5",
                "#B0BEC5",
                "#B0BEC5",
                "#B0BEC5",
                "#B0BEC5",
                "#B0BEC5",
                "red",
                "#B0BEC5",
                "#B0BEC5",
                "#B0BEC5",
                "#B0BEC5",
                "#B0BEC5",
                "#B0BEC5",
                "#B0BEC5",
                "#B0BEC5",
                "#B0BEC5",
                "#B0BEC5"
               ]
              ]
             }
            ],
            "label": "Topic 39",
            "method": "update"
           },
           {
            "args": [
             {
              "marker.color": [
               [
                "#B0BEC5",
                "#B0BEC5",
                "#B0BEC5",
                "#B0BEC5",
                "#B0BEC5",
                "#B0BEC5",
                "#B0BEC5",
                "#B0BEC5",
                "#B0BEC5",
                "#B0BEC5",
                "#B0BEC5",
                "#B0BEC5",
                "#B0BEC5",
                "#B0BEC5",
                "#B0BEC5",
                "#B0BEC5",
                "#B0BEC5",
                "#B0BEC5",
                "#B0BEC5",
                "#B0BEC5",
                "#B0BEC5",
                "#B0BEC5",
                "#B0BEC5",
                "#B0BEC5",
                "#B0BEC5",
                "#B0BEC5",
                "#B0BEC5",
                "#B0BEC5",
                "#B0BEC5",
                "#B0BEC5",
                "#B0BEC5",
                "#B0BEC5",
                "#B0BEC5",
                "#B0BEC5",
                "#B0BEC5",
                "#B0BEC5",
                "#B0BEC5",
                "#B0BEC5",
                "#B0BEC5",
                "#B0BEC5",
                "red",
                "#B0BEC5",
                "#B0BEC5",
                "#B0BEC5",
                "#B0BEC5",
                "#B0BEC5",
                "#B0BEC5",
                "#B0BEC5",
                "#B0BEC5",
                "#B0BEC5"
               ]
              ]
             }
            ],
            "label": "Topic 40",
            "method": "update"
           },
           {
            "args": [
             {
              "marker.color": [
               [
                "#B0BEC5",
                "#B0BEC5",
                "#B0BEC5",
                "#B0BEC5",
                "#B0BEC5",
                "#B0BEC5",
                "#B0BEC5",
                "#B0BEC5",
                "#B0BEC5",
                "#B0BEC5",
                "#B0BEC5",
                "#B0BEC5",
                "#B0BEC5",
                "#B0BEC5",
                "#B0BEC5",
                "#B0BEC5",
                "#B0BEC5",
                "#B0BEC5",
                "#B0BEC5",
                "#B0BEC5",
                "#B0BEC5",
                "#B0BEC5",
                "#B0BEC5",
                "#B0BEC5",
                "#B0BEC5",
                "#B0BEC5",
                "#B0BEC5",
                "#B0BEC5",
                "#B0BEC5",
                "#B0BEC5",
                "#B0BEC5",
                "#B0BEC5",
                "#B0BEC5",
                "#B0BEC5",
                "#B0BEC5",
                "#B0BEC5",
                "#B0BEC5",
                "#B0BEC5",
                "#B0BEC5",
                "#B0BEC5",
                "#B0BEC5",
                "red",
                "#B0BEC5",
                "#B0BEC5",
                "#B0BEC5",
                "#B0BEC5",
                "#B0BEC5",
                "#B0BEC5",
                "#B0BEC5",
                "#B0BEC5"
               ]
              ]
             }
            ],
            "label": "Topic 41",
            "method": "update"
           },
           {
            "args": [
             {
              "marker.color": [
               [
                "#B0BEC5",
                "#B0BEC5",
                "#B0BEC5",
                "#B0BEC5",
                "#B0BEC5",
                "#B0BEC5",
                "#B0BEC5",
                "#B0BEC5",
                "#B0BEC5",
                "#B0BEC5",
                "#B0BEC5",
                "#B0BEC5",
                "#B0BEC5",
                "#B0BEC5",
                "#B0BEC5",
                "#B0BEC5",
                "#B0BEC5",
                "#B0BEC5",
                "#B0BEC5",
                "#B0BEC5",
                "#B0BEC5",
                "#B0BEC5",
                "#B0BEC5",
                "#B0BEC5",
                "#B0BEC5",
                "#B0BEC5",
                "#B0BEC5",
                "#B0BEC5",
                "#B0BEC5",
                "#B0BEC5",
                "#B0BEC5",
                "#B0BEC5",
                "#B0BEC5",
                "#B0BEC5",
                "#B0BEC5",
                "#B0BEC5",
                "#B0BEC5",
                "#B0BEC5",
                "#B0BEC5",
                "#B0BEC5",
                "#B0BEC5",
                "#B0BEC5",
                "red",
                "#B0BEC5",
                "#B0BEC5",
                "#B0BEC5",
                "#B0BEC5",
                "#B0BEC5",
                "#B0BEC5",
                "#B0BEC5"
               ]
              ]
             }
            ],
            "label": "Topic 42",
            "method": "update"
           },
           {
            "args": [
             {
              "marker.color": [
               [
                "#B0BEC5",
                "#B0BEC5",
                "#B0BEC5",
                "#B0BEC5",
                "#B0BEC5",
                "#B0BEC5",
                "#B0BEC5",
                "#B0BEC5",
                "#B0BEC5",
                "#B0BEC5",
                "#B0BEC5",
                "#B0BEC5",
                "#B0BEC5",
                "#B0BEC5",
                "#B0BEC5",
                "#B0BEC5",
                "#B0BEC5",
                "#B0BEC5",
                "#B0BEC5",
                "#B0BEC5",
                "#B0BEC5",
                "#B0BEC5",
                "#B0BEC5",
                "#B0BEC5",
                "#B0BEC5",
                "#B0BEC5",
                "#B0BEC5",
                "#B0BEC5",
                "#B0BEC5",
                "#B0BEC5",
                "#B0BEC5",
                "#B0BEC5",
                "#B0BEC5",
                "#B0BEC5",
                "#B0BEC5",
                "#B0BEC5",
                "#B0BEC5",
                "#B0BEC5",
                "#B0BEC5",
                "#B0BEC5",
                "#B0BEC5",
                "#B0BEC5",
                "#B0BEC5",
                "red",
                "#B0BEC5",
                "#B0BEC5",
                "#B0BEC5",
                "#B0BEC5",
                "#B0BEC5",
                "#B0BEC5"
               ]
              ]
             }
            ],
            "label": "Topic 43",
            "method": "update"
           },
           {
            "args": [
             {
              "marker.color": [
               [
                "#B0BEC5",
                "#B0BEC5",
                "#B0BEC5",
                "#B0BEC5",
                "#B0BEC5",
                "#B0BEC5",
                "#B0BEC5",
                "#B0BEC5",
                "#B0BEC5",
                "#B0BEC5",
                "#B0BEC5",
                "#B0BEC5",
                "#B0BEC5",
                "#B0BEC5",
                "#B0BEC5",
                "#B0BEC5",
                "#B0BEC5",
                "#B0BEC5",
                "#B0BEC5",
                "#B0BEC5",
                "#B0BEC5",
                "#B0BEC5",
                "#B0BEC5",
                "#B0BEC5",
                "#B0BEC5",
                "#B0BEC5",
                "#B0BEC5",
                "#B0BEC5",
                "#B0BEC5",
                "#B0BEC5",
                "#B0BEC5",
                "#B0BEC5",
                "#B0BEC5",
                "#B0BEC5",
                "#B0BEC5",
                "#B0BEC5",
                "#B0BEC5",
                "#B0BEC5",
                "#B0BEC5",
                "#B0BEC5",
                "#B0BEC5",
                "#B0BEC5",
                "#B0BEC5",
                "#B0BEC5",
                "red",
                "#B0BEC5",
                "#B0BEC5",
                "#B0BEC5",
                "#B0BEC5",
                "#B0BEC5"
               ]
              ]
             }
            ],
            "label": "Topic 44",
            "method": "update"
           },
           {
            "args": [
             {
              "marker.color": [
               [
                "#B0BEC5",
                "#B0BEC5",
                "#B0BEC5",
                "#B0BEC5",
                "#B0BEC5",
                "#B0BEC5",
                "#B0BEC5",
                "#B0BEC5",
                "#B0BEC5",
                "#B0BEC5",
                "#B0BEC5",
                "#B0BEC5",
                "#B0BEC5",
                "#B0BEC5",
                "#B0BEC5",
                "#B0BEC5",
                "#B0BEC5",
                "#B0BEC5",
                "#B0BEC5",
                "#B0BEC5",
                "#B0BEC5",
                "#B0BEC5",
                "#B0BEC5",
                "#B0BEC5",
                "#B0BEC5",
                "#B0BEC5",
                "#B0BEC5",
                "#B0BEC5",
                "#B0BEC5",
                "#B0BEC5",
                "#B0BEC5",
                "#B0BEC5",
                "#B0BEC5",
                "#B0BEC5",
                "#B0BEC5",
                "#B0BEC5",
                "#B0BEC5",
                "#B0BEC5",
                "#B0BEC5",
                "#B0BEC5",
                "#B0BEC5",
                "#B0BEC5",
                "#B0BEC5",
                "#B0BEC5",
                "#B0BEC5",
                "red",
                "#B0BEC5",
                "#B0BEC5",
                "#B0BEC5",
                "#B0BEC5"
               ]
              ]
             }
            ],
            "label": "Topic 45",
            "method": "update"
           },
           {
            "args": [
             {
              "marker.color": [
               [
                "#B0BEC5",
                "#B0BEC5",
                "#B0BEC5",
                "#B0BEC5",
                "#B0BEC5",
                "#B0BEC5",
                "#B0BEC5",
                "#B0BEC5",
                "#B0BEC5",
                "#B0BEC5",
                "#B0BEC5",
                "#B0BEC5",
                "#B0BEC5",
                "#B0BEC5",
                "#B0BEC5",
                "#B0BEC5",
                "#B0BEC5",
                "#B0BEC5",
                "#B0BEC5",
                "#B0BEC5",
                "#B0BEC5",
                "#B0BEC5",
                "#B0BEC5",
                "#B0BEC5",
                "#B0BEC5",
                "#B0BEC5",
                "#B0BEC5",
                "#B0BEC5",
                "#B0BEC5",
                "#B0BEC5",
                "#B0BEC5",
                "#B0BEC5",
                "#B0BEC5",
                "#B0BEC5",
                "#B0BEC5",
                "#B0BEC5",
                "#B0BEC5",
                "#B0BEC5",
                "#B0BEC5",
                "#B0BEC5",
                "#B0BEC5",
                "#B0BEC5",
                "#B0BEC5",
                "#B0BEC5",
                "#B0BEC5",
                "#B0BEC5",
                "red",
                "#B0BEC5",
                "#B0BEC5",
                "#B0BEC5"
               ]
              ]
             }
            ],
            "label": "Topic 46",
            "method": "update"
           },
           {
            "args": [
             {
              "marker.color": [
               [
                "#B0BEC5",
                "#B0BEC5",
                "#B0BEC5",
                "#B0BEC5",
                "#B0BEC5",
                "#B0BEC5",
                "#B0BEC5",
                "#B0BEC5",
                "#B0BEC5",
                "#B0BEC5",
                "#B0BEC5",
                "#B0BEC5",
                "#B0BEC5",
                "#B0BEC5",
                "#B0BEC5",
                "#B0BEC5",
                "#B0BEC5",
                "#B0BEC5",
                "#B0BEC5",
                "#B0BEC5",
                "#B0BEC5",
                "#B0BEC5",
                "#B0BEC5",
                "#B0BEC5",
                "#B0BEC5",
                "#B0BEC5",
                "#B0BEC5",
                "#B0BEC5",
                "#B0BEC5",
                "#B0BEC5",
                "#B0BEC5",
                "#B0BEC5",
                "#B0BEC5",
                "#B0BEC5",
                "#B0BEC5",
                "#B0BEC5",
                "#B0BEC5",
                "#B0BEC5",
                "#B0BEC5",
                "#B0BEC5",
                "#B0BEC5",
                "#B0BEC5",
                "#B0BEC5",
                "#B0BEC5",
                "#B0BEC5",
                "#B0BEC5",
                "#B0BEC5",
                "red",
                "#B0BEC5",
                "#B0BEC5"
               ]
              ]
             }
            ],
            "label": "Topic 47",
            "method": "update"
           },
           {
            "args": [
             {
              "marker.color": [
               [
                "#B0BEC5",
                "#B0BEC5",
                "#B0BEC5",
                "#B0BEC5",
                "#B0BEC5",
                "#B0BEC5",
                "#B0BEC5",
                "#B0BEC5",
                "#B0BEC5",
                "#B0BEC5",
                "#B0BEC5",
                "#B0BEC5",
                "#B0BEC5",
                "#B0BEC5",
                "#B0BEC5",
                "#B0BEC5",
                "#B0BEC5",
                "#B0BEC5",
                "#B0BEC5",
                "#B0BEC5",
                "#B0BEC5",
                "#B0BEC5",
                "#B0BEC5",
                "#B0BEC5",
                "#B0BEC5",
                "#B0BEC5",
                "#B0BEC5",
                "#B0BEC5",
                "#B0BEC5",
                "#B0BEC5",
                "#B0BEC5",
                "#B0BEC5",
                "#B0BEC5",
                "#B0BEC5",
                "#B0BEC5",
                "#B0BEC5",
                "#B0BEC5",
                "#B0BEC5",
                "#B0BEC5",
                "#B0BEC5",
                "#B0BEC5",
                "#B0BEC5",
                "#B0BEC5",
                "#B0BEC5",
                "#B0BEC5",
                "#B0BEC5",
                "#B0BEC5",
                "#B0BEC5",
                "red",
                "#B0BEC5"
               ]
              ]
             }
            ],
            "label": "Topic 48",
            "method": "update"
           },
           {
            "args": [
             {
              "marker.color": [
               [
                "#B0BEC5",
                "#B0BEC5",
                "#B0BEC5",
                "#B0BEC5",
                "#B0BEC5",
                "#B0BEC5",
                "#B0BEC5",
                "#B0BEC5",
                "#B0BEC5",
                "#B0BEC5",
                "#B0BEC5",
                "#B0BEC5",
                "#B0BEC5",
                "#B0BEC5",
                "#B0BEC5",
                "#B0BEC5",
                "#B0BEC5",
                "#B0BEC5",
                "#B0BEC5",
                "#B0BEC5",
                "#B0BEC5",
                "#B0BEC5",
                "#B0BEC5",
                "#B0BEC5",
                "#B0BEC5",
                "#B0BEC5",
                "#B0BEC5",
                "#B0BEC5",
                "#B0BEC5",
                "#B0BEC5",
                "#B0BEC5",
                "#B0BEC5",
                "#B0BEC5",
                "#B0BEC5",
                "#B0BEC5",
                "#B0BEC5",
                "#B0BEC5",
                "#B0BEC5",
                "#B0BEC5",
                "#B0BEC5",
                "#B0BEC5",
                "#B0BEC5",
                "#B0BEC5",
                "#B0BEC5",
                "#B0BEC5",
                "#B0BEC5",
                "#B0BEC5",
                "#B0BEC5",
                "#B0BEC5",
                "red"
               ]
              ]
             }
            ],
            "label": "Topic 49",
            "method": "update"
           }
          ]
         }
        ],
        "template": {
         "data": {
          "bar": [
           {
            "error_x": {
             "color": "rgb(36,36,36)"
            },
            "error_y": {
             "color": "rgb(36,36,36)"
            },
            "marker": {
             "line": {
              "color": "white",
              "width": 0.5
             },
             "pattern": {
              "fillmode": "overlay",
              "size": 10,
              "solidity": 0.2
             }
            },
            "type": "bar"
           }
          ],
          "barpolar": [
           {
            "marker": {
             "line": {
              "color": "white",
              "width": 0.5
             },
             "pattern": {
              "fillmode": "overlay",
              "size": 10,
              "solidity": 0.2
             }
            },
            "type": "barpolar"
           }
          ],
          "carpet": [
           {
            "aaxis": {
             "endlinecolor": "rgb(36,36,36)",
             "gridcolor": "white",
             "linecolor": "white",
             "minorgridcolor": "white",
             "startlinecolor": "rgb(36,36,36)"
            },
            "baxis": {
             "endlinecolor": "rgb(36,36,36)",
             "gridcolor": "white",
             "linecolor": "white",
             "minorgridcolor": "white",
             "startlinecolor": "rgb(36,36,36)"
            },
            "type": "carpet"
           }
          ],
          "choropleth": [
           {
            "colorbar": {
             "outlinewidth": 1,
             "tickcolor": "rgb(36,36,36)",
             "ticks": "outside"
            },
            "type": "choropleth"
           }
          ],
          "contour": [
           {
            "colorbar": {
             "outlinewidth": 1,
             "tickcolor": "rgb(36,36,36)",
             "ticks": "outside"
            },
            "colorscale": [
             [
              0,
              "#440154"
             ],
             [
              0.1111111111111111,
              "#482878"
             ],
             [
              0.2222222222222222,
              "#3e4989"
             ],
             [
              0.3333333333333333,
              "#31688e"
             ],
             [
              0.4444444444444444,
              "#26828e"
             ],
             [
              0.5555555555555556,
              "#1f9e89"
             ],
             [
              0.6666666666666666,
              "#35b779"
             ],
             [
              0.7777777777777778,
              "#6ece58"
             ],
             [
              0.8888888888888888,
              "#b5de2b"
             ],
             [
              1,
              "#fde725"
             ]
            ],
            "type": "contour"
           }
          ],
          "contourcarpet": [
           {
            "colorbar": {
             "outlinewidth": 1,
             "tickcolor": "rgb(36,36,36)",
             "ticks": "outside"
            },
            "type": "contourcarpet"
           }
          ],
          "heatmap": [
           {
            "colorbar": {
             "outlinewidth": 1,
             "tickcolor": "rgb(36,36,36)",
             "ticks": "outside"
            },
            "colorscale": [
             [
              0,
              "#440154"
             ],
             [
              0.1111111111111111,
              "#482878"
             ],
             [
              0.2222222222222222,
              "#3e4989"
             ],
             [
              0.3333333333333333,
              "#31688e"
             ],
             [
              0.4444444444444444,
              "#26828e"
             ],
             [
              0.5555555555555556,
              "#1f9e89"
             ],
             [
              0.6666666666666666,
              "#35b779"
             ],
             [
              0.7777777777777778,
              "#6ece58"
             ],
             [
              0.8888888888888888,
              "#b5de2b"
             ],
             [
              1,
              "#fde725"
             ]
            ],
            "type": "heatmap"
           }
          ],
          "heatmapgl": [
           {
            "colorbar": {
             "outlinewidth": 1,
             "tickcolor": "rgb(36,36,36)",
             "ticks": "outside"
            },
            "colorscale": [
             [
              0,
              "#440154"
             ],
             [
              0.1111111111111111,
              "#482878"
             ],
             [
              0.2222222222222222,
              "#3e4989"
             ],
             [
              0.3333333333333333,
              "#31688e"
             ],
             [
              0.4444444444444444,
              "#26828e"
             ],
             [
              0.5555555555555556,
              "#1f9e89"
             ],
             [
              0.6666666666666666,
              "#35b779"
             ],
             [
              0.7777777777777778,
              "#6ece58"
             ],
             [
              0.8888888888888888,
              "#b5de2b"
             ],
             [
              1,
              "#fde725"
             ]
            ],
            "type": "heatmapgl"
           }
          ],
          "histogram": [
           {
            "marker": {
             "line": {
              "color": "white",
              "width": 0.6
             }
            },
            "type": "histogram"
           }
          ],
          "histogram2d": [
           {
            "colorbar": {
             "outlinewidth": 1,
             "tickcolor": "rgb(36,36,36)",
             "ticks": "outside"
            },
            "colorscale": [
             [
              0,
              "#440154"
             ],
             [
              0.1111111111111111,
              "#482878"
             ],
             [
              0.2222222222222222,
              "#3e4989"
             ],
             [
              0.3333333333333333,
              "#31688e"
             ],
             [
              0.4444444444444444,
              "#26828e"
             ],
             [
              0.5555555555555556,
              "#1f9e89"
             ],
             [
              0.6666666666666666,
              "#35b779"
             ],
             [
              0.7777777777777778,
              "#6ece58"
             ],
             [
              0.8888888888888888,
              "#b5de2b"
             ],
             [
              1,
              "#fde725"
             ]
            ],
            "type": "histogram2d"
           }
          ],
          "histogram2dcontour": [
           {
            "colorbar": {
             "outlinewidth": 1,
             "tickcolor": "rgb(36,36,36)",
             "ticks": "outside"
            },
            "colorscale": [
             [
              0,
              "#440154"
             ],
             [
              0.1111111111111111,
              "#482878"
             ],
             [
              0.2222222222222222,
              "#3e4989"
             ],
             [
              0.3333333333333333,
              "#31688e"
             ],
             [
              0.4444444444444444,
              "#26828e"
             ],
             [
              0.5555555555555556,
              "#1f9e89"
             ],
             [
              0.6666666666666666,
              "#35b779"
             ],
             [
              0.7777777777777778,
              "#6ece58"
             ],
             [
              0.8888888888888888,
              "#b5de2b"
             ],
             [
              1,
              "#fde725"
             ]
            ],
            "type": "histogram2dcontour"
           }
          ],
          "mesh3d": [
           {
            "colorbar": {
             "outlinewidth": 1,
             "tickcolor": "rgb(36,36,36)",
             "ticks": "outside"
            },
            "type": "mesh3d"
           }
          ],
          "parcoords": [
           {
            "line": {
             "colorbar": {
              "outlinewidth": 1,
              "tickcolor": "rgb(36,36,36)",
              "ticks": "outside"
             }
            },
            "type": "parcoords"
           }
          ],
          "pie": [
           {
            "automargin": true,
            "type": "pie"
           }
          ],
          "scatter": [
           {
            "fillpattern": {
             "fillmode": "overlay",
             "size": 10,
             "solidity": 0.2
            },
            "type": "scatter"
           }
          ],
          "scatter3d": [
           {
            "line": {
             "colorbar": {
              "outlinewidth": 1,
              "tickcolor": "rgb(36,36,36)",
              "ticks": "outside"
             }
            },
            "marker": {
             "colorbar": {
              "outlinewidth": 1,
              "tickcolor": "rgb(36,36,36)",
              "ticks": "outside"
             }
            },
            "type": "scatter3d"
           }
          ],
          "scattercarpet": [
           {
            "marker": {
             "colorbar": {
              "outlinewidth": 1,
              "tickcolor": "rgb(36,36,36)",
              "ticks": "outside"
             }
            },
            "type": "scattercarpet"
           }
          ],
          "scattergeo": [
           {
            "marker": {
             "colorbar": {
              "outlinewidth": 1,
              "tickcolor": "rgb(36,36,36)",
              "ticks": "outside"
             }
            },
            "type": "scattergeo"
           }
          ],
          "scattergl": [
           {
            "marker": {
             "colorbar": {
              "outlinewidth": 1,
              "tickcolor": "rgb(36,36,36)",
              "ticks": "outside"
             }
            },
            "type": "scattergl"
           }
          ],
          "scattermapbox": [
           {
            "marker": {
             "colorbar": {
              "outlinewidth": 1,
              "tickcolor": "rgb(36,36,36)",
              "ticks": "outside"
             }
            },
            "type": "scattermapbox"
           }
          ],
          "scatterpolar": [
           {
            "marker": {
             "colorbar": {
              "outlinewidth": 1,
              "tickcolor": "rgb(36,36,36)",
              "ticks": "outside"
             }
            },
            "type": "scatterpolar"
           }
          ],
          "scatterpolargl": [
           {
            "marker": {
             "colorbar": {
              "outlinewidth": 1,
              "tickcolor": "rgb(36,36,36)",
              "ticks": "outside"
             }
            },
            "type": "scatterpolargl"
           }
          ],
          "scatterternary": [
           {
            "marker": {
             "colorbar": {
              "outlinewidth": 1,
              "tickcolor": "rgb(36,36,36)",
              "ticks": "outside"
             }
            },
            "type": "scatterternary"
           }
          ],
          "surface": [
           {
            "colorbar": {
             "outlinewidth": 1,
             "tickcolor": "rgb(36,36,36)",
             "ticks": "outside"
            },
            "colorscale": [
             [
              0,
              "#440154"
             ],
             [
              0.1111111111111111,
              "#482878"
             ],
             [
              0.2222222222222222,
              "#3e4989"
             ],
             [
              0.3333333333333333,
              "#31688e"
             ],
             [
              0.4444444444444444,
              "#26828e"
             ],
             [
              0.5555555555555556,
              "#1f9e89"
             ],
             [
              0.6666666666666666,
              "#35b779"
             ],
             [
              0.7777777777777778,
              "#6ece58"
             ],
             [
              0.8888888888888888,
              "#b5de2b"
             ],
             [
              1,
              "#fde725"
             ]
            ],
            "type": "surface"
           }
          ],
          "table": [
           {
            "cells": {
             "fill": {
              "color": "rgb(237,237,237)"
             },
             "line": {
              "color": "white"
             }
            },
            "header": {
             "fill": {
              "color": "rgb(217,217,217)"
             },
             "line": {
              "color": "white"
             }
            },
            "type": "table"
           }
          ]
         },
         "layout": {
          "annotationdefaults": {
           "arrowhead": 0,
           "arrowwidth": 1
          },
          "autotypenumbers": "strict",
          "coloraxis": {
           "colorbar": {
            "outlinewidth": 1,
            "tickcolor": "rgb(36,36,36)",
            "ticks": "outside"
           }
          },
          "colorscale": {
           "diverging": [
            [
             0,
             "rgb(103,0,31)"
            ],
            [
             0.1,
             "rgb(178,24,43)"
            ],
            [
             0.2,
             "rgb(214,96,77)"
            ],
            [
             0.3,
             "rgb(244,165,130)"
            ],
            [
             0.4,
             "rgb(253,219,199)"
            ],
            [
             0.5,
             "rgb(247,247,247)"
            ],
            [
             0.6,
             "rgb(209,229,240)"
            ],
            [
             0.7,
             "rgb(146,197,222)"
            ],
            [
             0.8,
             "rgb(67,147,195)"
            ],
            [
             0.9,
             "rgb(33,102,172)"
            ],
            [
             1,
             "rgb(5,48,97)"
            ]
           ],
           "sequential": [
            [
             0,
             "#440154"
            ],
            [
             0.1111111111111111,
             "#482878"
            ],
            [
             0.2222222222222222,
             "#3e4989"
            ],
            [
             0.3333333333333333,
             "#31688e"
            ],
            [
             0.4444444444444444,
             "#26828e"
            ],
            [
             0.5555555555555556,
             "#1f9e89"
            ],
            [
             0.6666666666666666,
             "#35b779"
            ],
            [
             0.7777777777777778,
             "#6ece58"
            ],
            [
             0.8888888888888888,
             "#b5de2b"
            ],
            [
             1,
             "#fde725"
            ]
           ],
           "sequentialminus": [
            [
             0,
             "#440154"
            ],
            [
             0.1111111111111111,
             "#482878"
            ],
            [
             0.2222222222222222,
             "#3e4989"
            ],
            [
             0.3333333333333333,
             "#31688e"
            ],
            [
             0.4444444444444444,
             "#26828e"
            ],
            [
             0.5555555555555556,
             "#1f9e89"
            ],
            [
             0.6666666666666666,
             "#35b779"
            ],
            [
             0.7777777777777778,
             "#6ece58"
            ],
            [
             0.8888888888888888,
             "#b5de2b"
            ],
            [
             1,
             "#fde725"
            ]
           ]
          },
          "colorway": [
           "#1F77B4",
           "#FF7F0E",
           "#2CA02C",
           "#D62728",
           "#9467BD",
           "#8C564B",
           "#E377C2",
           "#7F7F7F",
           "#BCBD22",
           "#17BECF"
          ],
          "font": {
           "color": "rgb(36,36,36)"
          },
          "geo": {
           "bgcolor": "white",
           "lakecolor": "white",
           "landcolor": "white",
           "showlakes": true,
           "showland": true,
           "subunitcolor": "white"
          },
          "hoverlabel": {
           "align": "left"
          },
          "hovermode": "closest",
          "mapbox": {
           "style": "light"
          },
          "paper_bgcolor": "white",
          "plot_bgcolor": "white",
          "polar": {
           "angularaxis": {
            "gridcolor": "rgb(232,232,232)",
            "linecolor": "rgb(36,36,36)",
            "showgrid": false,
            "showline": true,
            "ticks": "outside"
           },
           "bgcolor": "white",
           "radialaxis": {
            "gridcolor": "rgb(232,232,232)",
            "linecolor": "rgb(36,36,36)",
            "showgrid": false,
            "showline": true,
            "ticks": "outside"
           }
          },
          "scene": {
           "xaxis": {
            "backgroundcolor": "white",
            "gridcolor": "rgb(232,232,232)",
            "gridwidth": 2,
            "linecolor": "rgb(36,36,36)",
            "showbackground": true,
            "showgrid": false,
            "showline": true,
            "ticks": "outside",
            "zeroline": false,
            "zerolinecolor": "rgb(36,36,36)"
           },
           "yaxis": {
            "backgroundcolor": "white",
            "gridcolor": "rgb(232,232,232)",
            "gridwidth": 2,
            "linecolor": "rgb(36,36,36)",
            "showbackground": true,
            "showgrid": false,
            "showline": true,
            "ticks": "outside",
            "zeroline": false,
            "zerolinecolor": "rgb(36,36,36)"
           },
           "zaxis": {
            "backgroundcolor": "white",
            "gridcolor": "rgb(232,232,232)",
            "gridwidth": 2,
            "linecolor": "rgb(36,36,36)",
            "showbackground": true,
            "showgrid": false,
            "showline": true,
            "ticks": "outside",
            "zeroline": false,
            "zerolinecolor": "rgb(36,36,36)"
           }
          },
          "shapedefaults": {
           "fillcolor": "black",
           "line": {
            "width": 0
           },
           "opacity": 0.3
          },
          "ternary": {
           "aaxis": {
            "gridcolor": "rgb(232,232,232)",
            "linecolor": "rgb(36,36,36)",
            "showgrid": false,
            "showline": true,
            "ticks": "outside"
           },
           "baxis": {
            "gridcolor": "rgb(232,232,232)",
            "linecolor": "rgb(36,36,36)",
            "showgrid": false,
            "showline": true,
            "ticks": "outside"
           },
           "bgcolor": "white",
           "caxis": {
            "gridcolor": "rgb(232,232,232)",
            "linecolor": "rgb(36,36,36)",
            "showgrid": false,
            "showline": true,
            "ticks": "outside"
           }
          },
          "title": {
           "x": 0.05
          },
          "xaxis": {
           "automargin": true,
           "gridcolor": "rgb(232,232,232)",
           "linecolor": "rgb(36,36,36)",
           "showgrid": false,
           "showline": true,
           "ticks": "outside",
           "title": {
            "standoff": 15
           },
           "zeroline": false,
           "zerolinecolor": "rgb(36,36,36)"
          },
          "yaxis": {
           "automargin": true,
           "gridcolor": "rgb(232,232,232)",
           "linecolor": "rgb(36,36,36)",
           "showgrid": false,
           "showline": true,
           "ticks": "outside",
           "title": {
            "standoff": 15
           },
           "zeroline": false,
           "zerolinecolor": "rgb(36,36,36)"
          }
         }
        },
        "title": {
         "font": {
          "color": "Black",
          "size": 22
         },
         "text": "<b>Intertopic Distance Map</b>",
         "x": 0.5,
         "xanchor": "center",
         "y": 0.95,
         "yanchor": "top"
        },
        "width": 650,
        "xaxis": {
         "anchor": "y",
         "domain": [
          0,
          1
         ],
         "range": [
          -14.341672706604005,
          24.635597133636473
         ],
         "title": {
          "text": ""
         },
         "visible": false
        },
        "yaxis": {
         "anchor": "x",
         "domain": [
          0,
          1
         ],
         "range": [
          -12.822919607162476,
          25.740890216827392
         ],
         "title": {
          "text": ""
         },
         "visible": false
        }
       }
      },
      "text/html": [
       "<div>                            <div id=\"455680aa-4afe-4400-a22a-5fdf9a50ec57\" class=\"plotly-graph-div\" style=\"height:650px; width:650px;\"></div>            <script type=\"text/javascript\">                require([\"plotly\"], function(Plotly) {                    window.PLOTLYENV=window.PLOTLYENV || {};                                    if (document.getElementById(\"455680aa-4afe-4400-a22a-5fdf9a50ec57\")) {                    Plotly.newPlot(                        \"455680aa-4afe-4400-a22a-5fdf9a50ec57\",                        [{\"customdata\":[[0,\"\\u30b3\\u30e2\\u30f3\\u30ba | nlogn | \\u8ddd\\u96e2 | 2\\u56de | \\u30aa\\u30fc\\u30d7\\u30f3\\u30c7\\u30fc\\u30bf\",1188],[1,\"\\u30d0\\u30a4 | \\u5b8c\\u5168\\u6027 | \\u6697\\u53f7\\u306b\\u3064\\u3044\\u3066 | en | \\u6a5f\\u5bc6\\u6027\",311],[2,\"\\u8a08\\u7b97 | \\u30a2\\u30eb\\u30b4\\u30ea\\u30ba\\u30e0 | \\u30b3\\u30f3\\u30d4\\u30e5\\u30fc\\u30bf | \\u554f\\u984c | \\u30b3\\u30f3\\u30d4\\u30e5\\u30fc\\u30bf\\u30fc\\u30b5\\u30a4\\u30a8\\u30f3\\u30b9\",289],[3,\"\\u7b26\\u53f7\\u8a9e\\u540c\\u58eb\\u304cs | 2k | \\u30cf\\u30df\\u30f3\\u30b0\\u8ddd\\u96e2 | \\u7b26\\u53f7\\u8a9e\\u540c\\u58eb\\u304c2t | \\u53cd\\u8ee2\\u78ba\\u7387\",258],[4,\"\\u60c5\\u5831\\u6e90\\u7b26\\u53f7\\u5316 | \\u60c5\\u5831\\u6e90 | \\u30a8\\u30f3\\u30c8\\u30ed\\u30d4\\u30fc | \\u8a9e\\u982d\\u6761\\u4ef6 | \\u6700\\u9069\\u7b26\\u53f7\",247],[5,\"\\u96e2\\u6563\\u6642\\u9593\\u30d5\\u30fc\\u30ea\\u30a8\\u5909\\u63db\\u3068\\u96e2\\u6563\\u30d5\\u30fc\\u30ea\\u30a8\\u5909\\u63db | \\u96e2\\u6563\\u6642\\u9593\\u30b7\\u30b9\\u30c6\\u30e0 | \\u96e2\\u6563\\u6642\\u9593\\u30d5\\u30fc\\u30ea\\u30a8\\u5909\\u63db\\u3068\\u96e2\\u6563\\u30d5\\u30fc\\u30ea\\u30a8\\u5909\\u63db\\u306b\\u3064\\u3044\\u3066 | \\u96e2\\u6563\\u6642\\u9593\\u30d5\\u30fc\\u30ea\\u30a8\\u5909\\u63db | \\u96e2\\u6563\\u6642\\u9593\\u30b7\\u30b9\\u30c6\\u30e0\\u306b\\u3064\\u3044\\u3066\",235],[6,\"\\u60c5\\u5831 | \\u60c5\\u5831\\u79d1\\u5b66 | \\u6587\\u7ae0 | \\u60c5\\u5831\\u4f1d\\u9054\\u306e\\u6b74\\u53f2 | \\u6388\\u696d\",234],[7,\"\\u30d1\\u30bf\\u30fc\\u30f3\\u8a8d\\u8b58 | \\u30d9\\u30af\\u30c8\\u30eb | \\u753b\\u50cf\\u51e6\\u7406 | \\u4f3c\\u3066\\u3044\\u308b | \\u81ea\\u7136\\u8a00\\u8a9e\\u51e6\\u7406\",218],[8,\"log2 | xy | \\u66d6\\u6627\\u3055 | \\u60c5\\u5831\\u91cf | pm\",193],[9,\"z\\u5909\\u63db\\u306b\\u3064\\u3044\\u3066 | z\\u5909\\u63db\\u306e\\u6027\\u8cea\\u9006z\\u5909\\u63db | z\\u5909\\u63db\\u306e\\u6027\\u8cea\\u3068\\u9006z\\u5909\\u63db | z\\u5909\\u63db\\u306e\\u5c0e\\u5165 | z\\u5909\\u63db\\u306e\\u6027\\u8cea\\u3068\\u9006z\\u5909\\u63db\\u306e\\u3084\\u308a\\u65b9\",150],[10,\"\\u77e5\\u8b58\\u30de\\u30c3\\u30d7\\u306e\\u4f5c\\u6210 | \\u77e5\\u8b58\\u30de\\u30c3\\u30d7\\u306e\\u4f5c\\u88fd | \\u77e5\\u8b58\\u30de\\u30c3\\u30d7\\u4f5c\\u6210 | br | \\u77e5\\u8b58\\u30de\\u30c3\\u30d7\\u306b\\u3064\\u3044\\u3066\",140],[11,\"\\u76f8\\u95a2 | ai | \\u8ca0\\u306e\\u76f8\\u95a2 | \\u5dee\\u304c\\u306a\\u3044 | \\u6b63\\u306e\\u76f8\\u95a2\",139],[12,\"nt | \\u96e2\\u6563\\u6642\\u9593\\u4fe1\\u53f7z\\u5909\\u63db | \\u96e2\\u6563\\u6642\\u9593\\u4fe1\\u53f7\\u3068z\\u5909\\u63db | \\u03c9t | hz\",129],[13,\"\\u30c7\\u30a3\\u30b8\\u30bf\\u30eb\\u4fe1\\u53f7\\u51e6\\u7406\\u306e\\u6982\\u8981 | \\u91cf\\u5b50\\u5316 | \\u7b26\\u53f7\\u5316 | \\u30a2\\u30ca\\u30ed\\u30b0\\u4fe1\\u53f7 | \\u6a19\\u672c\\u5316\",115],[14,\"\\u975e\\u5468\\u671f\\u4fe1\\u53f7\\u306e\\u30d5\\u30fc\\u30ea\\u30a8\\u5909\\u63db | \\u975e\\u5468\\u671f\\u4fe1\\u53f7\\u3068\\u30d5\\u30fc\\u30ea\\u30a8\\u5909\\u63db | \\u5468\\u671f\\u4fe1\\u53f7\\u306e\\u30d5\\u30fc\\u30ea\\u30a8\\u7d1a\\u6570\\u8868\\u73fe | \\u30d5\\u30fc\\u30ea\\u30a8\\u5909\\u63db\\u306b\\u3064\\u3044\\u3066 | \\u30d5\\u30fc\\u30ea\\u30a8\\u5909\\u63db\",110],[15,\"\\u5f31\\u3044ai | \\u4eba\\u5de5\\u77e5\\u80fd | \\u5f37\\u3044ai | ai | \\u7279\\u5316\\u578bai\",105],[16,\"\\u9ad8\\u901f\\u30d5\\u30fc\\u30ea\\u30a8\\u5909\\u63db | \\u9ad8\\u901f\\u30d5\\u30fc\\u30ea\\u30a8\\u5909\\u63db\\u306b\\u3064\\u3044\\u3066 | \\u9ad8\\u901f\\u30d5\\u30fc\\u30ea\\u30a8\\u5909\\u63db\\u306b\\u3064\\u3044\\u3066\\u5b66\\u3093\\u3060 | \\u9ad8\\u901f\\u30d5\\u30fc\\u30ea\\u30a8\\u5909\\u63db\\u306e\\u4ed5\\u7d44\\u307f | \\u9ad8\\u901f\\u30d5\\u30fc\\u30ea\\u30a8\\u5909\\u63db\\u306e\\u3084\\u308a\\u65b9\",98],[17,\"\\u671f\\u672b\\u30c6\\u30b9\\u30c8 | \\u78ba\\u8a8d\\u30c6\\u30b9\\u30c8 | \\u30c6\\u30b9\\u30c8 | \\u30c6\\u30b9\\u30c8\\u3067\\u3057\\u305f | \\u671f\\u672b\\u8a66\\u9a13\",94],[18,\"\\u8457\\u4f5c\\u6a29\\u306b\\u3064\\u3044\\u3066 | \\u8ca1\\u7523\\u6a29 | \\u8457\\u4f5c\\u6a29 | 70\\u5e74\\u9593\\u8457\\u4f5c\\u7269\\u3092\\u5b88\\u308b | \\u8457\\u4f5c\\u6a29\\u306b\\u95a2\\u3059\\u308b\\u69d8\\u3005\\u306a\\u3053\\u3068\",62],[19,\"\\u30d5\\u30fc\\u30ea\\u30a8\\u7d1a\\u6570\\u304b\\u3089\\u30d5\\u30fc\\u30ea\\u30a8\\u5909\\u63db\\u3078\\u306e\\u62e1\\u5f35 | \\u30d5\\u30fc\\u30ea\\u30a8\\u7d1a\\u6570 | \\u6700\\u5927\\u516c\\u7d04\\u6570\\u3092\\u8868\\u3059 | \\u30d5\\u30fc\\u30ea\\u30a8\\u7d1a\\u6570\\u8907\\u7d20\\u30d5\\u30fc\\u30ea\\u30a8\\u7d1a\\u6570\\u306e\\u6c42\\u3081\\u65b9 | \\u30d5\\u30fc\\u30ea\\u30a8\\u7d1a\\u6570\\u5c55\\u958b\",59],[20,\"\\u96e2\\u6563\\u30d5\\u30fc\\u30ea\\u30a8\\u5909\\u63db | \\u30d5\\u30fc\\u30ea\\u30a8\\u5909\\u63db | \\u96e2\\u6563\\u30d5\\u30fc\\u30ea\\u30a8\\u5909\\u63db\\u306b\\u3064\\u3044\\u3066 | \\u30d5\\u30fc\\u30ea\\u30a8\\u5909\\u63db\\u306e\\u8aac\\u660e | \\u30d5\\u30fc\\u30ea\\u30a8\\u5909\\u63db\\u306e\\u5fa9\\u7fd2\",53],[21,\"br\\u30fcmap\\u3092\\u7528\\u3044\\u3066\\u632f\\u308a\\u8fd4\\u308a\\u3092\\u884c\\u3063\\u305f | \\u7b2c\\u4e03\\u56de\\u306e\\u5927\\u307e\\u304b\\u306a\\u5fa9\\u8b90 | \\u307e\\u3068\\u3081\\u3092\\u884c\\u3046\\u3053\\u3068\\u3067\\u5f8c\\u534a\\u5185\\u5bb9\\u306e\\u5fa9\\u7fd2\\u7b49\\u304c\\u3067\\u304d\\u305f | \\u4eca\\u65e5\\u306e\\u5185\\u5bb9\\u306f\\u8eab\\u8fd1\\u306b\\u611f\\u3058\\u3089\\u308c\\u305f | \\u30b7\\u30f3\\u30d7\\u30eb\\u306a\\u5185\\u5bb9\\u3067\\u308f\\u304b\\u308a\\u3084\\u3059\\u304b\\u3063\\u305f\",47],[22,\"\\u30a8\\u30c3\\u30b8\\u62bd\\u51fa | \\u30a8\\u30c3\\u30b8 | \\u6587\\u5b57 | \\u3068\\u767d | \\u5e30\\u7121\\u4eee\\u8aac\",46],[23,\"\\u30de\\u30fc\\u30b8\\u30bd\\u30fc\\u30c8\\u3068\\u4e8c\\u5206\\u63a2\\u7d22\\u6cd5\\u306b\\u3064\\u3044\\u3066 | \\u4e8c\\u5206\\u63a2\\u7d22\\u6cd5 | \\u4eca\\u56de\\u306e\\u6388\\u696d\\u3067\\u306f\\u30d2\\u30fc\\u30d7\\u30bd\\u30fc\\u30c8\\u3068\\u30de\\u30fc\\u30b8\\u30bd\\u30fc\\u30c8\\u306b\\u3064\\u3044\\u3066\\u5b66\\u7fd2\\u3057\\u305f | \\u30de\\u30fc\\u30b8\\u30bd\\u30fc\\u30c8\\u3068\\u4e8c\\u5206\\u63a2\\u7d22\\u6cd5 | 2\\u5206\\u63a2\\u7d22\\u306b\\u3064\\u3044\\u3066\",44],[24,\"\\u6539\\u7ac4 | \\u634f\\u9020 | \\u7814\\u7a76\\u306b\\u304a\\u3051\\u308b\\u4e2d\\u7acb\\u3084\\u5ba2\\u89b3\\u6027\\u7814\\u7a76\\u4e0d\\u6b63\\u3068\\u306a\\u308b\\u884c\\u70ba\\u5171\\u540c\\u7814\\u7a76\\u306b\\u304a\\u3044\\u3066\\u5fc5\\u8981\\u306a\\u502b\\u7406\\u89b3\\u5229\\u76ca\\u76f8\\u53cd\\u4e5d\\u5927\\u306b\\u304a\\u3051\\u308b\\u60c5\\u5831\\u502b\\u7406\\u898f\\u5b9a\\u30bb\\u30ad\\u30e5\\u30ea\\u30c6\\u30a3\\u30fc\\u306e\\u5b58\\u5728\\u3084\\u5185\\u5bb9\\u306e\\u7406\\u89e3 | \\u7814\\u7a76\\u8005\\u306e\\u7acb\\u5834\\u3068\\u3057\\u3066\\u4e2d\\u7acb\\u7684 | \\u7814\\u7a76\\u502b\\u7406\\u3068\\u306f\\u3069\\u3046\\u3044\\u3063\\u305f\\u3082\\u306e\\u304b\\u5b88\\u308b\\u3053\\u3068\\u306e\\u91cd\\u8981\\u6027\\u5b88\\u3089\\u306a\\u3044\\u3068\\u3069\\u3046\\u306a\\u308b\\u304b\",41],[25,\"\\u30ac\\u30a4\\u30c0\\u30f3\\u30b9 | \\u30bd\\u30fc\\u30c8\\u306e\\u5927\\u307e\\u304b\\u306a\\u6982\\u8981 | \\u30aa\\u30ea\\u30a8\\u30f3\\u30c6\\u30fc\\u30b7\\u30e7\\u30f3 | \\u30a4\\u30f3\\u30c8\\u30ed\\u30c0\\u30af\\u30b7\\u30e7\\u30f3 | \\u30ac\\u30a4\\u30c0\\u30f3\\u30b9\\u3092\\u53d7\\u3051\\u305f\",33],[26,\"\\u6388\\u696d\\u306e\\u9032\\u3081\\u65b9\\u306e\\u8aac\\u660e | \\u6388\\u696d\\u304c\\u7d42\\u308f\\u3063\\u305f\\u3089\\u305d\\u306e\\u56de\\u306e\\u65e5\\u8a8c\\u30ce\\u30fc\\u30c8\\u8981\\u70b9\\u6574\\u7406\\u3092\\u4f5c\\u6210\\u3057\\u3066\\u6295\\u7a3f\\u3059\\u308b\\u307e\\u305f\\u6f14\\u7fd2\\u8ab2\\u984c\\u3082\\u5b9f\\u65bd\\u3057\\u3066\\u63d0\\u51fa\\u3059\\u308b | \\u6388\\u696d\\u5f53\\u65e5\\u306b\\u306f\\u305d\\u306e\\u65e5\\u306e\\u7bc4\\u56f2\\u306e\\u5185\\u5bb9\\u306e\\u8aac\\u660e\\u3068\\u8ab2\\u984c\\u306e\\u6307\\u793a\\u304c\\u306a\\u3055\\u308c\\u308b\\u306e\\u3067\\u3057\\u3063\\u304b\\u308a\\u3068\\u7406\\u89e3\\u3057\\u30e1\\u30e2\\u3092\\u53d6\\u3063\\u3066\\u304a\\u304f\\u5185\\u5bb9\\u306e\\u8aac\\u660e\\u3092\\u805e\\u304d\\u306a\\u304c\\u3089bookroll\\u4e0a\\u3067\\u30ad\\u30fc\\u30ef\\u30fc\\u30c9\\u306b\\u30de\\u30fc\\u30ab\\u30fc\\u3092\\u5f15\\u304f\\u308f\\u304b\\u3063\\u305f | \\u9ec4\\u8272moodle\\u3092\\u5229\\u7528\\u3057\\u3066\\u30ed\\u30b0\\u30a4\\u30f3\\u3059\\u308b\\u305d\\u306e\\u5f8c\\u9ec4\\u8272moodle\\u5185\\u306e\\u30ea\\u30f3\\u30af\\u304b\\u3089\\u9752\\u8272moodle\\u306b\\u79fb\\u52d5\\u3057teams\\u306b\\u3088\\u308b\\u30aa\\u30f3\\u30e9\\u30a4\\u30f3\\u6388\\u696d\\u3078\\u306e\\u63a5\\u7d9a\\u3092\\u884c\\u3046\\u6c34\\u8272moodle\\u5185\\u306ebookroll\\u3092\\u4f75\\u7528\\u3057\\u3066\\u8b1b\\u7fa9\\u3092\\u53d7\\u8b1b\\u3057\\u30ce\\u30fc\\u30c8\\u3092\\u4f5c\\u6210\\u3059\\u308b\\u8b1b\\u7fa9\\u304c\\u7d42\\u4e86\\u3057\\u305f\\u3089\\u6c34\\u8272moodle\\u5185\\u306e\\u632f\\u308a\\u8fd4\\u308a\\u65e5\\u8a8c\\u305d\\u3057\\u3066\\u9ec4\\u8272moodle\\u5185\\u306e\\u5b66\\u7fd2\\u72b6\\u6cc1\\u30a2\\u30f3\\u30b1\\u30fc\\u30c8\\u3092\\u8a18\\u5165\\u3059\\u308b\\u6b21\\u56de\\u306e\\u8b1b\\u7fa9\\u307e\\u3067\\u306b\\u8b1b\\u7fa9\\u5185\\u3067\\u6307\\u793a\\u3055\\u308c\\u305f\\u6f14\\u7fd2\\u3092\\u89e3\\u304d\\u4f5c\\u6210\\u3057\\u305f\\u30ce\\u30fc\\u30c8\\u3068\\u6f14\\u7fd2\\u3092\\u305d\\u308c\\u305e\\u308c\\u306e\\u63d0\\u51fa\\u5148\\u306b\\u63d0\\u51fa\\u3059\\u308b\\u3055\\u3089\\u306bbookroll\\u3092\\u7528\\u3044\\u3066\\u6b21\\u56de\\u306e\\u6388\\u696d\\u306e\\u4e88\\u7fd2\\u3092\\u3059\\u308b | \\u8b1b\\u7fa9\\u4e2d\\u306b\\u5fc5\\u8981\\u306a\\u4e8b\\u67c4\\u306b\\u5bfe\\u3057\\u3066\\u306f\\u9069\\u6642\\u30e9\\u30a4\\u30f3\\u3092\\u5f15\\u304d\\u30e1\\u30e2\\u3092\\u3059\\u308b\\u3068\\u3044\\u3046\\u3053\\u3068\",31],[27,\"2fm | \\u9023\\u7d9a\\u4fe1\\u53f7\\u306e\\u6a19\\u672c\\u5316\\u306e\\u7cbe\\u5ea6\\u306b\\u95a2\\u308f\\u308b\\u6a19\\u672c\\u5316\\u5b9a\\u7406\\u3084\\u30ca\\u30a4\\u30ad\\u30b9\\u30c8\\u5468\\u6ce2\\u6570\\u306a\\u3069\\u306b\\u3064\\u3044\\u3066\\u306e\\u5185\\u5bb9 | \\u3068\\u30a4\\u30f3\\u30d1\\u30eb\\u30b9\\u5217\\u306e\\u7a4d\\u3068\\u3057\\u3066\\u8868\\u73fe\\u3067\\u304d\\u308b | fs | \\u3064\\u307e\\u308a\\u306f\\u6a19\\u672c\\u5316\\u5b9a\\u7406\\u306e\\u5468\\u8fba\\u77e5\\u8b58\",31],[28,\"\\u56de\\u5e30 | \\u76f8\\u95a2 | \\u6642\\u7cfb\\u5217 | \\u691c\\u5b9a | \\u691c\\u5b9a\\u56de\\u5e30\",30],[29,\"\\u30d5\\u30fc\\u30ea\\u30a8\\u7d1a\\u6570\\u306b\\u3064\\u3044\\u3066\\u5b66\\u3093\\u3060 | \\u3053\\u308c\\u304b\\u3089\\u306e\\u6388\\u696d\\u3067\\u4f55\\u3092\\u5b66\\u3076\\u304b\\u3084\\u8a08\\u7b97\\u3068\\u306f\\u4f55\\u304b\\u306b\\u3064\\u3044\\u3066\\u4f8b\\u3092\\u7528\\u3044\\u3066\\u5b66\\u3093\\u3060 | \\u9ad8\\u6821\\u306e\\u6570\\u5b66\\u3067\\u3082\\u304b\\u3058\\u3063\\u305f\\u76f8\\u95a2\\u306b\\u3064\\u3044\\u3066\\u5b66\\u3093\\u3060 | \\u30d5\\u30fc\\u30ea\\u30a8\\u7d1a\\u6570\\u306f\\u4ee5\\u524d\\u4e00\\u5ea6\\u7fd2\\u3063\\u305f\\u304c\\u5fd8\\u308c\\u3066\\u3044\\u305f | \\u30d2\\u30fc\\u30d7\\u30bd\\u30fc\\u30c8\\u3084\\u30de\\u30fc\\u30b8\\u30bd\\u30fc\\u30c8\\u306a\\u3069\\u306e\\u8a08\\u7b97\\u65b9\\u6cd5\\u3068\\u6bd4\\u8f03\\u56de\\u6570\\u306e\\u4e0a\\u9650\\u306b\\u3064\\u3044\\u3066\\u5b66\\u3093\\u3060\",30],[30,\"\\u30d5\\u30fc\\u30ea\\u30a8\\u7d1a\\u6570\\u8868\\u73fe | sincos | \\u5468\\u671f\\u7684\\u306a\\u4fe1\\u53f7\\u306f\\u30d5\\u30fc\\u30ea\\u30a8\\u7d1a\\u6570\\u306b\\u3088\\u3063\\u3066\\u8868\\u73fe\\u3067\\u304d\\u308b\\u3064\\u307e\\u308a\\u3044\\u308d\\u3044\\u308d\\u306a\\u6b63\\u5f26\\u6ce2\\u306e\\u8db3\\u3057\\u5408\\u308f\\u305b\\u3067\\u8868\\u73fe\\u3067\\u304d\\u308b\\u306e\\u3067\\u3042\\u308b\\u30d5\\u30fc\\u30ea\\u30a8\\u7d1a\\u6570\\u306f\\u30aa\\u30a4\\u30e9\\u30fc\\u306e\\u516c\\u5f0f\\u3092\\u7528\\u3044\\u3066\\u8907\\u7d20\\u30d5\\u30fc\\u30ea\\u30a8\\u7d1a\\u6570\\u306b\\u5909\\u63db\\u3067\\u304d\\u308b\\u8907\\u7d20\\u30d5\\u30fc\\u30ea\\u30a8\\u7d1a\\u6570\\u306e\\u65b9\\u304c\\u30d5\\u30fc\\u30ea\\u30a8\\u7d1a\\u6570\\u3088\\u308a\\u3082\\u7c21\\u6f54\\u306b\\u8868\\u73fe\\u3067\\u304d\\u308b | \\u8907\\u7d20\\u30d5\\u30fc\\u30ea\\u30a8\\u7d1a\\u6570\\u3068\\u30d5\\u30fc\\u30ea\\u30a8\\u7d1a\\u6570\\u306f\\u30aa\\u30a4\\u30e9\\u30fc\\u306e\\u516c\\u5f0f\\u3092\\u7528\\u3044\\u3066\\u4e92\\u3044\\u306b\\u5909\\u5f62\\u3067\\u304d\\u308b | \\u6ce2\\u3092\\u4e09\\u89d2\\u95a2\\u6570\\u3084\\u6307\\u6570\\u95a2\\u6570\\u306e\\u91cd\\u306a\\u308a\\u3067\\u8868\\u3059\\u65b9\\u6cd5\",30],[31,\"fir\\u306e\\u8a2d\\u8a08\\u306b\\u306f\\u7a93\\u95a2\\u6570\\u304c\\u7528\\u3044\\u3089\\u308c\\u308b\\u624b\\u9806\\u306f\\u6b21\\u306e\\u3068\\u304a\\u308a\\u3067\\u3042\\u308b\\u2460\\u6240\\u671b\\u306e\\u632f\\u5e45\\u7279\\u6027\\u3092\\u6c42\\u3081\\u308b\\u2461\\u30a4\\u30f3\\u30d1\\u30eb\\u30b9\\u5fdc\\u7b54\\u3092\\u6c42\\u3081\\u308b\\u2462\\u7a93\\u95a2\\u6570\\u3092\\u639b\\u3051\\u5408\\u308f\\u305b\\u3066\\u6709\\u9650\\u500b\\u306e\\u30a4\\u30f3\\u30d1\\u30eb\\u30b9\\u5fdc\\u7b54\\u3092\\u53d6\\u308a\\u51fa\\u3059\\u2463\\u56e0\\u679c\\u6027\\u3092\\u6e80\\u305f\\u3059\\u3088\\u3046\\u306b\\u3059\\u308b\\u2464h | \\u30d5\\u30a3\\u30eb\\u30bf\\u306e\\u6b21\\u6570\\u304c\\u5927\\u304d\\u3044\\u307b\\u3069\\u671b\\u3080\\u5468\\u6ce2\\u6570\\u7279\\u6027\\u306b\\u8fd1\\u3065\\u304f\\u304c\\u6f14\\u7b97\\u91cf\\u304c\\u5897\\u3048\\u308b\\u3068\\u3044\\u3046\\u6b20\\u70b9\\u3082\\u3042\\u308b | \\u901a\\u904e\\u57df | \\u7a93\\u95a2\\u6570\\u3092\\u5de5\\u592b\\u3059\\u308b\\u3053\\u3068\\u3067\\u7406\\u60f3\\u306b\\u8fd1\\u3065\\u3051\\u308b | \\u7406\\u60f3\\u7684\\u306a\\u30d5\\u30a3\\u30eb\\u30bf\\u306f\\u5b9f\\u73fe\\u304c\\u96e3\\u3057\\u3044\",29],[32,\"\\u96e2\\u6563\\u30d5\\u30fc\\u30ea\\u30a8\\u5909\\u63db\\u306e\\u6027\\u8cea\\u306b\\u3064\\u3044\\u3066\\u5b66\\u3093\\u3060 | \\u96e2\\u6563\\u30d5\\u30fc\\u30ea\\u30a8\\u5909\\u63db\\u306b\\u3064\\u3044\\u3066\\u5b66\\u3093\\u3060 | \\u30d5\\u30fc\\u30ea\\u30a8\\u5909\\u63db\\u306e\\u6027\\u8cea\\u306a\\u3069\\u3092\\u5b66\\u7fd2\\u3057\\u305f\\u308a\\u3057\\u305f | \\u30d5\\u30fc\\u30ea\\u30a8\\u5909\\u63db\\u306e\\u6027\\u8cea\\u3092\\u5b66\\u3093\\u3060 | \\u8a02\\u6b63\\u306b\\u304a\\u3051\\u308b\\u8003\\u3048\\u65b9\\u3092\\u5b66\\u3093\\u3060\",29],[33,\"\\u6a19\\u672c\\u5316\\u306b\\u3064\\u3044\\u3066 | \\u6a19\\u672c\\u5316 | \\u6a19\\u672c\\u5316\\u5b9a\\u7406 | \\u30b5\\u30f3\\u30d7\\u30ea\\u30f3\\u30b0\\u3068\\u6a19\\u672c\\u5316\\u5b9a\\u7406\\u306b\\u3064\\u3044\\u3066 | \\u6a19\\u672c\\u5316\\u3068\\u6a19\\u672c\\u5316\\u5b9a\\u7406\\u306b\\u3064\\u3044\\u3066\",28],[34,\"\\u30c7\\u30a3\\u30b8\\u30bf\\u30eb\\u30d5\\u30a3\\u30eb\\u30bf\\u306e\\u8a2d\\u8a08 | \\u30c7\\u30a3\\u30b8\\u30bf\\u30eb\\u30d5\\u30a3\\u30eb\\u30bf\\u8a2d\\u8a08\\u306e\\u8003\\u3048\\u65b9 | fir\\u30d5\\u30a3\\u30eb\\u30bf\\u306f\\u7a93\\u95a2\\u6570\\u6cd5\\u3067\\u8a2d\\u8a08\\u3067\\u304d\\u308b | \\u30d5\\u30a3\\u30eb\\u30bf\\u30fc\\u306e\\u4f5c\\u6210\\u624b\\u6cd5 | \\u30d5\\u30a3\\u30eb\\u30bf\\u306e\\u8a2d\\u8a08\\u3084iir\\u30d5\\u30a3\\u30eb\\u30bffir\\u30d5\\u30a3\\u30eb\\u30bf\\u306e\\u30e1\\u30ea\\u30c3\\u30c8\\u30c7\\u30e1\\u30ea\\u30c3\\u30c8\",26],[35,\"\\u30a4\\u30f3\\u30d1\\u30eb\\u30b9\\u5fdc\\u7b54 | \\u5dee\\u5206\\u65b9\\u7a0b\\u5f0f | \\u30a4\\u30f3\\u30d1\\u30eb\\u30b9\\u5fdc\\u7b54\\u4f1d\\u9054\\u95a2\\u6570\\u3068\\u305d\\u306e\\u8a08\\u7b97\\u306e\\u624b\\u6cd5 | \\u30a4\\u30f3\\u30d1\\u30eb\\u30b9\\u5fdc\\u7b54\\u4f1d\\u9054\\u95a2\\u6570\\u306a\\u3069\\u306b\\u3064\\u3044\\u3066 | \\u5dee\\u5206\\u65b9\\u7a0b\\u5f0f\\u306b\\u3064\\u3044\\u3066\\u5b66\\u3093\\u3060\",26],[36,\"\\u3092\\u6b21\\u3067\\u5b9a\\u3081\\u308b | 2\\u9032\\u6570\\u3092\\u4f7f\\u3063\\u3066\\u60c5\\u5831\\u6e90\\u3092\\u7b26\\u53f7\\u5316\\u3059\\u308b\\u969b\\u306b\\u5fc5\\u8981\\u306a\\u6761\\u4ef6\\u306b\\u3064\\u3044\\u3066 | \\u4eca\\u56de\\u306e\\u8b1b\\u7fa9\\u3067\\u306f\\u524d\\u56de\\u306b\\u5b66\\u3093\\u3060\\u60c5\\u5831\\u306e\\u7b26\\u53f7\\u5316\\u306b\\u3064\\u3044\\u3066 | \\u6700\\u9069\\u306a\\u7b26\\u53f7\\u3092\\u751f\\u6210\\u3059\\u308b\\u305f\\u3081\\u306b\\u5fc5\\u8981\\u306a\\u3053\\u3068 | \\u60c5\\u5831\\u6e90\\u7b26\\u53f7\\u5316\\u3068\\u305d\\u306e\\u76ee\\u7684\\u306b\\u3064\\u3044\\u3066\\u5b66\\u7fd2\\u3057\\u307e\\u3057\\u305f\\u307e\\u305f\\u4e00\\u610f\\u5fa9\\u53f7\\u53ef\\u80fd\\u3084\\u8a9e\\u982d\\u7b26\\u53f7\\u306b\\u3064\\u3044\\u3066\\u5b66\\u7fd2\\u3057\\u307e\\u3057\\u305f\\u52a0\\u3048\\u3066\\u30a8\\u30f3\\u30c8\\u30ed\\u30d4\\u30fc\\u3084\\u60c5\\u5831\\u6e90\\u7b26\\u53f7\\u5316\\u5b9a\\u7406\\u306b\\u3064\\u3044\\u3066\\u5b66\\u7fd2\\u3057\\u307e\\u3057\\u305f\",26],[37,\"\\u53ef\\u8996\\u5316\\u306e\\u7a2e\\u985e | \\u53ef\\u8996\\u5316\\u306b\\u3064\\u3044\\u3066 | \\u53ef\\u8996\\u5316\\u3068\\u305d\\u306e\\u624b\\u6cd5 | \\u53ef\\u8996\\u5316\\u3068\\u306f\\u4f55\\u304b\\u3084\\u3044\\u308d\\u3044\\u308d\\u306a\\u53ef\\u8996\\u5316\\u624b\\u6cd5\\u306b\\u3064\\u3044\\u3066\\u5b66\\u3093\\u3060 | \\u53ef\\u8996\\u5316\\u3068\\u306f\\u4f55\\u304b\",24],[38,\"\\u7814\\u7a76\\u502b\\u7406\\u60c5\\u5831\\u502b\\u7406\\u306b\\u3064\\u3044\\u3066 | \\u7814\\u7a76\\u306b\\u304a\\u3051\\u308b\\u4e0d\\u6b63\\u3084\\u60c5\\u5831\\u306e\\u502b\\u7406 | \\u7814\\u7a76\\u306b\\u304a\\u3051\\u308b\\u502b\\u7406\\u3068\\u60c5\\u5831\\u306e\\u6271\\u3044 | \\u7814\\u7a76\\u502b\\u7406\\u3068\\u7814\\u7a76\\u8005\\u304c\\u826f\\u8b58\\u3092\\u6301\\u3063\\u3066\\u9075\\u5b88\\u3059\\u3079\\u304d\\u898f\\u7bc4 | \\u7814\\u7a76\\u502b\\u7406\\u3068\\u60c5\\u5831\\u502b\\u7406\\u306b\\u3064\\u3044\\u3066\\u5b66\\u3093\\u3060\\u7814\\u7a76\\u306f\\u30ac\\u30a4\\u30c9\\u30e9\\u30a4\\u30f3\\u3084\\u898f\\u5247\\u306b\\u5f93\\u3063\\u3066\\u8aa0\\u5b9f\\u306b\\u884c\\u308f\\u306a\\u3044\\u3068\\u3044\\u3051\\u306a\\u3044\\u60c5\\u5831\\u502b\\u7406\\u306f\\u60c5\\u5831\\u3092\\u7528\\u3044\\u305f\\u793e\\u4f1a\\u5f62\\u6210\\u306b\\u5fc5\\u8981\\u3068\\u3055\\u308c\\u308b\\u4e00\\u822c\\u7684\\u306a\\u884c\\u52d5\\u898f\\u7bc4\\u306e\\u3053\\u3068\\u3067\\u3042\\u308b\",21],[39,\"\\u753b\\u50cf\\u306b\\u3064\\u3044\\u3066 | \\u76f8\\u95a2\\u306b\\u3064\\u3044\\u3066 | \\u76f8\\u95a2 | \\u753b\\u50cf\\u306e\\u30a8\\u30c3\\u30b8\\u306b\\u95a2\\u3057\\u3066 | \\u76f8\\u95a2\\u7d71\\u8a08\\u7684\\u691c\\u5b9a\\u306b\\u3064\\u3044\\u3066\\u5b66\\u7fd2\\u3057\\u305f\",20],[40,\"\\u9006z\\u5909\\u63db | \\u9006z\\u5909\\u63db\\u306b\\u3064\\u3044\\u3066 | \\u9006z\\u5909\\u63db\\u3092\\u89e3\\u304f | \\u9006z\\u5909\\u63db\\u306e\\u6c42\\u3081\\u65b9\\u306b\\u95a2\\u3057\\u3066\\u306e\\u8b1b\\u7fa9 | \\u9006z\\u5909\\u63db\\u306e\\u6c42\\u3081\\u65b9\",19],[41,\"\\u30c7\\u30a3\\u30b8\\u30bf\\u30eb\\u30d5\\u30a3\\u30eb\\u30bf\\u306e\\u6982\\u8981\\u3092\\u5b66\\u3093\\u3060 | \\u30c7\\u30a3\\u30b8\\u30bf\\u30eb\\u30d5\\u30a3\\u30eb\\u30bf\\u306e\\u7a2e\\u985e\\u3084\\u305d\\u306e\\u8a2d\\u8a08\\u65b9\\u6cd5\\u306b\\u3064\\u3044\\u3066\\u5b66\\u3093\\u3060 | \\u672c\\u65e5\\u306f\\u30c7\\u30a3\\u30b8\\u30bf\\u30eb\\u30d5\\u30a3\\u30eb\\u30bf\\u306b\\u3064\\u3044\\u3066\\u5b66\\u3093\\u3060\\u307e\\u305fflr\\u30d5\\u30a3\\u30eb\\u30bf\\u306e\\u5834\\u5408\\u3067\\u306e\\u8a2d\\u8a08\\u304c\\u3069\\u306e\\u3088\\u3046\\u306a\\u624b\\u9806\\u3067\\u884c\\u308f\\u308c\\u308b\\u304b\\u5b66\\u3076\\u3053\\u3068\\u304c\\u91cd\\u8981\\u3067\\u3042\\u308b | \\u591a\\u69d8\\u306a\\u7a2e\\u985e\\u306e\\u30d5\\u30a3\\u30eb\\u30bf\\u306b\\u3064\\u3044\\u3066\\u3068\\u30d5\\u30a3\\u30eb\\u30bf\\u3092\\u8a2d\\u8a08\\u3059\\u308b\\u969b\\u306b\\u7528\\u3044\\u308b\\u7a93\\u95a2\\u6570\\u306b\\u3064\\u3044\\u3066\\u5b66\\u7fd2\\u3057\\u305f | \\u4eca\\u65e5\\u306f\\u30c7\\u30a3\\u30b8\\u30bf\\u30eb\\u30d5\\u30a3\\u30eb\\u30bf\\u306e\\u8a2d\\u8a08\\u306b\\u3064\\u3044\\u3066\\u3060\\u3063\\u305f\\u30c7\\u30a3\\u30b8\\u30bf\\u30eb\\u30d5\\u30a3\\u30eb\\u30bf\\u306e\\u7a2e\\u985e\\u3092\\u5b66\\u3093\\u3060\\u308a\\u305d\\u306e\\u8a2d\\u8a08\\u306e\\u624b\\u9806\\u3092\\u3084\\u3063\\u305f\\u308a\\u3057\\u305f\",17],[42,\"\\u6388\\u696d\\u306e\\u30ac\\u30a4\\u30c0\\u30f3\\u30b9 | ict\\u306e\\u9032\\u3093\\u3060\\u73fe\\u4ee3\\u306b\\u304a\\u3044\\u3066\\u5897\\u52a0\\u3057\\u3066\\u3044\\u308b\\u30bb\\u30ad\\u30e5\\u30ea\\u30c6\\u30a3\\u30a4\\u30f3\\u30b7\\u30c7\\u30f3\\u30c8\\u3068\\u305d\\u306e\\u5bfe\\u7b56 | \\u30ac\\u30a4\\u30c0\\u30f3\\u30b9\\u6388\\u696d\\u306e\\u9032\\u3081\\u65b9 | \\u8b1b\\u7fa9\\u306e\\u30ac\\u30a4\\u30c0\\u30f3\\u30b9\\u4f7f\\u7528\\u3059\\u308b\\u30c4\\u30fc\\u30eb\\u985e\\u306e\\u8aac\\u660e\\u3068\\u8a66\\u7528 | \\u6700\\u521d\\u306e\\u30ac\\u30a4\\u30c0\\u30f3\\u30b9\\u8ab2\\u984c\\u3068\\u3057\\u3066\\u4f55\\u3092\\u3059\\u308c\\u3070\\u3044\\u3044\\u306e\\u304b\\u6388\\u696d\\u3067\\u4f55\\u3092\\u3057\\u3066\\u3044\\u304f\\u306e\\u304b\\u306e\\u8aac\\u660e\",17],[43,\"\\u7dda\\u5f62\\u4e0d\\u5909\\u30b7\\u30b9\\u30c6\\u30e0\\u306b\\u30a4\\u30f3\\u30d1\\u30eb\\u30b9\\u95a2\\u6570\\u3092\\u52a0\\u3048\\u305f\\u3082\\u306e\\u304c\\u30a4\\u30f3\\u30d1\\u30eb\\u30b9\\u5fdc\\u7b54\\u3068\\u306a\\u308b | \\u7dda\\u5f62\\u6642\\u4e0d\\u5909\\u30b7\\u30b9\\u30c6\\u30e0\\u306e\\u6570\\u5b66\\u7684\\u306a\\u8868\\u73fe\\u65b9\\u6cd5\\u306b\\u3064\\u3044\\u3066\\u5b66\\u3093\\u3060 | \\u7dda\\u5f62\\u6642\\u4e0d\\u5909\\u30b7\\u30b9\\u30c6\\u30e0\\u306e\\u51fa\\u529b\\u306f\\u5dee\\u5206\\u65b9\\u7a0b\\u5f0f\\u3067\\u8868\\u73fe\\u3055\\u308c\\u305d\\u3053\\u304b\\u3089\\u4f1d\\u9054\\u95a2\\u6570\\u306e\\u5f62\\u3092\\u8003\\u3048\\u308b\\u3053\\u3068\\u304c\\u3067\\u304d\\u308b | \\u7dda\\u5f62\\u6642\\u4e0d\\u5909\\u30b7\\u30b9\\u30c6\\u30e0\\u306e\\u5165\\u51fa\\u529b | \\u7dda\\u5f62\\u6642\\u4e0d\\u5909\\u30b7\\u30b9\\u30c6\\u30e0\\u306b\\u30a4\\u30f3\\u30d1\\u30eb\\u30b9\\u95a2\\u6570\\u3092\\u52a0\\u3048\\u305f\\u51fa\\u529b\\u30a4\\u30f3\\u30d1\\u30eb\\u30b9\\u5fdc\\u7b54\\u304c\\u308f\\u304b\\u308b\\u3068\\u4ed6\\u306e\\u4fe1\\u53f7\\u306e\\u5834\\u5408\\u306e\\u51fa\\u529b\\u3092\\u6c42\\u3081\\u3089\\u308c\\u308b\",16],[44,\"\\u6a19\\u672c\\u5316\\u5b9a\\u7406\\u306b\\u3064\\u3044\\u3066\\u5b66\\u7fd2\\u3057\\u305f | \\u307e\\u305f\\u6a19\\u672c\\u5316\\u5b9a\\u7406\\u306e\\u610f\\u5473\\u306b\\u3064\\u3044\\u3066\\u3082\\u5b66\\u7fd2\\u3057\\u305f | \\u6a19\\u672c\\u5316\\u5b9a\\u7406\\u306e\\u8aac\\u660e\\u3068\\u305d\\u306e\\u6761\\u4ef6\\u306b\\u3064\\u3044\\u3066\\u5b66\\u3093\\u3060 | \\u6a19\\u672c\\u5316\\u5b9a\\u7406\\u306e\\u6761\\u4ef6\\u306b\\u3064\\u3044\\u3066\\u5b66\\u3093\\u3060 | \\u6a19\\u672c\\u5316\\u5b9a\\u7406\\u306e\\u5c0e\\u51fa\\u4f7f\\u3044\\u65b9\\u539f\\u7406\\u306b\\u3064\\u3044\\u3066\\u5b66\\u3093\\u3060\",14],[45,\"\\u30d2\\u30fc\\u30d7\\u30bd\\u30fc\\u30c8\\u3068\\u30de\\u30fc\\u30b8\\u30bd\\u30fc\\u30c8\\u306b\\u3064\\u3044\\u3066 | \\u30bd\\u30fc\\u30c8\\u307e\\u3068\\u3081 | \\u30de\\u30fc\\u30b8\\u30bd\\u30fc\\u30c8\\u306e\\u6982\\u8981\\u5177\\u4f53\\u4f8b\\u306e\\u8aac\\u660e | \\u30d2\\u30fc\\u30d7\\u30bd\\u30fc\\u30c8\\u30de\\u30fc\\u30b8\\u30bd\\u30fc\\u30c8\\u306b\\u3064\\u3044\\u3066\\u77e5\\u308b | \\u30d2\\u30fc\\u30d7\\u30bd\\u30fc\\u30c8\\u30de\\u30fc\\u30b8\\u30bd\\u30fc\\u30c8\\u306b\\u3064\\u3044\\u3066\",13],[46,\"\\u5468\\u6ce2\\u6570\\u7279\\u6027\\u306f\\u632f\\u5e45\\u3068\\u4f4d\\u76f8\\u306e2\\u7a2e\\u985e\\u30922\\u7a2e\\u985e\\u3092\\u8868\\u3059\\u56e0\\u679c\\u6027\\u3068\\u5b89\\u5b9a\\u6027\\u3092\\u307f\\u305f\\u3059\\u30b7\\u30b9\\u30c6\\u30e0\\u306f\\u5168\\u3066\\u306e\\u6975\\u304c\\u5358\\u4f4d\\u5186\\u5185\\u306b\\u305d\\u3093\\u3056\\u3044\\u3057\\u306a\\u3051\\u308c\\u3070\\u306a\\u3089\\u306a\\u3044 | \\u5468\\u6ce2\\u6570\\u7279\\u6027\\u3068\\u306f\\u5165\\u529b\\u4fe1\\u53f7\\u304c\\u30b7\\u30b9\\u30c6\\u30e0\\u306b\\u3088\\u3063\\u3066\\u53d7\\u3051\\u308b\\u5909\\u5316\\u3092\\u8868\\u3057\\u3066\\u304a\\u308a\\u30b7\\u30b9\\u30c6\\u30e0\\u95a2\\u6570\\u306e\\u5927\\u304d\\u3055\\u3068\\u504f\\u89d2\\u3092\\u5408\\u308f\\u305b\\u305f\\u3082\\u306e\\u3067\\u3042\\u308b | \\u5b89\\u5b9a\\u6027\\u96f6\\u70b9\\u6975 | \\u30b7\\u30b9\\u30c6\\u30e0\\u95a2\\u6570\\u3084\\u5468\\u6ce2\\u6570\\u7279\\u6027\\u5b89\\u5b9a\\u306a\\u30b7\\u30b9\\u30c6\\u30e0\\u306b\\u3064\\u3044\\u3066 | \\u30b7\\u30b9\\u30c6\\u30e0\\u95a2\\u6570\\u3084\\u5468\\u6ce2\\u6570\\u7279\\u6027\\u306b\\u3064\\u3044\\u3066\",12],[47,\"\\u975e\\u5468\\u671f\\u95a2\\u6570\\u307e\\u3067\\u542b\\u3081\\u305f\\u4e00\\u822c\\u7684\\u306a\\u30d5\\u30fc\\u30ea\\u30a8\\u5909\\u63db\\u3068\\u305d\\u306e\\u6027\\u8cea\\u306b\\u3064\\u3044\\u3066 | \\u975e\\u5468\\u671f\\u95a2\\u6570\\u306e\\u30d5\\u30fc\\u30ea\\u30a8\\u7d1a\\u6570\\u304b\\u3089\\u30d5\\u30fc\\u30ea\\u30a8\\u5909\\u63db\\u3092\\u5b66\\u3093\\u3060 | \\u975e\\u5468\\u671f\\u95a2\\u6570\\u306b\\u9069\\u7528 | \\u975e\\u5468\\u671f\\u95a2\\u6570\\u306b\\u5bfe\\u3059\\u308b\\u30d5\\u30fc\\u30ea\\u30a8\\u5909\\u63db\\u306b\\u3064\\u3044\\u3066\\u5b66\\u3093\\u3060 | \\u975e\\u5468\\u671f\\u95a2\\u6570\\u306b\\u3082\\u30d5\\u30fc\\u30ea\\u30a8\\u5909\\u63db\\u3092\\u7528\\u3044\\u308b\\u3053\\u3068\\u304c\\u3067\\u304d\\u308b\\u3053\\u3068\\u3092\\u5b66\\u3073\\u4ee3\\u8868\\u7684\\u306a\\u30d5\\u30fc\\u30ea\\u30a8\\u5909\\u63db\\u306e\\u4f8b\\u3092\\u899a\\u3048\\u305f\",12],[48,\"\\u30c7\\u30a3\\u30b8\\u30bf\\u30eb\\u30d5\\u30a3\\u30eb\\u30bf\\u306b\\u3064\\u3044\\u3066 | \\u30c7\\u30a3\\u30b8\\u30bf\\u30eb\\u30d5\\u30a3\\u30eb\\u30bf | \\u30d5\\u30a3\\u30eb\\u30bf | \\u30d5\\u30a3\\u30eb\\u30bf\\u306e\\u8aac\\u660e | \\u30d5\\u30a3\\u30eb\\u30bf\\u306e\\u8a71\\u984c\",12],[49,\"\\u30de\\u30fc\\u30b8\\u30bd\\u30fc\\u30c8\\u30682\\u5206\\u63a2\\u7d22\\u6cd5 | \\u30d2\\u30fc\\u30d7\\u30bd\\u30fc\\u30c8\\u30a2\\u30eb\\u30b4\\u30ea\\u30ba\\u30e0\\u3068\\u30de\\u30fc\\u30b8\\u30bd\\u30fc\\u30c8\\u30a2\\u30eb\\u30b4\\u30ea\\u30ba\\u30e0\\u306b\\u3064\\u3044\\u3066 | \\u4e8c\\u5206\\u63a2\\u7d22\\u306e\\u6982\\u8981 | \\u30de\\u30fc\\u30b8\\u30bd\\u30fc\\u30c8\\u6bd4\\u8f03\\u30bd\\u30fc\\u30c8\\u30a2\\u30eb\\u30b4\\u30ea\\u30ba\\u30e02\\u5206\\u63a2\\u7d22\\u30a2\\u30eb\\u30b4\\u30ea\\u30ba\\u30e0 | \\u30de\\u30fc\\u30b8\\u30bd\\u30fc\\u30c8\\u306e\\u30a2\\u30eb\\u30b4\\u30ea\\u30ba\\u30e0\",11]],\"hovertemplate\":\"\\u003cb\\u003eTopic %{customdata[0]}\\u003c\\u002fb\\u003e\\u003cbr\\u003e%{customdata[1]}\\u003cbr\\u003eSize: %{customdata[2]}\",\"legendgroup\":\"\",\"marker\":{\"color\":\"#B0BEC5\",\"size\":[1188,311,289,258,247,235,234,218,193,150,140,139,129,115,110,105,98,94,62,59,53,47,46,44,41,33,31,31,30,30,30,29,29,28,26,26,26,24,21,20,19,17,17,16,14,13,12,12,12,11],\"sizemode\":\"area\",\"sizeref\":0.7425,\"symbol\":\"circle\",\"line\":{\"color\":\"DarkSlateGrey\",\"width\":2}},\"mode\":\"markers\",\"name\":\"\",\"orientation\":\"v\",\"showlegend\":false,\"x\":[9.558300018310547,4.5403547286987305,9.072103500366211,21.128742218017578,21.317981719970703,8.593719482421875,-12.388798713684082,9.82742977142334,9.695880889892578,5.764871597290039,-12.471019744873047,9.317888259887695,8.636763572692871,7.812187671661377,8.415153503417969,8.998785018920898,8.712904930114746,-6.654509544372559,4.600528240203857,0.6077700257301331,5.480253219604492,-6.715799331665039,-1.631734848022461,9.22022819519043,4.497375011444092,-7.109630584716797,-12.088808059692383,7.816225051879883,9.278494834899902,0.607799768447876,8.279288291931152,8.414665222167969,5.427481651306152,7.57637882232666,-0.661441445350647,13.15864372253418,21.422258377075195,-1.3478442430496216,4.735067844390869,-1.5710391998291016,5.621610641479492,-0.661516547203064,-12.001326560974121,13.158624649047852,7.600255966186523,-7.16241455078125,8.00925064086914,8.626195907592773,-7.2241973876953125,9.08889102935791],\"xaxis\":\"x\",\"y\":[19.856706619262695,-10.953717231750488,4.772167682647705,6.258890628814697,6.069700717926025,-5.632328033447266,4.922472953796387,20.13623809814453,20.000234603881836,8.643509864807129,4.839926719665527,19.57913589477539,-5.745474815368652,0.5611487030982971,-6.373432159423828,4.844023704528809,-6.653890609741211,0.4163208305835724,-11.015850067138672,8.346951484680176,8.93001651763916,0.3659572899341583,10.514887809753418,4.626226425170898,-10.912093162536621,0.3791595995426178,5.221201419830322,0.563875675201416,19.53324317932129,8.34698486328125,-6.272119522094727,-6.314961910247803,8.982643127441406,22.38338279724121,4.3058576583862305,1.6830912828445435,5.964818477630615,10.230693817138672,-11.150364875793457,10.454192161560059,8.787458419799805,4.305750370025635,5.307953834533691,1.6831178665161133,22.359615325927734,0.3547995686531067,-6.4635138511657715,-6.591274738311768,0.4827392101287842,4.756814956665039],\"yaxis\":\"y\",\"type\":\"scatter\"}],                        {\"template\":{\"data\":{\"barpolar\":[{\"marker\":{\"line\":{\"color\":\"white\",\"width\":0.5},\"pattern\":{\"fillmode\":\"overlay\",\"size\":10,\"solidity\":0.2}},\"type\":\"barpolar\"}],\"bar\":[{\"error_x\":{\"color\":\"rgb(36,36,36)\"},\"error_y\":{\"color\":\"rgb(36,36,36)\"},\"marker\":{\"line\":{\"color\":\"white\",\"width\":0.5},\"pattern\":{\"fillmode\":\"overlay\",\"size\":10,\"solidity\":0.2}},\"type\":\"bar\"}],\"carpet\":[{\"aaxis\":{\"endlinecolor\":\"rgb(36,36,36)\",\"gridcolor\":\"white\",\"linecolor\":\"white\",\"minorgridcolor\":\"white\",\"startlinecolor\":\"rgb(36,36,36)\"},\"baxis\":{\"endlinecolor\":\"rgb(36,36,36)\",\"gridcolor\":\"white\",\"linecolor\":\"white\",\"minorgridcolor\":\"white\",\"startlinecolor\":\"rgb(36,36,36)\"},\"type\":\"carpet\"}],\"choropleth\":[{\"colorbar\":{\"outlinewidth\":1,\"tickcolor\":\"rgb(36,36,36)\",\"ticks\":\"outside\"},\"type\":\"choropleth\"}],\"contourcarpet\":[{\"colorbar\":{\"outlinewidth\":1,\"tickcolor\":\"rgb(36,36,36)\",\"ticks\":\"outside\"},\"type\":\"contourcarpet\"}],\"contour\":[{\"colorbar\":{\"outlinewidth\":1,\"tickcolor\":\"rgb(36,36,36)\",\"ticks\":\"outside\"},\"colorscale\":[[0.0,\"#440154\"],[0.1111111111111111,\"#482878\"],[0.2222222222222222,\"#3e4989\"],[0.3333333333333333,\"#31688e\"],[0.4444444444444444,\"#26828e\"],[0.5555555555555556,\"#1f9e89\"],[0.6666666666666666,\"#35b779\"],[0.7777777777777778,\"#6ece58\"],[0.8888888888888888,\"#b5de2b\"],[1.0,\"#fde725\"]],\"type\":\"contour\"}],\"heatmapgl\":[{\"colorbar\":{\"outlinewidth\":1,\"tickcolor\":\"rgb(36,36,36)\",\"ticks\":\"outside\"},\"colorscale\":[[0.0,\"#440154\"],[0.1111111111111111,\"#482878\"],[0.2222222222222222,\"#3e4989\"],[0.3333333333333333,\"#31688e\"],[0.4444444444444444,\"#26828e\"],[0.5555555555555556,\"#1f9e89\"],[0.6666666666666666,\"#35b779\"],[0.7777777777777778,\"#6ece58\"],[0.8888888888888888,\"#b5de2b\"],[1.0,\"#fde725\"]],\"type\":\"heatmapgl\"}],\"heatmap\":[{\"colorbar\":{\"outlinewidth\":1,\"tickcolor\":\"rgb(36,36,36)\",\"ticks\":\"outside\"},\"colorscale\":[[0.0,\"#440154\"],[0.1111111111111111,\"#482878\"],[0.2222222222222222,\"#3e4989\"],[0.3333333333333333,\"#31688e\"],[0.4444444444444444,\"#26828e\"],[0.5555555555555556,\"#1f9e89\"],[0.6666666666666666,\"#35b779\"],[0.7777777777777778,\"#6ece58\"],[0.8888888888888888,\"#b5de2b\"],[1.0,\"#fde725\"]],\"type\":\"heatmap\"}],\"histogram2dcontour\":[{\"colorbar\":{\"outlinewidth\":1,\"tickcolor\":\"rgb(36,36,36)\",\"ticks\":\"outside\"},\"colorscale\":[[0.0,\"#440154\"],[0.1111111111111111,\"#482878\"],[0.2222222222222222,\"#3e4989\"],[0.3333333333333333,\"#31688e\"],[0.4444444444444444,\"#26828e\"],[0.5555555555555556,\"#1f9e89\"],[0.6666666666666666,\"#35b779\"],[0.7777777777777778,\"#6ece58\"],[0.8888888888888888,\"#b5de2b\"],[1.0,\"#fde725\"]],\"type\":\"histogram2dcontour\"}],\"histogram2d\":[{\"colorbar\":{\"outlinewidth\":1,\"tickcolor\":\"rgb(36,36,36)\",\"ticks\":\"outside\"},\"colorscale\":[[0.0,\"#440154\"],[0.1111111111111111,\"#482878\"],[0.2222222222222222,\"#3e4989\"],[0.3333333333333333,\"#31688e\"],[0.4444444444444444,\"#26828e\"],[0.5555555555555556,\"#1f9e89\"],[0.6666666666666666,\"#35b779\"],[0.7777777777777778,\"#6ece58\"],[0.8888888888888888,\"#b5de2b\"],[1.0,\"#fde725\"]],\"type\":\"histogram2d\"}],\"histogram\":[{\"marker\":{\"line\":{\"color\":\"white\",\"width\":0.6}},\"type\":\"histogram\"}],\"mesh3d\":[{\"colorbar\":{\"outlinewidth\":1,\"tickcolor\":\"rgb(36,36,36)\",\"ticks\":\"outside\"},\"type\":\"mesh3d\"}],\"parcoords\":[{\"line\":{\"colorbar\":{\"outlinewidth\":1,\"tickcolor\":\"rgb(36,36,36)\",\"ticks\":\"outside\"}},\"type\":\"parcoords\"}],\"pie\":[{\"automargin\":true,\"type\":\"pie\"}],\"scatter3d\":[{\"line\":{\"colorbar\":{\"outlinewidth\":1,\"tickcolor\":\"rgb(36,36,36)\",\"ticks\":\"outside\"}},\"marker\":{\"colorbar\":{\"outlinewidth\":1,\"tickcolor\":\"rgb(36,36,36)\",\"ticks\":\"outside\"}},\"type\":\"scatter3d\"}],\"scattercarpet\":[{\"marker\":{\"colorbar\":{\"outlinewidth\":1,\"tickcolor\":\"rgb(36,36,36)\",\"ticks\":\"outside\"}},\"type\":\"scattercarpet\"}],\"scattergeo\":[{\"marker\":{\"colorbar\":{\"outlinewidth\":1,\"tickcolor\":\"rgb(36,36,36)\",\"ticks\":\"outside\"}},\"type\":\"scattergeo\"}],\"scattergl\":[{\"marker\":{\"colorbar\":{\"outlinewidth\":1,\"tickcolor\":\"rgb(36,36,36)\",\"ticks\":\"outside\"}},\"type\":\"scattergl\"}],\"scattermapbox\":[{\"marker\":{\"colorbar\":{\"outlinewidth\":1,\"tickcolor\":\"rgb(36,36,36)\",\"ticks\":\"outside\"}},\"type\":\"scattermapbox\"}],\"scatterpolargl\":[{\"marker\":{\"colorbar\":{\"outlinewidth\":1,\"tickcolor\":\"rgb(36,36,36)\",\"ticks\":\"outside\"}},\"type\":\"scatterpolargl\"}],\"scatterpolar\":[{\"marker\":{\"colorbar\":{\"outlinewidth\":1,\"tickcolor\":\"rgb(36,36,36)\",\"ticks\":\"outside\"}},\"type\":\"scatterpolar\"}],\"scatter\":[{\"fillpattern\":{\"fillmode\":\"overlay\",\"size\":10,\"solidity\":0.2},\"type\":\"scatter\"}],\"scatterternary\":[{\"marker\":{\"colorbar\":{\"outlinewidth\":1,\"tickcolor\":\"rgb(36,36,36)\",\"ticks\":\"outside\"}},\"type\":\"scatterternary\"}],\"surface\":[{\"colorbar\":{\"outlinewidth\":1,\"tickcolor\":\"rgb(36,36,36)\",\"ticks\":\"outside\"},\"colorscale\":[[0.0,\"#440154\"],[0.1111111111111111,\"#482878\"],[0.2222222222222222,\"#3e4989\"],[0.3333333333333333,\"#31688e\"],[0.4444444444444444,\"#26828e\"],[0.5555555555555556,\"#1f9e89\"],[0.6666666666666666,\"#35b779\"],[0.7777777777777778,\"#6ece58\"],[0.8888888888888888,\"#b5de2b\"],[1.0,\"#fde725\"]],\"type\":\"surface\"}],\"table\":[{\"cells\":{\"fill\":{\"color\":\"rgb(237,237,237)\"},\"line\":{\"color\":\"white\"}},\"header\":{\"fill\":{\"color\":\"rgb(217,217,217)\"},\"line\":{\"color\":\"white\"}},\"type\":\"table\"}]},\"layout\":{\"annotationdefaults\":{\"arrowhead\":0,\"arrowwidth\":1},\"autotypenumbers\":\"strict\",\"coloraxis\":{\"colorbar\":{\"outlinewidth\":1,\"tickcolor\":\"rgb(36,36,36)\",\"ticks\":\"outside\"}},\"colorscale\":{\"diverging\":[[0.0,\"rgb(103,0,31)\"],[0.1,\"rgb(178,24,43)\"],[0.2,\"rgb(214,96,77)\"],[0.3,\"rgb(244,165,130)\"],[0.4,\"rgb(253,219,199)\"],[0.5,\"rgb(247,247,247)\"],[0.6,\"rgb(209,229,240)\"],[0.7,\"rgb(146,197,222)\"],[0.8,\"rgb(67,147,195)\"],[0.9,\"rgb(33,102,172)\"],[1.0,\"rgb(5,48,97)\"]],\"sequential\":[[0.0,\"#440154\"],[0.1111111111111111,\"#482878\"],[0.2222222222222222,\"#3e4989\"],[0.3333333333333333,\"#31688e\"],[0.4444444444444444,\"#26828e\"],[0.5555555555555556,\"#1f9e89\"],[0.6666666666666666,\"#35b779\"],[0.7777777777777778,\"#6ece58\"],[0.8888888888888888,\"#b5de2b\"],[1.0,\"#fde725\"]],\"sequentialminus\":[[0.0,\"#440154\"],[0.1111111111111111,\"#482878\"],[0.2222222222222222,\"#3e4989\"],[0.3333333333333333,\"#31688e\"],[0.4444444444444444,\"#26828e\"],[0.5555555555555556,\"#1f9e89\"],[0.6666666666666666,\"#35b779\"],[0.7777777777777778,\"#6ece58\"],[0.8888888888888888,\"#b5de2b\"],[1.0,\"#fde725\"]]},\"colorway\":[\"#1F77B4\",\"#FF7F0E\",\"#2CA02C\",\"#D62728\",\"#9467BD\",\"#8C564B\",\"#E377C2\",\"#7F7F7F\",\"#BCBD22\",\"#17BECF\"],\"font\":{\"color\":\"rgb(36,36,36)\"},\"geo\":{\"bgcolor\":\"white\",\"lakecolor\":\"white\",\"landcolor\":\"white\",\"showlakes\":true,\"showland\":true,\"subunitcolor\":\"white\"},\"hoverlabel\":{\"align\":\"left\"},\"hovermode\":\"closest\",\"mapbox\":{\"style\":\"light\"},\"paper_bgcolor\":\"white\",\"plot_bgcolor\":\"white\",\"polar\":{\"angularaxis\":{\"gridcolor\":\"rgb(232,232,232)\",\"linecolor\":\"rgb(36,36,36)\",\"showgrid\":false,\"showline\":true,\"ticks\":\"outside\"},\"bgcolor\":\"white\",\"radialaxis\":{\"gridcolor\":\"rgb(232,232,232)\",\"linecolor\":\"rgb(36,36,36)\",\"showgrid\":false,\"showline\":true,\"ticks\":\"outside\"}},\"scene\":{\"xaxis\":{\"backgroundcolor\":\"white\",\"gridcolor\":\"rgb(232,232,232)\",\"gridwidth\":2,\"linecolor\":\"rgb(36,36,36)\",\"showbackground\":true,\"showgrid\":false,\"showline\":true,\"ticks\":\"outside\",\"zeroline\":false,\"zerolinecolor\":\"rgb(36,36,36)\"},\"yaxis\":{\"backgroundcolor\":\"white\",\"gridcolor\":\"rgb(232,232,232)\",\"gridwidth\":2,\"linecolor\":\"rgb(36,36,36)\",\"showbackground\":true,\"showgrid\":false,\"showline\":true,\"ticks\":\"outside\",\"zeroline\":false,\"zerolinecolor\":\"rgb(36,36,36)\"},\"zaxis\":{\"backgroundcolor\":\"white\",\"gridcolor\":\"rgb(232,232,232)\",\"gridwidth\":2,\"linecolor\":\"rgb(36,36,36)\",\"showbackground\":true,\"showgrid\":false,\"showline\":true,\"ticks\":\"outside\",\"zeroline\":false,\"zerolinecolor\":\"rgb(36,36,36)\"}},\"shapedefaults\":{\"fillcolor\":\"black\",\"line\":{\"width\":0},\"opacity\":0.3},\"ternary\":{\"aaxis\":{\"gridcolor\":\"rgb(232,232,232)\",\"linecolor\":\"rgb(36,36,36)\",\"showgrid\":false,\"showline\":true,\"ticks\":\"outside\"},\"baxis\":{\"gridcolor\":\"rgb(232,232,232)\",\"linecolor\":\"rgb(36,36,36)\",\"showgrid\":false,\"showline\":true,\"ticks\":\"outside\"},\"bgcolor\":\"white\",\"caxis\":{\"gridcolor\":\"rgb(232,232,232)\",\"linecolor\":\"rgb(36,36,36)\",\"showgrid\":false,\"showline\":true,\"ticks\":\"outside\"}},\"title\":{\"x\":0.05},\"xaxis\":{\"automargin\":true,\"gridcolor\":\"rgb(232,232,232)\",\"linecolor\":\"rgb(36,36,36)\",\"showgrid\":false,\"showline\":true,\"ticks\":\"outside\",\"title\":{\"standoff\":15},\"zeroline\":false,\"zerolinecolor\":\"rgb(36,36,36)\"},\"yaxis\":{\"automargin\":true,\"gridcolor\":\"rgb(232,232,232)\",\"linecolor\":\"rgb(36,36,36)\",\"showgrid\":false,\"showline\":true,\"ticks\":\"outside\",\"title\":{\"standoff\":15},\"zeroline\":false,\"zerolinecolor\":\"rgb(36,36,36)\"}}},\"xaxis\":{\"anchor\":\"y\",\"domain\":[0.0,1.0],\"title\":{\"text\":\"\"},\"visible\":false,\"range\":[-14.341672706604005,24.635597133636473]},\"yaxis\":{\"anchor\":\"x\",\"domain\":[0.0,1.0],\"title\":{\"text\":\"\"},\"visible\":false,\"range\":[-12.822919607162476,25.740890216827392]},\"legend\":{\"tracegroupgap\":0,\"itemsizing\":\"constant\"},\"margin\":{\"t\":60},\"title\":{\"font\":{\"size\":22,\"color\":\"Black\"},\"text\":\"\\u003cb\\u003eIntertopic Distance Map\\u003c\\u002fb\\u003e\",\"y\":0.95,\"x\":0.5,\"xanchor\":\"center\",\"yanchor\":\"top\"},\"hoverlabel\":{\"font\":{\"size\":16,\"family\":\"Rockwell\"},\"bgcolor\":\"white\"},\"width\":650,\"height\":650,\"sliders\":[{\"active\":0,\"pad\":{\"t\":50},\"steps\":[{\"args\":[{\"marker.color\":[[\"red\",\"#B0BEC5\",\"#B0BEC5\",\"#B0BEC5\",\"#B0BEC5\",\"#B0BEC5\",\"#B0BEC5\",\"#B0BEC5\",\"#B0BEC5\",\"#B0BEC5\",\"#B0BEC5\",\"#B0BEC5\",\"#B0BEC5\",\"#B0BEC5\",\"#B0BEC5\",\"#B0BEC5\",\"#B0BEC5\",\"#B0BEC5\",\"#B0BEC5\",\"#B0BEC5\",\"#B0BEC5\",\"#B0BEC5\",\"#B0BEC5\",\"#B0BEC5\",\"#B0BEC5\",\"#B0BEC5\",\"#B0BEC5\",\"#B0BEC5\",\"#B0BEC5\",\"#B0BEC5\",\"#B0BEC5\",\"#B0BEC5\",\"#B0BEC5\",\"#B0BEC5\",\"#B0BEC5\",\"#B0BEC5\",\"#B0BEC5\",\"#B0BEC5\",\"#B0BEC5\",\"#B0BEC5\",\"#B0BEC5\",\"#B0BEC5\",\"#B0BEC5\",\"#B0BEC5\",\"#B0BEC5\",\"#B0BEC5\",\"#B0BEC5\",\"#B0BEC5\",\"#B0BEC5\",\"#B0BEC5\"]]}],\"label\":\"Topic 0\",\"method\":\"update\"},{\"args\":[{\"marker.color\":[[\"#B0BEC5\",\"red\",\"#B0BEC5\",\"#B0BEC5\",\"#B0BEC5\",\"#B0BEC5\",\"#B0BEC5\",\"#B0BEC5\",\"#B0BEC5\",\"#B0BEC5\",\"#B0BEC5\",\"#B0BEC5\",\"#B0BEC5\",\"#B0BEC5\",\"#B0BEC5\",\"#B0BEC5\",\"#B0BEC5\",\"#B0BEC5\",\"#B0BEC5\",\"#B0BEC5\",\"#B0BEC5\",\"#B0BEC5\",\"#B0BEC5\",\"#B0BEC5\",\"#B0BEC5\",\"#B0BEC5\",\"#B0BEC5\",\"#B0BEC5\",\"#B0BEC5\",\"#B0BEC5\",\"#B0BEC5\",\"#B0BEC5\",\"#B0BEC5\",\"#B0BEC5\",\"#B0BEC5\",\"#B0BEC5\",\"#B0BEC5\",\"#B0BEC5\",\"#B0BEC5\",\"#B0BEC5\",\"#B0BEC5\",\"#B0BEC5\",\"#B0BEC5\",\"#B0BEC5\",\"#B0BEC5\",\"#B0BEC5\",\"#B0BEC5\",\"#B0BEC5\",\"#B0BEC5\",\"#B0BEC5\"]]}],\"label\":\"Topic 1\",\"method\":\"update\"},{\"args\":[{\"marker.color\":[[\"#B0BEC5\",\"#B0BEC5\",\"red\",\"#B0BEC5\",\"#B0BEC5\",\"#B0BEC5\",\"#B0BEC5\",\"#B0BEC5\",\"#B0BEC5\",\"#B0BEC5\",\"#B0BEC5\",\"#B0BEC5\",\"#B0BEC5\",\"#B0BEC5\",\"#B0BEC5\",\"#B0BEC5\",\"#B0BEC5\",\"#B0BEC5\",\"#B0BEC5\",\"#B0BEC5\",\"#B0BEC5\",\"#B0BEC5\",\"#B0BEC5\",\"#B0BEC5\",\"#B0BEC5\",\"#B0BEC5\",\"#B0BEC5\",\"#B0BEC5\",\"#B0BEC5\",\"#B0BEC5\",\"#B0BEC5\",\"#B0BEC5\",\"#B0BEC5\",\"#B0BEC5\",\"#B0BEC5\",\"#B0BEC5\",\"#B0BEC5\",\"#B0BEC5\",\"#B0BEC5\",\"#B0BEC5\",\"#B0BEC5\",\"#B0BEC5\",\"#B0BEC5\",\"#B0BEC5\",\"#B0BEC5\",\"#B0BEC5\",\"#B0BEC5\",\"#B0BEC5\",\"#B0BEC5\",\"#B0BEC5\"]]}],\"label\":\"Topic 2\",\"method\":\"update\"},{\"args\":[{\"marker.color\":[[\"#B0BEC5\",\"#B0BEC5\",\"#B0BEC5\",\"red\",\"#B0BEC5\",\"#B0BEC5\",\"#B0BEC5\",\"#B0BEC5\",\"#B0BEC5\",\"#B0BEC5\",\"#B0BEC5\",\"#B0BEC5\",\"#B0BEC5\",\"#B0BEC5\",\"#B0BEC5\",\"#B0BEC5\",\"#B0BEC5\",\"#B0BEC5\",\"#B0BEC5\",\"#B0BEC5\",\"#B0BEC5\",\"#B0BEC5\",\"#B0BEC5\",\"#B0BEC5\",\"#B0BEC5\",\"#B0BEC5\",\"#B0BEC5\",\"#B0BEC5\",\"#B0BEC5\",\"#B0BEC5\",\"#B0BEC5\",\"#B0BEC5\",\"#B0BEC5\",\"#B0BEC5\",\"#B0BEC5\",\"#B0BEC5\",\"#B0BEC5\",\"#B0BEC5\",\"#B0BEC5\",\"#B0BEC5\",\"#B0BEC5\",\"#B0BEC5\",\"#B0BEC5\",\"#B0BEC5\",\"#B0BEC5\",\"#B0BEC5\",\"#B0BEC5\",\"#B0BEC5\",\"#B0BEC5\",\"#B0BEC5\"]]}],\"label\":\"Topic 3\",\"method\":\"update\"},{\"args\":[{\"marker.color\":[[\"#B0BEC5\",\"#B0BEC5\",\"#B0BEC5\",\"#B0BEC5\",\"red\",\"#B0BEC5\",\"#B0BEC5\",\"#B0BEC5\",\"#B0BEC5\",\"#B0BEC5\",\"#B0BEC5\",\"#B0BEC5\",\"#B0BEC5\",\"#B0BEC5\",\"#B0BEC5\",\"#B0BEC5\",\"#B0BEC5\",\"#B0BEC5\",\"#B0BEC5\",\"#B0BEC5\",\"#B0BEC5\",\"#B0BEC5\",\"#B0BEC5\",\"#B0BEC5\",\"#B0BEC5\",\"#B0BEC5\",\"#B0BEC5\",\"#B0BEC5\",\"#B0BEC5\",\"#B0BEC5\",\"#B0BEC5\",\"#B0BEC5\",\"#B0BEC5\",\"#B0BEC5\",\"#B0BEC5\",\"#B0BEC5\",\"#B0BEC5\",\"#B0BEC5\",\"#B0BEC5\",\"#B0BEC5\",\"#B0BEC5\",\"#B0BEC5\",\"#B0BEC5\",\"#B0BEC5\",\"#B0BEC5\",\"#B0BEC5\",\"#B0BEC5\",\"#B0BEC5\",\"#B0BEC5\",\"#B0BEC5\"]]}],\"label\":\"Topic 4\",\"method\":\"update\"},{\"args\":[{\"marker.color\":[[\"#B0BEC5\",\"#B0BEC5\",\"#B0BEC5\",\"#B0BEC5\",\"#B0BEC5\",\"red\",\"#B0BEC5\",\"#B0BEC5\",\"#B0BEC5\",\"#B0BEC5\",\"#B0BEC5\",\"#B0BEC5\",\"#B0BEC5\",\"#B0BEC5\",\"#B0BEC5\",\"#B0BEC5\",\"#B0BEC5\",\"#B0BEC5\",\"#B0BEC5\",\"#B0BEC5\",\"#B0BEC5\",\"#B0BEC5\",\"#B0BEC5\",\"#B0BEC5\",\"#B0BEC5\",\"#B0BEC5\",\"#B0BEC5\",\"#B0BEC5\",\"#B0BEC5\",\"#B0BEC5\",\"#B0BEC5\",\"#B0BEC5\",\"#B0BEC5\",\"#B0BEC5\",\"#B0BEC5\",\"#B0BEC5\",\"#B0BEC5\",\"#B0BEC5\",\"#B0BEC5\",\"#B0BEC5\",\"#B0BEC5\",\"#B0BEC5\",\"#B0BEC5\",\"#B0BEC5\",\"#B0BEC5\",\"#B0BEC5\",\"#B0BEC5\",\"#B0BEC5\",\"#B0BEC5\",\"#B0BEC5\"]]}],\"label\":\"Topic 5\",\"method\":\"update\"},{\"args\":[{\"marker.color\":[[\"#B0BEC5\",\"#B0BEC5\",\"#B0BEC5\",\"#B0BEC5\",\"#B0BEC5\",\"#B0BEC5\",\"red\",\"#B0BEC5\",\"#B0BEC5\",\"#B0BEC5\",\"#B0BEC5\",\"#B0BEC5\",\"#B0BEC5\",\"#B0BEC5\",\"#B0BEC5\",\"#B0BEC5\",\"#B0BEC5\",\"#B0BEC5\",\"#B0BEC5\",\"#B0BEC5\",\"#B0BEC5\",\"#B0BEC5\",\"#B0BEC5\",\"#B0BEC5\",\"#B0BEC5\",\"#B0BEC5\",\"#B0BEC5\",\"#B0BEC5\",\"#B0BEC5\",\"#B0BEC5\",\"#B0BEC5\",\"#B0BEC5\",\"#B0BEC5\",\"#B0BEC5\",\"#B0BEC5\",\"#B0BEC5\",\"#B0BEC5\",\"#B0BEC5\",\"#B0BEC5\",\"#B0BEC5\",\"#B0BEC5\",\"#B0BEC5\",\"#B0BEC5\",\"#B0BEC5\",\"#B0BEC5\",\"#B0BEC5\",\"#B0BEC5\",\"#B0BEC5\",\"#B0BEC5\",\"#B0BEC5\"]]}],\"label\":\"Topic 6\",\"method\":\"update\"},{\"args\":[{\"marker.color\":[[\"#B0BEC5\",\"#B0BEC5\",\"#B0BEC5\",\"#B0BEC5\",\"#B0BEC5\",\"#B0BEC5\",\"#B0BEC5\",\"red\",\"#B0BEC5\",\"#B0BEC5\",\"#B0BEC5\",\"#B0BEC5\",\"#B0BEC5\",\"#B0BEC5\",\"#B0BEC5\",\"#B0BEC5\",\"#B0BEC5\",\"#B0BEC5\",\"#B0BEC5\",\"#B0BEC5\",\"#B0BEC5\",\"#B0BEC5\",\"#B0BEC5\",\"#B0BEC5\",\"#B0BEC5\",\"#B0BEC5\",\"#B0BEC5\",\"#B0BEC5\",\"#B0BEC5\",\"#B0BEC5\",\"#B0BEC5\",\"#B0BEC5\",\"#B0BEC5\",\"#B0BEC5\",\"#B0BEC5\",\"#B0BEC5\",\"#B0BEC5\",\"#B0BEC5\",\"#B0BEC5\",\"#B0BEC5\",\"#B0BEC5\",\"#B0BEC5\",\"#B0BEC5\",\"#B0BEC5\",\"#B0BEC5\",\"#B0BEC5\",\"#B0BEC5\",\"#B0BEC5\",\"#B0BEC5\",\"#B0BEC5\"]]}],\"label\":\"Topic 7\",\"method\":\"update\"},{\"args\":[{\"marker.color\":[[\"#B0BEC5\",\"#B0BEC5\",\"#B0BEC5\",\"#B0BEC5\",\"#B0BEC5\",\"#B0BEC5\",\"#B0BEC5\",\"#B0BEC5\",\"red\",\"#B0BEC5\",\"#B0BEC5\",\"#B0BEC5\",\"#B0BEC5\",\"#B0BEC5\",\"#B0BEC5\",\"#B0BEC5\",\"#B0BEC5\",\"#B0BEC5\",\"#B0BEC5\",\"#B0BEC5\",\"#B0BEC5\",\"#B0BEC5\",\"#B0BEC5\",\"#B0BEC5\",\"#B0BEC5\",\"#B0BEC5\",\"#B0BEC5\",\"#B0BEC5\",\"#B0BEC5\",\"#B0BEC5\",\"#B0BEC5\",\"#B0BEC5\",\"#B0BEC5\",\"#B0BEC5\",\"#B0BEC5\",\"#B0BEC5\",\"#B0BEC5\",\"#B0BEC5\",\"#B0BEC5\",\"#B0BEC5\",\"#B0BEC5\",\"#B0BEC5\",\"#B0BEC5\",\"#B0BEC5\",\"#B0BEC5\",\"#B0BEC5\",\"#B0BEC5\",\"#B0BEC5\",\"#B0BEC5\",\"#B0BEC5\"]]}],\"label\":\"Topic 8\",\"method\":\"update\"},{\"args\":[{\"marker.color\":[[\"#B0BEC5\",\"#B0BEC5\",\"#B0BEC5\",\"#B0BEC5\",\"#B0BEC5\",\"#B0BEC5\",\"#B0BEC5\",\"#B0BEC5\",\"#B0BEC5\",\"red\",\"#B0BEC5\",\"#B0BEC5\",\"#B0BEC5\",\"#B0BEC5\",\"#B0BEC5\",\"#B0BEC5\",\"#B0BEC5\",\"#B0BEC5\",\"#B0BEC5\",\"#B0BEC5\",\"#B0BEC5\",\"#B0BEC5\",\"#B0BEC5\",\"#B0BEC5\",\"#B0BEC5\",\"#B0BEC5\",\"#B0BEC5\",\"#B0BEC5\",\"#B0BEC5\",\"#B0BEC5\",\"#B0BEC5\",\"#B0BEC5\",\"#B0BEC5\",\"#B0BEC5\",\"#B0BEC5\",\"#B0BEC5\",\"#B0BEC5\",\"#B0BEC5\",\"#B0BEC5\",\"#B0BEC5\",\"#B0BEC5\",\"#B0BEC5\",\"#B0BEC5\",\"#B0BEC5\",\"#B0BEC5\",\"#B0BEC5\",\"#B0BEC5\",\"#B0BEC5\",\"#B0BEC5\",\"#B0BEC5\"]]}],\"label\":\"Topic 9\",\"method\":\"update\"},{\"args\":[{\"marker.color\":[[\"#B0BEC5\",\"#B0BEC5\",\"#B0BEC5\",\"#B0BEC5\",\"#B0BEC5\",\"#B0BEC5\",\"#B0BEC5\",\"#B0BEC5\",\"#B0BEC5\",\"#B0BEC5\",\"red\",\"#B0BEC5\",\"#B0BEC5\",\"#B0BEC5\",\"#B0BEC5\",\"#B0BEC5\",\"#B0BEC5\",\"#B0BEC5\",\"#B0BEC5\",\"#B0BEC5\",\"#B0BEC5\",\"#B0BEC5\",\"#B0BEC5\",\"#B0BEC5\",\"#B0BEC5\",\"#B0BEC5\",\"#B0BEC5\",\"#B0BEC5\",\"#B0BEC5\",\"#B0BEC5\",\"#B0BEC5\",\"#B0BEC5\",\"#B0BEC5\",\"#B0BEC5\",\"#B0BEC5\",\"#B0BEC5\",\"#B0BEC5\",\"#B0BEC5\",\"#B0BEC5\",\"#B0BEC5\",\"#B0BEC5\",\"#B0BEC5\",\"#B0BEC5\",\"#B0BEC5\",\"#B0BEC5\",\"#B0BEC5\",\"#B0BEC5\",\"#B0BEC5\",\"#B0BEC5\",\"#B0BEC5\"]]}],\"label\":\"Topic 10\",\"method\":\"update\"},{\"args\":[{\"marker.color\":[[\"#B0BEC5\",\"#B0BEC5\",\"#B0BEC5\",\"#B0BEC5\",\"#B0BEC5\",\"#B0BEC5\",\"#B0BEC5\",\"#B0BEC5\",\"#B0BEC5\",\"#B0BEC5\",\"#B0BEC5\",\"red\",\"#B0BEC5\",\"#B0BEC5\",\"#B0BEC5\",\"#B0BEC5\",\"#B0BEC5\",\"#B0BEC5\",\"#B0BEC5\",\"#B0BEC5\",\"#B0BEC5\",\"#B0BEC5\",\"#B0BEC5\",\"#B0BEC5\",\"#B0BEC5\",\"#B0BEC5\",\"#B0BEC5\",\"#B0BEC5\",\"#B0BEC5\",\"#B0BEC5\",\"#B0BEC5\",\"#B0BEC5\",\"#B0BEC5\",\"#B0BEC5\",\"#B0BEC5\",\"#B0BEC5\",\"#B0BEC5\",\"#B0BEC5\",\"#B0BEC5\",\"#B0BEC5\",\"#B0BEC5\",\"#B0BEC5\",\"#B0BEC5\",\"#B0BEC5\",\"#B0BEC5\",\"#B0BEC5\",\"#B0BEC5\",\"#B0BEC5\",\"#B0BEC5\",\"#B0BEC5\"]]}],\"label\":\"Topic 11\",\"method\":\"update\"},{\"args\":[{\"marker.color\":[[\"#B0BEC5\",\"#B0BEC5\",\"#B0BEC5\",\"#B0BEC5\",\"#B0BEC5\",\"#B0BEC5\",\"#B0BEC5\",\"#B0BEC5\",\"#B0BEC5\",\"#B0BEC5\",\"#B0BEC5\",\"#B0BEC5\",\"red\",\"#B0BEC5\",\"#B0BEC5\",\"#B0BEC5\",\"#B0BEC5\",\"#B0BEC5\",\"#B0BEC5\",\"#B0BEC5\",\"#B0BEC5\",\"#B0BEC5\",\"#B0BEC5\",\"#B0BEC5\",\"#B0BEC5\",\"#B0BEC5\",\"#B0BEC5\",\"#B0BEC5\",\"#B0BEC5\",\"#B0BEC5\",\"#B0BEC5\",\"#B0BEC5\",\"#B0BEC5\",\"#B0BEC5\",\"#B0BEC5\",\"#B0BEC5\",\"#B0BEC5\",\"#B0BEC5\",\"#B0BEC5\",\"#B0BEC5\",\"#B0BEC5\",\"#B0BEC5\",\"#B0BEC5\",\"#B0BEC5\",\"#B0BEC5\",\"#B0BEC5\",\"#B0BEC5\",\"#B0BEC5\",\"#B0BEC5\",\"#B0BEC5\"]]}],\"label\":\"Topic 12\",\"method\":\"update\"},{\"args\":[{\"marker.color\":[[\"#B0BEC5\",\"#B0BEC5\",\"#B0BEC5\",\"#B0BEC5\",\"#B0BEC5\",\"#B0BEC5\",\"#B0BEC5\",\"#B0BEC5\",\"#B0BEC5\",\"#B0BEC5\",\"#B0BEC5\",\"#B0BEC5\",\"#B0BEC5\",\"red\",\"#B0BEC5\",\"#B0BEC5\",\"#B0BEC5\",\"#B0BEC5\",\"#B0BEC5\",\"#B0BEC5\",\"#B0BEC5\",\"#B0BEC5\",\"#B0BEC5\",\"#B0BEC5\",\"#B0BEC5\",\"#B0BEC5\",\"#B0BEC5\",\"#B0BEC5\",\"#B0BEC5\",\"#B0BEC5\",\"#B0BEC5\",\"#B0BEC5\",\"#B0BEC5\",\"#B0BEC5\",\"#B0BEC5\",\"#B0BEC5\",\"#B0BEC5\",\"#B0BEC5\",\"#B0BEC5\",\"#B0BEC5\",\"#B0BEC5\",\"#B0BEC5\",\"#B0BEC5\",\"#B0BEC5\",\"#B0BEC5\",\"#B0BEC5\",\"#B0BEC5\",\"#B0BEC5\",\"#B0BEC5\",\"#B0BEC5\"]]}],\"label\":\"Topic 13\",\"method\":\"update\"},{\"args\":[{\"marker.color\":[[\"#B0BEC5\",\"#B0BEC5\",\"#B0BEC5\",\"#B0BEC5\",\"#B0BEC5\",\"#B0BEC5\",\"#B0BEC5\",\"#B0BEC5\",\"#B0BEC5\",\"#B0BEC5\",\"#B0BEC5\",\"#B0BEC5\",\"#B0BEC5\",\"#B0BEC5\",\"red\",\"#B0BEC5\",\"#B0BEC5\",\"#B0BEC5\",\"#B0BEC5\",\"#B0BEC5\",\"#B0BEC5\",\"#B0BEC5\",\"#B0BEC5\",\"#B0BEC5\",\"#B0BEC5\",\"#B0BEC5\",\"#B0BEC5\",\"#B0BEC5\",\"#B0BEC5\",\"#B0BEC5\",\"#B0BEC5\",\"#B0BEC5\",\"#B0BEC5\",\"#B0BEC5\",\"#B0BEC5\",\"#B0BEC5\",\"#B0BEC5\",\"#B0BEC5\",\"#B0BEC5\",\"#B0BEC5\",\"#B0BEC5\",\"#B0BEC5\",\"#B0BEC5\",\"#B0BEC5\",\"#B0BEC5\",\"#B0BEC5\",\"#B0BEC5\",\"#B0BEC5\",\"#B0BEC5\",\"#B0BEC5\"]]}],\"label\":\"Topic 14\",\"method\":\"update\"},{\"args\":[{\"marker.color\":[[\"#B0BEC5\",\"#B0BEC5\",\"#B0BEC5\",\"#B0BEC5\",\"#B0BEC5\",\"#B0BEC5\",\"#B0BEC5\",\"#B0BEC5\",\"#B0BEC5\",\"#B0BEC5\",\"#B0BEC5\",\"#B0BEC5\",\"#B0BEC5\",\"#B0BEC5\",\"#B0BEC5\",\"red\",\"#B0BEC5\",\"#B0BEC5\",\"#B0BEC5\",\"#B0BEC5\",\"#B0BEC5\",\"#B0BEC5\",\"#B0BEC5\",\"#B0BEC5\",\"#B0BEC5\",\"#B0BEC5\",\"#B0BEC5\",\"#B0BEC5\",\"#B0BEC5\",\"#B0BEC5\",\"#B0BEC5\",\"#B0BEC5\",\"#B0BEC5\",\"#B0BEC5\",\"#B0BEC5\",\"#B0BEC5\",\"#B0BEC5\",\"#B0BEC5\",\"#B0BEC5\",\"#B0BEC5\",\"#B0BEC5\",\"#B0BEC5\",\"#B0BEC5\",\"#B0BEC5\",\"#B0BEC5\",\"#B0BEC5\",\"#B0BEC5\",\"#B0BEC5\",\"#B0BEC5\",\"#B0BEC5\"]]}],\"label\":\"Topic 15\",\"method\":\"update\"},{\"args\":[{\"marker.color\":[[\"#B0BEC5\",\"#B0BEC5\",\"#B0BEC5\",\"#B0BEC5\",\"#B0BEC5\",\"#B0BEC5\",\"#B0BEC5\",\"#B0BEC5\",\"#B0BEC5\",\"#B0BEC5\",\"#B0BEC5\",\"#B0BEC5\",\"#B0BEC5\",\"#B0BEC5\",\"#B0BEC5\",\"#B0BEC5\",\"red\",\"#B0BEC5\",\"#B0BEC5\",\"#B0BEC5\",\"#B0BEC5\",\"#B0BEC5\",\"#B0BEC5\",\"#B0BEC5\",\"#B0BEC5\",\"#B0BEC5\",\"#B0BEC5\",\"#B0BEC5\",\"#B0BEC5\",\"#B0BEC5\",\"#B0BEC5\",\"#B0BEC5\",\"#B0BEC5\",\"#B0BEC5\",\"#B0BEC5\",\"#B0BEC5\",\"#B0BEC5\",\"#B0BEC5\",\"#B0BEC5\",\"#B0BEC5\",\"#B0BEC5\",\"#B0BEC5\",\"#B0BEC5\",\"#B0BEC5\",\"#B0BEC5\",\"#B0BEC5\",\"#B0BEC5\",\"#B0BEC5\",\"#B0BEC5\",\"#B0BEC5\"]]}],\"label\":\"Topic 16\",\"method\":\"update\"},{\"args\":[{\"marker.color\":[[\"#B0BEC5\",\"#B0BEC5\",\"#B0BEC5\",\"#B0BEC5\",\"#B0BEC5\",\"#B0BEC5\",\"#B0BEC5\",\"#B0BEC5\",\"#B0BEC5\",\"#B0BEC5\",\"#B0BEC5\",\"#B0BEC5\",\"#B0BEC5\",\"#B0BEC5\",\"#B0BEC5\",\"#B0BEC5\",\"#B0BEC5\",\"red\",\"#B0BEC5\",\"#B0BEC5\",\"#B0BEC5\",\"#B0BEC5\",\"#B0BEC5\",\"#B0BEC5\",\"#B0BEC5\",\"#B0BEC5\",\"#B0BEC5\",\"#B0BEC5\",\"#B0BEC5\",\"#B0BEC5\",\"#B0BEC5\",\"#B0BEC5\",\"#B0BEC5\",\"#B0BEC5\",\"#B0BEC5\",\"#B0BEC5\",\"#B0BEC5\",\"#B0BEC5\",\"#B0BEC5\",\"#B0BEC5\",\"#B0BEC5\",\"#B0BEC5\",\"#B0BEC5\",\"#B0BEC5\",\"#B0BEC5\",\"#B0BEC5\",\"#B0BEC5\",\"#B0BEC5\",\"#B0BEC5\",\"#B0BEC5\"]]}],\"label\":\"Topic 17\",\"method\":\"update\"},{\"args\":[{\"marker.color\":[[\"#B0BEC5\",\"#B0BEC5\",\"#B0BEC5\",\"#B0BEC5\",\"#B0BEC5\",\"#B0BEC5\",\"#B0BEC5\",\"#B0BEC5\",\"#B0BEC5\",\"#B0BEC5\",\"#B0BEC5\",\"#B0BEC5\",\"#B0BEC5\",\"#B0BEC5\",\"#B0BEC5\",\"#B0BEC5\",\"#B0BEC5\",\"#B0BEC5\",\"red\",\"#B0BEC5\",\"#B0BEC5\",\"#B0BEC5\",\"#B0BEC5\",\"#B0BEC5\",\"#B0BEC5\",\"#B0BEC5\",\"#B0BEC5\",\"#B0BEC5\",\"#B0BEC5\",\"#B0BEC5\",\"#B0BEC5\",\"#B0BEC5\",\"#B0BEC5\",\"#B0BEC5\",\"#B0BEC5\",\"#B0BEC5\",\"#B0BEC5\",\"#B0BEC5\",\"#B0BEC5\",\"#B0BEC5\",\"#B0BEC5\",\"#B0BEC5\",\"#B0BEC5\",\"#B0BEC5\",\"#B0BEC5\",\"#B0BEC5\",\"#B0BEC5\",\"#B0BEC5\",\"#B0BEC5\",\"#B0BEC5\"]]}],\"label\":\"Topic 18\",\"method\":\"update\"},{\"args\":[{\"marker.color\":[[\"#B0BEC5\",\"#B0BEC5\",\"#B0BEC5\",\"#B0BEC5\",\"#B0BEC5\",\"#B0BEC5\",\"#B0BEC5\",\"#B0BEC5\",\"#B0BEC5\",\"#B0BEC5\",\"#B0BEC5\",\"#B0BEC5\",\"#B0BEC5\",\"#B0BEC5\",\"#B0BEC5\",\"#B0BEC5\",\"#B0BEC5\",\"#B0BEC5\",\"#B0BEC5\",\"red\",\"#B0BEC5\",\"#B0BEC5\",\"#B0BEC5\",\"#B0BEC5\",\"#B0BEC5\",\"#B0BEC5\",\"#B0BEC5\",\"#B0BEC5\",\"#B0BEC5\",\"#B0BEC5\",\"#B0BEC5\",\"#B0BEC5\",\"#B0BEC5\",\"#B0BEC5\",\"#B0BEC5\",\"#B0BEC5\",\"#B0BEC5\",\"#B0BEC5\",\"#B0BEC5\",\"#B0BEC5\",\"#B0BEC5\",\"#B0BEC5\",\"#B0BEC5\",\"#B0BEC5\",\"#B0BEC5\",\"#B0BEC5\",\"#B0BEC5\",\"#B0BEC5\",\"#B0BEC5\",\"#B0BEC5\"]]}],\"label\":\"Topic 19\",\"method\":\"update\"},{\"args\":[{\"marker.color\":[[\"#B0BEC5\",\"#B0BEC5\",\"#B0BEC5\",\"#B0BEC5\",\"#B0BEC5\",\"#B0BEC5\",\"#B0BEC5\",\"#B0BEC5\",\"#B0BEC5\",\"#B0BEC5\",\"#B0BEC5\",\"#B0BEC5\",\"#B0BEC5\",\"#B0BEC5\",\"#B0BEC5\",\"#B0BEC5\",\"#B0BEC5\",\"#B0BEC5\",\"#B0BEC5\",\"#B0BEC5\",\"red\",\"#B0BEC5\",\"#B0BEC5\",\"#B0BEC5\",\"#B0BEC5\",\"#B0BEC5\",\"#B0BEC5\",\"#B0BEC5\",\"#B0BEC5\",\"#B0BEC5\",\"#B0BEC5\",\"#B0BEC5\",\"#B0BEC5\",\"#B0BEC5\",\"#B0BEC5\",\"#B0BEC5\",\"#B0BEC5\",\"#B0BEC5\",\"#B0BEC5\",\"#B0BEC5\",\"#B0BEC5\",\"#B0BEC5\",\"#B0BEC5\",\"#B0BEC5\",\"#B0BEC5\",\"#B0BEC5\",\"#B0BEC5\",\"#B0BEC5\",\"#B0BEC5\",\"#B0BEC5\"]]}],\"label\":\"Topic 20\",\"method\":\"update\"},{\"args\":[{\"marker.color\":[[\"#B0BEC5\",\"#B0BEC5\",\"#B0BEC5\",\"#B0BEC5\",\"#B0BEC5\",\"#B0BEC5\",\"#B0BEC5\",\"#B0BEC5\",\"#B0BEC5\",\"#B0BEC5\",\"#B0BEC5\",\"#B0BEC5\",\"#B0BEC5\",\"#B0BEC5\",\"#B0BEC5\",\"#B0BEC5\",\"#B0BEC5\",\"#B0BEC5\",\"#B0BEC5\",\"#B0BEC5\",\"#B0BEC5\",\"red\",\"#B0BEC5\",\"#B0BEC5\",\"#B0BEC5\",\"#B0BEC5\",\"#B0BEC5\",\"#B0BEC5\",\"#B0BEC5\",\"#B0BEC5\",\"#B0BEC5\",\"#B0BEC5\",\"#B0BEC5\",\"#B0BEC5\",\"#B0BEC5\",\"#B0BEC5\",\"#B0BEC5\",\"#B0BEC5\",\"#B0BEC5\",\"#B0BEC5\",\"#B0BEC5\",\"#B0BEC5\",\"#B0BEC5\",\"#B0BEC5\",\"#B0BEC5\",\"#B0BEC5\",\"#B0BEC5\",\"#B0BEC5\",\"#B0BEC5\",\"#B0BEC5\"]]}],\"label\":\"Topic 21\",\"method\":\"update\"},{\"args\":[{\"marker.color\":[[\"#B0BEC5\",\"#B0BEC5\",\"#B0BEC5\",\"#B0BEC5\",\"#B0BEC5\",\"#B0BEC5\",\"#B0BEC5\",\"#B0BEC5\",\"#B0BEC5\",\"#B0BEC5\",\"#B0BEC5\",\"#B0BEC5\",\"#B0BEC5\",\"#B0BEC5\",\"#B0BEC5\",\"#B0BEC5\",\"#B0BEC5\",\"#B0BEC5\",\"#B0BEC5\",\"#B0BEC5\",\"#B0BEC5\",\"#B0BEC5\",\"red\",\"#B0BEC5\",\"#B0BEC5\",\"#B0BEC5\",\"#B0BEC5\",\"#B0BEC5\",\"#B0BEC5\",\"#B0BEC5\",\"#B0BEC5\",\"#B0BEC5\",\"#B0BEC5\",\"#B0BEC5\",\"#B0BEC5\",\"#B0BEC5\",\"#B0BEC5\",\"#B0BEC5\",\"#B0BEC5\",\"#B0BEC5\",\"#B0BEC5\",\"#B0BEC5\",\"#B0BEC5\",\"#B0BEC5\",\"#B0BEC5\",\"#B0BEC5\",\"#B0BEC5\",\"#B0BEC5\",\"#B0BEC5\",\"#B0BEC5\"]]}],\"label\":\"Topic 22\",\"method\":\"update\"},{\"args\":[{\"marker.color\":[[\"#B0BEC5\",\"#B0BEC5\",\"#B0BEC5\",\"#B0BEC5\",\"#B0BEC5\",\"#B0BEC5\",\"#B0BEC5\",\"#B0BEC5\",\"#B0BEC5\",\"#B0BEC5\",\"#B0BEC5\",\"#B0BEC5\",\"#B0BEC5\",\"#B0BEC5\",\"#B0BEC5\",\"#B0BEC5\",\"#B0BEC5\",\"#B0BEC5\",\"#B0BEC5\",\"#B0BEC5\",\"#B0BEC5\",\"#B0BEC5\",\"#B0BEC5\",\"red\",\"#B0BEC5\",\"#B0BEC5\",\"#B0BEC5\",\"#B0BEC5\",\"#B0BEC5\",\"#B0BEC5\",\"#B0BEC5\",\"#B0BEC5\",\"#B0BEC5\",\"#B0BEC5\",\"#B0BEC5\",\"#B0BEC5\",\"#B0BEC5\",\"#B0BEC5\",\"#B0BEC5\",\"#B0BEC5\",\"#B0BEC5\",\"#B0BEC5\",\"#B0BEC5\",\"#B0BEC5\",\"#B0BEC5\",\"#B0BEC5\",\"#B0BEC5\",\"#B0BEC5\",\"#B0BEC5\",\"#B0BEC5\"]]}],\"label\":\"Topic 23\",\"method\":\"update\"},{\"args\":[{\"marker.color\":[[\"#B0BEC5\",\"#B0BEC5\",\"#B0BEC5\",\"#B0BEC5\",\"#B0BEC5\",\"#B0BEC5\",\"#B0BEC5\",\"#B0BEC5\",\"#B0BEC5\",\"#B0BEC5\",\"#B0BEC5\",\"#B0BEC5\",\"#B0BEC5\",\"#B0BEC5\",\"#B0BEC5\",\"#B0BEC5\",\"#B0BEC5\",\"#B0BEC5\",\"#B0BEC5\",\"#B0BEC5\",\"#B0BEC5\",\"#B0BEC5\",\"#B0BEC5\",\"#B0BEC5\",\"red\",\"#B0BEC5\",\"#B0BEC5\",\"#B0BEC5\",\"#B0BEC5\",\"#B0BEC5\",\"#B0BEC5\",\"#B0BEC5\",\"#B0BEC5\",\"#B0BEC5\",\"#B0BEC5\",\"#B0BEC5\",\"#B0BEC5\",\"#B0BEC5\",\"#B0BEC5\",\"#B0BEC5\",\"#B0BEC5\",\"#B0BEC5\",\"#B0BEC5\",\"#B0BEC5\",\"#B0BEC5\",\"#B0BEC5\",\"#B0BEC5\",\"#B0BEC5\",\"#B0BEC5\",\"#B0BEC5\"]]}],\"label\":\"Topic 24\",\"method\":\"update\"},{\"args\":[{\"marker.color\":[[\"#B0BEC5\",\"#B0BEC5\",\"#B0BEC5\",\"#B0BEC5\",\"#B0BEC5\",\"#B0BEC5\",\"#B0BEC5\",\"#B0BEC5\",\"#B0BEC5\",\"#B0BEC5\",\"#B0BEC5\",\"#B0BEC5\",\"#B0BEC5\",\"#B0BEC5\",\"#B0BEC5\",\"#B0BEC5\",\"#B0BEC5\",\"#B0BEC5\",\"#B0BEC5\",\"#B0BEC5\",\"#B0BEC5\",\"#B0BEC5\",\"#B0BEC5\",\"#B0BEC5\",\"#B0BEC5\",\"red\",\"#B0BEC5\",\"#B0BEC5\",\"#B0BEC5\",\"#B0BEC5\",\"#B0BEC5\",\"#B0BEC5\",\"#B0BEC5\",\"#B0BEC5\",\"#B0BEC5\",\"#B0BEC5\",\"#B0BEC5\",\"#B0BEC5\",\"#B0BEC5\",\"#B0BEC5\",\"#B0BEC5\",\"#B0BEC5\",\"#B0BEC5\",\"#B0BEC5\",\"#B0BEC5\",\"#B0BEC5\",\"#B0BEC5\",\"#B0BEC5\",\"#B0BEC5\",\"#B0BEC5\"]]}],\"label\":\"Topic 25\",\"method\":\"update\"},{\"args\":[{\"marker.color\":[[\"#B0BEC5\",\"#B0BEC5\",\"#B0BEC5\",\"#B0BEC5\",\"#B0BEC5\",\"#B0BEC5\",\"#B0BEC5\",\"#B0BEC5\",\"#B0BEC5\",\"#B0BEC5\",\"#B0BEC5\",\"#B0BEC5\",\"#B0BEC5\",\"#B0BEC5\",\"#B0BEC5\",\"#B0BEC5\",\"#B0BEC5\",\"#B0BEC5\",\"#B0BEC5\",\"#B0BEC5\",\"#B0BEC5\",\"#B0BEC5\",\"#B0BEC5\",\"#B0BEC5\",\"#B0BEC5\",\"#B0BEC5\",\"red\",\"#B0BEC5\",\"#B0BEC5\",\"#B0BEC5\",\"#B0BEC5\",\"#B0BEC5\",\"#B0BEC5\",\"#B0BEC5\",\"#B0BEC5\",\"#B0BEC5\",\"#B0BEC5\",\"#B0BEC5\",\"#B0BEC5\",\"#B0BEC5\",\"#B0BEC5\",\"#B0BEC5\",\"#B0BEC5\",\"#B0BEC5\",\"#B0BEC5\",\"#B0BEC5\",\"#B0BEC5\",\"#B0BEC5\",\"#B0BEC5\",\"#B0BEC5\"]]}],\"label\":\"Topic 26\",\"method\":\"update\"},{\"args\":[{\"marker.color\":[[\"#B0BEC5\",\"#B0BEC5\",\"#B0BEC5\",\"#B0BEC5\",\"#B0BEC5\",\"#B0BEC5\",\"#B0BEC5\",\"#B0BEC5\",\"#B0BEC5\",\"#B0BEC5\",\"#B0BEC5\",\"#B0BEC5\",\"#B0BEC5\",\"#B0BEC5\",\"#B0BEC5\",\"#B0BEC5\",\"#B0BEC5\",\"#B0BEC5\",\"#B0BEC5\",\"#B0BEC5\",\"#B0BEC5\",\"#B0BEC5\",\"#B0BEC5\",\"#B0BEC5\",\"#B0BEC5\",\"#B0BEC5\",\"#B0BEC5\",\"red\",\"#B0BEC5\",\"#B0BEC5\",\"#B0BEC5\",\"#B0BEC5\",\"#B0BEC5\",\"#B0BEC5\",\"#B0BEC5\",\"#B0BEC5\",\"#B0BEC5\",\"#B0BEC5\",\"#B0BEC5\",\"#B0BEC5\",\"#B0BEC5\",\"#B0BEC5\",\"#B0BEC5\",\"#B0BEC5\",\"#B0BEC5\",\"#B0BEC5\",\"#B0BEC5\",\"#B0BEC5\",\"#B0BEC5\",\"#B0BEC5\"]]}],\"label\":\"Topic 27\",\"method\":\"update\"},{\"args\":[{\"marker.color\":[[\"#B0BEC5\",\"#B0BEC5\",\"#B0BEC5\",\"#B0BEC5\",\"#B0BEC5\",\"#B0BEC5\",\"#B0BEC5\",\"#B0BEC5\",\"#B0BEC5\",\"#B0BEC5\",\"#B0BEC5\",\"#B0BEC5\",\"#B0BEC5\",\"#B0BEC5\",\"#B0BEC5\",\"#B0BEC5\",\"#B0BEC5\",\"#B0BEC5\",\"#B0BEC5\",\"#B0BEC5\",\"#B0BEC5\",\"#B0BEC5\",\"#B0BEC5\",\"#B0BEC5\",\"#B0BEC5\",\"#B0BEC5\",\"#B0BEC5\",\"#B0BEC5\",\"red\",\"#B0BEC5\",\"#B0BEC5\",\"#B0BEC5\",\"#B0BEC5\",\"#B0BEC5\",\"#B0BEC5\",\"#B0BEC5\",\"#B0BEC5\",\"#B0BEC5\",\"#B0BEC5\",\"#B0BEC5\",\"#B0BEC5\",\"#B0BEC5\",\"#B0BEC5\",\"#B0BEC5\",\"#B0BEC5\",\"#B0BEC5\",\"#B0BEC5\",\"#B0BEC5\",\"#B0BEC5\",\"#B0BEC5\"]]}],\"label\":\"Topic 28\",\"method\":\"update\"},{\"args\":[{\"marker.color\":[[\"#B0BEC5\",\"#B0BEC5\",\"#B0BEC5\",\"#B0BEC5\",\"#B0BEC5\",\"#B0BEC5\",\"#B0BEC5\",\"#B0BEC5\",\"#B0BEC5\",\"#B0BEC5\",\"#B0BEC5\",\"#B0BEC5\",\"#B0BEC5\",\"#B0BEC5\",\"#B0BEC5\",\"#B0BEC5\",\"#B0BEC5\",\"#B0BEC5\",\"#B0BEC5\",\"#B0BEC5\",\"#B0BEC5\",\"#B0BEC5\",\"#B0BEC5\",\"#B0BEC5\",\"#B0BEC5\",\"#B0BEC5\",\"#B0BEC5\",\"#B0BEC5\",\"#B0BEC5\",\"red\",\"#B0BEC5\",\"#B0BEC5\",\"#B0BEC5\",\"#B0BEC5\",\"#B0BEC5\",\"#B0BEC5\",\"#B0BEC5\",\"#B0BEC5\",\"#B0BEC5\",\"#B0BEC5\",\"#B0BEC5\",\"#B0BEC5\",\"#B0BEC5\",\"#B0BEC5\",\"#B0BEC5\",\"#B0BEC5\",\"#B0BEC5\",\"#B0BEC5\",\"#B0BEC5\",\"#B0BEC5\"]]}],\"label\":\"Topic 29\",\"method\":\"update\"},{\"args\":[{\"marker.color\":[[\"#B0BEC5\",\"#B0BEC5\",\"#B0BEC5\",\"#B0BEC5\",\"#B0BEC5\",\"#B0BEC5\",\"#B0BEC5\",\"#B0BEC5\",\"#B0BEC5\",\"#B0BEC5\",\"#B0BEC5\",\"#B0BEC5\",\"#B0BEC5\",\"#B0BEC5\",\"#B0BEC5\",\"#B0BEC5\",\"#B0BEC5\",\"#B0BEC5\",\"#B0BEC5\",\"#B0BEC5\",\"#B0BEC5\",\"#B0BEC5\",\"#B0BEC5\",\"#B0BEC5\",\"#B0BEC5\",\"#B0BEC5\",\"#B0BEC5\",\"#B0BEC5\",\"#B0BEC5\",\"#B0BEC5\",\"red\",\"#B0BEC5\",\"#B0BEC5\",\"#B0BEC5\",\"#B0BEC5\",\"#B0BEC5\",\"#B0BEC5\",\"#B0BEC5\",\"#B0BEC5\",\"#B0BEC5\",\"#B0BEC5\",\"#B0BEC5\",\"#B0BEC5\",\"#B0BEC5\",\"#B0BEC5\",\"#B0BEC5\",\"#B0BEC5\",\"#B0BEC5\",\"#B0BEC5\",\"#B0BEC5\"]]}],\"label\":\"Topic 30\",\"method\":\"update\"},{\"args\":[{\"marker.color\":[[\"#B0BEC5\",\"#B0BEC5\",\"#B0BEC5\",\"#B0BEC5\",\"#B0BEC5\",\"#B0BEC5\",\"#B0BEC5\",\"#B0BEC5\",\"#B0BEC5\",\"#B0BEC5\",\"#B0BEC5\",\"#B0BEC5\",\"#B0BEC5\",\"#B0BEC5\",\"#B0BEC5\",\"#B0BEC5\",\"#B0BEC5\",\"#B0BEC5\",\"#B0BEC5\",\"#B0BEC5\",\"#B0BEC5\",\"#B0BEC5\",\"#B0BEC5\",\"#B0BEC5\",\"#B0BEC5\",\"#B0BEC5\",\"#B0BEC5\",\"#B0BEC5\",\"#B0BEC5\",\"#B0BEC5\",\"#B0BEC5\",\"red\",\"#B0BEC5\",\"#B0BEC5\",\"#B0BEC5\",\"#B0BEC5\",\"#B0BEC5\",\"#B0BEC5\",\"#B0BEC5\",\"#B0BEC5\",\"#B0BEC5\",\"#B0BEC5\",\"#B0BEC5\",\"#B0BEC5\",\"#B0BEC5\",\"#B0BEC5\",\"#B0BEC5\",\"#B0BEC5\",\"#B0BEC5\",\"#B0BEC5\"]]}],\"label\":\"Topic 31\",\"method\":\"update\"},{\"args\":[{\"marker.color\":[[\"#B0BEC5\",\"#B0BEC5\",\"#B0BEC5\",\"#B0BEC5\",\"#B0BEC5\",\"#B0BEC5\",\"#B0BEC5\",\"#B0BEC5\",\"#B0BEC5\",\"#B0BEC5\",\"#B0BEC5\",\"#B0BEC5\",\"#B0BEC5\",\"#B0BEC5\",\"#B0BEC5\",\"#B0BEC5\",\"#B0BEC5\",\"#B0BEC5\",\"#B0BEC5\",\"#B0BEC5\",\"#B0BEC5\",\"#B0BEC5\",\"#B0BEC5\",\"#B0BEC5\",\"#B0BEC5\",\"#B0BEC5\",\"#B0BEC5\",\"#B0BEC5\",\"#B0BEC5\",\"#B0BEC5\",\"#B0BEC5\",\"#B0BEC5\",\"red\",\"#B0BEC5\",\"#B0BEC5\",\"#B0BEC5\",\"#B0BEC5\",\"#B0BEC5\",\"#B0BEC5\",\"#B0BEC5\",\"#B0BEC5\",\"#B0BEC5\",\"#B0BEC5\",\"#B0BEC5\",\"#B0BEC5\",\"#B0BEC5\",\"#B0BEC5\",\"#B0BEC5\",\"#B0BEC5\",\"#B0BEC5\"]]}],\"label\":\"Topic 32\",\"method\":\"update\"},{\"args\":[{\"marker.color\":[[\"#B0BEC5\",\"#B0BEC5\",\"#B0BEC5\",\"#B0BEC5\",\"#B0BEC5\",\"#B0BEC5\",\"#B0BEC5\",\"#B0BEC5\",\"#B0BEC5\",\"#B0BEC5\",\"#B0BEC5\",\"#B0BEC5\",\"#B0BEC5\",\"#B0BEC5\",\"#B0BEC5\",\"#B0BEC5\",\"#B0BEC5\",\"#B0BEC5\",\"#B0BEC5\",\"#B0BEC5\",\"#B0BEC5\",\"#B0BEC5\",\"#B0BEC5\",\"#B0BEC5\",\"#B0BEC5\",\"#B0BEC5\",\"#B0BEC5\",\"#B0BEC5\",\"#B0BEC5\",\"#B0BEC5\",\"#B0BEC5\",\"#B0BEC5\",\"#B0BEC5\",\"red\",\"#B0BEC5\",\"#B0BEC5\",\"#B0BEC5\",\"#B0BEC5\",\"#B0BEC5\",\"#B0BEC5\",\"#B0BEC5\",\"#B0BEC5\",\"#B0BEC5\",\"#B0BEC5\",\"#B0BEC5\",\"#B0BEC5\",\"#B0BEC5\",\"#B0BEC5\",\"#B0BEC5\",\"#B0BEC5\"]]}],\"label\":\"Topic 33\",\"method\":\"update\"},{\"args\":[{\"marker.color\":[[\"#B0BEC5\",\"#B0BEC5\",\"#B0BEC5\",\"#B0BEC5\",\"#B0BEC5\",\"#B0BEC5\",\"#B0BEC5\",\"#B0BEC5\",\"#B0BEC5\",\"#B0BEC5\",\"#B0BEC5\",\"#B0BEC5\",\"#B0BEC5\",\"#B0BEC5\",\"#B0BEC5\",\"#B0BEC5\",\"#B0BEC5\",\"#B0BEC5\",\"#B0BEC5\",\"#B0BEC5\",\"#B0BEC5\",\"#B0BEC5\",\"#B0BEC5\",\"#B0BEC5\",\"#B0BEC5\",\"#B0BEC5\",\"#B0BEC5\",\"#B0BEC5\",\"#B0BEC5\",\"#B0BEC5\",\"#B0BEC5\",\"#B0BEC5\",\"#B0BEC5\",\"#B0BEC5\",\"red\",\"#B0BEC5\",\"#B0BEC5\",\"#B0BEC5\",\"#B0BEC5\",\"#B0BEC5\",\"#B0BEC5\",\"#B0BEC5\",\"#B0BEC5\",\"#B0BEC5\",\"#B0BEC5\",\"#B0BEC5\",\"#B0BEC5\",\"#B0BEC5\",\"#B0BEC5\",\"#B0BEC5\"]]}],\"label\":\"Topic 34\",\"method\":\"update\"},{\"args\":[{\"marker.color\":[[\"#B0BEC5\",\"#B0BEC5\",\"#B0BEC5\",\"#B0BEC5\",\"#B0BEC5\",\"#B0BEC5\",\"#B0BEC5\",\"#B0BEC5\",\"#B0BEC5\",\"#B0BEC5\",\"#B0BEC5\",\"#B0BEC5\",\"#B0BEC5\",\"#B0BEC5\",\"#B0BEC5\",\"#B0BEC5\",\"#B0BEC5\",\"#B0BEC5\",\"#B0BEC5\",\"#B0BEC5\",\"#B0BEC5\",\"#B0BEC5\",\"#B0BEC5\",\"#B0BEC5\",\"#B0BEC5\",\"#B0BEC5\",\"#B0BEC5\",\"#B0BEC5\",\"#B0BEC5\",\"#B0BEC5\",\"#B0BEC5\",\"#B0BEC5\",\"#B0BEC5\",\"#B0BEC5\",\"#B0BEC5\",\"red\",\"#B0BEC5\",\"#B0BEC5\",\"#B0BEC5\",\"#B0BEC5\",\"#B0BEC5\",\"#B0BEC5\",\"#B0BEC5\",\"#B0BEC5\",\"#B0BEC5\",\"#B0BEC5\",\"#B0BEC5\",\"#B0BEC5\",\"#B0BEC5\",\"#B0BEC5\"]]}],\"label\":\"Topic 35\",\"method\":\"update\"},{\"args\":[{\"marker.color\":[[\"#B0BEC5\",\"#B0BEC5\",\"#B0BEC5\",\"#B0BEC5\",\"#B0BEC5\",\"#B0BEC5\",\"#B0BEC5\",\"#B0BEC5\",\"#B0BEC5\",\"#B0BEC5\",\"#B0BEC5\",\"#B0BEC5\",\"#B0BEC5\",\"#B0BEC5\",\"#B0BEC5\",\"#B0BEC5\",\"#B0BEC5\",\"#B0BEC5\",\"#B0BEC5\",\"#B0BEC5\",\"#B0BEC5\",\"#B0BEC5\",\"#B0BEC5\",\"#B0BEC5\",\"#B0BEC5\",\"#B0BEC5\",\"#B0BEC5\",\"#B0BEC5\",\"#B0BEC5\",\"#B0BEC5\",\"#B0BEC5\",\"#B0BEC5\",\"#B0BEC5\",\"#B0BEC5\",\"#B0BEC5\",\"#B0BEC5\",\"red\",\"#B0BEC5\",\"#B0BEC5\",\"#B0BEC5\",\"#B0BEC5\",\"#B0BEC5\",\"#B0BEC5\",\"#B0BEC5\",\"#B0BEC5\",\"#B0BEC5\",\"#B0BEC5\",\"#B0BEC5\",\"#B0BEC5\",\"#B0BEC5\"]]}],\"label\":\"Topic 36\",\"method\":\"update\"},{\"args\":[{\"marker.color\":[[\"#B0BEC5\",\"#B0BEC5\",\"#B0BEC5\",\"#B0BEC5\",\"#B0BEC5\",\"#B0BEC5\",\"#B0BEC5\",\"#B0BEC5\",\"#B0BEC5\",\"#B0BEC5\",\"#B0BEC5\",\"#B0BEC5\",\"#B0BEC5\",\"#B0BEC5\",\"#B0BEC5\",\"#B0BEC5\",\"#B0BEC5\",\"#B0BEC5\",\"#B0BEC5\",\"#B0BEC5\",\"#B0BEC5\",\"#B0BEC5\",\"#B0BEC5\",\"#B0BEC5\",\"#B0BEC5\",\"#B0BEC5\",\"#B0BEC5\",\"#B0BEC5\",\"#B0BEC5\",\"#B0BEC5\",\"#B0BEC5\",\"#B0BEC5\",\"#B0BEC5\",\"#B0BEC5\",\"#B0BEC5\",\"#B0BEC5\",\"#B0BEC5\",\"red\",\"#B0BEC5\",\"#B0BEC5\",\"#B0BEC5\",\"#B0BEC5\",\"#B0BEC5\",\"#B0BEC5\",\"#B0BEC5\",\"#B0BEC5\",\"#B0BEC5\",\"#B0BEC5\",\"#B0BEC5\",\"#B0BEC5\"]]}],\"label\":\"Topic 37\",\"method\":\"update\"},{\"args\":[{\"marker.color\":[[\"#B0BEC5\",\"#B0BEC5\",\"#B0BEC5\",\"#B0BEC5\",\"#B0BEC5\",\"#B0BEC5\",\"#B0BEC5\",\"#B0BEC5\",\"#B0BEC5\",\"#B0BEC5\",\"#B0BEC5\",\"#B0BEC5\",\"#B0BEC5\",\"#B0BEC5\",\"#B0BEC5\",\"#B0BEC5\",\"#B0BEC5\",\"#B0BEC5\",\"#B0BEC5\",\"#B0BEC5\",\"#B0BEC5\",\"#B0BEC5\",\"#B0BEC5\",\"#B0BEC5\",\"#B0BEC5\",\"#B0BEC5\",\"#B0BEC5\",\"#B0BEC5\",\"#B0BEC5\",\"#B0BEC5\",\"#B0BEC5\",\"#B0BEC5\",\"#B0BEC5\",\"#B0BEC5\",\"#B0BEC5\",\"#B0BEC5\",\"#B0BEC5\",\"#B0BEC5\",\"red\",\"#B0BEC5\",\"#B0BEC5\",\"#B0BEC5\",\"#B0BEC5\",\"#B0BEC5\",\"#B0BEC5\",\"#B0BEC5\",\"#B0BEC5\",\"#B0BEC5\",\"#B0BEC5\",\"#B0BEC5\"]]}],\"label\":\"Topic 38\",\"method\":\"update\"},{\"args\":[{\"marker.color\":[[\"#B0BEC5\",\"#B0BEC5\",\"#B0BEC5\",\"#B0BEC5\",\"#B0BEC5\",\"#B0BEC5\",\"#B0BEC5\",\"#B0BEC5\",\"#B0BEC5\",\"#B0BEC5\",\"#B0BEC5\",\"#B0BEC5\",\"#B0BEC5\",\"#B0BEC5\",\"#B0BEC5\",\"#B0BEC5\",\"#B0BEC5\",\"#B0BEC5\",\"#B0BEC5\",\"#B0BEC5\",\"#B0BEC5\",\"#B0BEC5\",\"#B0BEC5\",\"#B0BEC5\",\"#B0BEC5\",\"#B0BEC5\",\"#B0BEC5\",\"#B0BEC5\",\"#B0BEC5\",\"#B0BEC5\",\"#B0BEC5\",\"#B0BEC5\",\"#B0BEC5\",\"#B0BEC5\",\"#B0BEC5\",\"#B0BEC5\",\"#B0BEC5\",\"#B0BEC5\",\"#B0BEC5\",\"red\",\"#B0BEC5\",\"#B0BEC5\",\"#B0BEC5\",\"#B0BEC5\",\"#B0BEC5\",\"#B0BEC5\",\"#B0BEC5\",\"#B0BEC5\",\"#B0BEC5\",\"#B0BEC5\"]]}],\"label\":\"Topic 39\",\"method\":\"update\"},{\"args\":[{\"marker.color\":[[\"#B0BEC5\",\"#B0BEC5\",\"#B0BEC5\",\"#B0BEC5\",\"#B0BEC5\",\"#B0BEC5\",\"#B0BEC5\",\"#B0BEC5\",\"#B0BEC5\",\"#B0BEC5\",\"#B0BEC5\",\"#B0BEC5\",\"#B0BEC5\",\"#B0BEC5\",\"#B0BEC5\",\"#B0BEC5\",\"#B0BEC5\",\"#B0BEC5\",\"#B0BEC5\",\"#B0BEC5\",\"#B0BEC5\",\"#B0BEC5\",\"#B0BEC5\",\"#B0BEC5\",\"#B0BEC5\",\"#B0BEC5\",\"#B0BEC5\",\"#B0BEC5\",\"#B0BEC5\",\"#B0BEC5\",\"#B0BEC5\",\"#B0BEC5\",\"#B0BEC5\",\"#B0BEC5\",\"#B0BEC5\",\"#B0BEC5\",\"#B0BEC5\",\"#B0BEC5\",\"#B0BEC5\",\"#B0BEC5\",\"red\",\"#B0BEC5\",\"#B0BEC5\",\"#B0BEC5\",\"#B0BEC5\",\"#B0BEC5\",\"#B0BEC5\",\"#B0BEC5\",\"#B0BEC5\",\"#B0BEC5\"]]}],\"label\":\"Topic 40\",\"method\":\"update\"},{\"args\":[{\"marker.color\":[[\"#B0BEC5\",\"#B0BEC5\",\"#B0BEC5\",\"#B0BEC5\",\"#B0BEC5\",\"#B0BEC5\",\"#B0BEC5\",\"#B0BEC5\",\"#B0BEC5\",\"#B0BEC5\",\"#B0BEC5\",\"#B0BEC5\",\"#B0BEC5\",\"#B0BEC5\",\"#B0BEC5\",\"#B0BEC5\",\"#B0BEC5\",\"#B0BEC5\",\"#B0BEC5\",\"#B0BEC5\",\"#B0BEC5\",\"#B0BEC5\",\"#B0BEC5\",\"#B0BEC5\",\"#B0BEC5\",\"#B0BEC5\",\"#B0BEC5\",\"#B0BEC5\",\"#B0BEC5\",\"#B0BEC5\",\"#B0BEC5\",\"#B0BEC5\",\"#B0BEC5\",\"#B0BEC5\",\"#B0BEC5\",\"#B0BEC5\",\"#B0BEC5\",\"#B0BEC5\",\"#B0BEC5\",\"#B0BEC5\",\"#B0BEC5\",\"red\",\"#B0BEC5\",\"#B0BEC5\",\"#B0BEC5\",\"#B0BEC5\",\"#B0BEC5\",\"#B0BEC5\",\"#B0BEC5\",\"#B0BEC5\"]]}],\"label\":\"Topic 41\",\"method\":\"update\"},{\"args\":[{\"marker.color\":[[\"#B0BEC5\",\"#B0BEC5\",\"#B0BEC5\",\"#B0BEC5\",\"#B0BEC5\",\"#B0BEC5\",\"#B0BEC5\",\"#B0BEC5\",\"#B0BEC5\",\"#B0BEC5\",\"#B0BEC5\",\"#B0BEC5\",\"#B0BEC5\",\"#B0BEC5\",\"#B0BEC5\",\"#B0BEC5\",\"#B0BEC5\",\"#B0BEC5\",\"#B0BEC5\",\"#B0BEC5\",\"#B0BEC5\",\"#B0BEC5\",\"#B0BEC5\",\"#B0BEC5\",\"#B0BEC5\",\"#B0BEC5\",\"#B0BEC5\",\"#B0BEC5\",\"#B0BEC5\",\"#B0BEC5\",\"#B0BEC5\",\"#B0BEC5\",\"#B0BEC5\",\"#B0BEC5\",\"#B0BEC5\",\"#B0BEC5\",\"#B0BEC5\",\"#B0BEC5\",\"#B0BEC5\",\"#B0BEC5\",\"#B0BEC5\",\"#B0BEC5\",\"red\",\"#B0BEC5\",\"#B0BEC5\",\"#B0BEC5\",\"#B0BEC5\",\"#B0BEC5\",\"#B0BEC5\",\"#B0BEC5\"]]}],\"label\":\"Topic 42\",\"method\":\"update\"},{\"args\":[{\"marker.color\":[[\"#B0BEC5\",\"#B0BEC5\",\"#B0BEC5\",\"#B0BEC5\",\"#B0BEC5\",\"#B0BEC5\",\"#B0BEC5\",\"#B0BEC5\",\"#B0BEC5\",\"#B0BEC5\",\"#B0BEC5\",\"#B0BEC5\",\"#B0BEC5\",\"#B0BEC5\",\"#B0BEC5\",\"#B0BEC5\",\"#B0BEC5\",\"#B0BEC5\",\"#B0BEC5\",\"#B0BEC5\",\"#B0BEC5\",\"#B0BEC5\",\"#B0BEC5\",\"#B0BEC5\",\"#B0BEC5\",\"#B0BEC5\",\"#B0BEC5\",\"#B0BEC5\",\"#B0BEC5\",\"#B0BEC5\",\"#B0BEC5\",\"#B0BEC5\",\"#B0BEC5\",\"#B0BEC5\",\"#B0BEC5\",\"#B0BEC5\",\"#B0BEC5\",\"#B0BEC5\",\"#B0BEC5\",\"#B0BEC5\",\"#B0BEC5\",\"#B0BEC5\",\"#B0BEC5\",\"red\",\"#B0BEC5\",\"#B0BEC5\",\"#B0BEC5\",\"#B0BEC5\",\"#B0BEC5\",\"#B0BEC5\"]]}],\"label\":\"Topic 43\",\"method\":\"update\"},{\"args\":[{\"marker.color\":[[\"#B0BEC5\",\"#B0BEC5\",\"#B0BEC5\",\"#B0BEC5\",\"#B0BEC5\",\"#B0BEC5\",\"#B0BEC5\",\"#B0BEC5\",\"#B0BEC5\",\"#B0BEC5\",\"#B0BEC5\",\"#B0BEC5\",\"#B0BEC5\",\"#B0BEC5\",\"#B0BEC5\",\"#B0BEC5\",\"#B0BEC5\",\"#B0BEC5\",\"#B0BEC5\",\"#B0BEC5\",\"#B0BEC5\",\"#B0BEC5\",\"#B0BEC5\",\"#B0BEC5\",\"#B0BEC5\",\"#B0BEC5\",\"#B0BEC5\",\"#B0BEC5\",\"#B0BEC5\",\"#B0BEC5\",\"#B0BEC5\",\"#B0BEC5\",\"#B0BEC5\",\"#B0BEC5\",\"#B0BEC5\",\"#B0BEC5\",\"#B0BEC5\",\"#B0BEC5\",\"#B0BEC5\",\"#B0BEC5\",\"#B0BEC5\",\"#B0BEC5\",\"#B0BEC5\",\"#B0BEC5\",\"red\",\"#B0BEC5\",\"#B0BEC5\",\"#B0BEC5\",\"#B0BEC5\",\"#B0BEC5\"]]}],\"label\":\"Topic 44\",\"method\":\"update\"},{\"args\":[{\"marker.color\":[[\"#B0BEC5\",\"#B0BEC5\",\"#B0BEC5\",\"#B0BEC5\",\"#B0BEC5\",\"#B0BEC5\",\"#B0BEC5\",\"#B0BEC5\",\"#B0BEC5\",\"#B0BEC5\",\"#B0BEC5\",\"#B0BEC5\",\"#B0BEC5\",\"#B0BEC5\",\"#B0BEC5\",\"#B0BEC5\",\"#B0BEC5\",\"#B0BEC5\",\"#B0BEC5\",\"#B0BEC5\",\"#B0BEC5\",\"#B0BEC5\",\"#B0BEC5\",\"#B0BEC5\",\"#B0BEC5\",\"#B0BEC5\",\"#B0BEC5\",\"#B0BEC5\",\"#B0BEC5\",\"#B0BEC5\",\"#B0BEC5\",\"#B0BEC5\",\"#B0BEC5\",\"#B0BEC5\",\"#B0BEC5\",\"#B0BEC5\",\"#B0BEC5\",\"#B0BEC5\",\"#B0BEC5\",\"#B0BEC5\",\"#B0BEC5\",\"#B0BEC5\",\"#B0BEC5\",\"#B0BEC5\",\"#B0BEC5\",\"red\",\"#B0BEC5\",\"#B0BEC5\",\"#B0BEC5\",\"#B0BEC5\"]]}],\"label\":\"Topic 45\",\"method\":\"update\"},{\"args\":[{\"marker.color\":[[\"#B0BEC5\",\"#B0BEC5\",\"#B0BEC5\",\"#B0BEC5\",\"#B0BEC5\",\"#B0BEC5\",\"#B0BEC5\",\"#B0BEC5\",\"#B0BEC5\",\"#B0BEC5\",\"#B0BEC5\",\"#B0BEC5\",\"#B0BEC5\",\"#B0BEC5\",\"#B0BEC5\",\"#B0BEC5\",\"#B0BEC5\",\"#B0BEC5\",\"#B0BEC5\",\"#B0BEC5\",\"#B0BEC5\",\"#B0BEC5\",\"#B0BEC5\",\"#B0BEC5\",\"#B0BEC5\",\"#B0BEC5\",\"#B0BEC5\",\"#B0BEC5\",\"#B0BEC5\",\"#B0BEC5\",\"#B0BEC5\",\"#B0BEC5\",\"#B0BEC5\",\"#B0BEC5\",\"#B0BEC5\",\"#B0BEC5\",\"#B0BEC5\",\"#B0BEC5\",\"#B0BEC5\",\"#B0BEC5\",\"#B0BEC5\",\"#B0BEC5\",\"#B0BEC5\",\"#B0BEC5\",\"#B0BEC5\",\"#B0BEC5\",\"red\",\"#B0BEC5\",\"#B0BEC5\",\"#B0BEC5\"]]}],\"label\":\"Topic 46\",\"method\":\"update\"},{\"args\":[{\"marker.color\":[[\"#B0BEC5\",\"#B0BEC5\",\"#B0BEC5\",\"#B0BEC5\",\"#B0BEC5\",\"#B0BEC5\",\"#B0BEC5\",\"#B0BEC5\",\"#B0BEC5\",\"#B0BEC5\",\"#B0BEC5\",\"#B0BEC5\",\"#B0BEC5\",\"#B0BEC5\",\"#B0BEC5\",\"#B0BEC5\",\"#B0BEC5\",\"#B0BEC5\",\"#B0BEC5\",\"#B0BEC5\",\"#B0BEC5\",\"#B0BEC5\",\"#B0BEC5\",\"#B0BEC5\",\"#B0BEC5\",\"#B0BEC5\",\"#B0BEC5\",\"#B0BEC5\",\"#B0BEC5\",\"#B0BEC5\",\"#B0BEC5\",\"#B0BEC5\",\"#B0BEC5\",\"#B0BEC5\",\"#B0BEC5\",\"#B0BEC5\",\"#B0BEC5\",\"#B0BEC5\",\"#B0BEC5\",\"#B0BEC5\",\"#B0BEC5\",\"#B0BEC5\",\"#B0BEC5\",\"#B0BEC5\",\"#B0BEC5\",\"#B0BEC5\",\"#B0BEC5\",\"red\",\"#B0BEC5\",\"#B0BEC5\"]]}],\"label\":\"Topic 47\",\"method\":\"update\"},{\"args\":[{\"marker.color\":[[\"#B0BEC5\",\"#B0BEC5\",\"#B0BEC5\",\"#B0BEC5\",\"#B0BEC5\",\"#B0BEC5\",\"#B0BEC5\",\"#B0BEC5\",\"#B0BEC5\",\"#B0BEC5\",\"#B0BEC5\",\"#B0BEC5\",\"#B0BEC5\",\"#B0BEC5\",\"#B0BEC5\",\"#B0BEC5\",\"#B0BEC5\",\"#B0BEC5\",\"#B0BEC5\",\"#B0BEC5\",\"#B0BEC5\",\"#B0BEC5\",\"#B0BEC5\",\"#B0BEC5\",\"#B0BEC5\",\"#B0BEC5\",\"#B0BEC5\",\"#B0BEC5\",\"#B0BEC5\",\"#B0BEC5\",\"#B0BEC5\",\"#B0BEC5\",\"#B0BEC5\",\"#B0BEC5\",\"#B0BEC5\",\"#B0BEC5\",\"#B0BEC5\",\"#B0BEC5\",\"#B0BEC5\",\"#B0BEC5\",\"#B0BEC5\",\"#B0BEC5\",\"#B0BEC5\",\"#B0BEC5\",\"#B0BEC5\",\"#B0BEC5\",\"#B0BEC5\",\"#B0BEC5\",\"red\",\"#B0BEC5\"]]}],\"label\":\"Topic 48\",\"method\":\"update\"},{\"args\":[{\"marker.color\":[[\"#B0BEC5\",\"#B0BEC5\",\"#B0BEC5\",\"#B0BEC5\",\"#B0BEC5\",\"#B0BEC5\",\"#B0BEC5\",\"#B0BEC5\",\"#B0BEC5\",\"#B0BEC5\",\"#B0BEC5\",\"#B0BEC5\",\"#B0BEC5\",\"#B0BEC5\",\"#B0BEC5\",\"#B0BEC5\",\"#B0BEC5\",\"#B0BEC5\",\"#B0BEC5\",\"#B0BEC5\",\"#B0BEC5\",\"#B0BEC5\",\"#B0BEC5\",\"#B0BEC5\",\"#B0BEC5\",\"#B0BEC5\",\"#B0BEC5\",\"#B0BEC5\",\"#B0BEC5\",\"#B0BEC5\",\"#B0BEC5\",\"#B0BEC5\",\"#B0BEC5\",\"#B0BEC5\",\"#B0BEC5\",\"#B0BEC5\",\"#B0BEC5\",\"#B0BEC5\",\"#B0BEC5\",\"#B0BEC5\",\"#B0BEC5\",\"#B0BEC5\",\"#B0BEC5\",\"#B0BEC5\",\"#B0BEC5\",\"#B0BEC5\",\"#B0BEC5\",\"#B0BEC5\",\"#B0BEC5\",\"red\"]]}],\"label\":\"Topic 49\",\"method\":\"update\"}]}],\"shapes\":[{\"line\":{\"color\":\"#CFD8DC\",\"width\":2},\"type\":\"line\",\"x0\":5.146962213516234,\"x1\":5.146962213516234,\"y0\":-12.822919607162476,\"y1\":25.740890216827392},{\"line\":{\"color\":\"#9E9E9E\",\"width\":2},\"type\":\"line\",\"x0\":-14.341672706604005,\"x1\":24.635597133636473,\"y0\":6.458985304832458,\"y1\":6.458985304832458}],\"annotations\":[{\"showarrow\":false,\"text\":\"D1\",\"x\":-14.341672706604005,\"y\":6.458985304832458,\"yshift\":10},{\"showarrow\":false,\"text\":\"D2\",\"x\":5.146962213516234,\"xshift\":10,\"y\":25.740890216827392}]},                        {\"responsive\": true}                    ).then(function(){\n",
       "                            \n",
       "var gd = document.getElementById('455680aa-4afe-4400-a22a-5fdf9a50ec57');\n",
       "var x = new MutationObserver(function (mutations, observer) {{\n",
       "        var display = window.getComputedStyle(gd).display;\n",
       "        if (!display || display === 'none') {{\n",
       "            console.log([gd, 'removed!']);\n",
       "            Plotly.purge(gd);\n",
       "            observer.disconnect();\n",
       "        }}\n",
       "}});\n",
       "\n",
       "// Listen for the removal of the full notebook cells\n",
       "var notebookContainer = gd.closest('#notebook-container');\n",
       "if (notebookContainer) {{\n",
       "    x.observe(notebookContainer, {childList: true});\n",
       "}}\n",
       "\n",
       "// Listen for the clearing of the current output cell\n",
       "var outputEl = gd.closest('.output');\n",
       "if (outputEl) {{\n",
       "    x.observe(outputEl, {childList: true});\n",
       "}}\n",
       "\n",
       "                        })                };                });            </script>        </div>"
      ]
     },
     "metadata": {},
     "output_type": "display_data"
    }
   ],
   "source": [
    "topic_model.visualize_topics()"
   ]
  },
  {
   "cell_type": "code",
   "execution_count": null,
   "metadata": {},
   "outputs": [
    {
     "data": {
      "application/vnd.plotly.v1+json": {
       "config": {
        "plotlyServerURL": "https://plot.ly"
       },
       "data": [
        {
         "hoverinfo": "text",
         "marker": {
          "color": "rgb(61,153,112)"
         },
         "mode": "lines",
         "type": "scatter",
         "x": [
          0,
          0.9042245986189195,
          0.9042245986189195,
          0
         ],
         "xaxis": "x",
         "y": [
          -5,
          -5,
          -15,
          -15
         ],
         "yaxis": "y"
        },
        {
         "hoverinfo": "text",
         "marker": {
          "color": "rgb(255,65,54)"
         },
         "mode": "lines",
         "type": "scatter",
         "x": [
          0,
          0.9083884715182052,
          0.9083884715182052,
          0
         ],
         "xaxis": "x",
         "y": [
          -35,
          -35,
          -45,
          -45
         ],
         "yaxis": "y"
        },
        {
         "hoverinfo": "text",
         "marker": {
          "color": "rgb(255,65,54)"
         },
         "mode": "lines",
         "type": "scatter",
         "x": [
          0,
          0.9888513286370496,
          0.9888513286370496,
          0.9083884715182052
         ],
         "xaxis": "x",
         "y": [
          -25,
          -25,
          -40,
          -40
         ],
         "yaxis": "y"
        },
        {
         "hoverinfo": "text",
         "marker": {
          "color": "rgb(0,116,217)"
         },
         "mode": "lines",
         "type": "scatter",
         "x": [
          0.9042245986189195,
          1.035913581961902,
          1.035913581961902,
          0.9888513286370496
         ],
         "xaxis": "x",
         "y": [
          -10,
          -10,
          -32.5,
          -32.5
         ],
         "yaxis": "y"
        },
        {
         "hoverinfo": "text",
         "marker": {
          "color": "rgb(35,205,205)"
         },
         "mode": "lines",
         "type": "scatter",
         "x": [
          0,
          0.9141324270941049,
          0.9141324270941049,
          0
         ],
         "xaxis": "x",
         "y": [
          -65,
          -65,
          -75,
          -75
         ],
         "yaxis": "y"
        },
        {
         "hoverinfo": "text",
         "marker": {
          "color": "rgb(35,205,205)"
         },
         "mode": "lines",
         "type": "scatter",
         "x": [
          0,
          0.9744746843444926,
          0.9744746843444926,
          0.9141324270941049
         ],
         "xaxis": "x",
         "y": [
          -55,
          -55,
          -70,
          -70
         ],
         "yaxis": "y"
        },
        {
         "hoverinfo": "text",
         "marker": {
          "color": "rgb(133,20,75)"
         },
         "mode": "lines",
         "type": "scatter",
         "x": [
          0,
          0.9859325360637271,
          0.9859325360637271,
          0
         ],
         "xaxis": "x",
         "y": [
          -85,
          -85,
          -95,
          -95
         ],
         "yaxis": "y"
        },
        {
         "hoverinfo": "text",
         "marker": {
          "color": "rgb(0,116,217)"
         },
         "mode": "lines",
         "type": "scatter",
         "x": [
          0.9744746843444926,
          1.0069474222623767,
          1.0069474222623767,
          0.9859325360637271
         ],
         "xaxis": "x",
         "y": [
          -62.5,
          -62.5,
          -90,
          -90
         ],
         "yaxis": "y"
        },
        {
         "hoverinfo": "text",
         "marker": {
          "color": "rgb(255,220,0)"
         },
         "mode": "lines",
         "type": "scatter",
         "x": [
          0,
          0.9207386543367386,
          0.9207386543367386,
          0
         ],
         "xaxis": "x",
         "y": [
          -125,
          -125,
          -135,
          -135
         ],
         "yaxis": "y"
        },
        {
         "hoverinfo": "text",
         "marker": {
          "color": "rgb(255,220,0)"
         },
         "mode": "lines",
         "type": "scatter",
         "x": [
          0,
          0.9825182266352244,
          0.9825182266352244,
          0.9207386543367386
         ],
         "xaxis": "x",
         "y": [
          -115,
          -115,
          -130,
          -130
         ],
         "yaxis": "y"
        },
        {
         "hoverinfo": "text",
         "marker": {
          "color": "rgb(255,220,0)"
         },
         "mode": "lines",
         "type": "scatter",
         "x": [
          0,
          0.993195799919171,
          0.993195799919171,
          0.9825182266352244
         ],
         "xaxis": "x",
         "y": [
          -105,
          -105,
          -122.5,
          -122.5
         ],
         "yaxis": "y"
        },
        {
         "hoverinfo": "text",
         "marker": {
          "color": "rgb(40,35,35)"
         },
         "mode": "lines",
         "type": "scatter",
         "x": [
          0,
          0.9695111256183327,
          0.9695111256183327,
          0
         ],
         "xaxis": "x",
         "y": [
          -155,
          -155,
          -165,
          -165
         ],
         "yaxis": "y"
        },
        {
         "hoverinfo": "text",
         "marker": {
          "color": "rgb(40,35,35)"
         },
         "mode": "lines",
         "type": "scatter",
         "x": [
          0,
          0.9926182544033983,
          0.9926182544033983,
          0.9695111256183327
         ],
         "xaxis": "x",
         "y": [
          -145,
          -145,
          -160,
          -160
         ],
         "yaxis": "y"
        },
        {
         "hoverinfo": "text",
         "marker": {
          "color": "rgb(0,116,217)"
         },
         "mode": "lines",
         "type": "scatter",
         "x": [
          0,
          1,
          1,
          0
         ],
         "xaxis": "x",
         "y": [
          -185,
          -185,
          -195,
          -195
         ],
         "yaxis": "y"
        },
        {
         "hoverinfo": "text",
         "marker": {
          "color": "rgb(0,116,217)"
         },
         "mode": "lines",
         "type": "scatter",
         "x": [
          1,
          1,
          1,
          0
         ],
         "xaxis": "x",
         "y": [
          -190,
          -190,
          -205,
          -205
         ],
         "yaxis": "y"
        },
        {
         "hoverinfo": "text",
         "marker": {
          "color": "rgb(0,116,217)"
         },
         "mode": "lines",
         "type": "scatter",
         "x": [
          0,
          1,
          1,
          1
         ],
         "xaxis": "x",
         "y": [
          -175,
          -175,
          -197.5,
          -197.5
         ],
         "yaxis": "y"
        },
        {
         "hoverinfo": "text",
         "marker": {
          "color": "rgb(61,153,112)"
         },
         "mode": "lines",
         "type": "scatter",
         "x": [
          0,
          0.9999999999999999,
          0.9999999999999999,
          0
         ],
         "xaxis": "x",
         "y": [
          -245,
          -245,
          -255,
          -255
         ],
         "yaxis": "y"
        },
        {
         "hoverinfo": "text",
         "marker": {
          "color": "rgb(61,153,112)"
         },
         "mode": "lines",
         "type": "scatter",
         "x": [
          0,
          0.9999999999999999,
          0.9999999999999999,
          0.9999999999999999
         ],
         "xaxis": "x",
         "y": [
          -235,
          -235,
          -250,
          -250
         ],
         "yaxis": "y"
        },
        {
         "hoverinfo": "text",
         "marker": {
          "color": "rgb(61,153,112)"
         },
         "mode": "lines",
         "type": "scatter",
         "x": [
          0,
          0.9999999999999998,
          0.9999999999999998,
          0
         ],
         "xaxis": "x",
         "y": [
          -265,
          -265,
          -275,
          -275
         ],
         "yaxis": "y"
        },
        {
         "hoverinfo": "text",
         "marker": {
          "color": "rgb(61,153,112)"
         },
         "mode": "lines",
         "type": "scatter",
         "x": [
          0.9999999999999998,
          0.9999999999999998,
          0.9999999999999998,
          0
         ],
         "xaxis": "x",
         "y": [
          -270,
          -270,
          -285,
          -285
         ],
         "yaxis": "y"
        },
        {
         "hoverinfo": "text",
         "marker": {
          "color": "rgb(61,153,112)"
         },
         "mode": "lines",
         "type": "scatter",
         "x": [
          0.9999999999999999,
          0.9999999999999999,
          0.9999999999999999,
          0.9999999999999998
         ],
         "xaxis": "x",
         "y": [
          -242.5,
          -242.5,
          -277.5,
          -277.5
         ],
         "yaxis": "y"
        },
        {
         "hoverinfo": "text",
         "marker": {
          "color": "rgb(61,153,112)"
         },
         "mode": "lines",
         "type": "scatter",
         "x": [
          0,
          0.9999999999999999,
          0.9999999999999999,
          0.9999999999999999
         ],
         "xaxis": "x",
         "y": [
          -225,
          -225,
          -260,
          -260
         ],
         "yaxis": "y"
        },
        {
         "hoverinfo": "text",
         "marker": {
          "color": "rgb(61,153,112)"
         },
         "mode": "lines",
         "type": "scatter",
         "x": [
          0.9999999999999999,
          0.9999999999999999,
          0.9999999999999999,
          0
         ],
         "xaxis": "x",
         "y": [
          -242.5,
          -242.5,
          -295,
          -295
         ],
         "yaxis": "y"
        },
        {
         "hoverinfo": "text",
         "marker": {
          "color": "rgb(61,153,112)"
         },
         "mode": "lines",
         "type": "scatter",
         "x": [
          0,
          0.9999999999999999,
          0.9999999999999999,
          0.9999999999999999
         ],
         "xaxis": "x",
         "y": [
          -215,
          -215,
          -268.75,
          -268.75
         ],
         "yaxis": "y"
        },
        {
         "hoverinfo": "text",
         "marker": {
          "color": "rgb(61,153,112)"
         },
         "mode": "lines",
         "type": "scatter",
         "x": [
          0.9999999999999999,
          0.9999999999999999,
          0.9999999999999999,
          0
         ],
         "xaxis": "x",
         "y": [
          -241.875,
          -241.875,
          -305,
          -305
         ],
         "yaxis": "y"
        },
        {
         "hoverinfo": "text",
         "marker": {
          "color": "rgb(0,116,217)"
         },
         "mode": "lines",
         "type": "scatter",
         "x": [
          1,
          1,
          1,
          0.9999999999999999
         ],
         "xaxis": "x",
         "y": [
          -186.25,
          -186.25,
          -273.4375,
          -273.4375
         ],
         "yaxis": "y"
        },
        {
         "hoverinfo": "text",
         "marker": {
          "color": "rgb(255,65,54)"
         },
         "mode": "lines",
         "type": "scatter",
         "x": [
          0,
          0.990225174767954,
          0.990225174767954,
          0
         ],
         "xaxis": "x",
         "y": [
          -315,
          -315,
          -325,
          -325
         ],
         "yaxis": "y"
        },
        {
         "hoverinfo": "text",
         "marker": {
          "color": "rgb(255,65,54)"
         },
         "mode": "lines",
         "type": "scatter",
         "x": [
          0.990225174767954,
          0.9979687414036341,
          0.9979687414036341,
          0
         ],
         "xaxis": "x",
         "y": [
          -320,
          -320,
          -335,
          -335
         ],
         "yaxis": "y"
        },
        {
         "hoverinfo": "text",
         "marker": {
          "color": "rgb(0,116,217)"
         },
         "mode": "lines",
         "type": "scatter",
         "x": [
          1,
          1.0089518130011133,
          1.0089518130011133,
          0.9979687414036341
         ],
         "xaxis": "x",
         "y": [
          -229.84375,
          -229.84375,
          -327.5,
          -327.5
         ],
         "yaxis": "y"
        },
        {
         "hoverinfo": "text",
         "marker": {
          "color": "rgb(35,205,205)"
         },
         "mode": "lines",
         "type": "scatter",
         "x": [
          0,
          0.9700656894010342,
          0.9700656894010342,
          0
         ],
         "xaxis": "x",
         "y": [
          -345,
          -345,
          -355,
          -355
         ],
         "yaxis": "y"
        },
        {
         "hoverinfo": "text",
         "marker": {
          "color": "rgb(61,153,112)"
         },
         "mode": "lines",
         "type": "scatter",
         "x": [
          0,
          0.9822601767528573,
          0.9822601767528573,
          0
         ],
         "xaxis": "x",
         "y": [
          -365,
          -365,
          -375,
          -375
         ],
         "yaxis": "y"
        },
        {
         "hoverinfo": "text",
         "marker": {
          "color": "rgb(61,153,112)"
         },
         "mode": "lines",
         "type": "scatter",
         "x": [
          0.9822601767528573,
          0.9950512805897549,
          0.9950512805897549,
          0
         ],
         "xaxis": "x",
         "y": [
          -370,
          -370,
          -385,
          -385
         ],
         "yaxis": "y"
        },
        {
         "hoverinfo": "text",
         "marker": {
          "color": "rgb(0,116,217)"
         },
         "mode": "lines",
         "type": "scatter",
         "x": [
          0.9700656894010342,
          1.016332222832804,
          1.016332222832804,
          0.9950512805897549
         ],
         "xaxis": "x",
         "y": [
          -350,
          -350,
          -377.5,
          -377.5
         ],
         "yaxis": "y"
        },
        {
         "hoverinfo": "text",
         "marker": {
          "color": "rgb(0,116,217)"
         },
         "mode": "lines",
         "type": "scatter",
         "x": [
          1.0089518130011133,
          1.0239775643807854,
          1.0239775643807854,
          1.016332222832804
         ],
         "xaxis": "x",
         "y": [
          -278.671875,
          -278.671875,
          -363.75,
          -363.75
         ],
         "yaxis": "y"
        },
        {
         "hoverinfo": "text",
         "marker": {
          "color": "rgb(0,116,217)"
         },
         "mode": "lines",
         "type": "scatter",
         "x": [
          0.9926182544033983,
          1.0320194822381288,
          1.0320194822381288,
          1.0239775643807854
         ],
         "xaxis": "x",
         "y": [
          -152.5,
          -152.5,
          -321.2109375,
          -321.2109375
         ],
         "yaxis": "y"
        },
        {
         "hoverinfo": "text",
         "marker": {
          "color": "rgb(255,65,54)"
         },
         "mode": "lines",
         "type": "scatter",
         "x": [
          0,
          0.963830510459467,
          0.963830510459467,
          0
         ],
         "xaxis": "x",
         "y": [
          -395,
          -395,
          -405,
          -405
         ],
         "yaxis": "y"
        },
        {
         "hoverinfo": "text",
         "marker": {
          "color": "rgb(255,65,54)"
         },
         "mode": "lines",
         "type": "scatter",
         "x": [
          0.963830510459467,
          0.9758748515746302,
          0.9758748515746302,
          0
         ],
         "xaxis": "x",
         "y": [
          -400,
          -400,
          -415,
          -415
         ],
         "yaxis": "y"
        },
        {
         "hoverinfo": "text",
         "marker": {
          "color": "rgb(35,205,205)"
         },
         "mode": "lines",
         "type": "scatter",
         "x": [
          0,
          0.9570643572014628,
          0.9570643572014628,
          0
         ],
         "xaxis": "x",
         "y": [
          -425,
          -425,
          -435,
          -435
         ],
         "yaxis": "y"
        },
        {
         "hoverinfo": "text",
         "marker": {
          "color": "rgb(0,116,217)"
         },
         "mode": "lines",
         "type": "scatter",
         "x": [
          0.9758748515746302,
          1.038353204604175,
          1.038353204604175,
          0.9570643572014628
         ],
         "xaxis": "x",
         "y": [
          -407.5,
          -407.5,
          -430,
          -430
         ],
         "yaxis": "y"
        },
        {
         "hoverinfo": "text",
         "marker": {
          "color": "rgb(0,116,217)"
         },
         "mode": "lines",
         "type": "scatter",
         "x": [
          1.0320194822381288,
          1.04775176595674,
          1.04775176595674,
          1.038353204604175
         ],
         "xaxis": "x",
         "y": [
          -236.85546875,
          -236.85546875,
          -418.75,
          -418.75
         ],
         "yaxis": "y"
        },
        {
         "hoverinfo": "text",
         "marker": {
          "color": "rgb(133,20,75)"
         },
         "mode": "lines",
         "type": "scatter",
         "x": [
          0,
          0.9584407964242154,
          0.9584407964242154,
          0
         ],
         "xaxis": "x",
         "y": [
          -445,
          -445,
          -455,
          -455
         ],
         "yaxis": "y"
        },
        {
         "hoverinfo": "text",
         "marker": {
          "color": "rgb(133,20,75)"
         },
         "mode": "lines",
         "type": "scatter",
         "x": [
          0.9584407964242154,
          0.9722500694634579,
          0.9722500694634579,
          0
         ],
         "xaxis": "x",
         "y": [
          -450,
          -450,
          -465,
          -465
         ],
         "yaxis": "y"
        },
        {
         "hoverinfo": "text",
         "marker": {
          "color": "rgb(0,116,217)"
         },
         "mode": "lines",
         "type": "scatter",
         "x": [
          1.04775176595674,
          1.058514648662782,
          1.058514648662782,
          0.9722500694634579
         ],
         "xaxis": "x",
         "y": [
          -327.802734375,
          -327.802734375,
          -457.5,
          -457.5
         ],
         "yaxis": "y"
        },
        {
         "hoverinfo": "text",
         "marker": {
          "color": "rgb(0,116,217)"
         },
         "mode": "lines",
         "type": "scatter",
         "x": [
          0.993195799919171,
          1.086399087170946,
          1.086399087170946,
          1.058514648662782
         ],
         "xaxis": "x",
         "y": [
          -113.75,
          -113.75,
          -392.6513671875,
          -392.6513671875
         ],
         "yaxis": "y"
        },
        {
         "hoverinfo": "text",
         "marker": {
          "color": "rgb(0,116,217)"
         },
         "mode": "lines",
         "type": "scatter",
         "x": [
          1.0069474222623767,
          1.0962209842988533,
          1.0962209842988533,
          1.086399087170946
         ],
         "xaxis": "x",
         "y": [
          -76.25,
          -76.25,
          -253.20068359375,
          -253.20068359375
         ],
         "yaxis": "y"
        },
        {
         "hoverinfo": "text",
         "marker": {
          "color": "rgb(255,220,0)"
         },
         "mode": "lines",
         "type": "scatter",
         "x": [
          0,
          0.8612223707448098,
          0.8612223707448098,
          0
         ],
         "xaxis": "x",
         "y": [
          -475,
          -475,
          -485,
          -485
         ],
         "yaxis": "y"
        },
        {
         "hoverinfo": "text",
         "marker": {
          "color": "rgb(255,220,0)"
         },
         "mode": "lines",
         "type": "scatter",
         "x": [
          0.8612223707448098,
          0.9925494818379043,
          0.9925494818379043,
          0
         ],
         "xaxis": "x",
         "y": [
          -480,
          -480,
          -495,
          -495
         ],
         "yaxis": "y"
        },
        {
         "hoverinfo": "text",
         "marker": {
          "color": "rgb(0,116,217)"
         },
         "mode": "lines",
         "type": "scatter",
         "x": [
          1.0962209842988533,
          1.1240236656141618,
          1.1240236656141618,
          0.9925494818379043
         ],
         "xaxis": "x",
         "y": [
          -164.725341796875,
          -164.725341796875,
          -487.5,
          -487.5
         ],
         "yaxis": "y"
        },
        {
         "hoverinfo": "text",
         "marker": {
          "color": "rgb(0,116,217)"
         },
         "mode": "lines",
         "type": "scatter",
         "x": [
          1.035913581961902,
          1.1289038081916964,
          1.1289038081916964,
          1.1240236656141618
         ],
         "xaxis": "x",
         "y": [
          -21.25,
          -21.25,
          -326.1126708984375,
          -326.1126708984375
         ],
         "yaxis": "y"
        }
       ],
       "layout": {
        "autosize": false,
        "height": 950,
        "hoverlabel": {
         "bgcolor": "white",
         "font": {
          "family": "Rockwell",
          "size": 16
         }
        },
        "hovermode": "closest",
        "plot_bgcolor": "#ECEFF1",
        "showlegend": false,
        "template": {
         "data": {
          "bar": [
           {
            "error_x": {
             "color": "#2a3f5f"
            },
            "error_y": {
             "color": "#2a3f5f"
            },
            "marker": {
             "line": {
              "color": "white",
              "width": 0.5
             },
             "pattern": {
              "fillmode": "overlay",
              "size": 10,
              "solidity": 0.2
             }
            },
            "type": "bar"
           }
          ],
          "barpolar": [
           {
            "marker": {
             "line": {
              "color": "white",
              "width": 0.5
             },
             "pattern": {
              "fillmode": "overlay",
              "size": 10,
              "solidity": 0.2
             }
            },
            "type": "barpolar"
           }
          ],
          "carpet": [
           {
            "aaxis": {
             "endlinecolor": "#2a3f5f",
             "gridcolor": "#C8D4E3",
             "linecolor": "#C8D4E3",
             "minorgridcolor": "#C8D4E3",
             "startlinecolor": "#2a3f5f"
            },
            "baxis": {
             "endlinecolor": "#2a3f5f",
             "gridcolor": "#C8D4E3",
             "linecolor": "#C8D4E3",
             "minorgridcolor": "#C8D4E3",
             "startlinecolor": "#2a3f5f"
            },
            "type": "carpet"
           }
          ],
          "choropleth": [
           {
            "colorbar": {
             "outlinewidth": 0,
             "ticks": ""
            },
            "type": "choropleth"
           }
          ],
          "contour": [
           {
            "colorbar": {
             "outlinewidth": 0,
             "ticks": ""
            },
            "colorscale": [
             [
              0,
              "#0d0887"
             ],
             [
              0.1111111111111111,
              "#46039f"
             ],
             [
              0.2222222222222222,
              "#7201a8"
             ],
             [
              0.3333333333333333,
              "#9c179e"
             ],
             [
              0.4444444444444444,
              "#bd3786"
             ],
             [
              0.5555555555555556,
              "#d8576b"
             ],
             [
              0.6666666666666666,
              "#ed7953"
             ],
             [
              0.7777777777777778,
              "#fb9f3a"
             ],
             [
              0.8888888888888888,
              "#fdca26"
             ],
             [
              1,
              "#f0f921"
             ]
            ],
            "type": "contour"
           }
          ],
          "contourcarpet": [
           {
            "colorbar": {
             "outlinewidth": 0,
             "ticks": ""
            },
            "type": "contourcarpet"
           }
          ],
          "heatmap": [
           {
            "colorbar": {
             "outlinewidth": 0,
             "ticks": ""
            },
            "colorscale": [
             [
              0,
              "#0d0887"
             ],
             [
              0.1111111111111111,
              "#46039f"
             ],
             [
              0.2222222222222222,
              "#7201a8"
             ],
             [
              0.3333333333333333,
              "#9c179e"
             ],
             [
              0.4444444444444444,
              "#bd3786"
             ],
             [
              0.5555555555555556,
              "#d8576b"
             ],
             [
              0.6666666666666666,
              "#ed7953"
             ],
             [
              0.7777777777777778,
              "#fb9f3a"
             ],
             [
              0.8888888888888888,
              "#fdca26"
             ],
             [
              1,
              "#f0f921"
             ]
            ],
            "type": "heatmap"
           }
          ],
          "heatmapgl": [
           {
            "colorbar": {
             "outlinewidth": 0,
             "ticks": ""
            },
            "colorscale": [
             [
              0,
              "#0d0887"
             ],
             [
              0.1111111111111111,
              "#46039f"
             ],
             [
              0.2222222222222222,
              "#7201a8"
             ],
             [
              0.3333333333333333,
              "#9c179e"
             ],
             [
              0.4444444444444444,
              "#bd3786"
             ],
             [
              0.5555555555555556,
              "#d8576b"
             ],
             [
              0.6666666666666666,
              "#ed7953"
             ],
             [
              0.7777777777777778,
              "#fb9f3a"
             ],
             [
              0.8888888888888888,
              "#fdca26"
             ],
             [
              1,
              "#f0f921"
             ]
            ],
            "type": "heatmapgl"
           }
          ],
          "histogram": [
           {
            "marker": {
             "pattern": {
              "fillmode": "overlay",
              "size": 10,
              "solidity": 0.2
             }
            },
            "type": "histogram"
           }
          ],
          "histogram2d": [
           {
            "colorbar": {
             "outlinewidth": 0,
             "ticks": ""
            },
            "colorscale": [
             [
              0,
              "#0d0887"
             ],
             [
              0.1111111111111111,
              "#46039f"
             ],
             [
              0.2222222222222222,
              "#7201a8"
             ],
             [
              0.3333333333333333,
              "#9c179e"
             ],
             [
              0.4444444444444444,
              "#bd3786"
             ],
             [
              0.5555555555555556,
              "#d8576b"
             ],
             [
              0.6666666666666666,
              "#ed7953"
             ],
             [
              0.7777777777777778,
              "#fb9f3a"
             ],
             [
              0.8888888888888888,
              "#fdca26"
             ],
             [
              1,
              "#f0f921"
             ]
            ],
            "type": "histogram2d"
           }
          ],
          "histogram2dcontour": [
           {
            "colorbar": {
             "outlinewidth": 0,
             "ticks": ""
            },
            "colorscale": [
             [
              0,
              "#0d0887"
             ],
             [
              0.1111111111111111,
              "#46039f"
             ],
             [
              0.2222222222222222,
              "#7201a8"
             ],
             [
              0.3333333333333333,
              "#9c179e"
             ],
             [
              0.4444444444444444,
              "#bd3786"
             ],
             [
              0.5555555555555556,
              "#d8576b"
             ],
             [
              0.6666666666666666,
              "#ed7953"
             ],
             [
              0.7777777777777778,
              "#fb9f3a"
             ],
             [
              0.8888888888888888,
              "#fdca26"
             ],
             [
              1,
              "#f0f921"
             ]
            ],
            "type": "histogram2dcontour"
           }
          ],
          "mesh3d": [
           {
            "colorbar": {
             "outlinewidth": 0,
             "ticks": ""
            },
            "type": "mesh3d"
           }
          ],
          "parcoords": [
           {
            "line": {
             "colorbar": {
              "outlinewidth": 0,
              "ticks": ""
             }
            },
            "type": "parcoords"
           }
          ],
          "pie": [
           {
            "automargin": true,
            "type": "pie"
           }
          ],
          "scatter": [
           {
            "fillpattern": {
             "fillmode": "overlay",
             "size": 10,
             "solidity": 0.2
            },
            "type": "scatter"
           }
          ],
          "scatter3d": [
           {
            "line": {
             "colorbar": {
              "outlinewidth": 0,
              "ticks": ""
             }
            },
            "marker": {
             "colorbar": {
              "outlinewidth": 0,
              "ticks": ""
             }
            },
            "type": "scatter3d"
           }
          ],
          "scattercarpet": [
           {
            "marker": {
             "colorbar": {
              "outlinewidth": 0,
              "ticks": ""
             }
            },
            "type": "scattercarpet"
           }
          ],
          "scattergeo": [
           {
            "marker": {
             "colorbar": {
              "outlinewidth": 0,
              "ticks": ""
             }
            },
            "type": "scattergeo"
           }
          ],
          "scattergl": [
           {
            "marker": {
             "colorbar": {
              "outlinewidth": 0,
              "ticks": ""
             }
            },
            "type": "scattergl"
           }
          ],
          "scattermapbox": [
           {
            "marker": {
             "colorbar": {
              "outlinewidth": 0,
              "ticks": ""
             }
            },
            "type": "scattermapbox"
           }
          ],
          "scatterpolar": [
           {
            "marker": {
             "colorbar": {
              "outlinewidth": 0,
              "ticks": ""
             }
            },
            "type": "scatterpolar"
           }
          ],
          "scatterpolargl": [
           {
            "marker": {
             "colorbar": {
              "outlinewidth": 0,
              "ticks": ""
             }
            },
            "type": "scatterpolargl"
           }
          ],
          "scatterternary": [
           {
            "marker": {
             "colorbar": {
              "outlinewidth": 0,
              "ticks": ""
             }
            },
            "type": "scatterternary"
           }
          ],
          "surface": [
           {
            "colorbar": {
             "outlinewidth": 0,
             "ticks": ""
            },
            "colorscale": [
             [
              0,
              "#0d0887"
             ],
             [
              0.1111111111111111,
              "#46039f"
             ],
             [
              0.2222222222222222,
              "#7201a8"
             ],
             [
              0.3333333333333333,
              "#9c179e"
             ],
             [
              0.4444444444444444,
              "#bd3786"
             ],
             [
              0.5555555555555556,
              "#d8576b"
             ],
             [
              0.6666666666666666,
              "#ed7953"
             ],
             [
              0.7777777777777778,
              "#fb9f3a"
             ],
             [
              0.8888888888888888,
              "#fdca26"
             ],
             [
              1,
              "#f0f921"
             ]
            ],
            "type": "surface"
           }
          ],
          "table": [
           {
            "cells": {
             "fill": {
              "color": "#EBF0F8"
             },
             "line": {
              "color": "white"
             }
            },
            "header": {
             "fill": {
              "color": "#C8D4E3"
             },
             "line": {
              "color": "white"
             }
            },
            "type": "table"
           }
          ]
         },
         "layout": {
          "annotationdefaults": {
           "arrowcolor": "#2a3f5f",
           "arrowhead": 0,
           "arrowwidth": 1
          },
          "autotypenumbers": "strict",
          "coloraxis": {
           "colorbar": {
            "outlinewidth": 0,
            "ticks": ""
           }
          },
          "colorscale": {
           "diverging": [
            [
             0,
             "#8e0152"
            ],
            [
             0.1,
             "#c51b7d"
            ],
            [
             0.2,
             "#de77ae"
            ],
            [
             0.3,
             "#f1b6da"
            ],
            [
             0.4,
             "#fde0ef"
            ],
            [
             0.5,
             "#f7f7f7"
            ],
            [
             0.6,
             "#e6f5d0"
            ],
            [
             0.7,
             "#b8e186"
            ],
            [
             0.8,
             "#7fbc41"
            ],
            [
             0.9,
             "#4d9221"
            ],
            [
             1,
             "#276419"
            ]
           ],
           "sequential": [
            [
             0,
             "#0d0887"
            ],
            [
             0.1111111111111111,
             "#46039f"
            ],
            [
             0.2222222222222222,
             "#7201a8"
            ],
            [
             0.3333333333333333,
             "#9c179e"
            ],
            [
             0.4444444444444444,
             "#bd3786"
            ],
            [
             0.5555555555555556,
             "#d8576b"
            ],
            [
             0.6666666666666666,
             "#ed7953"
            ],
            [
             0.7777777777777778,
             "#fb9f3a"
            ],
            [
             0.8888888888888888,
             "#fdca26"
            ],
            [
             1,
             "#f0f921"
            ]
           ],
           "sequentialminus": [
            [
             0,
             "#0d0887"
            ],
            [
             0.1111111111111111,
             "#46039f"
            ],
            [
             0.2222222222222222,
             "#7201a8"
            ],
            [
             0.3333333333333333,
             "#9c179e"
            ],
            [
             0.4444444444444444,
             "#bd3786"
            ],
            [
             0.5555555555555556,
             "#d8576b"
            ],
            [
             0.6666666666666666,
             "#ed7953"
            ],
            [
             0.7777777777777778,
             "#fb9f3a"
            ],
            [
             0.8888888888888888,
             "#fdca26"
            ],
            [
             1,
             "#f0f921"
            ]
           ]
          },
          "colorway": [
           "#636efa",
           "#EF553B",
           "#00cc96",
           "#ab63fa",
           "#FFA15A",
           "#19d3f3",
           "#FF6692",
           "#B6E880",
           "#FF97FF",
           "#FECB52"
          ],
          "font": {
           "color": "#2a3f5f"
          },
          "geo": {
           "bgcolor": "white",
           "lakecolor": "white",
           "landcolor": "white",
           "showlakes": true,
           "showland": true,
           "subunitcolor": "#C8D4E3"
          },
          "hoverlabel": {
           "align": "left"
          },
          "hovermode": "closest",
          "mapbox": {
           "style": "light"
          },
          "paper_bgcolor": "white",
          "plot_bgcolor": "white",
          "polar": {
           "angularaxis": {
            "gridcolor": "#EBF0F8",
            "linecolor": "#EBF0F8",
            "ticks": ""
           },
           "bgcolor": "white",
           "radialaxis": {
            "gridcolor": "#EBF0F8",
            "linecolor": "#EBF0F8",
            "ticks": ""
           }
          },
          "scene": {
           "xaxis": {
            "backgroundcolor": "white",
            "gridcolor": "#DFE8F3",
            "gridwidth": 2,
            "linecolor": "#EBF0F8",
            "showbackground": true,
            "ticks": "",
            "zerolinecolor": "#EBF0F8"
           },
           "yaxis": {
            "backgroundcolor": "white",
            "gridcolor": "#DFE8F3",
            "gridwidth": 2,
            "linecolor": "#EBF0F8",
            "showbackground": true,
            "ticks": "",
            "zerolinecolor": "#EBF0F8"
           },
           "zaxis": {
            "backgroundcolor": "white",
            "gridcolor": "#DFE8F3",
            "gridwidth": 2,
            "linecolor": "#EBF0F8",
            "showbackground": true,
            "ticks": "",
            "zerolinecolor": "#EBF0F8"
           }
          },
          "shapedefaults": {
           "line": {
            "color": "#2a3f5f"
           }
          },
          "ternary": {
           "aaxis": {
            "gridcolor": "#DFE8F3",
            "linecolor": "#A2B1C6",
            "ticks": ""
           },
           "baxis": {
            "gridcolor": "#DFE8F3",
            "linecolor": "#A2B1C6",
            "ticks": ""
           },
           "bgcolor": "white",
           "caxis": {
            "gridcolor": "#DFE8F3",
            "linecolor": "#A2B1C6",
            "ticks": ""
           }
          },
          "title": {
           "x": 0.05
          },
          "xaxis": {
           "automargin": true,
           "gridcolor": "#EBF0F8",
           "linecolor": "#EBF0F8",
           "ticks": "",
           "title": {
            "standoff": 15
           },
           "zerolinecolor": "#EBF0F8",
           "zerolinewidth": 2
          },
          "yaxis": {
           "automargin": true,
           "gridcolor": "#EBF0F8",
           "linecolor": "#EBF0F8",
           "ticks": "",
           "title": {
            "standoff": 15
           },
           "zerolinecolor": "#EBF0F8",
           "zerolinewidth": 2
          }
         }
        },
        "title": {
         "font": {
          "color": "Black",
          "size": 22
         },
         "text": "<b>Hierarchical Clustering</b>",
         "x": 0.5,
         "xanchor": "center",
         "yanchor": "top"
        },
        "width": 1000,
        "xaxis": {
         "mirror": "allticks",
         "rangemode": "tozero",
         "showgrid": false,
         "showline": true,
         "showticklabels": true,
         "ticks": "outside",
         "type": "linear",
         "zeroline": false
        },
        "yaxis": {
         "mirror": "allticks",
         "range": [
          -500,
          0
         ],
         "rangemode": "tozero",
         "showgrid": false,
         "showline": true,
         "showticklabels": true,
         "tickmode": "array",
         "ticks": "outside",
         "ticktext": [
          "15_弱いai_人工知能_強いai",
          "11_相関_ai_負の相関",
          "22_エッジ抽出_エッジ_文字",
          "39_画像について_相関について_相関",
          "28_回帰_相関_時系列",
          "13_ディジタル信号処理の概要_量子化_符号化",
          "33_標本化について_標本化_標本化定理",
          "44_標本化定理について学習した_また標本化定理の意味...",
          "12_nt_離散時間信号z変換_離散時間信号とz変換",
          "27_2fm_連続信号の標本化の精度に関わる標本化定理...",
          "14_非周期信号のフーリエ変換_非周期信号とフーリエ変...",
          "47_非周期関数まで含めた一般的なフーリエ変換とその性...",
          "20_離散フーリエ変換_フーリエ変換_離散フーリエ変換...",
          "5_離散時間フーリエ変換と離散フーリエ変換_離散時間シ...",
          "30_フーリエ級数表現_sincos_周期的な信号はフ...",
          "19_フーリエ級数からフーリエ変換への拡張_フーリエ級...",
          "29_フーリエ級数について学んだ_これからの授業で何を...",
          "16_高速フーリエ変換_高速フーリエ変換について_高速...",
          "1_バイ_完全性_暗号について",
          "3_符号語同士がs_2k_ハミング距離",
          "9_z変換について_z変換の性質逆z変換_z変換の性質...",
          "42_授業のガイダンス_ictの進んだ現代において増加...",
          "40_逆z変換_逆z変換について_逆z変換を解く",
          "24_改竄_捏造_研究における中立や客観性研究不正とな...",
          "18_著作権について_財産権_著作権",
          "17_期末テスト_確認テスト_テスト",
          "32_離散フーリエ変換の性質について学んだ_離散フーリ...",
          "37_可視化の種類_可視化について_可視化とその手法",
          "38_研究倫理情報倫理について_研究における不正や情報...",
          "41_ディジタルフィルタの概要を学んだ_ディジタルフィ...",
          "46_周波数特性は振幅と位相の2種類を2種類を表す因果...",
          "26_授業の進め方の説明_授業が終わったらその回の日誌...",
          "10_知識マップの作成_知識マップの作製_知識マップ作成",
          "21_brーmapを用いて振り返りを行った_第七回の大...",
          "6_情報_情報科学_文章",
          "2_計算_アルゴリズム_コンピュータ",
          "0_コモンズ_nlogn_距離",
          "7_パターン認識_ベクトル_画像処理",
          "25_ガイダンス_ソートの大まかな概要_オリエンテーション",
          "8_log2_xy_曖昧さ",
          "4_情報源符号化_情報源_エントロピー",
          "36_を次で定める_2進数を使って情報源を符号化する際...",
          "43_線形不変システムにインパルス関数を加えたものがイ...",
          "35_インパルス応答_差分方程式_インパルス応答伝達関...",
          "23_マージソートと二分探索法について_二分探索法_今...",
          "45_ヒープソートとマージソートについて_ソートまとめ...",
          "49_マージソートと2分探索法_ヒープソートアルゴリズ...",
          "48_ディジタルフィルタについて_ディジタルフィルタ_...",
          "34_ディジタルフィルタの設計_ディジタルフィルタ設計...",
          "31_firの設計には窓関数が用いられる手順は次のとお..."
         ],
         "tickvals": [
          -5,
          -15,
          -25,
          -35,
          -45,
          -55,
          -65,
          -75,
          -85,
          -95,
          -105,
          -115,
          -125,
          -135,
          -145,
          -155,
          -165,
          -175,
          -185,
          -195,
          -205,
          -215,
          -225,
          -235,
          -245,
          -255,
          -265,
          -275,
          -285,
          -295,
          -305,
          -315,
          -325,
          -335,
          -345,
          -355,
          -365,
          -375,
          -385,
          -395,
          -405,
          -415,
          -425,
          -435,
          -445,
          -455,
          -465,
          -475,
          -485,
          -495
         ],
         "type": "linear",
         "zeroline": false
        }
       }
      },
      "text/html": [
       "<div>                            <div id=\"7b2b3f2e-8ce6-4455-a1e1-a1a55c565449\" class=\"plotly-graph-div\" style=\"height:950px; width:1000px;\"></div>            <script type=\"text/javascript\">                require([\"plotly\"], function(Plotly) {                    window.PLOTLYENV=window.PLOTLYENV || {};                                    if (document.getElementById(\"7b2b3f2e-8ce6-4455-a1e1-a1a55c565449\")) {                    Plotly.newPlot(                        \"7b2b3f2e-8ce6-4455-a1e1-a1a55c565449\",                        [{\"hoverinfo\":\"text\",\"marker\":{\"color\":\"rgb(61,153,112)\"},\"mode\":\"lines\",\"x\":[0.0,0.9042245986189195,0.9042245986189195,0.0],\"xaxis\":\"x\",\"y\":[-5.0,-5.0,-15.0,-15.0],\"yaxis\":\"y\",\"type\":\"scatter\"},{\"hoverinfo\":\"text\",\"marker\":{\"color\":\"rgb(255,65,54)\"},\"mode\":\"lines\",\"x\":[0.0,0.9083884715182052,0.9083884715182052,0.0],\"xaxis\":\"x\",\"y\":[-35.0,-35.0,-45.0,-45.0],\"yaxis\":\"y\",\"type\":\"scatter\"},{\"hoverinfo\":\"text\",\"marker\":{\"color\":\"rgb(255,65,54)\"},\"mode\":\"lines\",\"x\":[0.0,0.9888513286370496,0.9888513286370496,0.9083884715182052],\"xaxis\":\"x\",\"y\":[-25.0,-25.0,-40.0,-40.0],\"yaxis\":\"y\",\"type\":\"scatter\"},{\"hoverinfo\":\"text\",\"marker\":{\"color\":\"rgb(0,116,217)\"},\"mode\":\"lines\",\"x\":[0.9042245986189195,1.035913581961902,1.035913581961902,0.9888513286370496],\"xaxis\":\"x\",\"y\":[-10.0,-10.0,-32.5,-32.5],\"yaxis\":\"y\",\"type\":\"scatter\"},{\"hoverinfo\":\"text\",\"marker\":{\"color\":\"rgb(35,205,205)\"},\"mode\":\"lines\",\"x\":[0.0,0.9141324270941049,0.9141324270941049,0.0],\"xaxis\":\"x\",\"y\":[-65.0,-65.0,-75.0,-75.0],\"yaxis\":\"y\",\"type\":\"scatter\"},{\"hoverinfo\":\"text\",\"marker\":{\"color\":\"rgb(35,205,205)\"},\"mode\":\"lines\",\"x\":[0.0,0.9744746843444926,0.9744746843444926,0.9141324270941049],\"xaxis\":\"x\",\"y\":[-55.0,-55.0,-70.0,-70.0],\"yaxis\":\"y\",\"type\":\"scatter\"},{\"hoverinfo\":\"text\",\"marker\":{\"color\":\"rgb(133,20,75)\"},\"mode\":\"lines\",\"x\":[0.0,0.9859325360637271,0.9859325360637271,0.0],\"xaxis\":\"x\",\"y\":[-85.0,-85.0,-95.0,-95.0],\"yaxis\":\"y\",\"type\":\"scatter\"},{\"hoverinfo\":\"text\",\"marker\":{\"color\":\"rgb(0,116,217)\"},\"mode\":\"lines\",\"x\":[0.9744746843444926,1.0069474222623767,1.0069474222623767,0.9859325360637271],\"xaxis\":\"x\",\"y\":[-62.5,-62.5,-90.0,-90.0],\"yaxis\":\"y\",\"type\":\"scatter\"},{\"hoverinfo\":\"text\",\"marker\":{\"color\":\"rgb(255,220,0)\"},\"mode\":\"lines\",\"x\":[0.0,0.9207386543367386,0.9207386543367386,0.0],\"xaxis\":\"x\",\"y\":[-125.0,-125.0,-135.0,-135.0],\"yaxis\":\"y\",\"type\":\"scatter\"},{\"hoverinfo\":\"text\",\"marker\":{\"color\":\"rgb(255,220,0)\"},\"mode\":\"lines\",\"x\":[0.0,0.9825182266352244,0.9825182266352244,0.9207386543367386],\"xaxis\":\"x\",\"y\":[-115.0,-115.0,-130.0,-130.0],\"yaxis\":\"y\",\"type\":\"scatter\"},{\"hoverinfo\":\"text\",\"marker\":{\"color\":\"rgb(255,220,0)\"},\"mode\":\"lines\",\"x\":[0.0,0.993195799919171,0.993195799919171,0.9825182266352244],\"xaxis\":\"x\",\"y\":[-105.0,-105.0,-122.5,-122.5],\"yaxis\":\"y\",\"type\":\"scatter\"},{\"hoverinfo\":\"text\",\"marker\":{\"color\":\"rgb(40,35,35)\"},\"mode\":\"lines\",\"x\":[0.0,0.9695111256183327,0.9695111256183327,0.0],\"xaxis\":\"x\",\"y\":[-155.0,-155.0,-165.0,-165.0],\"yaxis\":\"y\",\"type\":\"scatter\"},{\"hoverinfo\":\"text\",\"marker\":{\"color\":\"rgb(40,35,35)\"},\"mode\":\"lines\",\"x\":[0.0,0.9926182544033983,0.9926182544033983,0.9695111256183327],\"xaxis\":\"x\",\"y\":[-145.0,-145.0,-160.0,-160.0],\"yaxis\":\"y\",\"type\":\"scatter\"},{\"hoverinfo\":\"text\",\"marker\":{\"color\":\"rgb(0,116,217)\"},\"mode\":\"lines\",\"x\":[0.0,1.0,1.0,0.0],\"xaxis\":\"x\",\"y\":[-185.0,-185.0,-195.0,-195.0],\"yaxis\":\"y\",\"type\":\"scatter\"},{\"hoverinfo\":\"text\",\"marker\":{\"color\":\"rgb(0,116,217)\"},\"mode\":\"lines\",\"x\":[1.0,1.0,1.0,0.0],\"xaxis\":\"x\",\"y\":[-190.0,-190.0,-205.0,-205.0],\"yaxis\":\"y\",\"type\":\"scatter\"},{\"hoverinfo\":\"text\",\"marker\":{\"color\":\"rgb(0,116,217)\"},\"mode\":\"lines\",\"x\":[0.0,1.0,1.0,1.0],\"xaxis\":\"x\",\"y\":[-175.0,-175.0,-197.5,-197.5],\"yaxis\":\"y\",\"type\":\"scatter\"},{\"hoverinfo\":\"text\",\"marker\":{\"color\":\"rgb(61,153,112)\"},\"mode\":\"lines\",\"x\":[0.0,0.9999999999999999,0.9999999999999999,0.0],\"xaxis\":\"x\",\"y\":[-245.0,-245.0,-255.0,-255.0],\"yaxis\":\"y\",\"type\":\"scatter\"},{\"hoverinfo\":\"text\",\"marker\":{\"color\":\"rgb(61,153,112)\"},\"mode\":\"lines\",\"x\":[0.0,0.9999999999999999,0.9999999999999999,0.9999999999999999],\"xaxis\":\"x\",\"y\":[-235.0,-235.0,-250.0,-250.0],\"yaxis\":\"y\",\"type\":\"scatter\"},{\"hoverinfo\":\"text\",\"marker\":{\"color\":\"rgb(61,153,112)\"},\"mode\":\"lines\",\"x\":[0.0,0.9999999999999998,0.9999999999999998,0.0],\"xaxis\":\"x\",\"y\":[-265.0,-265.0,-275.0,-275.0],\"yaxis\":\"y\",\"type\":\"scatter\"},{\"hoverinfo\":\"text\",\"marker\":{\"color\":\"rgb(61,153,112)\"},\"mode\":\"lines\",\"x\":[0.9999999999999998,0.9999999999999998,0.9999999999999998,0.0],\"xaxis\":\"x\",\"y\":[-270.0,-270.0,-285.0,-285.0],\"yaxis\":\"y\",\"type\":\"scatter\"},{\"hoverinfo\":\"text\",\"marker\":{\"color\":\"rgb(61,153,112)\"},\"mode\":\"lines\",\"x\":[0.9999999999999999,0.9999999999999999,0.9999999999999999,0.9999999999999998],\"xaxis\":\"x\",\"y\":[-242.5,-242.5,-277.5,-277.5],\"yaxis\":\"y\",\"type\":\"scatter\"},{\"hoverinfo\":\"text\",\"marker\":{\"color\":\"rgb(61,153,112)\"},\"mode\":\"lines\",\"x\":[0.0,0.9999999999999999,0.9999999999999999,0.9999999999999999],\"xaxis\":\"x\",\"y\":[-225.0,-225.0,-260.0,-260.0],\"yaxis\":\"y\",\"type\":\"scatter\"},{\"hoverinfo\":\"text\",\"marker\":{\"color\":\"rgb(61,153,112)\"},\"mode\":\"lines\",\"x\":[0.9999999999999999,0.9999999999999999,0.9999999999999999,0.0],\"xaxis\":\"x\",\"y\":[-242.5,-242.5,-295.0,-295.0],\"yaxis\":\"y\",\"type\":\"scatter\"},{\"hoverinfo\":\"text\",\"marker\":{\"color\":\"rgb(61,153,112)\"},\"mode\":\"lines\",\"x\":[0.0,0.9999999999999999,0.9999999999999999,0.9999999999999999],\"xaxis\":\"x\",\"y\":[-215.0,-215.0,-268.75,-268.75],\"yaxis\":\"y\",\"type\":\"scatter\"},{\"hoverinfo\":\"text\",\"marker\":{\"color\":\"rgb(61,153,112)\"},\"mode\":\"lines\",\"x\":[0.9999999999999999,0.9999999999999999,0.9999999999999999,0.0],\"xaxis\":\"x\",\"y\":[-241.875,-241.875,-305.0,-305.0],\"yaxis\":\"y\",\"type\":\"scatter\"},{\"hoverinfo\":\"text\",\"marker\":{\"color\":\"rgb(0,116,217)\"},\"mode\":\"lines\",\"x\":[1.0,1.0,1.0,0.9999999999999999],\"xaxis\":\"x\",\"y\":[-186.25,-186.25,-273.4375,-273.4375],\"yaxis\":\"y\",\"type\":\"scatter\"},{\"hoverinfo\":\"text\",\"marker\":{\"color\":\"rgb(255,65,54)\"},\"mode\":\"lines\",\"x\":[0.0,0.990225174767954,0.990225174767954,0.0],\"xaxis\":\"x\",\"y\":[-315.0,-315.0,-325.0,-325.0],\"yaxis\":\"y\",\"type\":\"scatter\"},{\"hoverinfo\":\"text\",\"marker\":{\"color\":\"rgb(255,65,54)\"},\"mode\":\"lines\",\"x\":[0.990225174767954,0.9979687414036341,0.9979687414036341,0.0],\"xaxis\":\"x\",\"y\":[-320.0,-320.0,-335.0,-335.0],\"yaxis\":\"y\",\"type\":\"scatter\"},{\"hoverinfo\":\"text\",\"marker\":{\"color\":\"rgb(0,116,217)\"},\"mode\":\"lines\",\"x\":[1.0,1.0089518130011133,1.0089518130011133,0.9979687414036341],\"xaxis\":\"x\",\"y\":[-229.84375,-229.84375,-327.5,-327.5],\"yaxis\":\"y\",\"type\":\"scatter\"},{\"hoverinfo\":\"text\",\"marker\":{\"color\":\"rgb(35,205,205)\"},\"mode\":\"lines\",\"x\":[0.0,0.9700656894010342,0.9700656894010342,0.0],\"xaxis\":\"x\",\"y\":[-345.0,-345.0,-355.0,-355.0],\"yaxis\":\"y\",\"type\":\"scatter\"},{\"hoverinfo\":\"text\",\"marker\":{\"color\":\"rgb(61,153,112)\"},\"mode\":\"lines\",\"x\":[0.0,0.9822601767528573,0.9822601767528573,0.0],\"xaxis\":\"x\",\"y\":[-365.0,-365.0,-375.0,-375.0],\"yaxis\":\"y\",\"type\":\"scatter\"},{\"hoverinfo\":\"text\",\"marker\":{\"color\":\"rgb(61,153,112)\"},\"mode\":\"lines\",\"x\":[0.9822601767528573,0.9950512805897549,0.9950512805897549,0.0],\"xaxis\":\"x\",\"y\":[-370.0,-370.0,-385.0,-385.0],\"yaxis\":\"y\",\"type\":\"scatter\"},{\"hoverinfo\":\"text\",\"marker\":{\"color\":\"rgb(0,116,217)\"},\"mode\":\"lines\",\"x\":[0.9700656894010342,1.016332222832804,1.016332222832804,0.9950512805897549],\"xaxis\":\"x\",\"y\":[-350.0,-350.0,-377.5,-377.5],\"yaxis\":\"y\",\"type\":\"scatter\"},{\"hoverinfo\":\"text\",\"marker\":{\"color\":\"rgb(0,116,217)\"},\"mode\":\"lines\",\"x\":[1.0089518130011133,1.0239775643807854,1.0239775643807854,1.016332222832804],\"xaxis\":\"x\",\"y\":[-278.671875,-278.671875,-363.75,-363.75],\"yaxis\":\"y\",\"type\":\"scatter\"},{\"hoverinfo\":\"text\",\"marker\":{\"color\":\"rgb(0,116,217)\"},\"mode\":\"lines\",\"x\":[0.9926182544033983,1.0320194822381288,1.0320194822381288,1.0239775643807854],\"xaxis\":\"x\",\"y\":[-152.5,-152.5,-321.2109375,-321.2109375],\"yaxis\":\"y\",\"type\":\"scatter\"},{\"hoverinfo\":\"text\",\"marker\":{\"color\":\"rgb(255,65,54)\"},\"mode\":\"lines\",\"x\":[0.0,0.963830510459467,0.963830510459467,0.0],\"xaxis\":\"x\",\"y\":[-395.0,-395.0,-405.0,-405.0],\"yaxis\":\"y\",\"type\":\"scatter\"},{\"hoverinfo\":\"text\",\"marker\":{\"color\":\"rgb(255,65,54)\"},\"mode\":\"lines\",\"x\":[0.963830510459467,0.9758748515746302,0.9758748515746302,0.0],\"xaxis\":\"x\",\"y\":[-400.0,-400.0,-415.0,-415.0],\"yaxis\":\"y\",\"type\":\"scatter\"},{\"hoverinfo\":\"text\",\"marker\":{\"color\":\"rgb(35,205,205)\"},\"mode\":\"lines\",\"x\":[0.0,0.9570643572014628,0.9570643572014628,0.0],\"xaxis\":\"x\",\"y\":[-425.0,-425.0,-435.0,-435.0],\"yaxis\":\"y\",\"type\":\"scatter\"},{\"hoverinfo\":\"text\",\"marker\":{\"color\":\"rgb(0,116,217)\"},\"mode\":\"lines\",\"x\":[0.9758748515746302,1.038353204604175,1.038353204604175,0.9570643572014628],\"xaxis\":\"x\",\"y\":[-407.5,-407.5,-430.0,-430.0],\"yaxis\":\"y\",\"type\":\"scatter\"},{\"hoverinfo\":\"text\",\"marker\":{\"color\":\"rgb(0,116,217)\"},\"mode\":\"lines\",\"x\":[1.0320194822381288,1.04775176595674,1.04775176595674,1.038353204604175],\"xaxis\":\"x\",\"y\":[-236.85546875,-236.85546875,-418.75,-418.75],\"yaxis\":\"y\",\"type\":\"scatter\"},{\"hoverinfo\":\"text\",\"marker\":{\"color\":\"rgb(133,20,75)\"},\"mode\":\"lines\",\"x\":[0.0,0.9584407964242154,0.9584407964242154,0.0],\"xaxis\":\"x\",\"y\":[-445.0,-445.0,-455.0,-455.0],\"yaxis\":\"y\",\"type\":\"scatter\"},{\"hoverinfo\":\"text\",\"marker\":{\"color\":\"rgb(133,20,75)\"},\"mode\":\"lines\",\"x\":[0.9584407964242154,0.9722500694634579,0.9722500694634579,0.0],\"xaxis\":\"x\",\"y\":[-450.0,-450.0,-465.0,-465.0],\"yaxis\":\"y\",\"type\":\"scatter\"},{\"hoverinfo\":\"text\",\"marker\":{\"color\":\"rgb(0,116,217)\"},\"mode\":\"lines\",\"x\":[1.04775176595674,1.058514648662782,1.058514648662782,0.9722500694634579],\"xaxis\":\"x\",\"y\":[-327.802734375,-327.802734375,-457.5,-457.5],\"yaxis\":\"y\",\"type\":\"scatter\"},{\"hoverinfo\":\"text\",\"marker\":{\"color\":\"rgb(0,116,217)\"},\"mode\":\"lines\",\"x\":[0.993195799919171,1.086399087170946,1.086399087170946,1.058514648662782],\"xaxis\":\"x\",\"y\":[-113.75,-113.75,-392.6513671875,-392.6513671875],\"yaxis\":\"y\",\"type\":\"scatter\"},{\"hoverinfo\":\"text\",\"marker\":{\"color\":\"rgb(0,116,217)\"},\"mode\":\"lines\",\"x\":[1.0069474222623767,1.0962209842988533,1.0962209842988533,1.086399087170946],\"xaxis\":\"x\",\"y\":[-76.25,-76.25,-253.20068359375,-253.20068359375],\"yaxis\":\"y\",\"type\":\"scatter\"},{\"hoverinfo\":\"text\",\"marker\":{\"color\":\"rgb(255,220,0)\"},\"mode\":\"lines\",\"x\":[0.0,0.8612223707448098,0.8612223707448098,0.0],\"xaxis\":\"x\",\"y\":[-475.0,-475.0,-485.0,-485.0],\"yaxis\":\"y\",\"type\":\"scatter\"},{\"hoverinfo\":\"text\",\"marker\":{\"color\":\"rgb(255,220,0)\"},\"mode\":\"lines\",\"x\":[0.8612223707448098,0.9925494818379043,0.9925494818379043,0.0],\"xaxis\":\"x\",\"y\":[-480.0,-480.0,-495.0,-495.0],\"yaxis\":\"y\",\"type\":\"scatter\"},{\"hoverinfo\":\"text\",\"marker\":{\"color\":\"rgb(0,116,217)\"},\"mode\":\"lines\",\"x\":[1.0962209842988533,1.1240236656141618,1.1240236656141618,0.9925494818379043],\"xaxis\":\"x\",\"y\":[-164.725341796875,-164.725341796875,-487.5,-487.5],\"yaxis\":\"y\",\"type\":\"scatter\"},{\"hoverinfo\":\"text\",\"marker\":{\"color\":\"rgb(0,116,217)\"},\"mode\":\"lines\",\"x\":[1.035913581961902,1.1289038081916964,1.1289038081916964,1.1240236656141618],\"xaxis\":\"x\",\"y\":[-21.25,-21.25,-326.1126708984375,-326.1126708984375],\"yaxis\":\"y\",\"type\":\"scatter\"}],                        {\"autosize\":false,\"height\":950,\"hovermode\":\"closest\",\"showlegend\":false,\"width\":1000,\"xaxis\":{\"mirror\":\"allticks\",\"rangemode\":\"tozero\",\"showgrid\":false,\"showline\":true,\"showticklabels\":true,\"ticks\":\"outside\",\"type\":\"linear\",\"zeroline\":false},\"yaxis\":{\"mirror\":\"allticks\",\"rangemode\":\"tozero\",\"showgrid\":false,\"showline\":true,\"showticklabels\":true,\"tickmode\":\"array\",\"ticks\":\"outside\",\"ticktext\":[\"15_\\u5f31\\u3044ai_\\u4eba\\u5de5\\u77e5\\u80fd_\\u5f37\\u3044ai\",\"11_\\u76f8\\u95a2_ai_\\u8ca0\\u306e\\u76f8\\u95a2\",\"22_\\u30a8\\u30c3\\u30b8\\u62bd\\u51fa_\\u30a8\\u30c3\\u30b8_\\u6587\\u5b57\",\"39_\\u753b\\u50cf\\u306b\\u3064\\u3044\\u3066_\\u76f8\\u95a2\\u306b\\u3064\\u3044\\u3066_\\u76f8\\u95a2\",\"28_\\u56de\\u5e30_\\u76f8\\u95a2_\\u6642\\u7cfb\\u5217\",\"13_\\u30c7\\u30a3\\u30b8\\u30bf\\u30eb\\u4fe1\\u53f7\\u51e6\\u7406\\u306e\\u6982\\u8981_\\u91cf\\u5b50\\u5316_\\u7b26\\u53f7\\u5316\",\"33_\\u6a19\\u672c\\u5316\\u306b\\u3064\\u3044\\u3066_\\u6a19\\u672c\\u5316_\\u6a19\\u672c\\u5316\\u5b9a\\u7406\",\"44_\\u6a19\\u672c\\u5316\\u5b9a\\u7406\\u306b\\u3064\\u3044\\u3066\\u5b66\\u7fd2\\u3057\\u305f_\\u307e\\u305f\\u6a19\\u672c\\u5316\\u5b9a\\u7406\\u306e\\u610f\\u5473...\",\"12_nt_\\u96e2\\u6563\\u6642\\u9593\\u4fe1\\u53f7z\\u5909\\u63db_\\u96e2\\u6563\\u6642\\u9593\\u4fe1\\u53f7\\u3068z\\u5909\\u63db\",\"27_2fm_\\u9023\\u7d9a\\u4fe1\\u53f7\\u306e\\u6a19\\u672c\\u5316\\u306e\\u7cbe\\u5ea6\\u306b\\u95a2\\u308f\\u308b\\u6a19\\u672c\\u5316\\u5b9a\\u7406...\",\"14_\\u975e\\u5468\\u671f\\u4fe1\\u53f7\\u306e\\u30d5\\u30fc\\u30ea\\u30a8\\u5909\\u63db_\\u975e\\u5468\\u671f\\u4fe1\\u53f7\\u3068\\u30d5\\u30fc\\u30ea\\u30a8\\u5909...\",\"47_\\u975e\\u5468\\u671f\\u95a2\\u6570\\u307e\\u3067\\u542b\\u3081\\u305f\\u4e00\\u822c\\u7684\\u306a\\u30d5\\u30fc\\u30ea\\u30a8\\u5909\\u63db\\u3068\\u305d\\u306e\\u6027...\",\"20_\\u96e2\\u6563\\u30d5\\u30fc\\u30ea\\u30a8\\u5909\\u63db_\\u30d5\\u30fc\\u30ea\\u30a8\\u5909\\u63db_\\u96e2\\u6563\\u30d5\\u30fc\\u30ea\\u30a8\\u5909\\u63db...\",\"5_\\u96e2\\u6563\\u6642\\u9593\\u30d5\\u30fc\\u30ea\\u30a8\\u5909\\u63db\\u3068\\u96e2\\u6563\\u30d5\\u30fc\\u30ea\\u30a8\\u5909\\u63db_\\u96e2\\u6563\\u6642\\u9593\\u30b7...\",\"30_\\u30d5\\u30fc\\u30ea\\u30a8\\u7d1a\\u6570\\u8868\\u73fe_sincos_\\u5468\\u671f\\u7684\\u306a\\u4fe1\\u53f7\\u306f\\u30d5...\",\"19_\\u30d5\\u30fc\\u30ea\\u30a8\\u7d1a\\u6570\\u304b\\u3089\\u30d5\\u30fc\\u30ea\\u30a8\\u5909\\u63db\\u3078\\u306e\\u62e1\\u5f35_\\u30d5\\u30fc\\u30ea\\u30a8\\u7d1a...\",\"29_\\u30d5\\u30fc\\u30ea\\u30a8\\u7d1a\\u6570\\u306b\\u3064\\u3044\\u3066\\u5b66\\u3093\\u3060_\\u3053\\u308c\\u304b\\u3089\\u306e\\u6388\\u696d\\u3067\\u4f55\\u3092...\",\"16_\\u9ad8\\u901f\\u30d5\\u30fc\\u30ea\\u30a8\\u5909\\u63db_\\u9ad8\\u901f\\u30d5\\u30fc\\u30ea\\u30a8\\u5909\\u63db\\u306b\\u3064\\u3044\\u3066_\\u9ad8\\u901f...\",\"1_\\u30d0\\u30a4_\\u5b8c\\u5168\\u6027_\\u6697\\u53f7\\u306b\\u3064\\u3044\\u3066\",\"3_\\u7b26\\u53f7\\u8a9e\\u540c\\u58eb\\u304cs_2k_\\u30cf\\u30df\\u30f3\\u30b0\\u8ddd\\u96e2\",\"9_z\\u5909\\u63db\\u306b\\u3064\\u3044\\u3066_z\\u5909\\u63db\\u306e\\u6027\\u8cea\\u9006z\\u5909\\u63db_z\\u5909\\u63db\\u306e\\u6027\\u8cea...\",\"42_\\u6388\\u696d\\u306e\\u30ac\\u30a4\\u30c0\\u30f3\\u30b9_ict\\u306e\\u9032\\u3093\\u3060\\u73fe\\u4ee3\\u306b\\u304a\\u3044\\u3066\\u5897\\u52a0...\",\"40_\\u9006z\\u5909\\u63db_\\u9006z\\u5909\\u63db\\u306b\\u3064\\u3044\\u3066_\\u9006z\\u5909\\u63db\\u3092\\u89e3\\u304f\",\"24_\\u6539\\u7ac4_\\u634f\\u9020_\\u7814\\u7a76\\u306b\\u304a\\u3051\\u308b\\u4e2d\\u7acb\\u3084\\u5ba2\\u89b3\\u6027\\u7814\\u7a76\\u4e0d\\u6b63\\u3068\\u306a...\",\"18_\\u8457\\u4f5c\\u6a29\\u306b\\u3064\\u3044\\u3066_\\u8ca1\\u7523\\u6a29_\\u8457\\u4f5c\\u6a29\",\"17_\\u671f\\u672b\\u30c6\\u30b9\\u30c8_\\u78ba\\u8a8d\\u30c6\\u30b9\\u30c8_\\u30c6\\u30b9\\u30c8\",\"32_\\u96e2\\u6563\\u30d5\\u30fc\\u30ea\\u30a8\\u5909\\u63db\\u306e\\u6027\\u8cea\\u306b\\u3064\\u3044\\u3066\\u5b66\\u3093\\u3060_\\u96e2\\u6563\\u30d5\\u30fc\\u30ea...\",\"37_\\u53ef\\u8996\\u5316\\u306e\\u7a2e\\u985e_\\u53ef\\u8996\\u5316\\u306b\\u3064\\u3044\\u3066_\\u53ef\\u8996\\u5316\\u3068\\u305d\\u306e\\u624b\\u6cd5\",\"38_\\u7814\\u7a76\\u502b\\u7406\\u60c5\\u5831\\u502b\\u7406\\u306b\\u3064\\u3044\\u3066_\\u7814\\u7a76\\u306b\\u304a\\u3051\\u308b\\u4e0d\\u6b63\\u3084\\u60c5\\u5831...\",\"41_\\u30c7\\u30a3\\u30b8\\u30bf\\u30eb\\u30d5\\u30a3\\u30eb\\u30bf\\u306e\\u6982\\u8981\\u3092\\u5b66\\u3093\\u3060_\\u30c7\\u30a3\\u30b8\\u30bf\\u30eb\\u30d5\\u30a3...\",\"46_\\u5468\\u6ce2\\u6570\\u7279\\u6027\\u306f\\u632f\\u5e45\\u3068\\u4f4d\\u76f8\\u306e2\\u7a2e\\u985e\\u30922\\u7a2e\\u985e\\u3092\\u8868\\u3059\\u56e0\\u679c...\",\"26_\\u6388\\u696d\\u306e\\u9032\\u3081\\u65b9\\u306e\\u8aac\\u660e_\\u6388\\u696d\\u304c\\u7d42\\u308f\\u3063\\u305f\\u3089\\u305d\\u306e\\u56de\\u306e\\u65e5\\u8a8c...\",\"10_\\u77e5\\u8b58\\u30de\\u30c3\\u30d7\\u306e\\u4f5c\\u6210_\\u77e5\\u8b58\\u30de\\u30c3\\u30d7\\u306e\\u4f5c\\u88fd_\\u77e5\\u8b58\\u30de\\u30c3\\u30d7\\u4f5c\\u6210\",\"21_br\\u30fcmap\\u3092\\u7528\\u3044\\u3066\\u632f\\u308a\\u8fd4\\u308a\\u3092\\u884c\\u3063\\u305f_\\u7b2c\\u4e03\\u56de\\u306e\\u5927...\",\"6_\\u60c5\\u5831_\\u60c5\\u5831\\u79d1\\u5b66_\\u6587\\u7ae0\",\"2_\\u8a08\\u7b97_\\u30a2\\u30eb\\u30b4\\u30ea\\u30ba\\u30e0_\\u30b3\\u30f3\\u30d4\\u30e5\\u30fc\\u30bf\",\"0_\\u30b3\\u30e2\\u30f3\\u30ba_nlogn_\\u8ddd\\u96e2\",\"7_\\u30d1\\u30bf\\u30fc\\u30f3\\u8a8d\\u8b58_\\u30d9\\u30af\\u30c8\\u30eb_\\u753b\\u50cf\\u51e6\\u7406\",\"25_\\u30ac\\u30a4\\u30c0\\u30f3\\u30b9_\\u30bd\\u30fc\\u30c8\\u306e\\u5927\\u307e\\u304b\\u306a\\u6982\\u8981_\\u30aa\\u30ea\\u30a8\\u30f3\\u30c6\\u30fc\\u30b7\\u30e7\\u30f3\",\"8_log2_xy_\\u66d6\\u6627\\u3055\",\"4_\\u60c5\\u5831\\u6e90\\u7b26\\u53f7\\u5316_\\u60c5\\u5831\\u6e90_\\u30a8\\u30f3\\u30c8\\u30ed\\u30d4\\u30fc\",\"36_\\u3092\\u6b21\\u3067\\u5b9a\\u3081\\u308b_2\\u9032\\u6570\\u3092\\u4f7f\\u3063\\u3066\\u60c5\\u5831\\u6e90\\u3092\\u7b26\\u53f7\\u5316\\u3059\\u308b\\u969b...\",\"43_\\u7dda\\u5f62\\u4e0d\\u5909\\u30b7\\u30b9\\u30c6\\u30e0\\u306b\\u30a4\\u30f3\\u30d1\\u30eb\\u30b9\\u95a2\\u6570\\u3092\\u52a0\\u3048\\u305f\\u3082\\u306e\\u304c\\u30a4...\",\"35_\\u30a4\\u30f3\\u30d1\\u30eb\\u30b9\\u5fdc\\u7b54_\\u5dee\\u5206\\u65b9\\u7a0b\\u5f0f_\\u30a4\\u30f3\\u30d1\\u30eb\\u30b9\\u5fdc\\u7b54\\u4f1d\\u9054\\u95a2...\",\"23_\\u30de\\u30fc\\u30b8\\u30bd\\u30fc\\u30c8\\u3068\\u4e8c\\u5206\\u63a2\\u7d22\\u6cd5\\u306b\\u3064\\u3044\\u3066_\\u4e8c\\u5206\\u63a2\\u7d22\\u6cd5_\\u4eca...\",\"45_\\u30d2\\u30fc\\u30d7\\u30bd\\u30fc\\u30c8\\u3068\\u30de\\u30fc\\u30b8\\u30bd\\u30fc\\u30c8\\u306b\\u3064\\u3044\\u3066_\\u30bd\\u30fc\\u30c8\\u307e\\u3068\\u3081...\",\"49_\\u30de\\u30fc\\u30b8\\u30bd\\u30fc\\u30c8\\u30682\\u5206\\u63a2\\u7d22\\u6cd5_\\u30d2\\u30fc\\u30d7\\u30bd\\u30fc\\u30c8\\u30a2\\u30eb\\u30b4\\u30ea\\u30ba...\",\"48_\\u30c7\\u30a3\\u30b8\\u30bf\\u30eb\\u30d5\\u30a3\\u30eb\\u30bf\\u306b\\u3064\\u3044\\u3066_\\u30c7\\u30a3\\u30b8\\u30bf\\u30eb\\u30d5\\u30a3\\u30eb\\u30bf_...\",\"34_\\u30c7\\u30a3\\u30b8\\u30bf\\u30eb\\u30d5\\u30a3\\u30eb\\u30bf\\u306e\\u8a2d\\u8a08_\\u30c7\\u30a3\\u30b8\\u30bf\\u30eb\\u30d5\\u30a3\\u30eb\\u30bf\\u8a2d\\u8a08...\",\"31_fir\\u306e\\u8a2d\\u8a08\\u306b\\u306f\\u7a93\\u95a2\\u6570\\u304c\\u7528\\u3044\\u3089\\u308c\\u308b\\u624b\\u9806\\u306f\\u6b21\\u306e\\u3068\\u304a...\"],\"tickvals\":[-5.0,-15.0,-25.0,-35.0,-45.0,-55.0,-65.0,-75.0,-85.0,-95.0,-105.0,-115.0,-125.0,-135.0,-145.0,-155.0,-165.0,-175.0,-185.0,-195.0,-205.0,-215.0,-225.0,-235.0,-245.0,-255.0,-265.0,-275.0,-285.0,-295.0,-305.0,-315.0,-325.0,-335.0,-345.0,-355.0,-365.0,-375.0,-385.0,-395.0,-405.0,-415.0,-425.0,-435.0,-445.0,-455.0,-465.0,-475.0,-485.0,-495.0],\"type\":\"linear\",\"zeroline\":false,\"range\":[-500.0,0.0]},\"template\":{\"data\":{\"barpolar\":[{\"marker\":{\"line\":{\"color\":\"white\",\"width\":0.5},\"pattern\":{\"fillmode\":\"overlay\",\"size\":10,\"solidity\":0.2}},\"type\":\"barpolar\"}],\"bar\":[{\"error_x\":{\"color\":\"#2a3f5f\"},\"error_y\":{\"color\":\"#2a3f5f\"},\"marker\":{\"line\":{\"color\":\"white\",\"width\":0.5},\"pattern\":{\"fillmode\":\"overlay\",\"size\":10,\"solidity\":0.2}},\"type\":\"bar\"}],\"carpet\":[{\"aaxis\":{\"endlinecolor\":\"#2a3f5f\",\"gridcolor\":\"#C8D4E3\",\"linecolor\":\"#C8D4E3\",\"minorgridcolor\":\"#C8D4E3\",\"startlinecolor\":\"#2a3f5f\"},\"baxis\":{\"endlinecolor\":\"#2a3f5f\",\"gridcolor\":\"#C8D4E3\",\"linecolor\":\"#C8D4E3\",\"minorgridcolor\":\"#C8D4E3\",\"startlinecolor\":\"#2a3f5f\"},\"type\":\"carpet\"}],\"choropleth\":[{\"colorbar\":{\"outlinewidth\":0,\"ticks\":\"\"},\"type\":\"choropleth\"}],\"contourcarpet\":[{\"colorbar\":{\"outlinewidth\":0,\"ticks\":\"\"},\"type\":\"contourcarpet\"}],\"contour\":[{\"colorbar\":{\"outlinewidth\":0,\"ticks\":\"\"},\"colorscale\":[[0.0,\"#0d0887\"],[0.1111111111111111,\"#46039f\"],[0.2222222222222222,\"#7201a8\"],[0.3333333333333333,\"#9c179e\"],[0.4444444444444444,\"#bd3786\"],[0.5555555555555556,\"#d8576b\"],[0.6666666666666666,\"#ed7953\"],[0.7777777777777778,\"#fb9f3a\"],[0.8888888888888888,\"#fdca26\"],[1.0,\"#f0f921\"]],\"type\":\"contour\"}],\"heatmapgl\":[{\"colorbar\":{\"outlinewidth\":0,\"ticks\":\"\"},\"colorscale\":[[0.0,\"#0d0887\"],[0.1111111111111111,\"#46039f\"],[0.2222222222222222,\"#7201a8\"],[0.3333333333333333,\"#9c179e\"],[0.4444444444444444,\"#bd3786\"],[0.5555555555555556,\"#d8576b\"],[0.6666666666666666,\"#ed7953\"],[0.7777777777777778,\"#fb9f3a\"],[0.8888888888888888,\"#fdca26\"],[1.0,\"#f0f921\"]],\"type\":\"heatmapgl\"}],\"heatmap\":[{\"colorbar\":{\"outlinewidth\":0,\"ticks\":\"\"},\"colorscale\":[[0.0,\"#0d0887\"],[0.1111111111111111,\"#46039f\"],[0.2222222222222222,\"#7201a8\"],[0.3333333333333333,\"#9c179e\"],[0.4444444444444444,\"#bd3786\"],[0.5555555555555556,\"#d8576b\"],[0.6666666666666666,\"#ed7953\"],[0.7777777777777778,\"#fb9f3a\"],[0.8888888888888888,\"#fdca26\"],[1.0,\"#f0f921\"]],\"type\":\"heatmap\"}],\"histogram2dcontour\":[{\"colorbar\":{\"outlinewidth\":0,\"ticks\":\"\"},\"colorscale\":[[0.0,\"#0d0887\"],[0.1111111111111111,\"#46039f\"],[0.2222222222222222,\"#7201a8\"],[0.3333333333333333,\"#9c179e\"],[0.4444444444444444,\"#bd3786\"],[0.5555555555555556,\"#d8576b\"],[0.6666666666666666,\"#ed7953\"],[0.7777777777777778,\"#fb9f3a\"],[0.8888888888888888,\"#fdca26\"],[1.0,\"#f0f921\"]],\"type\":\"histogram2dcontour\"}],\"histogram2d\":[{\"colorbar\":{\"outlinewidth\":0,\"ticks\":\"\"},\"colorscale\":[[0.0,\"#0d0887\"],[0.1111111111111111,\"#46039f\"],[0.2222222222222222,\"#7201a8\"],[0.3333333333333333,\"#9c179e\"],[0.4444444444444444,\"#bd3786\"],[0.5555555555555556,\"#d8576b\"],[0.6666666666666666,\"#ed7953\"],[0.7777777777777778,\"#fb9f3a\"],[0.8888888888888888,\"#fdca26\"],[1.0,\"#f0f921\"]],\"type\":\"histogram2d\"}],\"histogram\":[{\"marker\":{\"pattern\":{\"fillmode\":\"overlay\",\"size\":10,\"solidity\":0.2}},\"type\":\"histogram\"}],\"mesh3d\":[{\"colorbar\":{\"outlinewidth\":0,\"ticks\":\"\"},\"type\":\"mesh3d\"}],\"parcoords\":[{\"line\":{\"colorbar\":{\"outlinewidth\":0,\"ticks\":\"\"}},\"type\":\"parcoords\"}],\"pie\":[{\"automargin\":true,\"type\":\"pie\"}],\"scatter3d\":[{\"line\":{\"colorbar\":{\"outlinewidth\":0,\"ticks\":\"\"}},\"marker\":{\"colorbar\":{\"outlinewidth\":0,\"ticks\":\"\"}},\"type\":\"scatter3d\"}],\"scattercarpet\":[{\"marker\":{\"colorbar\":{\"outlinewidth\":0,\"ticks\":\"\"}},\"type\":\"scattercarpet\"}],\"scattergeo\":[{\"marker\":{\"colorbar\":{\"outlinewidth\":0,\"ticks\":\"\"}},\"type\":\"scattergeo\"}],\"scattergl\":[{\"marker\":{\"colorbar\":{\"outlinewidth\":0,\"ticks\":\"\"}},\"type\":\"scattergl\"}],\"scattermapbox\":[{\"marker\":{\"colorbar\":{\"outlinewidth\":0,\"ticks\":\"\"}},\"type\":\"scattermapbox\"}],\"scatterpolargl\":[{\"marker\":{\"colorbar\":{\"outlinewidth\":0,\"ticks\":\"\"}},\"type\":\"scatterpolargl\"}],\"scatterpolar\":[{\"marker\":{\"colorbar\":{\"outlinewidth\":0,\"ticks\":\"\"}},\"type\":\"scatterpolar\"}],\"scatter\":[{\"fillpattern\":{\"fillmode\":\"overlay\",\"size\":10,\"solidity\":0.2},\"type\":\"scatter\"}],\"scatterternary\":[{\"marker\":{\"colorbar\":{\"outlinewidth\":0,\"ticks\":\"\"}},\"type\":\"scatterternary\"}],\"surface\":[{\"colorbar\":{\"outlinewidth\":0,\"ticks\":\"\"},\"colorscale\":[[0.0,\"#0d0887\"],[0.1111111111111111,\"#46039f\"],[0.2222222222222222,\"#7201a8\"],[0.3333333333333333,\"#9c179e\"],[0.4444444444444444,\"#bd3786\"],[0.5555555555555556,\"#d8576b\"],[0.6666666666666666,\"#ed7953\"],[0.7777777777777778,\"#fb9f3a\"],[0.8888888888888888,\"#fdca26\"],[1.0,\"#f0f921\"]],\"type\":\"surface\"}],\"table\":[{\"cells\":{\"fill\":{\"color\":\"#EBF0F8\"},\"line\":{\"color\":\"white\"}},\"header\":{\"fill\":{\"color\":\"#C8D4E3\"},\"line\":{\"color\":\"white\"}},\"type\":\"table\"}]},\"layout\":{\"annotationdefaults\":{\"arrowcolor\":\"#2a3f5f\",\"arrowhead\":0,\"arrowwidth\":1},\"autotypenumbers\":\"strict\",\"coloraxis\":{\"colorbar\":{\"outlinewidth\":0,\"ticks\":\"\"}},\"colorscale\":{\"diverging\":[[0,\"#8e0152\"],[0.1,\"#c51b7d\"],[0.2,\"#de77ae\"],[0.3,\"#f1b6da\"],[0.4,\"#fde0ef\"],[0.5,\"#f7f7f7\"],[0.6,\"#e6f5d0\"],[0.7,\"#b8e186\"],[0.8,\"#7fbc41\"],[0.9,\"#4d9221\"],[1,\"#276419\"]],\"sequential\":[[0.0,\"#0d0887\"],[0.1111111111111111,\"#46039f\"],[0.2222222222222222,\"#7201a8\"],[0.3333333333333333,\"#9c179e\"],[0.4444444444444444,\"#bd3786\"],[0.5555555555555556,\"#d8576b\"],[0.6666666666666666,\"#ed7953\"],[0.7777777777777778,\"#fb9f3a\"],[0.8888888888888888,\"#fdca26\"],[1.0,\"#f0f921\"]],\"sequentialminus\":[[0.0,\"#0d0887\"],[0.1111111111111111,\"#46039f\"],[0.2222222222222222,\"#7201a8\"],[0.3333333333333333,\"#9c179e\"],[0.4444444444444444,\"#bd3786\"],[0.5555555555555556,\"#d8576b\"],[0.6666666666666666,\"#ed7953\"],[0.7777777777777778,\"#fb9f3a\"],[0.8888888888888888,\"#fdca26\"],[1.0,\"#f0f921\"]]},\"colorway\":[\"#636efa\",\"#EF553B\",\"#00cc96\",\"#ab63fa\",\"#FFA15A\",\"#19d3f3\",\"#FF6692\",\"#B6E880\",\"#FF97FF\",\"#FECB52\"],\"font\":{\"color\":\"#2a3f5f\"},\"geo\":{\"bgcolor\":\"white\",\"lakecolor\":\"white\",\"landcolor\":\"white\",\"showlakes\":true,\"showland\":true,\"subunitcolor\":\"#C8D4E3\"},\"hoverlabel\":{\"align\":\"left\"},\"hovermode\":\"closest\",\"mapbox\":{\"style\":\"light\"},\"paper_bgcolor\":\"white\",\"plot_bgcolor\":\"white\",\"polar\":{\"angularaxis\":{\"gridcolor\":\"#EBF0F8\",\"linecolor\":\"#EBF0F8\",\"ticks\":\"\"},\"bgcolor\":\"white\",\"radialaxis\":{\"gridcolor\":\"#EBF0F8\",\"linecolor\":\"#EBF0F8\",\"ticks\":\"\"}},\"scene\":{\"xaxis\":{\"backgroundcolor\":\"white\",\"gridcolor\":\"#DFE8F3\",\"gridwidth\":2,\"linecolor\":\"#EBF0F8\",\"showbackground\":true,\"ticks\":\"\",\"zerolinecolor\":\"#EBF0F8\"},\"yaxis\":{\"backgroundcolor\":\"white\",\"gridcolor\":\"#DFE8F3\",\"gridwidth\":2,\"linecolor\":\"#EBF0F8\",\"showbackground\":true,\"ticks\":\"\",\"zerolinecolor\":\"#EBF0F8\"},\"zaxis\":{\"backgroundcolor\":\"white\",\"gridcolor\":\"#DFE8F3\",\"gridwidth\":2,\"linecolor\":\"#EBF0F8\",\"showbackground\":true,\"ticks\":\"\",\"zerolinecolor\":\"#EBF0F8\"}},\"shapedefaults\":{\"line\":{\"color\":\"#2a3f5f\"}},\"ternary\":{\"aaxis\":{\"gridcolor\":\"#DFE8F3\",\"linecolor\":\"#A2B1C6\",\"ticks\":\"\"},\"baxis\":{\"gridcolor\":\"#DFE8F3\",\"linecolor\":\"#A2B1C6\",\"ticks\":\"\"},\"bgcolor\":\"white\",\"caxis\":{\"gridcolor\":\"#DFE8F3\",\"linecolor\":\"#A2B1C6\",\"ticks\":\"\"}},\"title\":{\"x\":0.05},\"xaxis\":{\"automargin\":true,\"gridcolor\":\"#EBF0F8\",\"linecolor\":\"#EBF0F8\",\"ticks\":\"\",\"title\":{\"standoff\":15},\"zerolinecolor\":\"#EBF0F8\",\"zerolinewidth\":2},\"yaxis\":{\"automargin\":true,\"gridcolor\":\"#EBF0F8\",\"linecolor\":\"#EBF0F8\",\"ticks\":\"\",\"title\":{\"standoff\":15},\"zerolinecolor\":\"#EBF0F8\",\"zerolinewidth\":2}}},\"title\":{\"font\":{\"size\":22,\"color\":\"Black\"},\"text\":\"\\u003cb\\u003eHierarchical Clustering\\u003c\\u002fb\\u003e\",\"x\":0.5,\"xanchor\":\"center\",\"yanchor\":\"top\"},\"hoverlabel\":{\"font\":{\"size\":16,\"family\":\"Rockwell\"},\"bgcolor\":\"white\"},\"plot_bgcolor\":\"#ECEFF1\"},                        {\"responsive\": true}                    ).then(function(){\n",
       "                            \n",
       "var gd = document.getElementById('7b2b3f2e-8ce6-4455-a1e1-a1a55c565449');\n",
       "var x = new MutationObserver(function (mutations, observer) {{\n",
       "        var display = window.getComputedStyle(gd).display;\n",
       "        if (!display || display === 'none') {{\n",
       "            console.log([gd, 'removed!']);\n",
       "            Plotly.purge(gd);\n",
       "            observer.disconnect();\n",
       "        }}\n",
       "}});\n",
       "\n",
       "// Listen for the removal of the full notebook cells\n",
       "var notebookContainer = gd.closest('#notebook-container');\n",
       "if (notebookContainer) {{\n",
       "    x.observe(notebookContainer, {childList: true});\n",
       "}}\n",
       "\n",
       "// Listen for the clearing of the current output cell\n",
       "var outputEl = gd.closest('.output');\n",
       "if (outputEl) {{\n",
       "    x.observe(outputEl, {childList: true});\n",
       "}}\n",
       "\n",
       "                        })                };                });            </script>        </div>"
      ]
     },
     "metadata": {},
     "output_type": "display_data"
    }
   ],
   "source": [
    "topic_model.visualize_hierarchy()"
   ]
  },
  {
   "cell_type": "code",
   "execution_count": null,
   "metadata": {},
   "outputs": [],
   "source": [
    "# トピックと真のラベルの関連をデータフレームで表現\n",
    "df_topics_labels = pd.DataFrame({'Topic': topics, 'True_Label': df['label']})\n",
    "\n",
    "# 各トピックにおけるラベルの分布を集計\n",
    "label_distribution = df_topics_labels.groupby('Topic')['True_Label'].value_counts().unstack().fillna(0)"
   ]
  },
  {
   "cell_type": "code",
   "execution_count": null,
   "metadata": {},
   "outputs": [],
   "source": [
    "# import pandas as pd\n",
    "# import matplotlib.pyplot as plt\n",
    "# import seaborn as sns\n",
    "\n",
    "\n",
    "\n",
    "# # 結果を視覚化\n",
    "# plt.figure(figsize=(12, 8))\n",
    "# sns.heatmap(label_distribution, annot=True, cmap='viridis')\n",
    "# plt.title('Label Distribution per Topic')\n",
    "# plt.xlabel('True Labels')\n",
    "# plt.ylabel('Topics')\n",
    "# plt.show()"
   ]
  },
  {
   "cell_type": "code",
   "execution_count": null,
   "metadata": {},
   "outputs": [],
   "source": [
    "# import plotly.graph_objects as go\n",
    "\n",
    "# # トピックと真のラベルの関連をデータフレームで表現\n",
    "# df_topics_labels = pd.DataFrame({'Topic': topics, 'True_Label': train['label']})\n",
    "\n",
    "# # 各トピックにおけるラベルの分布を集計\n",
    "# label_distribution = df_topics_labels.groupby('Topic')['True_Label'].value_counts().unstack().fillna(0)\n",
    "\n",
    "# # Plotlyの棒グラフを作成\n",
    "# fig = go.Figure()\n",
    "\n",
    "# # トピックごとの棒グラフを作成\n",
    "# for topic in label_distribution.index:\n",
    "#     fig.add_trace(\n",
    "#         go.Bar(\n",
    "#             x=label_distribution.columns,\n",
    "#             y=label_distribution.loc[topic],\n",
    "#             name=f\"Topic {topic}\"\n",
    "#         )\n",
    "#     )\n",
    "\n",
    "# # シークバーの設定\n",
    "# steps = []\n",
    "# for i in range(len(label_distribution.index)):\n",
    "#     step = dict(\n",
    "#         method=\"update\",\n",
    "#         args=[{\"visible\": [False] * len(label_distribution.index)},\n",
    "#               {\"title\": f\"Topic {label_distribution.index[i]}\"}],\n",
    "#         label=f\"Topic {label_distribution.index[i]}\"\n",
    "#     )\n",
    "#     step[\"args\"][0][\"visible\"][i] = True  # このトピックのバーだけを表示\n",
    "#     steps.append(step)\n",
    "\n",
    "# sliders = [dict(\n",
    "#     active=0,\n",
    "#     currentvalue={\"prefix\": \"Selected Topic: \"},\n",
    "#     pad={\"t\": 50},\n",
    "#     steps=steps\n",
    "# )]\n",
    "\n",
    "# fig.update_layout(\n",
    "#     sliders=sliders,\n",
    "#     title=\"Label Distribution per Topic\",\n",
    "#     xaxis_title=\"True Labels\",\n",
    "#     yaxis_title=\"Count\"\n",
    "# )\n",
    "\n",
    "# fig.show()\n"
   ]
  },
  {
   "cell_type": "code",
   "execution_count": null,
   "metadata": {},
   "outputs": [
    {
     "name": "stderr",
     "output_type": "stream",
     "text": [
      "Batches:   0%|          | 0/189 [00:00<?, ?it/s]"
     ]
    },
    {
     "name": "stderr",
     "output_type": "stream",
     "text": [
      "Batches: 100%|██████████| 189/189 [00:51<00:00,  3.69it/s]\n",
      "2024-04-08 08:16:58,527 - BERTopic - Dimensionality - Reducing dimensionality of input embeddings.\n",
      "2024-04-08 08:16:58,543 - BERTopic - Dimensionality - Completed ✓\n",
      "2024-04-08 08:16:58,544 - BERTopic - Clustering - Approximating new points with `hdbscan_model`\n",
      "2024-04-08 08:16:58,744 - BERTopic - Probabilities - Start calculation of probabilities with HDBSCAN\n",
      "2024-04-08 08:17:01,077 - BERTopic - Probabilities - Completed ✓\n",
      "2024-04-08 08:17:01,078 - BERTopic - Cluster - Completed ✓\n"
     ]
    }
   ],
   "source": [
    "# すべての文書に対してトピック割り当てを行う\n",
    "topics, _ = topic_model.transform(docs)\n",
    "\n",
    "# トピック1に割り当てられた文書のインデックスを取得\n",
    "topic_1_indices = [i for i, topic in enumerate(topics) if topic == 1]\n",
    "\n",
    "# トピック1に割り当てられた文書を抽出\n",
    "topic_1_docs = [docs[i] for i in topic_1_indices]\n",
    "\n",
    "# トピック1に割り当てられた文書を表示または保存\n",
    "# for doc in topic_1_docs:\n",
    "#     print(doc)\n"
   ]
  },
  {
   "cell_type": "code",
   "execution_count": null,
   "metadata": {},
   "outputs": [
    {
     "data": {
      "application/vnd.plotly.v1+json": {
       "config": {
        "plotlyServerURL": "https://plot.ly"
       },
       "data": [
        {
         "hoverinfo": "text",
         "marker": {
          "color": "rgb(61,153,112)"
         },
         "mode": "lines",
         "type": "scatter",
         "x": [
          0,
          0.9042245986189195,
          0.9042245986189195,
          0
         ],
         "xaxis": "x",
         "y": [
          -5,
          -5,
          -15,
          -15
         ],
         "yaxis": "y"
        },
        {
         "hoverinfo": "text",
         "marker": {
          "color": "rgb(255,65,54)"
         },
         "mode": "lines",
         "type": "scatter",
         "x": [
          0,
          0.9083884715182052,
          0.9083884715182052,
          0
         ],
         "xaxis": "x",
         "y": [
          -35,
          -35,
          -45,
          -45
         ],
         "yaxis": "y"
        },
        {
         "hoverinfo": "text",
         "marker": {
          "color": "rgb(255,65,54)"
         },
         "mode": "lines",
         "type": "scatter",
         "x": [
          0,
          0.9888513286370496,
          0.9888513286370496,
          0.9083884715182052
         ],
         "xaxis": "x",
         "y": [
          -25,
          -25,
          -40,
          -40
         ],
         "yaxis": "y"
        },
        {
         "hoverinfo": "text",
         "marker": {
          "color": "rgb(0,116,217)"
         },
         "mode": "lines",
         "type": "scatter",
         "x": [
          0.9042245986189195,
          1.035913581961902,
          1.035913581961902,
          0.9888513286370496
         ],
         "xaxis": "x",
         "y": [
          -10,
          -10,
          -32.5,
          -32.5
         ],
         "yaxis": "y"
        },
        {
         "hoverinfo": "text",
         "marker": {
          "color": "rgb(35,205,205)"
         },
         "mode": "lines",
         "type": "scatter",
         "x": [
          0,
          0.9141324270941049,
          0.9141324270941049,
          0
         ],
         "xaxis": "x",
         "y": [
          -65,
          -65,
          -75,
          -75
         ],
         "yaxis": "y"
        },
        {
         "hoverinfo": "text",
         "marker": {
          "color": "rgb(35,205,205)"
         },
         "mode": "lines",
         "type": "scatter",
         "x": [
          0,
          0.9744746843444926,
          0.9744746843444926,
          0.9141324270941049
         ],
         "xaxis": "x",
         "y": [
          -55,
          -55,
          -70,
          -70
         ],
         "yaxis": "y"
        },
        {
         "hoverinfo": "text",
         "marker": {
          "color": "rgb(133,20,75)"
         },
         "mode": "lines",
         "type": "scatter",
         "x": [
          0,
          0.9859325360637271,
          0.9859325360637271,
          0
         ],
         "xaxis": "x",
         "y": [
          -85,
          -85,
          -95,
          -95
         ],
         "yaxis": "y"
        },
        {
         "hoverinfo": "text",
         "marker": {
          "color": "rgb(0,116,217)"
         },
         "mode": "lines",
         "type": "scatter",
         "x": [
          0.9744746843444926,
          1.0069474222623767,
          1.0069474222623767,
          0.9859325360637271
         ],
         "xaxis": "x",
         "y": [
          -62.5,
          -62.5,
          -90,
          -90
         ],
         "yaxis": "y"
        },
        {
         "hoverinfo": "text",
         "marker": {
          "color": "rgb(255,220,0)"
         },
         "mode": "lines",
         "type": "scatter",
         "x": [
          0,
          0.9207386543367386,
          0.9207386543367386,
          0
         ],
         "xaxis": "x",
         "y": [
          -125,
          -125,
          -135,
          -135
         ],
         "yaxis": "y"
        },
        {
         "hoverinfo": "text",
         "marker": {
          "color": "rgb(255,220,0)"
         },
         "mode": "lines",
         "type": "scatter",
         "x": [
          0,
          0.9825182266352244,
          0.9825182266352244,
          0.9207386543367386
         ],
         "xaxis": "x",
         "y": [
          -115,
          -115,
          -130,
          -130
         ],
         "yaxis": "y"
        },
        {
         "hoverinfo": "text",
         "marker": {
          "color": "rgb(255,220,0)"
         },
         "mode": "lines",
         "type": "scatter",
         "x": [
          0,
          0.993195799919171,
          0.993195799919171,
          0.9825182266352244
         ],
         "xaxis": "x",
         "y": [
          -105,
          -105,
          -122.5,
          -122.5
         ],
         "yaxis": "y"
        },
        {
         "hoverinfo": "text",
         "marker": {
          "color": "rgb(40,35,35)"
         },
         "mode": "lines",
         "type": "scatter",
         "x": [
          0,
          0.9695111256183327,
          0.9695111256183327,
          0
         ],
         "xaxis": "x",
         "y": [
          -155,
          -155,
          -165,
          -165
         ],
         "yaxis": "y"
        },
        {
         "hoverinfo": "text",
         "marker": {
          "color": "rgb(40,35,35)"
         },
         "mode": "lines",
         "type": "scatter",
         "x": [
          0,
          0.9926182544033983,
          0.9926182544033983,
          0.9695111256183327
         ],
         "xaxis": "x",
         "y": [
          -145,
          -145,
          -160,
          -160
         ],
         "yaxis": "y"
        },
        {
         "hoverinfo": "text",
         "marker": {
          "color": "rgb(0,116,217)"
         },
         "mode": "lines",
         "type": "scatter",
         "x": [
          0,
          1,
          1,
          0
         ],
         "xaxis": "x",
         "y": [
          -185,
          -185,
          -195,
          -195
         ],
         "yaxis": "y"
        },
        {
         "hoverinfo": "text",
         "marker": {
          "color": "rgb(0,116,217)"
         },
         "mode": "lines",
         "type": "scatter",
         "x": [
          1,
          1,
          1,
          0
         ],
         "xaxis": "x",
         "y": [
          -190,
          -190,
          -205,
          -205
         ],
         "yaxis": "y"
        },
        {
         "hoverinfo": "text",
         "marker": {
          "color": "rgb(0,116,217)"
         },
         "mode": "lines",
         "type": "scatter",
         "x": [
          0,
          1,
          1,
          1
         ],
         "xaxis": "x",
         "y": [
          -175,
          -175,
          -197.5,
          -197.5
         ],
         "yaxis": "y"
        },
        {
         "hoverinfo": "text",
         "marker": {
          "color": "rgb(61,153,112)"
         },
         "mode": "lines",
         "type": "scatter",
         "x": [
          0,
          0.9999999999999999,
          0.9999999999999999,
          0
         ],
         "xaxis": "x",
         "y": [
          -245,
          -245,
          -255,
          -255
         ],
         "yaxis": "y"
        },
        {
         "hoverinfo": "text",
         "marker": {
          "color": "rgb(61,153,112)"
         },
         "mode": "lines",
         "type": "scatter",
         "x": [
          0,
          0.9999999999999999,
          0.9999999999999999,
          0.9999999999999999
         ],
         "xaxis": "x",
         "y": [
          -235,
          -235,
          -250,
          -250
         ],
         "yaxis": "y"
        },
        {
         "hoverinfo": "text",
         "marker": {
          "color": "rgb(61,153,112)"
         },
         "mode": "lines",
         "type": "scatter",
         "x": [
          0,
          0.9999999999999998,
          0.9999999999999998,
          0
         ],
         "xaxis": "x",
         "y": [
          -265,
          -265,
          -275,
          -275
         ],
         "yaxis": "y"
        },
        {
         "hoverinfo": "text",
         "marker": {
          "color": "rgb(61,153,112)"
         },
         "mode": "lines",
         "type": "scatter",
         "x": [
          0.9999999999999998,
          0.9999999999999998,
          0.9999999999999998,
          0
         ],
         "xaxis": "x",
         "y": [
          -270,
          -270,
          -285,
          -285
         ],
         "yaxis": "y"
        },
        {
         "hoverinfo": "text",
         "marker": {
          "color": "rgb(61,153,112)"
         },
         "mode": "lines",
         "type": "scatter",
         "x": [
          0.9999999999999999,
          0.9999999999999999,
          0.9999999999999999,
          0.9999999999999998
         ],
         "xaxis": "x",
         "y": [
          -242.5,
          -242.5,
          -277.5,
          -277.5
         ],
         "yaxis": "y"
        },
        {
         "hoverinfo": "text",
         "marker": {
          "color": "rgb(61,153,112)"
         },
         "mode": "lines",
         "type": "scatter",
         "x": [
          0,
          0.9999999999999999,
          0.9999999999999999,
          0.9999999999999999
         ],
         "xaxis": "x",
         "y": [
          -225,
          -225,
          -260,
          -260
         ],
         "yaxis": "y"
        },
        {
         "hoverinfo": "text",
         "marker": {
          "color": "rgb(61,153,112)"
         },
         "mode": "lines",
         "type": "scatter",
         "x": [
          0.9999999999999999,
          0.9999999999999999,
          0.9999999999999999,
          0
         ],
         "xaxis": "x",
         "y": [
          -242.5,
          -242.5,
          -295,
          -295
         ],
         "yaxis": "y"
        },
        {
         "hoverinfo": "text",
         "marker": {
          "color": "rgb(61,153,112)"
         },
         "mode": "lines",
         "type": "scatter",
         "x": [
          0,
          0.9999999999999999,
          0.9999999999999999,
          0.9999999999999999
         ],
         "xaxis": "x",
         "y": [
          -215,
          -215,
          -268.75,
          -268.75
         ],
         "yaxis": "y"
        },
        {
         "hoverinfo": "text",
         "marker": {
          "color": "rgb(61,153,112)"
         },
         "mode": "lines",
         "type": "scatter",
         "x": [
          0.9999999999999999,
          0.9999999999999999,
          0.9999999999999999,
          0
         ],
         "xaxis": "x",
         "y": [
          -241.875,
          -241.875,
          -305,
          -305
         ],
         "yaxis": "y"
        },
        {
         "hoverinfo": "text",
         "marker": {
          "color": "rgb(0,116,217)"
         },
         "mode": "lines",
         "type": "scatter",
         "x": [
          1,
          1,
          1,
          0.9999999999999999
         ],
         "xaxis": "x",
         "y": [
          -186.25,
          -186.25,
          -273.4375,
          -273.4375
         ],
         "yaxis": "y"
        },
        {
         "hoverinfo": "text",
         "marker": {
          "color": "rgb(255,65,54)"
         },
         "mode": "lines",
         "type": "scatter",
         "x": [
          0,
          0.990225174767954,
          0.990225174767954,
          0
         ],
         "xaxis": "x",
         "y": [
          -315,
          -315,
          -325,
          -325
         ],
         "yaxis": "y"
        },
        {
         "hoverinfo": "text",
         "marker": {
          "color": "rgb(255,65,54)"
         },
         "mode": "lines",
         "type": "scatter",
         "x": [
          0.990225174767954,
          0.9979687414036341,
          0.9979687414036341,
          0
         ],
         "xaxis": "x",
         "y": [
          -320,
          -320,
          -335,
          -335
         ],
         "yaxis": "y"
        },
        {
         "hoverinfo": "text",
         "marker": {
          "color": "rgb(0,116,217)"
         },
         "mode": "lines",
         "type": "scatter",
         "x": [
          1,
          1.0089518130011133,
          1.0089518130011133,
          0.9979687414036341
         ],
         "xaxis": "x",
         "y": [
          -229.84375,
          -229.84375,
          -327.5,
          -327.5
         ],
         "yaxis": "y"
        },
        {
         "hoverinfo": "text",
         "marker": {
          "color": "rgb(35,205,205)"
         },
         "mode": "lines",
         "type": "scatter",
         "x": [
          0,
          0.9700656894010342,
          0.9700656894010342,
          0
         ],
         "xaxis": "x",
         "y": [
          -345,
          -345,
          -355,
          -355
         ],
         "yaxis": "y"
        },
        {
         "hoverinfo": "text",
         "marker": {
          "color": "rgb(61,153,112)"
         },
         "mode": "lines",
         "type": "scatter",
         "x": [
          0,
          0.9822601767528573,
          0.9822601767528573,
          0
         ],
         "xaxis": "x",
         "y": [
          -365,
          -365,
          -375,
          -375
         ],
         "yaxis": "y"
        },
        {
         "hoverinfo": "text",
         "marker": {
          "color": "rgb(61,153,112)"
         },
         "mode": "lines",
         "type": "scatter",
         "x": [
          0.9822601767528573,
          0.9950512805897549,
          0.9950512805897549,
          0
         ],
         "xaxis": "x",
         "y": [
          -370,
          -370,
          -385,
          -385
         ],
         "yaxis": "y"
        },
        {
         "hoverinfo": "text",
         "marker": {
          "color": "rgb(0,116,217)"
         },
         "mode": "lines",
         "type": "scatter",
         "x": [
          0.9700656894010342,
          1.016332222832804,
          1.016332222832804,
          0.9950512805897549
         ],
         "xaxis": "x",
         "y": [
          -350,
          -350,
          -377.5,
          -377.5
         ],
         "yaxis": "y"
        },
        {
         "hoverinfo": "text",
         "marker": {
          "color": "rgb(0,116,217)"
         },
         "mode": "lines",
         "type": "scatter",
         "x": [
          1.0089518130011133,
          1.0239775643807854,
          1.0239775643807854,
          1.016332222832804
         ],
         "xaxis": "x",
         "y": [
          -278.671875,
          -278.671875,
          -363.75,
          -363.75
         ],
         "yaxis": "y"
        },
        {
         "hoverinfo": "text",
         "marker": {
          "color": "rgb(0,116,217)"
         },
         "mode": "lines",
         "type": "scatter",
         "x": [
          0.9926182544033983,
          1.0320194822381288,
          1.0320194822381288,
          1.0239775643807854
         ],
         "xaxis": "x",
         "y": [
          -152.5,
          -152.5,
          -321.2109375,
          -321.2109375
         ],
         "yaxis": "y"
        },
        {
         "hoverinfo": "text",
         "marker": {
          "color": "rgb(255,65,54)"
         },
         "mode": "lines",
         "type": "scatter",
         "x": [
          0,
          0.963830510459467,
          0.963830510459467,
          0
         ],
         "xaxis": "x",
         "y": [
          -395,
          -395,
          -405,
          -405
         ],
         "yaxis": "y"
        },
        {
         "hoverinfo": "text",
         "marker": {
          "color": "rgb(255,65,54)"
         },
         "mode": "lines",
         "type": "scatter",
         "x": [
          0.963830510459467,
          0.9758748515746302,
          0.9758748515746302,
          0
         ],
         "xaxis": "x",
         "y": [
          -400,
          -400,
          -415,
          -415
         ],
         "yaxis": "y"
        },
        {
         "hoverinfo": "text",
         "marker": {
          "color": "rgb(35,205,205)"
         },
         "mode": "lines",
         "type": "scatter",
         "x": [
          0,
          0.9570643572014628,
          0.9570643572014628,
          0
         ],
         "xaxis": "x",
         "y": [
          -425,
          -425,
          -435,
          -435
         ],
         "yaxis": "y"
        },
        {
         "hoverinfo": "text",
         "marker": {
          "color": "rgb(0,116,217)"
         },
         "mode": "lines",
         "type": "scatter",
         "x": [
          0.9758748515746302,
          1.038353204604175,
          1.038353204604175,
          0.9570643572014628
         ],
         "xaxis": "x",
         "y": [
          -407.5,
          -407.5,
          -430,
          -430
         ],
         "yaxis": "y"
        },
        {
         "hoverinfo": "text",
         "marker": {
          "color": "rgb(0,116,217)"
         },
         "mode": "lines",
         "type": "scatter",
         "x": [
          1.0320194822381288,
          1.04775176595674,
          1.04775176595674,
          1.038353204604175
         ],
         "xaxis": "x",
         "y": [
          -236.85546875,
          -236.85546875,
          -418.75,
          -418.75
         ],
         "yaxis": "y"
        },
        {
         "hoverinfo": "text",
         "marker": {
          "color": "rgb(133,20,75)"
         },
         "mode": "lines",
         "type": "scatter",
         "x": [
          0,
          0.9584407964242154,
          0.9584407964242154,
          0
         ],
         "xaxis": "x",
         "y": [
          -445,
          -445,
          -455,
          -455
         ],
         "yaxis": "y"
        },
        {
         "hoverinfo": "text",
         "marker": {
          "color": "rgb(133,20,75)"
         },
         "mode": "lines",
         "type": "scatter",
         "x": [
          0.9584407964242154,
          0.9722500694634579,
          0.9722500694634579,
          0
         ],
         "xaxis": "x",
         "y": [
          -450,
          -450,
          -465,
          -465
         ],
         "yaxis": "y"
        },
        {
         "hoverinfo": "text",
         "marker": {
          "color": "rgb(0,116,217)"
         },
         "mode": "lines",
         "type": "scatter",
         "x": [
          1.04775176595674,
          1.058514648662782,
          1.058514648662782,
          0.9722500694634579
         ],
         "xaxis": "x",
         "y": [
          -327.802734375,
          -327.802734375,
          -457.5,
          -457.5
         ],
         "yaxis": "y"
        },
        {
         "hoverinfo": "text",
         "marker": {
          "color": "rgb(0,116,217)"
         },
         "mode": "lines",
         "type": "scatter",
         "x": [
          0.993195799919171,
          1.086399087170946,
          1.086399087170946,
          1.058514648662782
         ],
         "xaxis": "x",
         "y": [
          -113.75,
          -113.75,
          -392.6513671875,
          -392.6513671875
         ],
         "yaxis": "y"
        },
        {
         "hoverinfo": "text",
         "marker": {
          "color": "rgb(0,116,217)"
         },
         "mode": "lines",
         "type": "scatter",
         "x": [
          1.0069474222623767,
          1.0962209842988533,
          1.0962209842988533,
          1.086399087170946
         ],
         "xaxis": "x",
         "y": [
          -76.25,
          -76.25,
          -253.20068359375,
          -253.20068359375
         ],
         "yaxis": "y"
        },
        {
         "hoverinfo": "text",
         "marker": {
          "color": "rgb(255,220,0)"
         },
         "mode": "lines",
         "type": "scatter",
         "x": [
          0,
          0.8612223707448098,
          0.8612223707448098,
          0
         ],
         "xaxis": "x",
         "y": [
          -475,
          -475,
          -485,
          -485
         ],
         "yaxis": "y"
        },
        {
         "hoverinfo": "text",
         "marker": {
          "color": "rgb(255,220,0)"
         },
         "mode": "lines",
         "type": "scatter",
         "x": [
          0.8612223707448098,
          0.9925494818379043,
          0.9925494818379043,
          0
         ],
         "xaxis": "x",
         "y": [
          -480,
          -480,
          -495,
          -495
         ],
         "yaxis": "y"
        },
        {
         "hoverinfo": "text",
         "marker": {
          "color": "rgb(0,116,217)"
         },
         "mode": "lines",
         "type": "scatter",
         "x": [
          1.0962209842988533,
          1.1240236656141618,
          1.1240236656141618,
          0.9925494818379043
         ],
         "xaxis": "x",
         "y": [
          -164.725341796875,
          -164.725341796875,
          -487.5,
          -487.5
         ],
         "yaxis": "y"
        },
        {
         "hoverinfo": "text",
         "marker": {
          "color": "rgb(0,116,217)"
         },
         "mode": "lines",
         "type": "scatter",
         "x": [
          1.035913581961902,
          1.1289038081916964,
          1.1289038081916964,
          1.1240236656141618
         ],
         "xaxis": "x",
         "y": [
          -21.25,
          -21.25,
          -326.1126708984375,
          -326.1126708984375
         ],
         "yaxis": "y"
        }
       ],
       "layout": {
        "autosize": false,
        "height": 950,
        "hoverlabel": {
         "bgcolor": "white",
         "font": {
          "family": "Rockwell",
          "size": 16
         }
        },
        "hovermode": "closest",
        "plot_bgcolor": "#ECEFF1",
        "showlegend": false,
        "template": {
         "data": {
          "bar": [
           {
            "error_x": {
             "color": "#2a3f5f"
            },
            "error_y": {
             "color": "#2a3f5f"
            },
            "marker": {
             "line": {
              "color": "white",
              "width": 0.5
             },
             "pattern": {
              "fillmode": "overlay",
              "size": 10,
              "solidity": 0.2
             }
            },
            "type": "bar"
           }
          ],
          "barpolar": [
           {
            "marker": {
             "line": {
              "color": "white",
              "width": 0.5
             },
             "pattern": {
              "fillmode": "overlay",
              "size": 10,
              "solidity": 0.2
             }
            },
            "type": "barpolar"
           }
          ],
          "carpet": [
           {
            "aaxis": {
             "endlinecolor": "#2a3f5f",
             "gridcolor": "#C8D4E3",
             "linecolor": "#C8D4E3",
             "minorgridcolor": "#C8D4E3",
             "startlinecolor": "#2a3f5f"
            },
            "baxis": {
             "endlinecolor": "#2a3f5f",
             "gridcolor": "#C8D4E3",
             "linecolor": "#C8D4E3",
             "minorgridcolor": "#C8D4E3",
             "startlinecolor": "#2a3f5f"
            },
            "type": "carpet"
           }
          ],
          "choropleth": [
           {
            "colorbar": {
             "outlinewidth": 0,
             "ticks": ""
            },
            "type": "choropleth"
           }
          ],
          "contour": [
           {
            "colorbar": {
             "outlinewidth": 0,
             "ticks": ""
            },
            "colorscale": [
             [
              0,
              "#0d0887"
             ],
             [
              0.1111111111111111,
              "#46039f"
             ],
             [
              0.2222222222222222,
              "#7201a8"
             ],
             [
              0.3333333333333333,
              "#9c179e"
             ],
             [
              0.4444444444444444,
              "#bd3786"
             ],
             [
              0.5555555555555556,
              "#d8576b"
             ],
             [
              0.6666666666666666,
              "#ed7953"
             ],
             [
              0.7777777777777778,
              "#fb9f3a"
             ],
             [
              0.8888888888888888,
              "#fdca26"
             ],
             [
              1,
              "#f0f921"
             ]
            ],
            "type": "contour"
           }
          ],
          "contourcarpet": [
           {
            "colorbar": {
             "outlinewidth": 0,
             "ticks": ""
            },
            "type": "contourcarpet"
           }
          ],
          "heatmap": [
           {
            "colorbar": {
             "outlinewidth": 0,
             "ticks": ""
            },
            "colorscale": [
             [
              0,
              "#0d0887"
             ],
             [
              0.1111111111111111,
              "#46039f"
             ],
             [
              0.2222222222222222,
              "#7201a8"
             ],
             [
              0.3333333333333333,
              "#9c179e"
             ],
             [
              0.4444444444444444,
              "#bd3786"
             ],
             [
              0.5555555555555556,
              "#d8576b"
             ],
             [
              0.6666666666666666,
              "#ed7953"
             ],
             [
              0.7777777777777778,
              "#fb9f3a"
             ],
             [
              0.8888888888888888,
              "#fdca26"
             ],
             [
              1,
              "#f0f921"
             ]
            ],
            "type": "heatmap"
           }
          ],
          "heatmapgl": [
           {
            "colorbar": {
             "outlinewidth": 0,
             "ticks": ""
            },
            "colorscale": [
             [
              0,
              "#0d0887"
             ],
             [
              0.1111111111111111,
              "#46039f"
             ],
             [
              0.2222222222222222,
              "#7201a8"
             ],
             [
              0.3333333333333333,
              "#9c179e"
             ],
             [
              0.4444444444444444,
              "#bd3786"
             ],
             [
              0.5555555555555556,
              "#d8576b"
             ],
             [
              0.6666666666666666,
              "#ed7953"
             ],
             [
              0.7777777777777778,
              "#fb9f3a"
             ],
             [
              0.8888888888888888,
              "#fdca26"
             ],
             [
              1,
              "#f0f921"
             ]
            ],
            "type": "heatmapgl"
           }
          ],
          "histogram": [
           {
            "marker": {
             "pattern": {
              "fillmode": "overlay",
              "size": 10,
              "solidity": 0.2
             }
            },
            "type": "histogram"
           }
          ],
          "histogram2d": [
           {
            "colorbar": {
             "outlinewidth": 0,
             "ticks": ""
            },
            "colorscale": [
             [
              0,
              "#0d0887"
             ],
             [
              0.1111111111111111,
              "#46039f"
             ],
             [
              0.2222222222222222,
              "#7201a8"
             ],
             [
              0.3333333333333333,
              "#9c179e"
             ],
             [
              0.4444444444444444,
              "#bd3786"
             ],
             [
              0.5555555555555556,
              "#d8576b"
             ],
             [
              0.6666666666666666,
              "#ed7953"
             ],
             [
              0.7777777777777778,
              "#fb9f3a"
             ],
             [
              0.8888888888888888,
              "#fdca26"
             ],
             [
              1,
              "#f0f921"
             ]
            ],
            "type": "histogram2d"
           }
          ],
          "histogram2dcontour": [
           {
            "colorbar": {
             "outlinewidth": 0,
             "ticks": ""
            },
            "colorscale": [
             [
              0,
              "#0d0887"
             ],
             [
              0.1111111111111111,
              "#46039f"
             ],
             [
              0.2222222222222222,
              "#7201a8"
             ],
             [
              0.3333333333333333,
              "#9c179e"
             ],
             [
              0.4444444444444444,
              "#bd3786"
             ],
             [
              0.5555555555555556,
              "#d8576b"
             ],
             [
              0.6666666666666666,
              "#ed7953"
             ],
             [
              0.7777777777777778,
              "#fb9f3a"
             ],
             [
              0.8888888888888888,
              "#fdca26"
             ],
             [
              1,
              "#f0f921"
             ]
            ],
            "type": "histogram2dcontour"
           }
          ],
          "mesh3d": [
           {
            "colorbar": {
             "outlinewidth": 0,
             "ticks": ""
            },
            "type": "mesh3d"
           }
          ],
          "parcoords": [
           {
            "line": {
             "colorbar": {
              "outlinewidth": 0,
              "ticks": ""
             }
            },
            "type": "parcoords"
           }
          ],
          "pie": [
           {
            "automargin": true,
            "type": "pie"
           }
          ],
          "scatter": [
           {
            "fillpattern": {
             "fillmode": "overlay",
             "size": 10,
             "solidity": 0.2
            },
            "type": "scatter"
           }
          ],
          "scatter3d": [
           {
            "line": {
             "colorbar": {
              "outlinewidth": 0,
              "ticks": ""
             }
            },
            "marker": {
             "colorbar": {
              "outlinewidth": 0,
              "ticks": ""
             }
            },
            "type": "scatter3d"
           }
          ],
          "scattercarpet": [
           {
            "marker": {
             "colorbar": {
              "outlinewidth": 0,
              "ticks": ""
             }
            },
            "type": "scattercarpet"
           }
          ],
          "scattergeo": [
           {
            "marker": {
             "colorbar": {
              "outlinewidth": 0,
              "ticks": ""
             }
            },
            "type": "scattergeo"
           }
          ],
          "scattergl": [
           {
            "marker": {
             "colorbar": {
              "outlinewidth": 0,
              "ticks": ""
             }
            },
            "type": "scattergl"
           }
          ],
          "scattermapbox": [
           {
            "marker": {
             "colorbar": {
              "outlinewidth": 0,
              "ticks": ""
             }
            },
            "type": "scattermapbox"
           }
          ],
          "scatterpolar": [
           {
            "marker": {
             "colorbar": {
              "outlinewidth": 0,
              "ticks": ""
             }
            },
            "type": "scatterpolar"
           }
          ],
          "scatterpolargl": [
           {
            "marker": {
             "colorbar": {
              "outlinewidth": 0,
              "ticks": ""
             }
            },
            "type": "scatterpolargl"
           }
          ],
          "scatterternary": [
           {
            "marker": {
             "colorbar": {
              "outlinewidth": 0,
              "ticks": ""
             }
            },
            "type": "scatterternary"
           }
          ],
          "surface": [
           {
            "colorbar": {
             "outlinewidth": 0,
             "ticks": ""
            },
            "colorscale": [
             [
              0,
              "#0d0887"
             ],
             [
              0.1111111111111111,
              "#46039f"
             ],
             [
              0.2222222222222222,
              "#7201a8"
             ],
             [
              0.3333333333333333,
              "#9c179e"
             ],
             [
              0.4444444444444444,
              "#bd3786"
             ],
             [
              0.5555555555555556,
              "#d8576b"
             ],
             [
              0.6666666666666666,
              "#ed7953"
             ],
             [
              0.7777777777777778,
              "#fb9f3a"
             ],
             [
              0.8888888888888888,
              "#fdca26"
             ],
             [
              1,
              "#f0f921"
             ]
            ],
            "type": "surface"
           }
          ],
          "table": [
           {
            "cells": {
             "fill": {
              "color": "#EBF0F8"
             },
             "line": {
              "color": "white"
             }
            },
            "header": {
             "fill": {
              "color": "#C8D4E3"
             },
             "line": {
              "color": "white"
             }
            },
            "type": "table"
           }
          ]
         },
         "layout": {
          "annotationdefaults": {
           "arrowcolor": "#2a3f5f",
           "arrowhead": 0,
           "arrowwidth": 1
          },
          "autotypenumbers": "strict",
          "coloraxis": {
           "colorbar": {
            "outlinewidth": 0,
            "ticks": ""
           }
          },
          "colorscale": {
           "diverging": [
            [
             0,
             "#8e0152"
            ],
            [
             0.1,
             "#c51b7d"
            ],
            [
             0.2,
             "#de77ae"
            ],
            [
             0.3,
             "#f1b6da"
            ],
            [
             0.4,
             "#fde0ef"
            ],
            [
             0.5,
             "#f7f7f7"
            ],
            [
             0.6,
             "#e6f5d0"
            ],
            [
             0.7,
             "#b8e186"
            ],
            [
             0.8,
             "#7fbc41"
            ],
            [
             0.9,
             "#4d9221"
            ],
            [
             1,
             "#276419"
            ]
           ],
           "sequential": [
            [
             0,
             "#0d0887"
            ],
            [
             0.1111111111111111,
             "#46039f"
            ],
            [
             0.2222222222222222,
             "#7201a8"
            ],
            [
             0.3333333333333333,
             "#9c179e"
            ],
            [
             0.4444444444444444,
             "#bd3786"
            ],
            [
             0.5555555555555556,
             "#d8576b"
            ],
            [
             0.6666666666666666,
             "#ed7953"
            ],
            [
             0.7777777777777778,
             "#fb9f3a"
            ],
            [
             0.8888888888888888,
             "#fdca26"
            ],
            [
             1,
             "#f0f921"
            ]
           ],
           "sequentialminus": [
            [
             0,
             "#0d0887"
            ],
            [
             0.1111111111111111,
             "#46039f"
            ],
            [
             0.2222222222222222,
             "#7201a8"
            ],
            [
             0.3333333333333333,
             "#9c179e"
            ],
            [
             0.4444444444444444,
             "#bd3786"
            ],
            [
             0.5555555555555556,
             "#d8576b"
            ],
            [
             0.6666666666666666,
             "#ed7953"
            ],
            [
             0.7777777777777778,
             "#fb9f3a"
            ],
            [
             0.8888888888888888,
             "#fdca26"
            ],
            [
             1,
             "#f0f921"
            ]
           ]
          },
          "colorway": [
           "#636efa",
           "#EF553B",
           "#00cc96",
           "#ab63fa",
           "#FFA15A",
           "#19d3f3",
           "#FF6692",
           "#B6E880",
           "#FF97FF",
           "#FECB52"
          ],
          "font": {
           "color": "#2a3f5f"
          },
          "geo": {
           "bgcolor": "white",
           "lakecolor": "white",
           "landcolor": "white",
           "showlakes": true,
           "showland": true,
           "subunitcolor": "#C8D4E3"
          },
          "hoverlabel": {
           "align": "left"
          },
          "hovermode": "closest",
          "mapbox": {
           "style": "light"
          },
          "paper_bgcolor": "white",
          "plot_bgcolor": "white",
          "polar": {
           "angularaxis": {
            "gridcolor": "#EBF0F8",
            "linecolor": "#EBF0F8",
            "ticks": ""
           },
           "bgcolor": "white",
           "radialaxis": {
            "gridcolor": "#EBF0F8",
            "linecolor": "#EBF0F8",
            "ticks": ""
           }
          },
          "scene": {
           "xaxis": {
            "backgroundcolor": "white",
            "gridcolor": "#DFE8F3",
            "gridwidth": 2,
            "linecolor": "#EBF0F8",
            "showbackground": true,
            "ticks": "",
            "zerolinecolor": "#EBF0F8"
           },
           "yaxis": {
            "backgroundcolor": "white",
            "gridcolor": "#DFE8F3",
            "gridwidth": 2,
            "linecolor": "#EBF0F8",
            "showbackground": true,
            "ticks": "",
            "zerolinecolor": "#EBF0F8"
           },
           "zaxis": {
            "backgroundcolor": "white",
            "gridcolor": "#DFE8F3",
            "gridwidth": 2,
            "linecolor": "#EBF0F8",
            "showbackground": true,
            "ticks": "",
            "zerolinecolor": "#EBF0F8"
           }
          },
          "shapedefaults": {
           "line": {
            "color": "#2a3f5f"
           }
          },
          "ternary": {
           "aaxis": {
            "gridcolor": "#DFE8F3",
            "linecolor": "#A2B1C6",
            "ticks": ""
           },
           "baxis": {
            "gridcolor": "#DFE8F3",
            "linecolor": "#A2B1C6",
            "ticks": ""
           },
           "bgcolor": "white",
           "caxis": {
            "gridcolor": "#DFE8F3",
            "linecolor": "#A2B1C6",
            "ticks": ""
           }
          },
          "title": {
           "x": 0.05
          },
          "xaxis": {
           "automargin": true,
           "gridcolor": "#EBF0F8",
           "linecolor": "#EBF0F8",
           "ticks": "",
           "title": {
            "standoff": 15
           },
           "zerolinecolor": "#EBF0F8",
           "zerolinewidth": 2
          },
          "yaxis": {
           "automargin": true,
           "gridcolor": "#EBF0F8",
           "linecolor": "#EBF0F8",
           "ticks": "",
           "title": {
            "standoff": 15
           },
           "zerolinecolor": "#EBF0F8",
           "zerolinewidth": 2
          }
         }
        },
        "title": {
         "font": {
          "color": "Black",
          "size": 22
         },
         "text": "<b>Hierarchical Clustering</b>",
         "x": 0.5,
         "xanchor": "center",
         "yanchor": "top"
        },
        "width": 1000,
        "xaxis": {
         "mirror": "allticks",
         "rangemode": "tozero",
         "showgrid": false,
         "showline": true,
         "showticklabels": true,
         "ticks": "outside",
         "type": "linear",
         "zeroline": false
        },
        "yaxis": {
         "mirror": "allticks",
         "range": [
          -500,
          0
         ],
         "rangemode": "tozero",
         "showgrid": false,
         "showline": true,
         "showticklabels": true,
         "tickmode": "array",
         "ticks": "outside",
         "ticktext": [
          "15_弱いai_人工知能_強いai",
          "11_相関_ai_負の相関",
          "22_エッジ抽出_エッジ_文字",
          "39_画像について_相関について_相関",
          "28_回帰_相関_時系列",
          "13_ディジタル信号処理の概要_量子化_符号化",
          "33_標本化について_標本化_標本化定理",
          "44_標本化定理について学習した_また標本化定理の意味...",
          "12_nt_離散時間信号z変換_離散時間信号とz変換",
          "27_2fm_連続信号の標本化の精度に関わる標本化定理...",
          "14_非周期信号のフーリエ変換_非周期信号とフーリエ変...",
          "47_非周期関数まで含めた一般的なフーリエ変換とその性...",
          "20_離散フーリエ変換_フーリエ変換_離散フーリエ変換...",
          "5_離散時間フーリエ変換と離散フーリエ変換_離散時間シ...",
          "30_フーリエ級数表現_sincos_周期的な信号はフ...",
          "19_フーリエ級数からフーリエ変換への拡張_フーリエ級...",
          "29_フーリエ級数について学んだ_これからの授業で何を...",
          "16_高速フーリエ変換_高速フーリエ変換について_高速...",
          "1_バイ_完全性_暗号について",
          "3_符号語同士がs_2k_ハミング距離",
          "9_z変換について_z変換の性質逆z変換_z変換の性質...",
          "42_授業のガイダンス_ictの進んだ現代において増加...",
          "40_逆z変換_逆z変換について_逆z変換を解く",
          "24_改竄_捏造_研究における中立や客観性研究不正とな...",
          "18_著作権について_財産権_著作権",
          "17_期末テスト_確認テスト_テスト",
          "32_離散フーリエ変換の性質について学んだ_離散フーリ...",
          "37_可視化の種類_可視化について_可視化とその手法",
          "38_研究倫理情報倫理について_研究における不正や情報...",
          "41_ディジタルフィルタの概要を学んだ_ディジタルフィ...",
          "46_周波数特性は振幅と位相の2種類を2種類を表す因果...",
          "26_授業の進め方の説明_授業が終わったらその回の日誌...",
          "10_知識マップの作成_知識マップの作製_知識マップ作成",
          "21_brーmapを用いて振り返りを行った_第七回の大...",
          "6_情報_情報科学_文章",
          "2_計算_アルゴリズム_コンピュータ",
          "0_コモンズ_nlogn_距離",
          "7_パターン認識_ベクトル_画像処理",
          "25_ガイダンス_ソートの大まかな概要_オリエンテーション",
          "8_log2_xy_曖昧さ",
          "4_情報源符号化_情報源_エントロピー",
          "36_を次で定める_2進数を使って情報源を符号化する際...",
          "43_線形不変システムにインパルス関数を加えたものがイ...",
          "35_インパルス応答_差分方程式_インパルス応答伝達関...",
          "23_マージソートと二分探索法について_二分探索法_今...",
          "45_ヒープソートとマージソートについて_ソートまとめ...",
          "49_マージソートと2分探索法_ヒープソートアルゴリズ...",
          "48_ディジタルフィルタについて_ディジタルフィルタ_...",
          "34_ディジタルフィルタの設計_ディジタルフィルタ設計...",
          "31_firの設計には窓関数が用いられる手順は次のとお..."
         ],
         "tickvals": [
          -5,
          -15,
          -25,
          -35,
          -45,
          -55,
          -65,
          -75,
          -85,
          -95,
          -105,
          -115,
          -125,
          -135,
          -145,
          -155,
          -165,
          -175,
          -185,
          -195,
          -205,
          -215,
          -225,
          -235,
          -245,
          -255,
          -265,
          -275,
          -285,
          -295,
          -305,
          -315,
          -325,
          -335,
          -345,
          -355,
          -365,
          -375,
          -385,
          -395,
          -405,
          -415,
          -425,
          -435,
          -445,
          -455,
          -465,
          -475,
          -485,
          -495
         ],
         "type": "linear",
         "zeroline": false
        }
       }
      },
      "text/html": [
       "<div>                            <div id=\"75753f4e-caa5-4841-bf2e-421840355ba1\" class=\"plotly-graph-div\" style=\"height:950px; width:1000px;\"></div>            <script type=\"text/javascript\">                require([\"plotly\"], function(Plotly) {                    window.PLOTLYENV=window.PLOTLYENV || {};                                    if (document.getElementById(\"75753f4e-caa5-4841-bf2e-421840355ba1\")) {                    Plotly.newPlot(                        \"75753f4e-caa5-4841-bf2e-421840355ba1\",                        [{\"hoverinfo\":\"text\",\"marker\":{\"color\":\"rgb(61,153,112)\"},\"mode\":\"lines\",\"x\":[0.0,0.9042245986189195,0.9042245986189195,0.0],\"xaxis\":\"x\",\"y\":[-5.0,-5.0,-15.0,-15.0],\"yaxis\":\"y\",\"type\":\"scatter\"},{\"hoverinfo\":\"text\",\"marker\":{\"color\":\"rgb(255,65,54)\"},\"mode\":\"lines\",\"x\":[0.0,0.9083884715182052,0.9083884715182052,0.0],\"xaxis\":\"x\",\"y\":[-35.0,-35.0,-45.0,-45.0],\"yaxis\":\"y\",\"type\":\"scatter\"},{\"hoverinfo\":\"text\",\"marker\":{\"color\":\"rgb(255,65,54)\"},\"mode\":\"lines\",\"x\":[0.0,0.9888513286370496,0.9888513286370496,0.9083884715182052],\"xaxis\":\"x\",\"y\":[-25.0,-25.0,-40.0,-40.0],\"yaxis\":\"y\",\"type\":\"scatter\"},{\"hoverinfo\":\"text\",\"marker\":{\"color\":\"rgb(0,116,217)\"},\"mode\":\"lines\",\"x\":[0.9042245986189195,1.035913581961902,1.035913581961902,0.9888513286370496],\"xaxis\":\"x\",\"y\":[-10.0,-10.0,-32.5,-32.5],\"yaxis\":\"y\",\"type\":\"scatter\"},{\"hoverinfo\":\"text\",\"marker\":{\"color\":\"rgb(35,205,205)\"},\"mode\":\"lines\",\"x\":[0.0,0.9141324270941049,0.9141324270941049,0.0],\"xaxis\":\"x\",\"y\":[-65.0,-65.0,-75.0,-75.0],\"yaxis\":\"y\",\"type\":\"scatter\"},{\"hoverinfo\":\"text\",\"marker\":{\"color\":\"rgb(35,205,205)\"},\"mode\":\"lines\",\"x\":[0.0,0.9744746843444926,0.9744746843444926,0.9141324270941049],\"xaxis\":\"x\",\"y\":[-55.0,-55.0,-70.0,-70.0],\"yaxis\":\"y\",\"type\":\"scatter\"},{\"hoverinfo\":\"text\",\"marker\":{\"color\":\"rgb(133,20,75)\"},\"mode\":\"lines\",\"x\":[0.0,0.9859325360637271,0.9859325360637271,0.0],\"xaxis\":\"x\",\"y\":[-85.0,-85.0,-95.0,-95.0],\"yaxis\":\"y\",\"type\":\"scatter\"},{\"hoverinfo\":\"text\",\"marker\":{\"color\":\"rgb(0,116,217)\"},\"mode\":\"lines\",\"x\":[0.9744746843444926,1.0069474222623767,1.0069474222623767,0.9859325360637271],\"xaxis\":\"x\",\"y\":[-62.5,-62.5,-90.0,-90.0],\"yaxis\":\"y\",\"type\":\"scatter\"},{\"hoverinfo\":\"text\",\"marker\":{\"color\":\"rgb(255,220,0)\"},\"mode\":\"lines\",\"x\":[0.0,0.9207386543367386,0.9207386543367386,0.0],\"xaxis\":\"x\",\"y\":[-125.0,-125.0,-135.0,-135.0],\"yaxis\":\"y\",\"type\":\"scatter\"},{\"hoverinfo\":\"text\",\"marker\":{\"color\":\"rgb(255,220,0)\"},\"mode\":\"lines\",\"x\":[0.0,0.9825182266352244,0.9825182266352244,0.9207386543367386],\"xaxis\":\"x\",\"y\":[-115.0,-115.0,-130.0,-130.0],\"yaxis\":\"y\",\"type\":\"scatter\"},{\"hoverinfo\":\"text\",\"marker\":{\"color\":\"rgb(255,220,0)\"},\"mode\":\"lines\",\"x\":[0.0,0.993195799919171,0.993195799919171,0.9825182266352244],\"xaxis\":\"x\",\"y\":[-105.0,-105.0,-122.5,-122.5],\"yaxis\":\"y\",\"type\":\"scatter\"},{\"hoverinfo\":\"text\",\"marker\":{\"color\":\"rgb(40,35,35)\"},\"mode\":\"lines\",\"x\":[0.0,0.9695111256183327,0.9695111256183327,0.0],\"xaxis\":\"x\",\"y\":[-155.0,-155.0,-165.0,-165.0],\"yaxis\":\"y\",\"type\":\"scatter\"},{\"hoverinfo\":\"text\",\"marker\":{\"color\":\"rgb(40,35,35)\"},\"mode\":\"lines\",\"x\":[0.0,0.9926182544033983,0.9926182544033983,0.9695111256183327],\"xaxis\":\"x\",\"y\":[-145.0,-145.0,-160.0,-160.0],\"yaxis\":\"y\",\"type\":\"scatter\"},{\"hoverinfo\":\"text\",\"marker\":{\"color\":\"rgb(0,116,217)\"},\"mode\":\"lines\",\"x\":[0.0,1.0,1.0,0.0],\"xaxis\":\"x\",\"y\":[-185.0,-185.0,-195.0,-195.0],\"yaxis\":\"y\",\"type\":\"scatter\"},{\"hoverinfo\":\"text\",\"marker\":{\"color\":\"rgb(0,116,217)\"},\"mode\":\"lines\",\"x\":[1.0,1.0,1.0,0.0],\"xaxis\":\"x\",\"y\":[-190.0,-190.0,-205.0,-205.0],\"yaxis\":\"y\",\"type\":\"scatter\"},{\"hoverinfo\":\"text\",\"marker\":{\"color\":\"rgb(0,116,217)\"},\"mode\":\"lines\",\"x\":[0.0,1.0,1.0,1.0],\"xaxis\":\"x\",\"y\":[-175.0,-175.0,-197.5,-197.5],\"yaxis\":\"y\",\"type\":\"scatter\"},{\"hoverinfo\":\"text\",\"marker\":{\"color\":\"rgb(61,153,112)\"},\"mode\":\"lines\",\"x\":[0.0,0.9999999999999999,0.9999999999999999,0.0],\"xaxis\":\"x\",\"y\":[-245.0,-245.0,-255.0,-255.0],\"yaxis\":\"y\",\"type\":\"scatter\"},{\"hoverinfo\":\"text\",\"marker\":{\"color\":\"rgb(61,153,112)\"},\"mode\":\"lines\",\"x\":[0.0,0.9999999999999999,0.9999999999999999,0.9999999999999999],\"xaxis\":\"x\",\"y\":[-235.0,-235.0,-250.0,-250.0],\"yaxis\":\"y\",\"type\":\"scatter\"},{\"hoverinfo\":\"text\",\"marker\":{\"color\":\"rgb(61,153,112)\"},\"mode\":\"lines\",\"x\":[0.0,0.9999999999999998,0.9999999999999998,0.0],\"xaxis\":\"x\",\"y\":[-265.0,-265.0,-275.0,-275.0],\"yaxis\":\"y\",\"type\":\"scatter\"},{\"hoverinfo\":\"text\",\"marker\":{\"color\":\"rgb(61,153,112)\"},\"mode\":\"lines\",\"x\":[0.9999999999999998,0.9999999999999998,0.9999999999999998,0.0],\"xaxis\":\"x\",\"y\":[-270.0,-270.0,-285.0,-285.0],\"yaxis\":\"y\",\"type\":\"scatter\"},{\"hoverinfo\":\"text\",\"marker\":{\"color\":\"rgb(61,153,112)\"},\"mode\":\"lines\",\"x\":[0.9999999999999999,0.9999999999999999,0.9999999999999999,0.9999999999999998],\"xaxis\":\"x\",\"y\":[-242.5,-242.5,-277.5,-277.5],\"yaxis\":\"y\",\"type\":\"scatter\"},{\"hoverinfo\":\"text\",\"marker\":{\"color\":\"rgb(61,153,112)\"},\"mode\":\"lines\",\"x\":[0.0,0.9999999999999999,0.9999999999999999,0.9999999999999999],\"xaxis\":\"x\",\"y\":[-225.0,-225.0,-260.0,-260.0],\"yaxis\":\"y\",\"type\":\"scatter\"},{\"hoverinfo\":\"text\",\"marker\":{\"color\":\"rgb(61,153,112)\"},\"mode\":\"lines\",\"x\":[0.9999999999999999,0.9999999999999999,0.9999999999999999,0.0],\"xaxis\":\"x\",\"y\":[-242.5,-242.5,-295.0,-295.0],\"yaxis\":\"y\",\"type\":\"scatter\"},{\"hoverinfo\":\"text\",\"marker\":{\"color\":\"rgb(61,153,112)\"},\"mode\":\"lines\",\"x\":[0.0,0.9999999999999999,0.9999999999999999,0.9999999999999999],\"xaxis\":\"x\",\"y\":[-215.0,-215.0,-268.75,-268.75],\"yaxis\":\"y\",\"type\":\"scatter\"},{\"hoverinfo\":\"text\",\"marker\":{\"color\":\"rgb(61,153,112)\"},\"mode\":\"lines\",\"x\":[0.9999999999999999,0.9999999999999999,0.9999999999999999,0.0],\"xaxis\":\"x\",\"y\":[-241.875,-241.875,-305.0,-305.0],\"yaxis\":\"y\",\"type\":\"scatter\"},{\"hoverinfo\":\"text\",\"marker\":{\"color\":\"rgb(0,116,217)\"},\"mode\":\"lines\",\"x\":[1.0,1.0,1.0,0.9999999999999999],\"xaxis\":\"x\",\"y\":[-186.25,-186.25,-273.4375,-273.4375],\"yaxis\":\"y\",\"type\":\"scatter\"},{\"hoverinfo\":\"text\",\"marker\":{\"color\":\"rgb(255,65,54)\"},\"mode\":\"lines\",\"x\":[0.0,0.990225174767954,0.990225174767954,0.0],\"xaxis\":\"x\",\"y\":[-315.0,-315.0,-325.0,-325.0],\"yaxis\":\"y\",\"type\":\"scatter\"},{\"hoverinfo\":\"text\",\"marker\":{\"color\":\"rgb(255,65,54)\"},\"mode\":\"lines\",\"x\":[0.990225174767954,0.9979687414036341,0.9979687414036341,0.0],\"xaxis\":\"x\",\"y\":[-320.0,-320.0,-335.0,-335.0],\"yaxis\":\"y\",\"type\":\"scatter\"},{\"hoverinfo\":\"text\",\"marker\":{\"color\":\"rgb(0,116,217)\"},\"mode\":\"lines\",\"x\":[1.0,1.0089518130011133,1.0089518130011133,0.9979687414036341],\"xaxis\":\"x\",\"y\":[-229.84375,-229.84375,-327.5,-327.5],\"yaxis\":\"y\",\"type\":\"scatter\"},{\"hoverinfo\":\"text\",\"marker\":{\"color\":\"rgb(35,205,205)\"},\"mode\":\"lines\",\"x\":[0.0,0.9700656894010342,0.9700656894010342,0.0],\"xaxis\":\"x\",\"y\":[-345.0,-345.0,-355.0,-355.0],\"yaxis\":\"y\",\"type\":\"scatter\"},{\"hoverinfo\":\"text\",\"marker\":{\"color\":\"rgb(61,153,112)\"},\"mode\":\"lines\",\"x\":[0.0,0.9822601767528573,0.9822601767528573,0.0],\"xaxis\":\"x\",\"y\":[-365.0,-365.0,-375.0,-375.0],\"yaxis\":\"y\",\"type\":\"scatter\"},{\"hoverinfo\":\"text\",\"marker\":{\"color\":\"rgb(61,153,112)\"},\"mode\":\"lines\",\"x\":[0.9822601767528573,0.9950512805897549,0.9950512805897549,0.0],\"xaxis\":\"x\",\"y\":[-370.0,-370.0,-385.0,-385.0],\"yaxis\":\"y\",\"type\":\"scatter\"},{\"hoverinfo\":\"text\",\"marker\":{\"color\":\"rgb(0,116,217)\"},\"mode\":\"lines\",\"x\":[0.9700656894010342,1.016332222832804,1.016332222832804,0.9950512805897549],\"xaxis\":\"x\",\"y\":[-350.0,-350.0,-377.5,-377.5],\"yaxis\":\"y\",\"type\":\"scatter\"},{\"hoverinfo\":\"text\",\"marker\":{\"color\":\"rgb(0,116,217)\"},\"mode\":\"lines\",\"x\":[1.0089518130011133,1.0239775643807854,1.0239775643807854,1.016332222832804],\"xaxis\":\"x\",\"y\":[-278.671875,-278.671875,-363.75,-363.75],\"yaxis\":\"y\",\"type\":\"scatter\"},{\"hoverinfo\":\"text\",\"marker\":{\"color\":\"rgb(0,116,217)\"},\"mode\":\"lines\",\"x\":[0.9926182544033983,1.0320194822381288,1.0320194822381288,1.0239775643807854],\"xaxis\":\"x\",\"y\":[-152.5,-152.5,-321.2109375,-321.2109375],\"yaxis\":\"y\",\"type\":\"scatter\"},{\"hoverinfo\":\"text\",\"marker\":{\"color\":\"rgb(255,65,54)\"},\"mode\":\"lines\",\"x\":[0.0,0.963830510459467,0.963830510459467,0.0],\"xaxis\":\"x\",\"y\":[-395.0,-395.0,-405.0,-405.0],\"yaxis\":\"y\",\"type\":\"scatter\"},{\"hoverinfo\":\"text\",\"marker\":{\"color\":\"rgb(255,65,54)\"},\"mode\":\"lines\",\"x\":[0.963830510459467,0.9758748515746302,0.9758748515746302,0.0],\"xaxis\":\"x\",\"y\":[-400.0,-400.0,-415.0,-415.0],\"yaxis\":\"y\",\"type\":\"scatter\"},{\"hoverinfo\":\"text\",\"marker\":{\"color\":\"rgb(35,205,205)\"},\"mode\":\"lines\",\"x\":[0.0,0.9570643572014628,0.9570643572014628,0.0],\"xaxis\":\"x\",\"y\":[-425.0,-425.0,-435.0,-435.0],\"yaxis\":\"y\",\"type\":\"scatter\"},{\"hoverinfo\":\"text\",\"marker\":{\"color\":\"rgb(0,116,217)\"},\"mode\":\"lines\",\"x\":[0.9758748515746302,1.038353204604175,1.038353204604175,0.9570643572014628],\"xaxis\":\"x\",\"y\":[-407.5,-407.5,-430.0,-430.0],\"yaxis\":\"y\",\"type\":\"scatter\"},{\"hoverinfo\":\"text\",\"marker\":{\"color\":\"rgb(0,116,217)\"},\"mode\":\"lines\",\"x\":[1.0320194822381288,1.04775176595674,1.04775176595674,1.038353204604175],\"xaxis\":\"x\",\"y\":[-236.85546875,-236.85546875,-418.75,-418.75],\"yaxis\":\"y\",\"type\":\"scatter\"},{\"hoverinfo\":\"text\",\"marker\":{\"color\":\"rgb(133,20,75)\"},\"mode\":\"lines\",\"x\":[0.0,0.9584407964242154,0.9584407964242154,0.0],\"xaxis\":\"x\",\"y\":[-445.0,-445.0,-455.0,-455.0],\"yaxis\":\"y\",\"type\":\"scatter\"},{\"hoverinfo\":\"text\",\"marker\":{\"color\":\"rgb(133,20,75)\"},\"mode\":\"lines\",\"x\":[0.9584407964242154,0.9722500694634579,0.9722500694634579,0.0],\"xaxis\":\"x\",\"y\":[-450.0,-450.0,-465.0,-465.0],\"yaxis\":\"y\",\"type\":\"scatter\"},{\"hoverinfo\":\"text\",\"marker\":{\"color\":\"rgb(0,116,217)\"},\"mode\":\"lines\",\"x\":[1.04775176595674,1.058514648662782,1.058514648662782,0.9722500694634579],\"xaxis\":\"x\",\"y\":[-327.802734375,-327.802734375,-457.5,-457.5],\"yaxis\":\"y\",\"type\":\"scatter\"},{\"hoverinfo\":\"text\",\"marker\":{\"color\":\"rgb(0,116,217)\"},\"mode\":\"lines\",\"x\":[0.993195799919171,1.086399087170946,1.086399087170946,1.058514648662782],\"xaxis\":\"x\",\"y\":[-113.75,-113.75,-392.6513671875,-392.6513671875],\"yaxis\":\"y\",\"type\":\"scatter\"},{\"hoverinfo\":\"text\",\"marker\":{\"color\":\"rgb(0,116,217)\"},\"mode\":\"lines\",\"x\":[1.0069474222623767,1.0962209842988533,1.0962209842988533,1.086399087170946],\"xaxis\":\"x\",\"y\":[-76.25,-76.25,-253.20068359375,-253.20068359375],\"yaxis\":\"y\",\"type\":\"scatter\"},{\"hoverinfo\":\"text\",\"marker\":{\"color\":\"rgb(255,220,0)\"},\"mode\":\"lines\",\"x\":[0.0,0.8612223707448098,0.8612223707448098,0.0],\"xaxis\":\"x\",\"y\":[-475.0,-475.0,-485.0,-485.0],\"yaxis\":\"y\",\"type\":\"scatter\"},{\"hoverinfo\":\"text\",\"marker\":{\"color\":\"rgb(255,220,0)\"},\"mode\":\"lines\",\"x\":[0.8612223707448098,0.9925494818379043,0.9925494818379043,0.0],\"xaxis\":\"x\",\"y\":[-480.0,-480.0,-495.0,-495.0],\"yaxis\":\"y\",\"type\":\"scatter\"},{\"hoverinfo\":\"text\",\"marker\":{\"color\":\"rgb(0,116,217)\"},\"mode\":\"lines\",\"x\":[1.0962209842988533,1.1240236656141618,1.1240236656141618,0.9925494818379043],\"xaxis\":\"x\",\"y\":[-164.725341796875,-164.725341796875,-487.5,-487.5],\"yaxis\":\"y\",\"type\":\"scatter\"},{\"hoverinfo\":\"text\",\"marker\":{\"color\":\"rgb(0,116,217)\"},\"mode\":\"lines\",\"x\":[1.035913581961902,1.1289038081916964,1.1289038081916964,1.1240236656141618],\"xaxis\":\"x\",\"y\":[-21.25,-21.25,-326.1126708984375,-326.1126708984375],\"yaxis\":\"y\",\"type\":\"scatter\"}],                        {\"autosize\":false,\"height\":950,\"hovermode\":\"closest\",\"showlegend\":false,\"width\":1000,\"xaxis\":{\"mirror\":\"allticks\",\"rangemode\":\"tozero\",\"showgrid\":false,\"showline\":true,\"showticklabels\":true,\"ticks\":\"outside\",\"type\":\"linear\",\"zeroline\":false},\"yaxis\":{\"mirror\":\"allticks\",\"rangemode\":\"tozero\",\"showgrid\":false,\"showline\":true,\"showticklabels\":true,\"tickmode\":\"array\",\"ticks\":\"outside\",\"ticktext\":[\"15_\\u5f31\\u3044ai_\\u4eba\\u5de5\\u77e5\\u80fd_\\u5f37\\u3044ai\",\"11_\\u76f8\\u95a2_ai_\\u8ca0\\u306e\\u76f8\\u95a2\",\"22_\\u30a8\\u30c3\\u30b8\\u62bd\\u51fa_\\u30a8\\u30c3\\u30b8_\\u6587\\u5b57\",\"39_\\u753b\\u50cf\\u306b\\u3064\\u3044\\u3066_\\u76f8\\u95a2\\u306b\\u3064\\u3044\\u3066_\\u76f8\\u95a2\",\"28_\\u56de\\u5e30_\\u76f8\\u95a2_\\u6642\\u7cfb\\u5217\",\"13_\\u30c7\\u30a3\\u30b8\\u30bf\\u30eb\\u4fe1\\u53f7\\u51e6\\u7406\\u306e\\u6982\\u8981_\\u91cf\\u5b50\\u5316_\\u7b26\\u53f7\\u5316\",\"33_\\u6a19\\u672c\\u5316\\u306b\\u3064\\u3044\\u3066_\\u6a19\\u672c\\u5316_\\u6a19\\u672c\\u5316\\u5b9a\\u7406\",\"44_\\u6a19\\u672c\\u5316\\u5b9a\\u7406\\u306b\\u3064\\u3044\\u3066\\u5b66\\u7fd2\\u3057\\u305f_\\u307e\\u305f\\u6a19\\u672c\\u5316\\u5b9a\\u7406\\u306e\\u610f\\u5473...\",\"12_nt_\\u96e2\\u6563\\u6642\\u9593\\u4fe1\\u53f7z\\u5909\\u63db_\\u96e2\\u6563\\u6642\\u9593\\u4fe1\\u53f7\\u3068z\\u5909\\u63db\",\"27_2fm_\\u9023\\u7d9a\\u4fe1\\u53f7\\u306e\\u6a19\\u672c\\u5316\\u306e\\u7cbe\\u5ea6\\u306b\\u95a2\\u308f\\u308b\\u6a19\\u672c\\u5316\\u5b9a\\u7406...\",\"14_\\u975e\\u5468\\u671f\\u4fe1\\u53f7\\u306e\\u30d5\\u30fc\\u30ea\\u30a8\\u5909\\u63db_\\u975e\\u5468\\u671f\\u4fe1\\u53f7\\u3068\\u30d5\\u30fc\\u30ea\\u30a8\\u5909...\",\"47_\\u975e\\u5468\\u671f\\u95a2\\u6570\\u307e\\u3067\\u542b\\u3081\\u305f\\u4e00\\u822c\\u7684\\u306a\\u30d5\\u30fc\\u30ea\\u30a8\\u5909\\u63db\\u3068\\u305d\\u306e\\u6027...\",\"20_\\u96e2\\u6563\\u30d5\\u30fc\\u30ea\\u30a8\\u5909\\u63db_\\u30d5\\u30fc\\u30ea\\u30a8\\u5909\\u63db_\\u96e2\\u6563\\u30d5\\u30fc\\u30ea\\u30a8\\u5909\\u63db...\",\"5_\\u96e2\\u6563\\u6642\\u9593\\u30d5\\u30fc\\u30ea\\u30a8\\u5909\\u63db\\u3068\\u96e2\\u6563\\u30d5\\u30fc\\u30ea\\u30a8\\u5909\\u63db_\\u96e2\\u6563\\u6642\\u9593\\u30b7...\",\"30_\\u30d5\\u30fc\\u30ea\\u30a8\\u7d1a\\u6570\\u8868\\u73fe_sincos_\\u5468\\u671f\\u7684\\u306a\\u4fe1\\u53f7\\u306f\\u30d5...\",\"19_\\u30d5\\u30fc\\u30ea\\u30a8\\u7d1a\\u6570\\u304b\\u3089\\u30d5\\u30fc\\u30ea\\u30a8\\u5909\\u63db\\u3078\\u306e\\u62e1\\u5f35_\\u30d5\\u30fc\\u30ea\\u30a8\\u7d1a...\",\"29_\\u30d5\\u30fc\\u30ea\\u30a8\\u7d1a\\u6570\\u306b\\u3064\\u3044\\u3066\\u5b66\\u3093\\u3060_\\u3053\\u308c\\u304b\\u3089\\u306e\\u6388\\u696d\\u3067\\u4f55\\u3092...\",\"16_\\u9ad8\\u901f\\u30d5\\u30fc\\u30ea\\u30a8\\u5909\\u63db_\\u9ad8\\u901f\\u30d5\\u30fc\\u30ea\\u30a8\\u5909\\u63db\\u306b\\u3064\\u3044\\u3066_\\u9ad8\\u901f...\",\"1_\\u30d0\\u30a4_\\u5b8c\\u5168\\u6027_\\u6697\\u53f7\\u306b\\u3064\\u3044\\u3066\",\"3_\\u7b26\\u53f7\\u8a9e\\u540c\\u58eb\\u304cs_2k_\\u30cf\\u30df\\u30f3\\u30b0\\u8ddd\\u96e2\",\"9_z\\u5909\\u63db\\u306b\\u3064\\u3044\\u3066_z\\u5909\\u63db\\u306e\\u6027\\u8cea\\u9006z\\u5909\\u63db_z\\u5909\\u63db\\u306e\\u6027\\u8cea...\",\"42_\\u6388\\u696d\\u306e\\u30ac\\u30a4\\u30c0\\u30f3\\u30b9_ict\\u306e\\u9032\\u3093\\u3060\\u73fe\\u4ee3\\u306b\\u304a\\u3044\\u3066\\u5897\\u52a0...\",\"40_\\u9006z\\u5909\\u63db_\\u9006z\\u5909\\u63db\\u306b\\u3064\\u3044\\u3066_\\u9006z\\u5909\\u63db\\u3092\\u89e3\\u304f\",\"24_\\u6539\\u7ac4_\\u634f\\u9020_\\u7814\\u7a76\\u306b\\u304a\\u3051\\u308b\\u4e2d\\u7acb\\u3084\\u5ba2\\u89b3\\u6027\\u7814\\u7a76\\u4e0d\\u6b63\\u3068\\u306a...\",\"18_\\u8457\\u4f5c\\u6a29\\u306b\\u3064\\u3044\\u3066_\\u8ca1\\u7523\\u6a29_\\u8457\\u4f5c\\u6a29\",\"17_\\u671f\\u672b\\u30c6\\u30b9\\u30c8_\\u78ba\\u8a8d\\u30c6\\u30b9\\u30c8_\\u30c6\\u30b9\\u30c8\",\"32_\\u96e2\\u6563\\u30d5\\u30fc\\u30ea\\u30a8\\u5909\\u63db\\u306e\\u6027\\u8cea\\u306b\\u3064\\u3044\\u3066\\u5b66\\u3093\\u3060_\\u96e2\\u6563\\u30d5\\u30fc\\u30ea...\",\"37_\\u53ef\\u8996\\u5316\\u306e\\u7a2e\\u985e_\\u53ef\\u8996\\u5316\\u306b\\u3064\\u3044\\u3066_\\u53ef\\u8996\\u5316\\u3068\\u305d\\u306e\\u624b\\u6cd5\",\"38_\\u7814\\u7a76\\u502b\\u7406\\u60c5\\u5831\\u502b\\u7406\\u306b\\u3064\\u3044\\u3066_\\u7814\\u7a76\\u306b\\u304a\\u3051\\u308b\\u4e0d\\u6b63\\u3084\\u60c5\\u5831...\",\"41_\\u30c7\\u30a3\\u30b8\\u30bf\\u30eb\\u30d5\\u30a3\\u30eb\\u30bf\\u306e\\u6982\\u8981\\u3092\\u5b66\\u3093\\u3060_\\u30c7\\u30a3\\u30b8\\u30bf\\u30eb\\u30d5\\u30a3...\",\"46_\\u5468\\u6ce2\\u6570\\u7279\\u6027\\u306f\\u632f\\u5e45\\u3068\\u4f4d\\u76f8\\u306e2\\u7a2e\\u985e\\u30922\\u7a2e\\u985e\\u3092\\u8868\\u3059\\u56e0\\u679c...\",\"26_\\u6388\\u696d\\u306e\\u9032\\u3081\\u65b9\\u306e\\u8aac\\u660e_\\u6388\\u696d\\u304c\\u7d42\\u308f\\u3063\\u305f\\u3089\\u305d\\u306e\\u56de\\u306e\\u65e5\\u8a8c...\",\"10_\\u77e5\\u8b58\\u30de\\u30c3\\u30d7\\u306e\\u4f5c\\u6210_\\u77e5\\u8b58\\u30de\\u30c3\\u30d7\\u306e\\u4f5c\\u88fd_\\u77e5\\u8b58\\u30de\\u30c3\\u30d7\\u4f5c\\u6210\",\"21_br\\u30fcmap\\u3092\\u7528\\u3044\\u3066\\u632f\\u308a\\u8fd4\\u308a\\u3092\\u884c\\u3063\\u305f_\\u7b2c\\u4e03\\u56de\\u306e\\u5927...\",\"6_\\u60c5\\u5831_\\u60c5\\u5831\\u79d1\\u5b66_\\u6587\\u7ae0\",\"2_\\u8a08\\u7b97_\\u30a2\\u30eb\\u30b4\\u30ea\\u30ba\\u30e0_\\u30b3\\u30f3\\u30d4\\u30e5\\u30fc\\u30bf\",\"0_\\u30b3\\u30e2\\u30f3\\u30ba_nlogn_\\u8ddd\\u96e2\",\"7_\\u30d1\\u30bf\\u30fc\\u30f3\\u8a8d\\u8b58_\\u30d9\\u30af\\u30c8\\u30eb_\\u753b\\u50cf\\u51e6\\u7406\",\"25_\\u30ac\\u30a4\\u30c0\\u30f3\\u30b9_\\u30bd\\u30fc\\u30c8\\u306e\\u5927\\u307e\\u304b\\u306a\\u6982\\u8981_\\u30aa\\u30ea\\u30a8\\u30f3\\u30c6\\u30fc\\u30b7\\u30e7\\u30f3\",\"8_log2_xy_\\u66d6\\u6627\\u3055\",\"4_\\u60c5\\u5831\\u6e90\\u7b26\\u53f7\\u5316_\\u60c5\\u5831\\u6e90_\\u30a8\\u30f3\\u30c8\\u30ed\\u30d4\\u30fc\",\"36_\\u3092\\u6b21\\u3067\\u5b9a\\u3081\\u308b_2\\u9032\\u6570\\u3092\\u4f7f\\u3063\\u3066\\u60c5\\u5831\\u6e90\\u3092\\u7b26\\u53f7\\u5316\\u3059\\u308b\\u969b...\",\"43_\\u7dda\\u5f62\\u4e0d\\u5909\\u30b7\\u30b9\\u30c6\\u30e0\\u306b\\u30a4\\u30f3\\u30d1\\u30eb\\u30b9\\u95a2\\u6570\\u3092\\u52a0\\u3048\\u305f\\u3082\\u306e\\u304c\\u30a4...\",\"35_\\u30a4\\u30f3\\u30d1\\u30eb\\u30b9\\u5fdc\\u7b54_\\u5dee\\u5206\\u65b9\\u7a0b\\u5f0f_\\u30a4\\u30f3\\u30d1\\u30eb\\u30b9\\u5fdc\\u7b54\\u4f1d\\u9054\\u95a2...\",\"23_\\u30de\\u30fc\\u30b8\\u30bd\\u30fc\\u30c8\\u3068\\u4e8c\\u5206\\u63a2\\u7d22\\u6cd5\\u306b\\u3064\\u3044\\u3066_\\u4e8c\\u5206\\u63a2\\u7d22\\u6cd5_\\u4eca...\",\"45_\\u30d2\\u30fc\\u30d7\\u30bd\\u30fc\\u30c8\\u3068\\u30de\\u30fc\\u30b8\\u30bd\\u30fc\\u30c8\\u306b\\u3064\\u3044\\u3066_\\u30bd\\u30fc\\u30c8\\u307e\\u3068\\u3081...\",\"49_\\u30de\\u30fc\\u30b8\\u30bd\\u30fc\\u30c8\\u30682\\u5206\\u63a2\\u7d22\\u6cd5_\\u30d2\\u30fc\\u30d7\\u30bd\\u30fc\\u30c8\\u30a2\\u30eb\\u30b4\\u30ea\\u30ba...\",\"48_\\u30c7\\u30a3\\u30b8\\u30bf\\u30eb\\u30d5\\u30a3\\u30eb\\u30bf\\u306b\\u3064\\u3044\\u3066_\\u30c7\\u30a3\\u30b8\\u30bf\\u30eb\\u30d5\\u30a3\\u30eb\\u30bf_...\",\"34_\\u30c7\\u30a3\\u30b8\\u30bf\\u30eb\\u30d5\\u30a3\\u30eb\\u30bf\\u306e\\u8a2d\\u8a08_\\u30c7\\u30a3\\u30b8\\u30bf\\u30eb\\u30d5\\u30a3\\u30eb\\u30bf\\u8a2d\\u8a08...\",\"31_fir\\u306e\\u8a2d\\u8a08\\u306b\\u306f\\u7a93\\u95a2\\u6570\\u304c\\u7528\\u3044\\u3089\\u308c\\u308b\\u624b\\u9806\\u306f\\u6b21\\u306e\\u3068\\u304a...\"],\"tickvals\":[-5.0,-15.0,-25.0,-35.0,-45.0,-55.0,-65.0,-75.0,-85.0,-95.0,-105.0,-115.0,-125.0,-135.0,-145.0,-155.0,-165.0,-175.0,-185.0,-195.0,-205.0,-215.0,-225.0,-235.0,-245.0,-255.0,-265.0,-275.0,-285.0,-295.0,-305.0,-315.0,-325.0,-335.0,-345.0,-355.0,-365.0,-375.0,-385.0,-395.0,-405.0,-415.0,-425.0,-435.0,-445.0,-455.0,-465.0,-475.0,-485.0,-495.0],\"type\":\"linear\",\"zeroline\":false,\"range\":[-500.0,0.0]},\"template\":{\"data\":{\"barpolar\":[{\"marker\":{\"line\":{\"color\":\"white\",\"width\":0.5},\"pattern\":{\"fillmode\":\"overlay\",\"size\":10,\"solidity\":0.2}},\"type\":\"barpolar\"}],\"bar\":[{\"error_x\":{\"color\":\"#2a3f5f\"},\"error_y\":{\"color\":\"#2a3f5f\"},\"marker\":{\"line\":{\"color\":\"white\",\"width\":0.5},\"pattern\":{\"fillmode\":\"overlay\",\"size\":10,\"solidity\":0.2}},\"type\":\"bar\"}],\"carpet\":[{\"aaxis\":{\"endlinecolor\":\"#2a3f5f\",\"gridcolor\":\"#C8D4E3\",\"linecolor\":\"#C8D4E3\",\"minorgridcolor\":\"#C8D4E3\",\"startlinecolor\":\"#2a3f5f\"},\"baxis\":{\"endlinecolor\":\"#2a3f5f\",\"gridcolor\":\"#C8D4E3\",\"linecolor\":\"#C8D4E3\",\"minorgridcolor\":\"#C8D4E3\",\"startlinecolor\":\"#2a3f5f\"},\"type\":\"carpet\"}],\"choropleth\":[{\"colorbar\":{\"outlinewidth\":0,\"ticks\":\"\"},\"type\":\"choropleth\"}],\"contourcarpet\":[{\"colorbar\":{\"outlinewidth\":0,\"ticks\":\"\"},\"type\":\"contourcarpet\"}],\"contour\":[{\"colorbar\":{\"outlinewidth\":0,\"ticks\":\"\"},\"colorscale\":[[0.0,\"#0d0887\"],[0.1111111111111111,\"#46039f\"],[0.2222222222222222,\"#7201a8\"],[0.3333333333333333,\"#9c179e\"],[0.4444444444444444,\"#bd3786\"],[0.5555555555555556,\"#d8576b\"],[0.6666666666666666,\"#ed7953\"],[0.7777777777777778,\"#fb9f3a\"],[0.8888888888888888,\"#fdca26\"],[1.0,\"#f0f921\"]],\"type\":\"contour\"}],\"heatmapgl\":[{\"colorbar\":{\"outlinewidth\":0,\"ticks\":\"\"},\"colorscale\":[[0.0,\"#0d0887\"],[0.1111111111111111,\"#46039f\"],[0.2222222222222222,\"#7201a8\"],[0.3333333333333333,\"#9c179e\"],[0.4444444444444444,\"#bd3786\"],[0.5555555555555556,\"#d8576b\"],[0.6666666666666666,\"#ed7953\"],[0.7777777777777778,\"#fb9f3a\"],[0.8888888888888888,\"#fdca26\"],[1.0,\"#f0f921\"]],\"type\":\"heatmapgl\"}],\"heatmap\":[{\"colorbar\":{\"outlinewidth\":0,\"ticks\":\"\"},\"colorscale\":[[0.0,\"#0d0887\"],[0.1111111111111111,\"#46039f\"],[0.2222222222222222,\"#7201a8\"],[0.3333333333333333,\"#9c179e\"],[0.4444444444444444,\"#bd3786\"],[0.5555555555555556,\"#d8576b\"],[0.6666666666666666,\"#ed7953\"],[0.7777777777777778,\"#fb9f3a\"],[0.8888888888888888,\"#fdca26\"],[1.0,\"#f0f921\"]],\"type\":\"heatmap\"}],\"histogram2dcontour\":[{\"colorbar\":{\"outlinewidth\":0,\"ticks\":\"\"},\"colorscale\":[[0.0,\"#0d0887\"],[0.1111111111111111,\"#46039f\"],[0.2222222222222222,\"#7201a8\"],[0.3333333333333333,\"#9c179e\"],[0.4444444444444444,\"#bd3786\"],[0.5555555555555556,\"#d8576b\"],[0.6666666666666666,\"#ed7953\"],[0.7777777777777778,\"#fb9f3a\"],[0.8888888888888888,\"#fdca26\"],[1.0,\"#f0f921\"]],\"type\":\"histogram2dcontour\"}],\"histogram2d\":[{\"colorbar\":{\"outlinewidth\":0,\"ticks\":\"\"},\"colorscale\":[[0.0,\"#0d0887\"],[0.1111111111111111,\"#46039f\"],[0.2222222222222222,\"#7201a8\"],[0.3333333333333333,\"#9c179e\"],[0.4444444444444444,\"#bd3786\"],[0.5555555555555556,\"#d8576b\"],[0.6666666666666666,\"#ed7953\"],[0.7777777777777778,\"#fb9f3a\"],[0.8888888888888888,\"#fdca26\"],[1.0,\"#f0f921\"]],\"type\":\"histogram2d\"}],\"histogram\":[{\"marker\":{\"pattern\":{\"fillmode\":\"overlay\",\"size\":10,\"solidity\":0.2}},\"type\":\"histogram\"}],\"mesh3d\":[{\"colorbar\":{\"outlinewidth\":0,\"ticks\":\"\"},\"type\":\"mesh3d\"}],\"parcoords\":[{\"line\":{\"colorbar\":{\"outlinewidth\":0,\"ticks\":\"\"}},\"type\":\"parcoords\"}],\"pie\":[{\"automargin\":true,\"type\":\"pie\"}],\"scatter3d\":[{\"line\":{\"colorbar\":{\"outlinewidth\":0,\"ticks\":\"\"}},\"marker\":{\"colorbar\":{\"outlinewidth\":0,\"ticks\":\"\"}},\"type\":\"scatter3d\"}],\"scattercarpet\":[{\"marker\":{\"colorbar\":{\"outlinewidth\":0,\"ticks\":\"\"}},\"type\":\"scattercarpet\"}],\"scattergeo\":[{\"marker\":{\"colorbar\":{\"outlinewidth\":0,\"ticks\":\"\"}},\"type\":\"scattergeo\"}],\"scattergl\":[{\"marker\":{\"colorbar\":{\"outlinewidth\":0,\"ticks\":\"\"}},\"type\":\"scattergl\"}],\"scattermapbox\":[{\"marker\":{\"colorbar\":{\"outlinewidth\":0,\"ticks\":\"\"}},\"type\":\"scattermapbox\"}],\"scatterpolargl\":[{\"marker\":{\"colorbar\":{\"outlinewidth\":0,\"ticks\":\"\"}},\"type\":\"scatterpolargl\"}],\"scatterpolar\":[{\"marker\":{\"colorbar\":{\"outlinewidth\":0,\"ticks\":\"\"}},\"type\":\"scatterpolar\"}],\"scatter\":[{\"fillpattern\":{\"fillmode\":\"overlay\",\"size\":10,\"solidity\":0.2},\"type\":\"scatter\"}],\"scatterternary\":[{\"marker\":{\"colorbar\":{\"outlinewidth\":0,\"ticks\":\"\"}},\"type\":\"scatterternary\"}],\"surface\":[{\"colorbar\":{\"outlinewidth\":0,\"ticks\":\"\"},\"colorscale\":[[0.0,\"#0d0887\"],[0.1111111111111111,\"#46039f\"],[0.2222222222222222,\"#7201a8\"],[0.3333333333333333,\"#9c179e\"],[0.4444444444444444,\"#bd3786\"],[0.5555555555555556,\"#d8576b\"],[0.6666666666666666,\"#ed7953\"],[0.7777777777777778,\"#fb9f3a\"],[0.8888888888888888,\"#fdca26\"],[1.0,\"#f0f921\"]],\"type\":\"surface\"}],\"table\":[{\"cells\":{\"fill\":{\"color\":\"#EBF0F8\"},\"line\":{\"color\":\"white\"}},\"header\":{\"fill\":{\"color\":\"#C8D4E3\"},\"line\":{\"color\":\"white\"}},\"type\":\"table\"}]},\"layout\":{\"annotationdefaults\":{\"arrowcolor\":\"#2a3f5f\",\"arrowhead\":0,\"arrowwidth\":1},\"autotypenumbers\":\"strict\",\"coloraxis\":{\"colorbar\":{\"outlinewidth\":0,\"ticks\":\"\"}},\"colorscale\":{\"diverging\":[[0,\"#8e0152\"],[0.1,\"#c51b7d\"],[0.2,\"#de77ae\"],[0.3,\"#f1b6da\"],[0.4,\"#fde0ef\"],[0.5,\"#f7f7f7\"],[0.6,\"#e6f5d0\"],[0.7,\"#b8e186\"],[0.8,\"#7fbc41\"],[0.9,\"#4d9221\"],[1,\"#276419\"]],\"sequential\":[[0.0,\"#0d0887\"],[0.1111111111111111,\"#46039f\"],[0.2222222222222222,\"#7201a8\"],[0.3333333333333333,\"#9c179e\"],[0.4444444444444444,\"#bd3786\"],[0.5555555555555556,\"#d8576b\"],[0.6666666666666666,\"#ed7953\"],[0.7777777777777778,\"#fb9f3a\"],[0.8888888888888888,\"#fdca26\"],[1.0,\"#f0f921\"]],\"sequentialminus\":[[0.0,\"#0d0887\"],[0.1111111111111111,\"#46039f\"],[0.2222222222222222,\"#7201a8\"],[0.3333333333333333,\"#9c179e\"],[0.4444444444444444,\"#bd3786\"],[0.5555555555555556,\"#d8576b\"],[0.6666666666666666,\"#ed7953\"],[0.7777777777777778,\"#fb9f3a\"],[0.8888888888888888,\"#fdca26\"],[1.0,\"#f0f921\"]]},\"colorway\":[\"#636efa\",\"#EF553B\",\"#00cc96\",\"#ab63fa\",\"#FFA15A\",\"#19d3f3\",\"#FF6692\",\"#B6E880\",\"#FF97FF\",\"#FECB52\"],\"font\":{\"color\":\"#2a3f5f\"},\"geo\":{\"bgcolor\":\"white\",\"lakecolor\":\"white\",\"landcolor\":\"white\",\"showlakes\":true,\"showland\":true,\"subunitcolor\":\"#C8D4E3\"},\"hoverlabel\":{\"align\":\"left\"},\"hovermode\":\"closest\",\"mapbox\":{\"style\":\"light\"},\"paper_bgcolor\":\"white\",\"plot_bgcolor\":\"white\",\"polar\":{\"angularaxis\":{\"gridcolor\":\"#EBF0F8\",\"linecolor\":\"#EBF0F8\",\"ticks\":\"\"},\"bgcolor\":\"white\",\"radialaxis\":{\"gridcolor\":\"#EBF0F8\",\"linecolor\":\"#EBF0F8\",\"ticks\":\"\"}},\"scene\":{\"xaxis\":{\"backgroundcolor\":\"white\",\"gridcolor\":\"#DFE8F3\",\"gridwidth\":2,\"linecolor\":\"#EBF0F8\",\"showbackground\":true,\"ticks\":\"\",\"zerolinecolor\":\"#EBF0F8\"},\"yaxis\":{\"backgroundcolor\":\"white\",\"gridcolor\":\"#DFE8F3\",\"gridwidth\":2,\"linecolor\":\"#EBF0F8\",\"showbackground\":true,\"ticks\":\"\",\"zerolinecolor\":\"#EBF0F8\"},\"zaxis\":{\"backgroundcolor\":\"white\",\"gridcolor\":\"#DFE8F3\",\"gridwidth\":2,\"linecolor\":\"#EBF0F8\",\"showbackground\":true,\"ticks\":\"\",\"zerolinecolor\":\"#EBF0F8\"}},\"shapedefaults\":{\"line\":{\"color\":\"#2a3f5f\"}},\"ternary\":{\"aaxis\":{\"gridcolor\":\"#DFE8F3\",\"linecolor\":\"#A2B1C6\",\"ticks\":\"\"},\"baxis\":{\"gridcolor\":\"#DFE8F3\",\"linecolor\":\"#A2B1C6\",\"ticks\":\"\"},\"bgcolor\":\"white\",\"caxis\":{\"gridcolor\":\"#DFE8F3\",\"linecolor\":\"#A2B1C6\",\"ticks\":\"\"}},\"title\":{\"x\":0.05},\"xaxis\":{\"automargin\":true,\"gridcolor\":\"#EBF0F8\",\"linecolor\":\"#EBF0F8\",\"ticks\":\"\",\"title\":{\"standoff\":15},\"zerolinecolor\":\"#EBF0F8\",\"zerolinewidth\":2},\"yaxis\":{\"automargin\":true,\"gridcolor\":\"#EBF0F8\",\"linecolor\":\"#EBF0F8\",\"ticks\":\"\",\"title\":{\"standoff\":15},\"zerolinecolor\":\"#EBF0F8\",\"zerolinewidth\":2}}},\"title\":{\"font\":{\"size\":22,\"color\":\"Black\"},\"text\":\"\\u003cb\\u003eHierarchical Clustering\\u003c\\u002fb\\u003e\",\"x\":0.5,\"xanchor\":\"center\",\"yanchor\":\"top\"},\"hoverlabel\":{\"font\":{\"size\":16,\"family\":\"Rockwell\"},\"bgcolor\":\"white\"},\"plot_bgcolor\":\"#ECEFF1\"},                        {\"responsive\": true}                    ).then(function(){\n",
       "                            \n",
       "var gd = document.getElementById('75753f4e-caa5-4841-bf2e-421840355ba1');\n",
       "var x = new MutationObserver(function (mutations, observer) {{\n",
       "        var display = window.getComputedStyle(gd).display;\n",
       "        if (!display || display === 'none') {{\n",
       "            console.log([gd, 'removed!']);\n",
       "            Plotly.purge(gd);\n",
       "            observer.disconnect();\n",
       "        }}\n",
       "}});\n",
       "\n",
       "// Listen for the removal of the full notebook cells\n",
       "var notebookContainer = gd.closest('#notebook-container');\n",
       "if (notebookContainer) {{\n",
       "    x.observe(notebookContainer, {childList: true});\n",
       "}}\n",
       "\n",
       "// Listen for the clearing of the current output cell\n",
       "var outputEl = gd.closest('.output');\n",
       "if (outputEl) {{\n",
       "    x.observe(outputEl, {childList: true});\n",
       "}}\n",
       "\n",
       "                        })                };                });            </script>        </div>"
      ]
     },
     "metadata": {},
     "output_type": "display_data"
    }
   ],
   "source": [
    "topic_model.visualize_hierarchy()"
   ]
  },
  {
   "cell_type": "code",
   "execution_count": null,
   "metadata": {},
   "outputs": [
    {
     "data": {
      "application/vnd.plotly.v1+json": {
       "config": {
        "plotlyServerURL": "https://plot.ly"
       },
       "data": [
        {
         "name": "-1_グルーピング_nlogn_距離_logn",
         "type": "bar",
         "x": [
          0,
          1,
          2,
          3,
          4
         ],
         "y": [
          240,
          99,
          182,
          133,
          222
         ]
        },
        {
         "name": "0_コモンズ_nlogn_距離_2回",
         "type": "bar",
         "x": [
          0,
          1,
          2,
          3,
          4
         ],
         "y": [
          0,
          111,
          339,
          250,
          488
         ]
        },
        {
         "name": "1_バイ_完全性_暗号について_en",
         "type": "bar",
         "x": [
          0,
          1,
          2,
          3,
          4
         ],
         "y": [
          104,
          118,
          28,
          2,
          59
         ]
        },
        {
         "name": "2_計算_アルゴリズム_コンピュータ_問題",
         "type": "bar",
         "x": [
          0,
          1,
          2,
          3,
          4
         ],
         "y": [
          0,
          27,
          84,
          58,
          120
         ]
        },
        {
         "name": "3_符号語同士がs_2k_ハミング距離_符号語同士が2t",
         "type": "bar",
         "x": [
          0,
          1,
          2,
          3,
          4
         ],
         "y": [
          1,
          21,
          65,
          62,
          109
         ]
        },
        {
         "name": "4_情報源符号化_情報源_エントロピー_語頭条件",
         "type": "bar",
         "x": [
          0,
          1,
          2,
          3,
          4
         ],
         "y": [
          0,
          21,
          67,
          55,
          104
         ]
        },
        {
         "name": "5_離散時間フーリエ変換と離散フーリエ変換_離散時間システム_離散時間フーリエ変換と離散フーリエ変換について_離散時間フーリエ変換",
         "type": "bar",
         "x": [
          0,
          1,
          2,
          3,
          4
         ],
         "y": [
          191,
          23,
          9,
          6,
          6
         ]
        },
        {
         "name": "6_情報_情報科学_文章_情報伝達の歴史",
         "type": "bar",
         "x": [
          0,
          1,
          2,
          3,
          4
         ],
         "y": [
          39,
          23,
          54,
          40,
          78
         ]
        },
        {
         "name": "7_パターン認識_ベクトル_画像処理_似ている",
         "type": "bar",
         "x": [
          0,
          1,
          2,
          3,
          4
         ],
         "y": [
          0,
          16,
          56,
          54,
          92
         ]
        },
        {
         "name": "8_log2_xy_曖昧さ_情報量",
         "type": "bar",
         "x": [
          0,
          1,
          2,
          3,
          4
         ],
         "y": [
          0,
          22,
          73,
          54,
          44
         ]
        },
        {
         "name": "9_z変換について_z変換の性質逆z変換_z変換の性質と逆z変換_z変換の導入",
         "type": "bar",
         "x": [
          0,
          1,
          2,
          3,
          4
         ],
         "y": [
          120,
          15,
          7,
          4,
          4
         ]
        },
        {
         "name": "10_知識マップの作成_知識マップの作製_知識マップ作成_br",
         "type": "bar",
         "x": [
          0,
          1,
          2,
          3,
          4
         ],
         "y": [
          119,
          12,
          6,
          1,
          2
         ]
        },
        {
         "name": "11_相関_ai_負の相関_差がない",
         "type": "bar",
         "x": [
          0,
          1,
          2,
          3,
          4
         ],
         "y": [
          0,
          13,
          46,
          36,
          44
         ]
        },
        {
         "name": "12_nt_離散時間信号z変換_離散時間信号とz変換_ωt",
         "type": "bar",
         "x": [
          0,
          1,
          2,
          3,
          4
         ],
         "y": [
          101,
          12,
          11,
          1,
          4
         ]
        },
        {
         "name": "13_ディジタル信号処理の概要_量子化_符号化_アナログ信号",
         "type": "bar",
         "x": [
          0,
          1,
          2,
          3,
          4
         ],
         "y": [
          84,
          15,
          9,
          4,
          3
         ]
        },
        {
         "name": "14_非周期信号のフーリエ変換_非周期信号とフーリエ変換_周期信号のフーリエ級数表現_フーリエ変換について",
         "type": "bar",
         "x": [
          0,
          1,
          2,
          3,
          4
         ],
         "y": [
          80,
          14,
          6,
          5,
          5
         ]
        },
        {
         "name": "15_弱いai_人工知能_強いai_ai",
         "type": "bar",
         "x": [
          0,
          1,
          2,
          3,
          4
         ],
         "y": [
          0,
          14,
          29,
          28,
          34
         ]
        },
        {
         "name": "16_高速フーリエ変換_高速フーリエ変換について_高速フーリエ変換について学んだ_高速フーリエ変換の仕組み",
         "type": "bar",
         "x": [
          0,
          1,
          2,
          3,
          4
         ],
         "y": [
          82,
          7,
          6,
          1,
          2
         ]
        },
        {
         "name": "17_期末テスト_確認テスト_テスト_テストでした",
         "type": "bar",
         "x": [
          0,
          1,
          2,
          3,
          4
         ],
         "y": [
          4,
          8,
          21,
          20,
          41
         ]
        },
        {
         "name": "18_著作権について_財産権_著作権_70年間著作物を守る",
         "type": "bar",
         "x": [
          0,
          1,
          2,
          3,
          4
         ],
         "y": [
          25,
          27,
          10,
          0,
          0
         ]
        },
        {
         "name": "19_フーリエ級数からフーリエ変換への拡張_フーリエ級数_最大公約数を表す_フーリエ級数複素フーリエ級数の求め方",
         "type": "bar",
         "x": [
          0,
          1,
          2,
          3,
          4
         ],
         "y": [
          28,
          7,
          12,
          5,
          7
         ]
        },
        {
         "name": "20_離散フーリエ変換_フーリエ変換_離散フーリエ変換について_フーリエ変換の説明",
         "type": "bar",
         "x": [
          0,
          1,
          2,
          3,
          4
         ],
         "y": [
          37,
          9,
          1,
          3,
          3
         ]
        },
        {
         "name": "21_brーmapを用いて振り返りを行った_第七回の大まかな復讐_まとめを行うことで後半内容の復習等ができた_今日の内容は身近に感じられた",
         "type": "bar",
         "x": [
          0,
          1,
          2,
          3,
          4
         ],
         "y": [
          22,
          6,
          3,
          11,
          5
         ]
        },
        {
         "name": "22_エッジ抽出_エッジ_文字_と白",
         "type": "bar",
         "x": [
          0,
          1,
          2,
          3,
          4
         ],
         "y": [
          1,
          3,
          6,
          4,
          32
         ]
        },
        {
         "name": "23_マージソートと二分探索法について_二分探索法_今回の授業ではヒープソートとマージソートについて学習した_マージソートと二分探索法",
         "type": "bar",
         "x": [
          0,
          1,
          2,
          3,
          4
         ],
         "y": [
          0,
          10,
          14,
          7,
          13
         ]
        },
        {
         "name": "24_改竄_捏造_研究における中立や客観性研究不正となる行為共同研究において必要な倫理観利益相反九大における情報倫理規定セキュリティーの存在や内容の理解_研究者の立場として中立的",
         "type": "bar",
         "x": [
          0,
          1,
          2,
          3,
          4
         ],
         "y": [
          17,
          17,
          5,
          2,
          0
         ]
        },
        {
         "name": "25_ガイダンス_ソートの大まかな概要_オリエンテーション_イントロダクション",
         "type": "bar",
         "x": [
          0,
          1,
          2,
          3,
          4
         ],
         "y": [
          9,
          3,
          7,
          6,
          8
         ]
        },
        {
         "name": "26_授業の進め方の説明_授業が終わったらその回の日誌ノート要点整理を作成して投稿するまた演習課題も実施して提出する_授業当日にはその日の範囲の内容の説明と課題の指示がなされるのでしっかりと理解しメモを取っておく内容の説明を聞きながらbookroll上でキーワードにマーカーを引くわかった_黄色moodleを利用してログインするその後黄色moodle内のリンクから青色moodleに移動しteamsによるオンライン授業への接続を行う水色moodle内のbookrollを併用して講義を受講しノートを作成する講義が終了したら水色moodle内の振り返り日誌そして黄色moodle内の学習状況アンケートを記入する次回の講義までに講義内で指示された演習を解き作成したノートと演習をそれぞれの提出先に提出するさらにbookrollを用いて次回の授業の予習をする",
         "type": "bar",
         "x": [
          0,
          1,
          2,
          3,
          4
         ],
         "y": [
          16,
          3,
          5,
          4,
          3
         ]
        },
        {
         "name": "27_2fm_連続信号の標本化の精度に関わる標本化定理やナイキスト周波数などについての内容_とインパルス列の積として表現できる_fs",
         "type": "bar",
         "x": [
          0,
          1,
          2,
          3,
          4
         ],
         "y": [
          21,
          2,
          3,
          3,
          2
         ]
        },
        {
         "name": "28_回帰_相関_時系列_検定",
         "type": "bar",
         "x": [
          0,
          1,
          2,
          3,
          4
         ],
         "y": [
          0,
          6,
          9,
          8,
          7
         ]
        },
        {
         "name": "29_フーリエ級数について学んだ_これからの授業で何を学ぶかや計算とは何かについて例を用いて学んだ_高校の数学でもかじった相関について学んだ_フーリエ級数は以前一度習ったが忘れていた",
         "type": "bar",
         "x": [
          0,
          1,
          2,
          3,
          4
         ],
         "y": [
          10,
          5,
          7,
          2,
          6
         ]
        },
        {
         "name": "30_フーリエ級数表現_sincos_周期的な信号はフーリエ級数によって表現できるつまりいろいろな正弦波の足し合わせで表現できるのであるフーリエ級数はオイラーの公式を用いて複素フーリエ級数に変換できる複素フーリエ級数の方がフーリエ級数よりも簡潔に表現できる_複素フーリエ級数とフーリエ級数はオイラーの公式を用いて互いに変形できる",
         "type": "bar",
         "x": [
          0,
          1,
          2,
          3,
          4
         ],
         "y": [
          24,
          2,
          2,
          1,
          1
         ]
        },
        {
         "name": "31_firの設計には窓関数が用いられる手順は次のとおりである①所望の振幅特性を求める②インパルス応答を求める③窓関数を掛け合わせて有限個のインパルス応答を取り出す④因果性を満たすようにする⑤h_フィルタの次数が大きいほど望む周波数特性に近づくが演算量が増えるという欠点もある_通過域_窓関数を工夫することで理想に近づける",
         "type": "bar",
         "x": [
          0,
          1,
          2,
          3,
          4
         ],
         "y": [
          29,
          0,
          0,
          0,
          0
         ]
        },
        {
         "name": "32_離散フーリエ変換の性質について学んだ_離散フーリエ変換について学んだ_フーリエ変換の性質などを学習したりした_フーリエ変換の性質を学んだ",
         "type": "bar",
         "x": [
          0,
          1,
          2,
          3,
          4
         ],
         "y": [
          21,
          5,
          3,
          0,
          0
         ]
        },
        {
         "name": "33_標本化について_標本化_標本化定理_サンプリングと標本化定理について",
         "type": "bar",
         "x": [
          0,
          1,
          2,
          3,
          4
         ],
         "y": [
          19,
          6,
          1,
          1,
          1
         ]
        },
        {
         "name": "34_ディジタルフィルタの設計_ディジタルフィルタ設計の考え方_firフィルタは窓関数法で設計できる_フィルターの作成手法",
         "type": "bar",
         "x": [
          0,
          1,
          2,
          3,
          4
         ],
         "y": [
          24,
          2,
          0,
          0,
          0
         ]
        },
        {
         "name": "35_インパルス応答_差分方程式_インパルス応答伝達関数とその計算の手法_インパルス応答伝達関数などについて",
         "type": "bar",
         "x": [
          0,
          1,
          2,
          3,
          4
         ],
         "y": [
          22,
          4,
          0,
          0,
          0
         ]
        },
        {
         "name": "36_を次で定める_2進数を使って情報源を符号化する際に必要な条件について_今回の講義では前回に学んだ情報の符号化について_最適な符号を生成するために必要なこと",
         "type": "bar",
         "x": [
          0,
          1,
          2,
          3,
          4
         ],
         "y": [
          0,
          5,
          9,
          7,
          5
         ]
        },
        {
         "name": "37_可視化の種類_可視化について_可視化とその手法_可視化とは何かやいろいろな可視化手法について学んだ",
         "type": "bar",
         "x": [
          0,
          1,
          2,
          3,
          4
         ],
         "y": [
          0,
          2,
          6,
          5,
          11
         ]
        },
        {
         "name": "38_研究倫理情報倫理について_研究における不正や情報の倫理_研究における倫理と情報の扱い_研究倫理と研究者が良識を持って遵守すべき規範",
         "type": "bar",
         "x": [
          0,
          1,
          2,
          3,
          4
         ],
         "y": [
          4,
          15,
          1,
          0,
          1
         ]
        },
        {
         "name": "39_画像について_相関について_相関_画像のエッジに関して",
         "type": "bar",
         "x": [
          0,
          1,
          2,
          3,
          4
         ],
         "y": [
          0,
          2,
          7,
          6,
          5
         ]
        },
        {
         "name": "40_逆z変換_逆z変換について_逆z変換を解く_逆z変換の求め方に関しての講義",
         "type": "bar",
         "x": [
          0,
          1,
          2,
          3,
          4
         ],
         "y": [
          15,
          2,
          1,
          1,
          0
         ]
        },
        {
         "name": "41_ディジタルフィルタの概要を学んだ_ディジタルフィルタの種類やその設計方法について学んだ_本日はディジタルフィルタについて学んだまたflrフィルタの場合での設計がどのような手順で行われるか学ぶことが重要である_多様な種類のフィルタについてとフィルタを設計する際に用いる窓関数について学習した",
         "type": "bar",
         "x": [
          0,
          1,
          2,
          3,
          4
         ],
         "y": [
          13,
          2,
          1,
          1,
          0
         ]
        },
        {
         "name": "42_授業のガイダンス_ictの進んだ現代において増加しているセキュリティインシデントとその対策_ガイダンス授業の進め方_講義のガイダンス使用するツール類の説明と試用",
         "type": "bar",
         "x": [
          0,
          1,
          2,
          3,
          4
         ],
         "y": [
          8,
          2,
          1,
          3,
          3
         ]
        },
        {
         "name": "43_線形不変システムにインパルス関数を加えたものがインパルス応答となる_線形時不変システムの数学的な表現方法について学んだ_線形時不変システムの出力は差分方程式で表現されそこから伝達関数の形を考えることができる_線形時不変システムの入出力",
         "type": "bar",
         "x": [
          0,
          1,
          2,
          3,
          4
         ],
         "y": [
          14,
          0,
          2,
          0,
          0
         ]
        },
        {
         "name": "44_標本化定理について学習した_また標本化定理の意味についても学習した_標本化定理の説明とその条件について学んだ_標本化定理の条件について学んだ",
         "type": "bar",
         "x": [
          0,
          1,
          2,
          3,
          4
         ],
         "y": [
          11,
          3,
          0,
          0,
          0
         ]
        },
        {
         "name": "45_ヒープソートとマージソートについて_ソートまとめ_マージソートの概要具体例の説明_ヒープソートマージソートについて知る",
         "type": "bar",
         "x": [
          0,
          1,
          2,
          3,
          4
         ],
         "y": [
          0,
          1,
          4,
          5,
          3
         ]
        },
        {
         "name": "46_周波数特性は振幅と位相の2種類を2種類を表す因果性と安定性をみたすシステムは全ての極が単位円内にそんざいしなければならない_周波数特性とは入力信号がシステムによって受ける変化を表しておりシステム関数の大きさと偏角を合わせたものである_安定性零点極_システム関数や周波数特性安定なシステムについて",
         "type": "bar",
         "x": [
          0,
          1,
          2,
          3,
          4
         ],
         "y": [
          11,
          1,
          0,
          0,
          0
         ]
        },
        {
         "name": "47_非周期関数まで含めた一般的なフーリエ変換とその性質について_非周期関数のフーリエ級数からフーリエ変換を学んだ_非周期関数に適用_非周期関数に対するフーリエ変換について学んだ",
         "type": "bar",
         "x": [
          0,
          1,
          2,
          3,
          4
         ],
         "y": [
          8,
          2,
          2,
          0,
          0
         ]
        },
        {
         "name": "48_ディジタルフィルタについて_ディジタルフィルタ_フィルタ_フィルタの説明",
         "type": "bar",
         "x": [
          0,
          1,
          2,
          3,
          4
         ],
         "y": [
          12,
          0,
          0,
          0,
          0
         ]
        },
        {
         "name": "49_マージソートと2分探索法_ヒープソートアルゴリズムとマージソートアルゴリズムについて_二分探索の概要_マージソート比較ソートアルゴリズム2分探索アルゴリズム",
         "type": "bar",
         "x": [
          0,
          1,
          2,
          3,
          4
         ],
         "y": [
          0,
          0,
          2,
          5,
          4
         ]
        }
       ],
       "layout": {
        "sliders": [
         {
          "active": 0,
          "currentvalue": {
           "prefix": "Selected Topic: "
          },
          "pad": {
           "t": 50
          },
          "steps": [
           {
            "args": [
             {
              "visible": [
               true,
               false,
               false,
               false,
               false,
               false,
               false,
               false,
               false,
               false,
               false,
               false,
               false,
               false,
               false,
               false,
               false,
               false,
               false,
               false,
               false,
               false,
               false,
               false,
               false,
               false,
               false,
               false,
               false,
               false,
               false,
               false,
               false,
               false,
               false,
               false,
               false,
               false,
               false,
               false,
               false,
               false,
               false,
               false,
               false,
               false,
               false,
               false,
               false,
               false,
               false
              ]
             },
             {
              "title": "-1_グルーピング_nlogn_距離_logn"
             }
            ],
            "label": "-1_グルーピング_nlogn_距離_logn",
            "method": "update"
           },
           {
            "args": [
             {
              "visible": [
               false,
               true,
               false,
               false,
               false,
               false,
               false,
               false,
               false,
               false,
               false,
               false,
               false,
               false,
               false,
               false,
               false,
               false,
               false,
               false,
               false,
               false,
               false,
               false,
               false,
               false,
               false,
               false,
               false,
               false,
               false,
               false,
               false,
               false,
               false,
               false,
               false,
               false,
               false,
               false,
               false,
               false,
               false,
               false,
               false,
               false,
               false,
               false,
               false,
               false,
               false
              ]
             },
             {
              "title": "0_コモンズ_nlogn_距離_2回"
             }
            ],
            "label": "0_コモンズ_nlogn_距離_2回",
            "method": "update"
           },
           {
            "args": [
             {
              "visible": [
               false,
               false,
               true,
               false,
               false,
               false,
               false,
               false,
               false,
               false,
               false,
               false,
               false,
               false,
               false,
               false,
               false,
               false,
               false,
               false,
               false,
               false,
               false,
               false,
               false,
               false,
               false,
               false,
               false,
               false,
               false,
               false,
               false,
               false,
               false,
               false,
               false,
               false,
               false,
               false,
               false,
               false,
               false,
               false,
               false,
               false,
               false,
               false,
               false,
               false,
               false
              ]
             },
             {
              "title": "1_バイ_完全性_暗号について_en"
             }
            ],
            "label": "1_バイ_完全性_暗号について_en",
            "method": "update"
           },
           {
            "args": [
             {
              "visible": [
               false,
               false,
               false,
               true,
               false,
               false,
               false,
               false,
               false,
               false,
               false,
               false,
               false,
               false,
               false,
               false,
               false,
               false,
               false,
               false,
               false,
               false,
               false,
               false,
               false,
               false,
               false,
               false,
               false,
               false,
               false,
               false,
               false,
               false,
               false,
               false,
               false,
               false,
               false,
               false,
               false,
               false,
               false,
               false,
               false,
               false,
               false,
               false,
               false,
               false,
               false
              ]
             },
             {
              "title": "2_計算_アルゴリズム_コンピュータ_問題"
             }
            ],
            "label": "2_計算_アルゴリズム_コンピュータ_問題",
            "method": "update"
           },
           {
            "args": [
             {
              "visible": [
               false,
               false,
               false,
               false,
               true,
               false,
               false,
               false,
               false,
               false,
               false,
               false,
               false,
               false,
               false,
               false,
               false,
               false,
               false,
               false,
               false,
               false,
               false,
               false,
               false,
               false,
               false,
               false,
               false,
               false,
               false,
               false,
               false,
               false,
               false,
               false,
               false,
               false,
               false,
               false,
               false,
               false,
               false,
               false,
               false,
               false,
               false,
               false,
               false,
               false,
               false
              ]
             },
             {
              "title": "3_符号語同士がs_2k_ハミング距離_符号語同士が2t"
             }
            ],
            "label": "3_符号語同士がs_2k_ハミング距離_符号語同士が2t",
            "method": "update"
           },
           {
            "args": [
             {
              "visible": [
               false,
               false,
               false,
               false,
               false,
               true,
               false,
               false,
               false,
               false,
               false,
               false,
               false,
               false,
               false,
               false,
               false,
               false,
               false,
               false,
               false,
               false,
               false,
               false,
               false,
               false,
               false,
               false,
               false,
               false,
               false,
               false,
               false,
               false,
               false,
               false,
               false,
               false,
               false,
               false,
               false,
               false,
               false,
               false,
               false,
               false,
               false,
               false,
               false,
               false,
               false
              ]
             },
             {
              "title": "4_情報源符号化_情報源_エントロピー_語頭条件"
             }
            ],
            "label": "4_情報源符号化_情報源_エントロピー_語頭条件",
            "method": "update"
           },
           {
            "args": [
             {
              "visible": [
               false,
               false,
               false,
               false,
               false,
               false,
               true,
               false,
               false,
               false,
               false,
               false,
               false,
               false,
               false,
               false,
               false,
               false,
               false,
               false,
               false,
               false,
               false,
               false,
               false,
               false,
               false,
               false,
               false,
               false,
               false,
               false,
               false,
               false,
               false,
               false,
               false,
               false,
               false,
               false,
               false,
               false,
               false,
               false,
               false,
               false,
               false,
               false,
               false,
               false,
               false
              ]
             },
             {
              "title": "5_離散時間フーリエ変換と離散フーリエ変換_離散時間システム_離散時間フーリエ変換と離散フーリエ変換について_離散時間フーリエ変換"
             }
            ],
            "label": "5_離散時間フーリエ変換と離散フーリエ変換_離散時間システム_離散時間フーリエ変換と離散フーリエ変換について_離散時間フーリエ変換",
            "method": "update"
           },
           {
            "args": [
             {
              "visible": [
               false,
               false,
               false,
               false,
               false,
               false,
               false,
               true,
               false,
               false,
               false,
               false,
               false,
               false,
               false,
               false,
               false,
               false,
               false,
               false,
               false,
               false,
               false,
               false,
               false,
               false,
               false,
               false,
               false,
               false,
               false,
               false,
               false,
               false,
               false,
               false,
               false,
               false,
               false,
               false,
               false,
               false,
               false,
               false,
               false,
               false,
               false,
               false,
               false,
               false,
               false
              ]
             },
             {
              "title": "6_情報_情報科学_文章_情報伝達の歴史"
             }
            ],
            "label": "6_情報_情報科学_文章_情報伝達の歴史",
            "method": "update"
           },
           {
            "args": [
             {
              "visible": [
               false,
               false,
               false,
               false,
               false,
               false,
               false,
               false,
               true,
               false,
               false,
               false,
               false,
               false,
               false,
               false,
               false,
               false,
               false,
               false,
               false,
               false,
               false,
               false,
               false,
               false,
               false,
               false,
               false,
               false,
               false,
               false,
               false,
               false,
               false,
               false,
               false,
               false,
               false,
               false,
               false,
               false,
               false,
               false,
               false,
               false,
               false,
               false,
               false,
               false,
               false
              ]
             },
             {
              "title": "7_パターン認識_ベクトル_画像処理_似ている"
             }
            ],
            "label": "7_パターン認識_ベクトル_画像処理_似ている",
            "method": "update"
           },
           {
            "args": [
             {
              "visible": [
               false,
               false,
               false,
               false,
               false,
               false,
               false,
               false,
               false,
               true,
               false,
               false,
               false,
               false,
               false,
               false,
               false,
               false,
               false,
               false,
               false,
               false,
               false,
               false,
               false,
               false,
               false,
               false,
               false,
               false,
               false,
               false,
               false,
               false,
               false,
               false,
               false,
               false,
               false,
               false,
               false,
               false,
               false,
               false,
               false,
               false,
               false,
               false,
               false,
               false,
               false
              ]
             },
             {
              "title": "8_log2_xy_曖昧さ_情報量"
             }
            ],
            "label": "8_log2_xy_曖昧さ_情報量",
            "method": "update"
           },
           {
            "args": [
             {
              "visible": [
               false,
               false,
               false,
               false,
               false,
               false,
               false,
               false,
               false,
               false,
               true,
               false,
               false,
               false,
               false,
               false,
               false,
               false,
               false,
               false,
               false,
               false,
               false,
               false,
               false,
               false,
               false,
               false,
               false,
               false,
               false,
               false,
               false,
               false,
               false,
               false,
               false,
               false,
               false,
               false,
               false,
               false,
               false,
               false,
               false,
               false,
               false,
               false,
               false,
               false,
               false
              ]
             },
             {
              "title": "9_z変換について_z変換の性質逆z変換_z変換の性質と逆z変換_z変換の導入"
             }
            ],
            "label": "9_z変換について_z変換の性質逆z変換_z変換の性質と逆z変換_z変換の導入",
            "method": "update"
           },
           {
            "args": [
             {
              "visible": [
               false,
               false,
               false,
               false,
               false,
               false,
               false,
               false,
               false,
               false,
               false,
               true,
               false,
               false,
               false,
               false,
               false,
               false,
               false,
               false,
               false,
               false,
               false,
               false,
               false,
               false,
               false,
               false,
               false,
               false,
               false,
               false,
               false,
               false,
               false,
               false,
               false,
               false,
               false,
               false,
               false,
               false,
               false,
               false,
               false,
               false,
               false,
               false,
               false,
               false,
               false
              ]
             },
             {
              "title": "10_知識マップの作成_知識マップの作製_知識マップ作成_br"
             }
            ],
            "label": "10_知識マップの作成_知識マップの作製_知識マップ作成_br",
            "method": "update"
           },
           {
            "args": [
             {
              "visible": [
               false,
               false,
               false,
               false,
               false,
               false,
               false,
               false,
               false,
               false,
               false,
               false,
               true,
               false,
               false,
               false,
               false,
               false,
               false,
               false,
               false,
               false,
               false,
               false,
               false,
               false,
               false,
               false,
               false,
               false,
               false,
               false,
               false,
               false,
               false,
               false,
               false,
               false,
               false,
               false,
               false,
               false,
               false,
               false,
               false,
               false,
               false,
               false,
               false,
               false,
               false
              ]
             },
             {
              "title": "11_相関_ai_負の相関_差がない"
             }
            ],
            "label": "11_相関_ai_負の相関_差がない",
            "method": "update"
           },
           {
            "args": [
             {
              "visible": [
               false,
               false,
               false,
               false,
               false,
               false,
               false,
               false,
               false,
               false,
               false,
               false,
               false,
               true,
               false,
               false,
               false,
               false,
               false,
               false,
               false,
               false,
               false,
               false,
               false,
               false,
               false,
               false,
               false,
               false,
               false,
               false,
               false,
               false,
               false,
               false,
               false,
               false,
               false,
               false,
               false,
               false,
               false,
               false,
               false,
               false,
               false,
               false,
               false,
               false,
               false
              ]
             },
             {
              "title": "12_nt_離散時間信号z変換_離散時間信号とz変換_ωt"
             }
            ],
            "label": "12_nt_離散時間信号z変換_離散時間信号とz変換_ωt",
            "method": "update"
           },
           {
            "args": [
             {
              "visible": [
               false,
               false,
               false,
               false,
               false,
               false,
               false,
               false,
               false,
               false,
               false,
               false,
               false,
               false,
               true,
               false,
               false,
               false,
               false,
               false,
               false,
               false,
               false,
               false,
               false,
               false,
               false,
               false,
               false,
               false,
               false,
               false,
               false,
               false,
               false,
               false,
               false,
               false,
               false,
               false,
               false,
               false,
               false,
               false,
               false,
               false,
               false,
               false,
               false,
               false,
               false
              ]
             },
             {
              "title": "13_ディジタル信号処理の概要_量子化_符号化_アナログ信号"
             }
            ],
            "label": "13_ディジタル信号処理の概要_量子化_符号化_アナログ信号",
            "method": "update"
           },
           {
            "args": [
             {
              "visible": [
               false,
               false,
               false,
               false,
               false,
               false,
               false,
               false,
               false,
               false,
               false,
               false,
               false,
               false,
               false,
               true,
               false,
               false,
               false,
               false,
               false,
               false,
               false,
               false,
               false,
               false,
               false,
               false,
               false,
               false,
               false,
               false,
               false,
               false,
               false,
               false,
               false,
               false,
               false,
               false,
               false,
               false,
               false,
               false,
               false,
               false,
               false,
               false,
               false,
               false,
               false
              ]
             },
             {
              "title": "14_非周期信号のフーリエ変換_非周期信号とフーリエ変換_周期信号のフーリエ級数表現_フーリエ変換について"
             }
            ],
            "label": "14_非周期信号のフーリエ変換_非周期信号とフーリエ変換_周期信号のフーリエ級数表現_フーリエ変換について",
            "method": "update"
           },
           {
            "args": [
             {
              "visible": [
               false,
               false,
               false,
               false,
               false,
               false,
               false,
               false,
               false,
               false,
               false,
               false,
               false,
               false,
               false,
               false,
               true,
               false,
               false,
               false,
               false,
               false,
               false,
               false,
               false,
               false,
               false,
               false,
               false,
               false,
               false,
               false,
               false,
               false,
               false,
               false,
               false,
               false,
               false,
               false,
               false,
               false,
               false,
               false,
               false,
               false,
               false,
               false,
               false,
               false,
               false
              ]
             },
             {
              "title": "15_弱いai_人工知能_強いai_ai"
             }
            ],
            "label": "15_弱いai_人工知能_強いai_ai",
            "method": "update"
           },
           {
            "args": [
             {
              "visible": [
               false,
               false,
               false,
               false,
               false,
               false,
               false,
               false,
               false,
               false,
               false,
               false,
               false,
               false,
               false,
               false,
               false,
               true,
               false,
               false,
               false,
               false,
               false,
               false,
               false,
               false,
               false,
               false,
               false,
               false,
               false,
               false,
               false,
               false,
               false,
               false,
               false,
               false,
               false,
               false,
               false,
               false,
               false,
               false,
               false,
               false,
               false,
               false,
               false,
               false,
               false
              ]
             },
             {
              "title": "16_高速フーリエ変換_高速フーリエ変換について_高速フーリエ変換について学んだ_高速フーリエ変換の仕組み"
             }
            ],
            "label": "16_高速フーリエ変換_高速フーリエ変換について_高速フーリエ変換について学んだ_高速フーリエ変換の仕組み",
            "method": "update"
           },
           {
            "args": [
             {
              "visible": [
               false,
               false,
               false,
               false,
               false,
               false,
               false,
               false,
               false,
               false,
               false,
               false,
               false,
               false,
               false,
               false,
               false,
               false,
               true,
               false,
               false,
               false,
               false,
               false,
               false,
               false,
               false,
               false,
               false,
               false,
               false,
               false,
               false,
               false,
               false,
               false,
               false,
               false,
               false,
               false,
               false,
               false,
               false,
               false,
               false,
               false,
               false,
               false,
               false,
               false,
               false
              ]
             },
             {
              "title": "17_期末テスト_確認テスト_テスト_テストでした"
             }
            ],
            "label": "17_期末テスト_確認テスト_テスト_テストでした",
            "method": "update"
           },
           {
            "args": [
             {
              "visible": [
               false,
               false,
               false,
               false,
               false,
               false,
               false,
               false,
               false,
               false,
               false,
               false,
               false,
               false,
               false,
               false,
               false,
               false,
               false,
               true,
               false,
               false,
               false,
               false,
               false,
               false,
               false,
               false,
               false,
               false,
               false,
               false,
               false,
               false,
               false,
               false,
               false,
               false,
               false,
               false,
               false,
               false,
               false,
               false,
               false,
               false,
               false,
               false,
               false,
               false,
               false
              ]
             },
             {
              "title": "18_著作権について_財産権_著作権_70年間著作物を守る"
             }
            ],
            "label": "18_著作権について_財産権_著作権_70年間著作物を守る",
            "method": "update"
           },
           {
            "args": [
             {
              "visible": [
               false,
               false,
               false,
               false,
               false,
               false,
               false,
               false,
               false,
               false,
               false,
               false,
               false,
               false,
               false,
               false,
               false,
               false,
               false,
               false,
               true,
               false,
               false,
               false,
               false,
               false,
               false,
               false,
               false,
               false,
               false,
               false,
               false,
               false,
               false,
               false,
               false,
               false,
               false,
               false,
               false,
               false,
               false,
               false,
               false,
               false,
               false,
               false,
               false,
               false,
               false
              ]
             },
             {
              "title": "19_フーリエ級数からフーリエ変換への拡張_フーリエ級数_最大公約数を表す_フーリエ級数複素フーリエ級数の求め方"
             }
            ],
            "label": "19_フーリエ級数からフーリエ変換への拡張_フーリエ級数_最大公約数を表す_フーリエ級数複素フーリエ級数の求め方",
            "method": "update"
           },
           {
            "args": [
             {
              "visible": [
               false,
               false,
               false,
               false,
               false,
               false,
               false,
               false,
               false,
               false,
               false,
               false,
               false,
               false,
               false,
               false,
               false,
               false,
               false,
               false,
               false,
               true,
               false,
               false,
               false,
               false,
               false,
               false,
               false,
               false,
               false,
               false,
               false,
               false,
               false,
               false,
               false,
               false,
               false,
               false,
               false,
               false,
               false,
               false,
               false,
               false,
               false,
               false,
               false,
               false,
               false
              ]
             },
             {
              "title": "20_離散フーリエ変換_フーリエ変換_離散フーリエ変換について_フーリエ変換の説明"
             }
            ],
            "label": "20_離散フーリエ変換_フーリエ変換_離散フーリエ変換について_フーリエ変換の説明",
            "method": "update"
           },
           {
            "args": [
             {
              "visible": [
               false,
               false,
               false,
               false,
               false,
               false,
               false,
               false,
               false,
               false,
               false,
               false,
               false,
               false,
               false,
               false,
               false,
               false,
               false,
               false,
               false,
               false,
               true,
               false,
               false,
               false,
               false,
               false,
               false,
               false,
               false,
               false,
               false,
               false,
               false,
               false,
               false,
               false,
               false,
               false,
               false,
               false,
               false,
               false,
               false,
               false,
               false,
               false,
               false,
               false,
               false
              ]
             },
             {
              "title": "21_brーmapを用いて振り返りを行った_第七回の大まかな復讐_まとめを行うことで後半内容の復習等ができた_今日の内容は身近に感じられた"
             }
            ],
            "label": "21_brーmapを用いて振り返りを行った_第七回の大まかな復讐_まとめを行うことで後半内容の復習等ができた_今日の内容は身近に感じられた",
            "method": "update"
           },
           {
            "args": [
             {
              "visible": [
               false,
               false,
               false,
               false,
               false,
               false,
               false,
               false,
               false,
               false,
               false,
               false,
               false,
               false,
               false,
               false,
               false,
               false,
               false,
               false,
               false,
               false,
               false,
               true,
               false,
               false,
               false,
               false,
               false,
               false,
               false,
               false,
               false,
               false,
               false,
               false,
               false,
               false,
               false,
               false,
               false,
               false,
               false,
               false,
               false,
               false,
               false,
               false,
               false,
               false,
               false
              ]
             },
             {
              "title": "22_エッジ抽出_エッジ_文字_と白"
             }
            ],
            "label": "22_エッジ抽出_エッジ_文字_と白",
            "method": "update"
           },
           {
            "args": [
             {
              "visible": [
               false,
               false,
               false,
               false,
               false,
               false,
               false,
               false,
               false,
               false,
               false,
               false,
               false,
               false,
               false,
               false,
               false,
               false,
               false,
               false,
               false,
               false,
               false,
               false,
               true,
               false,
               false,
               false,
               false,
               false,
               false,
               false,
               false,
               false,
               false,
               false,
               false,
               false,
               false,
               false,
               false,
               false,
               false,
               false,
               false,
               false,
               false,
               false,
               false,
               false,
               false
              ]
             },
             {
              "title": "23_マージソートと二分探索法について_二分探索法_今回の授業ではヒープソートとマージソートについて学習した_マージソートと二分探索法"
             }
            ],
            "label": "23_マージソートと二分探索法について_二分探索法_今回の授業ではヒープソートとマージソートについて学習した_マージソートと二分探索法",
            "method": "update"
           },
           {
            "args": [
             {
              "visible": [
               false,
               false,
               false,
               false,
               false,
               false,
               false,
               false,
               false,
               false,
               false,
               false,
               false,
               false,
               false,
               false,
               false,
               false,
               false,
               false,
               false,
               false,
               false,
               false,
               false,
               true,
               false,
               false,
               false,
               false,
               false,
               false,
               false,
               false,
               false,
               false,
               false,
               false,
               false,
               false,
               false,
               false,
               false,
               false,
               false,
               false,
               false,
               false,
               false,
               false,
               false
              ]
             },
             {
              "title": "24_改竄_捏造_研究における中立や客観性研究不正となる行為共同研究において必要な倫理観利益相反九大における情報倫理規定セキュリティーの存在や内容の理解_研究者の立場として中立的"
             }
            ],
            "label": "24_改竄_捏造_研究における中立や客観性研究不正となる行為共同研究において必要な倫理観利益相反九大における情報倫理規定セキュリティーの存在や内容の理解_研究者の立場として中立的",
            "method": "update"
           },
           {
            "args": [
             {
              "visible": [
               false,
               false,
               false,
               false,
               false,
               false,
               false,
               false,
               false,
               false,
               false,
               false,
               false,
               false,
               false,
               false,
               false,
               false,
               false,
               false,
               false,
               false,
               false,
               false,
               false,
               false,
               true,
               false,
               false,
               false,
               false,
               false,
               false,
               false,
               false,
               false,
               false,
               false,
               false,
               false,
               false,
               false,
               false,
               false,
               false,
               false,
               false,
               false,
               false,
               false,
               false
              ]
             },
             {
              "title": "25_ガイダンス_ソートの大まかな概要_オリエンテーション_イントロダクション"
             }
            ],
            "label": "25_ガイダンス_ソートの大まかな概要_オリエンテーション_イントロダクション",
            "method": "update"
           },
           {
            "args": [
             {
              "visible": [
               false,
               false,
               false,
               false,
               false,
               false,
               false,
               false,
               false,
               false,
               false,
               false,
               false,
               false,
               false,
               false,
               false,
               false,
               false,
               false,
               false,
               false,
               false,
               false,
               false,
               false,
               false,
               true,
               false,
               false,
               false,
               false,
               false,
               false,
               false,
               false,
               false,
               false,
               false,
               false,
               false,
               false,
               false,
               false,
               false,
               false,
               false,
               false,
               false,
               false,
               false
              ]
             },
             {
              "title": "26_授業の進め方の説明_授業が終わったらその回の日誌ノート要点整理を作成して投稿するまた演習課題も実施して提出する_授業当日にはその日の範囲の内容の説明と課題の指示がなされるのでしっかりと理解しメモを取っておく内容の説明を聞きながらbookroll上でキーワードにマーカーを引くわかった_黄色moodleを利用してログインするその後黄色moodle内のリンクから青色moodleに移動しteamsによるオンライン授業への接続を行う水色moodle内のbookrollを併用して講義を受講しノートを作成する講義が終了したら水色moodle内の振り返り日誌そして黄色moodle内の学習状況アンケートを記入する次回の講義までに講義内で指示された演習を解き作成したノートと演習をそれぞれの提出先に提出するさらにbookrollを用いて次回の授業の予習をする"
             }
            ],
            "label": "26_授業の進め方の説明_授業が終わったらその回の日誌ノート要点整理を作成して投稿するまた演習課題も実施して提出する_授業当日にはその日の範囲の内容の説明と課題の指示がなされるのでしっかりと理解しメモを取っておく内容の説明を聞きながらbookroll上でキーワードにマーカーを引くわかった_黄色moodleを利用してログインするその後黄色moodle内のリンクから青色moodleに移動しteamsによるオンライン授業への接続を行う水色moodle内のbookrollを併用して講義を受講しノートを作成する講義が終了したら水色moodle内の振り返り日誌そして黄色moodle内の学習状況アンケートを記入する次回の講義までに講義内で指示された演習を解き作成したノートと演習をそれぞれの提出先に提出するさらにbookrollを用いて次回の授業の予習をする",
            "method": "update"
           },
           {
            "args": [
             {
              "visible": [
               false,
               false,
               false,
               false,
               false,
               false,
               false,
               false,
               false,
               false,
               false,
               false,
               false,
               false,
               false,
               false,
               false,
               false,
               false,
               false,
               false,
               false,
               false,
               false,
               false,
               false,
               false,
               false,
               true,
               false,
               false,
               false,
               false,
               false,
               false,
               false,
               false,
               false,
               false,
               false,
               false,
               false,
               false,
               false,
               false,
               false,
               false,
               false,
               false,
               false,
               false
              ]
             },
             {
              "title": "27_2fm_連続信号の標本化の精度に関わる標本化定理やナイキスト周波数などについての内容_とインパルス列の積として表現できる_fs"
             }
            ],
            "label": "27_2fm_連続信号の標本化の精度に関わる標本化定理やナイキスト周波数などについての内容_とインパルス列の積として表現できる_fs",
            "method": "update"
           },
           {
            "args": [
             {
              "visible": [
               false,
               false,
               false,
               false,
               false,
               false,
               false,
               false,
               false,
               false,
               false,
               false,
               false,
               false,
               false,
               false,
               false,
               false,
               false,
               false,
               false,
               false,
               false,
               false,
               false,
               false,
               false,
               false,
               false,
               true,
               false,
               false,
               false,
               false,
               false,
               false,
               false,
               false,
               false,
               false,
               false,
               false,
               false,
               false,
               false,
               false,
               false,
               false,
               false,
               false,
               false
              ]
             },
             {
              "title": "28_回帰_相関_時系列_検定"
             }
            ],
            "label": "28_回帰_相関_時系列_検定",
            "method": "update"
           },
           {
            "args": [
             {
              "visible": [
               false,
               false,
               false,
               false,
               false,
               false,
               false,
               false,
               false,
               false,
               false,
               false,
               false,
               false,
               false,
               false,
               false,
               false,
               false,
               false,
               false,
               false,
               false,
               false,
               false,
               false,
               false,
               false,
               false,
               false,
               true,
               false,
               false,
               false,
               false,
               false,
               false,
               false,
               false,
               false,
               false,
               false,
               false,
               false,
               false,
               false,
               false,
               false,
               false,
               false,
               false
              ]
             },
             {
              "title": "29_フーリエ級数について学んだ_これからの授業で何を学ぶかや計算とは何かについて例を用いて学んだ_高校の数学でもかじった相関について学んだ_フーリエ級数は以前一度習ったが忘れていた"
             }
            ],
            "label": "29_フーリエ級数について学んだ_これからの授業で何を学ぶかや計算とは何かについて例を用いて学んだ_高校の数学でもかじった相関について学んだ_フーリエ級数は以前一度習ったが忘れていた",
            "method": "update"
           },
           {
            "args": [
             {
              "visible": [
               false,
               false,
               false,
               false,
               false,
               false,
               false,
               false,
               false,
               false,
               false,
               false,
               false,
               false,
               false,
               false,
               false,
               false,
               false,
               false,
               false,
               false,
               false,
               false,
               false,
               false,
               false,
               false,
               false,
               false,
               false,
               true,
               false,
               false,
               false,
               false,
               false,
               false,
               false,
               false,
               false,
               false,
               false,
               false,
               false,
               false,
               false,
               false,
               false,
               false,
               false
              ]
             },
             {
              "title": "30_フーリエ級数表現_sincos_周期的な信号はフーリエ級数によって表現できるつまりいろいろな正弦波の足し合わせで表現できるのであるフーリエ級数はオイラーの公式を用いて複素フーリエ級数に変換できる複素フーリエ級数の方がフーリエ級数よりも簡潔に表現できる_複素フーリエ級数とフーリエ級数はオイラーの公式を用いて互いに変形できる"
             }
            ],
            "label": "30_フーリエ級数表現_sincos_周期的な信号はフーリエ級数によって表現できるつまりいろいろな正弦波の足し合わせで表現できるのであるフーリエ級数はオイラーの公式を用いて複素フーリエ級数に変換できる複素フーリエ級数の方がフーリエ級数よりも簡潔に表現できる_複素フーリエ級数とフーリエ級数はオイラーの公式を用いて互いに変形できる",
            "method": "update"
           },
           {
            "args": [
             {
              "visible": [
               false,
               false,
               false,
               false,
               false,
               false,
               false,
               false,
               false,
               false,
               false,
               false,
               false,
               false,
               false,
               false,
               false,
               false,
               false,
               false,
               false,
               false,
               false,
               false,
               false,
               false,
               false,
               false,
               false,
               false,
               false,
               false,
               true,
               false,
               false,
               false,
               false,
               false,
               false,
               false,
               false,
               false,
               false,
               false,
               false,
               false,
               false,
               false,
               false,
               false,
               false
              ]
             },
             {
              "title": "31_firの設計には窓関数が用いられる手順は次のとおりである①所望の振幅特性を求める②インパルス応答を求める③窓関数を掛け合わせて有限個のインパルス応答を取り出す④因果性を満たすようにする⑤h_フィルタの次数が大きいほど望む周波数特性に近づくが演算量が増えるという欠点もある_通過域_窓関数を工夫することで理想に近づける"
             }
            ],
            "label": "31_firの設計には窓関数が用いられる手順は次のとおりである①所望の振幅特性を求める②インパルス応答を求める③窓関数を掛け合わせて有限個のインパルス応答を取り出す④因果性を満たすようにする⑤h_フィルタの次数が大きいほど望む周波数特性に近づくが演算量が増えるという欠点もある_通過域_窓関数を工夫することで理想に近づける",
            "method": "update"
           },
           {
            "args": [
             {
              "visible": [
               false,
               false,
               false,
               false,
               false,
               false,
               false,
               false,
               false,
               false,
               false,
               false,
               false,
               false,
               false,
               false,
               false,
               false,
               false,
               false,
               false,
               false,
               false,
               false,
               false,
               false,
               false,
               false,
               false,
               false,
               false,
               false,
               false,
               true,
               false,
               false,
               false,
               false,
               false,
               false,
               false,
               false,
               false,
               false,
               false,
               false,
               false,
               false,
               false,
               false,
               false
              ]
             },
             {
              "title": "32_離散フーリエ変換の性質について学んだ_離散フーリエ変換について学んだ_フーリエ変換の性質などを学習したりした_フーリエ変換の性質を学んだ"
             }
            ],
            "label": "32_離散フーリエ変換の性質について学んだ_離散フーリエ変換について学んだ_フーリエ変換の性質などを学習したりした_フーリエ変換の性質を学んだ",
            "method": "update"
           },
           {
            "args": [
             {
              "visible": [
               false,
               false,
               false,
               false,
               false,
               false,
               false,
               false,
               false,
               false,
               false,
               false,
               false,
               false,
               false,
               false,
               false,
               false,
               false,
               false,
               false,
               false,
               false,
               false,
               false,
               false,
               false,
               false,
               false,
               false,
               false,
               false,
               false,
               false,
               true,
               false,
               false,
               false,
               false,
               false,
               false,
               false,
               false,
               false,
               false,
               false,
               false,
               false,
               false,
               false,
               false
              ]
             },
             {
              "title": "33_標本化について_標本化_標本化定理_サンプリングと標本化定理について"
             }
            ],
            "label": "33_標本化について_標本化_標本化定理_サンプリングと標本化定理について",
            "method": "update"
           },
           {
            "args": [
             {
              "visible": [
               false,
               false,
               false,
               false,
               false,
               false,
               false,
               false,
               false,
               false,
               false,
               false,
               false,
               false,
               false,
               false,
               false,
               false,
               false,
               false,
               false,
               false,
               false,
               false,
               false,
               false,
               false,
               false,
               false,
               false,
               false,
               false,
               false,
               false,
               false,
               true,
               false,
               false,
               false,
               false,
               false,
               false,
               false,
               false,
               false,
               false,
               false,
               false,
               false,
               false,
               false
              ]
             },
             {
              "title": "34_ディジタルフィルタの設計_ディジタルフィルタ設計の考え方_firフィルタは窓関数法で設計できる_フィルターの作成手法"
             }
            ],
            "label": "34_ディジタルフィルタの設計_ディジタルフィルタ設計の考え方_firフィルタは窓関数法で設計できる_フィルターの作成手法",
            "method": "update"
           },
           {
            "args": [
             {
              "visible": [
               false,
               false,
               false,
               false,
               false,
               false,
               false,
               false,
               false,
               false,
               false,
               false,
               false,
               false,
               false,
               false,
               false,
               false,
               false,
               false,
               false,
               false,
               false,
               false,
               false,
               false,
               false,
               false,
               false,
               false,
               false,
               false,
               false,
               false,
               false,
               false,
               true,
               false,
               false,
               false,
               false,
               false,
               false,
               false,
               false,
               false,
               false,
               false,
               false,
               false,
               false
              ]
             },
             {
              "title": "35_インパルス応答_差分方程式_インパルス応答伝達関数とその計算の手法_インパルス応答伝達関数などについて"
             }
            ],
            "label": "35_インパルス応答_差分方程式_インパルス応答伝達関数とその計算の手法_インパルス応答伝達関数などについて",
            "method": "update"
           },
           {
            "args": [
             {
              "visible": [
               false,
               false,
               false,
               false,
               false,
               false,
               false,
               false,
               false,
               false,
               false,
               false,
               false,
               false,
               false,
               false,
               false,
               false,
               false,
               false,
               false,
               false,
               false,
               false,
               false,
               false,
               false,
               false,
               false,
               false,
               false,
               false,
               false,
               false,
               false,
               false,
               false,
               true,
               false,
               false,
               false,
               false,
               false,
               false,
               false,
               false,
               false,
               false,
               false,
               false,
               false
              ]
             },
             {
              "title": "36_を次で定める_2進数を使って情報源を符号化する際に必要な条件について_今回の講義では前回に学んだ情報の符号化について_最適な符号を生成するために必要なこと"
             }
            ],
            "label": "36_を次で定める_2進数を使って情報源を符号化する際に必要な条件について_今回の講義では前回に学んだ情報の符号化について_最適な符号を生成するために必要なこと",
            "method": "update"
           },
           {
            "args": [
             {
              "visible": [
               false,
               false,
               false,
               false,
               false,
               false,
               false,
               false,
               false,
               false,
               false,
               false,
               false,
               false,
               false,
               false,
               false,
               false,
               false,
               false,
               false,
               false,
               false,
               false,
               false,
               false,
               false,
               false,
               false,
               false,
               false,
               false,
               false,
               false,
               false,
               false,
               false,
               false,
               true,
               false,
               false,
               false,
               false,
               false,
               false,
               false,
               false,
               false,
               false,
               false,
               false
              ]
             },
             {
              "title": "37_可視化の種類_可視化について_可視化とその手法_可視化とは何かやいろいろな可視化手法について学んだ"
             }
            ],
            "label": "37_可視化の種類_可視化について_可視化とその手法_可視化とは何かやいろいろな可視化手法について学んだ",
            "method": "update"
           },
           {
            "args": [
             {
              "visible": [
               false,
               false,
               false,
               false,
               false,
               false,
               false,
               false,
               false,
               false,
               false,
               false,
               false,
               false,
               false,
               false,
               false,
               false,
               false,
               false,
               false,
               false,
               false,
               false,
               false,
               false,
               false,
               false,
               false,
               false,
               false,
               false,
               false,
               false,
               false,
               false,
               false,
               false,
               false,
               true,
               false,
               false,
               false,
               false,
               false,
               false,
               false,
               false,
               false,
               false,
               false
              ]
             },
             {
              "title": "38_研究倫理情報倫理について_研究における不正や情報の倫理_研究における倫理と情報の扱い_研究倫理と研究者が良識を持って遵守すべき規範"
             }
            ],
            "label": "38_研究倫理情報倫理について_研究における不正や情報の倫理_研究における倫理と情報の扱い_研究倫理と研究者が良識を持って遵守すべき規範",
            "method": "update"
           },
           {
            "args": [
             {
              "visible": [
               false,
               false,
               false,
               false,
               false,
               false,
               false,
               false,
               false,
               false,
               false,
               false,
               false,
               false,
               false,
               false,
               false,
               false,
               false,
               false,
               false,
               false,
               false,
               false,
               false,
               false,
               false,
               false,
               false,
               false,
               false,
               false,
               false,
               false,
               false,
               false,
               false,
               false,
               false,
               false,
               true,
               false,
               false,
               false,
               false,
               false,
               false,
               false,
               false,
               false,
               false
              ]
             },
             {
              "title": "39_画像について_相関について_相関_画像のエッジに関して"
             }
            ],
            "label": "39_画像について_相関について_相関_画像のエッジに関して",
            "method": "update"
           },
           {
            "args": [
             {
              "visible": [
               false,
               false,
               false,
               false,
               false,
               false,
               false,
               false,
               false,
               false,
               false,
               false,
               false,
               false,
               false,
               false,
               false,
               false,
               false,
               false,
               false,
               false,
               false,
               false,
               false,
               false,
               false,
               false,
               false,
               false,
               false,
               false,
               false,
               false,
               false,
               false,
               false,
               false,
               false,
               false,
               false,
               true,
               false,
               false,
               false,
               false,
               false,
               false,
               false,
               false,
               false
              ]
             },
             {
              "title": "40_逆z変換_逆z変換について_逆z変換を解く_逆z変換の求め方に関しての講義"
             }
            ],
            "label": "40_逆z変換_逆z変換について_逆z変換を解く_逆z変換の求め方に関しての講義",
            "method": "update"
           },
           {
            "args": [
             {
              "visible": [
               false,
               false,
               false,
               false,
               false,
               false,
               false,
               false,
               false,
               false,
               false,
               false,
               false,
               false,
               false,
               false,
               false,
               false,
               false,
               false,
               false,
               false,
               false,
               false,
               false,
               false,
               false,
               false,
               false,
               false,
               false,
               false,
               false,
               false,
               false,
               false,
               false,
               false,
               false,
               false,
               false,
               false,
               true,
               false,
               false,
               false,
               false,
               false,
               false,
               false,
               false
              ]
             },
             {
              "title": "41_ディジタルフィルタの概要を学んだ_ディジタルフィルタの種類やその設計方法について学んだ_本日はディジタルフィルタについて学んだまたflrフィルタの場合での設計がどのような手順で行われるか学ぶことが重要である_多様な種類のフィルタについてとフィルタを設計する際に用いる窓関数について学習した"
             }
            ],
            "label": "41_ディジタルフィルタの概要を学んだ_ディジタルフィルタの種類やその設計方法について学んだ_本日はディジタルフィルタについて学んだまたflrフィルタの場合での設計がどのような手順で行われるか学ぶことが重要である_多様な種類のフィルタについてとフィルタを設計する際に用いる窓関数について学習した",
            "method": "update"
           },
           {
            "args": [
             {
              "visible": [
               false,
               false,
               false,
               false,
               false,
               false,
               false,
               false,
               false,
               false,
               false,
               false,
               false,
               false,
               false,
               false,
               false,
               false,
               false,
               false,
               false,
               false,
               false,
               false,
               false,
               false,
               false,
               false,
               false,
               false,
               false,
               false,
               false,
               false,
               false,
               false,
               false,
               false,
               false,
               false,
               false,
               false,
               false,
               true,
               false,
               false,
               false,
               false,
               false,
               false,
               false
              ]
             },
             {
              "title": "42_授業のガイダンス_ictの進んだ現代において増加しているセキュリティインシデントとその対策_ガイダンス授業の進め方_講義のガイダンス使用するツール類の説明と試用"
             }
            ],
            "label": "42_授業のガイダンス_ictの進んだ現代において増加しているセキュリティインシデントとその対策_ガイダンス授業の進め方_講義のガイダンス使用するツール類の説明と試用",
            "method": "update"
           },
           {
            "args": [
             {
              "visible": [
               false,
               false,
               false,
               false,
               false,
               false,
               false,
               false,
               false,
               false,
               false,
               false,
               false,
               false,
               false,
               false,
               false,
               false,
               false,
               false,
               false,
               false,
               false,
               false,
               false,
               false,
               false,
               false,
               false,
               false,
               false,
               false,
               false,
               false,
               false,
               false,
               false,
               false,
               false,
               false,
               false,
               false,
               false,
               false,
               true,
               false,
               false,
               false,
               false,
               false,
               false
              ]
             },
             {
              "title": "43_線形不変システムにインパルス関数を加えたものがインパルス応答となる_線形時不変システムの数学的な表現方法について学んだ_線形時不変システムの出力は差分方程式で表現されそこから伝達関数の形を考えることができる_線形時不変システムの入出力"
             }
            ],
            "label": "43_線形不変システムにインパルス関数を加えたものがインパルス応答となる_線形時不変システムの数学的な表現方法について学んだ_線形時不変システムの出力は差分方程式で表現されそこから伝達関数の形を考えることができる_線形時不変システムの入出力",
            "method": "update"
           },
           {
            "args": [
             {
              "visible": [
               false,
               false,
               false,
               false,
               false,
               false,
               false,
               false,
               false,
               false,
               false,
               false,
               false,
               false,
               false,
               false,
               false,
               false,
               false,
               false,
               false,
               false,
               false,
               false,
               false,
               false,
               false,
               false,
               false,
               false,
               false,
               false,
               false,
               false,
               false,
               false,
               false,
               false,
               false,
               false,
               false,
               false,
               false,
               false,
               false,
               true,
               false,
               false,
               false,
               false,
               false
              ]
             },
             {
              "title": "44_標本化定理について学習した_また標本化定理の意味についても学習した_標本化定理の説明とその条件について学んだ_標本化定理の条件について学んだ"
             }
            ],
            "label": "44_標本化定理について学習した_また標本化定理の意味についても学習した_標本化定理の説明とその条件について学んだ_標本化定理の条件について学んだ",
            "method": "update"
           },
           {
            "args": [
             {
              "visible": [
               false,
               false,
               false,
               false,
               false,
               false,
               false,
               false,
               false,
               false,
               false,
               false,
               false,
               false,
               false,
               false,
               false,
               false,
               false,
               false,
               false,
               false,
               false,
               false,
               false,
               false,
               false,
               false,
               false,
               false,
               false,
               false,
               false,
               false,
               false,
               false,
               false,
               false,
               false,
               false,
               false,
               false,
               false,
               false,
               false,
               false,
               true,
               false,
               false,
               false,
               false
              ]
             },
             {
              "title": "45_ヒープソートとマージソートについて_ソートまとめ_マージソートの概要具体例の説明_ヒープソートマージソートについて知る"
             }
            ],
            "label": "45_ヒープソートとマージソートについて_ソートまとめ_マージソートの概要具体例の説明_ヒープソートマージソートについて知る",
            "method": "update"
           },
           {
            "args": [
             {
              "visible": [
               false,
               false,
               false,
               false,
               false,
               false,
               false,
               false,
               false,
               false,
               false,
               false,
               false,
               false,
               false,
               false,
               false,
               false,
               false,
               false,
               false,
               false,
               false,
               false,
               false,
               false,
               false,
               false,
               false,
               false,
               false,
               false,
               false,
               false,
               false,
               false,
               false,
               false,
               false,
               false,
               false,
               false,
               false,
               false,
               false,
               false,
               false,
               true,
               false,
               false,
               false
              ]
             },
             {
              "title": "46_周波数特性は振幅と位相の2種類を2種類を表す因果性と安定性をみたすシステムは全ての極が単位円内にそんざいしなければならない_周波数特性とは入力信号がシステムによって受ける変化を表しておりシステム関数の大きさと偏角を合わせたものである_安定性零点極_システム関数や周波数特性安定なシステムについて"
             }
            ],
            "label": "46_周波数特性は振幅と位相の2種類を2種類を表す因果性と安定性をみたすシステムは全ての極が単位円内にそんざいしなければならない_周波数特性とは入力信号がシステムによって受ける変化を表しておりシステム関数の大きさと偏角を合わせたものである_安定性零点極_システム関数や周波数特性安定なシステムについて",
            "method": "update"
           },
           {
            "args": [
             {
              "visible": [
               false,
               false,
               false,
               false,
               false,
               false,
               false,
               false,
               false,
               false,
               false,
               false,
               false,
               false,
               false,
               false,
               false,
               false,
               false,
               false,
               false,
               false,
               false,
               false,
               false,
               false,
               false,
               false,
               false,
               false,
               false,
               false,
               false,
               false,
               false,
               false,
               false,
               false,
               false,
               false,
               false,
               false,
               false,
               false,
               false,
               false,
               false,
               false,
               true,
               false,
               false
              ]
             },
             {
              "title": "47_非周期関数まで含めた一般的なフーリエ変換とその性質について_非周期関数のフーリエ級数からフーリエ変換を学んだ_非周期関数に適用_非周期関数に対するフーリエ変換について学んだ"
             }
            ],
            "label": "47_非周期関数まで含めた一般的なフーリエ変換とその性質について_非周期関数のフーリエ級数からフーリエ変換を学んだ_非周期関数に適用_非周期関数に対するフーリエ変換について学んだ",
            "method": "update"
           },
           {
            "args": [
             {
              "visible": [
               false,
               false,
               false,
               false,
               false,
               false,
               false,
               false,
               false,
               false,
               false,
               false,
               false,
               false,
               false,
               false,
               false,
               false,
               false,
               false,
               false,
               false,
               false,
               false,
               false,
               false,
               false,
               false,
               false,
               false,
               false,
               false,
               false,
               false,
               false,
               false,
               false,
               false,
               false,
               false,
               false,
               false,
               false,
               false,
               false,
               false,
               false,
               false,
               false,
               true,
               false
              ]
             },
             {
              "title": "48_ディジタルフィルタについて_ディジタルフィルタ_フィルタ_フィルタの説明"
             }
            ],
            "label": "48_ディジタルフィルタについて_ディジタルフィルタ_フィルタ_フィルタの説明",
            "method": "update"
           },
           {
            "args": [
             {
              "visible": [
               false,
               false,
               false,
               false,
               false,
               false,
               false,
               false,
               false,
               false,
               false,
               false,
               false,
               false,
               false,
               false,
               false,
               false,
               false,
               false,
               false,
               false,
               false,
               false,
               false,
               false,
               false,
               false,
               false,
               false,
               false,
               false,
               false,
               false,
               false,
               false,
               false,
               false,
               false,
               false,
               false,
               false,
               false,
               false,
               false,
               false,
               false,
               false,
               false,
               false,
               true
              ]
             },
             {
              "title": "49_マージソートと2分探索法_ヒープソートアルゴリズムとマージソートアルゴリズムについて_二分探索の概要_マージソート比較ソートアルゴリズム2分探索アルゴリズム"
             }
            ],
            "label": "49_マージソートと2分探索法_ヒープソートアルゴリズムとマージソートアルゴリズムについて_二分探索の概要_マージソート比較ソートアルゴリズム2分探索アルゴリズム",
            "method": "update"
           }
          ]
         }
        ],
        "template": {
         "data": {
          "bar": [
           {
            "error_x": {
             "color": "#2a3f5f"
            },
            "error_y": {
             "color": "#2a3f5f"
            },
            "marker": {
             "line": {
              "color": "#E5ECF6",
              "width": 0.5
             },
             "pattern": {
              "fillmode": "overlay",
              "size": 10,
              "solidity": 0.2
             }
            },
            "type": "bar"
           }
          ],
          "barpolar": [
           {
            "marker": {
             "line": {
              "color": "#E5ECF6",
              "width": 0.5
             },
             "pattern": {
              "fillmode": "overlay",
              "size": 10,
              "solidity": 0.2
             }
            },
            "type": "barpolar"
           }
          ],
          "carpet": [
           {
            "aaxis": {
             "endlinecolor": "#2a3f5f",
             "gridcolor": "white",
             "linecolor": "white",
             "minorgridcolor": "white",
             "startlinecolor": "#2a3f5f"
            },
            "baxis": {
             "endlinecolor": "#2a3f5f",
             "gridcolor": "white",
             "linecolor": "white",
             "minorgridcolor": "white",
             "startlinecolor": "#2a3f5f"
            },
            "type": "carpet"
           }
          ],
          "choropleth": [
           {
            "colorbar": {
             "outlinewidth": 0,
             "ticks": ""
            },
            "type": "choropleth"
           }
          ],
          "contour": [
           {
            "colorbar": {
             "outlinewidth": 0,
             "ticks": ""
            },
            "colorscale": [
             [
              0,
              "#0d0887"
             ],
             [
              0.1111111111111111,
              "#46039f"
             ],
             [
              0.2222222222222222,
              "#7201a8"
             ],
             [
              0.3333333333333333,
              "#9c179e"
             ],
             [
              0.4444444444444444,
              "#bd3786"
             ],
             [
              0.5555555555555556,
              "#d8576b"
             ],
             [
              0.6666666666666666,
              "#ed7953"
             ],
             [
              0.7777777777777778,
              "#fb9f3a"
             ],
             [
              0.8888888888888888,
              "#fdca26"
             ],
             [
              1,
              "#f0f921"
             ]
            ],
            "type": "contour"
           }
          ],
          "contourcarpet": [
           {
            "colorbar": {
             "outlinewidth": 0,
             "ticks": ""
            },
            "type": "contourcarpet"
           }
          ],
          "heatmap": [
           {
            "colorbar": {
             "outlinewidth": 0,
             "ticks": ""
            },
            "colorscale": [
             [
              0,
              "#0d0887"
             ],
             [
              0.1111111111111111,
              "#46039f"
             ],
             [
              0.2222222222222222,
              "#7201a8"
             ],
             [
              0.3333333333333333,
              "#9c179e"
             ],
             [
              0.4444444444444444,
              "#bd3786"
             ],
             [
              0.5555555555555556,
              "#d8576b"
             ],
             [
              0.6666666666666666,
              "#ed7953"
             ],
             [
              0.7777777777777778,
              "#fb9f3a"
             ],
             [
              0.8888888888888888,
              "#fdca26"
             ],
             [
              1,
              "#f0f921"
             ]
            ],
            "type": "heatmap"
           }
          ],
          "heatmapgl": [
           {
            "colorbar": {
             "outlinewidth": 0,
             "ticks": ""
            },
            "colorscale": [
             [
              0,
              "#0d0887"
             ],
             [
              0.1111111111111111,
              "#46039f"
             ],
             [
              0.2222222222222222,
              "#7201a8"
             ],
             [
              0.3333333333333333,
              "#9c179e"
             ],
             [
              0.4444444444444444,
              "#bd3786"
             ],
             [
              0.5555555555555556,
              "#d8576b"
             ],
             [
              0.6666666666666666,
              "#ed7953"
             ],
             [
              0.7777777777777778,
              "#fb9f3a"
             ],
             [
              0.8888888888888888,
              "#fdca26"
             ],
             [
              1,
              "#f0f921"
             ]
            ],
            "type": "heatmapgl"
           }
          ],
          "histogram": [
           {
            "marker": {
             "pattern": {
              "fillmode": "overlay",
              "size": 10,
              "solidity": 0.2
             }
            },
            "type": "histogram"
           }
          ],
          "histogram2d": [
           {
            "colorbar": {
             "outlinewidth": 0,
             "ticks": ""
            },
            "colorscale": [
             [
              0,
              "#0d0887"
             ],
             [
              0.1111111111111111,
              "#46039f"
             ],
             [
              0.2222222222222222,
              "#7201a8"
             ],
             [
              0.3333333333333333,
              "#9c179e"
             ],
             [
              0.4444444444444444,
              "#bd3786"
             ],
             [
              0.5555555555555556,
              "#d8576b"
             ],
             [
              0.6666666666666666,
              "#ed7953"
             ],
             [
              0.7777777777777778,
              "#fb9f3a"
             ],
             [
              0.8888888888888888,
              "#fdca26"
             ],
             [
              1,
              "#f0f921"
             ]
            ],
            "type": "histogram2d"
           }
          ],
          "histogram2dcontour": [
           {
            "colorbar": {
             "outlinewidth": 0,
             "ticks": ""
            },
            "colorscale": [
             [
              0,
              "#0d0887"
             ],
             [
              0.1111111111111111,
              "#46039f"
             ],
             [
              0.2222222222222222,
              "#7201a8"
             ],
             [
              0.3333333333333333,
              "#9c179e"
             ],
             [
              0.4444444444444444,
              "#bd3786"
             ],
             [
              0.5555555555555556,
              "#d8576b"
             ],
             [
              0.6666666666666666,
              "#ed7953"
             ],
             [
              0.7777777777777778,
              "#fb9f3a"
             ],
             [
              0.8888888888888888,
              "#fdca26"
             ],
             [
              1,
              "#f0f921"
             ]
            ],
            "type": "histogram2dcontour"
           }
          ],
          "mesh3d": [
           {
            "colorbar": {
             "outlinewidth": 0,
             "ticks": ""
            },
            "type": "mesh3d"
           }
          ],
          "parcoords": [
           {
            "line": {
             "colorbar": {
              "outlinewidth": 0,
              "ticks": ""
             }
            },
            "type": "parcoords"
           }
          ],
          "pie": [
           {
            "automargin": true,
            "type": "pie"
           }
          ],
          "scatter": [
           {
            "fillpattern": {
             "fillmode": "overlay",
             "size": 10,
             "solidity": 0.2
            },
            "type": "scatter"
           }
          ],
          "scatter3d": [
           {
            "line": {
             "colorbar": {
              "outlinewidth": 0,
              "ticks": ""
             }
            },
            "marker": {
             "colorbar": {
              "outlinewidth": 0,
              "ticks": ""
             }
            },
            "type": "scatter3d"
           }
          ],
          "scattercarpet": [
           {
            "marker": {
             "colorbar": {
              "outlinewidth": 0,
              "ticks": ""
             }
            },
            "type": "scattercarpet"
           }
          ],
          "scattergeo": [
           {
            "marker": {
             "colorbar": {
              "outlinewidth": 0,
              "ticks": ""
             }
            },
            "type": "scattergeo"
           }
          ],
          "scattergl": [
           {
            "marker": {
             "colorbar": {
              "outlinewidth": 0,
              "ticks": ""
             }
            },
            "type": "scattergl"
           }
          ],
          "scattermapbox": [
           {
            "marker": {
             "colorbar": {
              "outlinewidth": 0,
              "ticks": ""
             }
            },
            "type": "scattermapbox"
           }
          ],
          "scatterpolar": [
           {
            "marker": {
             "colorbar": {
              "outlinewidth": 0,
              "ticks": ""
             }
            },
            "type": "scatterpolar"
           }
          ],
          "scatterpolargl": [
           {
            "marker": {
             "colorbar": {
              "outlinewidth": 0,
              "ticks": ""
             }
            },
            "type": "scatterpolargl"
           }
          ],
          "scatterternary": [
           {
            "marker": {
             "colorbar": {
              "outlinewidth": 0,
              "ticks": ""
             }
            },
            "type": "scatterternary"
           }
          ],
          "surface": [
           {
            "colorbar": {
             "outlinewidth": 0,
             "ticks": ""
            },
            "colorscale": [
             [
              0,
              "#0d0887"
             ],
             [
              0.1111111111111111,
              "#46039f"
             ],
             [
              0.2222222222222222,
              "#7201a8"
             ],
             [
              0.3333333333333333,
              "#9c179e"
             ],
             [
              0.4444444444444444,
              "#bd3786"
             ],
             [
              0.5555555555555556,
              "#d8576b"
             ],
             [
              0.6666666666666666,
              "#ed7953"
             ],
             [
              0.7777777777777778,
              "#fb9f3a"
             ],
             [
              0.8888888888888888,
              "#fdca26"
             ],
             [
              1,
              "#f0f921"
             ]
            ],
            "type": "surface"
           }
          ],
          "table": [
           {
            "cells": {
             "fill": {
              "color": "#EBF0F8"
             },
             "line": {
              "color": "white"
             }
            },
            "header": {
             "fill": {
              "color": "#C8D4E3"
             },
             "line": {
              "color": "white"
             }
            },
            "type": "table"
           }
          ]
         },
         "layout": {
          "annotationdefaults": {
           "arrowcolor": "#2a3f5f",
           "arrowhead": 0,
           "arrowwidth": 1
          },
          "autotypenumbers": "strict",
          "coloraxis": {
           "colorbar": {
            "outlinewidth": 0,
            "ticks": ""
           }
          },
          "colorscale": {
           "diverging": [
            [
             0,
             "#8e0152"
            ],
            [
             0.1,
             "#c51b7d"
            ],
            [
             0.2,
             "#de77ae"
            ],
            [
             0.3,
             "#f1b6da"
            ],
            [
             0.4,
             "#fde0ef"
            ],
            [
             0.5,
             "#f7f7f7"
            ],
            [
             0.6,
             "#e6f5d0"
            ],
            [
             0.7,
             "#b8e186"
            ],
            [
             0.8,
             "#7fbc41"
            ],
            [
             0.9,
             "#4d9221"
            ],
            [
             1,
             "#276419"
            ]
           ],
           "sequential": [
            [
             0,
             "#0d0887"
            ],
            [
             0.1111111111111111,
             "#46039f"
            ],
            [
             0.2222222222222222,
             "#7201a8"
            ],
            [
             0.3333333333333333,
             "#9c179e"
            ],
            [
             0.4444444444444444,
             "#bd3786"
            ],
            [
             0.5555555555555556,
             "#d8576b"
            ],
            [
             0.6666666666666666,
             "#ed7953"
            ],
            [
             0.7777777777777778,
             "#fb9f3a"
            ],
            [
             0.8888888888888888,
             "#fdca26"
            ],
            [
             1,
             "#f0f921"
            ]
           ],
           "sequentialminus": [
            [
             0,
             "#0d0887"
            ],
            [
             0.1111111111111111,
             "#46039f"
            ],
            [
             0.2222222222222222,
             "#7201a8"
            ],
            [
             0.3333333333333333,
             "#9c179e"
            ],
            [
             0.4444444444444444,
             "#bd3786"
            ],
            [
             0.5555555555555556,
             "#d8576b"
            ],
            [
             0.6666666666666666,
             "#ed7953"
            ],
            [
             0.7777777777777778,
             "#fb9f3a"
            ],
            [
             0.8888888888888888,
             "#fdca26"
            ],
            [
             1,
             "#f0f921"
            ]
           ]
          },
          "colorway": [
           "#636efa",
           "#EF553B",
           "#00cc96",
           "#ab63fa",
           "#FFA15A",
           "#19d3f3",
           "#FF6692",
           "#B6E880",
           "#FF97FF",
           "#FECB52"
          ],
          "font": {
           "color": "#2a3f5f"
          },
          "geo": {
           "bgcolor": "white",
           "lakecolor": "white",
           "landcolor": "#E5ECF6",
           "showlakes": true,
           "showland": true,
           "subunitcolor": "white"
          },
          "hoverlabel": {
           "align": "left"
          },
          "hovermode": "closest",
          "mapbox": {
           "style": "light"
          },
          "paper_bgcolor": "white",
          "plot_bgcolor": "#E5ECF6",
          "polar": {
           "angularaxis": {
            "gridcolor": "white",
            "linecolor": "white",
            "ticks": ""
           },
           "bgcolor": "#E5ECF6",
           "radialaxis": {
            "gridcolor": "white",
            "linecolor": "white",
            "ticks": ""
           }
          },
          "scene": {
           "xaxis": {
            "backgroundcolor": "#E5ECF6",
            "gridcolor": "white",
            "gridwidth": 2,
            "linecolor": "white",
            "showbackground": true,
            "ticks": "",
            "zerolinecolor": "white"
           },
           "yaxis": {
            "backgroundcolor": "#E5ECF6",
            "gridcolor": "white",
            "gridwidth": 2,
            "linecolor": "white",
            "showbackground": true,
            "ticks": "",
            "zerolinecolor": "white"
           },
           "zaxis": {
            "backgroundcolor": "#E5ECF6",
            "gridcolor": "white",
            "gridwidth": 2,
            "linecolor": "white",
            "showbackground": true,
            "ticks": "",
            "zerolinecolor": "white"
           }
          },
          "shapedefaults": {
           "line": {
            "color": "#2a3f5f"
           }
          },
          "ternary": {
           "aaxis": {
            "gridcolor": "white",
            "linecolor": "white",
            "ticks": ""
           },
           "baxis": {
            "gridcolor": "white",
            "linecolor": "white",
            "ticks": ""
           },
           "bgcolor": "#E5ECF6",
           "caxis": {
            "gridcolor": "white",
            "linecolor": "white",
            "ticks": ""
           }
          },
          "title": {
           "x": 0.05
          },
          "xaxis": {
           "automargin": true,
           "gridcolor": "white",
           "linecolor": "white",
           "ticks": "",
           "title": {
            "standoff": 15
           },
           "zerolinecolor": "white",
           "zerolinewidth": 2
          },
          "yaxis": {
           "automargin": true,
           "gridcolor": "white",
           "linecolor": "white",
           "ticks": "",
           "title": {
            "standoff": 15
           },
           "zerolinecolor": "white",
           "zerolinewidth": 2
          }
         }
        },
        "title": {
         "text": "Label Distribution per Topic"
        },
        "xaxis": {
         "title": {
          "text": "True Labels"
         }
        },
        "yaxis": {
         "title": {
          "text": "Count"
         }
        }
       }
      },
      "text/html": [
       "<div>                            <div id=\"2e4c0f51-f372-4f60-8b68-21a29c940fcd\" class=\"plotly-graph-div\" style=\"height:525px; width:100%;\"></div>            <script type=\"text/javascript\">                require([\"plotly\"], function(Plotly) {                    window.PLOTLYENV=window.PLOTLYENV || {};                                    if (document.getElementById(\"2e4c0f51-f372-4f60-8b68-21a29c940fcd\")) {                    Plotly.newPlot(                        \"2e4c0f51-f372-4f60-8b68-21a29c940fcd\",                        [{\"name\":\"-1_\\u30b0\\u30eb\\u30fc\\u30d4\\u30f3\\u30b0_nlogn_\\u8ddd\\u96e2_logn\",\"x\":[0,1,2,3,4],\"y\":[240.0,99.0,182.0,133.0,222.0],\"type\":\"bar\"},{\"name\":\"0_\\u30b3\\u30e2\\u30f3\\u30ba_nlogn_\\u8ddd\\u96e2_2\\u56de\",\"x\":[0,1,2,3,4],\"y\":[0.0,111.0,339.0,250.0,488.0],\"type\":\"bar\"},{\"name\":\"1_\\u30d0\\u30a4_\\u5b8c\\u5168\\u6027_\\u6697\\u53f7\\u306b\\u3064\\u3044\\u3066_en\",\"x\":[0,1,2,3,4],\"y\":[104.0,118.0,28.0,2.0,59.0],\"type\":\"bar\"},{\"name\":\"2_\\u8a08\\u7b97_\\u30a2\\u30eb\\u30b4\\u30ea\\u30ba\\u30e0_\\u30b3\\u30f3\\u30d4\\u30e5\\u30fc\\u30bf_\\u554f\\u984c\",\"x\":[0,1,2,3,4],\"y\":[0.0,27.0,84.0,58.0,120.0],\"type\":\"bar\"},{\"name\":\"3_\\u7b26\\u53f7\\u8a9e\\u540c\\u58eb\\u304cs_2k_\\u30cf\\u30df\\u30f3\\u30b0\\u8ddd\\u96e2_\\u7b26\\u53f7\\u8a9e\\u540c\\u58eb\\u304c2t\",\"x\":[0,1,2,3,4],\"y\":[1.0,21.0,65.0,62.0,109.0],\"type\":\"bar\"},{\"name\":\"4_\\u60c5\\u5831\\u6e90\\u7b26\\u53f7\\u5316_\\u60c5\\u5831\\u6e90_\\u30a8\\u30f3\\u30c8\\u30ed\\u30d4\\u30fc_\\u8a9e\\u982d\\u6761\\u4ef6\",\"x\":[0,1,2,3,4],\"y\":[0.0,21.0,67.0,55.0,104.0],\"type\":\"bar\"},{\"name\":\"5_\\u96e2\\u6563\\u6642\\u9593\\u30d5\\u30fc\\u30ea\\u30a8\\u5909\\u63db\\u3068\\u96e2\\u6563\\u30d5\\u30fc\\u30ea\\u30a8\\u5909\\u63db_\\u96e2\\u6563\\u6642\\u9593\\u30b7\\u30b9\\u30c6\\u30e0_\\u96e2\\u6563\\u6642\\u9593\\u30d5\\u30fc\\u30ea\\u30a8\\u5909\\u63db\\u3068\\u96e2\\u6563\\u30d5\\u30fc\\u30ea\\u30a8\\u5909\\u63db\\u306b\\u3064\\u3044\\u3066_\\u96e2\\u6563\\u6642\\u9593\\u30d5\\u30fc\\u30ea\\u30a8\\u5909\\u63db\",\"x\":[0,1,2,3,4],\"y\":[191.0,23.0,9.0,6.0,6.0],\"type\":\"bar\"},{\"name\":\"6_\\u60c5\\u5831_\\u60c5\\u5831\\u79d1\\u5b66_\\u6587\\u7ae0_\\u60c5\\u5831\\u4f1d\\u9054\\u306e\\u6b74\\u53f2\",\"x\":[0,1,2,3,4],\"y\":[39.0,23.0,54.0,40.0,78.0],\"type\":\"bar\"},{\"name\":\"7_\\u30d1\\u30bf\\u30fc\\u30f3\\u8a8d\\u8b58_\\u30d9\\u30af\\u30c8\\u30eb_\\u753b\\u50cf\\u51e6\\u7406_\\u4f3c\\u3066\\u3044\\u308b\",\"x\":[0,1,2,3,4],\"y\":[0.0,16.0,56.0,54.0,92.0],\"type\":\"bar\"},{\"name\":\"8_log2_xy_\\u66d6\\u6627\\u3055_\\u60c5\\u5831\\u91cf\",\"x\":[0,1,2,3,4],\"y\":[0.0,22.0,73.0,54.0,44.0],\"type\":\"bar\"},{\"name\":\"9_z\\u5909\\u63db\\u306b\\u3064\\u3044\\u3066_z\\u5909\\u63db\\u306e\\u6027\\u8cea\\u9006z\\u5909\\u63db_z\\u5909\\u63db\\u306e\\u6027\\u8cea\\u3068\\u9006z\\u5909\\u63db_z\\u5909\\u63db\\u306e\\u5c0e\\u5165\",\"x\":[0,1,2,3,4],\"y\":[120.0,15.0,7.0,4.0,4.0],\"type\":\"bar\"},{\"name\":\"10_\\u77e5\\u8b58\\u30de\\u30c3\\u30d7\\u306e\\u4f5c\\u6210_\\u77e5\\u8b58\\u30de\\u30c3\\u30d7\\u306e\\u4f5c\\u88fd_\\u77e5\\u8b58\\u30de\\u30c3\\u30d7\\u4f5c\\u6210_br\",\"x\":[0,1,2,3,4],\"y\":[119.0,12.0,6.0,1.0,2.0],\"type\":\"bar\"},{\"name\":\"11_\\u76f8\\u95a2_ai_\\u8ca0\\u306e\\u76f8\\u95a2_\\u5dee\\u304c\\u306a\\u3044\",\"x\":[0,1,2,3,4],\"y\":[0.0,13.0,46.0,36.0,44.0],\"type\":\"bar\"},{\"name\":\"12_nt_\\u96e2\\u6563\\u6642\\u9593\\u4fe1\\u53f7z\\u5909\\u63db_\\u96e2\\u6563\\u6642\\u9593\\u4fe1\\u53f7\\u3068z\\u5909\\u63db_\\u03c9t\",\"x\":[0,1,2,3,4],\"y\":[101.0,12.0,11.0,1.0,4.0],\"type\":\"bar\"},{\"name\":\"13_\\u30c7\\u30a3\\u30b8\\u30bf\\u30eb\\u4fe1\\u53f7\\u51e6\\u7406\\u306e\\u6982\\u8981_\\u91cf\\u5b50\\u5316_\\u7b26\\u53f7\\u5316_\\u30a2\\u30ca\\u30ed\\u30b0\\u4fe1\\u53f7\",\"x\":[0,1,2,3,4],\"y\":[84.0,15.0,9.0,4.0,3.0],\"type\":\"bar\"},{\"name\":\"14_\\u975e\\u5468\\u671f\\u4fe1\\u53f7\\u306e\\u30d5\\u30fc\\u30ea\\u30a8\\u5909\\u63db_\\u975e\\u5468\\u671f\\u4fe1\\u53f7\\u3068\\u30d5\\u30fc\\u30ea\\u30a8\\u5909\\u63db_\\u5468\\u671f\\u4fe1\\u53f7\\u306e\\u30d5\\u30fc\\u30ea\\u30a8\\u7d1a\\u6570\\u8868\\u73fe_\\u30d5\\u30fc\\u30ea\\u30a8\\u5909\\u63db\\u306b\\u3064\\u3044\\u3066\",\"x\":[0,1,2,3,4],\"y\":[80.0,14.0,6.0,5.0,5.0],\"type\":\"bar\"},{\"name\":\"15_\\u5f31\\u3044ai_\\u4eba\\u5de5\\u77e5\\u80fd_\\u5f37\\u3044ai_ai\",\"x\":[0,1,2,3,4],\"y\":[0.0,14.0,29.0,28.0,34.0],\"type\":\"bar\"},{\"name\":\"16_\\u9ad8\\u901f\\u30d5\\u30fc\\u30ea\\u30a8\\u5909\\u63db_\\u9ad8\\u901f\\u30d5\\u30fc\\u30ea\\u30a8\\u5909\\u63db\\u306b\\u3064\\u3044\\u3066_\\u9ad8\\u901f\\u30d5\\u30fc\\u30ea\\u30a8\\u5909\\u63db\\u306b\\u3064\\u3044\\u3066\\u5b66\\u3093\\u3060_\\u9ad8\\u901f\\u30d5\\u30fc\\u30ea\\u30a8\\u5909\\u63db\\u306e\\u4ed5\\u7d44\\u307f\",\"x\":[0,1,2,3,4],\"y\":[82.0,7.0,6.0,1.0,2.0],\"type\":\"bar\"},{\"name\":\"17_\\u671f\\u672b\\u30c6\\u30b9\\u30c8_\\u78ba\\u8a8d\\u30c6\\u30b9\\u30c8_\\u30c6\\u30b9\\u30c8_\\u30c6\\u30b9\\u30c8\\u3067\\u3057\\u305f\",\"x\":[0,1,2,3,4],\"y\":[4.0,8.0,21.0,20.0,41.0],\"type\":\"bar\"},{\"name\":\"18_\\u8457\\u4f5c\\u6a29\\u306b\\u3064\\u3044\\u3066_\\u8ca1\\u7523\\u6a29_\\u8457\\u4f5c\\u6a29_70\\u5e74\\u9593\\u8457\\u4f5c\\u7269\\u3092\\u5b88\\u308b\",\"x\":[0,1,2,3,4],\"y\":[25.0,27.0,10.0,0.0,0.0],\"type\":\"bar\"},{\"name\":\"19_\\u30d5\\u30fc\\u30ea\\u30a8\\u7d1a\\u6570\\u304b\\u3089\\u30d5\\u30fc\\u30ea\\u30a8\\u5909\\u63db\\u3078\\u306e\\u62e1\\u5f35_\\u30d5\\u30fc\\u30ea\\u30a8\\u7d1a\\u6570_\\u6700\\u5927\\u516c\\u7d04\\u6570\\u3092\\u8868\\u3059_\\u30d5\\u30fc\\u30ea\\u30a8\\u7d1a\\u6570\\u8907\\u7d20\\u30d5\\u30fc\\u30ea\\u30a8\\u7d1a\\u6570\\u306e\\u6c42\\u3081\\u65b9\",\"x\":[0,1,2,3,4],\"y\":[28.0,7.0,12.0,5.0,7.0],\"type\":\"bar\"},{\"name\":\"20_\\u96e2\\u6563\\u30d5\\u30fc\\u30ea\\u30a8\\u5909\\u63db_\\u30d5\\u30fc\\u30ea\\u30a8\\u5909\\u63db_\\u96e2\\u6563\\u30d5\\u30fc\\u30ea\\u30a8\\u5909\\u63db\\u306b\\u3064\\u3044\\u3066_\\u30d5\\u30fc\\u30ea\\u30a8\\u5909\\u63db\\u306e\\u8aac\\u660e\",\"x\":[0,1,2,3,4],\"y\":[37.0,9.0,1.0,3.0,3.0],\"type\":\"bar\"},{\"name\":\"21_br\\u30fcmap\\u3092\\u7528\\u3044\\u3066\\u632f\\u308a\\u8fd4\\u308a\\u3092\\u884c\\u3063\\u305f_\\u7b2c\\u4e03\\u56de\\u306e\\u5927\\u307e\\u304b\\u306a\\u5fa9\\u8b90_\\u307e\\u3068\\u3081\\u3092\\u884c\\u3046\\u3053\\u3068\\u3067\\u5f8c\\u534a\\u5185\\u5bb9\\u306e\\u5fa9\\u7fd2\\u7b49\\u304c\\u3067\\u304d\\u305f_\\u4eca\\u65e5\\u306e\\u5185\\u5bb9\\u306f\\u8eab\\u8fd1\\u306b\\u611f\\u3058\\u3089\\u308c\\u305f\",\"x\":[0,1,2,3,4],\"y\":[22.0,6.0,3.0,11.0,5.0],\"type\":\"bar\"},{\"name\":\"22_\\u30a8\\u30c3\\u30b8\\u62bd\\u51fa_\\u30a8\\u30c3\\u30b8_\\u6587\\u5b57_\\u3068\\u767d\",\"x\":[0,1,2,3,4],\"y\":[1.0,3.0,6.0,4.0,32.0],\"type\":\"bar\"},{\"name\":\"23_\\u30de\\u30fc\\u30b8\\u30bd\\u30fc\\u30c8\\u3068\\u4e8c\\u5206\\u63a2\\u7d22\\u6cd5\\u306b\\u3064\\u3044\\u3066_\\u4e8c\\u5206\\u63a2\\u7d22\\u6cd5_\\u4eca\\u56de\\u306e\\u6388\\u696d\\u3067\\u306f\\u30d2\\u30fc\\u30d7\\u30bd\\u30fc\\u30c8\\u3068\\u30de\\u30fc\\u30b8\\u30bd\\u30fc\\u30c8\\u306b\\u3064\\u3044\\u3066\\u5b66\\u7fd2\\u3057\\u305f_\\u30de\\u30fc\\u30b8\\u30bd\\u30fc\\u30c8\\u3068\\u4e8c\\u5206\\u63a2\\u7d22\\u6cd5\",\"x\":[0,1,2,3,4],\"y\":[0.0,10.0,14.0,7.0,13.0],\"type\":\"bar\"},{\"name\":\"24_\\u6539\\u7ac4_\\u634f\\u9020_\\u7814\\u7a76\\u306b\\u304a\\u3051\\u308b\\u4e2d\\u7acb\\u3084\\u5ba2\\u89b3\\u6027\\u7814\\u7a76\\u4e0d\\u6b63\\u3068\\u306a\\u308b\\u884c\\u70ba\\u5171\\u540c\\u7814\\u7a76\\u306b\\u304a\\u3044\\u3066\\u5fc5\\u8981\\u306a\\u502b\\u7406\\u89b3\\u5229\\u76ca\\u76f8\\u53cd\\u4e5d\\u5927\\u306b\\u304a\\u3051\\u308b\\u60c5\\u5831\\u502b\\u7406\\u898f\\u5b9a\\u30bb\\u30ad\\u30e5\\u30ea\\u30c6\\u30a3\\u30fc\\u306e\\u5b58\\u5728\\u3084\\u5185\\u5bb9\\u306e\\u7406\\u89e3_\\u7814\\u7a76\\u8005\\u306e\\u7acb\\u5834\\u3068\\u3057\\u3066\\u4e2d\\u7acb\\u7684\",\"x\":[0,1,2,3,4],\"y\":[17.0,17.0,5.0,2.0,0.0],\"type\":\"bar\"},{\"name\":\"25_\\u30ac\\u30a4\\u30c0\\u30f3\\u30b9_\\u30bd\\u30fc\\u30c8\\u306e\\u5927\\u307e\\u304b\\u306a\\u6982\\u8981_\\u30aa\\u30ea\\u30a8\\u30f3\\u30c6\\u30fc\\u30b7\\u30e7\\u30f3_\\u30a4\\u30f3\\u30c8\\u30ed\\u30c0\\u30af\\u30b7\\u30e7\\u30f3\",\"x\":[0,1,2,3,4],\"y\":[9.0,3.0,7.0,6.0,8.0],\"type\":\"bar\"},{\"name\":\"26_\\u6388\\u696d\\u306e\\u9032\\u3081\\u65b9\\u306e\\u8aac\\u660e_\\u6388\\u696d\\u304c\\u7d42\\u308f\\u3063\\u305f\\u3089\\u305d\\u306e\\u56de\\u306e\\u65e5\\u8a8c\\u30ce\\u30fc\\u30c8\\u8981\\u70b9\\u6574\\u7406\\u3092\\u4f5c\\u6210\\u3057\\u3066\\u6295\\u7a3f\\u3059\\u308b\\u307e\\u305f\\u6f14\\u7fd2\\u8ab2\\u984c\\u3082\\u5b9f\\u65bd\\u3057\\u3066\\u63d0\\u51fa\\u3059\\u308b_\\u6388\\u696d\\u5f53\\u65e5\\u306b\\u306f\\u305d\\u306e\\u65e5\\u306e\\u7bc4\\u56f2\\u306e\\u5185\\u5bb9\\u306e\\u8aac\\u660e\\u3068\\u8ab2\\u984c\\u306e\\u6307\\u793a\\u304c\\u306a\\u3055\\u308c\\u308b\\u306e\\u3067\\u3057\\u3063\\u304b\\u308a\\u3068\\u7406\\u89e3\\u3057\\u30e1\\u30e2\\u3092\\u53d6\\u3063\\u3066\\u304a\\u304f\\u5185\\u5bb9\\u306e\\u8aac\\u660e\\u3092\\u805e\\u304d\\u306a\\u304c\\u3089bookroll\\u4e0a\\u3067\\u30ad\\u30fc\\u30ef\\u30fc\\u30c9\\u306b\\u30de\\u30fc\\u30ab\\u30fc\\u3092\\u5f15\\u304f\\u308f\\u304b\\u3063\\u305f_\\u9ec4\\u8272moodle\\u3092\\u5229\\u7528\\u3057\\u3066\\u30ed\\u30b0\\u30a4\\u30f3\\u3059\\u308b\\u305d\\u306e\\u5f8c\\u9ec4\\u8272moodle\\u5185\\u306e\\u30ea\\u30f3\\u30af\\u304b\\u3089\\u9752\\u8272moodle\\u306b\\u79fb\\u52d5\\u3057teams\\u306b\\u3088\\u308b\\u30aa\\u30f3\\u30e9\\u30a4\\u30f3\\u6388\\u696d\\u3078\\u306e\\u63a5\\u7d9a\\u3092\\u884c\\u3046\\u6c34\\u8272moodle\\u5185\\u306ebookroll\\u3092\\u4f75\\u7528\\u3057\\u3066\\u8b1b\\u7fa9\\u3092\\u53d7\\u8b1b\\u3057\\u30ce\\u30fc\\u30c8\\u3092\\u4f5c\\u6210\\u3059\\u308b\\u8b1b\\u7fa9\\u304c\\u7d42\\u4e86\\u3057\\u305f\\u3089\\u6c34\\u8272moodle\\u5185\\u306e\\u632f\\u308a\\u8fd4\\u308a\\u65e5\\u8a8c\\u305d\\u3057\\u3066\\u9ec4\\u8272moodle\\u5185\\u306e\\u5b66\\u7fd2\\u72b6\\u6cc1\\u30a2\\u30f3\\u30b1\\u30fc\\u30c8\\u3092\\u8a18\\u5165\\u3059\\u308b\\u6b21\\u56de\\u306e\\u8b1b\\u7fa9\\u307e\\u3067\\u306b\\u8b1b\\u7fa9\\u5185\\u3067\\u6307\\u793a\\u3055\\u308c\\u305f\\u6f14\\u7fd2\\u3092\\u89e3\\u304d\\u4f5c\\u6210\\u3057\\u305f\\u30ce\\u30fc\\u30c8\\u3068\\u6f14\\u7fd2\\u3092\\u305d\\u308c\\u305e\\u308c\\u306e\\u63d0\\u51fa\\u5148\\u306b\\u63d0\\u51fa\\u3059\\u308b\\u3055\\u3089\\u306bbookroll\\u3092\\u7528\\u3044\\u3066\\u6b21\\u56de\\u306e\\u6388\\u696d\\u306e\\u4e88\\u7fd2\\u3092\\u3059\\u308b\",\"x\":[0,1,2,3,4],\"y\":[16.0,3.0,5.0,4.0,3.0],\"type\":\"bar\"},{\"name\":\"27_2fm_\\u9023\\u7d9a\\u4fe1\\u53f7\\u306e\\u6a19\\u672c\\u5316\\u306e\\u7cbe\\u5ea6\\u306b\\u95a2\\u308f\\u308b\\u6a19\\u672c\\u5316\\u5b9a\\u7406\\u3084\\u30ca\\u30a4\\u30ad\\u30b9\\u30c8\\u5468\\u6ce2\\u6570\\u306a\\u3069\\u306b\\u3064\\u3044\\u3066\\u306e\\u5185\\u5bb9_\\u3068\\u30a4\\u30f3\\u30d1\\u30eb\\u30b9\\u5217\\u306e\\u7a4d\\u3068\\u3057\\u3066\\u8868\\u73fe\\u3067\\u304d\\u308b_fs\",\"x\":[0,1,2,3,4],\"y\":[21.0,2.0,3.0,3.0,2.0],\"type\":\"bar\"},{\"name\":\"28_\\u56de\\u5e30_\\u76f8\\u95a2_\\u6642\\u7cfb\\u5217_\\u691c\\u5b9a\",\"x\":[0,1,2,3,4],\"y\":[0.0,6.0,9.0,8.0,7.0],\"type\":\"bar\"},{\"name\":\"29_\\u30d5\\u30fc\\u30ea\\u30a8\\u7d1a\\u6570\\u306b\\u3064\\u3044\\u3066\\u5b66\\u3093\\u3060_\\u3053\\u308c\\u304b\\u3089\\u306e\\u6388\\u696d\\u3067\\u4f55\\u3092\\u5b66\\u3076\\u304b\\u3084\\u8a08\\u7b97\\u3068\\u306f\\u4f55\\u304b\\u306b\\u3064\\u3044\\u3066\\u4f8b\\u3092\\u7528\\u3044\\u3066\\u5b66\\u3093\\u3060_\\u9ad8\\u6821\\u306e\\u6570\\u5b66\\u3067\\u3082\\u304b\\u3058\\u3063\\u305f\\u76f8\\u95a2\\u306b\\u3064\\u3044\\u3066\\u5b66\\u3093\\u3060_\\u30d5\\u30fc\\u30ea\\u30a8\\u7d1a\\u6570\\u306f\\u4ee5\\u524d\\u4e00\\u5ea6\\u7fd2\\u3063\\u305f\\u304c\\u5fd8\\u308c\\u3066\\u3044\\u305f\",\"x\":[0,1,2,3,4],\"y\":[10.0,5.0,7.0,2.0,6.0],\"type\":\"bar\"},{\"name\":\"30_\\u30d5\\u30fc\\u30ea\\u30a8\\u7d1a\\u6570\\u8868\\u73fe_sincos_\\u5468\\u671f\\u7684\\u306a\\u4fe1\\u53f7\\u306f\\u30d5\\u30fc\\u30ea\\u30a8\\u7d1a\\u6570\\u306b\\u3088\\u3063\\u3066\\u8868\\u73fe\\u3067\\u304d\\u308b\\u3064\\u307e\\u308a\\u3044\\u308d\\u3044\\u308d\\u306a\\u6b63\\u5f26\\u6ce2\\u306e\\u8db3\\u3057\\u5408\\u308f\\u305b\\u3067\\u8868\\u73fe\\u3067\\u304d\\u308b\\u306e\\u3067\\u3042\\u308b\\u30d5\\u30fc\\u30ea\\u30a8\\u7d1a\\u6570\\u306f\\u30aa\\u30a4\\u30e9\\u30fc\\u306e\\u516c\\u5f0f\\u3092\\u7528\\u3044\\u3066\\u8907\\u7d20\\u30d5\\u30fc\\u30ea\\u30a8\\u7d1a\\u6570\\u306b\\u5909\\u63db\\u3067\\u304d\\u308b\\u8907\\u7d20\\u30d5\\u30fc\\u30ea\\u30a8\\u7d1a\\u6570\\u306e\\u65b9\\u304c\\u30d5\\u30fc\\u30ea\\u30a8\\u7d1a\\u6570\\u3088\\u308a\\u3082\\u7c21\\u6f54\\u306b\\u8868\\u73fe\\u3067\\u304d\\u308b_\\u8907\\u7d20\\u30d5\\u30fc\\u30ea\\u30a8\\u7d1a\\u6570\\u3068\\u30d5\\u30fc\\u30ea\\u30a8\\u7d1a\\u6570\\u306f\\u30aa\\u30a4\\u30e9\\u30fc\\u306e\\u516c\\u5f0f\\u3092\\u7528\\u3044\\u3066\\u4e92\\u3044\\u306b\\u5909\\u5f62\\u3067\\u304d\\u308b\",\"x\":[0,1,2,3,4],\"y\":[24.0,2.0,2.0,1.0,1.0],\"type\":\"bar\"},{\"name\":\"31_fir\\u306e\\u8a2d\\u8a08\\u306b\\u306f\\u7a93\\u95a2\\u6570\\u304c\\u7528\\u3044\\u3089\\u308c\\u308b\\u624b\\u9806\\u306f\\u6b21\\u306e\\u3068\\u304a\\u308a\\u3067\\u3042\\u308b\\u2460\\u6240\\u671b\\u306e\\u632f\\u5e45\\u7279\\u6027\\u3092\\u6c42\\u3081\\u308b\\u2461\\u30a4\\u30f3\\u30d1\\u30eb\\u30b9\\u5fdc\\u7b54\\u3092\\u6c42\\u3081\\u308b\\u2462\\u7a93\\u95a2\\u6570\\u3092\\u639b\\u3051\\u5408\\u308f\\u305b\\u3066\\u6709\\u9650\\u500b\\u306e\\u30a4\\u30f3\\u30d1\\u30eb\\u30b9\\u5fdc\\u7b54\\u3092\\u53d6\\u308a\\u51fa\\u3059\\u2463\\u56e0\\u679c\\u6027\\u3092\\u6e80\\u305f\\u3059\\u3088\\u3046\\u306b\\u3059\\u308b\\u2464h_\\u30d5\\u30a3\\u30eb\\u30bf\\u306e\\u6b21\\u6570\\u304c\\u5927\\u304d\\u3044\\u307b\\u3069\\u671b\\u3080\\u5468\\u6ce2\\u6570\\u7279\\u6027\\u306b\\u8fd1\\u3065\\u304f\\u304c\\u6f14\\u7b97\\u91cf\\u304c\\u5897\\u3048\\u308b\\u3068\\u3044\\u3046\\u6b20\\u70b9\\u3082\\u3042\\u308b_\\u901a\\u904e\\u57df_\\u7a93\\u95a2\\u6570\\u3092\\u5de5\\u592b\\u3059\\u308b\\u3053\\u3068\\u3067\\u7406\\u60f3\\u306b\\u8fd1\\u3065\\u3051\\u308b\",\"x\":[0,1,2,3,4],\"y\":[29.0,0.0,0.0,0.0,0.0],\"type\":\"bar\"},{\"name\":\"32_\\u96e2\\u6563\\u30d5\\u30fc\\u30ea\\u30a8\\u5909\\u63db\\u306e\\u6027\\u8cea\\u306b\\u3064\\u3044\\u3066\\u5b66\\u3093\\u3060_\\u96e2\\u6563\\u30d5\\u30fc\\u30ea\\u30a8\\u5909\\u63db\\u306b\\u3064\\u3044\\u3066\\u5b66\\u3093\\u3060_\\u30d5\\u30fc\\u30ea\\u30a8\\u5909\\u63db\\u306e\\u6027\\u8cea\\u306a\\u3069\\u3092\\u5b66\\u7fd2\\u3057\\u305f\\u308a\\u3057\\u305f_\\u30d5\\u30fc\\u30ea\\u30a8\\u5909\\u63db\\u306e\\u6027\\u8cea\\u3092\\u5b66\\u3093\\u3060\",\"x\":[0,1,2,3,4],\"y\":[21.0,5.0,3.0,0.0,0.0],\"type\":\"bar\"},{\"name\":\"33_\\u6a19\\u672c\\u5316\\u306b\\u3064\\u3044\\u3066_\\u6a19\\u672c\\u5316_\\u6a19\\u672c\\u5316\\u5b9a\\u7406_\\u30b5\\u30f3\\u30d7\\u30ea\\u30f3\\u30b0\\u3068\\u6a19\\u672c\\u5316\\u5b9a\\u7406\\u306b\\u3064\\u3044\\u3066\",\"x\":[0,1,2,3,4],\"y\":[19.0,6.0,1.0,1.0,1.0],\"type\":\"bar\"},{\"name\":\"34_\\u30c7\\u30a3\\u30b8\\u30bf\\u30eb\\u30d5\\u30a3\\u30eb\\u30bf\\u306e\\u8a2d\\u8a08_\\u30c7\\u30a3\\u30b8\\u30bf\\u30eb\\u30d5\\u30a3\\u30eb\\u30bf\\u8a2d\\u8a08\\u306e\\u8003\\u3048\\u65b9_fir\\u30d5\\u30a3\\u30eb\\u30bf\\u306f\\u7a93\\u95a2\\u6570\\u6cd5\\u3067\\u8a2d\\u8a08\\u3067\\u304d\\u308b_\\u30d5\\u30a3\\u30eb\\u30bf\\u30fc\\u306e\\u4f5c\\u6210\\u624b\\u6cd5\",\"x\":[0,1,2,3,4],\"y\":[24.0,2.0,0.0,0.0,0.0],\"type\":\"bar\"},{\"name\":\"35_\\u30a4\\u30f3\\u30d1\\u30eb\\u30b9\\u5fdc\\u7b54_\\u5dee\\u5206\\u65b9\\u7a0b\\u5f0f_\\u30a4\\u30f3\\u30d1\\u30eb\\u30b9\\u5fdc\\u7b54\\u4f1d\\u9054\\u95a2\\u6570\\u3068\\u305d\\u306e\\u8a08\\u7b97\\u306e\\u624b\\u6cd5_\\u30a4\\u30f3\\u30d1\\u30eb\\u30b9\\u5fdc\\u7b54\\u4f1d\\u9054\\u95a2\\u6570\\u306a\\u3069\\u306b\\u3064\\u3044\\u3066\",\"x\":[0,1,2,3,4],\"y\":[22.0,4.0,0.0,0.0,0.0],\"type\":\"bar\"},{\"name\":\"36_\\u3092\\u6b21\\u3067\\u5b9a\\u3081\\u308b_2\\u9032\\u6570\\u3092\\u4f7f\\u3063\\u3066\\u60c5\\u5831\\u6e90\\u3092\\u7b26\\u53f7\\u5316\\u3059\\u308b\\u969b\\u306b\\u5fc5\\u8981\\u306a\\u6761\\u4ef6\\u306b\\u3064\\u3044\\u3066_\\u4eca\\u56de\\u306e\\u8b1b\\u7fa9\\u3067\\u306f\\u524d\\u56de\\u306b\\u5b66\\u3093\\u3060\\u60c5\\u5831\\u306e\\u7b26\\u53f7\\u5316\\u306b\\u3064\\u3044\\u3066_\\u6700\\u9069\\u306a\\u7b26\\u53f7\\u3092\\u751f\\u6210\\u3059\\u308b\\u305f\\u3081\\u306b\\u5fc5\\u8981\\u306a\\u3053\\u3068\",\"x\":[0,1,2,3,4],\"y\":[0.0,5.0,9.0,7.0,5.0],\"type\":\"bar\"},{\"name\":\"37_\\u53ef\\u8996\\u5316\\u306e\\u7a2e\\u985e_\\u53ef\\u8996\\u5316\\u306b\\u3064\\u3044\\u3066_\\u53ef\\u8996\\u5316\\u3068\\u305d\\u306e\\u624b\\u6cd5_\\u53ef\\u8996\\u5316\\u3068\\u306f\\u4f55\\u304b\\u3084\\u3044\\u308d\\u3044\\u308d\\u306a\\u53ef\\u8996\\u5316\\u624b\\u6cd5\\u306b\\u3064\\u3044\\u3066\\u5b66\\u3093\\u3060\",\"x\":[0,1,2,3,4],\"y\":[0.0,2.0,6.0,5.0,11.0],\"type\":\"bar\"},{\"name\":\"38_\\u7814\\u7a76\\u502b\\u7406\\u60c5\\u5831\\u502b\\u7406\\u306b\\u3064\\u3044\\u3066_\\u7814\\u7a76\\u306b\\u304a\\u3051\\u308b\\u4e0d\\u6b63\\u3084\\u60c5\\u5831\\u306e\\u502b\\u7406_\\u7814\\u7a76\\u306b\\u304a\\u3051\\u308b\\u502b\\u7406\\u3068\\u60c5\\u5831\\u306e\\u6271\\u3044_\\u7814\\u7a76\\u502b\\u7406\\u3068\\u7814\\u7a76\\u8005\\u304c\\u826f\\u8b58\\u3092\\u6301\\u3063\\u3066\\u9075\\u5b88\\u3059\\u3079\\u304d\\u898f\\u7bc4\",\"x\":[0,1,2,3,4],\"y\":[4.0,15.0,1.0,0.0,1.0],\"type\":\"bar\"},{\"name\":\"39_\\u753b\\u50cf\\u306b\\u3064\\u3044\\u3066_\\u76f8\\u95a2\\u306b\\u3064\\u3044\\u3066_\\u76f8\\u95a2_\\u753b\\u50cf\\u306e\\u30a8\\u30c3\\u30b8\\u306b\\u95a2\\u3057\\u3066\",\"x\":[0,1,2,3,4],\"y\":[0.0,2.0,7.0,6.0,5.0],\"type\":\"bar\"},{\"name\":\"40_\\u9006z\\u5909\\u63db_\\u9006z\\u5909\\u63db\\u306b\\u3064\\u3044\\u3066_\\u9006z\\u5909\\u63db\\u3092\\u89e3\\u304f_\\u9006z\\u5909\\u63db\\u306e\\u6c42\\u3081\\u65b9\\u306b\\u95a2\\u3057\\u3066\\u306e\\u8b1b\\u7fa9\",\"x\":[0,1,2,3,4],\"y\":[15.0,2.0,1.0,1.0,0.0],\"type\":\"bar\"},{\"name\":\"41_\\u30c7\\u30a3\\u30b8\\u30bf\\u30eb\\u30d5\\u30a3\\u30eb\\u30bf\\u306e\\u6982\\u8981\\u3092\\u5b66\\u3093\\u3060_\\u30c7\\u30a3\\u30b8\\u30bf\\u30eb\\u30d5\\u30a3\\u30eb\\u30bf\\u306e\\u7a2e\\u985e\\u3084\\u305d\\u306e\\u8a2d\\u8a08\\u65b9\\u6cd5\\u306b\\u3064\\u3044\\u3066\\u5b66\\u3093\\u3060_\\u672c\\u65e5\\u306f\\u30c7\\u30a3\\u30b8\\u30bf\\u30eb\\u30d5\\u30a3\\u30eb\\u30bf\\u306b\\u3064\\u3044\\u3066\\u5b66\\u3093\\u3060\\u307e\\u305fflr\\u30d5\\u30a3\\u30eb\\u30bf\\u306e\\u5834\\u5408\\u3067\\u306e\\u8a2d\\u8a08\\u304c\\u3069\\u306e\\u3088\\u3046\\u306a\\u624b\\u9806\\u3067\\u884c\\u308f\\u308c\\u308b\\u304b\\u5b66\\u3076\\u3053\\u3068\\u304c\\u91cd\\u8981\\u3067\\u3042\\u308b_\\u591a\\u69d8\\u306a\\u7a2e\\u985e\\u306e\\u30d5\\u30a3\\u30eb\\u30bf\\u306b\\u3064\\u3044\\u3066\\u3068\\u30d5\\u30a3\\u30eb\\u30bf\\u3092\\u8a2d\\u8a08\\u3059\\u308b\\u969b\\u306b\\u7528\\u3044\\u308b\\u7a93\\u95a2\\u6570\\u306b\\u3064\\u3044\\u3066\\u5b66\\u7fd2\\u3057\\u305f\",\"x\":[0,1,2,3,4],\"y\":[13.0,2.0,1.0,1.0,0.0],\"type\":\"bar\"},{\"name\":\"42_\\u6388\\u696d\\u306e\\u30ac\\u30a4\\u30c0\\u30f3\\u30b9_ict\\u306e\\u9032\\u3093\\u3060\\u73fe\\u4ee3\\u306b\\u304a\\u3044\\u3066\\u5897\\u52a0\\u3057\\u3066\\u3044\\u308b\\u30bb\\u30ad\\u30e5\\u30ea\\u30c6\\u30a3\\u30a4\\u30f3\\u30b7\\u30c7\\u30f3\\u30c8\\u3068\\u305d\\u306e\\u5bfe\\u7b56_\\u30ac\\u30a4\\u30c0\\u30f3\\u30b9\\u6388\\u696d\\u306e\\u9032\\u3081\\u65b9_\\u8b1b\\u7fa9\\u306e\\u30ac\\u30a4\\u30c0\\u30f3\\u30b9\\u4f7f\\u7528\\u3059\\u308b\\u30c4\\u30fc\\u30eb\\u985e\\u306e\\u8aac\\u660e\\u3068\\u8a66\\u7528\",\"x\":[0,1,2,3,4],\"y\":[8.0,2.0,1.0,3.0,3.0],\"type\":\"bar\"},{\"name\":\"43_\\u7dda\\u5f62\\u4e0d\\u5909\\u30b7\\u30b9\\u30c6\\u30e0\\u306b\\u30a4\\u30f3\\u30d1\\u30eb\\u30b9\\u95a2\\u6570\\u3092\\u52a0\\u3048\\u305f\\u3082\\u306e\\u304c\\u30a4\\u30f3\\u30d1\\u30eb\\u30b9\\u5fdc\\u7b54\\u3068\\u306a\\u308b_\\u7dda\\u5f62\\u6642\\u4e0d\\u5909\\u30b7\\u30b9\\u30c6\\u30e0\\u306e\\u6570\\u5b66\\u7684\\u306a\\u8868\\u73fe\\u65b9\\u6cd5\\u306b\\u3064\\u3044\\u3066\\u5b66\\u3093\\u3060_\\u7dda\\u5f62\\u6642\\u4e0d\\u5909\\u30b7\\u30b9\\u30c6\\u30e0\\u306e\\u51fa\\u529b\\u306f\\u5dee\\u5206\\u65b9\\u7a0b\\u5f0f\\u3067\\u8868\\u73fe\\u3055\\u308c\\u305d\\u3053\\u304b\\u3089\\u4f1d\\u9054\\u95a2\\u6570\\u306e\\u5f62\\u3092\\u8003\\u3048\\u308b\\u3053\\u3068\\u304c\\u3067\\u304d\\u308b_\\u7dda\\u5f62\\u6642\\u4e0d\\u5909\\u30b7\\u30b9\\u30c6\\u30e0\\u306e\\u5165\\u51fa\\u529b\",\"x\":[0,1,2,3,4],\"y\":[14.0,0.0,2.0,0.0,0.0],\"type\":\"bar\"},{\"name\":\"44_\\u6a19\\u672c\\u5316\\u5b9a\\u7406\\u306b\\u3064\\u3044\\u3066\\u5b66\\u7fd2\\u3057\\u305f_\\u307e\\u305f\\u6a19\\u672c\\u5316\\u5b9a\\u7406\\u306e\\u610f\\u5473\\u306b\\u3064\\u3044\\u3066\\u3082\\u5b66\\u7fd2\\u3057\\u305f_\\u6a19\\u672c\\u5316\\u5b9a\\u7406\\u306e\\u8aac\\u660e\\u3068\\u305d\\u306e\\u6761\\u4ef6\\u306b\\u3064\\u3044\\u3066\\u5b66\\u3093\\u3060_\\u6a19\\u672c\\u5316\\u5b9a\\u7406\\u306e\\u6761\\u4ef6\\u306b\\u3064\\u3044\\u3066\\u5b66\\u3093\\u3060\",\"x\":[0,1,2,3,4],\"y\":[11.0,3.0,0.0,0.0,0.0],\"type\":\"bar\"},{\"name\":\"45_\\u30d2\\u30fc\\u30d7\\u30bd\\u30fc\\u30c8\\u3068\\u30de\\u30fc\\u30b8\\u30bd\\u30fc\\u30c8\\u306b\\u3064\\u3044\\u3066_\\u30bd\\u30fc\\u30c8\\u307e\\u3068\\u3081_\\u30de\\u30fc\\u30b8\\u30bd\\u30fc\\u30c8\\u306e\\u6982\\u8981\\u5177\\u4f53\\u4f8b\\u306e\\u8aac\\u660e_\\u30d2\\u30fc\\u30d7\\u30bd\\u30fc\\u30c8\\u30de\\u30fc\\u30b8\\u30bd\\u30fc\\u30c8\\u306b\\u3064\\u3044\\u3066\\u77e5\\u308b\",\"x\":[0,1,2,3,4],\"y\":[0.0,1.0,4.0,5.0,3.0],\"type\":\"bar\"},{\"name\":\"46_\\u5468\\u6ce2\\u6570\\u7279\\u6027\\u306f\\u632f\\u5e45\\u3068\\u4f4d\\u76f8\\u306e2\\u7a2e\\u985e\\u30922\\u7a2e\\u985e\\u3092\\u8868\\u3059\\u56e0\\u679c\\u6027\\u3068\\u5b89\\u5b9a\\u6027\\u3092\\u307f\\u305f\\u3059\\u30b7\\u30b9\\u30c6\\u30e0\\u306f\\u5168\\u3066\\u306e\\u6975\\u304c\\u5358\\u4f4d\\u5186\\u5185\\u306b\\u305d\\u3093\\u3056\\u3044\\u3057\\u306a\\u3051\\u308c\\u3070\\u306a\\u3089\\u306a\\u3044_\\u5468\\u6ce2\\u6570\\u7279\\u6027\\u3068\\u306f\\u5165\\u529b\\u4fe1\\u53f7\\u304c\\u30b7\\u30b9\\u30c6\\u30e0\\u306b\\u3088\\u3063\\u3066\\u53d7\\u3051\\u308b\\u5909\\u5316\\u3092\\u8868\\u3057\\u3066\\u304a\\u308a\\u30b7\\u30b9\\u30c6\\u30e0\\u95a2\\u6570\\u306e\\u5927\\u304d\\u3055\\u3068\\u504f\\u89d2\\u3092\\u5408\\u308f\\u305b\\u305f\\u3082\\u306e\\u3067\\u3042\\u308b_\\u5b89\\u5b9a\\u6027\\u96f6\\u70b9\\u6975_\\u30b7\\u30b9\\u30c6\\u30e0\\u95a2\\u6570\\u3084\\u5468\\u6ce2\\u6570\\u7279\\u6027\\u5b89\\u5b9a\\u306a\\u30b7\\u30b9\\u30c6\\u30e0\\u306b\\u3064\\u3044\\u3066\",\"x\":[0,1,2,3,4],\"y\":[11.0,1.0,0.0,0.0,0.0],\"type\":\"bar\"},{\"name\":\"47_\\u975e\\u5468\\u671f\\u95a2\\u6570\\u307e\\u3067\\u542b\\u3081\\u305f\\u4e00\\u822c\\u7684\\u306a\\u30d5\\u30fc\\u30ea\\u30a8\\u5909\\u63db\\u3068\\u305d\\u306e\\u6027\\u8cea\\u306b\\u3064\\u3044\\u3066_\\u975e\\u5468\\u671f\\u95a2\\u6570\\u306e\\u30d5\\u30fc\\u30ea\\u30a8\\u7d1a\\u6570\\u304b\\u3089\\u30d5\\u30fc\\u30ea\\u30a8\\u5909\\u63db\\u3092\\u5b66\\u3093\\u3060_\\u975e\\u5468\\u671f\\u95a2\\u6570\\u306b\\u9069\\u7528_\\u975e\\u5468\\u671f\\u95a2\\u6570\\u306b\\u5bfe\\u3059\\u308b\\u30d5\\u30fc\\u30ea\\u30a8\\u5909\\u63db\\u306b\\u3064\\u3044\\u3066\\u5b66\\u3093\\u3060\",\"x\":[0,1,2,3,4],\"y\":[8.0,2.0,2.0,0.0,0.0],\"type\":\"bar\"},{\"name\":\"48_\\u30c7\\u30a3\\u30b8\\u30bf\\u30eb\\u30d5\\u30a3\\u30eb\\u30bf\\u306b\\u3064\\u3044\\u3066_\\u30c7\\u30a3\\u30b8\\u30bf\\u30eb\\u30d5\\u30a3\\u30eb\\u30bf_\\u30d5\\u30a3\\u30eb\\u30bf_\\u30d5\\u30a3\\u30eb\\u30bf\\u306e\\u8aac\\u660e\",\"x\":[0,1,2,3,4],\"y\":[12.0,0.0,0.0,0.0,0.0],\"type\":\"bar\"},{\"name\":\"49_\\u30de\\u30fc\\u30b8\\u30bd\\u30fc\\u30c8\\u30682\\u5206\\u63a2\\u7d22\\u6cd5_\\u30d2\\u30fc\\u30d7\\u30bd\\u30fc\\u30c8\\u30a2\\u30eb\\u30b4\\u30ea\\u30ba\\u30e0\\u3068\\u30de\\u30fc\\u30b8\\u30bd\\u30fc\\u30c8\\u30a2\\u30eb\\u30b4\\u30ea\\u30ba\\u30e0\\u306b\\u3064\\u3044\\u3066_\\u4e8c\\u5206\\u63a2\\u7d22\\u306e\\u6982\\u8981_\\u30de\\u30fc\\u30b8\\u30bd\\u30fc\\u30c8\\u6bd4\\u8f03\\u30bd\\u30fc\\u30c8\\u30a2\\u30eb\\u30b4\\u30ea\\u30ba\\u30e02\\u5206\\u63a2\\u7d22\\u30a2\\u30eb\\u30b4\\u30ea\\u30ba\\u30e0\",\"x\":[0,1,2,3,4],\"y\":[0.0,0.0,2.0,5.0,4.0],\"type\":\"bar\"}],                        {\"template\":{\"data\":{\"histogram2dcontour\":[{\"type\":\"histogram2dcontour\",\"colorbar\":{\"outlinewidth\":0,\"ticks\":\"\"},\"colorscale\":[[0.0,\"#0d0887\"],[0.1111111111111111,\"#46039f\"],[0.2222222222222222,\"#7201a8\"],[0.3333333333333333,\"#9c179e\"],[0.4444444444444444,\"#bd3786\"],[0.5555555555555556,\"#d8576b\"],[0.6666666666666666,\"#ed7953\"],[0.7777777777777778,\"#fb9f3a\"],[0.8888888888888888,\"#fdca26\"],[1.0,\"#f0f921\"]]}],\"choropleth\":[{\"type\":\"choropleth\",\"colorbar\":{\"outlinewidth\":0,\"ticks\":\"\"}}],\"histogram2d\":[{\"type\":\"histogram2d\",\"colorbar\":{\"outlinewidth\":0,\"ticks\":\"\"},\"colorscale\":[[0.0,\"#0d0887\"],[0.1111111111111111,\"#46039f\"],[0.2222222222222222,\"#7201a8\"],[0.3333333333333333,\"#9c179e\"],[0.4444444444444444,\"#bd3786\"],[0.5555555555555556,\"#d8576b\"],[0.6666666666666666,\"#ed7953\"],[0.7777777777777778,\"#fb9f3a\"],[0.8888888888888888,\"#fdca26\"],[1.0,\"#f0f921\"]]}],\"heatmap\":[{\"type\":\"heatmap\",\"colorbar\":{\"outlinewidth\":0,\"ticks\":\"\"},\"colorscale\":[[0.0,\"#0d0887\"],[0.1111111111111111,\"#46039f\"],[0.2222222222222222,\"#7201a8\"],[0.3333333333333333,\"#9c179e\"],[0.4444444444444444,\"#bd3786\"],[0.5555555555555556,\"#d8576b\"],[0.6666666666666666,\"#ed7953\"],[0.7777777777777778,\"#fb9f3a\"],[0.8888888888888888,\"#fdca26\"],[1.0,\"#f0f921\"]]}],\"heatmapgl\":[{\"type\":\"heatmapgl\",\"colorbar\":{\"outlinewidth\":0,\"ticks\":\"\"},\"colorscale\":[[0.0,\"#0d0887\"],[0.1111111111111111,\"#46039f\"],[0.2222222222222222,\"#7201a8\"],[0.3333333333333333,\"#9c179e\"],[0.4444444444444444,\"#bd3786\"],[0.5555555555555556,\"#d8576b\"],[0.6666666666666666,\"#ed7953\"],[0.7777777777777778,\"#fb9f3a\"],[0.8888888888888888,\"#fdca26\"],[1.0,\"#f0f921\"]]}],\"contourcarpet\":[{\"type\":\"contourcarpet\",\"colorbar\":{\"outlinewidth\":0,\"ticks\":\"\"}}],\"contour\":[{\"type\":\"contour\",\"colorbar\":{\"outlinewidth\":0,\"ticks\":\"\"},\"colorscale\":[[0.0,\"#0d0887\"],[0.1111111111111111,\"#46039f\"],[0.2222222222222222,\"#7201a8\"],[0.3333333333333333,\"#9c179e\"],[0.4444444444444444,\"#bd3786\"],[0.5555555555555556,\"#d8576b\"],[0.6666666666666666,\"#ed7953\"],[0.7777777777777778,\"#fb9f3a\"],[0.8888888888888888,\"#fdca26\"],[1.0,\"#f0f921\"]]}],\"surface\":[{\"type\":\"surface\",\"colorbar\":{\"outlinewidth\":0,\"ticks\":\"\"},\"colorscale\":[[0.0,\"#0d0887\"],[0.1111111111111111,\"#46039f\"],[0.2222222222222222,\"#7201a8\"],[0.3333333333333333,\"#9c179e\"],[0.4444444444444444,\"#bd3786\"],[0.5555555555555556,\"#d8576b\"],[0.6666666666666666,\"#ed7953\"],[0.7777777777777778,\"#fb9f3a\"],[0.8888888888888888,\"#fdca26\"],[1.0,\"#f0f921\"]]}],\"mesh3d\":[{\"type\":\"mesh3d\",\"colorbar\":{\"outlinewidth\":0,\"ticks\":\"\"}}],\"scatter\":[{\"fillpattern\":{\"fillmode\":\"overlay\",\"size\":10,\"solidity\":0.2},\"type\":\"scatter\"}],\"parcoords\":[{\"type\":\"parcoords\",\"line\":{\"colorbar\":{\"outlinewidth\":0,\"ticks\":\"\"}}}],\"scatterpolargl\":[{\"type\":\"scatterpolargl\",\"marker\":{\"colorbar\":{\"outlinewidth\":0,\"ticks\":\"\"}}}],\"bar\":[{\"error_x\":{\"color\":\"#2a3f5f\"},\"error_y\":{\"color\":\"#2a3f5f\"},\"marker\":{\"line\":{\"color\":\"#E5ECF6\",\"width\":0.5},\"pattern\":{\"fillmode\":\"overlay\",\"size\":10,\"solidity\":0.2}},\"type\":\"bar\"}],\"scattergeo\":[{\"type\":\"scattergeo\",\"marker\":{\"colorbar\":{\"outlinewidth\":0,\"ticks\":\"\"}}}],\"scatterpolar\":[{\"type\":\"scatterpolar\",\"marker\":{\"colorbar\":{\"outlinewidth\":0,\"ticks\":\"\"}}}],\"histogram\":[{\"marker\":{\"pattern\":{\"fillmode\":\"overlay\",\"size\":10,\"solidity\":0.2}},\"type\":\"histogram\"}],\"scattergl\":[{\"type\":\"scattergl\",\"marker\":{\"colorbar\":{\"outlinewidth\":0,\"ticks\":\"\"}}}],\"scatter3d\":[{\"type\":\"scatter3d\",\"line\":{\"colorbar\":{\"outlinewidth\":0,\"ticks\":\"\"}},\"marker\":{\"colorbar\":{\"outlinewidth\":0,\"ticks\":\"\"}}}],\"scattermapbox\":[{\"type\":\"scattermapbox\",\"marker\":{\"colorbar\":{\"outlinewidth\":0,\"ticks\":\"\"}}}],\"scatterternary\":[{\"type\":\"scatterternary\",\"marker\":{\"colorbar\":{\"outlinewidth\":0,\"ticks\":\"\"}}}],\"scattercarpet\":[{\"type\":\"scattercarpet\",\"marker\":{\"colorbar\":{\"outlinewidth\":0,\"ticks\":\"\"}}}],\"carpet\":[{\"aaxis\":{\"endlinecolor\":\"#2a3f5f\",\"gridcolor\":\"white\",\"linecolor\":\"white\",\"minorgridcolor\":\"white\",\"startlinecolor\":\"#2a3f5f\"},\"baxis\":{\"endlinecolor\":\"#2a3f5f\",\"gridcolor\":\"white\",\"linecolor\":\"white\",\"minorgridcolor\":\"white\",\"startlinecolor\":\"#2a3f5f\"},\"type\":\"carpet\"}],\"table\":[{\"cells\":{\"fill\":{\"color\":\"#EBF0F8\"},\"line\":{\"color\":\"white\"}},\"header\":{\"fill\":{\"color\":\"#C8D4E3\"},\"line\":{\"color\":\"white\"}},\"type\":\"table\"}],\"barpolar\":[{\"marker\":{\"line\":{\"color\":\"#E5ECF6\",\"width\":0.5},\"pattern\":{\"fillmode\":\"overlay\",\"size\":10,\"solidity\":0.2}},\"type\":\"barpolar\"}],\"pie\":[{\"automargin\":true,\"type\":\"pie\"}]},\"layout\":{\"autotypenumbers\":\"strict\",\"colorway\":[\"#636efa\",\"#EF553B\",\"#00cc96\",\"#ab63fa\",\"#FFA15A\",\"#19d3f3\",\"#FF6692\",\"#B6E880\",\"#FF97FF\",\"#FECB52\"],\"font\":{\"color\":\"#2a3f5f\"},\"hovermode\":\"closest\",\"hoverlabel\":{\"align\":\"left\"},\"paper_bgcolor\":\"white\",\"plot_bgcolor\":\"#E5ECF6\",\"polar\":{\"bgcolor\":\"#E5ECF6\",\"angularaxis\":{\"gridcolor\":\"white\",\"linecolor\":\"white\",\"ticks\":\"\"},\"radialaxis\":{\"gridcolor\":\"white\",\"linecolor\":\"white\",\"ticks\":\"\"}},\"ternary\":{\"bgcolor\":\"#E5ECF6\",\"aaxis\":{\"gridcolor\":\"white\",\"linecolor\":\"white\",\"ticks\":\"\"},\"baxis\":{\"gridcolor\":\"white\",\"linecolor\":\"white\",\"ticks\":\"\"},\"caxis\":{\"gridcolor\":\"white\",\"linecolor\":\"white\",\"ticks\":\"\"}},\"coloraxis\":{\"colorbar\":{\"outlinewidth\":0,\"ticks\":\"\"}},\"colorscale\":{\"sequential\":[[0.0,\"#0d0887\"],[0.1111111111111111,\"#46039f\"],[0.2222222222222222,\"#7201a8\"],[0.3333333333333333,\"#9c179e\"],[0.4444444444444444,\"#bd3786\"],[0.5555555555555556,\"#d8576b\"],[0.6666666666666666,\"#ed7953\"],[0.7777777777777778,\"#fb9f3a\"],[0.8888888888888888,\"#fdca26\"],[1.0,\"#f0f921\"]],\"sequentialminus\":[[0.0,\"#0d0887\"],[0.1111111111111111,\"#46039f\"],[0.2222222222222222,\"#7201a8\"],[0.3333333333333333,\"#9c179e\"],[0.4444444444444444,\"#bd3786\"],[0.5555555555555556,\"#d8576b\"],[0.6666666666666666,\"#ed7953\"],[0.7777777777777778,\"#fb9f3a\"],[0.8888888888888888,\"#fdca26\"],[1.0,\"#f0f921\"]],\"diverging\":[[0,\"#8e0152\"],[0.1,\"#c51b7d\"],[0.2,\"#de77ae\"],[0.3,\"#f1b6da\"],[0.4,\"#fde0ef\"],[0.5,\"#f7f7f7\"],[0.6,\"#e6f5d0\"],[0.7,\"#b8e186\"],[0.8,\"#7fbc41\"],[0.9,\"#4d9221\"],[1,\"#276419\"]]},\"xaxis\":{\"gridcolor\":\"white\",\"linecolor\":\"white\",\"ticks\":\"\",\"title\":{\"standoff\":15},\"zerolinecolor\":\"white\",\"automargin\":true,\"zerolinewidth\":2},\"yaxis\":{\"gridcolor\":\"white\",\"linecolor\":\"white\",\"ticks\":\"\",\"title\":{\"standoff\":15},\"zerolinecolor\":\"white\",\"automargin\":true,\"zerolinewidth\":2},\"scene\":{\"xaxis\":{\"backgroundcolor\":\"#E5ECF6\",\"gridcolor\":\"white\",\"linecolor\":\"white\",\"showbackground\":true,\"ticks\":\"\",\"zerolinecolor\":\"white\",\"gridwidth\":2},\"yaxis\":{\"backgroundcolor\":\"#E5ECF6\",\"gridcolor\":\"white\",\"linecolor\":\"white\",\"showbackground\":true,\"ticks\":\"\",\"zerolinecolor\":\"white\",\"gridwidth\":2},\"zaxis\":{\"backgroundcolor\":\"#E5ECF6\",\"gridcolor\":\"white\",\"linecolor\":\"white\",\"showbackground\":true,\"ticks\":\"\",\"zerolinecolor\":\"white\",\"gridwidth\":2}},\"shapedefaults\":{\"line\":{\"color\":\"#2a3f5f\"}},\"annotationdefaults\":{\"arrowcolor\":\"#2a3f5f\",\"arrowhead\":0,\"arrowwidth\":1},\"geo\":{\"bgcolor\":\"white\",\"landcolor\":\"#E5ECF6\",\"subunitcolor\":\"white\",\"showland\":true,\"showlakes\":true,\"lakecolor\":\"white\"},\"title\":{\"x\":0.05},\"mapbox\":{\"style\":\"light\"}}},\"sliders\":[{\"active\":0,\"currentvalue\":{\"prefix\":\"Selected Topic: \"},\"pad\":{\"t\":50},\"steps\":[{\"args\":[{\"visible\":[true,false,false,false,false,false,false,false,false,false,false,false,false,false,false,false,false,false,false,false,false,false,false,false,false,false,false,false,false,false,false,false,false,false,false,false,false,false,false,false,false,false,false,false,false,false,false,false,false,false,false]},{\"title\":\"-1_\\u30b0\\u30eb\\u30fc\\u30d4\\u30f3\\u30b0_nlogn_\\u8ddd\\u96e2_logn\"}],\"label\":\"-1_\\u30b0\\u30eb\\u30fc\\u30d4\\u30f3\\u30b0_nlogn_\\u8ddd\\u96e2_logn\",\"method\":\"update\"},{\"args\":[{\"visible\":[false,true,false,false,false,false,false,false,false,false,false,false,false,false,false,false,false,false,false,false,false,false,false,false,false,false,false,false,false,false,false,false,false,false,false,false,false,false,false,false,false,false,false,false,false,false,false,false,false,false,false]},{\"title\":\"0_\\u30b3\\u30e2\\u30f3\\u30ba_nlogn_\\u8ddd\\u96e2_2\\u56de\"}],\"label\":\"0_\\u30b3\\u30e2\\u30f3\\u30ba_nlogn_\\u8ddd\\u96e2_2\\u56de\",\"method\":\"update\"},{\"args\":[{\"visible\":[false,false,true,false,false,false,false,false,false,false,false,false,false,false,false,false,false,false,false,false,false,false,false,false,false,false,false,false,false,false,false,false,false,false,false,false,false,false,false,false,false,false,false,false,false,false,false,false,false,false,false]},{\"title\":\"1_\\u30d0\\u30a4_\\u5b8c\\u5168\\u6027_\\u6697\\u53f7\\u306b\\u3064\\u3044\\u3066_en\"}],\"label\":\"1_\\u30d0\\u30a4_\\u5b8c\\u5168\\u6027_\\u6697\\u53f7\\u306b\\u3064\\u3044\\u3066_en\",\"method\":\"update\"},{\"args\":[{\"visible\":[false,false,false,true,false,false,false,false,false,false,false,false,false,false,false,false,false,false,false,false,false,false,false,false,false,false,false,false,false,false,false,false,false,false,false,false,false,false,false,false,false,false,false,false,false,false,false,false,false,false,false]},{\"title\":\"2_\\u8a08\\u7b97_\\u30a2\\u30eb\\u30b4\\u30ea\\u30ba\\u30e0_\\u30b3\\u30f3\\u30d4\\u30e5\\u30fc\\u30bf_\\u554f\\u984c\"}],\"label\":\"2_\\u8a08\\u7b97_\\u30a2\\u30eb\\u30b4\\u30ea\\u30ba\\u30e0_\\u30b3\\u30f3\\u30d4\\u30e5\\u30fc\\u30bf_\\u554f\\u984c\",\"method\":\"update\"},{\"args\":[{\"visible\":[false,false,false,false,true,false,false,false,false,false,false,false,false,false,false,false,false,false,false,false,false,false,false,false,false,false,false,false,false,false,false,false,false,false,false,false,false,false,false,false,false,false,false,false,false,false,false,false,false,false,false]},{\"title\":\"3_\\u7b26\\u53f7\\u8a9e\\u540c\\u58eb\\u304cs_2k_\\u30cf\\u30df\\u30f3\\u30b0\\u8ddd\\u96e2_\\u7b26\\u53f7\\u8a9e\\u540c\\u58eb\\u304c2t\"}],\"label\":\"3_\\u7b26\\u53f7\\u8a9e\\u540c\\u58eb\\u304cs_2k_\\u30cf\\u30df\\u30f3\\u30b0\\u8ddd\\u96e2_\\u7b26\\u53f7\\u8a9e\\u540c\\u58eb\\u304c2t\",\"method\":\"update\"},{\"args\":[{\"visible\":[false,false,false,false,false,true,false,false,false,false,false,false,false,false,false,false,false,false,false,false,false,false,false,false,false,false,false,false,false,false,false,false,false,false,false,false,false,false,false,false,false,false,false,false,false,false,false,false,false,false,false]},{\"title\":\"4_\\u60c5\\u5831\\u6e90\\u7b26\\u53f7\\u5316_\\u60c5\\u5831\\u6e90_\\u30a8\\u30f3\\u30c8\\u30ed\\u30d4\\u30fc_\\u8a9e\\u982d\\u6761\\u4ef6\"}],\"label\":\"4_\\u60c5\\u5831\\u6e90\\u7b26\\u53f7\\u5316_\\u60c5\\u5831\\u6e90_\\u30a8\\u30f3\\u30c8\\u30ed\\u30d4\\u30fc_\\u8a9e\\u982d\\u6761\\u4ef6\",\"method\":\"update\"},{\"args\":[{\"visible\":[false,false,false,false,false,false,true,false,false,false,false,false,false,false,false,false,false,false,false,false,false,false,false,false,false,false,false,false,false,false,false,false,false,false,false,false,false,false,false,false,false,false,false,false,false,false,false,false,false,false,false]},{\"title\":\"5_\\u96e2\\u6563\\u6642\\u9593\\u30d5\\u30fc\\u30ea\\u30a8\\u5909\\u63db\\u3068\\u96e2\\u6563\\u30d5\\u30fc\\u30ea\\u30a8\\u5909\\u63db_\\u96e2\\u6563\\u6642\\u9593\\u30b7\\u30b9\\u30c6\\u30e0_\\u96e2\\u6563\\u6642\\u9593\\u30d5\\u30fc\\u30ea\\u30a8\\u5909\\u63db\\u3068\\u96e2\\u6563\\u30d5\\u30fc\\u30ea\\u30a8\\u5909\\u63db\\u306b\\u3064\\u3044\\u3066_\\u96e2\\u6563\\u6642\\u9593\\u30d5\\u30fc\\u30ea\\u30a8\\u5909\\u63db\"}],\"label\":\"5_\\u96e2\\u6563\\u6642\\u9593\\u30d5\\u30fc\\u30ea\\u30a8\\u5909\\u63db\\u3068\\u96e2\\u6563\\u30d5\\u30fc\\u30ea\\u30a8\\u5909\\u63db_\\u96e2\\u6563\\u6642\\u9593\\u30b7\\u30b9\\u30c6\\u30e0_\\u96e2\\u6563\\u6642\\u9593\\u30d5\\u30fc\\u30ea\\u30a8\\u5909\\u63db\\u3068\\u96e2\\u6563\\u30d5\\u30fc\\u30ea\\u30a8\\u5909\\u63db\\u306b\\u3064\\u3044\\u3066_\\u96e2\\u6563\\u6642\\u9593\\u30d5\\u30fc\\u30ea\\u30a8\\u5909\\u63db\",\"method\":\"update\"},{\"args\":[{\"visible\":[false,false,false,false,false,false,false,true,false,false,false,false,false,false,false,false,false,false,false,false,false,false,false,false,false,false,false,false,false,false,false,false,false,false,false,false,false,false,false,false,false,false,false,false,false,false,false,false,false,false,false]},{\"title\":\"6_\\u60c5\\u5831_\\u60c5\\u5831\\u79d1\\u5b66_\\u6587\\u7ae0_\\u60c5\\u5831\\u4f1d\\u9054\\u306e\\u6b74\\u53f2\"}],\"label\":\"6_\\u60c5\\u5831_\\u60c5\\u5831\\u79d1\\u5b66_\\u6587\\u7ae0_\\u60c5\\u5831\\u4f1d\\u9054\\u306e\\u6b74\\u53f2\",\"method\":\"update\"},{\"args\":[{\"visible\":[false,false,false,false,false,false,false,false,true,false,false,false,false,false,false,false,false,false,false,false,false,false,false,false,false,false,false,false,false,false,false,false,false,false,false,false,false,false,false,false,false,false,false,false,false,false,false,false,false,false,false]},{\"title\":\"7_\\u30d1\\u30bf\\u30fc\\u30f3\\u8a8d\\u8b58_\\u30d9\\u30af\\u30c8\\u30eb_\\u753b\\u50cf\\u51e6\\u7406_\\u4f3c\\u3066\\u3044\\u308b\"}],\"label\":\"7_\\u30d1\\u30bf\\u30fc\\u30f3\\u8a8d\\u8b58_\\u30d9\\u30af\\u30c8\\u30eb_\\u753b\\u50cf\\u51e6\\u7406_\\u4f3c\\u3066\\u3044\\u308b\",\"method\":\"update\"},{\"args\":[{\"visible\":[false,false,false,false,false,false,false,false,false,true,false,false,false,false,false,false,false,false,false,false,false,false,false,false,false,false,false,false,false,false,false,false,false,false,false,false,false,false,false,false,false,false,false,false,false,false,false,false,false,false,false]},{\"title\":\"8_log2_xy_\\u66d6\\u6627\\u3055_\\u60c5\\u5831\\u91cf\"}],\"label\":\"8_log2_xy_\\u66d6\\u6627\\u3055_\\u60c5\\u5831\\u91cf\",\"method\":\"update\"},{\"args\":[{\"visible\":[false,false,false,false,false,false,false,false,false,false,true,false,false,false,false,false,false,false,false,false,false,false,false,false,false,false,false,false,false,false,false,false,false,false,false,false,false,false,false,false,false,false,false,false,false,false,false,false,false,false,false]},{\"title\":\"9_z\\u5909\\u63db\\u306b\\u3064\\u3044\\u3066_z\\u5909\\u63db\\u306e\\u6027\\u8cea\\u9006z\\u5909\\u63db_z\\u5909\\u63db\\u306e\\u6027\\u8cea\\u3068\\u9006z\\u5909\\u63db_z\\u5909\\u63db\\u306e\\u5c0e\\u5165\"}],\"label\":\"9_z\\u5909\\u63db\\u306b\\u3064\\u3044\\u3066_z\\u5909\\u63db\\u306e\\u6027\\u8cea\\u9006z\\u5909\\u63db_z\\u5909\\u63db\\u306e\\u6027\\u8cea\\u3068\\u9006z\\u5909\\u63db_z\\u5909\\u63db\\u306e\\u5c0e\\u5165\",\"method\":\"update\"},{\"args\":[{\"visible\":[false,false,false,false,false,false,false,false,false,false,false,true,false,false,false,false,false,false,false,false,false,false,false,false,false,false,false,false,false,false,false,false,false,false,false,false,false,false,false,false,false,false,false,false,false,false,false,false,false,false,false]},{\"title\":\"10_\\u77e5\\u8b58\\u30de\\u30c3\\u30d7\\u306e\\u4f5c\\u6210_\\u77e5\\u8b58\\u30de\\u30c3\\u30d7\\u306e\\u4f5c\\u88fd_\\u77e5\\u8b58\\u30de\\u30c3\\u30d7\\u4f5c\\u6210_br\"}],\"label\":\"10_\\u77e5\\u8b58\\u30de\\u30c3\\u30d7\\u306e\\u4f5c\\u6210_\\u77e5\\u8b58\\u30de\\u30c3\\u30d7\\u306e\\u4f5c\\u88fd_\\u77e5\\u8b58\\u30de\\u30c3\\u30d7\\u4f5c\\u6210_br\",\"method\":\"update\"},{\"args\":[{\"visible\":[false,false,false,false,false,false,false,false,false,false,false,false,true,false,false,false,false,false,false,false,false,false,false,false,false,false,false,false,false,false,false,false,false,false,false,false,false,false,false,false,false,false,false,false,false,false,false,false,false,false,false]},{\"title\":\"11_\\u76f8\\u95a2_ai_\\u8ca0\\u306e\\u76f8\\u95a2_\\u5dee\\u304c\\u306a\\u3044\"}],\"label\":\"11_\\u76f8\\u95a2_ai_\\u8ca0\\u306e\\u76f8\\u95a2_\\u5dee\\u304c\\u306a\\u3044\",\"method\":\"update\"},{\"args\":[{\"visible\":[false,false,false,false,false,false,false,false,false,false,false,false,false,true,false,false,false,false,false,false,false,false,false,false,false,false,false,false,false,false,false,false,false,false,false,false,false,false,false,false,false,false,false,false,false,false,false,false,false,false,false]},{\"title\":\"12_nt_\\u96e2\\u6563\\u6642\\u9593\\u4fe1\\u53f7z\\u5909\\u63db_\\u96e2\\u6563\\u6642\\u9593\\u4fe1\\u53f7\\u3068z\\u5909\\u63db_\\u03c9t\"}],\"label\":\"12_nt_\\u96e2\\u6563\\u6642\\u9593\\u4fe1\\u53f7z\\u5909\\u63db_\\u96e2\\u6563\\u6642\\u9593\\u4fe1\\u53f7\\u3068z\\u5909\\u63db_\\u03c9t\",\"method\":\"update\"},{\"args\":[{\"visible\":[false,false,false,false,false,false,false,false,false,false,false,false,false,false,true,false,false,false,false,false,false,false,false,false,false,false,false,false,false,false,false,false,false,false,false,false,false,false,false,false,false,false,false,false,false,false,false,false,false,false,false]},{\"title\":\"13_\\u30c7\\u30a3\\u30b8\\u30bf\\u30eb\\u4fe1\\u53f7\\u51e6\\u7406\\u306e\\u6982\\u8981_\\u91cf\\u5b50\\u5316_\\u7b26\\u53f7\\u5316_\\u30a2\\u30ca\\u30ed\\u30b0\\u4fe1\\u53f7\"}],\"label\":\"13_\\u30c7\\u30a3\\u30b8\\u30bf\\u30eb\\u4fe1\\u53f7\\u51e6\\u7406\\u306e\\u6982\\u8981_\\u91cf\\u5b50\\u5316_\\u7b26\\u53f7\\u5316_\\u30a2\\u30ca\\u30ed\\u30b0\\u4fe1\\u53f7\",\"method\":\"update\"},{\"args\":[{\"visible\":[false,false,false,false,false,false,false,false,false,false,false,false,false,false,false,true,false,false,false,false,false,false,false,false,false,false,false,false,false,false,false,false,false,false,false,false,false,false,false,false,false,false,false,false,false,false,false,false,false,false,false]},{\"title\":\"14_\\u975e\\u5468\\u671f\\u4fe1\\u53f7\\u306e\\u30d5\\u30fc\\u30ea\\u30a8\\u5909\\u63db_\\u975e\\u5468\\u671f\\u4fe1\\u53f7\\u3068\\u30d5\\u30fc\\u30ea\\u30a8\\u5909\\u63db_\\u5468\\u671f\\u4fe1\\u53f7\\u306e\\u30d5\\u30fc\\u30ea\\u30a8\\u7d1a\\u6570\\u8868\\u73fe_\\u30d5\\u30fc\\u30ea\\u30a8\\u5909\\u63db\\u306b\\u3064\\u3044\\u3066\"}],\"label\":\"14_\\u975e\\u5468\\u671f\\u4fe1\\u53f7\\u306e\\u30d5\\u30fc\\u30ea\\u30a8\\u5909\\u63db_\\u975e\\u5468\\u671f\\u4fe1\\u53f7\\u3068\\u30d5\\u30fc\\u30ea\\u30a8\\u5909\\u63db_\\u5468\\u671f\\u4fe1\\u53f7\\u306e\\u30d5\\u30fc\\u30ea\\u30a8\\u7d1a\\u6570\\u8868\\u73fe_\\u30d5\\u30fc\\u30ea\\u30a8\\u5909\\u63db\\u306b\\u3064\\u3044\\u3066\",\"method\":\"update\"},{\"args\":[{\"visible\":[false,false,false,false,false,false,false,false,false,false,false,false,false,false,false,false,true,false,false,false,false,false,false,false,false,false,false,false,false,false,false,false,false,false,false,false,false,false,false,false,false,false,false,false,false,false,false,false,false,false,false]},{\"title\":\"15_\\u5f31\\u3044ai_\\u4eba\\u5de5\\u77e5\\u80fd_\\u5f37\\u3044ai_ai\"}],\"label\":\"15_\\u5f31\\u3044ai_\\u4eba\\u5de5\\u77e5\\u80fd_\\u5f37\\u3044ai_ai\",\"method\":\"update\"},{\"args\":[{\"visible\":[false,false,false,false,false,false,false,false,false,false,false,false,false,false,false,false,false,true,false,false,false,false,false,false,false,false,false,false,false,false,false,false,false,false,false,false,false,false,false,false,false,false,false,false,false,false,false,false,false,false,false]},{\"title\":\"16_\\u9ad8\\u901f\\u30d5\\u30fc\\u30ea\\u30a8\\u5909\\u63db_\\u9ad8\\u901f\\u30d5\\u30fc\\u30ea\\u30a8\\u5909\\u63db\\u306b\\u3064\\u3044\\u3066_\\u9ad8\\u901f\\u30d5\\u30fc\\u30ea\\u30a8\\u5909\\u63db\\u306b\\u3064\\u3044\\u3066\\u5b66\\u3093\\u3060_\\u9ad8\\u901f\\u30d5\\u30fc\\u30ea\\u30a8\\u5909\\u63db\\u306e\\u4ed5\\u7d44\\u307f\"}],\"label\":\"16_\\u9ad8\\u901f\\u30d5\\u30fc\\u30ea\\u30a8\\u5909\\u63db_\\u9ad8\\u901f\\u30d5\\u30fc\\u30ea\\u30a8\\u5909\\u63db\\u306b\\u3064\\u3044\\u3066_\\u9ad8\\u901f\\u30d5\\u30fc\\u30ea\\u30a8\\u5909\\u63db\\u306b\\u3064\\u3044\\u3066\\u5b66\\u3093\\u3060_\\u9ad8\\u901f\\u30d5\\u30fc\\u30ea\\u30a8\\u5909\\u63db\\u306e\\u4ed5\\u7d44\\u307f\",\"method\":\"update\"},{\"args\":[{\"visible\":[false,false,false,false,false,false,false,false,false,false,false,false,false,false,false,false,false,false,true,false,false,false,false,false,false,false,false,false,false,false,false,false,false,false,false,false,false,false,false,false,false,false,false,false,false,false,false,false,false,false,false]},{\"title\":\"17_\\u671f\\u672b\\u30c6\\u30b9\\u30c8_\\u78ba\\u8a8d\\u30c6\\u30b9\\u30c8_\\u30c6\\u30b9\\u30c8_\\u30c6\\u30b9\\u30c8\\u3067\\u3057\\u305f\"}],\"label\":\"17_\\u671f\\u672b\\u30c6\\u30b9\\u30c8_\\u78ba\\u8a8d\\u30c6\\u30b9\\u30c8_\\u30c6\\u30b9\\u30c8_\\u30c6\\u30b9\\u30c8\\u3067\\u3057\\u305f\",\"method\":\"update\"},{\"args\":[{\"visible\":[false,false,false,false,false,false,false,false,false,false,false,false,false,false,false,false,false,false,false,true,false,false,false,false,false,false,false,false,false,false,false,false,false,false,false,false,false,false,false,false,false,false,false,false,false,false,false,false,false,false,false]},{\"title\":\"18_\\u8457\\u4f5c\\u6a29\\u306b\\u3064\\u3044\\u3066_\\u8ca1\\u7523\\u6a29_\\u8457\\u4f5c\\u6a29_70\\u5e74\\u9593\\u8457\\u4f5c\\u7269\\u3092\\u5b88\\u308b\"}],\"label\":\"18_\\u8457\\u4f5c\\u6a29\\u306b\\u3064\\u3044\\u3066_\\u8ca1\\u7523\\u6a29_\\u8457\\u4f5c\\u6a29_70\\u5e74\\u9593\\u8457\\u4f5c\\u7269\\u3092\\u5b88\\u308b\",\"method\":\"update\"},{\"args\":[{\"visible\":[false,false,false,false,false,false,false,false,false,false,false,false,false,false,false,false,false,false,false,false,true,false,false,false,false,false,false,false,false,false,false,false,false,false,false,false,false,false,false,false,false,false,false,false,false,false,false,false,false,false,false]},{\"title\":\"19_\\u30d5\\u30fc\\u30ea\\u30a8\\u7d1a\\u6570\\u304b\\u3089\\u30d5\\u30fc\\u30ea\\u30a8\\u5909\\u63db\\u3078\\u306e\\u62e1\\u5f35_\\u30d5\\u30fc\\u30ea\\u30a8\\u7d1a\\u6570_\\u6700\\u5927\\u516c\\u7d04\\u6570\\u3092\\u8868\\u3059_\\u30d5\\u30fc\\u30ea\\u30a8\\u7d1a\\u6570\\u8907\\u7d20\\u30d5\\u30fc\\u30ea\\u30a8\\u7d1a\\u6570\\u306e\\u6c42\\u3081\\u65b9\"}],\"label\":\"19_\\u30d5\\u30fc\\u30ea\\u30a8\\u7d1a\\u6570\\u304b\\u3089\\u30d5\\u30fc\\u30ea\\u30a8\\u5909\\u63db\\u3078\\u306e\\u62e1\\u5f35_\\u30d5\\u30fc\\u30ea\\u30a8\\u7d1a\\u6570_\\u6700\\u5927\\u516c\\u7d04\\u6570\\u3092\\u8868\\u3059_\\u30d5\\u30fc\\u30ea\\u30a8\\u7d1a\\u6570\\u8907\\u7d20\\u30d5\\u30fc\\u30ea\\u30a8\\u7d1a\\u6570\\u306e\\u6c42\\u3081\\u65b9\",\"method\":\"update\"},{\"args\":[{\"visible\":[false,false,false,false,false,false,false,false,false,false,false,false,false,false,false,false,false,false,false,false,false,true,false,false,false,false,false,false,false,false,false,false,false,false,false,false,false,false,false,false,false,false,false,false,false,false,false,false,false,false,false]},{\"title\":\"20_\\u96e2\\u6563\\u30d5\\u30fc\\u30ea\\u30a8\\u5909\\u63db_\\u30d5\\u30fc\\u30ea\\u30a8\\u5909\\u63db_\\u96e2\\u6563\\u30d5\\u30fc\\u30ea\\u30a8\\u5909\\u63db\\u306b\\u3064\\u3044\\u3066_\\u30d5\\u30fc\\u30ea\\u30a8\\u5909\\u63db\\u306e\\u8aac\\u660e\"}],\"label\":\"20_\\u96e2\\u6563\\u30d5\\u30fc\\u30ea\\u30a8\\u5909\\u63db_\\u30d5\\u30fc\\u30ea\\u30a8\\u5909\\u63db_\\u96e2\\u6563\\u30d5\\u30fc\\u30ea\\u30a8\\u5909\\u63db\\u306b\\u3064\\u3044\\u3066_\\u30d5\\u30fc\\u30ea\\u30a8\\u5909\\u63db\\u306e\\u8aac\\u660e\",\"method\":\"update\"},{\"args\":[{\"visible\":[false,false,false,false,false,false,false,false,false,false,false,false,false,false,false,false,false,false,false,false,false,false,true,false,false,false,false,false,false,false,false,false,false,false,false,false,false,false,false,false,false,false,false,false,false,false,false,false,false,false,false]},{\"title\":\"21_br\\u30fcmap\\u3092\\u7528\\u3044\\u3066\\u632f\\u308a\\u8fd4\\u308a\\u3092\\u884c\\u3063\\u305f_\\u7b2c\\u4e03\\u56de\\u306e\\u5927\\u307e\\u304b\\u306a\\u5fa9\\u8b90_\\u307e\\u3068\\u3081\\u3092\\u884c\\u3046\\u3053\\u3068\\u3067\\u5f8c\\u534a\\u5185\\u5bb9\\u306e\\u5fa9\\u7fd2\\u7b49\\u304c\\u3067\\u304d\\u305f_\\u4eca\\u65e5\\u306e\\u5185\\u5bb9\\u306f\\u8eab\\u8fd1\\u306b\\u611f\\u3058\\u3089\\u308c\\u305f\"}],\"label\":\"21_br\\u30fcmap\\u3092\\u7528\\u3044\\u3066\\u632f\\u308a\\u8fd4\\u308a\\u3092\\u884c\\u3063\\u305f_\\u7b2c\\u4e03\\u56de\\u306e\\u5927\\u307e\\u304b\\u306a\\u5fa9\\u8b90_\\u307e\\u3068\\u3081\\u3092\\u884c\\u3046\\u3053\\u3068\\u3067\\u5f8c\\u534a\\u5185\\u5bb9\\u306e\\u5fa9\\u7fd2\\u7b49\\u304c\\u3067\\u304d\\u305f_\\u4eca\\u65e5\\u306e\\u5185\\u5bb9\\u306f\\u8eab\\u8fd1\\u306b\\u611f\\u3058\\u3089\\u308c\\u305f\",\"method\":\"update\"},{\"args\":[{\"visible\":[false,false,false,false,false,false,false,false,false,false,false,false,false,false,false,false,false,false,false,false,false,false,false,true,false,false,false,false,false,false,false,false,false,false,false,false,false,false,false,false,false,false,false,false,false,false,false,false,false,false,false]},{\"title\":\"22_\\u30a8\\u30c3\\u30b8\\u62bd\\u51fa_\\u30a8\\u30c3\\u30b8_\\u6587\\u5b57_\\u3068\\u767d\"}],\"label\":\"22_\\u30a8\\u30c3\\u30b8\\u62bd\\u51fa_\\u30a8\\u30c3\\u30b8_\\u6587\\u5b57_\\u3068\\u767d\",\"method\":\"update\"},{\"args\":[{\"visible\":[false,false,false,false,false,false,false,false,false,false,false,false,false,false,false,false,false,false,false,false,false,false,false,false,true,false,false,false,false,false,false,false,false,false,false,false,false,false,false,false,false,false,false,false,false,false,false,false,false,false,false]},{\"title\":\"23_\\u30de\\u30fc\\u30b8\\u30bd\\u30fc\\u30c8\\u3068\\u4e8c\\u5206\\u63a2\\u7d22\\u6cd5\\u306b\\u3064\\u3044\\u3066_\\u4e8c\\u5206\\u63a2\\u7d22\\u6cd5_\\u4eca\\u56de\\u306e\\u6388\\u696d\\u3067\\u306f\\u30d2\\u30fc\\u30d7\\u30bd\\u30fc\\u30c8\\u3068\\u30de\\u30fc\\u30b8\\u30bd\\u30fc\\u30c8\\u306b\\u3064\\u3044\\u3066\\u5b66\\u7fd2\\u3057\\u305f_\\u30de\\u30fc\\u30b8\\u30bd\\u30fc\\u30c8\\u3068\\u4e8c\\u5206\\u63a2\\u7d22\\u6cd5\"}],\"label\":\"23_\\u30de\\u30fc\\u30b8\\u30bd\\u30fc\\u30c8\\u3068\\u4e8c\\u5206\\u63a2\\u7d22\\u6cd5\\u306b\\u3064\\u3044\\u3066_\\u4e8c\\u5206\\u63a2\\u7d22\\u6cd5_\\u4eca\\u56de\\u306e\\u6388\\u696d\\u3067\\u306f\\u30d2\\u30fc\\u30d7\\u30bd\\u30fc\\u30c8\\u3068\\u30de\\u30fc\\u30b8\\u30bd\\u30fc\\u30c8\\u306b\\u3064\\u3044\\u3066\\u5b66\\u7fd2\\u3057\\u305f_\\u30de\\u30fc\\u30b8\\u30bd\\u30fc\\u30c8\\u3068\\u4e8c\\u5206\\u63a2\\u7d22\\u6cd5\",\"method\":\"update\"},{\"args\":[{\"visible\":[false,false,false,false,false,false,false,false,false,false,false,false,false,false,false,false,false,false,false,false,false,false,false,false,false,true,false,false,false,false,false,false,false,false,false,false,false,false,false,false,false,false,false,false,false,false,false,false,false,false,false]},{\"title\":\"24_\\u6539\\u7ac4_\\u634f\\u9020_\\u7814\\u7a76\\u306b\\u304a\\u3051\\u308b\\u4e2d\\u7acb\\u3084\\u5ba2\\u89b3\\u6027\\u7814\\u7a76\\u4e0d\\u6b63\\u3068\\u306a\\u308b\\u884c\\u70ba\\u5171\\u540c\\u7814\\u7a76\\u306b\\u304a\\u3044\\u3066\\u5fc5\\u8981\\u306a\\u502b\\u7406\\u89b3\\u5229\\u76ca\\u76f8\\u53cd\\u4e5d\\u5927\\u306b\\u304a\\u3051\\u308b\\u60c5\\u5831\\u502b\\u7406\\u898f\\u5b9a\\u30bb\\u30ad\\u30e5\\u30ea\\u30c6\\u30a3\\u30fc\\u306e\\u5b58\\u5728\\u3084\\u5185\\u5bb9\\u306e\\u7406\\u89e3_\\u7814\\u7a76\\u8005\\u306e\\u7acb\\u5834\\u3068\\u3057\\u3066\\u4e2d\\u7acb\\u7684\"}],\"label\":\"24_\\u6539\\u7ac4_\\u634f\\u9020_\\u7814\\u7a76\\u306b\\u304a\\u3051\\u308b\\u4e2d\\u7acb\\u3084\\u5ba2\\u89b3\\u6027\\u7814\\u7a76\\u4e0d\\u6b63\\u3068\\u306a\\u308b\\u884c\\u70ba\\u5171\\u540c\\u7814\\u7a76\\u306b\\u304a\\u3044\\u3066\\u5fc5\\u8981\\u306a\\u502b\\u7406\\u89b3\\u5229\\u76ca\\u76f8\\u53cd\\u4e5d\\u5927\\u306b\\u304a\\u3051\\u308b\\u60c5\\u5831\\u502b\\u7406\\u898f\\u5b9a\\u30bb\\u30ad\\u30e5\\u30ea\\u30c6\\u30a3\\u30fc\\u306e\\u5b58\\u5728\\u3084\\u5185\\u5bb9\\u306e\\u7406\\u89e3_\\u7814\\u7a76\\u8005\\u306e\\u7acb\\u5834\\u3068\\u3057\\u3066\\u4e2d\\u7acb\\u7684\",\"method\":\"update\"},{\"args\":[{\"visible\":[false,false,false,false,false,false,false,false,false,false,false,false,false,false,false,false,false,false,false,false,false,false,false,false,false,false,true,false,false,false,false,false,false,false,false,false,false,false,false,false,false,false,false,false,false,false,false,false,false,false,false]},{\"title\":\"25_\\u30ac\\u30a4\\u30c0\\u30f3\\u30b9_\\u30bd\\u30fc\\u30c8\\u306e\\u5927\\u307e\\u304b\\u306a\\u6982\\u8981_\\u30aa\\u30ea\\u30a8\\u30f3\\u30c6\\u30fc\\u30b7\\u30e7\\u30f3_\\u30a4\\u30f3\\u30c8\\u30ed\\u30c0\\u30af\\u30b7\\u30e7\\u30f3\"}],\"label\":\"25_\\u30ac\\u30a4\\u30c0\\u30f3\\u30b9_\\u30bd\\u30fc\\u30c8\\u306e\\u5927\\u307e\\u304b\\u306a\\u6982\\u8981_\\u30aa\\u30ea\\u30a8\\u30f3\\u30c6\\u30fc\\u30b7\\u30e7\\u30f3_\\u30a4\\u30f3\\u30c8\\u30ed\\u30c0\\u30af\\u30b7\\u30e7\\u30f3\",\"method\":\"update\"},{\"args\":[{\"visible\":[false,false,false,false,false,false,false,false,false,false,false,false,false,false,false,false,false,false,false,false,false,false,false,false,false,false,false,true,false,false,false,false,false,false,false,false,false,false,false,false,false,false,false,false,false,false,false,false,false,false,false]},{\"title\":\"26_\\u6388\\u696d\\u306e\\u9032\\u3081\\u65b9\\u306e\\u8aac\\u660e_\\u6388\\u696d\\u304c\\u7d42\\u308f\\u3063\\u305f\\u3089\\u305d\\u306e\\u56de\\u306e\\u65e5\\u8a8c\\u30ce\\u30fc\\u30c8\\u8981\\u70b9\\u6574\\u7406\\u3092\\u4f5c\\u6210\\u3057\\u3066\\u6295\\u7a3f\\u3059\\u308b\\u307e\\u305f\\u6f14\\u7fd2\\u8ab2\\u984c\\u3082\\u5b9f\\u65bd\\u3057\\u3066\\u63d0\\u51fa\\u3059\\u308b_\\u6388\\u696d\\u5f53\\u65e5\\u306b\\u306f\\u305d\\u306e\\u65e5\\u306e\\u7bc4\\u56f2\\u306e\\u5185\\u5bb9\\u306e\\u8aac\\u660e\\u3068\\u8ab2\\u984c\\u306e\\u6307\\u793a\\u304c\\u306a\\u3055\\u308c\\u308b\\u306e\\u3067\\u3057\\u3063\\u304b\\u308a\\u3068\\u7406\\u89e3\\u3057\\u30e1\\u30e2\\u3092\\u53d6\\u3063\\u3066\\u304a\\u304f\\u5185\\u5bb9\\u306e\\u8aac\\u660e\\u3092\\u805e\\u304d\\u306a\\u304c\\u3089bookroll\\u4e0a\\u3067\\u30ad\\u30fc\\u30ef\\u30fc\\u30c9\\u306b\\u30de\\u30fc\\u30ab\\u30fc\\u3092\\u5f15\\u304f\\u308f\\u304b\\u3063\\u305f_\\u9ec4\\u8272moodle\\u3092\\u5229\\u7528\\u3057\\u3066\\u30ed\\u30b0\\u30a4\\u30f3\\u3059\\u308b\\u305d\\u306e\\u5f8c\\u9ec4\\u8272moodle\\u5185\\u306e\\u30ea\\u30f3\\u30af\\u304b\\u3089\\u9752\\u8272moodle\\u306b\\u79fb\\u52d5\\u3057teams\\u306b\\u3088\\u308b\\u30aa\\u30f3\\u30e9\\u30a4\\u30f3\\u6388\\u696d\\u3078\\u306e\\u63a5\\u7d9a\\u3092\\u884c\\u3046\\u6c34\\u8272moodle\\u5185\\u306ebookroll\\u3092\\u4f75\\u7528\\u3057\\u3066\\u8b1b\\u7fa9\\u3092\\u53d7\\u8b1b\\u3057\\u30ce\\u30fc\\u30c8\\u3092\\u4f5c\\u6210\\u3059\\u308b\\u8b1b\\u7fa9\\u304c\\u7d42\\u4e86\\u3057\\u305f\\u3089\\u6c34\\u8272moodle\\u5185\\u306e\\u632f\\u308a\\u8fd4\\u308a\\u65e5\\u8a8c\\u305d\\u3057\\u3066\\u9ec4\\u8272moodle\\u5185\\u306e\\u5b66\\u7fd2\\u72b6\\u6cc1\\u30a2\\u30f3\\u30b1\\u30fc\\u30c8\\u3092\\u8a18\\u5165\\u3059\\u308b\\u6b21\\u56de\\u306e\\u8b1b\\u7fa9\\u307e\\u3067\\u306b\\u8b1b\\u7fa9\\u5185\\u3067\\u6307\\u793a\\u3055\\u308c\\u305f\\u6f14\\u7fd2\\u3092\\u89e3\\u304d\\u4f5c\\u6210\\u3057\\u305f\\u30ce\\u30fc\\u30c8\\u3068\\u6f14\\u7fd2\\u3092\\u305d\\u308c\\u305e\\u308c\\u306e\\u63d0\\u51fa\\u5148\\u306b\\u63d0\\u51fa\\u3059\\u308b\\u3055\\u3089\\u306bbookroll\\u3092\\u7528\\u3044\\u3066\\u6b21\\u56de\\u306e\\u6388\\u696d\\u306e\\u4e88\\u7fd2\\u3092\\u3059\\u308b\"}],\"label\":\"26_\\u6388\\u696d\\u306e\\u9032\\u3081\\u65b9\\u306e\\u8aac\\u660e_\\u6388\\u696d\\u304c\\u7d42\\u308f\\u3063\\u305f\\u3089\\u305d\\u306e\\u56de\\u306e\\u65e5\\u8a8c\\u30ce\\u30fc\\u30c8\\u8981\\u70b9\\u6574\\u7406\\u3092\\u4f5c\\u6210\\u3057\\u3066\\u6295\\u7a3f\\u3059\\u308b\\u307e\\u305f\\u6f14\\u7fd2\\u8ab2\\u984c\\u3082\\u5b9f\\u65bd\\u3057\\u3066\\u63d0\\u51fa\\u3059\\u308b_\\u6388\\u696d\\u5f53\\u65e5\\u306b\\u306f\\u305d\\u306e\\u65e5\\u306e\\u7bc4\\u56f2\\u306e\\u5185\\u5bb9\\u306e\\u8aac\\u660e\\u3068\\u8ab2\\u984c\\u306e\\u6307\\u793a\\u304c\\u306a\\u3055\\u308c\\u308b\\u306e\\u3067\\u3057\\u3063\\u304b\\u308a\\u3068\\u7406\\u89e3\\u3057\\u30e1\\u30e2\\u3092\\u53d6\\u3063\\u3066\\u304a\\u304f\\u5185\\u5bb9\\u306e\\u8aac\\u660e\\u3092\\u805e\\u304d\\u306a\\u304c\\u3089bookroll\\u4e0a\\u3067\\u30ad\\u30fc\\u30ef\\u30fc\\u30c9\\u306b\\u30de\\u30fc\\u30ab\\u30fc\\u3092\\u5f15\\u304f\\u308f\\u304b\\u3063\\u305f_\\u9ec4\\u8272moodle\\u3092\\u5229\\u7528\\u3057\\u3066\\u30ed\\u30b0\\u30a4\\u30f3\\u3059\\u308b\\u305d\\u306e\\u5f8c\\u9ec4\\u8272moodle\\u5185\\u306e\\u30ea\\u30f3\\u30af\\u304b\\u3089\\u9752\\u8272moodle\\u306b\\u79fb\\u52d5\\u3057teams\\u306b\\u3088\\u308b\\u30aa\\u30f3\\u30e9\\u30a4\\u30f3\\u6388\\u696d\\u3078\\u306e\\u63a5\\u7d9a\\u3092\\u884c\\u3046\\u6c34\\u8272moodle\\u5185\\u306ebookroll\\u3092\\u4f75\\u7528\\u3057\\u3066\\u8b1b\\u7fa9\\u3092\\u53d7\\u8b1b\\u3057\\u30ce\\u30fc\\u30c8\\u3092\\u4f5c\\u6210\\u3059\\u308b\\u8b1b\\u7fa9\\u304c\\u7d42\\u4e86\\u3057\\u305f\\u3089\\u6c34\\u8272moodle\\u5185\\u306e\\u632f\\u308a\\u8fd4\\u308a\\u65e5\\u8a8c\\u305d\\u3057\\u3066\\u9ec4\\u8272moodle\\u5185\\u306e\\u5b66\\u7fd2\\u72b6\\u6cc1\\u30a2\\u30f3\\u30b1\\u30fc\\u30c8\\u3092\\u8a18\\u5165\\u3059\\u308b\\u6b21\\u56de\\u306e\\u8b1b\\u7fa9\\u307e\\u3067\\u306b\\u8b1b\\u7fa9\\u5185\\u3067\\u6307\\u793a\\u3055\\u308c\\u305f\\u6f14\\u7fd2\\u3092\\u89e3\\u304d\\u4f5c\\u6210\\u3057\\u305f\\u30ce\\u30fc\\u30c8\\u3068\\u6f14\\u7fd2\\u3092\\u305d\\u308c\\u305e\\u308c\\u306e\\u63d0\\u51fa\\u5148\\u306b\\u63d0\\u51fa\\u3059\\u308b\\u3055\\u3089\\u306bbookroll\\u3092\\u7528\\u3044\\u3066\\u6b21\\u56de\\u306e\\u6388\\u696d\\u306e\\u4e88\\u7fd2\\u3092\\u3059\\u308b\",\"method\":\"update\"},{\"args\":[{\"visible\":[false,false,false,false,false,false,false,false,false,false,false,false,false,false,false,false,false,false,false,false,false,false,false,false,false,false,false,false,true,false,false,false,false,false,false,false,false,false,false,false,false,false,false,false,false,false,false,false,false,false,false]},{\"title\":\"27_2fm_\\u9023\\u7d9a\\u4fe1\\u53f7\\u306e\\u6a19\\u672c\\u5316\\u306e\\u7cbe\\u5ea6\\u306b\\u95a2\\u308f\\u308b\\u6a19\\u672c\\u5316\\u5b9a\\u7406\\u3084\\u30ca\\u30a4\\u30ad\\u30b9\\u30c8\\u5468\\u6ce2\\u6570\\u306a\\u3069\\u306b\\u3064\\u3044\\u3066\\u306e\\u5185\\u5bb9_\\u3068\\u30a4\\u30f3\\u30d1\\u30eb\\u30b9\\u5217\\u306e\\u7a4d\\u3068\\u3057\\u3066\\u8868\\u73fe\\u3067\\u304d\\u308b_fs\"}],\"label\":\"27_2fm_\\u9023\\u7d9a\\u4fe1\\u53f7\\u306e\\u6a19\\u672c\\u5316\\u306e\\u7cbe\\u5ea6\\u306b\\u95a2\\u308f\\u308b\\u6a19\\u672c\\u5316\\u5b9a\\u7406\\u3084\\u30ca\\u30a4\\u30ad\\u30b9\\u30c8\\u5468\\u6ce2\\u6570\\u306a\\u3069\\u306b\\u3064\\u3044\\u3066\\u306e\\u5185\\u5bb9_\\u3068\\u30a4\\u30f3\\u30d1\\u30eb\\u30b9\\u5217\\u306e\\u7a4d\\u3068\\u3057\\u3066\\u8868\\u73fe\\u3067\\u304d\\u308b_fs\",\"method\":\"update\"},{\"args\":[{\"visible\":[false,false,false,false,false,false,false,false,false,false,false,false,false,false,false,false,false,false,false,false,false,false,false,false,false,false,false,false,false,true,false,false,false,false,false,false,false,false,false,false,false,false,false,false,false,false,false,false,false,false,false]},{\"title\":\"28_\\u56de\\u5e30_\\u76f8\\u95a2_\\u6642\\u7cfb\\u5217_\\u691c\\u5b9a\"}],\"label\":\"28_\\u56de\\u5e30_\\u76f8\\u95a2_\\u6642\\u7cfb\\u5217_\\u691c\\u5b9a\",\"method\":\"update\"},{\"args\":[{\"visible\":[false,false,false,false,false,false,false,false,false,false,false,false,false,false,false,false,false,false,false,false,false,false,false,false,false,false,false,false,false,false,true,false,false,false,false,false,false,false,false,false,false,false,false,false,false,false,false,false,false,false,false]},{\"title\":\"29_\\u30d5\\u30fc\\u30ea\\u30a8\\u7d1a\\u6570\\u306b\\u3064\\u3044\\u3066\\u5b66\\u3093\\u3060_\\u3053\\u308c\\u304b\\u3089\\u306e\\u6388\\u696d\\u3067\\u4f55\\u3092\\u5b66\\u3076\\u304b\\u3084\\u8a08\\u7b97\\u3068\\u306f\\u4f55\\u304b\\u306b\\u3064\\u3044\\u3066\\u4f8b\\u3092\\u7528\\u3044\\u3066\\u5b66\\u3093\\u3060_\\u9ad8\\u6821\\u306e\\u6570\\u5b66\\u3067\\u3082\\u304b\\u3058\\u3063\\u305f\\u76f8\\u95a2\\u306b\\u3064\\u3044\\u3066\\u5b66\\u3093\\u3060_\\u30d5\\u30fc\\u30ea\\u30a8\\u7d1a\\u6570\\u306f\\u4ee5\\u524d\\u4e00\\u5ea6\\u7fd2\\u3063\\u305f\\u304c\\u5fd8\\u308c\\u3066\\u3044\\u305f\"}],\"label\":\"29_\\u30d5\\u30fc\\u30ea\\u30a8\\u7d1a\\u6570\\u306b\\u3064\\u3044\\u3066\\u5b66\\u3093\\u3060_\\u3053\\u308c\\u304b\\u3089\\u306e\\u6388\\u696d\\u3067\\u4f55\\u3092\\u5b66\\u3076\\u304b\\u3084\\u8a08\\u7b97\\u3068\\u306f\\u4f55\\u304b\\u306b\\u3064\\u3044\\u3066\\u4f8b\\u3092\\u7528\\u3044\\u3066\\u5b66\\u3093\\u3060_\\u9ad8\\u6821\\u306e\\u6570\\u5b66\\u3067\\u3082\\u304b\\u3058\\u3063\\u305f\\u76f8\\u95a2\\u306b\\u3064\\u3044\\u3066\\u5b66\\u3093\\u3060_\\u30d5\\u30fc\\u30ea\\u30a8\\u7d1a\\u6570\\u306f\\u4ee5\\u524d\\u4e00\\u5ea6\\u7fd2\\u3063\\u305f\\u304c\\u5fd8\\u308c\\u3066\\u3044\\u305f\",\"method\":\"update\"},{\"args\":[{\"visible\":[false,false,false,false,false,false,false,false,false,false,false,false,false,false,false,false,false,false,false,false,false,false,false,false,false,false,false,false,false,false,false,true,false,false,false,false,false,false,false,false,false,false,false,false,false,false,false,false,false,false,false]},{\"title\":\"30_\\u30d5\\u30fc\\u30ea\\u30a8\\u7d1a\\u6570\\u8868\\u73fe_sincos_\\u5468\\u671f\\u7684\\u306a\\u4fe1\\u53f7\\u306f\\u30d5\\u30fc\\u30ea\\u30a8\\u7d1a\\u6570\\u306b\\u3088\\u3063\\u3066\\u8868\\u73fe\\u3067\\u304d\\u308b\\u3064\\u307e\\u308a\\u3044\\u308d\\u3044\\u308d\\u306a\\u6b63\\u5f26\\u6ce2\\u306e\\u8db3\\u3057\\u5408\\u308f\\u305b\\u3067\\u8868\\u73fe\\u3067\\u304d\\u308b\\u306e\\u3067\\u3042\\u308b\\u30d5\\u30fc\\u30ea\\u30a8\\u7d1a\\u6570\\u306f\\u30aa\\u30a4\\u30e9\\u30fc\\u306e\\u516c\\u5f0f\\u3092\\u7528\\u3044\\u3066\\u8907\\u7d20\\u30d5\\u30fc\\u30ea\\u30a8\\u7d1a\\u6570\\u306b\\u5909\\u63db\\u3067\\u304d\\u308b\\u8907\\u7d20\\u30d5\\u30fc\\u30ea\\u30a8\\u7d1a\\u6570\\u306e\\u65b9\\u304c\\u30d5\\u30fc\\u30ea\\u30a8\\u7d1a\\u6570\\u3088\\u308a\\u3082\\u7c21\\u6f54\\u306b\\u8868\\u73fe\\u3067\\u304d\\u308b_\\u8907\\u7d20\\u30d5\\u30fc\\u30ea\\u30a8\\u7d1a\\u6570\\u3068\\u30d5\\u30fc\\u30ea\\u30a8\\u7d1a\\u6570\\u306f\\u30aa\\u30a4\\u30e9\\u30fc\\u306e\\u516c\\u5f0f\\u3092\\u7528\\u3044\\u3066\\u4e92\\u3044\\u306b\\u5909\\u5f62\\u3067\\u304d\\u308b\"}],\"label\":\"30_\\u30d5\\u30fc\\u30ea\\u30a8\\u7d1a\\u6570\\u8868\\u73fe_sincos_\\u5468\\u671f\\u7684\\u306a\\u4fe1\\u53f7\\u306f\\u30d5\\u30fc\\u30ea\\u30a8\\u7d1a\\u6570\\u306b\\u3088\\u3063\\u3066\\u8868\\u73fe\\u3067\\u304d\\u308b\\u3064\\u307e\\u308a\\u3044\\u308d\\u3044\\u308d\\u306a\\u6b63\\u5f26\\u6ce2\\u306e\\u8db3\\u3057\\u5408\\u308f\\u305b\\u3067\\u8868\\u73fe\\u3067\\u304d\\u308b\\u306e\\u3067\\u3042\\u308b\\u30d5\\u30fc\\u30ea\\u30a8\\u7d1a\\u6570\\u306f\\u30aa\\u30a4\\u30e9\\u30fc\\u306e\\u516c\\u5f0f\\u3092\\u7528\\u3044\\u3066\\u8907\\u7d20\\u30d5\\u30fc\\u30ea\\u30a8\\u7d1a\\u6570\\u306b\\u5909\\u63db\\u3067\\u304d\\u308b\\u8907\\u7d20\\u30d5\\u30fc\\u30ea\\u30a8\\u7d1a\\u6570\\u306e\\u65b9\\u304c\\u30d5\\u30fc\\u30ea\\u30a8\\u7d1a\\u6570\\u3088\\u308a\\u3082\\u7c21\\u6f54\\u306b\\u8868\\u73fe\\u3067\\u304d\\u308b_\\u8907\\u7d20\\u30d5\\u30fc\\u30ea\\u30a8\\u7d1a\\u6570\\u3068\\u30d5\\u30fc\\u30ea\\u30a8\\u7d1a\\u6570\\u306f\\u30aa\\u30a4\\u30e9\\u30fc\\u306e\\u516c\\u5f0f\\u3092\\u7528\\u3044\\u3066\\u4e92\\u3044\\u306b\\u5909\\u5f62\\u3067\\u304d\\u308b\",\"method\":\"update\"},{\"args\":[{\"visible\":[false,false,false,false,false,false,false,false,false,false,false,false,false,false,false,false,false,false,false,false,false,false,false,false,false,false,false,false,false,false,false,false,true,false,false,false,false,false,false,false,false,false,false,false,false,false,false,false,false,false,false]},{\"title\":\"31_fir\\u306e\\u8a2d\\u8a08\\u306b\\u306f\\u7a93\\u95a2\\u6570\\u304c\\u7528\\u3044\\u3089\\u308c\\u308b\\u624b\\u9806\\u306f\\u6b21\\u306e\\u3068\\u304a\\u308a\\u3067\\u3042\\u308b\\u2460\\u6240\\u671b\\u306e\\u632f\\u5e45\\u7279\\u6027\\u3092\\u6c42\\u3081\\u308b\\u2461\\u30a4\\u30f3\\u30d1\\u30eb\\u30b9\\u5fdc\\u7b54\\u3092\\u6c42\\u3081\\u308b\\u2462\\u7a93\\u95a2\\u6570\\u3092\\u639b\\u3051\\u5408\\u308f\\u305b\\u3066\\u6709\\u9650\\u500b\\u306e\\u30a4\\u30f3\\u30d1\\u30eb\\u30b9\\u5fdc\\u7b54\\u3092\\u53d6\\u308a\\u51fa\\u3059\\u2463\\u56e0\\u679c\\u6027\\u3092\\u6e80\\u305f\\u3059\\u3088\\u3046\\u306b\\u3059\\u308b\\u2464h_\\u30d5\\u30a3\\u30eb\\u30bf\\u306e\\u6b21\\u6570\\u304c\\u5927\\u304d\\u3044\\u307b\\u3069\\u671b\\u3080\\u5468\\u6ce2\\u6570\\u7279\\u6027\\u306b\\u8fd1\\u3065\\u304f\\u304c\\u6f14\\u7b97\\u91cf\\u304c\\u5897\\u3048\\u308b\\u3068\\u3044\\u3046\\u6b20\\u70b9\\u3082\\u3042\\u308b_\\u901a\\u904e\\u57df_\\u7a93\\u95a2\\u6570\\u3092\\u5de5\\u592b\\u3059\\u308b\\u3053\\u3068\\u3067\\u7406\\u60f3\\u306b\\u8fd1\\u3065\\u3051\\u308b\"}],\"label\":\"31_fir\\u306e\\u8a2d\\u8a08\\u306b\\u306f\\u7a93\\u95a2\\u6570\\u304c\\u7528\\u3044\\u3089\\u308c\\u308b\\u624b\\u9806\\u306f\\u6b21\\u306e\\u3068\\u304a\\u308a\\u3067\\u3042\\u308b\\u2460\\u6240\\u671b\\u306e\\u632f\\u5e45\\u7279\\u6027\\u3092\\u6c42\\u3081\\u308b\\u2461\\u30a4\\u30f3\\u30d1\\u30eb\\u30b9\\u5fdc\\u7b54\\u3092\\u6c42\\u3081\\u308b\\u2462\\u7a93\\u95a2\\u6570\\u3092\\u639b\\u3051\\u5408\\u308f\\u305b\\u3066\\u6709\\u9650\\u500b\\u306e\\u30a4\\u30f3\\u30d1\\u30eb\\u30b9\\u5fdc\\u7b54\\u3092\\u53d6\\u308a\\u51fa\\u3059\\u2463\\u56e0\\u679c\\u6027\\u3092\\u6e80\\u305f\\u3059\\u3088\\u3046\\u306b\\u3059\\u308b\\u2464h_\\u30d5\\u30a3\\u30eb\\u30bf\\u306e\\u6b21\\u6570\\u304c\\u5927\\u304d\\u3044\\u307b\\u3069\\u671b\\u3080\\u5468\\u6ce2\\u6570\\u7279\\u6027\\u306b\\u8fd1\\u3065\\u304f\\u304c\\u6f14\\u7b97\\u91cf\\u304c\\u5897\\u3048\\u308b\\u3068\\u3044\\u3046\\u6b20\\u70b9\\u3082\\u3042\\u308b_\\u901a\\u904e\\u57df_\\u7a93\\u95a2\\u6570\\u3092\\u5de5\\u592b\\u3059\\u308b\\u3053\\u3068\\u3067\\u7406\\u60f3\\u306b\\u8fd1\\u3065\\u3051\\u308b\",\"method\":\"update\"},{\"args\":[{\"visible\":[false,false,false,false,false,false,false,false,false,false,false,false,false,false,false,false,false,false,false,false,false,false,false,false,false,false,false,false,false,false,false,false,false,true,false,false,false,false,false,false,false,false,false,false,false,false,false,false,false,false,false]},{\"title\":\"32_\\u96e2\\u6563\\u30d5\\u30fc\\u30ea\\u30a8\\u5909\\u63db\\u306e\\u6027\\u8cea\\u306b\\u3064\\u3044\\u3066\\u5b66\\u3093\\u3060_\\u96e2\\u6563\\u30d5\\u30fc\\u30ea\\u30a8\\u5909\\u63db\\u306b\\u3064\\u3044\\u3066\\u5b66\\u3093\\u3060_\\u30d5\\u30fc\\u30ea\\u30a8\\u5909\\u63db\\u306e\\u6027\\u8cea\\u306a\\u3069\\u3092\\u5b66\\u7fd2\\u3057\\u305f\\u308a\\u3057\\u305f_\\u30d5\\u30fc\\u30ea\\u30a8\\u5909\\u63db\\u306e\\u6027\\u8cea\\u3092\\u5b66\\u3093\\u3060\"}],\"label\":\"32_\\u96e2\\u6563\\u30d5\\u30fc\\u30ea\\u30a8\\u5909\\u63db\\u306e\\u6027\\u8cea\\u306b\\u3064\\u3044\\u3066\\u5b66\\u3093\\u3060_\\u96e2\\u6563\\u30d5\\u30fc\\u30ea\\u30a8\\u5909\\u63db\\u306b\\u3064\\u3044\\u3066\\u5b66\\u3093\\u3060_\\u30d5\\u30fc\\u30ea\\u30a8\\u5909\\u63db\\u306e\\u6027\\u8cea\\u306a\\u3069\\u3092\\u5b66\\u7fd2\\u3057\\u305f\\u308a\\u3057\\u305f_\\u30d5\\u30fc\\u30ea\\u30a8\\u5909\\u63db\\u306e\\u6027\\u8cea\\u3092\\u5b66\\u3093\\u3060\",\"method\":\"update\"},{\"args\":[{\"visible\":[false,false,false,false,false,false,false,false,false,false,false,false,false,false,false,false,false,false,false,false,false,false,false,false,false,false,false,false,false,false,false,false,false,false,true,false,false,false,false,false,false,false,false,false,false,false,false,false,false,false,false]},{\"title\":\"33_\\u6a19\\u672c\\u5316\\u306b\\u3064\\u3044\\u3066_\\u6a19\\u672c\\u5316_\\u6a19\\u672c\\u5316\\u5b9a\\u7406_\\u30b5\\u30f3\\u30d7\\u30ea\\u30f3\\u30b0\\u3068\\u6a19\\u672c\\u5316\\u5b9a\\u7406\\u306b\\u3064\\u3044\\u3066\"}],\"label\":\"33_\\u6a19\\u672c\\u5316\\u306b\\u3064\\u3044\\u3066_\\u6a19\\u672c\\u5316_\\u6a19\\u672c\\u5316\\u5b9a\\u7406_\\u30b5\\u30f3\\u30d7\\u30ea\\u30f3\\u30b0\\u3068\\u6a19\\u672c\\u5316\\u5b9a\\u7406\\u306b\\u3064\\u3044\\u3066\",\"method\":\"update\"},{\"args\":[{\"visible\":[false,false,false,false,false,false,false,false,false,false,false,false,false,false,false,false,false,false,false,false,false,false,false,false,false,false,false,false,false,false,false,false,false,false,false,true,false,false,false,false,false,false,false,false,false,false,false,false,false,false,false]},{\"title\":\"34_\\u30c7\\u30a3\\u30b8\\u30bf\\u30eb\\u30d5\\u30a3\\u30eb\\u30bf\\u306e\\u8a2d\\u8a08_\\u30c7\\u30a3\\u30b8\\u30bf\\u30eb\\u30d5\\u30a3\\u30eb\\u30bf\\u8a2d\\u8a08\\u306e\\u8003\\u3048\\u65b9_fir\\u30d5\\u30a3\\u30eb\\u30bf\\u306f\\u7a93\\u95a2\\u6570\\u6cd5\\u3067\\u8a2d\\u8a08\\u3067\\u304d\\u308b_\\u30d5\\u30a3\\u30eb\\u30bf\\u30fc\\u306e\\u4f5c\\u6210\\u624b\\u6cd5\"}],\"label\":\"34_\\u30c7\\u30a3\\u30b8\\u30bf\\u30eb\\u30d5\\u30a3\\u30eb\\u30bf\\u306e\\u8a2d\\u8a08_\\u30c7\\u30a3\\u30b8\\u30bf\\u30eb\\u30d5\\u30a3\\u30eb\\u30bf\\u8a2d\\u8a08\\u306e\\u8003\\u3048\\u65b9_fir\\u30d5\\u30a3\\u30eb\\u30bf\\u306f\\u7a93\\u95a2\\u6570\\u6cd5\\u3067\\u8a2d\\u8a08\\u3067\\u304d\\u308b_\\u30d5\\u30a3\\u30eb\\u30bf\\u30fc\\u306e\\u4f5c\\u6210\\u624b\\u6cd5\",\"method\":\"update\"},{\"args\":[{\"visible\":[false,false,false,false,false,false,false,false,false,false,false,false,false,false,false,false,false,false,false,false,false,false,false,false,false,false,false,false,false,false,false,false,false,false,false,false,true,false,false,false,false,false,false,false,false,false,false,false,false,false,false]},{\"title\":\"35_\\u30a4\\u30f3\\u30d1\\u30eb\\u30b9\\u5fdc\\u7b54_\\u5dee\\u5206\\u65b9\\u7a0b\\u5f0f_\\u30a4\\u30f3\\u30d1\\u30eb\\u30b9\\u5fdc\\u7b54\\u4f1d\\u9054\\u95a2\\u6570\\u3068\\u305d\\u306e\\u8a08\\u7b97\\u306e\\u624b\\u6cd5_\\u30a4\\u30f3\\u30d1\\u30eb\\u30b9\\u5fdc\\u7b54\\u4f1d\\u9054\\u95a2\\u6570\\u306a\\u3069\\u306b\\u3064\\u3044\\u3066\"}],\"label\":\"35_\\u30a4\\u30f3\\u30d1\\u30eb\\u30b9\\u5fdc\\u7b54_\\u5dee\\u5206\\u65b9\\u7a0b\\u5f0f_\\u30a4\\u30f3\\u30d1\\u30eb\\u30b9\\u5fdc\\u7b54\\u4f1d\\u9054\\u95a2\\u6570\\u3068\\u305d\\u306e\\u8a08\\u7b97\\u306e\\u624b\\u6cd5_\\u30a4\\u30f3\\u30d1\\u30eb\\u30b9\\u5fdc\\u7b54\\u4f1d\\u9054\\u95a2\\u6570\\u306a\\u3069\\u306b\\u3064\\u3044\\u3066\",\"method\":\"update\"},{\"args\":[{\"visible\":[false,false,false,false,false,false,false,false,false,false,false,false,false,false,false,false,false,false,false,false,false,false,false,false,false,false,false,false,false,false,false,false,false,false,false,false,false,true,false,false,false,false,false,false,false,false,false,false,false,false,false]},{\"title\":\"36_\\u3092\\u6b21\\u3067\\u5b9a\\u3081\\u308b_2\\u9032\\u6570\\u3092\\u4f7f\\u3063\\u3066\\u60c5\\u5831\\u6e90\\u3092\\u7b26\\u53f7\\u5316\\u3059\\u308b\\u969b\\u306b\\u5fc5\\u8981\\u306a\\u6761\\u4ef6\\u306b\\u3064\\u3044\\u3066_\\u4eca\\u56de\\u306e\\u8b1b\\u7fa9\\u3067\\u306f\\u524d\\u56de\\u306b\\u5b66\\u3093\\u3060\\u60c5\\u5831\\u306e\\u7b26\\u53f7\\u5316\\u306b\\u3064\\u3044\\u3066_\\u6700\\u9069\\u306a\\u7b26\\u53f7\\u3092\\u751f\\u6210\\u3059\\u308b\\u305f\\u3081\\u306b\\u5fc5\\u8981\\u306a\\u3053\\u3068\"}],\"label\":\"36_\\u3092\\u6b21\\u3067\\u5b9a\\u3081\\u308b_2\\u9032\\u6570\\u3092\\u4f7f\\u3063\\u3066\\u60c5\\u5831\\u6e90\\u3092\\u7b26\\u53f7\\u5316\\u3059\\u308b\\u969b\\u306b\\u5fc5\\u8981\\u306a\\u6761\\u4ef6\\u306b\\u3064\\u3044\\u3066_\\u4eca\\u56de\\u306e\\u8b1b\\u7fa9\\u3067\\u306f\\u524d\\u56de\\u306b\\u5b66\\u3093\\u3060\\u60c5\\u5831\\u306e\\u7b26\\u53f7\\u5316\\u306b\\u3064\\u3044\\u3066_\\u6700\\u9069\\u306a\\u7b26\\u53f7\\u3092\\u751f\\u6210\\u3059\\u308b\\u305f\\u3081\\u306b\\u5fc5\\u8981\\u306a\\u3053\\u3068\",\"method\":\"update\"},{\"args\":[{\"visible\":[false,false,false,false,false,false,false,false,false,false,false,false,false,false,false,false,false,false,false,false,false,false,false,false,false,false,false,false,false,false,false,false,false,false,false,false,false,false,true,false,false,false,false,false,false,false,false,false,false,false,false]},{\"title\":\"37_\\u53ef\\u8996\\u5316\\u306e\\u7a2e\\u985e_\\u53ef\\u8996\\u5316\\u306b\\u3064\\u3044\\u3066_\\u53ef\\u8996\\u5316\\u3068\\u305d\\u306e\\u624b\\u6cd5_\\u53ef\\u8996\\u5316\\u3068\\u306f\\u4f55\\u304b\\u3084\\u3044\\u308d\\u3044\\u308d\\u306a\\u53ef\\u8996\\u5316\\u624b\\u6cd5\\u306b\\u3064\\u3044\\u3066\\u5b66\\u3093\\u3060\"}],\"label\":\"37_\\u53ef\\u8996\\u5316\\u306e\\u7a2e\\u985e_\\u53ef\\u8996\\u5316\\u306b\\u3064\\u3044\\u3066_\\u53ef\\u8996\\u5316\\u3068\\u305d\\u306e\\u624b\\u6cd5_\\u53ef\\u8996\\u5316\\u3068\\u306f\\u4f55\\u304b\\u3084\\u3044\\u308d\\u3044\\u308d\\u306a\\u53ef\\u8996\\u5316\\u624b\\u6cd5\\u306b\\u3064\\u3044\\u3066\\u5b66\\u3093\\u3060\",\"method\":\"update\"},{\"args\":[{\"visible\":[false,false,false,false,false,false,false,false,false,false,false,false,false,false,false,false,false,false,false,false,false,false,false,false,false,false,false,false,false,false,false,false,false,false,false,false,false,false,false,true,false,false,false,false,false,false,false,false,false,false,false]},{\"title\":\"38_\\u7814\\u7a76\\u502b\\u7406\\u60c5\\u5831\\u502b\\u7406\\u306b\\u3064\\u3044\\u3066_\\u7814\\u7a76\\u306b\\u304a\\u3051\\u308b\\u4e0d\\u6b63\\u3084\\u60c5\\u5831\\u306e\\u502b\\u7406_\\u7814\\u7a76\\u306b\\u304a\\u3051\\u308b\\u502b\\u7406\\u3068\\u60c5\\u5831\\u306e\\u6271\\u3044_\\u7814\\u7a76\\u502b\\u7406\\u3068\\u7814\\u7a76\\u8005\\u304c\\u826f\\u8b58\\u3092\\u6301\\u3063\\u3066\\u9075\\u5b88\\u3059\\u3079\\u304d\\u898f\\u7bc4\"}],\"label\":\"38_\\u7814\\u7a76\\u502b\\u7406\\u60c5\\u5831\\u502b\\u7406\\u306b\\u3064\\u3044\\u3066_\\u7814\\u7a76\\u306b\\u304a\\u3051\\u308b\\u4e0d\\u6b63\\u3084\\u60c5\\u5831\\u306e\\u502b\\u7406_\\u7814\\u7a76\\u306b\\u304a\\u3051\\u308b\\u502b\\u7406\\u3068\\u60c5\\u5831\\u306e\\u6271\\u3044_\\u7814\\u7a76\\u502b\\u7406\\u3068\\u7814\\u7a76\\u8005\\u304c\\u826f\\u8b58\\u3092\\u6301\\u3063\\u3066\\u9075\\u5b88\\u3059\\u3079\\u304d\\u898f\\u7bc4\",\"method\":\"update\"},{\"args\":[{\"visible\":[false,false,false,false,false,false,false,false,false,false,false,false,false,false,false,false,false,false,false,false,false,false,false,false,false,false,false,false,false,false,false,false,false,false,false,false,false,false,false,false,true,false,false,false,false,false,false,false,false,false,false]},{\"title\":\"39_\\u753b\\u50cf\\u306b\\u3064\\u3044\\u3066_\\u76f8\\u95a2\\u306b\\u3064\\u3044\\u3066_\\u76f8\\u95a2_\\u753b\\u50cf\\u306e\\u30a8\\u30c3\\u30b8\\u306b\\u95a2\\u3057\\u3066\"}],\"label\":\"39_\\u753b\\u50cf\\u306b\\u3064\\u3044\\u3066_\\u76f8\\u95a2\\u306b\\u3064\\u3044\\u3066_\\u76f8\\u95a2_\\u753b\\u50cf\\u306e\\u30a8\\u30c3\\u30b8\\u306b\\u95a2\\u3057\\u3066\",\"method\":\"update\"},{\"args\":[{\"visible\":[false,false,false,false,false,false,false,false,false,false,false,false,false,false,false,false,false,false,false,false,false,false,false,false,false,false,false,false,false,false,false,false,false,false,false,false,false,false,false,false,false,true,false,false,false,false,false,false,false,false,false]},{\"title\":\"40_\\u9006z\\u5909\\u63db_\\u9006z\\u5909\\u63db\\u306b\\u3064\\u3044\\u3066_\\u9006z\\u5909\\u63db\\u3092\\u89e3\\u304f_\\u9006z\\u5909\\u63db\\u306e\\u6c42\\u3081\\u65b9\\u306b\\u95a2\\u3057\\u3066\\u306e\\u8b1b\\u7fa9\"}],\"label\":\"40_\\u9006z\\u5909\\u63db_\\u9006z\\u5909\\u63db\\u306b\\u3064\\u3044\\u3066_\\u9006z\\u5909\\u63db\\u3092\\u89e3\\u304f_\\u9006z\\u5909\\u63db\\u306e\\u6c42\\u3081\\u65b9\\u306b\\u95a2\\u3057\\u3066\\u306e\\u8b1b\\u7fa9\",\"method\":\"update\"},{\"args\":[{\"visible\":[false,false,false,false,false,false,false,false,false,false,false,false,false,false,false,false,false,false,false,false,false,false,false,false,false,false,false,false,false,false,false,false,false,false,false,false,false,false,false,false,false,false,true,false,false,false,false,false,false,false,false]},{\"title\":\"41_\\u30c7\\u30a3\\u30b8\\u30bf\\u30eb\\u30d5\\u30a3\\u30eb\\u30bf\\u306e\\u6982\\u8981\\u3092\\u5b66\\u3093\\u3060_\\u30c7\\u30a3\\u30b8\\u30bf\\u30eb\\u30d5\\u30a3\\u30eb\\u30bf\\u306e\\u7a2e\\u985e\\u3084\\u305d\\u306e\\u8a2d\\u8a08\\u65b9\\u6cd5\\u306b\\u3064\\u3044\\u3066\\u5b66\\u3093\\u3060_\\u672c\\u65e5\\u306f\\u30c7\\u30a3\\u30b8\\u30bf\\u30eb\\u30d5\\u30a3\\u30eb\\u30bf\\u306b\\u3064\\u3044\\u3066\\u5b66\\u3093\\u3060\\u307e\\u305fflr\\u30d5\\u30a3\\u30eb\\u30bf\\u306e\\u5834\\u5408\\u3067\\u306e\\u8a2d\\u8a08\\u304c\\u3069\\u306e\\u3088\\u3046\\u306a\\u624b\\u9806\\u3067\\u884c\\u308f\\u308c\\u308b\\u304b\\u5b66\\u3076\\u3053\\u3068\\u304c\\u91cd\\u8981\\u3067\\u3042\\u308b_\\u591a\\u69d8\\u306a\\u7a2e\\u985e\\u306e\\u30d5\\u30a3\\u30eb\\u30bf\\u306b\\u3064\\u3044\\u3066\\u3068\\u30d5\\u30a3\\u30eb\\u30bf\\u3092\\u8a2d\\u8a08\\u3059\\u308b\\u969b\\u306b\\u7528\\u3044\\u308b\\u7a93\\u95a2\\u6570\\u306b\\u3064\\u3044\\u3066\\u5b66\\u7fd2\\u3057\\u305f\"}],\"label\":\"41_\\u30c7\\u30a3\\u30b8\\u30bf\\u30eb\\u30d5\\u30a3\\u30eb\\u30bf\\u306e\\u6982\\u8981\\u3092\\u5b66\\u3093\\u3060_\\u30c7\\u30a3\\u30b8\\u30bf\\u30eb\\u30d5\\u30a3\\u30eb\\u30bf\\u306e\\u7a2e\\u985e\\u3084\\u305d\\u306e\\u8a2d\\u8a08\\u65b9\\u6cd5\\u306b\\u3064\\u3044\\u3066\\u5b66\\u3093\\u3060_\\u672c\\u65e5\\u306f\\u30c7\\u30a3\\u30b8\\u30bf\\u30eb\\u30d5\\u30a3\\u30eb\\u30bf\\u306b\\u3064\\u3044\\u3066\\u5b66\\u3093\\u3060\\u307e\\u305fflr\\u30d5\\u30a3\\u30eb\\u30bf\\u306e\\u5834\\u5408\\u3067\\u306e\\u8a2d\\u8a08\\u304c\\u3069\\u306e\\u3088\\u3046\\u306a\\u624b\\u9806\\u3067\\u884c\\u308f\\u308c\\u308b\\u304b\\u5b66\\u3076\\u3053\\u3068\\u304c\\u91cd\\u8981\\u3067\\u3042\\u308b_\\u591a\\u69d8\\u306a\\u7a2e\\u985e\\u306e\\u30d5\\u30a3\\u30eb\\u30bf\\u306b\\u3064\\u3044\\u3066\\u3068\\u30d5\\u30a3\\u30eb\\u30bf\\u3092\\u8a2d\\u8a08\\u3059\\u308b\\u969b\\u306b\\u7528\\u3044\\u308b\\u7a93\\u95a2\\u6570\\u306b\\u3064\\u3044\\u3066\\u5b66\\u7fd2\\u3057\\u305f\",\"method\":\"update\"},{\"args\":[{\"visible\":[false,false,false,false,false,false,false,false,false,false,false,false,false,false,false,false,false,false,false,false,false,false,false,false,false,false,false,false,false,false,false,false,false,false,false,false,false,false,false,false,false,false,false,true,false,false,false,false,false,false,false]},{\"title\":\"42_\\u6388\\u696d\\u306e\\u30ac\\u30a4\\u30c0\\u30f3\\u30b9_ict\\u306e\\u9032\\u3093\\u3060\\u73fe\\u4ee3\\u306b\\u304a\\u3044\\u3066\\u5897\\u52a0\\u3057\\u3066\\u3044\\u308b\\u30bb\\u30ad\\u30e5\\u30ea\\u30c6\\u30a3\\u30a4\\u30f3\\u30b7\\u30c7\\u30f3\\u30c8\\u3068\\u305d\\u306e\\u5bfe\\u7b56_\\u30ac\\u30a4\\u30c0\\u30f3\\u30b9\\u6388\\u696d\\u306e\\u9032\\u3081\\u65b9_\\u8b1b\\u7fa9\\u306e\\u30ac\\u30a4\\u30c0\\u30f3\\u30b9\\u4f7f\\u7528\\u3059\\u308b\\u30c4\\u30fc\\u30eb\\u985e\\u306e\\u8aac\\u660e\\u3068\\u8a66\\u7528\"}],\"label\":\"42_\\u6388\\u696d\\u306e\\u30ac\\u30a4\\u30c0\\u30f3\\u30b9_ict\\u306e\\u9032\\u3093\\u3060\\u73fe\\u4ee3\\u306b\\u304a\\u3044\\u3066\\u5897\\u52a0\\u3057\\u3066\\u3044\\u308b\\u30bb\\u30ad\\u30e5\\u30ea\\u30c6\\u30a3\\u30a4\\u30f3\\u30b7\\u30c7\\u30f3\\u30c8\\u3068\\u305d\\u306e\\u5bfe\\u7b56_\\u30ac\\u30a4\\u30c0\\u30f3\\u30b9\\u6388\\u696d\\u306e\\u9032\\u3081\\u65b9_\\u8b1b\\u7fa9\\u306e\\u30ac\\u30a4\\u30c0\\u30f3\\u30b9\\u4f7f\\u7528\\u3059\\u308b\\u30c4\\u30fc\\u30eb\\u985e\\u306e\\u8aac\\u660e\\u3068\\u8a66\\u7528\",\"method\":\"update\"},{\"args\":[{\"visible\":[false,false,false,false,false,false,false,false,false,false,false,false,false,false,false,false,false,false,false,false,false,false,false,false,false,false,false,false,false,false,false,false,false,false,false,false,false,false,false,false,false,false,false,false,true,false,false,false,false,false,false]},{\"title\":\"43_\\u7dda\\u5f62\\u4e0d\\u5909\\u30b7\\u30b9\\u30c6\\u30e0\\u306b\\u30a4\\u30f3\\u30d1\\u30eb\\u30b9\\u95a2\\u6570\\u3092\\u52a0\\u3048\\u305f\\u3082\\u306e\\u304c\\u30a4\\u30f3\\u30d1\\u30eb\\u30b9\\u5fdc\\u7b54\\u3068\\u306a\\u308b_\\u7dda\\u5f62\\u6642\\u4e0d\\u5909\\u30b7\\u30b9\\u30c6\\u30e0\\u306e\\u6570\\u5b66\\u7684\\u306a\\u8868\\u73fe\\u65b9\\u6cd5\\u306b\\u3064\\u3044\\u3066\\u5b66\\u3093\\u3060_\\u7dda\\u5f62\\u6642\\u4e0d\\u5909\\u30b7\\u30b9\\u30c6\\u30e0\\u306e\\u51fa\\u529b\\u306f\\u5dee\\u5206\\u65b9\\u7a0b\\u5f0f\\u3067\\u8868\\u73fe\\u3055\\u308c\\u305d\\u3053\\u304b\\u3089\\u4f1d\\u9054\\u95a2\\u6570\\u306e\\u5f62\\u3092\\u8003\\u3048\\u308b\\u3053\\u3068\\u304c\\u3067\\u304d\\u308b_\\u7dda\\u5f62\\u6642\\u4e0d\\u5909\\u30b7\\u30b9\\u30c6\\u30e0\\u306e\\u5165\\u51fa\\u529b\"}],\"label\":\"43_\\u7dda\\u5f62\\u4e0d\\u5909\\u30b7\\u30b9\\u30c6\\u30e0\\u306b\\u30a4\\u30f3\\u30d1\\u30eb\\u30b9\\u95a2\\u6570\\u3092\\u52a0\\u3048\\u305f\\u3082\\u306e\\u304c\\u30a4\\u30f3\\u30d1\\u30eb\\u30b9\\u5fdc\\u7b54\\u3068\\u306a\\u308b_\\u7dda\\u5f62\\u6642\\u4e0d\\u5909\\u30b7\\u30b9\\u30c6\\u30e0\\u306e\\u6570\\u5b66\\u7684\\u306a\\u8868\\u73fe\\u65b9\\u6cd5\\u306b\\u3064\\u3044\\u3066\\u5b66\\u3093\\u3060_\\u7dda\\u5f62\\u6642\\u4e0d\\u5909\\u30b7\\u30b9\\u30c6\\u30e0\\u306e\\u51fa\\u529b\\u306f\\u5dee\\u5206\\u65b9\\u7a0b\\u5f0f\\u3067\\u8868\\u73fe\\u3055\\u308c\\u305d\\u3053\\u304b\\u3089\\u4f1d\\u9054\\u95a2\\u6570\\u306e\\u5f62\\u3092\\u8003\\u3048\\u308b\\u3053\\u3068\\u304c\\u3067\\u304d\\u308b_\\u7dda\\u5f62\\u6642\\u4e0d\\u5909\\u30b7\\u30b9\\u30c6\\u30e0\\u306e\\u5165\\u51fa\\u529b\",\"method\":\"update\"},{\"args\":[{\"visible\":[false,false,false,false,false,false,false,false,false,false,false,false,false,false,false,false,false,false,false,false,false,false,false,false,false,false,false,false,false,false,false,false,false,false,false,false,false,false,false,false,false,false,false,false,false,true,false,false,false,false,false]},{\"title\":\"44_\\u6a19\\u672c\\u5316\\u5b9a\\u7406\\u306b\\u3064\\u3044\\u3066\\u5b66\\u7fd2\\u3057\\u305f_\\u307e\\u305f\\u6a19\\u672c\\u5316\\u5b9a\\u7406\\u306e\\u610f\\u5473\\u306b\\u3064\\u3044\\u3066\\u3082\\u5b66\\u7fd2\\u3057\\u305f_\\u6a19\\u672c\\u5316\\u5b9a\\u7406\\u306e\\u8aac\\u660e\\u3068\\u305d\\u306e\\u6761\\u4ef6\\u306b\\u3064\\u3044\\u3066\\u5b66\\u3093\\u3060_\\u6a19\\u672c\\u5316\\u5b9a\\u7406\\u306e\\u6761\\u4ef6\\u306b\\u3064\\u3044\\u3066\\u5b66\\u3093\\u3060\"}],\"label\":\"44_\\u6a19\\u672c\\u5316\\u5b9a\\u7406\\u306b\\u3064\\u3044\\u3066\\u5b66\\u7fd2\\u3057\\u305f_\\u307e\\u305f\\u6a19\\u672c\\u5316\\u5b9a\\u7406\\u306e\\u610f\\u5473\\u306b\\u3064\\u3044\\u3066\\u3082\\u5b66\\u7fd2\\u3057\\u305f_\\u6a19\\u672c\\u5316\\u5b9a\\u7406\\u306e\\u8aac\\u660e\\u3068\\u305d\\u306e\\u6761\\u4ef6\\u306b\\u3064\\u3044\\u3066\\u5b66\\u3093\\u3060_\\u6a19\\u672c\\u5316\\u5b9a\\u7406\\u306e\\u6761\\u4ef6\\u306b\\u3064\\u3044\\u3066\\u5b66\\u3093\\u3060\",\"method\":\"update\"},{\"args\":[{\"visible\":[false,false,false,false,false,false,false,false,false,false,false,false,false,false,false,false,false,false,false,false,false,false,false,false,false,false,false,false,false,false,false,false,false,false,false,false,false,false,false,false,false,false,false,false,false,false,true,false,false,false,false]},{\"title\":\"45_\\u30d2\\u30fc\\u30d7\\u30bd\\u30fc\\u30c8\\u3068\\u30de\\u30fc\\u30b8\\u30bd\\u30fc\\u30c8\\u306b\\u3064\\u3044\\u3066_\\u30bd\\u30fc\\u30c8\\u307e\\u3068\\u3081_\\u30de\\u30fc\\u30b8\\u30bd\\u30fc\\u30c8\\u306e\\u6982\\u8981\\u5177\\u4f53\\u4f8b\\u306e\\u8aac\\u660e_\\u30d2\\u30fc\\u30d7\\u30bd\\u30fc\\u30c8\\u30de\\u30fc\\u30b8\\u30bd\\u30fc\\u30c8\\u306b\\u3064\\u3044\\u3066\\u77e5\\u308b\"}],\"label\":\"45_\\u30d2\\u30fc\\u30d7\\u30bd\\u30fc\\u30c8\\u3068\\u30de\\u30fc\\u30b8\\u30bd\\u30fc\\u30c8\\u306b\\u3064\\u3044\\u3066_\\u30bd\\u30fc\\u30c8\\u307e\\u3068\\u3081_\\u30de\\u30fc\\u30b8\\u30bd\\u30fc\\u30c8\\u306e\\u6982\\u8981\\u5177\\u4f53\\u4f8b\\u306e\\u8aac\\u660e_\\u30d2\\u30fc\\u30d7\\u30bd\\u30fc\\u30c8\\u30de\\u30fc\\u30b8\\u30bd\\u30fc\\u30c8\\u306b\\u3064\\u3044\\u3066\\u77e5\\u308b\",\"method\":\"update\"},{\"args\":[{\"visible\":[false,false,false,false,false,false,false,false,false,false,false,false,false,false,false,false,false,false,false,false,false,false,false,false,false,false,false,false,false,false,false,false,false,false,false,false,false,false,false,false,false,false,false,false,false,false,false,true,false,false,false]},{\"title\":\"46_\\u5468\\u6ce2\\u6570\\u7279\\u6027\\u306f\\u632f\\u5e45\\u3068\\u4f4d\\u76f8\\u306e2\\u7a2e\\u985e\\u30922\\u7a2e\\u985e\\u3092\\u8868\\u3059\\u56e0\\u679c\\u6027\\u3068\\u5b89\\u5b9a\\u6027\\u3092\\u307f\\u305f\\u3059\\u30b7\\u30b9\\u30c6\\u30e0\\u306f\\u5168\\u3066\\u306e\\u6975\\u304c\\u5358\\u4f4d\\u5186\\u5185\\u306b\\u305d\\u3093\\u3056\\u3044\\u3057\\u306a\\u3051\\u308c\\u3070\\u306a\\u3089\\u306a\\u3044_\\u5468\\u6ce2\\u6570\\u7279\\u6027\\u3068\\u306f\\u5165\\u529b\\u4fe1\\u53f7\\u304c\\u30b7\\u30b9\\u30c6\\u30e0\\u306b\\u3088\\u3063\\u3066\\u53d7\\u3051\\u308b\\u5909\\u5316\\u3092\\u8868\\u3057\\u3066\\u304a\\u308a\\u30b7\\u30b9\\u30c6\\u30e0\\u95a2\\u6570\\u306e\\u5927\\u304d\\u3055\\u3068\\u504f\\u89d2\\u3092\\u5408\\u308f\\u305b\\u305f\\u3082\\u306e\\u3067\\u3042\\u308b_\\u5b89\\u5b9a\\u6027\\u96f6\\u70b9\\u6975_\\u30b7\\u30b9\\u30c6\\u30e0\\u95a2\\u6570\\u3084\\u5468\\u6ce2\\u6570\\u7279\\u6027\\u5b89\\u5b9a\\u306a\\u30b7\\u30b9\\u30c6\\u30e0\\u306b\\u3064\\u3044\\u3066\"}],\"label\":\"46_\\u5468\\u6ce2\\u6570\\u7279\\u6027\\u306f\\u632f\\u5e45\\u3068\\u4f4d\\u76f8\\u306e2\\u7a2e\\u985e\\u30922\\u7a2e\\u985e\\u3092\\u8868\\u3059\\u56e0\\u679c\\u6027\\u3068\\u5b89\\u5b9a\\u6027\\u3092\\u307f\\u305f\\u3059\\u30b7\\u30b9\\u30c6\\u30e0\\u306f\\u5168\\u3066\\u306e\\u6975\\u304c\\u5358\\u4f4d\\u5186\\u5185\\u306b\\u305d\\u3093\\u3056\\u3044\\u3057\\u306a\\u3051\\u308c\\u3070\\u306a\\u3089\\u306a\\u3044_\\u5468\\u6ce2\\u6570\\u7279\\u6027\\u3068\\u306f\\u5165\\u529b\\u4fe1\\u53f7\\u304c\\u30b7\\u30b9\\u30c6\\u30e0\\u306b\\u3088\\u3063\\u3066\\u53d7\\u3051\\u308b\\u5909\\u5316\\u3092\\u8868\\u3057\\u3066\\u304a\\u308a\\u30b7\\u30b9\\u30c6\\u30e0\\u95a2\\u6570\\u306e\\u5927\\u304d\\u3055\\u3068\\u504f\\u89d2\\u3092\\u5408\\u308f\\u305b\\u305f\\u3082\\u306e\\u3067\\u3042\\u308b_\\u5b89\\u5b9a\\u6027\\u96f6\\u70b9\\u6975_\\u30b7\\u30b9\\u30c6\\u30e0\\u95a2\\u6570\\u3084\\u5468\\u6ce2\\u6570\\u7279\\u6027\\u5b89\\u5b9a\\u306a\\u30b7\\u30b9\\u30c6\\u30e0\\u306b\\u3064\\u3044\\u3066\",\"method\":\"update\"},{\"args\":[{\"visible\":[false,false,false,false,false,false,false,false,false,false,false,false,false,false,false,false,false,false,false,false,false,false,false,false,false,false,false,false,false,false,false,false,false,false,false,false,false,false,false,false,false,false,false,false,false,false,false,false,true,false,false]},{\"title\":\"47_\\u975e\\u5468\\u671f\\u95a2\\u6570\\u307e\\u3067\\u542b\\u3081\\u305f\\u4e00\\u822c\\u7684\\u306a\\u30d5\\u30fc\\u30ea\\u30a8\\u5909\\u63db\\u3068\\u305d\\u306e\\u6027\\u8cea\\u306b\\u3064\\u3044\\u3066_\\u975e\\u5468\\u671f\\u95a2\\u6570\\u306e\\u30d5\\u30fc\\u30ea\\u30a8\\u7d1a\\u6570\\u304b\\u3089\\u30d5\\u30fc\\u30ea\\u30a8\\u5909\\u63db\\u3092\\u5b66\\u3093\\u3060_\\u975e\\u5468\\u671f\\u95a2\\u6570\\u306b\\u9069\\u7528_\\u975e\\u5468\\u671f\\u95a2\\u6570\\u306b\\u5bfe\\u3059\\u308b\\u30d5\\u30fc\\u30ea\\u30a8\\u5909\\u63db\\u306b\\u3064\\u3044\\u3066\\u5b66\\u3093\\u3060\"}],\"label\":\"47_\\u975e\\u5468\\u671f\\u95a2\\u6570\\u307e\\u3067\\u542b\\u3081\\u305f\\u4e00\\u822c\\u7684\\u306a\\u30d5\\u30fc\\u30ea\\u30a8\\u5909\\u63db\\u3068\\u305d\\u306e\\u6027\\u8cea\\u306b\\u3064\\u3044\\u3066_\\u975e\\u5468\\u671f\\u95a2\\u6570\\u306e\\u30d5\\u30fc\\u30ea\\u30a8\\u7d1a\\u6570\\u304b\\u3089\\u30d5\\u30fc\\u30ea\\u30a8\\u5909\\u63db\\u3092\\u5b66\\u3093\\u3060_\\u975e\\u5468\\u671f\\u95a2\\u6570\\u306b\\u9069\\u7528_\\u975e\\u5468\\u671f\\u95a2\\u6570\\u306b\\u5bfe\\u3059\\u308b\\u30d5\\u30fc\\u30ea\\u30a8\\u5909\\u63db\\u306b\\u3064\\u3044\\u3066\\u5b66\\u3093\\u3060\",\"method\":\"update\"},{\"args\":[{\"visible\":[false,false,false,false,false,false,false,false,false,false,false,false,false,false,false,false,false,false,false,false,false,false,false,false,false,false,false,false,false,false,false,false,false,false,false,false,false,false,false,false,false,false,false,false,false,false,false,false,false,true,false]},{\"title\":\"48_\\u30c7\\u30a3\\u30b8\\u30bf\\u30eb\\u30d5\\u30a3\\u30eb\\u30bf\\u306b\\u3064\\u3044\\u3066_\\u30c7\\u30a3\\u30b8\\u30bf\\u30eb\\u30d5\\u30a3\\u30eb\\u30bf_\\u30d5\\u30a3\\u30eb\\u30bf_\\u30d5\\u30a3\\u30eb\\u30bf\\u306e\\u8aac\\u660e\"}],\"label\":\"48_\\u30c7\\u30a3\\u30b8\\u30bf\\u30eb\\u30d5\\u30a3\\u30eb\\u30bf\\u306b\\u3064\\u3044\\u3066_\\u30c7\\u30a3\\u30b8\\u30bf\\u30eb\\u30d5\\u30a3\\u30eb\\u30bf_\\u30d5\\u30a3\\u30eb\\u30bf_\\u30d5\\u30a3\\u30eb\\u30bf\\u306e\\u8aac\\u660e\",\"method\":\"update\"},{\"args\":[{\"visible\":[false,false,false,false,false,false,false,false,false,false,false,false,false,false,false,false,false,false,false,false,false,false,false,false,false,false,false,false,false,false,false,false,false,false,false,false,false,false,false,false,false,false,false,false,false,false,false,false,false,false,true]},{\"title\":\"49_\\u30de\\u30fc\\u30b8\\u30bd\\u30fc\\u30c8\\u30682\\u5206\\u63a2\\u7d22\\u6cd5_\\u30d2\\u30fc\\u30d7\\u30bd\\u30fc\\u30c8\\u30a2\\u30eb\\u30b4\\u30ea\\u30ba\\u30e0\\u3068\\u30de\\u30fc\\u30b8\\u30bd\\u30fc\\u30c8\\u30a2\\u30eb\\u30b4\\u30ea\\u30ba\\u30e0\\u306b\\u3064\\u3044\\u3066_\\u4e8c\\u5206\\u63a2\\u7d22\\u306e\\u6982\\u8981_\\u30de\\u30fc\\u30b8\\u30bd\\u30fc\\u30c8\\u6bd4\\u8f03\\u30bd\\u30fc\\u30c8\\u30a2\\u30eb\\u30b4\\u30ea\\u30ba\\u30e02\\u5206\\u63a2\\u7d22\\u30a2\\u30eb\\u30b4\\u30ea\\u30ba\\u30e0\"}],\"label\":\"49_\\u30de\\u30fc\\u30b8\\u30bd\\u30fc\\u30c8\\u30682\\u5206\\u63a2\\u7d22\\u6cd5_\\u30d2\\u30fc\\u30d7\\u30bd\\u30fc\\u30c8\\u30a2\\u30eb\\u30b4\\u30ea\\u30ba\\u30e0\\u3068\\u30de\\u30fc\\u30b8\\u30bd\\u30fc\\u30c8\\u30a2\\u30eb\\u30b4\\u30ea\\u30ba\\u30e0\\u306b\\u3064\\u3044\\u3066_\\u4e8c\\u5206\\u63a2\\u7d22\\u306e\\u6982\\u8981_\\u30de\\u30fc\\u30b8\\u30bd\\u30fc\\u30c8\\u6bd4\\u8f03\\u30bd\\u30fc\\u30c8\\u30a2\\u30eb\\u30b4\\u30ea\\u30ba\\u30e02\\u5206\\u63a2\\u7d22\\u30a2\\u30eb\\u30b4\\u30ea\\u30ba\\u30e0\",\"method\":\"update\"}]}],\"title\":{\"text\":\"Label Distribution per Topic\"},\"xaxis\":{\"title\":{\"text\":\"True Labels\"}},\"yaxis\":{\"title\":{\"text\":\"Count\"}}},                        {\"responsive\": true}                    ).then(function(){\n",
       "                            \n",
       "var gd = document.getElementById('2e4c0f51-f372-4f60-8b68-21a29c940fcd');\n",
       "var x = new MutationObserver(function (mutations, observer) {{\n",
       "        var display = window.getComputedStyle(gd).display;\n",
       "        if (!display || display === 'none') {{\n",
       "            console.log([gd, 'removed!']);\n",
       "            Plotly.purge(gd);\n",
       "            observer.disconnect();\n",
       "        }}\n",
       "}});\n",
       "\n",
       "// Listen for the removal of the full notebook cells\n",
       "var notebookContainer = gd.closest('#notebook-container');\n",
       "if (notebookContainer) {{\n",
       "    x.observe(notebookContainer, {childList: true});\n",
       "}}\n",
       "\n",
       "// Listen for the clearing of the current output cell\n",
       "var outputEl = gd.closest('.output');\n",
       "if (outputEl) {{\n",
       "    x.observe(outputEl, {childList: true});\n",
       "}}\n",
       "\n",
       "                        })                };                });            </script>        </div>"
      ]
     },
     "metadata": {},
     "output_type": "display_data"
    }
   ],
   "source": [
    "import plotly.graph_objects as go\n",
    "\n",
    "# トピックと真のラベルの関連をデータフレームで表現\n",
    "df_topics_labels = pd.DataFrame({'Topic': topics, 'True_Label': train['label']})\n",
    "\n",
    "# トピック情報を取得\n",
    "topic_info = topic_model.get_topic_info()\n",
    "\n",
    "# 各トピックにおけるラベルの分布を集計\n",
    "label_distribution = df_topics_labels.groupby('Topic')['True_Label'].value_counts().unstack().fillna(0)\n",
    "\n",
    "# トピック名の取得\n",
    "topic_names = topic_info.set_index('Topic')['Name'].to_dict()\n",
    "# Plotlyの棒グラフを作成\n",
    "fig = go.Figure()\n",
    "\n",
    "# Plotlyの棒グラフを作成\n",
    "fig = go.Figure()\n",
    "\n",
    "# トピックごとの棒グラフを作成\n",
    "for topic in label_distribution.index:\n",
    "    topic_name = topic_names.get(topic, f\"Topic {topic}\")\n",
    "    fig.add_trace(\n",
    "        go.Bar(\n",
    "            x=label_distribution.columns,\n",
    "            y=label_distribution.loc[topic],\n",
    "            name=topic_name\n",
    "        )\n",
    "    )\n",
    "\n",
    "# シークバーの設定\n",
    "steps = []\n",
    "for i, topic in enumerate(label_distribution.index):\n",
    "    topic_name = topic_names.get(topic, f\"Topic {topic}\")\n",
    "    step = dict(\n",
    "        method=\"update\",\n",
    "        args=[{\"visible\": [False] * len(label_distribution.index)},\n",
    "              {\"title\": f\"{topic_name}\"}],\n",
    "        label=topic_name\n",
    "    )\n",
    "    step[\"args\"][0][\"visible\"][i] = True  # このトピックのバーだけを表示\n",
    "    steps.append(step)\n",
    "\n",
    "sliders = [dict(\n",
    "    active=0,\n",
    "    currentvalue={\"prefix\": \"Selected Topic: \"},\n",
    "    pad={\"t\": 50},\n",
    "    steps=steps\n",
    ")]\n",
    "\n",
    "fig.update_layout(\n",
    "    sliders=sliders,\n",
    "    title=\"Label Distribution per Topic\",\n",
    "    xaxis_title=\"True Labels\",\n",
    "    yaxis_title=\"Count\"\n",
    ")\n",
    "\n",
    "fig.show()"
   ]
  },
  {
   "cell_type": "code",
   "execution_count": null,
   "metadata": {},
   "outputs": [],
   "source": [
    "import csv\n",
    "\n",
    "# BERTopicからトピック情報を取得\n",
    "topic_info = topic_model.get_topic_info()\n",
    "\n",
    "# トピック番号と題名の対応を辞書で取得\n",
    "topic_names = topic_info.set_index('Topic')['Name'].to_dict()\n",
    "\n",
    "# トピックごとに文書をフィルタリングしてCSVファイルに保存\n",
    "for topic_number in set(topics):\n",
    "    # トピック番号に一致する文書をフィルタリング\n",
    "    topic_docs = [doc for doc, topic in zip(docs, topics) if topic == topic_number]\n",
    "    \n",
    "    # トピックに対応する文書のデータフレームを作成\n",
    "    df = pd.DataFrame(topic_docs, columns=['Document'])\n",
    "    \n",
    "    # トピックの題名をデータフレームに追加\n",
    "    df['Topic Name'] = topic_names.get(topic_number, 'Unknown Topic')\n",
    "    \n",
    "    # CSVファイルに保存\n",
    "    file_name = f'{OUT_PATH}/all_topics/topic_{topic_number}.csv'\n",
    "    df.to_csv(file_name, index=False, quoting=csv.QUOTE_ALL)"
   ]
  },
  {
   "cell_type": "code",
   "execution_count": null,
   "metadata": {},
   "outputs": [],
   "source": []
  }
 ],
 "metadata": {
  "kernelspec": {
   "display_name": "Python 3",
   "language": "python",
   "name": "python3"
  },
  "language_info": {
   "codemirror_mode": {
    "name": "ipython",
    "version": 3
   },
   "file_extension": ".py",
   "mimetype": "text/x-python",
   "name": "python",
   "nbconvert_exporter": "python",
   "pygments_lexer": "ipython3",
   "version": "3.10.12"
  }
 },
 "nbformat": 4,
 "nbformat_minor": 2
}
