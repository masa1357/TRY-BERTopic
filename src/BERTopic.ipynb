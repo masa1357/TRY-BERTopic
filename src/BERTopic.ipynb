{
 "cells": [
  {
   "cell_type": "markdown",
   "metadata": {},
   "source": [
    "# TRY BERTopic "
   ]
  },
  {
   "cell_type": "code",
   "execution_count": 237,
   "metadata": {},
   "outputs": [],
   "source": [
    "import os\n",
    "import sys\n",
    "import numpy as np\n",
    "import pandas as pd\n",
    "from pathlib import Path"
   ]
  },
  {
   "cell_type": "markdown",
   "metadata": {},
   "source": [
    "### Define Path"
   ]
  },
  {
   "cell_type": "code",
   "execution_count": 238,
   "metadata": {},
   "outputs": [
    {
     "name": "stdout",
     "output_type": "stream",
     "text": [
      "BASE_PATH\t：/home/masa1357/Dockerdata/gitfile/TRY-BERTopic\n",
      "DATA_PATH\t：/home/masa1357/Dockerdata/gitfile/TRY-BERTopic/data/\n",
      "OUT_PATH\t：/home/masa1357/Dockerdata/gitfile/TRY-BERTopic/out/\n"
     ]
    }
   ],
   "source": [
    "\"\"\"\n",
    "Define Path\n",
    "\"\"\"\n",
    "\n",
    "dirpath = os.getcwd()\n",
    "BASE_PATH = Path(dirpath).parent\n",
    "print(f\"BASE_PATH\\t：{BASE_PATH}\")\n",
    "DATA_PATH = os.path.join(BASE_PATH, \"data/\")\n",
    "print(f\"DATA_PATH\\t：{DATA_PATH}\")\n",
    "OUT_PATH = os.path.join(BASE_PATH, \"out/\")\n",
    "print(f\"OUT_PATH\\t：{OUT_PATH}\")"
   ]
  },
  {
   "cell_type": "markdown",
   "metadata": {},
   "source": [
    "### Get Data"
   ]
  },
  {
   "cell_type": "code",
   "execution_count": 239,
   "metadata": {},
   "outputs": [
    {
     "name": "stdout",
     "output_type": "stream",
     "text": [
      "Train shape:  (21661, 7)\n",
      "Valid shape:  (2708, 7)\n",
      "Test shape:  (2708, 7)\n"
     ]
    }
   ],
   "source": [
    "import python.datasprit as ds\n",
    "train, vaild, test = ds.train_test_sprit()"
   ]
  },
  {
   "cell_type": "markdown",
   "metadata": {},
   "source": [
    "## Try BERTopic"
   ]
  },
  {
   "cell_type": "code",
   "execution_count": 240,
   "metadata": {},
   "outputs": [],
   "source": [
    "train = train[train['question_number'] == 1]"
   ]
  },
  {
   "cell_type": "code",
   "execution_count": 241,
   "metadata": {},
   "outputs": [
    {
     "data": {
      "text/plain": [
       "(6038, 7)"
      ]
     },
     "execution_count": 241,
     "metadata": {},
     "output_type": "execute_result"
    }
   ],
   "source": [
    "train.shape"
   ]
  },
  {
   "cell_type": "code",
   "execution_count": 242,
   "metadata": {},
   "outputs": [],
   "source": [
    "import re, unicodedata\n",
    "\n",
    "class CleaningData:\n",
    "    def __init__(self, df, target_column):\n",
    "        self.df = df\n",
    "        self.target_column = target_column\n",
    "\n",
    "    def cleaning(self):\n",
    "        self.df[self.target_column] = self.df[self.target_column].map(self.remove_extra_spaces)\n",
    "        self.df[self.target_column] = self.df[self.target_column].map(self.normalize_neologd)\n",
    "\n",
    "        # クリーニングの過程でtextが空になった行を削除\n",
    "        self.df = self.df[self.df[self.target_column] != '']\n",
    "        self.df = self.df[self.df[self.target_column] != '']\n",
    "        # 文字列が5文字以下の行を削除,「ない，なし」があったら9文字以下でも削除\n",
    "        self.df = self.df[~((self.df[self.target_column].str.len() <= 9) & ((self.df[self.target_column].str.contains('ない')) | (self.df[self.target_column].str.contains('なし'))))]\n",
    "        #self.df = self.df[(self.df[self.target_column].str.len() <= 5)]\n",
    "\n",
    "\n",
    "        self.df = self.df.reset_index()\n",
    "        return self.df\n",
    "\n",
    "    def unicode_normalize(self, cls, s):\n",
    "        pt = re.compile('([{}]+)'.format(cls))\n",
    "\n",
    "        def norm(c):\n",
    "            return unicodedata.normalize('NFKC', c) if pt.match(c) else c\n",
    "\n",
    "        s = ''.join(norm(x) for x in re.split(pt, s))\n",
    "        s = re.sub('－', '-', s)\n",
    "        return s\n",
    "\n",
    "    def remove_extra_spaces(self, s):\n",
    "        s = re.sub('[ 　]+', ' ', s)\n",
    "        blocks = ''.join(('\\u4E00-\\u9FFF',  # CJK UNIFIED IDEOGRAPHS\n",
    "                          '\\u3040-\\u309F',  # HIRAGANA\n",
    "                          '\\u30A0-\\u30FF',  # KATAKANA\n",
    "                          '\\u3000-\\u303F',  # CJK SYMBOLS AND PUNCTUATION\n",
    "                          '\\uFF00-\\uFFEF'   # HALFWIDTH AND FULLWIDTH FORMS\n",
    "                          ))\n",
    "        basic_latin = '\\u0000-\\u007F'\n",
    "\n",
    "        def remove_space_between(cls1, cls2, s):\n",
    "            p = re.compile('([{}]) ([{}])'.format(cls1, cls2))\n",
    "            while p.search(s):\n",
    "                s = p.sub(r'\\1\\2', s)\n",
    "            return s\n",
    "\n",
    "        s = remove_space_between(blocks, blocks, s)\n",
    "        s = remove_space_between(blocks, basic_latin, s)\n",
    "        s = remove_space_between(basic_latin, blocks, s)\n",
    "        return s\n",
    "\n",
    "    def normalize_neologd(self, s):\n",
    "        s = s.strip()\n",
    "        s = self.unicode_normalize('０-９Ａ-Ｚａ-ｚ｡-ﾟ', s)\n",
    "\n",
    "        def maketrans(f, t):\n",
    "            return {ord(x): ord(y) for x, y in zip(f, t)}\n",
    "\n",
    "        s = re.sub('[˗֊‐‑‒–⁃⁻₋−]+', '-', s)  # normalize hyphens\n",
    "        s = re.sub('[﹣－ｰ—―─━ー]+', 'ー', s)  # normalize choonpus\n",
    "        s = re.sub('[~∼∾〜〰～]', '', s)  # remove tildes\n",
    "        s = s.translate(\n",
    "            maketrans('!\"#$%&\\'()*+,-./:;<=>?@[¥]^_`{|}~｡､･｢｣',\n",
    "                  '！”＃＄％＆’（）＊＋，－．／：；＜＝＞？＠［￥］＾＿｀｛｜｝〜。、・「」'))\n",
    "\n",
    "        s = self.remove_extra_spaces(s)\n",
    "        s = self.unicode_normalize('！”＃＄％＆’（）＊＋，－．／：；＜＞？＠［￥］＾＿｀｛｜｝〜', s)  # keep ＝,・,「,」\n",
    "        s = re.sub('[’]', '\\'', s)\n",
    "        s = re.sub('[”]', '\"', s)\n",
    "        return s\n",
    "\n",
    "    def remove_symbols(self, text):\n",
    "        text = re.sub(r'[◎, 〇, △, ▲, ×, ◇, □]', '', text)\n",
    "        return text\n"
   ]
  },
  {
   "cell_type": "code",
   "execution_count": 243,
   "metadata": {},
   "outputs": [],
   "source": [
    "cd = CleaningData(train, 'text')\n",
    "df = cd.cleaning()"
   ]
  },
  {
   "cell_type": "code",
   "execution_count": 244,
   "metadata": {},
   "outputs": [
    {
     "data": {
      "text/html": [
       "<div>\n",
       "<style scoped>\n",
       "    .dataframe tbody tr th:only-of-type {\n",
       "        vertical-align: middle;\n",
       "    }\n",
       "\n",
       "    .dataframe tbody tr th {\n",
       "        vertical-align: top;\n",
       "    }\n",
       "\n",
       "    .dataframe thead th {\n",
       "        text-align: right;\n",
       "    }\n",
       "</style>\n",
       "<table border=\"1\" class=\"dataframe\">\n",
       "  <thead>\n",
       "    <tr style=\"text-align: right;\">\n",
       "      <th></th>\n",
       "      <th>index</th>\n",
       "      <th>course_number</th>\n",
       "      <th>question_number</th>\n",
       "      <th>label</th>\n",
       "    </tr>\n",
       "  </thead>\n",
       "  <tbody>\n",
       "    <tr>\n",
       "      <th>count</th>\n",
       "      <td>6038.000000</td>\n",
       "      <td>6038.000000</td>\n",
       "      <td>6038.0</td>\n",
       "      <td>6038.000000</td>\n",
       "    </tr>\n",
       "    <tr>\n",
       "      <th>mean</th>\n",
       "      <td>13596.679861</td>\n",
       "      <td>7.078503</td>\n",
       "      <td>1.0</td>\n",
       "      <td>2.024677</td>\n",
       "    </tr>\n",
       "    <tr>\n",
       "      <th>std</th>\n",
       "      <td>7945.122105</td>\n",
       "      <td>4.113045</td>\n",
       "      <td>0.0</td>\n",
       "      <td>1.539783</td>\n",
       "    </tr>\n",
       "    <tr>\n",
       "      <th>min</th>\n",
       "      <td>3.000000</td>\n",
       "      <td>1.000000</td>\n",
       "      <td>1.0</td>\n",
       "      <td>0.000000</td>\n",
       "    </tr>\n",
       "    <tr>\n",
       "      <th>25%</th>\n",
       "      <td>6610.750000</td>\n",
       "      <td>3.000000</td>\n",
       "      <td>1.0</td>\n",
       "      <td>0.000000</td>\n",
       "    </tr>\n",
       "    <tr>\n",
       "      <th>50%</th>\n",
       "      <td>13735.500000</td>\n",
       "      <td>7.000000</td>\n",
       "      <td>1.0</td>\n",
       "      <td>2.000000</td>\n",
       "    </tr>\n",
       "    <tr>\n",
       "      <th>75%</th>\n",
       "      <td>20553.250000</td>\n",
       "      <td>11.000000</td>\n",
       "      <td>1.0</td>\n",
       "      <td>4.000000</td>\n",
       "    </tr>\n",
       "    <tr>\n",
       "      <th>max</th>\n",
       "      <td>27074.000000</td>\n",
       "      <td>15.000000</td>\n",
       "      <td>1.0</td>\n",
       "      <td>4.000000</td>\n",
       "    </tr>\n",
       "  </tbody>\n",
       "</table>\n",
       "</div>"
      ],
      "text/plain": [
       "              index  course_number  question_number        label\n",
       "count   6038.000000    6038.000000           6038.0  6038.000000\n",
       "mean   13596.679861       7.078503              1.0     2.024677\n",
       "std     7945.122105       4.113045              0.0     1.539783\n",
       "min        3.000000       1.000000              1.0     0.000000\n",
       "25%     6610.750000       3.000000              1.0     0.000000\n",
       "50%    13735.500000       7.000000              1.0     2.000000\n",
       "75%    20553.250000      11.000000              1.0     4.000000\n",
       "max    27074.000000      15.000000              1.0     4.000000"
      ]
     },
     "execution_count": 244,
     "metadata": {},
     "output_type": "execute_result"
    }
   ],
   "source": [
    "df.describe()"
   ]
  },
  {
   "cell_type": "code",
   "execution_count": 245,
   "metadata": {},
   "outputs": [
    {
     "name": "stdout",
     "output_type": "stream",
     "text": [
      "解析結果:\n",
      "これ\tコレ\tコレ\t此れ\t代名詞\t\t\t0\n",
      "は\tワ\tハ\tは\t助詞-係助詞\t\t\t\n",
      "MeCab\tMeCab\tMeCab\tMeCab\t名詞-普通名詞-一般\t\t\t0\n",
      "の\tノ\tノ\tの\t助詞-格助詞\t\t\t\n",
      "テスト\tテスト\tテスト\tテスト-test\t名詞-普通名詞-サ変可能\t\t\t1\n",
      "です\tデス\tデス\tです\t助動詞\t助動詞-デス\t終止形-一般\t\n",
      "。\t\t\t。\t補助記号-句点\t\t\t\n",
      "EOS\n",
      "\n",
      "単語と品詞:\n",
      "これ [代名詞]\n",
      "は [助詞-係助詞]\n",
      "MeCab [名詞-普通名詞-一般]\n",
      "の [助詞-格助詞]\n",
      "テスト [名詞-普通名詞-サ変可能]\n",
      "です [助動詞]\n",
      "。 [補助記号-句点]\n"
     ]
    }
   ],
   "source": [
    "import MeCab\n",
    "\n",
    "def test_mecab(text):\n",
    "    # MeCabのインスタンスを作成\n",
    "    tagger = MeCab.Tagger(\"-r /etc/mecabrc\")\n",
    "    \n",
    "    # テキストを解析\n",
    "    result = tagger.parse(text)\n",
    "    \n",
    "    # 解析結果を出力\n",
    "    print(\"解析結果:\")\n",
    "    print(result)\n",
    "    \n",
    "    # print(\"解析結果の詳細な形式:\")\n",
    "    # print(repr(result))\n",
    "    \n",
    "    # 各行を解析して単語と品詞を出力\n",
    "    print(\"単語と品詞:\")\n",
    "    for line in result.splitlines()[:-1]:  # EOSを除外\n",
    "        parts = line.split('\\t')\n",
    "        if len(parts) > 4:\n",
    "            surface = parts[0]  # 表層形\n",
    "            # features = parts[1].split(',')\n",
    "            pos = parts[4]  # 品詞\n",
    "            print(f\"{surface} [{pos}]\")\n",
    "\n",
    "# テスト用のテキスト\n",
    "test_text = \"これはMeCabのテストです。\"\n",
    "test_mecab(test_text)\n"
   ]
  },
  {
   "cell_type": "code",
   "execution_count": 246,
   "metadata": {},
   "outputs": [],
   "source": [
    "import MeCab\n",
    "\n",
    "class Wakati:\n",
    "    \"\"\" 形態素解析クラス \"\"\"\n",
    "    # クラス変数\n",
    "    MECAB_PATH = \"-r /etc/mecabrc\"\n",
    "\n",
    "    def __init__(self, df, target_column):\n",
    "        self.df = df\n",
    "        self.target_column = target_column\n",
    "        self.tagger = MeCab.Tagger(Wakati.MECAB_PATH)\n",
    "\n",
    "    def wakati_document(self):\n",
    "        self.df[self.target_column] = self.df[self.target_column].map(self.wakati_sentence)\n",
    "        return self.df\n",
    "\n",
    "    def wakati_sentence(self, text):\n",
    "        words = []\n",
    "        for c in self.tagger.parse(text).splitlines()[:-1]:\n",
    "            try:\n",
    "                parts = c.split('\\t')\n",
    "                if len(parts) > 4:\n",
    "                    surface = parts[0]  # 表層形\n",
    "                    pos = parts[4]  # 品詞\n",
    "                    # print(f\"{surface} [{pos}]\")\n",
    "                    if any(pos.startswith(prefix) for prefix in ['名詞', '動詞', '形容詞']):\n",
    "                        words.append(surface)  # 原型が必要な場合は、適切なインデックスを使う\n",
    "            except ValueError:  # タブでの分割ができない場合はスキップ\n",
    "                continue\n",
    "        return ' '.join(words)\n"
   ]
  },
  {
   "cell_type": "code",
   "execution_count": 247,
   "metadata": {},
   "outputs": [],
   "source": [
    "w = Wakati(df, 'text')\n",
    "df = w.wakati_document()\n"
   ]
  },
  {
   "cell_type": "code",
   "execution_count": 248,
   "metadata": {},
   "outputs": [
    {
     "data": {
      "text/plain": [
       "0                    情報 符号 する こと より 情報 短く 伝達 する こと できる\n",
       "1                      初回 説明 ムー ドル 資料 見 bookroll 使い 学ん\n",
       "2    確認 テスト いう こと 講義 内容 計算 問題 正誤 問題 マーク 形式 記述 問題 満遍...\n",
       "3    構造 データ 言語 画像 音声 音楽 処理 つい 例 参考 し 学ん コンピュータ よる パ...\n",
       "4                               伝える 情報 正確 より する 思っ 難しい\n",
       "Name: text, dtype: object"
      ]
     },
     "execution_count": 248,
     "metadata": {},
     "output_type": "execute_result"
    }
   ],
   "source": [
    "df[\"text\"].head()"
   ]
  },
  {
   "cell_type": "code",
   "execution_count": 249,
   "metadata": {},
   "outputs": [],
   "source": [
    "df = train"
   ]
  },
  {
   "cell_type": "code",
   "execution_count": 250,
   "metadata": {},
   "outputs": [],
   "source": [
    "docs = df['text'].tolist()"
   ]
  },
  {
   "cell_type": "code",
   "execution_count": 251,
   "metadata": {},
   "outputs": [
    {
     "name": "stderr",
     "output_type": "stream",
     "text": [
      "2024-04-08 06:50:54,599 - BERTopic - Embedding - Transforming documents to embeddings.\n",
      "Batches: 100%|██████████| 189/189 [00:49<00:00,  3.82it/s]\n",
      "2024-04-08 06:51:47,450 - BERTopic - Embedding - Completed ✓\n",
      "2024-04-08 06:51:47,451 - BERTopic - Dimensionality - Fitting the dimensionality reduction algorithm\n",
      "2024-04-08 06:51:52,742 - BERTopic - Dimensionality - Completed ✓\n",
      "2024-04-08 06:51:52,743 - BERTopic - Cluster - Start clustering the reduced embeddings\n",
      "2024-04-08 06:51:54,433 - BERTopic - Cluster - Completed ✓\n",
      "2024-04-08 06:51:54,434 - BERTopic - Representation - Extracting topics from clusters using representation models.\n",
      "2024-04-08 06:51:54,605 - BERTopic - Representation - Completed ✓\n",
      "2024-04-08 06:51:54,606 - BERTopic - Topic reduction - Reducing number of topics\n",
      "2024-04-08 06:51:54,724 - BERTopic - Topic reduction - Reduced number of topics from 125 to 59\n"
     ]
    }
   ],
   "source": [
    "from bertopic import BERTopic\n",
    "topic_model = BERTopic(language=\"japanese\", calculate_probabilities=True, verbose=True, nr_topics=\"20\")\n",
    "topics, probs = topic_model.fit_transform(docs)"
   ]
  },
  {
   "cell_type": "code",
   "execution_count": 252,
   "metadata": {},
   "outputs": [
    {
     "data": {
      "text/html": [
       "<div>\n",
       "<style scoped>\n",
       "    .dataframe tbody tr th:only-of-type {\n",
       "        vertical-align: middle;\n",
       "    }\n",
       "\n",
       "    .dataframe tbody tr th {\n",
       "        vertical-align: top;\n",
       "    }\n",
       "\n",
       "    .dataframe thead th {\n",
       "        text-align: right;\n",
       "    }\n",
       "</style>\n",
       "<table border=\"1\" class=\"dataframe\">\n",
       "  <thead>\n",
       "    <tr style=\"text-align: right;\">\n",
       "      <th></th>\n",
       "      <th>Topic</th>\n",
       "      <th>Count</th>\n",
       "      <th>Name</th>\n",
       "      <th>Representation</th>\n",
       "      <th>Representative_Docs</th>\n",
       "    </tr>\n",
       "  </thead>\n",
       "  <tbody>\n",
       "    <tr>\n",
       "      <th>0</th>\n",
       "      <td>-1</td>\n",
       "      <td>842</td>\n",
       "      <td>-1_nlogn_logn_log_周波数特性</td>\n",
       "      <td>[nlogn, logn, log, 周波数特性, br, コモンズ, 統合, ディジタルフ...</td>\n",
       "      <td>[今回はベクトル距離類似度について学んだ複数のデータを扱う時ベクトルを使うと非常に便利になる...</td>\n",
       "    </tr>\n",
       "    <tr>\n",
       "      <th>1</th>\n",
       "      <td>0</td>\n",
       "      <td>323</td>\n",
       "      <td>0_情報科学_情報_0と1_授業の進め方の説明</td>\n",
       "      <td>[情報科学, 情報, 0と1, 授業の進め方の説明, 予習, 文章, 情報科学とは何か, 情...</td>\n",
       "      <td>[情報科学の学習について\\r\\n情報科学は理科の基礎科目である日本の情報科学は1970年代に...</td>\n",
       "    </tr>\n",
       "    <tr>\n",
       "      <th>2</th>\n",
       "      <td>1</td>\n",
       "      <td>310</td>\n",
       "      <td>1_バイ_完全性_暗号について_機密性</td>\n",
       "      <td>[バイ, 完全性, 暗号について, 機密性, en, 0m, シーザー暗号, 単一換字暗号,...</td>\n",
       "      <td>[暗号とは悪意ある第三者から通信内容を守る技術で計算機やネットワークの発達と普及を背景に暗号...</td>\n",
       "    </tr>\n",
       "    <tr>\n",
       "      <th>3</th>\n",
       "      <td>2</td>\n",
       "      <td>289</td>\n",
       "      <td>2_計算_アルゴリズム_問題_コンピュータ</td>\n",
       "      <td>[計算, アルゴリズム, 問題, コンピュータ, コンピューターサイエンス, cs的アプロー...</td>\n",
       "      <td>[(\\r\\n問題:数学的に定義された関数(厳密にするべし)\\r\\n計算:問題事例xが与えられ...</td>\n",
       "    </tr>\n",
       "    <tr>\n",
       "      <th>4</th>\n",
       "      <td>3</td>\n",
       "      <td>257</td>\n",
       "      <td>3_符号語同士がs_2k_ハミング距離_符号語同士が2t</td>\n",
       "      <td>[符号語同士がs, 2k, ハミング距離, 符号語同士が2t, 反転確率, 符号語どうしがs...</td>\n",
       "      <td>[情報を送るときにノイズが発生してしまうがそれではもとの情報が書き換えられてしまう(ビット列...</td>\n",
       "    </tr>\n",
       "  </tbody>\n",
       "</table>\n",
       "</div>"
      ],
      "text/plain": [
       "   Topic  Count                          Name  \\\n",
       "0     -1    842       -1_nlogn_logn_log_周波数特性   \n",
       "1      0    323       0_情報科学_情報_0と1_授業の進め方の説明   \n",
       "2      1    310           1_バイ_完全性_暗号について_機密性   \n",
       "3      2    289         2_計算_アルゴリズム_問題_コンピュータ   \n",
       "4      3    257  3_符号語同士がs_2k_ハミング距離_符号語同士が2t   \n",
       "\n",
       "                                      Representation  \\\n",
       "0  [nlogn, logn, log, 周波数特性, br, コモンズ, 統合, ディジタルフ...   \n",
       "1  [情報科学, 情報, 0と1, 授業の進め方の説明, 予習, 文章, 情報科学とは何か, 情...   \n",
       "2  [バイ, 完全性, 暗号について, 機密性, en, 0m, シーザー暗号, 単一換字暗号,...   \n",
       "3  [計算, アルゴリズム, 問題, コンピュータ, コンピューターサイエンス, cs的アプロー...   \n",
       "4  [符号語同士がs, 2k, ハミング距離, 符号語同士が2t, 反転確率, 符号語どうしがs...   \n",
       "\n",
       "                                 Representative_Docs  \n",
       "0  [今回はベクトル距離類似度について学んだ複数のデータを扱う時ベクトルを使うと非常に便利になる...  \n",
       "1  [情報科学の学習について\\r\\n情報科学は理科の基礎科目である日本の情報科学は1970年代に...  \n",
       "2  [暗号とは悪意ある第三者から通信内容を守る技術で計算機やネットワークの発達と普及を背景に暗号...  \n",
       "3  [(\\r\\n問題:数学的に定義された関数(厳密にするべし)\\r\\n計算:問題事例xが与えられ...  \n",
       "4  [情報を送るときにノイズが発生してしまうがそれではもとの情報が書き換えられてしまう(ビット列...  "
      ]
     },
     "execution_count": 252,
     "metadata": {},
     "output_type": "execute_result"
    }
   ],
   "source": [
    "topic_info = topic_model.get_topic_info()\n",
    "topic_info.head()"
   ]
  },
  {
   "cell_type": "code",
   "execution_count": 253,
   "metadata": {},
   "outputs": [],
   "source": [
    "topic_info.to_csv(OUT_PATH + 'topic_info.csv', index=False)"
   ]
  },
  {
   "cell_type": "code",
   "execution_count": null,
   "metadata": {},
   "outputs": [],
   "source": []
  },
  {
   "cell_type": "code",
   "execution_count": 254,
   "metadata": {},
   "outputs": [],
   "source": [
    "# トピックとドキュメントのペアを作成\n",
    "topic_doc_pairs = [(topic, doc) for topic, doc in zip(topics, docs)]\n",
    "\n",
    "# データフレームを作成\n",
    "df_topic_docs = pd.DataFrame(topic_doc_pairs, columns=['Topic', 'Document'])\n",
    "\n",
    "# CSVファイルに保存\n",
    "df_topic_docs.to_csv('topic_documents.csv', index=False)"
   ]
  },
  {
   "cell_type": "code",
   "execution_count": 255,
   "metadata": {},
   "outputs": [
    {
     "data": {
      "application/vnd.plotly.v1+json": {
       "config": {
        "plotlyServerURL": "https://plot.ly"
       },
       "data": [
        {
         "customdata": [
          [
           0,
           "情報科学 | 情報 | 0と1 | 授業の進め方の説明 | 予習",
           323
          ],
          [
           1,
           "バイ | 完全性 | 暗号について | 機密性 | en",
           310
          ],
          [
           2,
           "計算 | アルゴリズム | 問題 | コンピュータ | コンピューターサイエンス",
           289
          ],
          [
           3,
           "符号語同士がs | 2k | ハミング距離 | 符号語同士が2t | 反転確率",
           257
          ],
          [
           4,
           "情報源符号化 | エントロピー | 情報源 | が存在する | 語頭条件",
           252
          ],
          [
           5,
           "予測 | 発見 | グルーピング | データについて | データ",
           228
          ],
          [
           6,
           "z変換について | z変換の性質逆z変換 | 離散フーリエ変換 | z変換の性質と逆z変換 | z変換の導入",
           228
          ],
          [
           7,
           "パターン認識 | ベクトル | 画像処理 | 自然言語処理 | クラス",
           219
          ],
          [
           8,
           "2回 | バブルソート | cf | 選択ソート | 整列",
           217
          ],
          [
           9,
           "xy | log2 | 情報量 | 曖昧さ | pm",
           174
          ],
          [
           10,
           "距離 | 類似度 | 似ている | 近い | 遠い",
           165
          ],
          [
           11,
           "離散時間フーリエ変換と離散フーリエ変換 | 離散時間フーリエ変換と離散フーリエ変換について | 離散時間システム | 離散時間フーリエ変換 | 離散時間システムについて",
           162
          ],
          [
           12,
           "相関 | 統計的検定 | 差がない | ax | インパルス応答",
           159
          ],
          [
           13,
           "ノード | と辺 | エッジ | 散布図 | ヒートマップ",
           145
          ],
          [
           14,
           "知識マップの作成 | 知識マップの作製 | 知識マップ作成 | br | 知識マップについて",
           139
          ],
          [
           15,
           "コモンズ | 全数調査 | 標本調査 | 標本選択バイアス | ライセンス",
           123
          ],
          [
           16,
           "ディジタル信号処理の概要 | 量子化 | 符号化 | アナログ信号 | 標本化",
           119
          ],
          [
           17,
           "高速フーリエ変換 | 高速フーリエ変換について | 高速フーリエ変換について学んだ | 高速フーリエ変換の仕組み | 高速フーリエ変換のやり方",
           115
          ],
          [
           18,
           "非周期信号のフーリエ変換 | 周期信号のフーリエ級数表現 | 非周期信号とフーリエ変換 | フーリエ変換について | フーリエ変換",
           107
          ],
          [
           19,
           "klogn | logn | kn | パターン文字列pの長さをkとすると各ステップにおいて高々k回の文字比較を行う | である",
           101
          ],
          [
           20,
           "nt | 連続時間信号の標本化 | 連続時間信号の標本化について | hz | 離散時間信号とz変換について",
           96
          ],
          [
           21,
           "期末テスト | 確認テスト | テスト | テストでした | 期末試験",
           89
          ],
          [
           22,
           "弱いai | 強いai | 特化型ai | 人工知能 | ai",
           75
          ],
          [
           23,
           "著作権について | 財産権 | 著作権 | 70年間著作物を守る | 著作権に関する様々なこと",
           62
          ],
          [
           24,
           "フーリエ級数からフーリエ変換への拡張 | フーリエ級数 | 最大公約数を表す | フーリエ級数複素フーリエ級数の求め方 | フーリエ級数展開",
           58
          ],
          [
           25,
           "エッジ抽出 | エッジ | 文字 | と白 | 帰無仮説",
           56
          ],
          [
           26,
           "離散時間システムの線形時不変システムと差分方程式について | 線形性と時不変性の性質をもち | 離散時間システムの内容について | 出入力は畳み込みで表される | 差分方程式",
           54
          ],
          [
           27,
           "ai | 人工知能 | 負の相関 | aとbは相関する | 絶対的な正解",
           52
          ],
          [
           28,
           "ディジタルフィルタの設計 | ディジタルフィルタの設計窓関数法などについて | 本日はディジタルフィルタについて学んだまたflrフィルタの場合での設計がどのような手順で行われるか学ぶことが重要である | 色々な種類のフィルタなどについて学んだ | 直線位相について",
           50
          ],
          [
           29,
           "データの可視化について | 可視化 | ことができるかということとその可視化の種類 | 距離の使い分け | 様々なデータの可視化の方法",
           50
          ],
          [
           30,
           "人工知能 | ai | 人工知能について | 機械学習とは | 傾向や関連の発展",
           43
          ],
          [
           31,
           "改竄 | 捏造 | そして情報倫理について九州大学の例を見ながら理解する | 研究倫理は明文化されていないが研究そのものの信頼が失われないように個人が科学者として中立性 | 研究倫理や情報倫理といった研究に対する姿勢的な部分の多くは各個人が注意すべきであるまたある程度国や組織が明文化して規範を示すことも重要である",
           41
          ],
          [
           32,
           "nlogn | log2n | マージソート | ヒープソートの仕組みと特徴マージソートの仕組みと特徴ソートにおいて比較回数を減らす方法や決定木の説明 | ヒープソートとマージソートの手順比較回数",
           38
          ],
          [
           33,
           "二分探索法とデータについて | 二分探索法について | 2分探索についてとデータ分析の基本について | 線形探索2分探索のやり方と2分探索のアルゴリズムと計算量についての説明がありましたまた実際にキーワードやテキストで2分探索を行った場合の手順の説明や計算量についての説明もありましたさらにデータとはなにかその具体的な例や種類一般的な4つの分類についての説明と私たちが普段行っているデータ分析とデータ分析の3つの基本についての説明もありました | マージソートや二分探索法についての補足があった後に様々なデータとデータ解析の基本という教材の単元についての説明を受けたデータとは何かについての具体例を用いた説明が行われた",
           38
          ],
          [
           34,
           "マージソートと二分探索法について | 二分探索法 | 2分探索について | 今回の授業ではヒープソートとマージソートについて学習した | マージソート",
           38
          ],
          [
           35,
           "ガイダンス | オリエンテーション | ソートの大まかな概要 | イントロダクション | aiについての基礎情報",
           35
          ],
          [
           36,
           "nlogn | log | 通りがけ順 | どの節点の値も自分の親に格納された値以下である | となる",
           33
          ],
          [
           37,
           "フーリエ級数について学んだ | これからの授業で何を学ぶかや計算とは何かについて例を用いて学んだ | 今回の授業では数学的要素も混じった問題について取り上げておりより手短な計算で問題を解決することに注力したものでありました | エントロピーについて学んだ高校数学で確率を学んだが今回の授業はより実践的だった | ユークリッド互徐法の正当性や選択ソートヒープソートなどの計算方法について学びました",
           32
          ],
          [
           38,
           "標本化について | 標本化 | 標本化定理 | 標本化と標本化定理について | サンプリングと標本化定理について",
           31
          ],
          [
           39,
           "興味が惹かれやすい内容だった | brーmapを用いて振り返りを行った | 第1回資料おわりまで | 猫とご機嫌と尻尾の関係では表に表すことでなんらかの関係性が理解できるようになっていた | 最後の方は簡単だった",
           31
          ],
          [
           40,
           "離散フーリエ変換の性質について学んだ | 離散フーリエ変換について学んだ | フーリエ変換の性質を学んだ | フーリエ変換をいったん覚えれば後に非常に楽になる | 逆z変換の方法を学んだ",
           30
          ],
          [
           41,
           "firの設計には窓関数が用いられる手順は次のとおりである①所望の振幅特性を求める②インパルス応答を求める③窓関数を掛け合わせて有限個のインパルス応答を取り出す④因果性を満たすようにする⑤h | フィルタの次数が大きいほど望む周波数特性に近づくが演算量が増えるという欠点もある | 通過する周波数帯を制限したフィルタの設計 | 直線位相ギブス現象 | 無限インパルス応答",
           30
          ],
          [
           42,
           "フーリエ級数表現 | あらゆる信号は正弦波を用いて表すことができる | 周期関数は三角関数のフーリエ級数で表現できる | 正弦波の代わりに複素正弦波を用いたフーリエ級数を複素フーリエ級数という | 直流成分はa0ではなくそれを2で割った値である",
           29
          ],
          [
           43,
           "2fm | 連続信号の標本化の精度に関わる標本化定理やナイキスト周波数などについての内容 | サンプル値信号を使って標本化元の信号の復元を行った | サンプル値信号標本化定理について学習した | 信号の復元をフーリエ変換逆変換をつかっておこなう",
           26
          ],
          [
           44,
           "乗算器 | 位相応答 | 振幅応答 | 離散時間システムは加算器 | 伝達関数のzにe",
           26
          ],
          [
           45,
           "可視化の種類 | 可視化について | 可視化とその手法 | 可視化とは何かやいろいろな可視化手法について学んだ | 可視化とは何か",
           24
          ],
          [
           46,
           "研究倫理情報倫理について | 研究においてのマナー的なもの | 研究における不正や情報の倫理 | 研究倫理と情報倫理について学んだ研究はガイドラインや規則に従って誠実に行わないといけない情報倫理は情報を用いた社会形成に必要とされる一般的な行動規範のことである | 研究不正とはどのようなものでどんな対策が行われているかや情報倫理について",
           21
          ],
          [
           47,
           "差分方程式 | インパルス応答伝達関数とその計算の手法 | インパルス応答伝達関数などについて | 差分方程式について学んだ | 差分方程式について",
           21
          ],
          [
           48,
           "授業のガイダンス | 今後の授業のためのガイダンス | 今後の講義内容についての説明 | 講義を受ける上での注意事項 | 講義の説明",
           20
          ],
          [
           49,
           "相関について | 検定と画像処理について学んだ | 検定と画像についての授業だった | 相関についての講義を受けた画像を利用するのにどういった事例があるのかまたフィルタ処理や2値化相関の利用例分布からわかること統計的検定について学び数学と情報科学が大いに関係していることが再確認できた | 画像解析フィルタ処理相関統計的検定について",
           19
          ],
          [
           50,
           "逆z変換 | 逆z変換について | 逆z変換の求め方に関しての講義 | 逆z変換の求め方 | 逆z変換の導入",
           18
          ],
          [
           51,
           "これら二つは相同性検索クラスタリング系統分離判定異常検知などに使われている続いてはデータ間の距離についてだこれは2データがどれくらい離れるかを表すもっとも代表的な距離はユークリッド距離であり三平方の定理を用いて表すまたこれはn次元のnが増え続けて表すことができる | ベクトルの定義とデータ分析におけるベクトルの使用方法 | また数学の集合の類似度のことでどれくらい共通しているかを表していることをjaccard係数という方向性の類似度を測る方法をコサイン類似度という | データを扱う際ベクトルや線形代数を用いることで効率的に表現できる | データ同士がどの程度似ているかというものを様々な単位で表していく方法",
           16
          ],
          [
           52,
           "標本化定理について学習した | サンプリング信号標本化定理標本化定理の先の導出エイリアシングアンチエイリアスフィルタについて学んだ | 標本化定理の説明とその条件について学んだ | 標本化定理の条件について学んだ | 標本化定理の導出使い方原理について学んだ",
           15
          ],
          [
           53,
           "様々な距離 | 距離と類似度 | ベクトル距離類似度 | ベクトルとは | ベクトルや距離や類似度がどのようなものか",
           14
          ],
          [
           54,
           "ヒープソートとマージソートについて | マージソートの概要具体例の説明 | ヒープソートとマージソート | ベクトルの概念の拡張 | ヒープソートマージソートについて知る",
           14
          ],
          [
           55,
           "の周期関数であると解釈することでフーリエ変換するフーリエ変換された関数を元の関数に戻すことをフーリエ逆変換というフーリエ変換には様々な性質がありその性質を利用することで計算しやすくなることがある単位インパルス関数単位ステップ関数といった特殊な関数がありフーリエ変換することでこれらの巻数が出てくる場合がある | 非周期関数もフーリエ変換することが出来るまたフーリエ変換と対になる逆フーリエ変換なるものが存在する | 非周期関数まで含めた一般的なフーリエ変換とその性質について | 非周期関数のフーリエ級数からフーリエ変換を学んだ | 非周期関数に適用",
           13
          ],
          [
           56,
           "警戒が大事 | ict社会で生き抜くために | ict環境における脅威とその対策 | ict技術はテクニックを使わなくても攻撃される可能性がある | ict技術ではなくそれを使う人間側に対する攻撃や攻撃されるリスクがどこにあるかについて",
           13
          ],
          [
           57,
           "練習問題や課題の解説ヒープソートの復習マージソート | 第1回7回の振り返り | 演習の解説 | 前回の演習課題の解説とレポートの説明 | 今までの講義の振り返り復習を行った",
           13
          ]
         ],
         "hovertemplate": "<b>Topic %{customdata[0]}</b><br>%{customdata[1]}<br>Size: %{customdata[2]}",
         "legendgroup": "",
         "marker": {
          "color": "#B0BEC5",
          "line": {
           "color": "DarkSlateGrey",
           "width": 2
          },
          "size": [
           323,
           310,
           289,
           257,
           252,
           228,
           228,
           219,
           217,
           174,
           165,
           162,
           159,
           145,
           139,
           123,
           119,
           115,
           107,
           101,
           96,
           89,
           75,
           62,
           58,
           56,
           54,
           52,
           50,
           50,
           43,
           41,
           38,
           38,
           38,
           35,
           33,
           32,
           31,
           31,
           30,
           30,
           29,
           26,
           26,
           24,
           21,
           21,
           20,
           19,
           18,
           16,
           15,
           14,
           14,
           13,
           13,
           13
          ],
          "sizemode": "area",
          "sizeref": 0.201875,
          "symbol": "circle"
         },
         "mode": "markers",
         "name": "",
         "orientation": "v",
         "showlegend": false,
         "type": "scatter",
         "x": [
          13.170845031738281,
          11.281902313232422,
          12.162956237792969,
          -8.99600887298584,
          -8.971173286437988,
          16.79869270324707,
          -8.921772956848145,
          16.9918155670166,
          -15.001845359802246,
          -8.93028736114502,
          -6.177812576293945,
          1.9477607011795044,
          4.602962017059326,
          16.52326011657715,
          13.174126625061035,
          16.680442810058594,
          9.945527076721191,
          -17.379772186279297,
          -17.992778778076172,
          8.336187362670898,
          -18.026233673095703,
          4.376685619354248,
          12.054309844970703,
          17.12838363647461,
          -3.4722137451171875,
          9.618727684020996,
          2.0340425968170166,
          4.557151794433594,
          16.695995330810547,
          16.629985809326172,
          12.0735445022583,
          17.143211364746094,
          -14.933633804321289,
          8.360976219177246,
          8.466394424438477,
          7.473752498626709,
          -14.902226448059082,
          -3.471837043762207,
          9.439911842346191,
          7.410731792449951,
          -17.414688110351562,
          -17.953189849853516,
          -18.188289642333984,
          9.94556999206543,
          2.09012770652771,
          16.57442855834961,
          17.0335636138916,
          4.7092132568359375,
          4.583890914916992,
          9.617165565490723,
          -8.94391918182373,
          -6.276501178741455,
          9.46970272064209,
          -6.113540172576904,
          7.6327056884765625,
          -17.49958038330078,
          11.280451774597168,
          4.397669792175293
         ],
         "xaxis": "x",
         "y": [
          12.757362365722656,
          -5.3367695808410645,
          8.601153373718262,
          3.8584346771240234,
          3.8336410522460938,
          -5.924490928649902,
          18.855592727661133,
          -6.1400861740112305,
          4.075081825256348,
          3.792659282684326,
          -2.359649896621704,
          -4.778483867645264,
          3.6765995025634766,
          -5.276393413543701,
          12.755693435668945,
          -6.020280361175537,
          0.9381282925605774,
          14.643803596496582,
          14.598153114318848,
          18.296613693237305,
          14.800963401794434,
          4.991152763366699,
          8.492687225341797,
          12.009929656982422,
          16.014646530151367,
          -9.533649444580078,
          -4.692303657531738,
          3.723673105239868,
          -5.03631591796875,
          -5.660254001617432,
          8.511507987976074,
          11.996121406555176,
          4.143509387969971,
          18.27164077758789,
          18.165782928466797,
          21.174179077148438,
          4.174921035766602,
          16.01462745666504,
          5.005285739898682,
          21.237871170043945,
          14.601791381835938,
          15.05965805053711,
          14.633305549621582,
          0.9381922483444214,
          -4.636275768280029,
          -5.019433498382568,
          12.105324745178223,
          3.5702998638153076,
          5.194636821746826,
          -9.534067153930664,
          18.827844619750977,
          -2.458106279373169,
          5.034809589385986,
          -2.2954351902008057,
          21.013452529907227,
          14.547099113464355,
          -5.336363315582275,
          5.028919219970703
         ],
         "yaxis": "y"
        }
       ],
       "layout": {
        "annotations": [
         {
          "showarrow": false,
          "text": "D1",
          "x": -20.916533088684083,
          "y": 6.729687309265137,
          "yshift": 10
         },
         {
          "showarrow": false,
          "text": "D2",
          "x": -0.6009200096130378,
          "xshift": 10,
          "y": 24.423551845550538
         }
        ],
        "height": 650,
        "hoverlabel": {
         "bgcolor": "white",
         "font": {
          "family": "Rockwell",
          "size": 16
         }
        },
        "legend": {
         "itemsizing": "constant",
         "tracegroupgap": 0
        },
        "margin": {
         "t": 60
        },
        "shapes": [
         {
          "line": {
           "color": "#CFD8DC",
           "width": 2
          },
          "type": "line",
          "x0": -0.6009200096130378,
          "x1": -0.6009200096130378,
          "y0": -10.964177227020263,
          "y1": 24.423551845550538
         },
         {
          "line": {
           "color": "#9E9E9E",
           "width": 2
          },
          "type": "line",
          "x0": -20.916533088684083,
          "x1": 19.714693069458008,
          "y0": 6.729687309265137,
          "y1": 6.729687309265137
         }
        ],
        "sliders": [
         {
          "active": 0,
          "pad": {
           "t": 50
          },
          "steps": [
           {
            "args": [
             {
              "marker.color": [
               [
                "red",
                "#B0BEC5",
                "#B0BEC5",
                "#B0BEC5",
                "#B0BEC5",
                "#B0BEC5",
                "#B0BEC5",
                "#B0BEC5",
                "#B0BEC5",
                "#B0BEC5",
                "#B0BEC5",
                "#B0BEC5",
                "#B0BEC5",
                "#B0BEC5",
                "#B0BEC5",
                "#B0BEC5",
                "#B0BEC5",
                "#B0BEC5",
                "#B0BEC5",
                "#B0BEC5",
                "#B0BEC5",
                "#B0BEC5",
                "#B0BEC5",
                "#B0BEC5",
                "#B0BEC5",
                "#B0BEC5",
                "#B0BEC5",
                "#B0BEC5",
                "#B0BEC5",
                "#B0BEC5",
                "#B0BEC5",
                "#B0BEC5",
                "#B0BEC5",
                "#B0BEC5",
                "#B0BEC5",
                "#B0BEC5",
                "#B0BEC5",
                "#B0BEC5",
                "#B0BEC5",
                "#B0BEC5",
                "#B0BEC5",
                "#B0BEC5",
                "#B0BEC5",
                "#B0BEC5",
                "#B0BEC5",
                "#B0BEC5",
                "#B0BEC5",
                "#B0BEC5",
                "#B0BEC5",
                "#B0BEC5",
                "#B0BEC5",
                "#B0BEC5",
                "#B0BEC5",
                "#B0BEC5",
                "#B0BEC5",
                "#B0BEC5",
                "#B0BEC5",
                "#B0BEC5"
               ]
              ]
             }
            ],
            "label": "Topic 0",
            "method": "update"
           },
           {
            "args": [
             {
              "marker.color": [
               [
                "#B0BEC5",
                "red",
                "#B0BEC5",
                "#B0BEC5",
                "#B0BEC5",
                "#B0BEC5",
                "#B0BEC5",
                "#B0BEC5",
                "#B0BEC5",
                "#B0BEC5",
                "#B0BEC5",
                "#B0BEC5",
                "#B0BEC5",
                "#B0BEC5",
                "#B0BEC5",
                "#B0BEC5",
                "#B0BEC5",
                "#B0BEC5",
                "#B0BEC5",
                "#B0BEC5",
                "#B0BEC5",
                "#B0BEC5",
                "#B0BEC5",
                "#B0BEC5",
                "#B0BEC5",
                "#B0BEC5",
                "#B0BEC5",
                "#B0BEC5",
                "#B0BEC5",
                "#B0BEC5",
                "#B0BEC5",
                "#B0BEC5",
                "#B0BEC5",
                "#B0BEC5",
                "#B0BEC5",
                "#B0BEC5",
                "#B0BEC5",
                "#B0BEC5",
                "#B0BEC5",
                "#B0BEC5",
                "#B0BEC5",
                "#B0BEC5",
                "#B0BEC5",
                "#B0BEC5",
                "#B0BEC5",
                "#B0BEC5",
                "#B0BEC5",
                "#B0BEC5",
                "#B0BEC5",
                "#B0BEC5",
                "#B0BEC5",
                "#B0BEC5",
                "#B0BEC5",
                "#B0BEC5",
                "#B0BEC5",
                "#B0BEC5",
                "#B0BEC5",
                "#B0BEC5"
               ]
              ]
             }
            ],
            "label": "Topic 1",
            "method": "update"
           },
           {
            "args": [
             {
              "marker.color": [
               [
                "#B0BEC5",
                "#B0BEC5",
                "red",
                "#B0BEC5",
                "#B0BEC5",
                "#B0BEC5",
                "#B0BEC5",
                "#B0BEC5",
                "#B0BEC5",
                "#B0BEC5",
                "#B0BEC5",
                "#B0BEC5",
                "#B0BEC5",
                "#B0BEC5",
                "#B0BEC5",
                "#B0BEC5",
                "#B0BEC5",
                "#B0BEC5",
                "#B0BEC5",
                "#B0BEC5",
                "#B0BEC5",
                "#B0BEC5",
                "#B0BEC5",
                "#B0BEC5",
                "#B0BEC5",
                "#B0BEC5",
                "#B0BEC5",
                "#B0BEC5",
                "#B0BEC5",
                "#B0BEC5",
                "#B0BEC5",
                "#B0BEC5",
                "#B0BEC5",
                "#B0BEC5",
                "#B0BEC5",
                "#B0BEC5",
                "#B0BEC5",
                "#B0BEC5",
                "#B0BEC5",
                "#B0BEC5",
                "#B0BEC5",
                "#B0BEC5",
                "#B0BEC5",
                "#B0BEC5",
                "#B0BEC5",
                "#B0BEC5",
                "#B0BEC5",
                "#B0BEC5",
                "#B0BEC5",
                "#B0BEC5",
                "#B0BEC5",
                "#B0BEC5",
                "#B0BEC5",
                "#B0BEC5",
                "#B0BEC5",
                "#B0BEC5",
                "#B0BEC5",
                "#B0BEC5"
               ]
              ]
             }
            ],
            "label": "Topic 2",
            "method": "update"
           },
           {
            "args": [
             {
              "marker.color": [
               [
                "#B0BEC5",
                "#B0BEC5",
                "#B0BEC5",
                "red",
                "#B0BEC5",
                "#B0BEC5",
                "#B0BEC5",
                "#B0BEC5",
                "#B0BEC5",
                "#B0BEC5",
                "#B0BEC5",
                "#B0BEC5",
                "#B0BEC5",
                "#B0BEC5",
                "#B0BEC5",
                "#B0BEC5",
                "#B0BEC5",
                "#B0BEC5",
                "#B0BEC5",
                "#B0BEC5",
                "#B0BEC5",
                "#B0BEC5",
                "#B0BEC5",
                "#B0BEC5",
                "#B0BEC5",
                "#B0BEC5",
                "#B0BEC5",
                "#B0BEC5",
                "#B0BEC5",
                "#B0BEC5",
                "#B0BEC5",
                "#B0BEC5",
                "#B0BEC5",
                "#B0BEC5",
                "#B0BEC5",
                "#B0BEC5",
                "#B0BEC5",
                "#B0BEC5",
                "#B0BEC5",
                "#B0BEC5",
                "#B0BEC5",
                "#B0BEC5",
                "#B0BEC5",
                "#B0BEC5",
                "#B0BEC5",
                "#B0BEC5",
                "#B0BEC5",
                "#B0BEC5",
                "#B0BEC5",
                "#B0BEC5",
                "#B0BEC5",
                "#B0BEC5",
                "#B0BEC5",
                "#B0BEC5",
                "#B0BEC5",
                "#B0BEC5",
                "#B0BEC5",
                "#B0BEC5"
               ]
              ]
             }
            ],
            "label": "Topic 3",
            "method": "update"
           },
           {
            "args": [
             {
              "marker.color": [
               [
                "#B0BEC5",
                "#B0BEC5",
                "#B0BEC5",
                "#B0BEC5",
                "red",
                "#B0BEC5",
                "#B0BEC5",
                "#B0BEC5",
                "#B0BEC5",
                "#B0BEC5",
                "#B0BEC5",
                "#B0BEC5",
                "#B0BEC5",
                "#B0BEC5",
                "#B0BEC5",
                "#B0BEC5",
                "#B0BEC5",
                "#B0BEC5",
                "#B0BEC5",
                "#B0BEC5",
                "#B0BEC5",
                "#B0BEC5",
                "#B0BEC5",
                "#B0BEC5",
                "#B0BEC5",
                "#B0BEC5",
                "#B0BEC5",
                "#B0BEC5",
                "#B0BEC5",
                "#B0BEC5",
                "#B0BEC5",
                "#B0BEC5",
                "#B0BEC5",
                "#B0BEC5",
                "#B0BEC5",
                "#B0BEC5",
                "#B0BEC5",
                "#B0BEC5",
                "#B0BEC5",
                "#B0BEC5",
                "#B0BEC5",
                "#B0BEC5",
                "#B0BEC5",
                "#B0BEC5",
                "#B0BEC5",
                "#B0BEC5",
                "#B0BEC5",
                "#B0BEC5",
                "#B0BEC5",
                "#B0BEC5",
                "#B0BEC5",
                "#B0BEC5",
                "#B0BEC5",
                "#B0BEC5",
                "#B0BEC5",
                "#B0BEC5",
                "#B0BEC5",
                "#B0BEC5"
               ]
              ]
             }
            ],
            "label": "Topic 4",
            "method": "update"
           },
           {
            "args": [
             {
              "marker.color": [
               [
                "#B0BEC5",
                "#B0BEC5",
                "#B0BEC5",
                "#B0BEC5",
                "#B0BEC5",
                "red",
                "#B0BEC5",
                "#B0BEC5",
                "#B0BEC5",
                "#B0BEC5",
                "#B0BEC5",
                "#B0BEC5",
                "#B0BEC5",
                "#B0BEC5",
                "#B0BEC5",
                "#B0BEC5",
                "#B0BEC5",
                "#B0BEC5",
                "#B0BEC5",
                "#B0BEC5",
                "#B0BEC5",
                "#B0BEC5",
                "#B0BEC5",
                "#B0BEC5",
                "#B0BEC5",
                "#B0BEC5",
                "#B0BEC5",
                "#B0BEC5",
                "#B0BEC5",
                "#B0BEC5",
                "#B0BEC5",
                "#B0BEC5",
                "#B0BEC5",
                "#B0BEC5",
                "#B0BEC5",
                "#B0BEC5",
                "#B0BEC5",
                "#B0BEC5",
                "#B0BEC5",
                "#B0BEC5",
                "#B0BEC5",
                "#B0BEC5",
                "#B0BEC5",
                "#B0BEC5",
                "#B0BEC5",
                "#B0BEC5",
                "#B0BEC5",
                "#B0BEC5",
                "#B0BEC5",
                "#B0BEC5",
                "#B0BEC5",
                "#B0BEC5",
                "#B0BEC5",
                "#B0BEC5",
                "#B0BEC5",
                "#B0BEC5",
                "#B0BEC5",
                "#B0BEC5"
               ]
              ]
             }
            ],
            "label": "Topic 5",
            "method": "update"
           },
           {
            "args": [
             {
              "marker.color": [
               [
                "#B0BEC5",
                "#B0BEC5",
                "#B0BEC5",
                "#B0BEC5",
                "#B0BEC5",
                "#B0BEC5",
                "red",
                "#B0BEC5",
                "#B0BEC5",
                "#B0BEC5",
                "#B0BEC5",
                "#B0BEC5",
                "#B0BEC5",
                "#B0BEC5",
                "#B0BEC5",
                "#B0BEC5",
                "#B0BEC5",
                "#B0BEC5",
                "#B0BEC5",
                "#B0BEC5",
                "#B0BEC5",
                "#B0BEC5",
                "#B0BEC5",
                "#B0BEC5",
                "#B0BEC5",
                "#B0BEC5",
                "#B0BEC5",
                "#B0BEC5",
                "#B0BEC5",
                "#B0BEC5",
                "#B0BEC5",
                "#B0BEC5",
                "#B0BEC5",
                "#B0BEC5",
                "#B0BEC5",
                "#B0BEC5",
                "#B0BEC5",
                "#B0BEC5",
                "#B0BEC5",
                "#B0BEC5",
                "#B0BEC5",
                "#B0BEC5",
                "#B0BEC5",
                "#B0BEC5",
                "#B0BEC5",
                "#B0BEC5",
                "#B0BEC5",
                "#B0BEC5",
                "#B0BEC5",
                "#B0BEC5",
                "#B0BEC5",
                "#B0BEC5",
                "#B0BEC5",
                "#B0BEC5",
                "#B0BEC5",
                "#B0BEC5",
                "#B0BEC5",
                "#B0BEC5"
               ]
              ]
             }
            ],
            "label": "Topic 6",
            "method": "update"
           },
           {
            "args": [
             {
              "marker.color": [
               [
                "#B0BEC5",
                "#B0BEC5",
                "#B0BEC5",
                "#B0BEC5",
                "#B0BEC5",
                "#B0BEC5",
                "#B0BEC5",
                "red",
                "#B0BEC5",
                "#B0BEC5",
                "#B0BEC5",
                "#B0BEC5",
                "#B0BEC5",
                "#B0BEC5",
                "#B0BEC5",
                "#B0BEC5",
                "#B0BEC5",
                "#B0BEC5",
                "#B0BEC5",
                "#B0BEC5",
                "#B0BEC5",
                "#B0BEC5",
                "#B0BEC5",
                "#B0BEC5",
                "#B0BEC5",
                "#B0BEC5",
                "#B0BEC5",
                "#B0BEC5",
                "#B0BEC5",
                "#B0BEC5",
                "#B0BEC5",
                "#B0BEC5",
                "#B0BEC5",
                "#B0BEC5",
                "#B0BEC5",
                "#B0BEC5",
                "#B0BEC5",
                "#B0BEC5",
                "#B0BEC5",
                "#B0BEC5",
                "#B0BEC5",
                "#B0BEC5",
                "#B0BEC5",
                "#B0BEC5",
                "#B0BEC5",
                "#B0BEC5",
                "#B0BEC5",
                "#B0BEC5",
                "#B0BEC5",
                "#B0BEC5",
                "#B0BEC5",
                "#B0BEC5",
                "#B0BEC5",
                "#B0BEC5",
                "#B0BEC5",
                "#B0BEC5",
                "#B0BEC5",
                "#B0BEC5"
               ]
              ]
             }
            ],
            "label": "Topic 7",
            "method": "update"
           },
           {
            "args": [
             {
              "marker.color": [
               [
                "#B0BEC5",
                "#B0BEC5",
                "#B0BEC5",
                "#B0BEC5",
                "#B0BEC5",
                "#B0BEC5",
                "#B0BEC5",
                "#B0BEC5",
                "red",
                "#B0BEC5",
                "#B0BEC5",
                "#B0BEC5",
                "#B0BEC5",
                "#B0BEC5",
                "#B0BEC5",
                "#B0BEC5",
                "#B0BEC5",
                "#B0BEC5",
                "#B0BEC5",
                "#B0BEC5",
                "#B0BEC5",
                "#B0BEC5",
                "#B0BEC5",
                "#B0BEC5",
                "#B0BEC5",
                "#B0BEC5",
                "#B0BEC5",
                "#B0BEC5",
                "#B0BEC5",
                "#B0BEC5",
                "#B0BEC5",
                "#B0BEC5",
                "#B0BEC5",
                "#B0BEC5",
                "#B0BEC5",
                "#B0BEC5",
                "#B0BEC5",
                "#B0BEC5",
                "#B0BEC5",
                "#B0BEC5",
                "#B0BEC5",
                "#B0BEC5",
                "#B0BEC5",
                "#B0BEC5",
                "#B0BEC5",
                "#B0BEC5",
                "#B0BEC5",
                "#B0BEC5",
                "#B0BEC5",
                "#B0BEC5",
                "#B0BEC5",
                "#B0BEC5",
                "#B0BEC5",
                "#B0BEC5",
                "#B0BEC5",
                "#B0BEC5",
                "#B0BEC5",
                "#B0BEC5"
               ]
              ]
             }
            ],
            "label": "Topic 8",
            "method": "update"
           },
           {
            "args": [
             {
              "marker.color": [
               [
                "#B0BEC5",
                "#B0BEC5",
                "#B0BEC5",
                "#B0BEC5",
                "#B0BEC5",
                "#B0BEC5",
                "#B0BEC5",
                "#B0BEC5",
                "#B0BEC5",
                "red",
                "#B0BEC5",
                "#B0BEC5",
                "#B0BEC5",
                "#B0BEC5",
                "#B0BEC5",
                "#B0BEC5",
                "#B0BEC5",
                "#B0BEC5",
                "#B0BEC5",
                "#B0BEC5",
                "#B0BEC5",
                "#B0BEC5",
                "#B0BEC5",
                "#B0BEC5",
                "#B0BEC5",
                "#B0BEC5",
                "#B0BEC5",
                "#B0BEC5",
                "#B0BEC5",
                "#B0BEC5",
                "#B0BEC5",
                "#B0BEC5",
                "#B0BEC5",
                "#B0BEC5",
                "#B0BEC5",
                "#B0BEC5",
                "#B0BEC5",
                "#B0BEC5",
                "#B0BEC5",
                "#B0BEC5",
                "#B0BEC5",
                "#B0BEC5",
                "#B0BEC5",
                "#B0BEC5",
                "#B0BEC5",
                "#B0BEC5",
                "#B0BEC5",
                "#B0BEC5",
                "#B0BEC5",
                "#B0BEC5",
                "#B0BEC5",
                "#B0BEC5",
                "#B0BEC5",
                "#B0BEC5",
                "#B0BEC5",
                "#B0BEC5",
                "#B0BEC5",
                "#B0BEC5"
               ]
              ]
             }
            ],
            "label": "Topic 9",
            "method": "update"
           },
           {
            "args": [
             {
              "marker.color": [
               [
                "#B0BEC5",
                "#B0BEC5",
                "#B0BEC5",
                "#B0BEC5",
                "#B0BEC5",
                "#B0BEC5",
                "#B0BEC5",
                "#B0BEC5",
                "#B0BEC5",
                "#B0BEC5",
                "red",
                "#B0BEC5",
                "#B0BEC5",
                "#B0BEC5",
                "#B0BEC5",
                "#B0BEC5",
                "#B0BEC5",
                "#B0BEC5",
                "#B0BEC5",
                "#B0BEC5",
                "#B0BEC5",
                "#B0BEC5",
                "#B0BEC5",
                "#B0BEC5",
                "#B0BEC5",
                "#B0BEC5",
                "#B0BEC5",
                "#B0BEC5",
                "#B0BEC5",
                "#B0BEC5",
                "#B0BEC5",
                "#B0BEC5",
                "#B0BEC5",
                "#B0BEC5",
                "#B0BEC5",
                "#B0BEC5",
                "#B0BEC5",
                "#B0BEC5",
                "#B0BEC5",
                "#B0BEC5",
                "#B0BEC5",
                "#B0BEC5",
                "#B0BEC5",
                "#B0BEC5",
                "#B0BEC5",
                "#B0BEC5",
                "#B0BEC5",
                "#B0BEC5",
                "#B0BEC5",
                "#B0BEC5",
                "#B0BEC5",
                "#B0BEC5",
                "#B0BEC5",
                "#B0BEC5",
                "#B0BEC5",
                "#B0BEC5",
                "#B0BEC5",
                "#B0BEC5"
               ]
              ]
             }
            ],
            "label": "Topic 10",
            "method": "update"
           },
           {
            "args": [
             {
              "marker.color": [
               [
                "#B0BEC5",
                "#B0BEC5",
                "#B0BEC5",
                "#B0BEC5",
                "#B0BEC5",
                "#B0BEC5",
                "#B0BEC5",
                "#B0BEC5",
                "#B0BEC5",
                "#B0BEC5",
                "#B0BEC5",
                "red",
                "#B0BEC5",
                "#B0BEC5",
                "#B0BEC5",
                "#B0BEC5",
                "#B0BEC5",
                "#B0BEC5",
                "#B0BEC5",
                "#B0BEC5",
                "#B0BEC5",
                "#B0BEC5",
                "#B0BEC5",
                "#B0BEC5",
                "#B0BEC5",
                "#B0BEC5",
                "#B0BEC5",
                "#B0BEC5",
                "#B0BEC5",
                "#B0BEC5",
                "#B0BEC5",
                "#B0BEC5",
                "#B0BEC5",
                "#B0BEC5",
                "#B0BEC5",
                "#B0BEC5",
                "#B0BEC5",
                "#B0BEC5",
                "#B0BEC5",
                "#B0BEC5",
                "#B0BEC5",
                "#B0BEC5",
                "#B0BEC5",
                "#B0BEC5",
                "#B0BEC5",
                "#B0BEC5",
                "#B0BEC5",
                "#B0BEC5",
                "#B0BEC5",
                "#B0BEC5",
                "#B0BEC5",
                "#B0BEC5",
                "#B0BEC5",
                "#B0BEC5",
                "#B0BEC5",
                "#B0BEC5",
                "#B0BEC5",
                "#B0BEC5"
               ]
              ]
             }
            ],
            "label": "Topic 11",
            "method": "update"
           },
           {
            "args": [
             {
              "marker.color": [
               [
                "#B0BEC5",
                "#B0BEC5",
                "#B0BEC5",
                "#B0BEC5",
                "#B0BEC5",
                "#B0BEC5",
                "#B0BEC5",
                "#B0BEC5",
                "#B0BEC5",
                "#B0BEC5",
                "#B0BEC5",
                "#B0BEC5",
                "red",
                "#B0BEC5",
                "#B0BEC5",
                "#B0BEC5",
                "#B0BEC5",
                "#B0BEC5",
                "#B0BEC5",
                "#B0BEC5",
                "#B0BEC5",
                "#B0BEC5",
                "#B0BEC5",
                "#B0BEC5",
                "#B0BEC5",
                "#B0BEC5",
                "#B0BEC5",
                "#B0BEC5",
                "#B0BEC5",
                "#B0BEC5",
                "#B0BEC5",
                "#B0BEC5",
                "#B0BEC5",
                "#B0BEC5",
                "#B0BEC5",
                "#B0BEC5",
                "#B0BEC5",
                "#B0BEC5",
                "#B0BEC5",
                "#B0BEC5",
                "#B0BEC5",
                "#B0BEC5",
                "#B0BEC5",
                "#B0BEC5",
                "#B0BEC5",
                "#B0BEC5",
                "#B0BEC5",
                "#B0BEC5",
                "#B0BEC5",
                "#B0BEC5",
                "#B0BEC5",
                "#B0BEC5",
                "#B0BEC5",
                "#B0BEC5",
                "#B0BEC5",
                "#B0BEC5",
                "#B0BEC5",
                "#B0BEC5"
               ]
              ]
             }
            ],
            "label": "Topic 12",
            "method": "update"
           },
           {
            "args": [
             {
              "marker.color": [
               [
                "#B0BEC5",
                "#B0BEC5",
                "#B0BEC5",
                "#B0BEC5",
                "#B0BEC5",
                "#B0BEC5",
                "#B0BEC5",
                "#B0BEC5",
                "#B0BEC5",
                "#B0BEC5",
                "#B0BEC5",
                "#B0BEC5",
                "#B0BEC5",
                "red",
                "#B0BEC5",
                "#B0BEC5",
                "#B0BEC5",
                "#B0BEC5",
                "#B0BEC5",
                "#B0BEC5",
                "#B0BEC5",
                "#B0BEC5",
                "#B0BEC5",
                "#B0BEC5",
                "#B0BEC5",
                "#B0BEC5",
                "#B0BEC5",
                "#B0BEC5",
                "#B0BEC5",
                "#B0BEC5",
                "#B0BEC5",
                "#B0BEC5",
                "#B0BEC5",
                "#B0BEC5",
                "#B0BEC5",
                "#B0BEC5",
                "#B0BEC5",
                "#B0BEC5",
                "#B0BEC5",
                "#B0BEC5",
                "#B0BEC5",
                "#B0BEC5",
                "#B0BEC5",
                "#B0BEC5",
                "#B0BEC5",
                "#B0BEC5",
                "#B0BEC5",
                "#B0BEC5",
                "#B0BEC5",
                "#B0BEC5",
                "#B0BEC5",
                "#B0BEC5",
                "#B0BEC5",
                "#B0BEC5",
                "#B0BEC5",
                "#B0BEC5",
                "#B0BEC5",
                "#B0BEC5"
               ]
              ]
             }
            ],
            "label": "Topic 13",
            "method": "update"
           },
           {
            "args": [
             {
              "marker.color": [
               [
                "#B0BEC5",
                "#B0BEC5",
                "#B0BEC5",
                "#B0BEC5",
                "#B0BEC5",
                "#B0BEC5",
                "#B0BEC5",
                "#B0BEC5",
                "#B0BEC5",
                "#B0BEC5",
                "#B0BEC5",
                "#B0BEC5",
                "#B0BEC5",
                "#B0BEC5",
                "red",
                "#B0BEC5",
                "#B0BEC5",
                "#B0BEC5",
                "#B0BEC5",
                "#B0BEC5",
                "#B0BEC5",
                "#B0BEC5",
                "#B0BEC5",
                "#B0BEC5",
                "#B0BEC5",
                "#B0BEC5",
                "#B0BEC5",
                "#B0BEC5",
                "#B0BEC5",
                "#B0BEC5",
                "#B0BEC5",
                "#B0BEC5",
                "#B0BEC5",
                "#B0BEC5",
                "#B0BEC5",
                "#B0BEC5",
                "#B0BEC5",
                "#B0BEC5",
                "#B0BEC5",
                "#B0BEC5",
                "#B0BEC5",
                "#B0BEC5",
                "#B0BEC5",
                "#B0BEC5",
                "#B0BEC5",
                "#B0BEC5",
                "#B0BEC5",
                "#B0BEC5",
                "#B0BEC5",
                "#B0BEC5",
                "#B0BEC5",
                "#B0BEC5",
                "#B0BEC5",
                "#B0BEC5",
                "#B0BEC5",
                "#B0BEC5",
                "#B0BEC5",
                "#B0BEC5"
               ]
              ]
             }
            ],
            "label": "Topic 14",
            "method": "update"
           },
           {
            "args": [
             {
              "marker.color": [
               [
                "#B0BEC5",
                "#B0BEC5",
                "#B0BEC5",
                "#B0BEC5",
                "#B0BEC5",
                "#B0BEC5",
                "#B0BEC5",
                "#B0BEC5",
                "#B0BEC5",
                "#B0BEC5",
                "#B0BEC5",
                "#B0BEC5",
                "#B0BEC5",
                "#B0BEC5",
                "#B0BEC5",
                "red",
                "#B0BEC5",
                "#B0BEC5",
                "#B0BEC5",
                "#B0BEC5",
                "#B0BEC5",
                "#B0BEC5",
                "#B0BEC5",
                "#B0BEC5",
                "#B0BEC5",
                "#B0BEC5",
                "#B0BEC5",
                "#B0BEC5",
                "#B0BEC5",
                "#B0BEC5",
                "#B0BEC5",
                "#B0BEC5",
                "#B0BEC5",
                "#B0BEC5",
                "#B0BEC5",
                "#B0BEC5",
                "#B0BEC5",
                "#B0BEC5",
                "#B0BEC5",
                "#B0BEC5",
                "#B0BEC5",
                "#B0BEC5",
                "#B0BEC5",
                "#B0BEC5",
                "#B0BEC5",
                "#B0BEC5",
                "#B0BEC5",
                "#B0BEC5",
                "#B0BEC5",
                "#B0BEC5",
                "#B0BEC5",
                "#B0BEC5",
                "#B0BEC5",
                "#B0BEC5",
                "#B0BEC5",
                "#B0BEC5",
                "#B0BEC5",
                "#B0BEC5"
               ]
              ]
             }
            ],
            "label": "Topic 15",
            "method": "update"
           },
           {
            "args": [
             {
              "marker.color": [
               [
                "#B0BEC5",
                "#B0BEC5",
                "#B0BEC5",
                "#B0BEC5",
                "#B0BEC5",
                "#B0BEC5",
                "#B0BEC5",
                "#B0BEC5",
                "#B0BEC5",
                "#B0BEC5",
                "#B0BEC5",
                "#B0BEC5",
                "#B0BEC5",
                "#B0BEC5",
                "#B0BEC5",
                "#B0BEC5",
                "red",
                "#B0BEC5",
                "#B0BEC5",
                "#B0BEC5",
                "#B0BEC5",
                "#B0BEC5",
                "#B0BEC5",
                "#B0BEC5",
                "#B0BEC5",
                "#B0BEC5",
                "#B0BEC5",
                "#B0BEC5",
                "#B0BEC5",
                "#B0BEC5",
                "#B0BEC5",
                "#B0BEC5",
                "#B0BEC5",
                "#B0BEC5",
                "#B0BEC5",
                "#B0BEC5",
                "#B0BEC5",
                "#B0BEC5",
                "#B0BEC5",
                "#B0BEC5",
                "#B0BEC5",
                "#B0BEC5",
                "#B0BEC5",
                "#B0BEC5",
                "#B0BEC5",
                "#B0BEC5",
                "#B0BEC5",
                "#B0BEC5",
                "#B0BEC5",
                "#B0BEC5",
                "#B0BEC5",
                "#B0BEC5",
                "#B0BEC5",
                "#B0BEC5",
                "#B0BEC5",
                "#B0BEC5",
                "#B0BEC5",
                "#B0BEC5"
               ]
              ]
             }
            ],
            "label": "Topic 16",
            "method": "update"
           },
           {
            "args": [
             {
              "marker.color": [
               [
                "#B0BEC5",
                "#B0BEC5",
                "#B0BEC5",
                "#B0BEC5",
                "#B0BEC5",
                "#B0BEC5",
                "#B0BEC5",
                "#B0BEC5",
                "#B0BEC5",
                "#B0BEC5",
                "#B0BEC5",
                "#B0BEC5",
                "#B0BEC5",
                "#B0BEC5",
                "#B0BEC5",
                "#B0BEC5",
                "#B0BEC5",
                "red",
                "#B0BEC5",
                "#B0BEC5",
                "#B0BEC5",
                "#B0BEC5",
                "#B0BEC5",
                "#B0BEC5",
                "#B0BEC5",
                "#B0BEC5",
                "#B0BEC5",
                "#B0BEC5",
                "#B0BEC5",
                "#B0BEC5",
                "#B0BEC5",
                "#B0BEC5",
                "#B0BEC5",
                "#B0BEC5",
                "#B0BEC5",
                "#B0BEC5",
                "#B0BEC5",
                "#B0BEC5",
                "#B0BEC5",
                "#B0BEC5",
                "#B0BEC5",
                "#B0BEC5",
                "#B0BEC5",
                "#B0BEC5",
                "#B0BEC5",
                "#B0BEC5",
                "#B0BEC5",
                "#B0BEC5",
                "#B0BEC5",
                "#B0BEC5",
                "#B0BEC5",
                "#B0BEC5",
                "#B0BEC5",
                "#B0BEC5",
                "#B0BEC5",
                "#B0BEC5",
                "#B0BEC5",
                "#B0BEC5"
               ]
              ]
             }
            ],
            "label": "Topic 17",
            "method": "update"
           },
           {
            "args": [
             {
              "marker.color": [
               [
                "#B0BEC5",
                "#B0BEC5",
                "#B0BEC5",
                "#B0BEC5",
                "#B0BEC5",
                "#B0BEC5",
                "#B0BEC5",
                "#B0BEC5",
                "#B0BEC5",
                "#B0BEC5",
                "#B0BEC5",
                "#B0BEC5",
                "#B0BEC5",
                "#B0BEC5",
                "#B0BEC5",
                "#B0BEC5",
                "#B0BEC5",
                "#B0BEC5",
                "red",
                "#B0BEC5",
                "#B0BEC5",
                "#B0BEC5",
                "#B0BEC5",
                "#B0BEC5",
                "#B0BEC5",
                "#B0BEC5",
                "#B0BEC5",
                "#B0BEC5",
                "#B0BEC5",
                "#B0BEC5",
                "#B0BEC5",
                "#B0BEC5",
                "#B0BEC5",
                "#B0BEC5",
                "#B0BEC5",
                "#B0BEC5",
                "#B0BEC5",
                "#B0BEC5",
                "#B0BEC5",
                "#B0BEC5",
                "#B0BEC5",
                "#B0BEC5",
                "#B0BEC5",
                "#B0BEC5",
                "#B0BEC5",
                "#B0BEC5",
                "#B0BEC5",
                "#B0BEC5",
                "#B0BEC5",
                "#B0BEC5",
                "#B0BEC5",
                "#B0BEC5",
                "#B0BEC5",
                "#B0BEC5",
                "#B0BEC5",
                "#B0BEC5",
                "#B0BEC5",
                "#B0BEC5"
               ]
              ]
             }
            ],
            "label": "Topic 18",
            "method": "update"
           },
           {
            "args": [
             {
              "marker.color": [
               [
                "#B0BEC5",
                "#B0BEC5",
                "#B0BEC5",
                "#B0BEC5",
                "#B0BEC5",
                "#B0BEC5",
                "#B0BEC5",
                "#B0BEC5",
                "#B0BEC5",
                "#B0BEC5",
                "#B0BEC5",
                "#B0BEC5",
                "#B0BEC5",
                "#B0BEC5",
                "#B0BEC5",
                "#B0BEC5",
                "#B0BEC5",
                "#B0BEC5",
                "#B0BEC5",
                "red",
                "#B0BEC5",
                "#B0BEC5",
                "#B0BEC5",
                "#B0BEC5",
                "#B0BEC5",
                "#B0BEC5",
                "#B0BEC5",
                "#B0BEC5",
                "#B0BEC5",
                "#B0BEC5",
                "#B0BEC5",
                "#B0BEC5",
                "#B0BEC5",
                "#B0BEC5",
                "#B0BEC5",
                "#B0BEC5",
                "#B0BEC5",
                "#B0BEC5",
                "#B0BEC5",
                "#B0BEC5",
                "#B0BEC5",
                "#B0BEC5",
                "#B0BEC5",
                "#B0BEC5",
                "#B0BEC5",
                "#B0BEC5",
                "#B0BEC5",
                "#B0BEC5",
                "#B0BEC5",
                "#B0BEC5",
                "#B0BEC5",
                "#B0BEC5",
                "#B0BEC5",
                "#B0BEC5",
                "#B0BEC5",
                "#B0BEC5",
                "#B0BEC5",
                "#B0BEC5"
               ]
              ]
             }
            ],
            "label": "Topic 19",
            "method": "update"
           },
           {
            "args": [
             {
              "marker.color": [
               [
                "#B0BEC5",
                "#B0BEC5",
                "#B0BEC5",
                "#B0BEC5",
                "#B0BEC5",
                "#B0BEC5",
                "#B0BEC5",
                "#B0BEC5",
                "#B0BEC5",
                "#B0BEC5",
                "#B0BEC5",
                "#B0BEC5",
                "#B0BEC5",
                "#B0BEC5",
                "#B0BEC5",
                "#B0BEC5",
                "#B0BEC5",
                "#B0BEC5",
                "#B0BEC5",
                "#B0BEC5",
                "red",
                "#B0BEC5",
                "#B0BEC5",
                "#B0BEC5",
                "#B0BEC5",
                "#B0BEC5",
                "#B0BEC5",
                "#B0BEC5",
                "#B0BEC5",
                "#B0BEC5",
                "#B0BEC5",
                "#B0BEC5",
                "#B0BEC5",
                "#B0BEC5",
                "#B0BEC5",
                "#B0BEC5",
                "#B0BEC5",
                "#B0BEC5",
                "#B0BEC5",
                "#B0BEC5",
                "#B0BEC5",
                "#B0BEC5",
                "#B0BEC5",
                "#B0BEC5",
                "#B0BEC5",
                "#B0BEC5",
                "#B0BEC5",
                "#B0BEC5",
                "#B0BEC5",
                "#B0BEC5",
                "#B0BEC5",
                "#B0BEC5",
                "#B0BEC5",
                "#B0BEC5",
                "#B0BEC5",
                "#B0BEC5",
                "#B0BEC5",
                "#B0BEC5"
               ]
              ]
             }
            ],
            "label": "Topic 20",
            "method": "update"
           },
           {
            "args": [
             {
              "marker.color": [
               [
                "#B0BEC5",
                "#B0BEC5",
                "#B0BEC5",
                "#B0BEC5",
                "#B0BEC5",
                "#B0BEC5",
                "#B0BEC5",
                "#B0BEC5",
                "#B0BEC5",
                "#B0BEC5",
                "#B0BEC5",
                "#B0BEC5",
                "#B0BEC5",
                "#B0BEC5",
                "#B0BEC5",
                "#B0BEC5",
                "#B0BEC5",
                "#B0BEC5",
                "#B0BEC5",
                "#B0BEC5",
                "#B0BEC5",
                "red",
                "#B0BEC5",
                "#B0BEC5",
                "#B0BEC5",
                "#B0BEC5",
                "#B0BEC5",
                "#B0BEC5",
                "#B0BEC5",
                "#B0BEC5",
                "#B0BEC5",
                "#B0BEC5",
                "#B0BEC5",
                "#B0BEC5",
                "#B0BEC5",
                "#B0BEC5",
                "#B0BEC5",
                "#B0BEC5",
                "#B0BEC5",
                "#B0BEC5",
                "#B0BEC5",
                "#B0BEC5",
                "#B0BEC5",
                "#B0BEC5",
                "#B0BEC5",
                "#B0BEC5",
                "#B0BEC5",
                "#B0BEC5",
                "#B0BEC5",
                "#B0BEC5",
                "#B0BEC5",
                "#B0BEC5",
                "#B0BEC5",
                "#B0BEC5",
                "#B0BEC5",
                "#B0BEC5",
                "#B0BEC5",
                "#B0BEC5"
               ]
              ]
             }
            ],
            "label": "Topic 21",
            "method": "update"
           },
           {
            "args": [
             {
              "marker.color": [
               [
                "#B0BEC5",
                "#B0BEC5",
                "#B0BEC5",
                "#B0BEC5",
                "#B0BEC5",
                "#B0BEC5",
                "#B0BEC5",
                "#B0BEC5",
                "#B0BEC5",
                "#B0BEC5",
                "#B0BEC5",
                "#B0BEC5",
                "#B0BEC5",
                "#B0BEC5",
                "#B0BEC5",
                "#B0BEC5",
                "#B0BEC5",
                "#B0BEC5",
                "#B0BEC5",
                "#B0BEC5",
                "#B0BEC5",
                "#B0BEC5",
                "red",
                "#B0BEC5",
                "#B0BEC5",
                "#B0BEC5",
                "#B0BEC5",
                "#B0BEC5",
                "#B0BEC5",
                "#B0BEC5",
                "#B0BEC5",
                "#B0BEC5",
                "#B0BEC5",
                "#B0BEC5",
                "#B0BEC5",
                "#B0BEC5",
                "#B0BEC5",
                "#B0BEC5",
                "#B0BEC5",
                "#B0BEC5",
                "#B0BEC5",
                "#B0BEC5",
                "#B0BEC5",
                "#B0BEC5",
                "#B0BEC5",
                "#B0BEC5",
                "#B0BEC5",
                "#B0BEC5",
                "#B0BEC5",
                "#B0BEC5",
                "#B0BEC5",
                "#B0BEC5",
                "#B0BEC5",
                "#B0BEC5",
                "#B0BEC5",
                "#B0BEC5",
                "#B0BEC5",
                "#B0BEC5"
               ]
              ]
             }
            ],
            "label": "Topic 22",
            "method": "update"
           },
           {
            "args": [
             {
              "marker.color": [
               [
                "#B0BEC5",
                "#B0BEC5",
                "#B0BEC5",
                "#B0BEC5",
                "#B0BEC5",
                "#B0BEC5",
                "#B0BEC5",
                "#B0BEC5",
                "#B0BEC5",
                "#B0BEC5",
                "#B0BEC5",
                "#B0BEC5",
                "#B0BEC5",
                "#B0BEC5",
                "#B0BEC5",
                "#B0BEC5",
                "#B0BEC5",
                "#B0BEC5",
                "#B0BEC5",
                "#B0BEC5",
                "#B0BEC5",
                "#B0BEC5",
                "#B0BEC5",
                "red",
                "#B0BEC5",
                "#B0BEC5",
                "#B0BEC5",
                "#B0BEC5",
                "#B0BEC5",
                "#B0BEC5",
                "#B0BEC5",
                "#B0BEC5",
                "#B0BEC5",
                "#B0BEC5",
                "#B0BEC5",
                "#B0BEC5",
                "#B0BEC5",
                "#B0BEC5",
                "#B0BEC5",
                "#B0BEC5",
                "#B0BEC5",
                "#B0BEC5",
                "#B0BEC5",
                "#B0BEC5",
                "#B0BEC5",
                "#B0BEC5",
                "#B0BEC5",
                "#B0BEC5",
                "#B0BEC5",
                "#B0BEC5",
                "#B0BEC5",
                "#B0BEC5",
                "#B0BEC5",
                "#B0BEC5",
                "#B0BEC5",
                "#B0BEC5",
                "#B0BEC5",
                "#B0BEC5"
               ]
              ]
             }
            ],
            "label": "Topic 23",
            "method": "update"
           },
           {
            "args": [
             {
              "marker.color": [
               [
                "#B0BEC5",
                "#B0BEC5",
                "#B0BEC5",
                "#B0BEC5",
                "#B0BEC5",
                "#B0BEC5",
                "#B0BEC5",
                "#B0BEC5",
                "#B0BEC5",
                "#B0BEC5",
                "#B0BEC5",
                "#B0BEC5",
                "#B0BEC5",
                "#B0BEC5",
                "#B0BEC5",
                "#B0BEC5",
                "#B0BEC5",
                "#B0BEC5",
                "#B0BEC5",
                "#B0BEC5",
                "#B0BEC5",
                "#B0BEC5",
                "#B0BEC5",
                "#B0BEC5",
                "red",
                "#B0BEC5",
                "#B0BEC5",
                "#B0BEC5",
                "#B0BEC5",
                "#B0BEC5",
                "#B0BEC5",
                "#B0BEC5",
                "#B0BEC5",
                "#B0BEC5",
                "#B0BEC5",
                "#B0BEC5",
                "#B0BEC5",
                "#B0BEC5",
                "#B0BEC5",
                "#B0BEC5",
                "#B0BEC5",
                "#B0BEC5",
                "#B0BEC5",
                "#B0BEC5",
                "#B0BEC5",
                "#B0BEC5",
                "#B0BEC5",
                "#B0BEC5",
                "#B0BEC5",
                "#B0BEC5",
                "#B0BEC5",
                "#B0BEC5",
                "#B0BEC5",
                "#B0BEC5",
                "#B0BEC5",
                "#B0BEC5",
                "#B0BEC5",
                "#B0BEC5"
               ]
              ]
             }
            ],
            "label": "Topic 24",
            "method": "update"
           },
           {
            "args": [
             {
              "marker.color": [
               [
                "#B0BEC5",
                "#B0BEC5",
                "#B0BEC5",
                "#B0BEC5",
                "#B0BEC5",
                "#B0BEC5",
                "#B0BEC5",
                "#B0BEC5",
                "#B0BEC5",
                "#B0BEC5",
                "#B0BEC5",
                "#B0BEC5",
                "#B0BEC5",
                "#B0BEC5",
                "#B0BEC5",
                "#B0BEC5",
                "#B0BEC5",
                "#B0BEC5",
                "#B0BEC5",
                "#B0BEC5",
                "#B0BEC5",
                "#B0BEC5",
                "#B0BEC5",
                "#B0BEC5",
                "#B0BEC5",
                "red",
                "#B0BEC5",
                "#B0BEC5",
                "#B0BEC5",
                "#B0BEC5",
                "#B0BEC5",
                "#B0BEC5",
                "#B0BEC5",
                "#B0BEC5",
                "#B0BEC5",
                "#B0BEC5",
                "#B0BEC5",
                "#B0BEC5",
                "#B0BEC5",
                "#B0BEC5",
                "#B0BEC5",
                "#B0BEC5",
                "#B0BEC5",
                "#B0BEC5",
                "#B0BEC5",
                "#B0BEC5",
                "#B0BEC5",
                "#B0BEC5",
                "#B0BEC5",
                "#B0BEC5",
                "#B0BEC5",
                "#B0BEC5",
                "#B0BEC5",
                "#B0BEC5",
                "#B0BEC5",
                "#B0BEC5",
                "#B0BEC5",
                "#B0BEC5"
               ]
              ]
             }
            ],
            "label": "Topic 25",
            "method": "update"
           },
           {
            "args": [
             {
              "marker.color": [
               [
                "#B0BEC5",
                "#B0BEC5",
                "#B0BEC5",
                "#B0BEC5",
                "#B0BEC5",
                "#B0BEC5",
                "#B0BEC5",
                "#B0BEC5",
                "#B0BEC5",
                "#B0BEC5",
                "#B0BEC5",
                "#B0BEC5",
                "#B0BEC5",
                "#B0BEC5",
                "#B0BEC5",
                "#B0BEC5",
                "#B0BEC5",
                "#B0BEC5",
                "#B0BEC5",
                "#B0BEC5",
                "#B0BEC5",
                "#B0BEC5",
                "#B0BEC5",
                "#B0BEC5",
                "#B0BEC5",
                "#B0BEC5",
                "red",
                "#B0BEC5",
                "#B0BEC5",
                "#B0BEC5",
                "#B0BEC5",
                "#B0BEC5",
                "#B0BEC5",
                "#B0BEC5",
                "#B0BEC5",
                "#B0BEC5",
                "#B0BEC5",
                "#B0BEC5",
                "#B0BEC5",
                "#B0BEC5",
                "#B0BEC5",
                "#B0BEC5",
                "#B0BEC5",
                "#B0BEC5",
                "#B0BEC5",
                "#B0BEC5",
                "#B0BEC5",
                "#B0BEC5",
                "#B0BEC5",
                "#B0BEC5",
                "#B0BEC5",
                "#B0BEC5",
                "#B0BEC5",
                "#B0BEC5",
                "#B0BEC5",
                "#B0BEC5",
                "#B0BEC5",
                "#B0BEC5"
               ]
              ]
             }
            ],
            "label": "Topic 26",
            "method": "update"
           },
           {
            "args": [
             {
              "marker.color": [
               [
                "#B0BEC5",
                "#B0BEC5",
                "#B0BEC5",
                "#B0BEC5",
                "#B0BEC5",
                "#B0BEC5",
                "#B0BEC5",
                "#B0BEC5",
                "#B0BEC5",
                "#B0BEC5",
                "#B0BEC5",
                "#B0BEC5",
                "#B0BEC5",
                "#B0BEC5",
                "#B0BEC5",
                "#B0BEC5",
                "#B0BEC5",
                "#B0BEC5",
                "#B0BEC5",
                "#B0BEC5",
                "#B0BEC5",
                "#B0BEC5",
                "#B0BEC5",
                "#B0BEC5",
                "#B0BEC5",
                "#B0BEC5",
                "#B0BEC5",
                "red",
                "#B0BEC5",
                "#B0BEC5",
                "#B0BEC5",
                "#B0BEC5",
                "#B0BEC5",
                "#B0BEC5",
                "#B0BEC5",
                "#B0BEC5",
                "#B0BEC5",
                "#B0BEC5",
                "#B0BEC5",
                "#B0BEC5",
                "#B0BEC5",
                "#B0BEC5",
                "#B0BEC5",
                "#B0BEC5",
                "#B0BEC5",
                "#B0BEC5",
                "#B0BEC5",
                "#B0BEC5",
                "#B0BEC5",
                "#B0BEC5",
                "#B0BEC5",
                "#B0BEC5",
                "#B0BEC5",
                "#B0BEC5",
                "#B0BEC5",
                "#B0BEC5",
                "#B0BEC5",
                "#B0BEC5"
               ]
              ]
             }
            ],
            "label": "Topic 27",
            "method": "update"
           },
           {
            "args": [
             {
              "marker.color": [
               [
                "#B0BEC5",
                "#B0BEC5",
                "#B0BEC5",
                "#B0BEC5",
                "#B0BEC5",
                "#B0BEC5",
                "#B0BEC5",
                "#B0BEC5",
                "#B0BEC5",
                "#B0BEC5",
                "#B0BEC5",
                "#B0BEC5",
                "#B0BEC5",
                "#B0BEC5",
                "#B0BEC5",
                "#B0BEC5",
                "#B0BEC5",
                "#B0BEC5",
                "#B0BEC5",
                "#B0BEC5",
                "#B0BEC5",
                "#B0BEC5",
                "#B0BEC5",
                "#B0BEC5",
                "#B0BEC5",
                "#B0BEC5",
                "#B0BEC5",
                "#B0BEC5",
                "red",
                "#B0BEC5",
                "#B0BEC5",
                "#B0BEC5",
                "#B0BEC5",
                "#B0BEC5",
                "#B0BEC5",
                "#B0BEC5",
                "#B0BEC5",
                "#B0BEC5",
                "#B0BEC5",
                "#B0BEC5",
                "#B0BEC5",
                "#B0BEC5",
                "#B0BEC5",
                "#B0BEC5",
                "#B0BEC5",
                "#B0BEC5",
                "#B0BEC5",
                "#B0BEC5",
                "#B0BEC5",
                "#B0BEC5",
                "#B0BEC5",
                "#B0BEC5",
                "#B0BEC5",
                "#B0BEC5",
                "#B0BEC5",
                "#B0BEC5",
                "#B0BEC5",
                "#B0BEC5"
               ]
              ]
             }
            ],
            "label": "Topic 28",
            "method": "update"
           },
           {
            "args": [
             {
              "marker.color": [
               [
                "#B0BEC5",
                "#B0BEC5",
                "#B0BEC5",
                "#B0BEC5",
                "#B0BEC5",
                "#B0BEC5",
                "#B0BEC5",
                "#B0BEC5",
                "#B0BEC5",
                "#B0BEC5",
                "#B0BEC5",
                "#B0BEC5",
                "#B0BEC5",
                "#B0BEC5",
                "#B0BEC5",
                "#B0BEC5",
                "#B0BEC5",
                "#B0BEC5",
                "#B0BEC5",
                "#B0BEC5",
                "#B0BEC5",
                "#B0BEC5",
                "#B0BEC5",
                "#B0BEC5",
                "#B0BEC5",
                "#B0BEC5",
                "#B0BEC5",
                "#B0BEC5",
                "#B0BEC5",
                "red",
                "#B0BEC5",
                "#B0BEC5",
                "#B0BEC5",
                "#B0BEC5",
                "#B0BEC5",
                "#B0BEC5",
                "#B0BEC5",
                "#B0BEC5",
                "#B0BEC5",
                "#B0BEC5",
                "#B0BEC5",
                "#B0BEC5",
                "#B0BEC5",
                "#B0BEC5",
                "#B0BEC5",
                "#B0BEC5",
                "#B0BEC5",
                "#B0BEC5",
                "#B0BEC5",
                "#B0BEC5",
                "#B0BEC5",
                "#B0BEC5",
                "#B0BEC5",
                "#B0BEC5",
                "#B0BEC5",
                "#B0BEC5",
                "#B0BEC5",
                "#B0BEC5"
               ]
              ]
             }
            ],
            "label": "Topic 29",
            "method": "update"
           },
           {
            "args": [
             {
              "marker.color": [
               [
                "#B0BEC5",
                "#B0BEC5",
                "#B0BEC5",
                "#B0BEC5",
                "#B0BEC5",
                "#B0BEC5",
                "#B0BEC5",
                "#B0BEC5",
                "#B0BEC5",
                "#B0BEC5",
                "#B0BEC5",
                "#B0BEC5",
                "#B0BEC5",
                "#B0BEC5",
                "#B0BEC5",
                "#B0BEC5",
                "#B0BEC5",
                "#B0BEC5",
                "#B0BEC5",
                "#B0BEC5",
                "#B0BEC5",
                "#B0BEC5",
                "#B0BEC5",
                "#B0BEC5",
                "#B0BEC5",
                "#B0BEC5",
                "#B0BEC5",
                "#B0BEC5",
                "#B0BEC5",
                "#B0BEC5",
                "red",
                "#B0BEC5",
                "#B0BEC5",
                "#B0BEC5",
                "#B0BEC5",
                "#B0BEC5",
                "#B0BEC5",
                "#B0BEC5",
                "#B0BEC5",
                "#B0BEC5",
                "#B0BEC5",
                "#B0BEC5",
                "#B0BEC5",
                "#B0BEC5",
                "#B0BEC5",
                "#B0BEC5",
                "#B0BEC5",
                "#B0BEC5",
                "#B0BEC5",
                "#B0BEC5",
                "#B0BEC5",
                "#B0BEC5",
                "#B0BEC5",
                "#B0BEC5",
                "#B0BEC5",
                "#B0BEC5",
                "#B0BEC5",
                "#B0BEC5"
               ]
              ]
             }
            ],
            "label": "Topic 30",
            "method": "update"
           },
           {
            "args": [
             {
              "marker.color": [
               [
                "#B0BEC5",
                "#B0BEC5",
                "#B0BEC5",
                "#B0BEC5",
                "#B0BEC5",
                "#B0BEC5",
                "#B0BEC5",
                "#B0BEC5",
                "#B0BEC5",
                "#B0BEC5",
                "#B0BEC5",
                "#B0BEC5",
                "#B0BEC5",
                "#B0BEC5",
                "#B0BEC5",
                "#B0BEC5",
                "#B0BEC5",
                "#B0BEC5",
                "#B0BEC5",
                "#B0BEC5",
                "#B0BEC5",
                "#B0BEC5",
                "#B0BEC5",
                "#B0BEC5",
                "#B0BEC5",
                "#B0BEC5",
                "#B0BEC5",
                "#B0BEC5",
                "#B0BEC5",
                "#B0BEC5",
                "#B0BEC5",
                "red",
                "#B0BEC5",
                "#B0BEC5",
                "#B0BEC5",
                "#B0BEC5",
                "#B0BEC5",
                "#B0BEC5",
                "#B0BEC5",
                "#B0BEC5",
                "#B0BEC5",
                "#B0BEC5",
                "#B0BEC5",
                "#B0BEC5",
                "#B0BEC5",
                "#B0BEC5",
                "#B0BEC5",
                "#B0BEC5",
                "#B0BEC5",
                "#B0BEC5",
                "#B0BEC5",
                "#B0BEC5",
                "#B0BEC5",
                "#B0BEC5",
                "#B0BEC5",
                "#B0BEC5",
                "#B0BEC5",
                "#B0BEC5"
               ]
              ]
             }
            ],
            "label": "Topic 31",
            "method": "update"
           },
           {
            "args": [
             {
              "marker.color": [
               [
                "#B0BEC5",
                "#B0BEC5",
                "#B0BEC5",
                "#B0BEC5",
                "#B0BEC5",
                "#B0BEC5",
                "#B0BEC5",
                "#B0BEC5",
                "#B0BEC5",
                "#B0BEC5",
                "#B0BEC5",
                "#B0BEC5",
                "#B0BEC5",
                "#B0BEC5",
                "#B0BEC5",
                "#B0BEC5",
                "#B0BEC5",
                "#B0BEC5",
                "#B0BEC5",
                "#B0BEC5",
                "#B0BEC5",
                "#B0BEC5",
                "#B0BEC5",
                "#B0BEC5",
                "#B0BEC5",
                "#B0BEC5",
                "#B0BEC5",
                "#B0BEC5",
                "#B0BEC5",
                "#B0BEC5",
                "#B0BEC5",
                "#B0BEC5",
                "red",
                "#B0BEC5",
                "#B0BEC5",
                "#B0BEC5",
                "#B0BEC5",
                "#B0BEC5",
                "#B0BEC5",
                "#B0BEC5",
                "#B0BEC5",
                "#B0BEC5",
                "#B0BEC5",
                "#B0BEC5",
                "#B0BEC5",
                "#B0BEC5",
                "#B0BEC5",
                "#B0BEC5",
                "#B0BEC5",
                "#B0BEC5",
                "#B0BEC5",
                "#B0BEC5",
                "#B0BEC5",
                "#B0BEC5",
                "#B0BEC5",
                "#B0BEC5",
                "#B0BEC5",
                "#B0BEC5"
               ]
              ]
             }
            ],
            "label": "Topic 32",
            "method": "update"
           },
           {
            "args": [
             {
              "marker.color": [
               [
                "#B0BEC5",
                "#B0BEC5",
                "#B0BEC5",
                "#B0BEC5",
                "#B0BEC5",
                "#B0BEC5",
                "#B0BEC5",
                "#B0BEC5",
                "#B0BEC5",
                "#B0BEC5",
                "#B0BEC5",
                "#B0BEC5",
                "#B0BEC5",
                "#B0BEC5",
                "#B0BEC5",
                "#B0BEC5",
                "#B0BEC5",
                "#B0BEC5",
                "#B0BEC5",
                "#B0BEC5",
                "#B0BEC5",
                "#B0BEC5",
                "#B0BEC5",
                "#B0BEC5",
                "#B0BEC5",
                "#B0BEC5",
                "#B0BEC5",
                "#B0BEC5",
                "#B0BEC5",
                "#B0BEC5",
                "#B0BEC5",
                "#B0BEC5",
                "#B0BEC5",
                "red",
                "#B0BEC5",
                "#B0BEC5",
                "#B0BEC5",
                "#B0BEC5",
                "#B0BEC5",
                "#B0BEC5",
                "#B0BEC5",
                "#B0BEC5",
                "#B0BEC5",
                "#B0BEC5",
                "#B0BEC5",
                "#B0BEC5",
                "#B0BEC5",
                "#B0BEC5",
                "#B0BEC5",
                "#B0BEC5",
                "#B0BEC5",
                "#B0BEC5",
                "#B0BEC5",
                "#B0BEC5",
                "#B0BEC5",
                "#B0BEC5",
                "#B0BEC5",
                "#B0BEC5"
               ]
              ]
             }
            ],
            "label": "Topic 33",
            "method": "update"
           },
           {
            "args": [
             {
              "marker.color": [
               [
                "#B0BEC5",
                "#B0BEC5",
                "#B0BEC5",
                "#B0BEC5",
                "#B0BEC5",
                "#B0BEC5",
                "#B0BEC5",
                "#B0BEC5",
                "#B0BEC5",
                "#B0BEC5",
                "#B0BEC5",
                "#B0BEC5",
                "#B0BEC5",
                "#B0BEC5",
                "#B0BEC5",
                "#B0BEC5",
                "#B0BEC5",
                "#B0BEC5",
                "#B0BEC5",
                "#B0BEC5",
                "#B0BEC5",
                "#B0BEC5",
                "#B0BEC5",
                "#B0BEC5",
                "#B0BEC5",
                "#B0BEC5",
                "#B0BEC5",
                "#B0BEC5",
                "#B0BEC5",
                "#B0BEC5",
                "#B0BEC5",
                "#B0BEC5",
                "#B0BEC5",
                "#B0BEC5",
                "red",
                "#B0BEC5",
                "#B0BEC5",
                "#B0BEC5",
                "#B0BEC5",
                "#B0BEC5",
                "#B0BEC5",
                "#B0BEC5",
                "#B0BEC5",
                "#B0BEC5",
                "#B0BEC5",
                "#B0BEC5",
                "#B0BEC5",
                "#B0BEC5",
                "#B0BEC5",
                "#B0BEC5",
                "#B0BEC5",
                "#B0BEC5",
                "#B0BEC5",
                "#B0BEC5",
                "#B0BEC5",
                "#B0BEC5",
                "#B0BEC5",
                "#B0BEC5"
               ]
              ]
             }
            ],
            "label": "Topic 34",
            "method": "update"
           },
           {
            "args": [
             {
              "marker.color": [
               [
                "#B0BEC5",
                "#B0BEC5",
                "#B0BEC5",
                "#B0BEC5",
                "#B0BEC5",
                "#B0BEC5",
                "#B0BEC5",
                "#B0BEC5",
                "#B0BEC5",
                "#B0BEC5",
                "#B0BEC5",
                "#B0BEC5",
                "#B0BEC5",
                "#B0BEC5",
                "#B0BEC5",
                "#B0BEC5",
                "#B0BEC5",
                "#B0BEC5",
                "#B0BEC5",
                "#B0BEC5",
                "#B0BEC5",
                "#B0BEC5",
                "#B0BEC5",
                "#B0BEC5",
                "#B0BEC5",
                "#B0BEC5",
                "#B0BEC5",
                "#B0BEC5",
                "#B0BEC5",
                "#B0BEC5",
                "#B0BEC5",
                "#B0BEC5",
                "#B0BEC5",
                "#B0BEC5",
                "#B0BEC5",
                "red",
                "#B0BEC5",
                "#B0BEC5",
                "#B0BEC5",
                "#B0BEC5",
                "#B0BEC5",
                "#B0BEC5",
                "#B0BEC5",
                "#B0BEC5",
                "#B0BEC5",
                "#B0BEC5",
                "#B0BEC5",
                "#B0BEC5",
                "#B0BEC5",
                "#B0BEC5",
                "#B0BEC5",
                "#B0BEC5",
                "#B0BEC5",
                "#B0BEC5",
                "#B0BEC5",
                "#B0BEC5",
                "#B0BEC5",
                "#B0BEC5"
               ]
              ]
             }
            ],
            "label": "Topic 35",
            "method": "update"
           },
           {
            "args": [
             {
              "marker.color": [
               [
                "#B0BEC5",
                "#B0BEC5",
                "#B0BEC5",
                "#B0BEC5",
                "#B0BEC5",
                "#B0BEC5",
                "#B0BEC5",
                "#B0BEC5",
                "#B0BEC5",
                "#B0BEC5",
                "#B0BEC5",
                "#B0BEC5",
                "#B0BEC5",
                "#B0BEC5",
                "#B0BEC5",
                "#B0BEC5",
                "#B0BEC5",
                "#B0BEC5",
                "#B0BEC5",
                "#B0BEC5",
                "#B0BEC5",
                "#B0BEC5",
                "#B0BEC5",
                "#B0BEC5",
                "#B0BEC5",
                "#B0BEC5",
                "#B0BEC5",
                "#B0BEC5",
                "#B0BEC5",
                "#B0BEC5",
                "#B0BEC5",
                "#B0BEC5",
                "#B0BEC5",
                "#B0BEC5",
                "#B0BEC5",
                "#B0BEC5",
                "red",
                "#B0BEC5",
                "#B0BEC5",
                "#B0BEC5",
                "#B0BEC5",
                "#B0BEC5",
                "#B0BEC5",
                "#B0BEC5",
                "#B0BEC5",
                "#B0BEC5",
                "#B0BEC5",
                "#B0BEC5",
                "#B0BEC5",
                "#B0BEC5",
                "#B0BEC5",
                "#B0BEC5",
                "#B0BEC5",
                "#B0BEC5",
                "#B0BEC5",
                "#B0BEC5",
                "#B0BEC5",
                "#B0BEC5"
               ]
              ]
             }
            ],
            "label": "Topic 36",
            "method": "update"
           },
           {
            "args": [
             {
              "marker.color": [
               [
                "#B0BEC5",
                "#B0BEC5",
                "#B0BEC5",
                "#B0BEC5",
                "#B0BEC5",
                "#B0BEC5",
                "#B0BEC5",
                "#B0BEC5",
                "#B0BEC5",
                "#B0BEC5",
                "#B0BEC5",
                "#B0BEC5",
                "#B0BEC5",
                "#B0BEC5",
                "#B0BEC5",
                "#B0BEC5",
                "#B0BEC5",
                "#B0BEC5",
                "#B0BEC5",
                "#B0BEC5",
                "#B0BEC5",
                "#B0BEC5",
                "#B0BEC5",
                "#B0BEC5",
                "#B0BEC5",
                "#B0BEC5",
                "#B0BEC5",
                "#B0BEC5",
                "#B0BEC5",
                "#B0BEC5",
                "#B0BEC5",
                "#B0BEC5",
                "#B0BEC5",
                "#B0BEC5",
                "#B0BEC5",
                "#B0BEC5",
                "#B0BEC5",
                "red",
                "#B0BEC5",
                "#B0BEC5",
                "#B0BEC5",
                "#B0BEC5",
                "#B0BEC5",
                "#B0BEC5",
                "#B0BEC5",
                "#B0BEC5",
                "#B0BEC5",
                "#B0BEC5",
                "#B0BEC5",
                "#B0BEC5",
                "#B0BEC5",
                "#B0BEC5",
                "#B0BEC5",
                "#B0BEC5",
                "#B0BEC5",
                "#B0BEC5",
                "#B0BEC5",
                "#B0BEC5"
               ]
              ]
             }
            ],
            "label": "Topic 37",
            "method": "update"
           },
           {
            "args": [
             {
              "marker.color": [
               [
                "#B0BEC5",
                "#B0BEC5",
                "#B0BEC5",
                "#B0BEC5",
                "#B0BEC5",
                "#B0BEC5",
                "#B0BEC5",
                "#B0BEC5",
                "#B0BEC5",
                "#B0BEC5",
                "#B0BEC5",
                "#B0BEC5",
                "#B0BEC5",
                "#B0BEC5",
                "#B0BEC5",
                "#B0BEC5",
                "#B0BEC5",
                "#B0BEC5",
                "#B0BEC5",
                "#B0BEC5",
                "#B0BEC5",
                "#B0BEC5",
                "#B0BEC5",
                "#B0BEC5",
                "#B0BEC5",
                "#B0BEC5",
                "#B0BEC5",
                "#B0BEC5",
                "#B0BEC5",
                "#B0BEC5",
                "#B0BEC5",
                "#B0BEC5",
                "#B0BEC5",
                "#B0BEC5",
                "#B0BEC5",
                "#B0BEC5",
                "#B0BEC5",
                "#B0BEC5",
                "red",
                "#B0BEC5",
                "#B0BEC5",
                "#B0BEC5",
                "#B0BEC5",
                "#B0BEC5",
                "#B0BEC5",
                "#B0BEC5",
                "#B0BEC5",
                "#B0BEC5",
                "#B0BEC5",
                "#B0BEC5",
                "#B0BEC5",
                "#B0BEC5",
                "#B0BEC5",
                "#B0BEC5",
                "#B0BEC5",
                "#B0BEC5",
                "#B0BEC5",
                "#B0BEC5"
               ]
              ]
             }
            ],
            "label": "Topic 38",
            "method": "update"
           },
           {
            "args": [
             {
              "marker.color": [
               [
                "#B0BEC5",
                "#B0BEC5",
                "#B0BEC5",
                "#B0BEC5",
                "#B0BEC5",
                "#B0BEC5",
                "#B0BEC5",
                "#B0BEC5",
                "#B0BEC5",
                "#B0BEC5",
                "#B0BEC5",
                "#B0BEC5",
                "#B0BEC5",
                "#B0BEC5",
                "#B0BEC5",
                "#B0BEC5",
                "#B0BEC5",
                "#B0BEC5",
                "#B0BEC5",
                "#B0BEC5",
                "#B0BEC5",
                "#B0BEC5",
                "#B0BEC5",
                "#B0BEC5",
                "#B0BEC5",
                "#B0BEC5",
                "#B0BEC5",
                "#B0BEC5",
                "#B0BEC5",
                "#B0BEC5",
                "#B0BEC5",
                "#B0BEC5",
                "#B0BEC5",
                "#B0BEC5",
                "#B0BEC5",
                "#B0BEC5",
                "#B0BEC5",
                "#B0BEC5",
                "#B0BEC5",
                "red",
                "#B0BEC5",
                "#B0BEC5",
                "#B0BEC5",
                "#B0BEC5",
                "#B0BEC5",
                "#B0BEC5",
                "#B0BEC5",
                "#B0BEC5",
                "#B0BEC5",
                "#B0BEC5",
                "#B0BEC5",
                "#B0BEC5",
                "#B0BEC5",
                "#B0BEC5",
                "#B0BEC5",
                "#B0BEC5",
                "#B0BEC5",
                "#B0BEC5"
               ]
              ]
             }
            ],
            "label": "Topic 39",
            "method": "update"
           },
           {
            "args": [
             {
              "marker.color": [
               [
                "#B0BEC5",
                "#B0BEC5",
                "#B0BEC5",
                "#B0BEC5",
                "#B0BEC5",
                "#B0BEC5",
                "#B0BEC5",
                "#B0BEC5",
                "#B0BEC5",
                "#B0BEC5",
                "#B0BEC5",
                "#B0BEC5",
                "#B0BEC5",
                "#B0BEC5",
                "#B0BEC5",
                "#B0BEC5",
                "#B0BEC5",
                "#B0BEC5",
                "#B0BEC5",
                "#B0BEC5",
                "#B0BEC5",
                "#B0BEC5",
                "#B0BEC5",
                "#B0BEC5",
                "#B0BEC5",
                "#B0BEC5",
                "#B0BEC5",
                "#B0BEC5",
                "#B0BEC5",
                "#B0BEC5",
                "#B0BEC5",
                "#B0BEC5",
                "#B0BEC5",
                "#B0BEC5",
                "#B0BEC5",
                "#B0BEC5",
                "#B0BEC5",
                "#B0BEC5",
                "#B0BEC5",
                "#B0BEC5",
                "red",
                "#B0BEC5",
                "#B0BEC5",
                "#B0BEC5",
                "#B0BEC5",
                "#B0BEC5",
                "#B0BEC5",
                "#B0BEC5",
                "#B0BEC5",
                "#B0BEC5",
                "#B0BEC5",
                "#B0BEC5",
                "#B0BEC5",
                "#B0BEC5",
                "#B0BEC5",
                "#B0BEC5",
                "#B0BEC5",
                "#B0BEC5"
               ]
              ]
             }
            ],
            "label": "Topic 40",
            "method": "update"
           },
           {
            "args": [
             {
              "marker.color": [
               [
                "#B0BEC5",
                "#B0BEC5",
                "#B0BEC5",
                "#B0BEC5",
                "#B0BEC5",
                "#B0BEC5",
                "#B0BEC5",
                "#B0BEC5",
                "#B0BEC5",
                "#B0BEC5",
                "#B0BEC5",
                "#B0BEC5",
                "#B0BEC5",
                "#B0BEC5",
                "#B0BEC5",
                "#B0BEC5",
                "#B0BEC5",
                "#B0BEC5",
                "#B0BEC5",
                "#B0BEC5",
                "#B0BEC5",
                "#B0BEC5",
                "#B0BEC5",
                "#B0BEC5",
                "#B0BEC5",
                "#B0BEC5",
                "#B0BEC5",
                "#B0BEC5",
                "#B0BEC5",
                "#B0BEC5",
                "#B0BEC5",
                "#B0BEC5",
                "#B0BEC5",
                "#B0BEC5",
                "#B0BEC5",
                "#B0BEC5",
                "#B0BEC5",
                "#B0BEC5",
                "#B0BEC5",
                "#B0BEC5",
                "#B0BEC5",
                "red",
                "#B0BEC5",
                "#B0BEC5",
                "#B0BEC5",
                "#B0BEC5",
                "#B0BEC5",
                "#B0BEC5",
                "#B0BEC5",
                "#B0BEC5",
                "#B0BEC5",
                "#B0BEC5",
                "#B0BEC5",
                "#B0BEC5",
                "#B0BEC5",
                "#B0BEC5",
                "#B0BEC5",
                "#B0BEC5"
               ]
              ]
             }
            ],
            "label": "Topic 41",
            "method": "update"
           },
           {
            "args": [
             {
              "marker.color": [
               [
                "#B0BEC5",
                "#B0BEC5",
                "#B0BEC5",
                "#B0BEC5",
                "#B0BEC5",
                "#B0BEC5",
                "#B0BEC5",
                "#B0BEC5",
                "#B0BEC5",
                "#B0BEC5",
                "#B0BEC5",
                "#B0BEC5",
                "#B0BEC5",
                "#B0BEC5",
                "#B0BEC5",
                "#B0BEC5",
                "#B0BEC5",
                "#B0BEC5",
                "#B0BEC5",
                "#B0BEC5",
                "#B0BEC5",
                "#B0BEC5",
                "#B0BEC5",
                "#B0BEC5",
                "#B0BEC5",
                "#B0BEC5",
                "#B0BEC5",
                "#B0BEC5",
                "#B0BEC5",
                "#B0BEC5",
                "#B0BEC5",
                "#B0BEC5",
                "#B0BEC5",
                "#B0BEC5",
                "#B0BEC5",
                "#B0BEC5",
                "#B0BEC5",
                "#B0BEC5",
                "#B0BEC5",
                "#B0BEC5",
                "#B0BEC5",
                "#B0BEC5",
                "red",
                "#B0BEC5",
                "#B0BEC5",
                "#B0BEC5",
                "#B0BEC5",
                "#B0BEC5",
                "#B0BEC5",
                "#B0BEC5",
                "#B0BEC5",
                "#B0BEC5",
                "#B0BEC5",
                "#B0BEC5",
                "#B0BEC5",
                "#B0BEC5",
                "#B0BEC5",
                "#B0BEC5"
               ]
              ]
             }
            ],
            "label": "Topic 42",
            "method": "update"
           },
           {
            "args": [
             {
              "marker.color": [
               [
                "#B0BEC5",
                "#B0BEC5",
                "#B0BEC5",
                "#B0BEC5",
                "#B0BEC5",
                "#B0BEC5",
                "#B0BEC5",
                "#B0BEC5",
                "#B0BEC5",
                "#B0BEC5",
                "#B0BEC5",
                "#B0BEC5",
                "#B0BEC5",
                "#B0BEC5",
                "#B0BEC5",
                "#B0BEC5",
                "#B0BEC5",
                "#B0BEC5",
                "#B0BEC5",
                "#B0BEC5",
                "#B0BEC5",
                "#B0BEC5",
                "#B0BEC5",
                "#B0BEC5",
                "#B0BEC5",
                "#B0BEC5",
                "#B0BEC5",
                "#B0BEC5",
                "#B0BEC5",
                "#B0BEC5",
                "#B0BEC5",
                "#B0BEC5",
                "#B0BEC5",
                "#B0BEC5",
                "#B0BEC5",
                "#B0BEC5",
                "#B0BEC5",
                "#B0BEC5",
                "#B0BEC5",
                "#B0BEC5",
                "#B0BEC5",
                "#B0BEC5",
                "#B0BEC5",
                "red",
                "#B0BEC5",
                "#B0BEC5",
                "#B0BEC5",
                "#B0BEC5",
                "#B0BEC5",
                "#B0BEC5",
                "#B0BEC5",
                "#B0BEC5",
                "#B0BEC5",
                "#B0BEC5",
                "#B0BEC5",
                "#B0BEC5",
                "#B0BEC5",
                "#B0BEC5"
               ]
              ]
             }
            ],
            "label": "Topic 43",
            "method": "update"
           },
           {
            "args": [
             {
              "marker.color": [
               [
                "#B0BEC5",
                "#B0BEC5",
                "#B0BEC5",
                "#B0BEC5",
                "#B0BEC5",
                "#B0BEC5",
                "#B0BEC5",
                "#B0BEC5",
                "#B0BEC5",
                "#B0BEC5",
                "#B0BEC5",
                "#B0BEC5",
                "#B0BEC5",
                "#B0BEC5",
                "#B0BEC5",
                "#B0BEC5",
                "#B0BEC5",
                "#B0BEC5",
                "#B0BEC5",
                "#B0BEC5",
                "#B0BEC5",
                "#B0BEC5",
                "#B0BEC5",
                "#B0BEC5",
                "#B0BEC5",
                "#B0BEC5",
                "#B0BEC5",
                "#B0BEC5",
                "#B0BEC5",
                "#B0BEC5",
                "#B0BEC5",
                "#B0BEC5",
                "#B0BEC5",
                "#B0BEC5",
                "#B0BEC5",
                "#B0BEC5",
                "#B0BEC5",
                "#B0BEC5",
                "#B0BEC5",
                "#B0BEC5",
                "#B0BEC5",
                "#B0BEC5",
                "#B0BEC5",
                "#B0BEC5",
                "red",
                "#B0BEC5",
                "#B0BEC5",
                "#B0BEC5",
                "#B0BEC5",
                "#B0BEC5",
                "#B0BEC5",
                "#B0BEC5",
                "#B0BEC5",
                "#B0BEC5",
                "#B0BEC5",
                "#B0BEC5",
                "#B0BEC5",
                "#B0BEC5"
               ]
              ]
             }
            ],
            "label": "Topic 44",
            "method": "update"
           },
           {
            "args": [
             {
              "marker.color": [
               [
                "#B0BEC5",
                "#B0BEC5",
                "#B0BEC5",
                "#B0BEC5",
                "#B0BEC5",
                "#B0BEC5",
                "#B0BEC5",
                "#B0BEC5",
                "#B0BEC5",
                "#B0BEC5",
                "#B0BEC5",
                "#B0BEC5",
                "#B0BEC5",
                "#B0BEC5",
                "#B0BEC5",
                "#B0BEC5",
                "#B0BEC5",
                "#B0BEC5",
                "#B0BEC5",
                "#B0BEC5",
                "#B0BEC5",
                "#B0BEC5",
                "#B0BEC5",
                "#B0BEC5",
                "#B0BEC5",
                "#B0BEC5",
                "#B0BEC5",
                "#B0BEC5",
                "#B0BEC5",
                "#B0BEC5",
                "#B0BEC5",
                "#B0BEC5",
                "#B0BEC5",
                "#B0BEC5",
                "#B0BEC5",
                "#B0BEC5",
                "#B0BEC5",
                "#B0BEC5",
                "#B0BEC5",
                "#B0BEC5",
                "#B0BEC5",
                "#B0BEC5",
                "#B0BEC5",
                "#B0BEC5",
                "#B0BEC5",
                "red",
                "#B0BEC5",
                "#B0BEC5",
                "#B0BEC5",
                "#B0BEC5",
                "#B0BEC5",
                "#B0BEC5",
                "#B0BEC5",
                "#B0BEC5",
                "#B0BEC5",
                "#B0BEC5",
                "#B0BEC5",
                "#B0BEC5"
               ]
              ]
             }
            ],
            "label": "Topic 45",
            "method": "update"
           },
           {
            "args": [
             {
              "marker.color": [
               [
                "#B0BEC5",
                "#B0BEC5",
                "#B0BEC5",
                "#B0BEC5",
                "#B0BEC5",
                "#B0BEC5",
                "#B0BEC5",
                "#B0BEC5",
                "#B0BEC5",
                "#B0BEC5",
                "#B0BEC5",
                "#B0BEC5",
                "#B0BEC5",
                "#B0BEC5",
                "#B0BEC5",
                "#B0BEC5",
                "#B0BEC5",
                "#B0BEC5",
                "#B0BEC5",
                "#B0BEC5",
                "#B0BEC5",
                "#B0BEC5",
                "#B0BEC5",
                "#B0BEC5",
                "#B0BEC5",
                "#B0BEC5",
                "#B0BEC5",
                "#B0BEC5",
                "#B0BEC5",
                "#B0BEC5",
                "#B0BEC5",
                "#B0BEC5",
                "#B0BEC5",
                "#B0BEC5",
                "#B0BEC5",
                "#B0BEC5",
                "#B0BEC5",
                "#B0BEC5",
                "#B0BEC5",
                "#B0BEC5",
                "#B0BEC5",
                "#B0BEC5",
                "#B0BEC5",
                "#B0BEC5",
                "#B0BEC5",
                "#B0BEC5",
                "red",
                "#B0BEC5",
                "#B0BEC5",
                "#B0BEC5",
                "#B0BEC5",
                "#B0BEC5",
                "#B0BEC5",
                "#B0BEC5",
                "#B0BEC5",
                "#B0BEC5",
                "#B0BEC5",
                "#B0BEC5"
               ]
              ]
             }
            ],
            "label": "Topic 46",
            "method": "update"
           },
           {
            "args": [
             {
              "marker.color": [
               [
                "#B0BEC5",
                "#B0BEC5",
                "#B0BEC5",
                "#B0BEC5",
                "#B0BEC5",
                "#B0BEC5",
                "#B0BEC5",
                "#B0BEC5",
                "#B0BEC5",
                "#B0BEC5",
                "#B0BEC5",
                "#B0BEC5",
                "#B0BEC5",
                "#B0BEC5",
                "#B0BEC5",
                "#B0BEC5",
                "#B0BEC5",
                "#B0BEC5",
                "#B0BEC5",
                "#B0BEC5",
                "#B0BEC5",
                "#B0BEC5",
                "#B0BEC5",
                "#B0BEC5",
                "#B0BEC5",
                "#B0BEC5",
                "#B0BEC5",
                "#B0BEC5",
                "#B0BEC5",
                "#B0BEC5",
                "#B0BEC5",
                "#B0BEC5",
                "#B0BEC5",
                "#B0BEC5",
                "#B0BEC5",
                "#B0BEC5",
                "#B0BEC5",
                "#B0BEC5",
                "#B0BEC5",
                "#B0BEC5",
                "#B0BEC5",
                "#B0BEC5",
                "#B0BEC5",
                "#B0BEC5",
                "#B0BEC5",
                "#B0BEC5",
                "#B0BEC5",
                "red",
                "#B0BEC5",
                "#B0BEC5",
                "#B0BEC5",
                "#B0BEC5",
                "#B0BEC5",
                "#B0BEC5",
                "#B0BEC5",
                "#B0BEC5",
                "#B0BEC5",
                "#B0BEC5"
               ]
              ]
             }
            ],
            "label": "Topic 47",
            "method": "update"
           },
           {
            "args": [
             {
              "marker.color": [
               [
                "#B0BEC5",
                "#B0BEC5",
                "#B0BEC5",
                "#B0BEC5",
                "#B0BEC5",
                "#B0BEC5",
                "#B0BEC5",
                "#B0BEC5",
                "#B0BEC5",
                "#B0BEC5",
                "#B0BEC5",
                "#B0BEC5",
                "#B0BEC5",
                "#B0BEC5",
                "#B0BEC5",
                "#B0BEC5",
                "#B0BEC5",
                "#B0BEC5",
                "#B0BEC5",
                "#B0BEC5",
                "#B0BEC5",
                "#B0BEC5",
                "#B0BEC5",
                "#B0BEC5",
                "#B0BEC5",
                "#B0BEC5",
                "#B0BEC5",
                "#B0BEC5",
                "#B0BEC5",
                "#B0BEC5",
                "#B0BEC5",
                "#B0BEC5",
                "#B0BEC5",
                "#B0BEC5",
                "#B0BEC5",
                "#B0BEC5",
                "#B0BEC5",
                "#B0BEC5",
                "#B0BEC5",
                "#B0BEC5",
                "#B0BEC5",
                "#B0BEC5",
                "#B0BEC5",
                "#B0BEC5",
                "#B0BEC5",
                "#B0BEC5",
                "#B0BEC5",
                "#B0BEC5",
                "red",
                "#B0BEC5",
                "#B0BEC5",
                "#B0BEC5",
                "#B0BEC5",
                "#B0BEC5",
                "#B0BEC5",
                "#B0BEC5",
                "#B0BEC5",
                "#B0BEC5"
               ]
              ]
             }
            ],
            "label": "Topic 48",
            "method": "update"
           },
           {
            "args": [
             {
              "marker.color": [
               [
                "#B0BEC5",
                "#B0BEC5",
                "#B0BEC5",
                "#B0BEC5",
                "#B0BEC5",
                "#B0BEC5",
                "#B0BEC5",
                "#B0BEC5",
                "#B0BEC5",
                "#B0BEC5",
                "#B0BEC5",
                "#B0BEC5",
                "#B0BEC5",
                "#B0BEC5",
                "#B0BEC5",
                "#B0BEC5",
                "#B0BEC5",
                "#B0BEC5",
                "#B0BEC5",
                "#B0BEC5",
                "#B0BEC5",
                "#B0BEC5",
                "#B0BEC5",
                "#B0BEC5",
                "#B0BEC5",
                "#B0BEC5",
                "#B0BEC5",
                "#B0BEC5",
                "#B0BEC5",
                "#B0BEC5",
                "#B0BEC5",
                "#B0BEC5",
                "#B0BEC5",
                "#B0BEC5",
                "#B0BEC5",
                "#B0BEC5",
                "#B0BEC5",
                "#B0BEC5",
                "#B0BEC5",
                "#B0BEC5",
                "#B0BEC5",
                "#B0BEC5",
                "#B0BEC5",
                "#B0BEC5",
                "#B0BEC5",
                "#B0BEC5",
                "#B0BEC5",
                "#B0BEC5",
                "#B0BEC5",
                "red",
                "#B0BEC5",
                "#B0BEC5",
                "#B0BEC5",
                "#B0BEC5",
                "#B0BEC5",
                "#B0BEC5",
                "#B0BEC5",
                "#B0BEC5"
               ]
              ]
             }
            ],
            "label": "Topic 49",
            "method": "update"
           },
           {
            "args": [
             {
              "marker.color": [
               [
                "#B0BEC5",
                "#B0BEC5",
                "#B0BEC5",
                "#B0BEC5",
                "#B0BEC5",
                "#B0BEC5",
                "#B0BEC5",
                "#B0BEC5",
                "#B0BEC5",
                "#B0BEC5",
                "#B0BEC5",
                "#B0BEC5",
                "#B0BEC5",
                "#B0BEC5",
                "#B0BEC5",
                "#B0BEC5",
                "#B0BEC5",
                "#B0BEC5",
                "#B0BEC5",
                "#B0BEC5",
                "#B0BEC5",
                "#B0BEC5",
                "#B0BEC5",
                "#B0BEC5",
                "#B0BEC5",
                "#B0BEC5",
                "#B0BEC5",
                "#B0BEC5",
                "#B0BEC5",
                "#B0BEC5",
                "#B0BEC5",
                "#B0BEC5",
                "#B0BEC5",
                "#B0BEC5",
                "#B0BEC5",
                "#B0BEC5",
                "#B0BEC5",
                "#B0BEC5",
                "#B0BEC5",
                "#B0BEC5",
                "#B0BEC5",
                "#B0BEC5",
                "#B0BEC5",
                "#B0BEC5",
                "#B0BEC5",
                "#B0BEC5",
                "#B0BEC5",
                "#B0BEC5",
                "#B0BEC5",
                "#B0BEC5",
                "red",
                "#B0BEC5",
                "#B0BEC5",
                "#B0BEC5",
                "#B0BEC5",
                "#B0BEC5",
                "#B0BEC5",
                "#B0BEC5"
               ]
              ]
             }
            ],
            "label": "Topic 50",
            "method": "update"
           },
           {
            "args": [
             {
              "marker.color": [
               [
                "#B0BEC5",
                "#B0BEC5",
                "#B0BEC5",
                "#B0BEC5",
                "#B0BEC5",
                "#B0BEC5",
                "#B0BEC5",
                "#B0BEC5",
                "#B0BEC5",
                "#B0BEC5",
                "#B0BEC5",
                "#B0BEC5",
                "#B0BEC5",
                "#B0BEC5",
                "#B0BEC5",
                "#B0BEC5",
                "#B0BEC5",
                "#B0BEC5",
                "#B0BEC5",
                "#B0BEC5",
                "#B0BEC5",
                "#B0BEC5",
                "#B0BEC5",
                "#B0BEC5",
                "#B0BEC5",
                "#B0BEC5",
                "#B0BEC5",
                "#B0BEC5",
                "#B0BEC5",
                "#B0BEC5",
                "#B0BEC5",
                "#B0BEC5",
                "#B0BEC5",
                "#B0BEC5",
                "#B0BEC5",
                "#B0BEC5",
                "#B0BEC5",
                "#B0BEC5",
                "#B0BEC5",
                "#B0BEC5",
                "#B0BEC5",
                "#B0BEC5",
                "#B0BEC5",
                "#B0BEC5",
                "#B0BEC5",
                "#B0BEC5",
                "#B0BEC5",
                "#B0BEC5",
                "#B0BEC5",
                "#B0BEC5",
                "#B0BEC5",
                "red",
                "#B0BEC5",
                "#B0BEC5",
                "#B0BEC5",
                "#B0BEC5",
                "#B0BEC5",
                "#B0BEC5"
               ]
              ]
             }
            ],
            "label": "Topic 51",
            "method": "update"
           },
           {
            "args": [
             {
              "marker.color": [
               [
                "#B0BEC5",
                "#B0BEC5",
                "#B0BEC5",
                "#B0BEC5",
                "#B0BEC5",
                "#B0BEC5",
                "#B0BEC5",
                "#B0BEC5",
                "#B0BEC5",
                "#B0BEC5",
                "#B0BEC5",
                "#B0BEC5",
                "#B0BEC5",
                "#B0BEC5",
                "#B0BEC5",
                "#B0BEC5",
                "#B0BEC5",
                "#B0BEC5",
                "#B0BEC5",
                "#B0BEC5",
                "#B0BEC5",
                "#B0BEC5",
                "#B0BEC5",
                "#B0BEC5",
                "#B0BEC5",
                "#B0BEC5",
                "#B0BEC5",
                "#B0BEC5",
                "#B0BEC5",
                "#B0BEC5",
                "#B0BEC5",
                "#B0BEC5",
                "#B0BEC5",
                "#B0BEC5",
                "#B0BEC5",
                "#B0BEC5",
                "#B0BEC5",
                "#B0BEC5",
                "#B0BEC5",
                "#B0BEC5",
                "#B0BEC5",
                "#B0BEC5",
                "#B0BEC5",
                "#B0BEC5",
                "#B0BEC5",
                "#B0BEC5",
                "#B0BEC5",
                "#B0BEC5",
                "#B0BEC5",
                "#B0BEC5",
                "#B0BEC5",
                "#B0BEC5",
                "red",
                "#B0BEC5",
                "#B0BEC5",
                "#B0BEC5",
                "#B0BEC5",
                "#B0BEC5"
               ]
              ]
             }
            ],
            "label": "Topic 52",
            "method": "update"
           },
           {
            "args": [
             {
              "marker.color": [
               [
                "#B0BEC5",
                "#B0BEC5",
                "#B0BEC5",
                "#B0BEC5",
                "#B0BEC5",
                "#B0BEC5",
                "#B0BEC5",
                "#B0BEC5",
                "#B0BEC5",
                "#B0BEC5",
                "#B0BEC5",
                "#B0BEC5",
                "#B0BEC5",
                "#B0BEC5",
                "#B0BEC5",
                "#B0BEC5",
                "#B0BEC5",
                "#B0BEC5",
                "#B0BEC5",
                "#B0BEC5",
                "#B0BEC5",
                "#B0BEC5",
                "#B0BEC5",
                "#B0BEC5",
                "#B0BEC5",
                "#B0BEC5",
                "#B0BEC5",
                "#B0BEC5",
                "#B0BEC5",
                "#B0BEC5",
                "#B0BEC5",
                "#B0BEC5",
                "#B0BEC5",
                "#B0BEC5",
                "#B0BEC5",
                "#B0BEC5",
                "#B0BEC5",
                "#B0BEC5",
                "#B0BEC5",
                "#B0BEC5",
                "#B0BEC5",
                "#B0BEC5",
                "#B0BEC5",
                "#B0BEC5",
                "#B0BEC5",
                "#B0BEC5",
                "#B0BEC5",
                "#B0BEC5",
                "#B0BEC5",
                "#B0BEC5",
                "#B0BEC5",
                "#B0BEC5",
                "#B0BEC5",
                "red",
                "#B0BEC5",
                "#B0BEC5",
                "#B0BEC5",
                "#B0BEC5"
               ]
              ]
             }
            ],
            "label": "Topic 53",
            "method": "update"
           },
           {
            "args": [
             {
              "marker.color": [
               [
                "#B0BEC5",
                "#B0BEC5",
                "#B0BEC5",
                "#B0BEC5",
                "#B0BEC5",
                "#B0BEC5",
                "#B0BEC5",
                "#B0BEC5",
                "#B0BEC5",
                "#B0BEC5",
                "#B0BEC5",
                "#B0BEC5",
                "#B0BEC5",
                "#B0BEC5",
                "#B0BEC5",
                "#B0BEC5",
                "#B0BEC5",
                "#B0BEC5",
                "#B0BEC5",
                "#B0BEC5",
                "#B0BEC5",
                "#B0BEC5",
                "#B0BEC5",
                "#B0BEC5",
                "#B0BEC5",
                "#B0BEC5",
                "#B0BEC5",
                "#B0BEC5",
                "#B0BEC5",
                "#B0BEC5",
                "#B0BEC5",
                "#B0BEC5",
                "#B0BEC5",
                "#B0BEC5",
                "#B0BEC5",
                "#B0BEC5",
                "#B0BEC5",
                "#B0BEC5",
                "#B0BEC5",
                "#B0BEC5",
                "#B0BEC5",
                "#B0BEC5",
                "#B0BEC5",
                "#B0BEC5",
                "#B0BEC5",
                "#B0BEC5",
                "#B0BEC5",
                "#B0BEC5",
                "#B0BEC5",
                "#B0BEC5",
                "#B0BEC5",
                "#B0BEC5",
                "#B0BEC5",
                "#B0BEC5",
                "red",
                "#B0BEC5",
                "#B0BEC5",
                "#B0BEC5"
               ]
              ]
             }
            ],
            "label": "Topic 54",
            "method": "update"
           },
           {
            "args": [
             {
              "marker.color": [
               [
                "#B0BEC5",
                "#B0BEC5",
                "#B0BEC5",
                "#B0BEC5",
                "#B0BEC5",
                "#B0BEC5",
                "#B0BEC5",
                "#B0BEC5",
                "#B0BEC5",
                "#B0BEC5",
                "#B0BEC5",
                "#B0BEC5",
                "#B0BEC5",
                "#B0BEC5",
                "#B0BEC5",
                "#B0BEC5",
                "#B0BEC5",
                "#B0BEC5",
                "#B0BEC5",
                "#B0BEC5",
                "#B0BEC5",
                "#B0BEC5",
                "#B0BEC5",
                "#B0BEC5",
                "#B0BEC5",
                "#B0BEC5",
                "#B0BEC5",
                "#B0BEC5",
                "#B0BEC5",
                "#B0BEC5",
                "#B0BEC5",
                "#B0BEC5",
                "#B0BEC5",
                "#B0BEC5",
                "#B0BEC5",
                "#B0BEC5",
                "#B0BEC5",
                "#B0BEC5",
                "#B0BEC5",
                "#B0BEC5",
                "#B0BEC5",
                "#B0BEC5",
                "#B0BEC5",
                "#B0BEC5",
                "#B0BEC5",
                "#B0BEC5",
                "#B0BEC5",
                "#B0BEC5",
                "#B0BEC5",
                "#B0BEC5",
                "#B0BEC5",
                "#B0BEC5",
                "#B0BEC5",
                "#B0BEC5",
                "#B0BEC5",
                "red",
                "#B0BEC5",
                "#B0BEC5"
               ]
              ]
             }
            ],
            "label": "Topic 55",
            "method": "update"
           },
           {
            "args": [
             {
              "marker.color": [
               [
                "#B0BEC5",
                "#B0BEC5",
                "#B0BEC5",
                "#B0BEC5",
                "#B0BEC5",
                "#B0BEC5",
                "#B0BEC5",
                "#B0BEC5",
                "#B0BEC5",
                "#B0BEC5",
                "#B0BEC5",
                "#B0BEC5",
                "#B0BEC5",
                "#B0BEC5",
                "#B0BEC5",
                "#B0BEC5",
                "#B0BEC5",
                "#B0BEC5",
                "#B0BEC5",
                "#B0BEC5",
                "#B0BEC5",
                "#B0BEC5",
                "#B0BEC5",
                "#B0BEC5",
                "#B0BEC5",
                "#B0BEC5",
                "#B0BEC5",
                "#B0BEC5",
                "#B0BEC5",
                "#B0BEC5",
                "#B0BEC5",
                "#B0BEC5",
                "#B0BEC5",
                "#B0BEC5",
                "#B0BEC5",
                "#B0BEC5",
                "#B0BEC5",
                "#B0BEC5",
                "#B0BEC5",
                "#B0BEC5",
                "#B0BEC5",
                "#B0BEC5",
                "#B0BEC5",
                "#B0BEC5",
                "#B0BEC5",
                "#B0BEC5",
                "#B0BEC5",
                "#B0BEC5",
                "#B0BEC5",
                "#B0BEC5",
                "#B0BEC5",
                "#B0BEC5",
                "#B0BEC5",
                "#B0BEC5",
                "#B0BEC5",
                "#B0BEC5",
                "red",
                "#B0BEC5"
               ]
              ]
             }
            ],
            "label": "Topic 56",
            "method": "update"
           },
           {
            "args": [
             {
              "marker.color": [
               [
                "#B0BEC5",
                "#B0BEC5",
                "#B0BEC5",
                "#B0BEC5",
                "#B0BEC5",
                "#B0BEC5",
                "#B0BEC5",
                "#B0BEC5",
                "#B0BEC5",
                "#B0BEC5",
                "#B0BEC5",
                "#B0BEC5",
                "#B0BEC5",
                "#B0BEC5",
                "#B0BEC5",
                "#B0BEC5",
                "#B0BEC5",
                "#B0BEC5",
                "#B0BEC5",
                "#B0BEC5",
                "#B0BEC5",
                "#B0BEC5",
                "#B0BEC5",
                "#B0BEC5",
                "#B0BEC5",
                "#B0BEC5",
                "#B0BEC5",
                "#B0BEC5",
                "#B0BEC5",
                "#B0BEC5",
                "#B0BEC5",
                "#B0BEC5",
                "#B0BEC5",
                "#B0BEC5",
                "#B0BEC5",
                "#B0BEC5",
                "#B0BEC5",
                "#B0BEC5",
                "#B0BEC5",
                "#B0BEC5",
                "#B0BEC5",
                "#B0BEC5",
                "#B0BEC5",
                "#B0BEC5",
                "#B0BEC5",
                "#B0BEC5",
                "#B0BEC5",
                "#B0BEC5",
                "#B0BEC5",
                "#B0BEC5",
                "#B0BEC5",
                "#B0BEC5",
                "#B0BEC5",
                "#B0BEC5",
                "#B0BEC5",
                "#B0BEC5",
                "#B0BEC5",
                "red"
               ]
              ]
             }
            ],
            "label": "Topic 57",
            "method": "update"
           }
          ]
         }
        ],
        "template": {
         "data": {
          "bar": [
           {
            "error_x": {
             "color": "rgb(36,36,36)"
            },
            "error_y": {
             "color": "rgb(36,36,36)"
            },
            "marker": {
             "line": {
              "color": "white",
              "width": 0.5
             },
             "pattern": {
              "fillmode": "overlay",
              "size": 10,
              "solidity": 0.2
             }
            },
            "type": "bar"
           }
          ],
          "barpolar": [
           {
            "marker": {
             "line": {
              "color": "white",
              "width": 0.5
             },
             "pattern": {
              "fillmode": "overlay",
              "size": 10,
              "solidity": 0.2
             }
            },
            "type": "barpolar"
           }
          ],
          "carpet": [
           {
            "aaxis": {
             "endlinecolor": "rgb(36,36,36)",
             "gridcolor": "white",
             "linecolor": "white",
             "minorgridcolor": "white",
             "startlinecolor": "rgb(36,36,36)"
            },
            "baxis": {
             "endlinecolor": "rgb(36,36,36)",
             "gridcolor": "white",
             "linecolor": "white",
             "minorgridcolor": "white",
             "startlinecolor": "rgb(36,36,36)"
            },
            "type": "carpet"
           }
          ],
          "choropleth": [
           {
            "colorbar": {
             "outlinewidth": 1,
             "tickcolor": "rgb(36,36,36)",
             "ticks": "outside"
            },
            "type": "choropleth"
           }
          ],
          "contour": [
           {
            "colorbar": {
             "outlinewidth": 1,
             "tickcolor": "rgb(36,36,36)",
             "ticks": "outside"
            },
            "colorscale": [
             [
              0,
              "#440154"
             ],
             [
              0.1111111111111111,
              "#482878"
             ],
             [
              0.2222222222222222,
              "#3e4989"
             ],
             [
              0.3333333333333333,
              "#31688e"
             ],
             [
              0.4444444444444444,
              "#26828e"
             ],
             [
              0.5555555555555556,
              "#1f9e89"
             ],
             [
              0.6666666666666666,
              "#35b779"
             ],
             [
              0.7777777777777778,
              "#6ece58"
             ],
             [
              0.8888888888888888,
              "#b5de2b"
             ],
             [
              1,
              "#fde725"
             ]
            ],
            "type": "contour"
           }
          ],
          "contourcarpet": [
           {
            "colorbar": {
             "outlinewidth": 1,
             "tickcolor": "rgb(36,36,36)",
             "ticks": "outside"
            },
            "type": "contourcarpet"
           }
          ],
          "heatmap": [
           {
            "colorbar": {
             "outlinewidth": 1,
             "tickcolor": "rgb(36,36,36)",
             "ticks": "outside"
            },
            "colorscale": [
             [
              0,
              "#440154"
             ],
             [
              0.1111111111111111,
              "#482878"
             ],
             [
              0.2222222222222222,
              "#3e4989"
             ],
             [
              0.3333333333333333,
              "#31688e"
             ],
             [
              0.4444444444444444,
              "#26828e"
             ],
             [
              0.5555555555555556,
              "#1f9e89"
             ],
             [
              0.6666666666666666,
              "#35b779"
             ],
             [
              0.7777777777777778,
              "#6ece58"
             ],
             [
              0.8888888888888888,
              "#b5de2b"
             ],
             [
              1,
              "#fde725"
             ]
            ],
            "type": "heatmap"
           }
          ],
          "heatmapgl": [
           {
            "colorbar": {
             "outlinewidth": 1,
             "tickcolor": "rgb(36,36,36)",
             "ticks": "outside"
            },
            "colorscale": [
             [
              0,
              "#440154"
             ],
             [
              0.1111111111111111,
              "#482878"
             ],
             [
              0.2222222222222222,
              "#3e4989"
             ],
             [
              0.3333333333333333,
              "#31688e"
             ],
             [
              0.4444444444444444,
              "#26828e"
             ],
             [
              0.5555555555555556,
              "#1f9e89"
             ],
             [
              0.6666666666666666,
              "#35b779"
             ],
             [
              0.7777777777777778,
              "#6ece58"
             ],
             [
              0.8888888888888888,
              "#b5de2b"
             ],
             [
              1,
              "#fde725"
             ]
            ],
            "type": "heatmapgl"
           }
          ],
          "histogram": [
           {
            "marker": {
             "line": {
              "color": "white",
              "width": 0.6
             }
            },
            "type": "histogram"
           }
          ],
          "histogram2d": [
           {
            "colorbar": {
             "outlinewidth": 1,
             "tickcolor": "rgb(36,36,36)",
             "ticks": "outside"
            },
            "colorscale": [
             [
              0,
              "#440154"
             ],
             [
              0.1111111111111111,
              "#482878"
             ],
             [
              0.2222222222222222,
              "#3e4989"
             ],
             [
              0.3333333333333333,
              "#31688e"
             ],
             [
              0.4444444444444444,
              "#26828e"
             ],
             [
              0.5555555555555556,
              "#1f9e89"
             ],
             [
              0.6666666666666666,
              "#35b779"
             ],
             [
              0.7777777777777778,
              "#6ece58"
             ],
             [
              0.8888888888888888,
              "#b5de2b"
             ],
             [
              1,
              "#fde725"
             ]
            ],
            "type": "histogram2d"
           }
          ],
          "histogram2dcontour": [
           {
            "colorbar": {
             "outlinewidth": 1,
             "tickcolor": "rgb(36,36,36)",
             "ticks": "outside"
            },
            "colorscale": [
             [
              0,
              "#440154"
             ],
             [
              0.1111111111111111,
              "#482878"
             ],
             [
              0.2222222222222222,
              "#3e4989"
             ],
             [
              0.3333333333333333,
              "#31688e"
             ],
             [
              0.4444444444444444,
              "#26828e"
             ],
             [
              0.5555555555555556,
              "#1f9e89"
             ],
             [
              0.6666666666666666,
              "#35b779"
             ],
             [
              0.7777777777777778,
              "#6ece58"
             ],
             [
              0.8888888888888888,
              "#b5de2b"
             ],
             [
              1,
              "#fde725"
             ]
            ],
            "type": "histogram2dcontour"
           }
          ],
          "mesh3d": [
           {
            "colorbar": {
             "outlinewidth": 1,
             "tickcolor": "rgb(36,36,36)",
             "ticks": "outside"
            },
            "type": "mesh3d"
           }
          ],
          "parcoords": [
           {
            "line": {
             "colorbar": {
              "outlinewidth": 1,
              "tickcolor": "rgb(36,36,36)",
              "ticks": "outside"
             }
            },
            "type": "parcoords"
           }
          ],
          "pie": [
           {
            "automargin": true,
            "type": "pie"
           }
          ],
          "scatter": [
           {
            "fillpattern": {
             "fillmode": "overlay",
             "size": 10,
             "solidity": 0.2
            },
            "type": "scatter"
           }
          ],
          "scatter3d": [
           {
            "line": {
             "colorbar": {
              "outlinewidth": 1,
              "tickcolor": "rgb(36,36,36)",
              "ticks": "outside"
             }
            },
            "marker": {
             "colorbar": {
              "outlinewidth": 1,
              "tickcolor": "rgb(36,36,36)",
              "ticks": "outside"
             }
            },
            "type": "scatter3d"
           }
          ],
          "scattercarpet": [
           {
            "marker": {
             "colorbar": {
              "outlinewidth": 1,
              "tickcolor": "rgb(36,36,36)",
              "ticks": "outside"
             }
            },
            "type": "scattercarpet"
           }
          ],
          "scattergeo": [
           {
            "marker": {
             "colorbar": {
              "outlinewidth": 1,
              "tickcolor": "rgb(36,36,36)",
              "ticks": "outside"
             }
            },
            "type": "scattergeo"
           }
          ],
          "scattergl": [
           {
            "marker": {
             "colorbar": {
              "outlinewidth": 1,
              "tickcolor": "rgb(36,36,36)",
              "ticks": "outside"
             }
            },
            "type": "scattergl"
           }
          ],
          "scattermapbox": [
           {
            "marker": {
             "colorbar": {
              "outlinewidth": 1,
              "tickcolor": "rgb(36,36,36)",
              "ticks": "outside"
             }
            },
            "type": "scattermapbox"
           }
          ],
          "scatterpolar": [
           {
            "marker": {
             "colorbar": {
              "outlinewidth": 1,
              "tickcolor": "rgb(36,36,36)",
              "ticks": "outside"
             }
            },
            "type": "scatterpolar"
           }
          ],
          "scatterpolargl": [
           {
            "marker": {
             "colorbar": {
              "outlinewidth": 1,
              "tickcolor": "rgb(36,36,36)",
              "ticks": "outside"
             }
            },
            "type": "scatterpolargl"
           }
          ],
          "scatterternary": [
           {
            "marker": {
             "colorbar": {
              "outlinewidth": 1,
              "tickcolor": "rgb(36,36,36)",
              "ticks": "outside"
             }
            },
            "type": "scatterternary"
           }
          ],
          "surface": [
           {
            "colorbar": {
             "outlinewidth": 1,
             "tickcolor": "rgb(36,36,36)",
             "ticks": "outside"
            },
            "colorscale": [
             [
              0,
              "#440154"
             ],
             [
              0.1111111111111111,
              "#482878"
             ],
             [
              0.2222222222222222,
              "#3e4989"
             ],
             [
              0.3333333333333333,
              "#31688e"
             ],
             [
              0.4444444444444444,
              "#26828e"
             ],
             [
              0.5555555555555556,
              "#1f9e89"
             ],
             [
              0.6666666666666666,
              "#35b779"
             ],
             [
              0.7777777777777778,
              "#6ece58"
             ],
             [
              0.8888888888888888,
              "#b5de2b"
             ],
             [
              1,
              "#fde725"
             ]
            ],
            "type": "surface"
           }
          ],
          "table": [
           {
            "cells": {
             "fill": {
              "color": "rgb(237,237,237)"
             },
             "line": {
              "color": "white"
             }
            },
            "header": {
             "fill": {
              "color": "rgb(217,217,217)"
             },
             "line": {
              "color": "white"
             }
            },
            "type": "table"
           }
          ]
         },
         "layout": {
          "annotationdefaults": {
           "arrowhead": 0,
           "arrowwidth": 1
          },
          "autotypenumbers": "strict",
          "coloraxis": {
           "colorbar": {
            "outlinewidth": 1,
            "tickcolor": "rgb(36,36,36)",
            "ticks": "outside"
           }
          },
          "colorscale": {
           "diverging": [
            [
             0,
             "rgb(103,0,31)"
            ],
            [
             0.1,
             "rgb(178,24,43)"
            ],
            [
             0.2,
             "rgb(214,96,77)"
            ],
            [
             0.3,
             "rgb(244,165,130)"
            ],
            [
             0.4,
             "rgb(253,219,199)"
            ],
            [
             0.5,
             "rgb(247,247,247)"
            ],
            [
             0.6,
             "rgb(209,229,240)"
            ],
            [
             0.7,
             "rgb(146,197,222)"
            ],
            [
             0.8,
             "rgb(67,147,195)"
            ],
            [
             0.9,
             "rgb(33,102,172)"
            ],
            [
             1,
             "rgb(5,48,97)"
            ]
           ],
           "sequential": [
            [
             0,
             "#440154"
            ],
            [
             0.1111111111111111,
             "#482878"
            ],
            [
             0.2222222222222222,
             "#3e4989"
            ],
            [
             0.3333333333333333,
             "#31688e"
            ],
            [
             0.4444444444444444,
             "#26828e"
            ],
            [
             0.5555555555555556,
             "#1f9e89"
            ],
            [
             0.6666666666666666,
             "#35b779"
            ],
            [
             0.7777777777777778,
             "#6ece58"
            ],
            [
             0.8888888888888888,
             "#b5de2b"
            ],
            [
             1,
             "#fde725"
            ]
           ],
           "sequentialminus": [
            [
             0,
             "#440154"
            ],
            [
             0.1111111111111111,
             "#482878"
            ],
            [
             0.2222222222222222,
             "#3e4989"
            ],
            [
             0.3333333333333333,
             "#31688e"
            ],
            [
             0.4444444444444444,
             "#26828e"
            ],
            [
             0.5555555555555556,
             "#1f9e89"
            ],
            [
             0.6666666666666666,
             "#35b779"
            ],
            [
             0.7777777777777778,
             "#6ece58"
            ],
            [
             0.8888888888888888,
             "#b5de2b"
            ],
            [
             1,
             "#fde725"
            ]
           ]
          },
          "colorway": [
           "#1F77B4",
           "#FF7F0E",
           "#2CA02C",
           "#D62728",
           "#9467BD",
           "#8C564B",
           "#E377C2",
           "#7F7F7F",
           "#BCBD22",
           "#17BECF"
          ],
          "font": {
           "color": "rgb(36,36,36)"
          },
          "geo": {
           "bgcolor": "white",
           "lakecolor": "white",
           "landcolor": "white",
           "showlakes": true,
           "showland": true,
           "subunitcolor": "white"
          },
          "hoverlabel": {
           "align": "left"
          },
          "hovermode": "closest",
          "mapbox": {
           "style": "light"
          },
          "paper_bgcolor": "white",
          "plot_bgcolor": "white",
          "polar": {
           "angularaxis": {
            "gridcolor": "rgb(232,232,232)",
            "linecolor": "rgb(36,36,36)",
            "showgrid": false,
            "showline": true,
            "ticks": "outside"
           },
           "bgcolor": "white",
           "radialaxis": {
            "gridcolor": "rgb(232,232,232)",
            "linecolor": "rgb(36,36,36)",
            "showgrid": false,
            "showline": true,
            "ticks": "outside"
           }
          },
          "scene": {
           "xaxis": {
            "backgroundcolor": "white",
            "gridcolor": "rgb(232,232,232)",
            "gridwidth": 2,
            "linecolor": "rgb(36,36,36)",
            "showbackground": true,
            "showgrid": false,
            "showline": true,
            "ticks": "outside",
            "zeroline": false,
            "zerolinecolor": "rgb(36,36,36)"
           },
           "yaxis": {
            "backgroundcolor": "white",
            "gridcolor": "rgb(232,232,232)",
            "gridwidth": 2,
            "linecolor": "rgb(36,36,36)",
            "showbackground": true,
            "showgrid": false,
            "showline": true,
            "ticks": "outside",
            "zeroline": false,
            "zerolinecolor": "rgb(36,36,36)"
           },
           "zaxis": {
            "backgroundcolor": "white",
            "gridcolor": "rgb(232,232,232)",
            "gridwidth": 2,
            "linecolor": "rgb(36,36,36)",
            "showbackground": true,
            "showgrid": false,
            "showline": true,
            "ticks": "outside",
            "zeroline": false,
            "zerolinecolor": "rgb(36,36,36)"
           }
          },
          "shapedefaults": {
           "fillcolor": "black",
           "line": {
            "width": 0
           },
           "opacity": 0.3
          },
          "ternary": {
           "aaxis": {
            "gridcolor": "rgb(232,232,232)",
            "linecolor": "rgb(36,36,36)",
            "showgrid": false,
            "showline": true,
            "ticks": "outside"
           },
           "baxis": {
            "gridcolor": "rgb(232,232,232)",
            "linecolor": "rgb(36,36,36)",
            "showgrid": false,
            "showline": true,
            "ticks": "outside"
           },
           "bgcolor": "white",
           "caxis": {
            "gridcolor": "rgb(232,232,232)",
            "linecolor": "rgb(36,36,36)",
            "showgrid": false,
            "showline": true,
            "ticks": "outside"
           }
          },
          "title": {
           "x": 0.05
          },
          "xaxis": {
           "automargin": true,
           "gridcolor": "rgb(232,232,232)",
           "linecolor": "rgb(36,36,36)",
           "showgrid": false,
           "showline": true,
           "ticks": "outside",
           "title": {
            "standoff": 15
           },
           "zeroline": false,
           "zerolinecolor": "rgb(36,36,36)"
          },
          "yaxis": {
           "automargin": true,
           "gridcolor": "rgb(232,232,232)",
           "linecolor": "rgb(36,36,36)",
           "showgrid": false,
           "showline": true,
           "ticks": "outside",
           "title": {
            "standoff": 15
           },
           "zeroline": false,
           "zerolinecolor": "rgb(36,36,36)"
          }
         }
        },
        "title": {
         "font": {
          "color": "Black",
          "size": 22
         },
         "text": "<b>Intertopic Distance Map</b>",
         "x": 0.5,
         "xanchor": "center",
         "y": 0.95,
         "yanchor": "top"
        },
        "width": 650,
        "xaxis": {
         "anchor": "y",
         "domain": [
          0,
          1
         ],
         "range": [
          -20.916533088684083,
          19.714693069458008
         ],
         "title": {
          "text": ""
         },
         "visible": false
        },
        "yaxis": {
         "anchor": "x",
         "domain": [
          0,
          1
         ],
         "range": [
          -10.964177227020263,
          24.423551845550538
         ],
         "title": {
          "text": ""
         },
         "visible": false
        }
       }
      },
      "text/html": [
       "<div>                            <div id=\"808c3a5f-7974-4948-91b1-7d5f1b55326e\" class=\"plotly-graph-div\" style=\"height:650px; width:650px;\"></div>            <script type=\"text/javascript\">                require([\"plotly\"], function(Plotly) {                    window.PLOTLYENV=window.PLOTLYENV || {};                                    if (document.getElementById(\"808c3a5f-7974-4948-91b1-7d5f1b55326e\")) {                    Plotly.newPlot(                        \"808c3a5f-7974-4948-91b1-7d5f1b55326e\",                        [{\"customdata\":[[0,\"\\u60c5\\u5831\\u79d1\\u5b66 | \\u60c5\\u5831 | 0\\u30681 | \\u6388\\u696d\\u306e\\u9032\\u3081\\u65b9\\u306e\\u8aac\\u660e | \\u4e88\\u7fd2\",323],[1,\"\\u30d0\\u30a4 | \\u5b8c\\u5168\\u6027 | \\u6697\\u53f7\\u306b\\u3064\\u3044\\u3066 | \\u6a5f\\u5bc6\\u6027 | en\",310],[2,\"\\u8a08\\u7b97 | \\u30a2\\u30eb\\u30b4\\u30ea\\u30ba\\u30e0 | \\u554f\\u984c | \\u30b3\\u30f3\\u30d4\\u30e5\\u30fc\\u30bf | \\u30b3\\u30f3\\u30d4\\u30e5\\u30fc\\u30bf\\u30fc\\u30b5\\u30a4\\u30a8\\u30f3\\u30b9\",289],[3,\"\\u7b26\\u53f7\\u8a9e\\u540c\\u58eb\\u304cs | 2k | \\u30cf\\u30df\\u30f3\\u30b0\\u8ddd\\u96e2 | \\u7b26\\u53f7\\u8a9e\\u540c\\u58eb\\u304c2t | \\u53cd\\u8ee2\\u78ba\\u7387\",257],[4,\"\\u60c5\\u5831\\u6e90\\u7b26\\u53f7\\u5316 | \\u30a8\\u30f3\\u30c8\\u30ed\\u30d4\\u30fc | \\u60c5\\u5831\\u6e90 | \\u304c\\u5b58\\u5728\\u3059\\u308b | \\u8a9e\\u982d\\u6761\\u4ef6\",252],[5,\"\\u4e88\\u6e2c | \\u767a\\u898b | \\u30b0\\u30eb\\u30fc\\u30d4\\u30f3\\u30b0 | \\u30c7\\u30fc\\u30bf\\u306b\\u3064\\u3044\\u3066 | \\u30c7\\u30fc\\u30bf\",228],[6,\"z\\u5909\\u63db\\u306b\\u3064\\u3044\\u3066 | z\\u5909\\u63db\\u306e\\u6027\\u8cea\\u9006z\\u5909\\u63db | \\u96e2\\u6563\\u30d5\\u30fc\\u30ea\\u30a8\\u5909\\u63db | z\\u5909\\u63db\\u306e\\u6027\\u8cea\\u3068\\u9006z\\u5909\\u63db | z\\u5909\\u63db\\u306e\\u5c0e\\u5165\",228],[7,\"\\u30d1\\u30bf\\u30fc\\u30f3\\u8a8d\\u8b58 | \\u30d9\\u30af\\u30c8\\u30eb | \\u753b\\u50cf\\u51e6\\u7406 | \\u81ea\\u7136\\u8a00\\u8a9e\\u51e6\\u7406 | \\u30af\\u30e9\\u30b9\",219],[8,\"2\\u56de | \\u30d0\\u30d6\\u30eb\\u30bd\\u30fc\\u30c8 | cf | \\u9078\\u629e\\u30bd\\u30fc\\u30c8 | \\u6574\\u5217\",217],[9,\"xy | log2 | \\u60c5\\u5831\\u91cf | \\u66d6\\u6627\\u3055 | pm\",174],[10,\"\\u8ddd\\u96e2 | \\u985e\\u4f3c\\u5ea6 | \\u4f3c\\u3066\\u3044\\u308b | \\u8fd1\\u3044 | \\u9060\\u3044\",165],[11,\"\\u96e2\\u6563\\u6642\\u9593\\u30d5\\u30fc\\u30ea\\u30a8\\u5909\\u63db\\u3068\\u96e2\\u6563\\u30d5\\u30fc\\u30ea\\u30a8\\u5909\\u63db | \\u96e2\\u6563\\u6642\\u9593\\u30d5\\u30fc\\u30ea\\u30a8\\u5909\\u63db\\u3068\\u96e2\\u6563\\u30d5\\u30fc\\u30ea\\u30a8\\u5909\\u63db\\u306b\\u3064\\u3044\\u3066 | \\u96e2\\u6563\\u6642\\u9593\\u30b7\\u30b9\\u30c6\\u30e0 | \\u96e2\\u6563\\u6642\\u9593\\u30d5\\u30fc\\u30ea\\u30a8\\u5909\\u63db | \\u96e2\\u6563\\u6642\\u9593\\u30b7\\u30b9\\u30c6\\u30e0\\u306b\\u3064\\u3044\\u3066\",162],[12,\"\\u76f8\\u95a2 | \\u7d71\\u8a08\\u7684\\u691c\\u5b9a | \\u5dee\\u304c\\u306a\\u3044 | ax | \\u30a4\\u30f3\\u30d1\\u30eb\\u30b9\\u5fdc\\u7b54\",159],[13,\"\\u30ce\\u30fc\\u30c9 | \\u3068\\u8fba | \\u30a8\\u30c3\\u30b8 | \\u6563\\u5e03\\u56f3 | \\u30d2\\u30fc\\u30c8\\u30de\\u30c3\\u30d7\",145],[14,\"\\u77e5\\u8b58\\u30de\\u30c3\\u30d7\\u306e\\u4f5c\\u6210 | \\u77e5\\u8b58\\u30de\\u30c3\\u30d7\\u306e\\u4f5c\\u88fd | \\u77e5\\u8b58\\u30de\\u30c3\\u30d7\\u4f5c\\u6210 | br | \\u77e5\\u8b58\\u30de\\u30c3\\u30d7\\u306b\\u3064\\u3044\\u3066\",139],[15,\"\\u30b3\\u30e2\\u30f3\\u30ba | \\u5168\\u6570\\u8abf\\u67fb | \\u6a19\\u672c\\u8abf\\u67fb | \\u6a19\\u672c\\u9078\\u629e\\u30d0\\u30a4\\u30a2\\u30b9 | \\u30e9\\u30a4\\u30bb\\u30f3\\u30b9\",123],[16,\"\\u30c7\\u30a3\\u30b8\\u30bf\\u30eb\\u4fe1\\u53f7\\u51e6\\u7406\\u306e\\u6982\\u8981 | \\u91cf\\u5b50\\u5316 | \\u7b26\\u53f7\\u5316 | \\u30a2\\u30ca\\u30ed\\u30b0\\u4fe1\\u53f7 | \\u6a19\\u672c\\u5316\",119],[17,\"\\u9ad8\\u901f\\u30d5\\u30fc\\u30ea\\u30a8\\u5909\\u63db | \\u9ad8\\u901f\\u30d5\\u30fc\\u30ea\\u30a8\\u5909\\u63db\\u306b\\u3064\\u3044\\u3066 | \\u9ad8\\u901f\\u30d5\\u30fc\\u30ea\\u30a8\\u5909\\u63db\\u306b\\u3064\\u3044\\u3066\\u5b66\\u3093\\u3060 | \\u9ad8\\u901f\\u30d5\\u30fc\\u30ea\\u30a8\\u5909\\u63db\\u306e\\u4ed5\\u7d44\\u307f | \\u9ad8\\u901f\\u30d5\\u30fc\\u30ea\\u30a8\\u5909\\u63db\\u306e\\u3084\\u308a\\u65b9\",115],[18,\"\\u975e\\u5468\\u671f\\u4fe1\\u53f7\\u306e\\u30d5\\u30fc\\u30ea\\u30a8\\u5909\\u63db | \\u5468\\u671f\\u4fe1\\u53f7\\u306e\\u30d5\\u30fc\\u30ea\\u30a8\\u7d1a\\u6570\\u8868\\u73fe | \\u975e\\u5468\\u671f\\u4fe1\\u53f7\\u3068\\u30d5\\u30fc\\u30ea\\u30a8\\u5909\\u63db | \\u30d5\\u30fc\\u30ea\\u30a8\\u5909\\u63db\\u306b\\u3064\\u3044\\u3066 | \\u30d5\\u30fc\\u30ea\\u30a8\\u5909\\u63db\",107],[19,\"klogn | logn | kn | \\u30d1\\u30bf\\u30fc\\u30f3\\u6587\\u5b57\\u5217p\\u306e\\u9577\\u3055\\u3092k\\u3068\\u3059\\u308b\\u3068\\u5404\\u30b9\\u30c6\\u30c3\\u30d7\\u306b\\u304a\\u3044\\u3066\\u9ad8\\u3005k\\u56de\\u306e\\u6587\\u5b57\\u6bd4\\u8f03\\u3092\\u884c\\u3046 | \\u3067\\u3042\\u308b\",101],[20,\"nt | \\u9023\\u7d9a\\u6642\\u9593\\u4fe1\\u53f7\\u306e\\u6a19\\u672c\\u5316 | \\u9023\\u7d9a\\u6642\\u9593\\u4fe1\\u53f7\\u306e\\u6a19\\u672c\\u5316\\u306b\\u3064\\u3044\\u3066 | hz | \\u96e2\\u6563\\u6642\\u9593\\u4fe1\\u53f7\\u3068z\\u5909\\u63db\\u306b\\u3064\\u3044\\u3066\",96],[21,\"\\u671f\\u672b\\u30c6\\u30b9\\u30c8 | \\u78ba\\u8a8d\\u30c6\\u30b9\\u30c8 | \\u30c6\\u30b9\\u30c8 | \\u30c6\\u30b9\\u30c8\\u3067\\u3057\\u305f | \\u671f\\u672b\\u8a66\\u9a13\",89],[22,\"\\u5f31\\u3044ai | \\u5f37\\u3044ai | \\u7279\\u5316\\u578bai | \\u4eba\\u5de5\\u77e5\\u80fd | ai\",75],[23,\"\\u8457\\u4f5c\\u6a29\\u306b\\u3064\\u3044\\u3066 | \\u8ca1\\u7523\\u6a29 | \\u8457\\u4f5c\\u6a29 | 70\\u5e74\\u9593\\u8457\\u4f5c\\u7269\\u3092\\u5b88\\u308b | \\u8457\\u4f5c\\u6a29\\u306b\\u95a2\\u3059\\u308b\\u69d8\\u3005\\u306a\\u3053\\u3068\",62],[24,\"\\u30d5\\u30fc\\u30ea\\u30a8\\u7d1a\\u6570\\u304b\\u3089\\u30d5\\u30fc\\u30ea\\u30a8\\u5909\\u63db\\u3078\\u306e\\u62e1\\u5f35 | \\u30d5\\u30fc\\u30ea\\u30a8\\u7d1a\\u6570 | \\u6700\\u5927\\u516c\\u7d04\\u6570\\u3092\\u8868\\u3059 | \\u30d5\\u30fc\\u30ea\\u30a8\\u7d1a\\u6570\\u8907\\u7d20\\u30d5\\u30fc\\u30ea\\u30a8\\u7d1a\\u6570\\u306e\\u6c42\\u3081\\u65b9 | \\u30d5\\u30fc\\u30ea\\u30a8\\u7d1a\\u6570\\u5c55\\u958b\",58],[25,\"\\u30a8\\u30c3\\u30b8\\u62bd\\u51fa | \\u30a8\\u30c3\\u30b8 | \\u6587\\u5b57 | \\u3068\\u767d | \\u5e30\\u7121\\u4eee\\u8aac\",56],[26,\"\\u96e2\\u6563\\u6642\\u9593\\u30b7\\u30b9\\u30c6\\u30e0\\u306e\\u7dda\\u5f62\\u6642\\u4e0d\\u5909\\u30b7\\u30b9\\u30c6\\u30e0\\u3068\\u5dee\\u5206\\u65b9\\u7a0b\\u5f0f\\u306b\\u3064\\u3044\\u3066 | \\u7dda\\u5f62\\u6027\\u3068\\u6642\\u4e0d\\u5909\\u6027\\u306e\\u6027\\u8cea\\u3092\\u3082\\u3061 | \\u96e2\\u6563\\u6642\\u9593\\u30b7\\u30b9\\u30c6\\u30e0\\u306e\\u5185\\u5bb9\\u306b\\u3064\\u3044\\u3066 | \\u51fa\\u5165\\u529b\\u306f\\u7573\\u307f\\u8fbc\\u307f\\u3067\\u8868\\u3055\\u308c\\u308b | \\u5dee\\u5206\\u65b9\\u7a0b\\u5f0f\",54],[27,\"ai | \\u4eba\\u5de5\\u77e5\\u80fd | \\u8ca0\\u306e\\u76f8\\u95a2 | a\\u3068b\\u306f\\u76f8\\u95a2\\u3059\\u308b | \\u7d76\\u5bfe\\u7684\\u306a\\u6b63\\u89e3\",52],[28,\"\\u30c7\\u30a3\\u30b8\\u30bf\\u30eb\\u30d5\\u30a3\\u30eb\\u30bf\\u306e\\u8a2d\\u8a08 | \\u30c7\\u30a3\\u30b8\\u30bf\\u30eb\\u30d5\\u30a3\\u30eb\\u30bf\\u306e\\u8a2d\\u8a08\\u7a93\\u95a2\\u6570\\u6cd5\\u306a\\u3069\\u306b\\u3064\\u3044\\u3066 | \\u672c\\u65e5\\u306f\\u30c7\\u30a3\\u30b8\\u30bf\\u30eb\\u30d5\\u30a3\\u30eb\\u30bf\\u306b\\u3064\\u3044\\u3066\\u5b66\\u3093\\u3060\\u307e\\u305fflr\\u30d5\\u30a3\\u30eb\\u30bf\\u306e\\u5834\\u5408\\u3067\\u306e\\u8a2d\\u8a08\\u304c\\u3069\\u306e\\u3088\\u3046\\u306a\\u624b\\u9806\\u3067\\u884c\\u308f\\u308c\\u308b\\u304b\\u5b66\\u3076\\u3053\\u3068\\u304c\\u91cd\\u8981\\u3067\\u3042\\u308b | \\u8272\\u3005\\u306a\\u7a2e\\u985e\\u306e\\u30d5\\u30a3\\u30eb\\u30bf\\u306a\\u3069\\u306b\\u3064\\u3044\\u3066\\u5b66\\u3093\\u3060 | \\u76f4\\u7dda\\u4f4d\\u76f8\\u306b\\u3064\\u3044\\u3066\",50],[29,\"\\u30c7\\u30fc\\u30bf\\u306e\\u53ef\\u8996\\u5316\\u306b\\u3064\\u3044\\u3066 | \\u53ef\\u8996\\u5316 | \\u3053\\u3068\\u304c\\u3067\\u304d\\u308b\\u304b\\u3068\\u3044\\u3046\\u3053\\u3068\\u3068\\u305d\\u306e\\u53ef\\u8996\\u5316\\u306e\\u7a2e\\u985e | \\u8ddd\\u96e2\\u306e\\u4f7f\\u3044\\u5206\\u3051 | \\u69d8\\u3005\\u306a\\u30c7\\u30fc\\u30bf\\u306e\\u53ef\\u8996\\u5316\\u306e\\u65b9\\u6cd5\",50],[30,\"\\u4eba\\u5de5\\u77e5\\u80fd | ai | \\u4eba\\u5de5\\u77e5\\u80fd\\u306b\\u3064\\u3044\\u3066 | \\u6a5f\\u68b0\\u5b66\\u7fd2\\u3068\\u306f | \\u50be\\u5411\\u3084\\u95a2\\u9023\\u306e\\u767a\\u5c55\",43],[31,\"\\u6539\\u7ac4 | \\u634f\\u9020 | \\u305d\\u3057\\u3066\\u60c5\\u5831\\u502b\\u7406\\u306b\\u3064\\u3044\\u3066\\u4e5d\\u5dde\\u5927\\u5b66\\u306e\\u4f8b\\u3092\\u898b\\u306a\\u304c\\u3089\\u7406\\u89e3\\u3059\\u308b | \\u7814\\u7a76\\u502b\\u7406\\u306f\\u660e\\u6587\\u5316\\u3055\\u308c\\u3066\\u3044\\u306a\\u3044\\u304c\\u7814\\u7a76\\u305d\\u306e\\u3082\\u306e\\u306e\\u4fe1\\u983c\\u304c\\u5931\\u308f\\u308c\\u306a\\u3044\\u3088\\u3046\\u306b\\u500b\\u4eba\\u304c\\u79d1\\u5b66\\u8005\\u3068\\u3057\\u3066\\u4e2d\\u7acb\\u6027 | \\u7814\\u7a76\\u502b\\u7406\\u3084\\u60c5\\u5831\\u502b\\u7406\\u3068\\u3044\\u3063\\u305f\\u7814\\u7a76\\u306b\\u5bfe\\u3059\\u308b\\u59ff\\u52e2\\u7684\\u306a\\u90e8\\u5206\\u306e\\u591a\\u304f\\u306f\\u5404\\u500b\\u4eba\\u304c\\u6ce8\\u610f\\u3059\\u3079\\u304d\\u3067\\u3042\\u308b\\u307e\\u305f\\u3042\\u308b\\u7a0b\\u5ea6\\u56fd\\u3084\\u7d44\\u7e54\\u304c\\u660e\\u6587\\u5316\\u3057\\u3066\\u898f\\u7bc4\\u3092\\u793a\\u3059\\u3053\\u3068\\u3082\\u91cd\\u8981\\u3067\\u3042\\u308b\",41],[32,\"nlogn | log2n | \\u30de\\u30fc\\u30b8\\u30bd\\u30fc\\u30c8 | \\u30d2\\u30fc\\u30d7\\u30bd\\u30fc\\u30c8\\u306e\\u4ed5\\u7d44\\u307f\\u3068\\u7279\\u5fb4\\u30de\\u30fc\\u30b8\\u30bd\\u30fc\\u30c8\\u306e\\u4ed5\\u7d44\\u307f\\u3068\\u7279\\u5fb4\\u30bd\\u30fc\\u30c8\\u306b\\u304a\\u3044\\u3066\\u6bd4\\u8f03\\u56de\\u6570\\u3092\\u6e1b\\u3089\\u3059\\u65b9\\u6cd5\\u3084\\u6c7a\\u5b9a\\u6728\\u306e\\u8aac\\u660e | \\u30d2\\u30fc\\u30d7\\u30bd\\u30fc\\u30c8\\u3068\\u30de\\u30fc\\u30b8\\u30bd\\u30fc\\u30c8\\u306e\\u624b\\u9806\\u6bd4\\u8f03\\u56de\\u6570\",38],[33,\"\\u4e8c\\u5206\\u63a2\\u7d22\\u6cd5\\u3068\\u30c7\\u30fc\\u30bf\\u306b\\u3064\\u3044\\u3066 | \\u4e8c\\u5206\\u63a2\\u7d22\\u6cd5\\u306b\\u3064\\u3044\\u3066 | 2\\u5206\\u63a2\\u7d22\\u306b\\u3064\\u3044\\u3066\\u3068\\u30c7\\u30fc\\u30bf\\u5206\\u6790\\u306e\\u57fa\\u672c\\u306b\\u3064\\u3044\\u3066 | \\u7dda\\u5f62\\u63a2\\u7d222\\u5206\\u63a2\\u7d22\\u306e\\u3084\\u308a\\u65b9\\u30682\\u5206\\u63a2\\u7d22\\u306e\\u30a2\\u30eb\\u30b4\\u30ea\\u30ba\\u30e0\\u3068\\u8a08\\u7b97\\u91cf\\u306b\\u3064\\u3044\\u3066\\u306e\\u8aac\\u660e\\u304c\\u3042\\u308a\\u307e\\u3057\\u305f\\u307e\\u305f\\u5b9f\\u969b\\u306b\\u30ad\\u30fc\\u30ef\\u30fc\\u30c9\\u3084\\u30c6\\u30ad\\u30b9\\u30c8\\u30672\\u5206\\u63a2\\u7d22\\u3092\\u884c\\u3063\\u305f\\u5834\\u5408\\u306e\\u624b\\u9806\\u306e\\u8aac\\u660e\\u3084\\u8a08\\u7b97\\u91cf\\u306b\\u3064\\u3044\\u3066\\u306e\\u8aac\\u660e\\u3082\\u3042\\u308a\\u307e\\u3057\\u305f\\u3055\\u3089\\u306b\\u30c7\\u30fc\\u30bf\\u3068\\u306f\\u306a\\u306b\\u304b\\u305d\\u306e\\u5177\\u4f53\\u7684\\u306a\\u4f8b\\u3084\\u7a2e\\u985e\\u4e00\\u822c\\u7684\\u306a4\\u3064\\u306e\\u5206\\u985e\\u306b\\u3064\\u3044\\u3066\\u306e\\u8aac\\u660e\\u3068\\u79c1\\u305f\\u3061\\u304c\\u666e\\u6bb5\\u884c\\u3063\\u3066\\u3044\\u308b\\u30c7\\u30fc\\u30bf\\u5206\\u6790\\u3068\\u30c7\\u30fc\\u30bf\\u5206\\u6790\\u306e3\\u3064\\u306e\\u57fa\\u672c\\u306b\\u3064\\u3044\\u3066\\u306e\\u8aac\\u660e\\u3082\\u3042\\u308a\\u307e\\u3057\\u305f | \\u30de\\u30fc\\u30b8\\u30bd\\u30fc\\u30c8\\u3084\\u4e8c\\u5206\\u63a2\\u7d22\\u6cd5\\u306b\\u3064\\u3044\\u3066\\u306e\\u88dc\\u8db3\\u304c\\u3042\\u3063\\u305f\\u5f8c\\u306b\\u69d8\\u3005\\u306a\\u30c7\\u30fc\\u30bf\\u3068\\u30c7\\u30fc\\u30bf\\u89e3\\u6790\\u306e\\u57fa\\u672c\\u3068\\u3044\\u3046\\u6559\\u6750\\u306e\\u5358\\u5143\\u306b\\u3064\\u3044\\u3066\\u306e\\u8aac\\u660e\\u3092\\u53d7\\u3051\\u305f\\u30c7\\u30fc\\u30bf\\u3068\\u306f\\u4f55\\u304b\\u306b\\u3064\\u3044\\u3066\\u306e\\u5177\\u4f53\\u4f8b\\u3092\\u7528\\u3044\\u305f\\u8aac\\u660e\\u304c\\u884c\\u308f\\u308c\\u305f\",38],[34,\"\\u30de\\u30fc\\u30b8\\u30bd\\u30fc\\u30c8\\u3068\\u4e8c\\u5206\\u63a2\\u7d22\\u6cd5\\u306b\\u3064\\u3044\\u3066 | \\u4e8c\\u5206\\u63a2\\u7d22\\u6cd5 | 2\\u5206\\u63a2\\u7d22\\u306b\\u3064\\u3044\\u3066 | \\u4eca\\u56de\\u306e\\u6388\\u696d\\u3067\\u306f\\u30d2\\u30fc\\u30d7\\u30bd\\u30fc\\u30c8\\u3068\\u30de\\u30fc\\u30b8\\u30bd\\u30fc\\u30c8\\u306b\\u3064\\u3044\\u3066\\u5b66\\u7fd2\\u3057\\u305f | \\u30de\\u30fc\\u30b8\\u30bd\\u30fc\\u30c8\",38],[35,\"\\u30ac\\u30a4\\u30c0\\u30f3\\u30b9 | \\u30aa\\u30ea\\u30a8\\u30f3\\u30c6\\u30fc\\u30b7\\u30e7\\u30f3 | \\u30bd\\u30fc\\u30c8\\u306e\\u5927\\u307e\\u304b\\u306a\\u6982\\u8981 | \\u30a4\\u30f3\\u30c8\\u30ed\\u30c0\\u30af\\u30b7\\u30e7\\u30f3 | ai\\u306b\\u3064\\u3044\\u3066\\u306e\\u57fa\\u790e\\u60c5\\u5831\",35],[36,\"nlogn | log | \\u901a\\u308a\\u304c\\u3051\\u9806 | \\u3069\\u306e\\u7bc0\\u70b9\\u306e\\u5024\\u3082\\u81ea\\u5206\\u306e\\u89aa\\u306b\\u683c\\u7d0d\\u3055\\u308c\\u305f\\u5024\\u4ee5\\u4e0b\\u3067\\u3042\\u308b | \\u3068\\u306a\\u308b\",33],[37,\"\\u30d5\\u30fc\\u30ea\\u30a8\\u7d1a\\u6570\\u306b\\u3064\\u3044\\u3066\\u5b66\\u3093\\u3060 | \\u3053\\u308c\\u304b\\u3089\\u306e\\u6388\\u696d\\u3067\\u4f55\\u3092\\u5b66\\u3076\\u304b\\u3084\\u8a08\\u7b97\\u3068\\u306f\\u4f55\\u304b\\u306b\\u3064\\u3044\\u3066\\u4f8b\\u3092\\u7528\\u3044\\u3066\\u5b66\\u3093\\u3060 | \\u4eca\\u56de\\u306e\\u6388\\u696d\\u3067\\u306f\\u6570\\u5b66\\u7684\\u8981\\u7d20\\u3082\\u6df7\\u3058\\u3063\\u305f\\u554f\\u984c\\u306b\\u3064\\u3044\\u3066\\u53d6\\u308a\\u4e0a\\u3052\\u3066\\u304a\\u308a\\u3088\\u308a\\u624b\\u77ed\\u306a\\u8a08\\u7b97\\u3067\\u554f\\u984c\\u3092\\u89e3\\u6c7a\\u3059\\u308b\\u3053\\u3068\\u306b\\u6ce8\\u529b\\u3057\\u305f\\u3082\\u306e\\u3067\\u3042\\u308a\\u307e\\u3057\\u305f | \\u30a8\\u30f3\\u30c8\\u30ed\\u30d4\\u30fc\\u306b\\u3064\\u3044\\u3066\\u5b66\\u3093\\u3060\\u9ad8\\u6821\\u6570\\u5b66\\u3067\\u78ba\\u7387\\u3092\\u5b66\\u3093\\u3060\\u304c\\u4eca\\u56de\\u306e\\u6388\\u696d\\u306f\\u3088\\u308a\\u5b9f\\u8df5\\u7684\\u3060\\u3063\\u305f | \\u30e6\\u30fc\\u30af\\u30ea\\u30c3\\u30c9\\u4e92\\u5f90\\u6cd5\\u306e\\u6b63\\u5f53\\u6027\\u3084\\u9078\\u629e\\u30bd\\u30fc\\u30c8\\u30d2\\u30fc\\u30d7\\u30bd\\u30fc\\u30c8\\u306a\\u3069\\u306e\\u8a08\\u7b97\\u65b9\\u6cd5\\u306b\\u3064\\u3044\\u3066\\u5b66\\u3073\\u307e\\u3057\\u305f\",32],[38,\"\\u6a19\\u672c\\u5316\\u306b\\u3064\\u3044\\u3066 | \\u6a19\\u672c\\u5316 | \\u6a19\\u672c\\u5316\\u5b9a\\u7406 | \\u6a19\\u672c\\u5316\\u3068\\u6a19\\u672c\\u5316\\u5b9a\\u7406\\u306b\\u3064\\u3044\\u3066 | \\u30b5\\u30f3\\u30d7\\u30ea\\u30f3\\u30b0\\u3068\\u6a19\\u672c\\u5316\\u5b9a\\u7406\\u306b\\u3064\\u3044\\u3066\",31],[39,\"\\u8208\\u5473\\u304c\\u60f9\\u304b\\u308c\\u3084\\u3059\\u3044\\u5185\\u5bb9\\u3060\\u3063\\u305f | br\\u30fcmap\\u3092\\u7528\\u3044\\u3066\\u632f\\u308a\\u8fd4\\u308a\\u3092\\u884c\\u3063\\u305f | \\u7b2c1\\u56de\\u8cc7\\u6599\\u304a\\u308f\\u308a\\u307e\\u3067 | \\u732b\\u3068\\u3054\\u6a5f\\u5acc\\u3068\\u5c3b\\u5c3e\\u306e\\u95a2\\u4fc2\\u3067\\u306f\\u8868\\u306b\\u8868\\u3059\\u3053\\u3068\\u3067\\u306a\\u3093\\u3089\\u304b\\u306e\\u95a2\\u4fc2\\u6027\\u304c\\u7406\\u89e3\\u3067\\u304d\\u308b\\u3088\\u3046\\u306b\\u306a\\u3063\\u3066\\u3044\\u305f | \\u6700\\u5f8c\\u306e\\u65b9\\u306f\\u7c21\\u5358\\u3060\\u3063\\u305f\",31],[40,\"\\u96e2\\u6563\\u30d5\\u30fc\\u30ea\\u30a8\\u5909\\u63db\\u306e\\u6027\\u8cea\\u306b\\u3064\\u3044\\u3066\\u5b66\\u3093\\u3060 | \\u96e2\\u6563\\u30d5\\u30fc\\u30ea\\u30a8\\u5909\\u63db\\u306b\\u3064\\u3044\\u3066\\u5b66\\u3093\\u3060 | \\u30d5\\u30fc\\u30ea\\u30a8\\u5909\\u63db\\u306e\\u6027\\u8cea\\u3092\\u5b66\\u3093\\u3060 | \\u30d5\\u30fc\\u30ea\\u30a8\\u5909\\u63db\\u3092\\u3044\\u3063\\u305f\\u3093\\u899a\\u3048\\u308c\\u3070\\u5f8c\\u306b\\u975e\\u5e38\\u306b\\u697d\\u306b\\u306a\\u308b | \\u9006z\\u5909\\u63db\\u306e\\u65b9\\u6cd5\\u3092\\u5b66\\u3093\\u3060\",30],[41,\"fir\\u306e\\u8a2d\\u8a08\\u306b\\u306f\\u7a93\\u95a2\\u6570\\u304c\\u7528\\u3044\\u3089\\u308c\\u308b\\u624b\\u9806\\u306f\\u6b21\\u306e\\u3068\\u304a\\u308a\\u3067\\u3042\\u308b\\u2460\\u6240\\u671b\\u306e\\u632f\\u5e45\\u7279\\u6027\\u3092\\u6c42\\u3081\\u308b\\u2461\\u30a4\\u30f3\\u30d1\\u30eb\\u30b9\\u5fdc\\u7b54\\u3092\\u6c42\\u3081\\u308b\\u2462\\u7a93\\u95a2\\u6570\\u3092\\u639b\\u3051\\u5408\\u308f\\u305b\\u3066\\u6709\\u9650\\u500b\\u306e\\u30a4\\u30f3\\u30d1\\u30eb\\u30b9\\u5fdc\\u7b54\\u3092\\u53d6\\u308a\\u51fa\\u3059\\u2463\\u56e0\\u679c\\u6027\\u3092\\u6e80\\u305f\\u3059\\u3088\\u3046\\u306b\\u3059\\u308b\\u2464h | \\u30d5\\u30a3\\u30eb\\u30bf\\u306e\\u6b21\\u6570\\u304c\\u5927\\u304d\\u3044\\u307b\\u3069\\u671b\\u3080\\u5468\\u6ce2\\u6570\\u7279\\u6027\\u306b\\u8fd1\\u3065\\u304f\\u304c\\u6f14\\u7b97\\u91cf\\u304c\\u5897\\u3048\\u308b\\u3068\\u3044\\u3046\\u6b20\\u70b9\\u3082\\u3042\\u308b | \\u901a\\u904e\\u3059\\u308b\\u5468\\u6ce2\\u6570\\u5e2f\\u3092\\u5236\\u9650\\u3057\\u305f\\u30d5\\u30a3\\u30eb\\u30bf\\u306e\\u8a2d\\u8a08 | \\u76f4\\u7dda\\u4f4d\\u76f8\\u30ae\\u30d6\\u30b9\\u73fe\\u8c61 | \\u7121\\u9650\\u30a4\\u30f3\\u30d1\\u30eb\\u30b9\\u5fdc\\u7b54\",30],[42,\"\\u30d5\\u30fc\\u30ea\\u30a8\\u7d1a\\u6570\\u8868\\u73fe | \\u3042\\u3089\\u3086\\u308b\\u4fe1\\u53f7\\u306f\\u6b63\\u5f26\\u6ce2\\u3092\\u7528\\u3044\\u3066\\u8868\\u3059\\u3053\\u3068\\u304c\\u3067\\u304d\\u308b | \\u5468\\u671f\\u95a2\\u6570\\u306f\\u4e09\\u89d2\\u95a2\\u6570\\u306e\\u30d5\\u30fc\\u30ea\\u30a8\\u7d1a\\u6570\\u3067\\u8868\\u73fe\\u3067\\u304d\\u308b | \\u6b63\\u5f26\\u6ce2\\u306e\\u4ee3\\u308f\\u308a\\u306b\\u8907\\u7d20\\u6b63\\u5f26\\u6ce2\\u3092\\u7528\\u3044\\u305f\\u30d5\\u30fc\\u30ea\\u30a8\\u7d1a\\u6570\\u3092\\u8907\\u7d20\\u30d5\\u30fc\\u30ea\\u30a8\\u7d1a\\u6570\\u3068\\u3044\\u3046 | \\u76f4\\u6d41\\u6210\\u5206\\u306fa0\\u3067\\u306f\\u306a\\u304f\\u305d\\u308c\\u30922\\u3067\\u5272\\u3063\\u305f\\u5024\\u3067\\u3042\\u308b\",29],[43,\"2fm | \\u9023\\u7d9a\\u4fe1\\u53f7\\u306e\\u6a19\\u672c\\u5316\\u306e\\u7cbe\\u5ea6\\u306b\\u95a2\\u308f\\u308b\\u6a19\\u672c\\u5316\\u5b9a\\u7406\\u3084\\u30ca\\u30a4\\u30ad\\u30b9\\u30c8\\u5468\\u6ce2\\u6570\\u306a\\u3069\\u306b\\u3064\\u3044\\u3066\\u306e\\u5185\\u5bb9 | \\u30b5\\u30f3\\u30d7\\u30eb\\u5024\\u4fe1\\u53f7\\u3092\\u4f7f\\u3063\\u3066\\u6a19\\u672c\\u5316\\u5143\\u306e\\u4fe1\\u53f7\\u306e\\u5fa9\\u5143\\u3092\\u884c\\u3063\\u305f | \\u30b5\\u30f3\\u30d7\\u30eb\\u5024\\u4fe1\\u53f7\\u6a19\\u672c\\u5316\\u5b9a\\u7406\\u306b\\u3064\\u3044\\u3066\\u5b66\\u7fd2\\u3057\\u305f | \\u4fe1\\u53f7\\u306e\\u5fa9\\u5143\\u3092\\u30d5\\u30fc\\u30ea\\u30a8\\u5909\\u63db\\u9006\\u5909\\u63db\\u3092\\u3064\\u304b\\u3063\\u3066\\u304a\\u3053\\u306a\\u3046\",26],[44,\"\\u4e57\\u7b97\\u5668 | \\u4f4d\\u76f8\\u5fdc\\u7b54 | \\u632f\\u5e45\\u5fdc\\u7b54 | \\u96e2\\u6563\\u6642\\u9593\\u30b7\\u30b9\\u30c6\\u30e0\\u306f\\u52a0\\u7b97\\u5668 | \\u4f1d\\u9054\\u95a2\\u6570\\u306ez\\u306be\",26],[45,\"\\u53ef\\u8996\\u5316\\u306e\\u7a2e\\u985e | \\u53ef\\u8996\\u5316\\u306b\\u3064\\u3044\\u3066 | \\u53ef\\u8996\\u5316\\u3068\\u305d\\u306e\\u624b\\u6cd5 | \\u53ef\\u8996\\u5316\\u3068\\u306f\\u4f55\\u304b\\u3084\\u3044\\u308d\\u3044\\u308d\\u306a\\u53ef\\u8996\\u5316\\u624b\\u6cd5\\u306b\\u3064\\u3044\\u3066\\u5b66\\u3093\\u3060 | \\u53ef\\u8996\\u5316\\u3068\\u306f\\u4f55\\u304b\",24],[46,\"\\u7814\\u7a76\\u502b\\u7406\\u60c5\\u5831\\u502b\\u7406\\u306b\\u3064\\u3044\\u3066 | \\u7814\\u7a76\\u306b\\u304a\\u3044\\u3066\\u306e\\u30de\\u30ca\\u30fc\\u7684\\u306a\\u3082\\u306e | \\u7814\\u7a76\\u306b\\u304a\\u3051\\u308b\\u4e0d\\u6b63\\u3084\\u60c5\\u5831\\u306e\\u502b\\u7406 | \\u7814\\u7a76\\u502b\\u7406\\u3068\\u60c5\\u5831\\u502b\\u7406\\u306b\\u3064\\u3044\\u3066\\u5b66\\u3093\\u3060\\u7814\\u7a76\\u306f\\u30ac\\u30a4\\u30c9\\u30e9\\u30a4\\u30f3\\u3084\\u898f\\u5247\\u306b\\u5f93\\u3063\\u3066\\u8aa0\\u5b9f\\u306b\\u884c\\u308f\\u306a\\u3044\\u3068\\u3044\\u3051\\u306a\\u3044\\u60c5\\u5831\\u502b\\u7406\\u306f\\u60c5\\u5831\\u3092\\u7528\\u3044\\u305f\\u793e\\u4f1a\\u5f62\\u6210\\u306b\\u5fc5\\u8981\\u3068\\u3055\\u308c\\u308b\\u4e00\\u822c\\u7684\\u306a\\u884c\\u52d5\\u898f\\u7bc4\\u306e\\u3053\\u3068\\u3067\\u3042\\u308b | \\u7814\\u7a76\\u4e0d\\u6b63\\u3068\\u306f\\u3069\\u306e\\u3088\\u3046\\u306a\\u3082\\u306e\\u3067\\u3069\\u3093\\u306a\\u5bfe\\u7b56\\u304c\\u884c\\u308f\\u308c\\u3066\\u3044\\u308b\\u304b\\u3084\\u60c5\\u5831\\u502b\\u7406\\u306b\\u3064\\u3044\\u3066\",21],[47,\"\\u5dee\\u5206\\u65b9\\u7a0b\\u5f0f | \\u30a4\\u30f3\\u30d1\\u30eb\\u30b9\\u5fdc\\u7b54\\u4f1d\\u9054\\u95a2\\u6570\\u3068\\u305d\\u306e\\u8a08\\u7b97\\u306e\\u624b\\u6cd5 | \\u30a4\\u30f3\\u30d1\\u30eb\\u30b9\\u5fdc\\u7b54\\u4f1d\\u9054\\u95a2\\u6570\\u306a\\u3069\\u306b\\u3064\\u3044\\u3066 | \\u5dee\\u5206\\u65b9\\u7a0b\\u5f0f\\u306b\\u3064\\u3044\\u3066\\u5b66\\u3093\\u3060 | \\u5dee\\u5206\\u65b9\\u7a0b\\u5f0f\\u306b\\u3064\\u3044\\u3066\",21],[48,\"\\u6388\\u696d\\u306e\\u30ac\\u30a4\\u30c0\\u30f3\\u30b9 | \\u4eca\\u5f8c\\u306e\\u6388\\u696d\\u306e\\u305f\\u3081\\u306e\\u30ac\\u30a4\\u30c0\\u30f3\\u30b9 | \\u4eca\\u5f8c\\u306e\\u8b1b\\u7fa9\\u5185\\u5bb9\\u306b\\u3064\\u3044\\u3066\\u306e\\u8aac\\u660e | \\u8b1b\\u7fa9\\u3092\\u53d7\\u3051\\u308b\\u4e0a\\u3067\\u306e\\u6ce8\\u610f\\u4e8b\\u9805 | \\u8b1b\\u7fa9\\u306e\\u8aac\\u660e\",20],[49,\"\\u76f8\\u95a2\\u306b\\u3064\\u3044\\u3066 | \\u691c\\u5b9a\\u3068\\u753b\\u50cf\\u51e6\\u7406\\u306b\\u3064\\u3044\\u3066\\u5b66\\u3093\\u3060 | \\u691c\\u5b9a\\u3068\\u753b\\u50cf\\u306b\\u3064\\u3044\\u3066\\u306e\\u6388\\u696d\\u3060\\u3063\\u305f | \\u76f8\\u95a2\\u306b\\u3064\\u3044\\u3066\\u306e\\u8b1b\\u7fa9\\u3092\\u53d7\\u3051\\u305f\\u753b\\u50cf\\u3092\\u5229\\u7528\\u3059\\u308b\\u306e\\u306b\\u3069\\u3046\\u3044\\u3063\\u305f\\u4e8b\\u4f8b\\u304c\\u3042\\u308b\\u306e\\u304b\\u307e\\u305f\\u30d5\\u30a3\\u30eb\\u30bf\\u51e6\\u7406\\u30842\\u5024\\u5316\\u76f8\\u95a2\\u306e\\u5229\\u7528\\u4f8b\\u5206\\u5e03\\u304b\\u3089\\u308f\\u304b\\u308b\\u3053\\u3068\\u7d71\\u8a08\\u7684\\u691c\\u5b9a\\u306b\\u3064\\u3044\\u3066\\u5b66\\u3073\\u6570\\u5b66\\u3068\\u60c5\\u5831\\u79d1\\u5b66\\u304c\\u5927\\u3044\\u306b\\u95a2\\u4fc2\\u3057\\u3066\\u3044\\u308b\\u3053\\u3068\\u304c\\u518d\\u78ba\\u8a8d\\u3067\\u304d\\u305f | \\u753b\\u50cf\\u89e3\\u6790\\u30d5\\u30a3\\u30eb\\u30bf\\u51e6\\u7406\\u76f8\\u95a2\\u7d71\\u8a08\\u7684\\u691c\\u5b9a\\u306b\\u3064\\u3044\\u3066\",19],[50,\"\\u9006z\\u5909\\u63db | \\u9006z\\u5909\\u63db\\u306b\\u3064\\u3044\\u3066 | \\u9006z\\u5909\\u63db\\u306e\\u6c42\\u3081\\u65b9\\u306b\\u95a2\\u3057\\u3066\\u306e\\u8b1b\\u7fa9 | \\u9006z\\u5909\\u63db\\u306e\\u6c42\\u3081\\u65b9 | \\u9006z\\u5909\\u63db\\u306e\\u5c0e\\u5165\",18],[51,\"\\u3053\\u308c\\u3089\\u4e8c\\u3064\\u306f\\u76f8\\u540c\\u6027\\u691c\\u7d22\\u30af\\u30e9\\u30b9\\u30bf\\u30ea\\u30f3\\u30b0\\u7cfb\\u7d71\\u5206\\u96e2\\u5224\\u5b9a\\u7570\\u5e38\\u691c\\u77e5\\u306a\\u3069\\u306b\\u4f7f\\u308f\\u308c\\u3066\\u3044\\u308b\\u7d9a\\u3044\\u3066\\u306f\\u30c7\\u30fc\\u30bf\\u9593\\u306e\\u8ddd\\u96e2\\u306b\\u3064\\u3044\\u3066\\u3060\\u3053\\u308c\\u306f2\\u30c7\\u30fc\\u30bf\\u304c\\u3069\\u308c\\u304f\\u3089\\u3044\\u96e2\\u308c\\u308b\\u304b\\u3092\\u8868\\u3059\\u3082\\u3063\\u3068\\u3082\\u4ee3\\u8868\\u7684\\u306a\\u8ddd\\u96e2\\u306f\\u30e6\\u30fc\\u30af\\u30ea\\u30c3\\u30c9\\u8ddd\\u96e2\\u3067\\u3042\\u308a\\u4e09\\u5e73\\u65b9\\u306e\\u5b9a\\u7406\\u3092\\u7528\\u3044\\u3066\\u8868\\u3059\\u307e\\u305f\\u3053\\u308c\\u306fn\\u6b21\\u5143\\u306en\\u304c\\u5897\\u3048\\u7d9a\\u3051\\u3066\\u8868\\u3059\\u3053\\u3068\\u304c\\u3067\\u304d\\u308b | \\u30d9\\u30af\\u30c8\\u30eb\\u306e\\u5b9a\\u7fa9\\u3068\\u30c7\\u30fc\\u30bf\\u5206\\u6790\\u306b\\u304a\\u3051\\u308b\\u30d9\\u30af\\u30c8\\u30eb\\u306e\\u4f7f\\u7528\\u65b9\\u6cd5 | \\u307e\\u305f\\u6570\\u5b66\\u306e\\u96c6\\u5408\\u306e\\u985e\\u4f3c\\u5ea6\\u306e\\u3053\\u3068\\u3067\\u3069\\u308c\\u304f\\u3089\\u3044\\u5171\\u901a\\u3057\\u3066\\u3044\\u308b\\u304b\\u3092\\u8868\\u3057\\u3066\\u3044\\u308b\\u3053\\u3068\\u3092jaccard\\u4fc2\\u6570\\u3068\\u3044\\u3046\\u65b9\\u5411\\u6027\\u306e\\u985e\\u4f3c\\u5ea6\\u3092\\u6e2c\\u308b\\u65b9\\u6cd5\\u3092\\u30b3\\u30b5\\u30a4\\u30f3\\u985e\\u4f3c\\u5ea6\\u3068\\u3044\\u3046 | \\u30c7\\u30fc\\u30bf\\u3092\\u6271\\u3046\\u969b\\u30d9\\u30af\\u30c8\\u30eb\\u3084\\u7dda\\u5f62\\u4ee3\\u6570\\u3092\\u7528\\u3044\\u308b\\u3053\\u3068\\u3067\\u52b9\\u7387\\u7684\\u306b\\u8868\\u73fe\\u3067\\u304d\\u308b | \\u30c7\\u30fc\\u30bf\\u540c\\u58eb\\u304c\\u3069\\u306e\\u7a0b\\u5ea6\\u4f3c\\u3066\\u3044\\u308b\\u304b\\u3068\\u3044\\u3046\\u3082\\u306e\\u3092\\u69d8\\u3005\\u306a\\u5358\\u4f4d\\u3067\\u8868\\u3057\\u3066\\u3044\\u304f\\u65b9\\u6cd5\",16],[52,\"\\u6a19\\u672c\\u5316\\u5b9a\\u7406\\u306b\\u3064\\u3044\\u3066\\u5b66\\u7fd2\\u3057\\u305f | \\u30b5\\u30f3\\u30d7\\u30ea\\u30f3\\u30b0\\u4fe1\\u53f7\\u6a19\\u672c\\u5316\\u5b9a\\u7406\\u6a19\\u672c\\u5316\\u5b9a\\u7406\\u306e\\u5148\\u306e\\u5c0e\\u51fa\\u30a8\\u30a4\\u30ea\\u30a2\\u30b7\\u30f3\\u30b0\\u30a2\\u30f3\\u30c1\\u30a8\\u30a4\\u30ea\\u30a2\\u30b9\\u30d5\\u30a3\\u30eb\\u30bf\\u306b\\u3064\\u3044\\u3066\\u5b66\\u3093\\u3060 | \\u6a19\\u672c\\u5316\\u5b9a\\u7406\\u306e\\u8aac\\u660e\\u3068\\u305d\\u306e\\u6761\\u4ef6\\u306b\\u3064\\u3044\\u3066\\u5b66\\u3093\\u3060 | \\u6a19\\u672c\\u5316\\u5b9a\\u7406\\u306e\\u6761\\u4ef6\\u306b\\u3064\\u3044\\u3066\\u5b66\\u3093\\u3060 | \\u6a19\\u672c\\u5316\\u5b9a\\u7406\\u306e\\u5c0e\\u51fa\\u4f7f\\u3044\\u65b9\\u539f\\u7406\\u306b\\u3064\\u3044\\u3066\\u5b66\\u3093\\u3060\",15],[53,\"\\u69d8\\u3005\\u306a\\u8ddd\\u96e2 | \\u8ddd\\u96e2\\u3068\\u985e\\u4f3c\\u5ea6 | \\u30d9\\u30af\\u30c8\\u30eb\\u8ddd\\u96e2\\u985e\\u4f3c\\u5ea6 | \\u30d9\\u30af\\u30c8\\u30eb\\u3068\\u306f | \\u30d9\\u30af\\u30c8\\u30eb\\u3084\\u8ddd\\u96e2\\u3084\\u985e\\u4f3c\\u5ea6\\u304c\\u3069\\u306e\\u3088\\u3046\\u306a\\u3082\\u306e\\u304b\",14],[54,\"\\u30d2\\u30fc\\u30d7\\u30bd\\u30fc\\u30c8\\u3068\\u30de\\u30fc\\u30b8\\u30bd\\u30fc\\u30c8\\u306b\\u3064\\u3044\\u3066 | \\u30de\\u30fc\\u30b8\\u30bd\\u30fc\\u30c8\\u306e\\u6982\\u8981\\u5177\\u4f53\\u4f8b\\u306e\\u8aac\\u660e | \\u30d2\\u30fc\\u30d7\\u30bd\\u30fc\\u30c8\\u3068\\u30de\\u30fc\\u30b8\\u30bd\\u30fc\\u30c8 | \\u30d9\\u30af\\u30c8\\u30eb\\u306e\\u6982\\u5ff5\\u306e\\u62e1\\u5f35 | \\u30d2\\u30fc\\u30d7\\u30bd\\u30fc\\u30c8\\u30de\\u30fc\\u30b8\\u30bd\\u30fc\\u30c8\\u306b\\u3064\\u3044\\u3066\\u77e5\\u308b\",14],[55,\"\\u306e\\u5468\\u671f\\u95a2\\u6570\\u3067\\u3042\\u308b\\u3068\\u89e3\\u91c8\\u3059\\u308b\\u3053\\u3068\\u3067\\u30d5\\u30fc\\u30ea\\u30a8\\u5909\\u63db\\u3059\\u308b\\u30d5\\u30fc\\u30ea\\u30a8\\u5909\\u63db\\u3055\\u308c\\u305f\\u95a2\\u6570\\u3092\\u5143\\u306e\\u95a2\\u6570\\u306b\\u623b\\u3059\\u3053\\u3068\\u3092\\u30d5\\u30fc\\u30ea\\u30a8\\u9006\\u5909\\u63db\\u3068\\u3044\\u3046\\u30d5\\u30fc\\u30ea\\u30a8\\u5909\\u63db\\u306b\\u306f\\u69d8\\u3005\\u306a\\u6027\\u8cea\\u304c\\u3042\\u308a\\u305d\\u306e\\u6027\\u8cea\\u3092\\u5229\\u7528\\u3059\\u308b\\u3053\\u3068\\u3067\\u8a08\\u7b97\\u3057\\u3084\\u3059\\u304f\\u306a\\u308b\\u3053\\u3068\\u304c\\u3042\\u308b\\u5358\\u4f4d\\u30a4\\u30f3\\u30d1\\u30eb\\u30b9\\u95a2\\u6570\\u5358\\u4f4d\\u30b9\\u30c6\\u30c3\\u30d7\\u95a2\\u6570\\u3068\\u3044\\u3063\\u305f\\u7279\\u6b8a\\u306a\\u95a2\\u6570\\u304c\\u3042\\u308a\\u30d5\\u30fc\\u30ea\\u30a8\\u5909\\u63db\\u3059\\u308b\\u3053\\u3068\\u3067\\u3053\\u308c\\u3089\\u306e\\u5dfb\\u6570\\u304c\\u51fa\\u3066\\u304f\\u308b\\u5834\\u5408\\u304c\\u3042\\u308b | \\u975e\\u5468\\u671f\\u95a2\\u6570\\u3082\\u30d5\\u30fc\\u30ea\\u30a8\\u5909\\u63db\\u3059\\u308b\\u3053\\u3068\\u304c\\u51fa\\u6765\\u308b\\u307e\\u305f\\u30d5\\u30fc\\u30ea\\u30a8\\u5909\\u63db\\u3068\\u5bfe\\u306b\\u306a\\u308b\\u9006\\u30d5\\u30fc\\u30ea\\u30a8\\u5909\\u63db\\u306a\\u308b\\u3082\\u306e\\u304c\\u5b58\\u5728\\u3059\\u308b | \\u975e\\u5468\\u671f\\u95a2\\u6570\\u307e\\u3067\\u542b\\u3081\\u305f\\u4e00\\u822c\\u7684\\u306a\\u30d5\\u30fc\\u30ea\\u30a8\\u5909\\u63db\\u3068\\u305d\\u306e\\u6027\\u8cea\\u306b\\u3064\\u3044\\u3066 | \\u975e\\u5468\\u671f\\u95a2\\u6570\\u306e\\u30d5\\u30fc\\u30ea\\u30a8\\u7d1a\\u6570\\u304b\\u3089\\u30d5\\u30fc\\u30ea\\u30a8\\u5909\\u63db\\u3092\\u5b66\\u3093\\u3060 | \\u975e\\u5468\\u671f\\u95a2\\u6570\\u306b\\u9069\\u7528\",13],[56,\"\\u8b66\\u6212\\u304c\\u5927\\u4e8b | ict\\u793e\\u4f1a\\u3067\\u751f\\u304d\\u629c\\u304f\\u305f\\u3081\\u306b | ict\\u74b0\\u5883\\u306b\\u304a\\u3051\\u308b\\u8105\\u5a01\\u3068\\u305d\\u306e\\u5bfe\\u7b56 | ict\\u6280\\u8853\\u306f\\u30c6\\u30af\\u30cb\\u30c3\\u30af\\u3092\\u4f7f\\u308f\\u306a\\u304f\\u3066\\u3082\\u653b\\u6483\\u3055\\u308c\\u308b\\u53ef\\u80fd\\u6027\\u304c\\u3042\\u308b | ict\\u6280\\u8853\\u3067\\u306f\\u306a\\u304f\\u305d\\u308c\\u3092\\u4f7f\\u3046\\u4eba\\u9593\\u5074\\u306b\\u5bfe\\u3059\\u308b\\u653b\\u6483\\u3084\\u653b\\u6483\\u3055\\u308c\\u308b\\u30ea\\u30b9\\u30af\\u304c\\u3069\\u3053\\u306b\\u3042\\u308b\\u304b\\u306b\\u3064\\u3044\\u3066\",13],[57,\"\\u7df4\\u7fd2\\u554f\\u984c\\u3084\\u8ab2\\u984c\\u306e\\u89e3\\u8aac\\u30d2\\u30fc\\u30d7\\u30bd\\u30fc\\u30c8\\u306e\\u5fa9\\u7fd2\\u30de\\u30fc\\u30b8\\u30bd\\u30fc\\u30c8 | \\u7b2c1\\u56de7\\u56de\\u306e\\u632f\\u308a\\u8fd4\\u308a | \\u6f14\\u7fd2\\u306e\\u89e3\\u8aac | \\u524d\\u56de\\u306e\\u6f14\\u7fd2\\u8ab2\\u984c\\u306e\\u89e3\\u8aac\\u3068\\u30ec\\u30dd\\u30fc\\u30c8\\u306e\\u8aac\\u660e | \\u4eca\\u307e\\u3067\\u306e\\u8b1b\\u7fa9\\u306e\\u632f\\u308a\\u8fd4\\u308a\\u5fa9\\u7fd2\\u3092\\u884c\\u3063\\u305f\",13]],\"hovertemplate\":\"\\u003cb\\u003eTopic %{customdata[0]}\\u003c\\u002fb\\u003e\\u003cbr\\u003e%{customdata[1]}\\u003cbr\\u003eSize: %{customdata[2]}\",\"legendgroup\":\"\",\"marker\":{\"color\":\"#B0BEC5\",\"size\":[323,310,289,257,252,228,228,219,217,174,165,162,159,145,139,123,119,115,107,101,96,89,75,62,58,56,54,52,50,50,43,41,38,38,38,35,33,32,31,31,30,30,29,26,26,24,21,21,20,19,18,16,15,14,14,13,13,13],\"sizemode\":\"area\",\"sizeref\":0.201875,\"symbol\":\"circle\",\"line\":{\"color\":\"DarkSlateGrey\",\"width\":2}},\"mode\":\"markers\",\"name\":\"\",\"orientation\":\"v\",\"showlegend\":false,\"x\":[13.170845031738281,11.281902313232422,12.162956237792969,-8.99600887298584,-8.971173286437988,16.79869270324707,-8.921772956848145,16.9918155670166,-15.001845359802246,-8.93028736114502,-6.177812576293945,1.9477607011795044,4.602962017059326,16.52326011657715,13.174126625061035,16.680442810058594,9.945527076721191,-17.379772186279297,-17.992778778076172,8.336187362670898,-18.026233673095703,4.376685619354248,12.054309844970703,17.12838363647461,-3.4722137451171875,9.618727684020996,2.0340425968170166,4.557151794433594,16.695995330810547,16.629985809326172,12.0735445022583,17.143211364746094,-14.933633804321289,8.360976219177246,8.466394424438477,7.473752498626709,-14.902226448059082,-3.471837043762207,9.439911842346191,7.410731792449951,-17.414688110351562,-17.953189849853516,-18.188289642333984,9.94556999206543,2.09012770652771,16.57442855834961,17.0335636138916,4.7092132568359375,4.583890914916992,9.617165565490723,-8.94391918182373,-6.276501178741455,9.46970272064209,-6.113540172576904,7.6327056884765625,-17.49958038330078,11.280451774597168,4.397669792175293],\"xaxis\":\"x\",\"y\":[12.757362365722656,-5.3367695808410645,8.601153373718262,3.8584346771240234,3.8336410522460938,-5.924490928649902,18.855592727661133,-6.1400861740112305,4.075081825256348,3.792659282684326,-2.359649896621704,-4.778483867645264,3.6765995025634766,-5.276393413543701,12.755693435668945,-6.020280361175537,0.9381282925605774,14.643803596496582,14.598153114318848,18.296613693237305,14.800963401794434,4.991152763366699,8.492687225341797,12.009929656982422,16.014646530151367,-9.533649444580078,-4.692303657531738,3.723673105239868,-5.03631591796875,-5.660254001617432,8.511507987976074,11.996121406555176,4.143509387969971,18.27164077758789,18.165782928466797,21.174179077148438,4.174921035766602,16.01462745666504,5.005285739898682,21.237871170043945,14.601791381835938,15.05965805053711,14.633305549621582,0.9381922483444214,-4.636275768280029,-5.019433498382568,12.105324745178223,3.5702998638153076,5.194636821746826,-9.534067153930664,18.827844619750977,-2.458106279373169,5.034809589385986,-2.2954351902008057,21.013452529907227,14.547099113464355,-5.336363315582275,5.028919219970703],\"yaxis\":\"y\",\"type\":\"scatter\"}],                        {\"template\":{\"data\":{\"barpolar\":[{\"marker\":{\"line\":{\"color\":\"white\",\"width\":0.5},\"pattern\":{\"fillmode\":\"overlay\",\"size\":10,\"solidity\":0.2}},\"type\":\"barpolar\"}],\"bar\":[{\"error_x\":{\"color\":\"rgb(36,36,36)\"},\"error_y\":{\"color\":\"rgb(36,36,36)\"},\"marker\":{\"line\":{\"color\":\"white\",\"width\":0.5},\"pattern\":{\"fillmode\":\"overlay\",\"size\":10,\"solidity\":0.2}},\"type\":\"bar\"}],\"carpet\":[{\"aaxis\":{\"endlinecolor\":\"rgb(36,36,36)\",\"gridcolor\":\"white\",\"linecolor\":\"white\",\"minorgridcolor\":\"white\",\"startlinecolor\":\"rgb(36,36,36)\"},\"baxis\":{\"endlinecolor\":\"rgb(36,36,36)\",\"gridcolor\":\"white\",\"linecolor\":\"white\",\"minorgridcolor\":\"white\",\"startlinecolor\":\"rgb(36,36,36)\"},\"type\":\"carpet\"}],\"choropleth\":[{\"colorbar\":{\"outlinewidth\":1,\"tickcolor\":\"rgb(36,36,36)\",\"ticks\":\"outside\"},\"type\":\"choropleth\"}],\"contourcarpet\":[{\"colorbar\":{\"outlinewidth\":1,\"tickcolor\":\"rgb(36,36,36)\",\"ticks\":\"outside\"},\"type\":\"contourcarpet\"}],\"contour\":[{\"colorbar\":{\"outlinewidth\":1,\"tickcolor\":\"rgb(36,36,36)\",\"ticks\":\"outside\"},\"colorscale\":[[0.0,\"#440154\"],[0.1111111111111111,\"#482878\"],[0.2222222222222222,\"#3e4989\"],[0.3333333333333333,\"#31688e\"],[0.4444444444444444,\"#26828e\"],[0.5555555555555556,\"#1f9e89\"],[0.6666666666666666,\"#35b779\"],[0.7777777777777778,\"#6ece58\"],[0.8888888888888888,\"#b5de2b\"],[1.0,\"#fde725\"]],\"type\":\"contour\"}],\"heatmapgl\":[{\"colorbar\":{\"outlinewidth\":1,\"tickcolor\":\"rgb(36,36,36)\",\"ticks\":\"outside\"},\"colorscale\":[[0.0,\"#440154\"],[0.1111111111111111,\"#482878\"],[0.2222222222222222,\"#3e4989\"],[0.3333333333333333,\"#31688e\"],[0.4444444444444444,\"#26828e\"],[0.5555555555555556,\"#1f9e89\"],[0.6666666666666666,\"#35b779\"],[0.7777777777777778,\"#6ece58\"],[0.8888888888888888,\"#b5de2b\"],[1.0,\"#fde725\"]],\"type\":\"heatmapgl\"}],\"heatmap\":[{\"colorbar\":{\"outlinewidth\":1,\"tickcolor\":\"rgb(36,36,36)\",\"ticks\":\"outside\"},\"colorscale\":[[0.0,\"#440154\"],[0.1111111111111111,\"#482878\"],[0.2222222222222222,\"#3e4989\"],[0.3333333333333333,\"#31688e\"],[0.4444444444444444,\"#26828e\"],[0.5555555555555556,\"#1f9e89\"],[0.6666666666666666,\"#35b779\"],[0.7777777777777778,\"#6ece58\"],[0.8888888888888888,\"#b5de2b\"],[1.0,\"#fde725\"]],\"type\":\"heatmap\"}],\"histogram2dcontour\":[{\"colorbar\":{\"outlinewidth\":1,\"tickcolor\":\"rgb(36,36,36)\",\"ticks\":\"outside\"},\"colorscale\":[[0.0,\"#440154\"],[0.1111111111111111,\"#482878\"],[0.2222222222222222,\"#3e4989\"],[0.3333333333333333,\"#31688e\"],[0.4444444444444444,\"#26828e\"],[0.5555555555555556,\"#1f9e89\"],[0.6666666666666666,\"#35b779\"],[0.7777777777777778,\"#6ece58\"],[0.8888888888888888,\"#b5de2b\"],[1.0,\"#fde725\"]],\"type\":\"histogram2dcontour\"}],\"histogram2d\":[{\"colorbar\":{\"outlinewidth\":1,\"tickcolor\":\"rgb(36,36,36)\",\"ticks\":\"outside\"},\"colorscale\":[[0.0,\"#440154\"],[0.1111111111111111,\"#482878\"],[0.2222222222222222,\"#3e4989\"],[0.3333333333333333,\"#31688e\"],[0.4444444444444444,\"#26828e\"],[0.5555555555555556,\"#1f9e89\"],[0.6666666666666666,\"#35b779\"],[0.7777777777777778,\"#6ece58\"],[0.8888888888888888,\"#b5de2b\"],[1.0,\"#fde725\"]],\"type\":\"histogram2d\"}],\"histogram\":[{\"marker\":{\"line\":{\"color\":\"white\",\"width\":0.6}},\"type\":\"histogram\"}],\"mesh3d\":[{\"colorbar\":{\"outlinewidth\":1,\"tickcolor\":\"rgb(36,36,36)\",\"ticks\":\"outside\"},\"type\":\"mesh3d\"}],\"parcoords\":[{\"line\":{\"colorbar\":{\"outlinewidth\":1,\"tickcolor\":\"rgb(36,36,36)\",\"ticks\":\"outside\"}},\"type\":\"parcoords\"}],\"pie\":[{\"automargin\":true,\"type\":\"pie\"}],\"scatter3d\":[{\"line\":{\"colorbar\":{\"outlinewidth\":1,\"tickcolor\":\"rgb(36,36,36)\",\"ticks\":\"outside\"}},\"marker\":{\"colorbar\":{\"outlinewidth\":1,\"tickcolor\":\"rgb(36,36,36)\",\"ticks\":\"outside\"}},\"type\":\"scatter3d\"}],\"scattercarpet\":[{\"marker\":{\"colorbar\":{\"outlinewidth\":1,\"tickcolor\":\"rgb(36,36,36)\",\"ticks\":\"outside\"}},\"type\":\"scattercarpet\"}],\"scattergeo\":[{\"marker\":{\"colorbar\":{\"outlinewidth\":1,\"tickcolor\":\"rgb(36,36,36)\",\"ticks\":\"outside\"}},\"type\":\"scattergeo\"}],\"scattergl\":[{\"marker\":{\"colorbar\":{\"outlinewidth\":1,\"tickcolor\":\"rgb(36,36,36)\",\"ticks\":\"outside\"}},\"type\":\"scattergl\"}],\"scattermapbox\":[{\"marker\":{\"colorbar\":{\"outlinewidth\":1,\"tickcolor\":\"rgb(36,36,36)\",\"ticks\":\"outside\"}},\"type\":\"scattermapbox\"}],\"scatterpolargl\":[{\"marker\":{\"colorbar\":{\"outlinewidth\":1,\"tickcolor\":\"rgb(36,36,36)\",\"ticks\":\"outside\"}},\"type\":\"scatterpolargl\"}],\"scatterpolar\":[{\"marker\":{\"colorbar\":{\"outlinewidth\":1,\"tickcolor\":\"rgb(36,36,36)\",\"ticks\":\"outside\"}},\"type\":\"scatterpolar\"}],\"scatter\":[{\"fillpattern\":{\"fillmode\":\"overlay\",\"size\":10,\"solidity\":0.2},\"type\":\"scatter\"}],\"scatterternary\":[{\"marker\":{\"colorbar\":{\"outlinewidth\":1,\"tickcolor\":\"rgb(36,36,36)\",\"ticks\":\"outside\"}},\"type\":\"scatterternary\"}],\"surface\":[{\"colorbar\":{\"outlinewidth\":1,\"tickcolor\":\"rgb(36,36,36)\",\"ticks\":\"outside\"},\"colorscale\":[[0.0,\"#440154\"],[0.1111111111111111,\"#482878\"],[0.2222222222222222,\"#3e4989\"],[0.3333333333333333,\"#31688e\"],[0.4444444444444444,\"#26828e\"],[0.5555555555555556,\"#1f9e89\"],[0.6666666666666666,\"#35b779\"],[0.7777777777777778,\"#6ece58\"],[0.8888888888888888,\"#b5de2b\"],[1.0,\"#fde725\"]],\"type\":\"surface\"}],\"table\":[{\"cells\":{\"fill\":{\"color\":\"rgb(237,237,237)\"},\"line\":{\"color\":\"white\"}},\"header\":{\"fill\":{\"color\":\"rgb(217,217,217)\"},\"line\":{\"color\":\"white\"}},\"type\":\"table\"}]},\"layout\":{\"annotationdefaults\":{\"arrowhead\":0,\"arrowwidth\":1},\"autotypenumbers\":\"strict\",\"coloraxis\":{\"colorbar\":{\"outlinewidth\":1,\"tickcolor\":\"rgb(36,36,36)\",\"ticks\":\"outside\"}},\"colorscale\":{\"diverging\":[[0.0,\"rgb(103,0,31)\"],[0.1,\"rgb(178,24,43)\"],[0.2,\"rgb(214,96,77)\"],[0.3,\"rgb(244,165,130)\"],[0.4,\"rgb(253,219,199)\"],[0.5,\"rgb(247,247,247)\"],[0.6,\"rgb(209,229,240)\"],[0.7,\"rgb(146,197,222)\"],[0.8,\"rgb(67,147,195)\"],[0.9,\"rgb(33,102,172)\"],[1.0,\"rgb(5,48,97)\"]],\"sequential\":[[0.0,\"#440154\"],[0.1111111111111111,\"#482878\"],[0.2222222222222222,\"#3e4989\"],[0.3333333333333333,\"#31688e\"],[0.4444444444444444,\"#26828e\"],[0.5555555555555556,\"#1f9e89\"],[0.6666666666666666,\"#35b779\"],[0.7777777777777778,\"#6ece58\"],[0.8888888888888888,\"#b5de2b\"],[1.0,\"#fde725\"]],\"sequentialminus\":[[0.0,\"#440154\"],[0.1111111111111111,\"#482878\"],[0.2222222222222222,\"#3e4989\"],[0.3333333333333333,\"#31688e\"],[0.4444444444444444,\"#26828e\"],[0.5555555555555556,\"#1f9e89\"],[0.6666666666666666,\"#35b779\"],[0.7777777777777778,\"#6ece58\"],[0.8888888888888888,\"#b5de2b\"],[1.0,\"#fde725\"]]},\"colorway\":[\"#1F77B4\",\"#FF7F0E\",\"#2CA02C\",\"#D62728\",\"#9467BD\",\"#8C564B\",\"#E377C2\",\"#7F7F7F\",\"#BCBD22\",\"#17BECF\"],\"font\":{\"color\":\"rgb(36,36,36)\"},\"geo\":{\"bgcolor\":\"white\",\"lakecolor\":\"white\",\"landcolor\":\"white\",\"showlakes\":true,\"showland\":true,\"subunitcolor\":\"white\"},\"hoverlabel\":{\"align\":\"left\"},\"hovermode\":\"closest\",\"mapbox\":{\"style\":\"light\"},\"paper_bgcolor\":\"white\",\"plot_bgcolor\":\"white\",\"polar\":{\"angularaxis\":{\"gridcolor\":\"rgb(232,232,232)\",\"linecolor\":\"rgb(36,36,36)\",\"showgrid\":false,\"showline\":true,\"ticks\":\"outside\"},\"bgcolor\":\"white\",\"radialaxis\":{\"gridcolor\":\"rgb(232,232,232)\",\"linecolor\":\"rgb(36,36,36)\",\"showgrid\":false,\"showline\":true,\"ticks\":\"outside\"}},\"scene\":{\"xaxis\":{\"backgroundcolor\":\"white\",\"gridcolor\":\"rgb(232,232,232)\",\"gridwidth\":2,\"linecolor\":\"rgb(36,36,36)\",\"showbackground\":true,\"showgrid\":false,\"showline\":true,\"ticks\":\"outside\",\"zeroline\":false,\"zerolinecolor\":\"rgb(36,36,36)\"},\"yaxis\":{\"backgroundcolor\":\"white\",\"gridcolor\":\"rgb(232,232,232)\",\"gridwidth\":2,\"linecolor\":\"rgb(36,36,36)\",\"showbackground\":true,\"showgrid\":false,\"showline\":true,\"ticks\":\"outside\",\"zeroline\":false,\"zerolinecolor\":\"rgb(36,36,36)\"},\"zaxis\":{\"backgroundcolor\":\"white\",\"gridcolor\":\"rgb(232,232,232)\",\"gridwidth\":2,\"linecolor\":\"rgb(36,36,36)\",\"showbackground\":true,\"showgrid\":false,\"showline\":true,\"ticks\":\"outside\",\"zeroline\":false,\"zerolinecolor\":\"rgb(36,36,36)\"}},\"shapedefaults\":{\"fillcolor\":\"black\",\"line\":{\"width\":0},\"opacity\":0.3},\"ternary\":{\"aaxis\":{\"gridcolor\":\"rgb(232,232,232)\",\"linecolor\":\"rgb(36,36,36)\",\"showgrid\":false,\"showline\":true,\"ticks\":\"outside\"},\"baxis\":{\"gridcolor\":\"rgb(232,232,232)\",\"linecolor\":\"rgb(36,36,36)\",\"showgrid\":false,\"showline\":true,\"ticks\":\"outside\"},\"bgcolor\":\"white\",\"caxis\":{\"gridcolor\":\"rgb(232,232,232)\",\"linecolor\":\"rgb(36,36,36)\",\"showgrid\":false,\"showline\":true,\"ticks\":\"outside\"}},\"title\":{\"x\":0.05},\"xaxis\":{\"automargin\":true,\"gridcolor\":\"rgb(232,232,232)\",\"linecolor\":\"rgb(36,36,36)\",\"showgrid\":false,\"showline\":true,\"ticks\":\"outside\",\"title\":{\"standoff\":15},\"zeroline\":false,\"zerolinecolor\":\"rgb(36,36,36)\"},\"yaxis\":{\"automargin\":true,\"gridcolor\":\"rgb(232,232,232)\",\"linecolor\":\"rgb(36,36,36)\",\"showgrid\":false,\"showline\":true,\"ticks\":\"outside\",\"title\":{\"standoff\":15},\"zeroline\":false,\"zerolinecolor\":\"rgb(36,36,36)\"}}},\"xaxis\":{\"anchor\":\"y\",\"domain\":[0.0,1.0],\"title\":{\"text\":\"\"},\"visible\":false,\"range\":[-20.916533088684083,19.714693069458008]},\"yaxis\":{\"anchor\":\"x\",\"domain\":[0.0,1.0],\"title\":{\"text\":\"\"},\"visible\":false,\"range\":[-10.964177227020263,24.423551845550538]},\"legend\":{\"tracegroupgap\":0,\"itemsizing\":\"constant\"},\"margin\":{\"t\":60},\"title\":{\"font\":{\"size\":22,\"color\":\"Black\"},\"text\":\"\\u003cb\\u003eIntertopic Distance Map\\u003c\\u002fb\\u003e\",\"y\":0.95,\"x\":0.5,\"xanchor\":\"center\",\"yanchor\":\"top\"},\"hoverlabel\":{\"font\":{\"size\":16,\"family\":\"Rockwell\"},\"bgcolor\":\"white\"},\"width\":650,\"height\":650,\"sliders\":[{\"active\":0,\"pad\":{\"t\":50},\"steps\":[{\"args\":[{\"marker.color\":[[\"red\",\"#B0BEC5\",\"#B0BEC5\",\"#B0BEC5\",\"#B0BEC5\",\"#B0BEC5\",\"#B0BEC5\",\"#B0BEC5\",\"#B0BEC5\",\"#B0BEC5\",\"#B0BEC5\",\"#B0BEC5\",\"#B0BEC5\",\"#B0BEC5\",\"#B0BEC5\",\"#B0BEC5\",\"#B0BEC5\",\"#B0BEC5\",\"#B0BEC5\",\"#B0BEC5\",\"#B0BEC5\",\"#B0BEC5\",\"#B0BEC5\",\"#B0BEC5\",\"#B0BEC5\",\"#B0BEC5\",\"#B0BEC5\",\"#B0BEC5\",\"#B0BEC5\",\"#B0BEC5\",\"#B0BEC5\",\"#B0BEC5\",\"#B0BEC5\",\"#B0BEC5\",\"#B0BEC5\",\"#B0BEC5\",\"#B0BEC5\",\"#B0BEC5\",\"#B0BEC5\",\"#B0BEC5\",\"#B0BEC5\",\"#B0BEC5\",\"#B0BEC5\",\"#B0BEC5\",\"#B0BEC5\",\"#B0BEC5\",\"#B0BEC5\",\"#B0BEC5\",\"#B0BEC5\",\"#B0BEC5\",\"#B0BEC5\",\"#B0BEC5\",\"#B0BEC5\",\"#B0BEC5\",\"#B0BEC5\",\"#B0BEC5\",\"#B0BEC5\",\"#B0BEC5\"]]}],\"label\":\"Topic 0\",\"method\":\"update\"},{\"args\":[{\"marker.color\":[[\"#B0BEC5\",\"red\",\"#B0BEC5\",\"#B0BEC5\",\"#B0BEC5\",\"#B0BEC5\",\"#B0BEC5\",\"#B0BEC5\",\"#B0BEC5\",\"#B0BEC5\",\"#B0BEC5\",\"#B0BEC5\",\"#B0BEC5\",\"#B0BEC5\",\"#B0BEC5\",\"#B0BEC5\",\"#B0BEC5\",\"#B0BEC5\",\"#B0BEC5\",\"#B0BEC5\",\"#B0BEC5\",\"#B0BEC5\",\"#B0BEC5\",\"#B0BEC5\",\"#B0BEC5\",\"#B0BEC5\",\"#B0BEC5\",\"#B0BEC5\",\"#B0BEC5\",\"#B0BEC5\",\"#B0BEC5\",\"#B0BEC5\",\"#B0BEC5\",\"#B0BEC5\",\"#B0BEC5\",\"#B0BEC5\",\"#B0BEC5\",\"#B0BEC5\",\"#B0BEC5\",\"#B0BEC5\",\"#B0BEC5\",\"#B0BEC5\",\"#B0BEC5\",\"#B0BEC5\",\"#B0BEC5\",\"#B0BEC5\",\"#B0BEC5\",\"#B0BEC5\",\"#B0BEC5\",\"#B0BEC5\",\"#B0BEC5\",\"#B0BEC5\",\"#B0BEC5\",\"#B0BEC5\",\"#B0BEC5\",\"#B0BEC5\",\"#B0BEC5\",\"#B0BEC5\"]]}],\"label\":\"Topic 1\",\"method\":\"update\"},{\"args\":[{\"marker.color\":[[\"#B0BEC5\",\"#B0BEC5\",\"red\",\"#B0BEC5\",\"#B0BEC5\",\"#B0BEC5\",\"#B0BEC5\",\"#B0BEC5\",\"#B0BEC5\",\"#B0BEC5\",\"#B0BEC5\",\"#B0BEC5\",\"#B0BEC5\",\"#B0BEC5\",\"#B0BEC5\",\"#B0BEC5\",\"#B0BEC5\",\"#B0BEC5\",\"#B0BEC5\",\"#B0BEC5\",\"#B0BEC5\",\"#B0BEC5\",\"#B0BEC5\",\"#B0BEC5\",\"#B0BEC5\",\"#B0BEC5\",\"#B0BEC5\",\"#B0BEC5\",\"#B0BEC5\",\"#B0BEC5\",\"#B0BEC5\",\"#B0BEC5\",\"#B0BEC5\",\"#B0BEC5\",\"#B0BEC5\",\"#B0BEC5\",\"#B0BEC5\",\"#B0BEC5\",\"#B0BEC5\",\"#B0BEC5\",\"#B0BEC5\",\"#B0BEC5\",\"#B0BEC5\",\"#B0BEC5\",\"#B0BEC5\",\"#B0BEC5\",\"#B0BEC5\",\"#B0BEC5\",\"#B0BEC5\",\"#B0BEC5\",\"#B0BEC5\",\"#B0BEC5\",\"#B0BEC5\",\"#B0BEC5\",\"#B0BEC5\",\"#B0BEC5\",\"#B0BEC5\",\"#B0BEC5\"]]}],\"label\":\"Topic 2\",\"method\":\"update\"},{\"args\":[{\"marker.color\":[[\"#B0BEC5\",\"#B0BEC5\",\"#B0BEC5\",\"red\",\"#B0BEC5\",\"#B0BEC5\",\"#B0BEC5\",\"#B0BEC5\",\"#B0BEC5\",\"#B0BEC5\",\"#B0BEC5\",\"#B0BEC5\",\"#B0BEC5\",\"#B0BEC5\",\"#B0BEC5\",\"#B0BEC5\",\"#B0BEC5\",\"#B0BEC5\",\"#B0BEC5\",\"#B0BEC5\",\"#B0BEC5\",\"#B0BEC5\",\"#B0BEC5\",\"#B0BEC5\",\"#B0BEC5\",\"#B0BEC5\",\"#B0BEC5\",\"#B0BEC5\",\"#B0BEC5\",\"#B0BEC5\",\"#B0BEC5\",\"#B0BEC5\",\"#B0BEC5\",\"#B0BEC5\",\"#B0BEC5\",\"#B0BEC5\",\"#B0BEC5\",\"#B0BEC5\",\"#B0BEC5\",\"#B0BEC5\",\"#B0BEC5\",\"#B0BEC5\",\"#B0BEC5\",\"#B0BEC5\",\"#B0BEC5\",\"#B0BEC5\",\"#B0BEC5\",\"#B0BEC5\",\"#B0BEC5\",\"#B0BEC5\",\"#B0BEC5\",\"#B0BEC5\",\"#B0BEC5\",\"#B0BEC5\",\"#B0BEC5\",\"#B0BEC5\",\"#B0BEC5\",\"#B0BEC5\"]]}],\"label\":\"Topic 3\",\"method\":\"update\"},{\"args\":[{\"marker.color\":[[\"#B0BEC5\",\"#B0BEC5\",\"#B0BEC5\",\"#B0BEC5\",\"red\",\"#B0BEC5\",\"#B0BEC5\",\"#B0BEC5\",\"#B0BEC5\",\"#B0BEC5\",\"#B0BEC5\",\"#B0BEC5\",\"#B0BEC5\",\"#B0BEC5\",\"#B0BEC5\",\"#B0BEC5\",\"#B0BEC5\",\"#B0BEC5\",\"#B0BEC5\",\"#B0BEC5\",\"#B0BEC5\",\"#B0BEC5\",\"#B0BEC5\",\"#B0BEC5\",\"#B0BEC5\",\"#B0BEC5\",\"#B0BEC5\",\"#B0BEC5\",\"#B0BEC5\",\"#B0BEC5\",\"#B0BEC5\",\"#B0BEC5\",\"#B0BEC5\",\"#B0BEC5\",\"#B0BEC5\",\"#B0BEC5\",\"#B0BEC5\",\"#B0BEC5\",\"#B0BEC5\",\"#B0BEC5\",\"#B0BEC5\",\"#B0BEC5\",\"#B0BEC5\",\"#B0BEC5\",\"#B0BEC5\",\"#B0BEC5\",\"#B0BEC5\",\"#B0BEC5\",\"#B0BEC5\",\"#B0BEC5\",\"#B0BEC5\",\"#B0BEC5\",\"#B0BEC5\",\"#B0BEC5\",\"#B0BEC5\",\"#B0BEC5\",\"#B0BEC5\",\"#B0BEC5\"]]}],\"label\":\"Topic 4\",\"method\":\"update\"},{\"args\":[{\"marker.color\":[[\"#B0BEC5\",\"#B0BEC5\",\"#B0BEC5\",\"#B0BEC5\",\"#B0BEC5\",\"red\",\"#B0BEC5\",\"#B0BEC5\",\"#B0BEC5\",\"#B0BEC5\",\"#B0BEC5\",\"#B0BEC5\",\"#B0BEC5\",\"#B0BEC5\",\"#B0BEC5\",\"#B0BEC5\",\"#B0BEC5\",\"#B0BEC5\",\"#B0BEC5\",\"#B0BEC5\",\"#B0BEC5\",\"#B0BEC5\",\"#B0BEC5\",\"#B0BEC5\",\"#B0BEC5\",\"#B0BEC5\",\"#B0BEC5\",\"#B0BEC5\",\"#B0BEC5\",\"#B0BEC5\",\"#B0BEC5\",\"#B0BEC5\",\"#B0BEC5\",\"#B0BEC5\",\"#B0BEC5\",\"#B0BEC5\",\"#B0BEC5\",\"#B0BEC5\",\"#B0BEC5\",\"#B0BEC5\",\"#B0BEC5\",\"#B0BEC5\",\"#B0BEC5\",\"#B0BEC5\",\"#B0BEC5\",\"#B0BEC5\",\"#B0BEC5\",\"#B0BEC5\",\"#B0BEC5\",\"#B0BEC5\",\"#B0BEC5\",\"#B0BEC5\",\"#B0BEC5\",\"#B0BEC5\",\"#B0BEC5\",\"#B0BEC5\",\"#B0BEC5\",\"#B0BEC5\"]]}],\"label\":\"Topic 5\",\"method\":\"update\"},{\"args\":[{\"marker.color\":[[\"#B0BEC5\",\"#B0BEC5\",\"#B0BEC5\",\"#B0BEC5\",\"#B0BEC5\",\"#B0BEC5\",\"red\",\"#B0BEC5\",\"#B0BEC5\",\"#B0BEC5\",\"#B0BEC5\",\"#B0BEC5\",\"#B0BEC5\",\"#B0BEC5\",\"#B0BEC5\",\"#B0BEC5\",\"#B0BEC5\",\"#B0BEC5\",\"#B0BEC5\",\"#B0BEC5\",\"#B0BEC5\",\"#B0BEC5\",\"#B0BEC5\",\"#B0BEC5\",\"#B0BEC5\",\"#B0BEC5\",\"#B0BEC5\",\"#B0BEC5\",\"#B0BEC5\",\"#B0BEC5\",\"#B0BEC5\",\"#B0BEC5\",\"#B0BEC5\",\"#B0BEC5\",\"#B0BEC5\",\"#B0BEC5\",\"#B0BEC5\",\"#B0BEC5\",\"#B0BEC5\",\"#B0BEC5\",\"#B0BEC5\",\"#B0BEC5\",\"#B0BEC5\",\"#B0BEC5\",\"#B0BEC5\",\"#B0BEC5\",\"#B0BEC5\",\"#B0BEC5\",\"#B0BEC5\",\"#B0BEC5\",\"#B0BEC5\",\"#B0BEC5\",\"#B0BEC5\",\"#B0BEC5\",\"#B0BEC5\",\"#B0BEC5\",\"#B0BEC5\",\"#B0BEC5\"]]}],\"label\":\"Topic 6\",\"method\":\"update\"},{\"args\":[{\"marker.color\":[[\"#B0BEC5\",\"#B0BEC5\",\"#B0BEC5\",\"#B0BEC5\",\"#B0BEC5\",\"#B0BEC5\",\"#B0BEC5\",\"red\",\"#B0BEC5\",\"#B0BEC5\",\"#B0BEC5\",\"#B0BEC5\",\"#B0BEC5\",\"#B0BEC5\",\"#B0BEC5\",\"#B0BEC5\",\"#B0BEC5\",\"#B0BEC5\",\"#B0BEC5\",\"#B0BEC5\",\"#B0BEC5\",\"#B0BEC5\",\"#B0BEC5\",\"#B0BEC5\",\"#B0BEC5\",\"#B0BEC5\",\"#B0BEC5\",\"#B0BEC5\",\"#B0BEC5\",\"#B0BEC5\",\"#B0BEC5\",\"#B0BEC5\",\"#B0BEC5\",\"#B0BEC5\",\"#B0BEC5\",\"#B0BEC5\",\"#B0BEC5\",\"#B0BEC5\",\"#B0BEC5\",\"#B0BEC5\",\"#B0BEC5\",\"#B0BEC5\",\"#B0BEC5\",\"#B0BEC5\",\"#B0BEC5\",\"#B0BEC5\",\"#B0BEC5\",\"#B0BEC5\",\"#B0BEC5\",\"#B0BEC5\",\"#B0BEC5\",\"#B0BEC5\",\"#B0BEC5\",\"#B0BEC5\",\"#B0BEC5\",\"#B0BEC5\",\"#B0BEC5\",\"#B0BEC5\"]]}],\"label\":\"Topic 7\",\"method\":\"update\"},{\"args\":[{\"marker.color\":[[\"#B0BEC5\",\"#B0BEC5\",\"#B0BEC5\",\"#B0BEC5\",\"#B0BEC5\",\"#B0BEC5\",\"#B0BEC5\",\"#B0BEC5\",\"red\",\"#B0BEC5\",\"#B0BEC5\",\"#B0BEC5\",\"#B0BEC5\",\"#B0BEC5\",\"#B0BEC5\",\"#B0BEC5\",\"#B0BEC5\",\"#B0BEC5\",\"#B0BEC5\",\"#B0BEC5\",\"#B0BEC5\",\"#B0BEC5\",\"#B0BEC5\",\"#B0BEC5\",\"#B0BEC5\",\"#B0BEC5\",\"#B0BEC5\",\"#B0BEC5\",\"#B0BEC5\",\"#B0BEC5\",\"#B0BEC5\",\"#B0BEC5\",\"#B0BEC5\",\"#B0BEC5\",\"#B0BEC5\",\"#B0BEC5\",\"#B0BEC5\",\"#B0BEC5\",\"#B0BEC5\",\"#B0BEC5\",\"#B0BEC5\",\"#B0BEC5\",\"#B0BEC5\",\"#B0BEC5\",\"#B0BEC5\",\"#B0BEC5\",\"#B0BEC5\",\"#B0BEC5\",\"#B0BEC5\",\"#B0BEC5\",\"#B0BEC5\",\"#B0BEC5\",\"#B0BEC5\",\"#B0BEC5\",\"#B0BEC5\",\"#B0BEC5\",\"#B0BEC5\",\"#B0BEC5\"]]}],\"label\":\"Topic 8\",\"method\":\"update\"},{\"args\":[{\"marker.color\":[[\"#B0BEC5\",\"#B0BEC5\",\"#B0BEC5\",\"#B0BEC5\",\"#B0BEC5\",\"#B0BEC5\",\"#B0BEC5\",\"#B0BEC5\",\"#B0BEC5\",\"red\",\"#B0BEC5\",\"#B0BEC5\",\"#B0BEC5\",\"#B0BEC5\",\"#B0BEC5\",\"#B0BEC5\",\"#B0BEC5\",\"#B0BEC5\",\"#B0BEC5\",\"#B0BEC5\",\"#B0BEC5\",\"#B0BEC5\",\"#B0BEC5\",\"#B0BEC5\",\"#B0BEC5\",\"#B0BEC5\",\"#B0BEC5\",\"#B0BEC5\",\"#B0BEC5\",\"#B0BEC5\",\"#B0BEC5\",\"#B0BEC5\",\"#B0BEC5\",\"#B0BEC5\",\"#B0BEC5\",\"#B0BEC5\",\"#B0BEC5\",\"#B0BEC5\",\"#B0BEC5\",\"#B0BEC5\",\"#B0BEC5\",\"#B0BEC5\",\"#B0BEC5\",\"#B0BEC5\",\"#B0BEC5\",\"#B0BEC5\",\"#B0BEC5\",\"#B0BEC5\",\"#B0BEC5\",\"#B0BEC5\",\"#B0BEC5\",\"#B0BEC5\",\"#B0BEC5\",\"#B0BEC5\",\"#B0BEC5\",\"#B0BEC5\",\"#B0BEC5\",\"#B0BEC5\"]]}],\"label\":\"Topic 9\",\"method\":\"update\"},{\"args\":[{\"marker.color\":[[\"#B0BEC5\",\"#B0BEC5\",\"#B0BEC5\",\"#B0BEC5\",\"#B0BEC5\",\"#B0BEC5\",\"#B0BEC5\",\"#B0BEC5\",\"#B0BEC5\",\"#B0BEC5\",\"red\",\"#B0BEC5\",\"#B0BEC5\",\"#B0BEC5\",\"#B0BEC5\",\"#B0BEC5\",\"#B0BEC5\",\"#B0BEC5\",\"#B0BEC5\",\"#B0BEC5\",\"#B0BEC5\",\"#B0BEC5\",\"#B0BEC5\",\"#B0BEC5\",\"#B0BEC5\",\"#B0BEC5\",\"#B0BEC5\",\"#B0BEC5\",\"#B0BEC5\",\"#B0BEC5\",\"#B0BEC5\",\"#B0BEC5\",\"#B0BEC5\",\"#B0BEC5\",\"#B0BEC5\",\"#B0BEC5\",\"#B0BEC5\",\"#B0BEC5\",\"#B0BEC5\",\"#B0BEC5\",\"#B0BEC5\",\"#B0BEC5\",\"#B0BEC5\",\"#B0BEC5\",\"#B0BEC5\",\"#B0BEC5\",\"#B0BEC5\",\"#B0BEC5\",\"#B0BEC5\",\"#B0BEC5\",\"#B0BEC5\",\"#B0BEC5\",\"#B0BEC5\",\"#B0BEC5\",\"#B0BEC5\",\"#B0BEC5\",\"#B0BEC5\",\"#B0BEC5\"]]}],\"label\":\"Topic 10\",\"method\":\"update\"},{\"args\":[{\"marker.color\":[[\"#B0BEC5\",\"#B0BEC5\",\"#B0BEC5\",\"#B0BEC5\",\"#B0BEC5\",\"#B0BEC5\",\"#B0BEC5\",\"#B0BEC5\",\"#B0BEC5\",\"#B0BEC5\",\"#B0BEC5\",\"red\",\"#B0BEC5\",\"#B0BEC5\",\"#B0BEC5\",\"#B0BEC5\",\"#B0BEC5\",\"#B0BEC5\",\"#B0BEC5\",\"#B0BEC5\",\"#B0BEC5\",\"#B0BEC5\",\"#B0BEC5\",\"#B0BEC5\",\"#B0BEC5\",\"#B0BEC5\",\"#B0BEC5\",\"#B0BEC5\",\"#B0BEC5\",\"#B0BEC5\",\"#B0BEC5\",\"#B0BEC5\",\"#B0BEC5\",\"#B0BEC5\",\"#B0BEC5\",\"#B0BEC5\",\"#B0BEC5\",\"#B0BEC5\",\"#B0BEC5\",\"#B0BEC5\",\"#B0BEC5\",\"#B0BEC5\",\"#B0BEC5\",\"#B0BEC5\",\"#B0BEC5\",\"#B0BEC5\",\"#B0BEC5\",\"#B0BEC5\",\"#B0BEC5\",\"#B0BEC5\",\"#B0BEC5\",\"#B0BEC5\",\"#B0BEC5\",\"#B0BEC5\",\"#B0BEC5\",\"#B0BEC5\",\"#B0BEC5\",\"#B0BEC5\"]]}],\"label\":\"Topic 11\",\"method\":\"update\"},{\"args\":[{\"marker.color\":[[\"#B0BEC5\",\"#B0BEC5\",\"#B0BEC5\",\"#B0BEC5\",\"#B0BEC5\",\"#B0BEC5\",\"#B0BEC5\",\"#B0BEC5\",\"#B0BEC5\",\"#B0BEC5\",\"#B0BEC5\",\"#B0BEC5\",\"red\",\"#B0BEC5\",\"#B0BEC5\",\"#B0BEC5\",\"#B0BEC5\",\"#B0BEC5\",\"#B0BEC5\",\"#B0BEC5\",\"#B0BEC5\",\"#B0BEC5\",\"#B0BEC5\",\"#B0BEC5\",\"#B0BEC5\",\"#B0BEC5\",\"#B0BEC5\",\"#B0BEC5\",\"#B0BEC5\",\"#B0BEC5\",\"#B0BEC5\",\"#B0BEC5\",\"#B0BEC5\",\"#B0BEC5\",\"#B0BEC5\",\"#B0BEC5\",\"#B0BEC5\",\"#B0BEC5\",\"#B0BEC5\",\"#B0BEC5\",\"#B0BEC5\",\"#B0BEC5\",\"#B0BEC5\",\"#B0BEC5\",\"#B0BEC5\",\"#B0BEC5\",\"#B0BEC5\",\"#B0BEC5\",\"#B0BEC5\",\"#B0BEC5\",\"#B0BEC5\",\"#B0BEC5\",\"#B0BEC5\",\"#B0BEC5\",\"#B0BEC5\",\"#B0BEC5\",\"#B0BEC5\",\"#B0BEC5\"]]}],\"label\":\"Topic 12\",\"method\":\"update\"},{\"args\":[{\"marker.color\":[[\"#B0BEC5\",\"#B0BEC5\",\"#B0BEC5\",\"#B0BEC5\",\"#B0BEC5\",\"#B0BEC5\",\"#B0BEC5\",\"#B0BEC5\",\"#B0BEC5\",\"#B0BEC5\",\"#B0BEC5\",\"#B0BEC5\",\"#B0BEC5\",\"red\",\"#B0BEC5\",\"#B0BEC5\",\"#B0BEC5\",\"#B0BEC5\",\"#B0BEC5\",\"#B0BEC5\",\"#B0BEC5\",\"#B0BEC5\",\"#B0BEC5\",\"#B0BEC5\",\"#B0BEC5\",\"#B0BEC5\",\"#B0BEC5\",\"#B0BEC5\",\"#B0BEC5\",\"#B0BEC5\",\"#B0BEC5\",\"#B0BEC5\",\"#B0BEC5\",\"#B0BEC5\",\"#B0BEC5\",\"#B0BEC5\",\"#B0BEC5\",\"#B0BEC5\",\"#B0BEC5\",\"#B0BEC5\",\"#B0BEC5\",\"#B0BEC5\",\"#B0BEC5\",\"#B0BEC5\",\"#B0BEC5\",\"#B0BEC5\",\"#B0BEC5\",\"#B0BEC5\",\"#B0BEC5\",\"#B0BEC5\",\"#B0BEC5\",\"#B0BEC5\",\"#B0BEC5\",\"#B0BEC5\",\"#B0BEC5\",\"#B0BEC5\",\"#B0BEC5\",\"#B0BEC5\"]]}],\"label\":\"Topic 13\",\"method\":\"update\"},{\"args\":[{\"marker.color\":[[\"#B0BEC5\",\"#B0BEC5\",\"#B0BEC5\",\"#B0BEC5\",\"#B0BEC5\",\"#B0BEC5\",\"#B0BEC5\",\"#B0BEC5\",\"#B0BEC5\",\"#B0BEC5\",\"#B0BEC5\",\"#B0BEC5\",\"#B0BEC5\",\"#B0BEC5\",\"red\",\"#B0BEC5\",\"#B0BEC5\",\"#B0BEC5\",\"#B0BEC5\",\"#B0BEC5\",\"#B0BEC5\",\"#B0BEC5\",\"#B0BEC5\",\"#B0BEC5\",\"#B0BEC5\",\"#B0BEC5\",\"#B0BEC5\",\"#B0BEC5\",\"#B0BEC5\",\"#B0BEC5\",\"#B0BEC5\",\"#B0BEC5\",\"#B0BEC5\",\"#B0BEC5\",\"#B0BEC5\",\"#B0BEC5\",\"#B0BEC5\",\"#B0BEC5\",\"#B0BEC5\",\"#B0BEC5\",\"#B0BEC5\",\"#B0BEC5\",\"#B0BEC5\",\"#B0BEC5\",\"#B0BEC5\",\"#B0BEC5\",\"#B0BEC5\",\"#B0BEC5\",\"#B0BEC5\",\"#B0BEC5\",\"#B0BEC5\",\"#B0BEC5\",\"#B0BEC5\",\"#B0BEC5\",\"#B0BEC5\",\"#B0BEC5\",\"#B0BEC5\",\"#B0BEC5\"]]}],\"label\":\"Topic 14\",\"method\":\"update\"},{\"args\":[{\"marker.color\":[[\"#B0BEC5\",\"#B0BEC5\",\"#B0BEC5\",\"#B0BEC5\",\"#B0BEC5\",\"#B0BEC5\",\"#B0BEC5\",\"#B0BEC5\",\"#B0BEC5\",\"#B0BEC5\",\"#B0BEC5\",\"#B0BEC5\",\"#B0BEC5\",\"#B0BEC5\",\"#B0BEC5\",\"red\",\"#B0BEC5\",\"#B0BEC5\",\"#B0BEC5\",\"#B0BEC5\",\"#B0BEC5\",\"#B0BEC5\",\"#B0BEC5\",\"#B0BEC5\",\"#B0BEC5\",\"#B0BEC5\",\"#B0BEC5\",\"#B0BEC5\",\"#B0BEC5\",\"#B0BEC5\",\"#B0BEC5\",\"#B0BEC5\",\"#B0BEC5\",\"#B0BEC5\",\"#B0BEC5\",\"#B0BEC5\",\"#B0BEC5\",\"#B0BEC5\",\"#B0BEC5\",\"#B0BEC5\",\"#B0BEC5\",\"#B0BEC5\",\"#B0BEC5\",\"#B0BEC5\",\"#B0BEC5\",\"#B0BEC5\",\"#B0BEC5\",\"#B0BEC5\",\"#B0BEC5\",\"#B0BEC5\",\"#B0BEC5\",\"#B0BEC5\",\"#B0BEC5\",\"#B0BEC5\",\"#B0BEC5\",\"#B0BEC5\",\"#B0BEC5\",\"#B0BEC5\"]]}],\"label\":\"Topic 15\",\"method\":\"update\"},{\"args\":[{\"marker.color\":[[\"#B0BEC5\",\"#B0BEC5\",\"#B0BEC5\",\"#B0BEC5\",\"#B0BEC5\",\"#B0BEC5\",\"#B0BEC5\",\"#B0BEC5\",\"#B0BEC5\",\"#B0BEC5\",\"#B0BEC5\",\"#B0BEC5\",\"#B0BEC5\",\"#B0BEC5\",\"#B0BEC5\",\"#B0BEC5\",\"red\",\"#B0BEC5\",\"#B0BEC5\",\"#B0BEC5\",\"#B0BEC5\",\"#B0BEC5\",\"#B0BEC5\",\"#B0BEC5\",\"#B0BEC5\",\"#B0BEC5\",\"#B0BEC5\",\"#B0BEC5\",\"#B0BEC5\",\"#B0BEC5\",\"#B0BEC5\",\"#B0BEC5\",\"#B0BEC5\",\"#B0BEC5\",\"#B0BEC5\",\"#B0BEC5\",\"#B0BEC5\",\"#B0BEC5\",\"#B0BEC5\",\"#B0BEC5\",\"#B0BEC5\",\"#B0BEC5\",\"#B0BEC5\",\"#B0BEC5\",\"#B0BEC5\",\"#B0BEC5\",\"#B0BEC5\",\"#B0BEC5\",\"#B0BEC5\",\"#B0BEC5\",\"#B0BEC5\",\"#B0BEC5\",\"#B0BEC5\",\"#B0BEC5\",\"#B0BEC5\",\"#B0BEC5\",\"#B0BEC5\",\"#B0BEC5\"]]}],\"label\":\"Topic 16\",\"method\":\"update\"},{\"args\":[{\"marker.color\":[[\"#B0BEC5\",\"#B0BEC5\",\"#B0BEC5\",\"#B0BEC5\",\"#B0BEC5\",\"#B0BEC5\",\"#B0BEC5\",\"#B0BEC5\",\"#B0BEC5\",\"#B0BEC5\",\"#B0BEC5\",\"#B0BEC5\",\"#B0BEC5\",\"#B0BEC5\",\"#B0BEC5\",\"#B0BEC5\",\"#B0BEC5\",\"red\",\"#B0BEC5\",\"#B0BEC5\",\"#B0BEC5\",\"#B0BEC5\",\"#B0BEC5\",\"#B0BEC5\",\"#B0BEC5\",\"#B0BEC5\",\"#B0BEC5\",\"#B0BEC5\",\"#B0BEC5\",\"#B0BEC5\",\"#B0BEC5\",\"#B0BEC5\",\"#B0BEC5\",\"#B0BEC5\",\"#B0BEC5\",\"#B0BEC5\",\"#B0BEC5\",\"#B0BEC5\",\"#B0BEC5\",\"#B0BEC5\",\"#B0BEC5\",\"#B0BEC5\",\"#B0BEC5\",\"#B0BEC5\",\"#B0BEC5\",\"#B0BEC5\",\"#B0BEC5\",\"#B0BEC5\",\"#B0BEC5\",\"#B0BEC5\",\"#B0BEC5\",\"#B0BEC5\",\"#B0BEC5\",\"#B0BEC5\",\"#B0BEC5\",\"#B0BEC5\",\"#B0BEC5\",\"#B0BEC5\"]]}],\"label\":\"Topic 17\",\"method\":\"update\"},{\"args\":[{\"marker.color\":[[\"#B0BEC5\",\"#B0BEC5\",\"#B0BEC5\",\"#B0BEC5\",\"#B0BEC5\",\"#B0BEC5\",\"#B0BEC5\",\"#B0BEC5\",\"#B0BEC5\",\"#B0BEC5\",\"#B0BEC5\",\"#B0BEC5\",\"#B0BEC5\",\"#B0BEC5\",\"#B0BEC5\",\"#B0BEC5\",\"#B0BEC5\",\"#B0BEC5\",\"red\",\"#B0BEC5\",\"#B0BEC5\",\"#B0BEC5\",\"#B0BEC5\",\"#B0BEC5\",\"#B0BEC5\",\"#B0BEC5\",\"#B0BEC5\",\"#B0BEC5\",\"#B0BEC5\",\"#B0BEC5\",\"#B0BEC5\",\"#B0BEC5\",\"#B0BEC5\",\"#B0BEC5\",\"#B0BEC5\",\"#B0BEC5\",\"#B0BEC5\",\"#B0BEC5\",\"#B0BEC5\",\"#B0BEC5\",\"#B0BEC5\",\"#B0BEC5\",\"#B0BEC5\",\"#B0BEC5\",\"#B0BEC5\",\"#B0BEC5\",\"#B0BEC5\",\"#B0BEC5\",\"#B0BEC5\",\"#B0BEC5\",\"#B0BEC5\",\"#B0BEC5\",\"#B0BEC5\",\"#B0BEC5\",\"#B0BEC5\",\"#B0BEC5\",\"#B0BEC5\",\"#B0BEC5\"]]}],\"label\":\"Topic 18\",\"method\":\"update\"},{\"args\":[{\"marker.color\":[[\"#B0BEC5\",\"#B0BEC5\",\"#B0BEC5\",\"#B0BEC5\",\"#B0BEC5\",\"#B0BEC5\",\"#B0BEC5\",\"#B0BEC5\",\"#B0BEC5\",\"#B0BEC5\",\"#B0BEC5\",\"#B0BEC5\",\"#B0BEC5\",\"#B0BEC5\",\"#B0BEC5\",\"#B0BEC5\",\"#B0BEC5\",\"#B0BEC5\",\"#B0BEC5\",\"red\",\"#B0BEC5\",\"#B0BEC5\",\"#B0BEC5\",\"#B0BEC5\",\"#B0BEC5\",\"#B0BEC5\",\"#B0BEC5\",\"#B0BEC5\",\"#B0BEC5\",\"#B0BEC5\",\"#B0BEC5\",\"#B0BEC5\",\"#B0BEC5\",\"#B0BEC5\",\"#B0BEC5\",\"#B0BEC5\",\"#B0BEC5\",\"#B0BEC5\",\"#B0BEC5\",\"#B0BEC5\",\"#B0BEC5\",\"#B0BEC5\",\"#B0BEC5\",\"#B0BEC5\",\"#B0BEC5\",\"#B0BEC5\",\"#B0BEC5\",\"#B0BEC5\",\"#B0BEC5\",\"#B0BEC5\",\"#B0BEC5\",\"#B0BEC5\",\"#B0BEC5\",\"#B0BEC5\",\"#B0BEC5\",\"#B0BEC5\",\"#B0BEC5\",\"#B0BEC5\"]]}],\"label\":\"Topic 19\",\"method\":\"update\"},{\"args\":[{\"marker.color\":[[\"#B0BEC5\",\"#B0BEC5\",\"#B0BEC5\",\"#B0BEC5\",\"#B0BEC5\",\"#B0BEC5\",\"#B0BEC5\",\"#B0BEC5\",\"#B0BEC5\",\"#B0BEC5\",\"#B0BEC5\",\"#B0BEC5\",\"#B0BEC5\",\"#B0BEC5\",\"#B0BEC5\",\"#B0BEC5\",\"#B0BEC5\",\"#B0BEC5\",\"#B0BEC5\",\"#B0BEC5\",\"red\",\"#B0BEC5\",\"#B0BEC5\",\"#B0BEC5\",\"#B0BEC5\",\"#B0BEC5\",\"#B0BEC5\",\"#B0BEC5\",\"#B0BEC5\",\"#B0BEC5\",\"#B0BEC5\",\"#B0BEC5\",\"#B0BEC5\",\"#B0BEC5\",\"#B0BEC5\",\"#B0BEC5\",\"#B0BEC5\",\"#B0BEC5\",\"#B0BEC5\",\"#B0BEC5\",\"#B0BEC5\",\"#B0BEC5\",\"#B0BEC5\",\"#B0BEC5\",\"#B0BEC5\",\"#B0BEC5\",\"#B0BEC5\",\"#B0BEC5\",\"#B0BEC5\",\"#B0BEC5\",\"#B0BEC5\",\"#B0BEC5\",\"#B0BEC5\",\"#B0BEC5\",\"#B0BEC5\",\"#B0BEC5\",\"#B0BEC5\",\"#B0BEC5\"]]}],\"label\":\"Topic 20\",\"method\":\"update\"},{\"args\":[{\"marker.color\":[[\"#B0BEC5\",\"#B0BEC5\",\"#B0BEC5\",\"#B0BEC5\",\"#B0BEC5\",\"#B0BEC5\",\"#B0BEC5\",\"#B0BEC5\",\"#B0BEC5\",\"#B0BEC5\",\"#B0BEC5\",\"#B0BEC5\",\"#B0BEC5\",\"#B0BEC5\",\"#B0BEC5\",\"#B0BEC5\",\"#B0BEC5\",\"#B0BEC5\",\"#B0BEC5\",\"#B0BEC5\",\"#B0BEC5\",\"red\",\"#B0BEC5\",\"#B0BEC5\",\"#B0BEC5\",\"#B0BEC5\",\"#B0BEC5\",\"#B0BEC5\",\"#B0BEC5\",\"#B0BEC5\",\"#B0BEC5\",\"#B0BEC5\",\"#B0BEC5\",\"#B0BEC5\",\"#B0BEC5\",\"#B0BEC5\",\"#B0BEC5\",\"#B0BEC5\",\"#B0BEC5\",\"#B0BEC5\",\"#B0BEC5\",\"#B0BEC5\",\"#B0BEC5\",\"#B0BEC5\",\"#B0BEC5\",\"#B0BEC5\",\"#B0BEC5\",\"#B0BEC5\",\"#B0BEC5\",\"#B0BEC5\",\"#B0BEC5\",\"#B0BEC5\",\"#B0BEC5\",\"#B0BEC5\",\"#B0BEC5\",\"#B0BEC5\",\"#B0BEC5\",\"#B0BEC5\"]]}],\"label\":\"Topic 21\",\"method\":\"update\"},{\"args\":[{\"marker.color\":[[\"#B0BEC5\",\"#B0BEC5\",\"#B0BEC5\",\"#B0BEC5\",\"#B0BEC5\",\"#B0BEC5\",\"#B0BEC5\",\"#B0BEC5\",\"#B0BEC5\",\"#B0BEC5\",\"#B0BEC5\",\"#B0BEC5\",\"#B0BEC5\",\"#B0BEC5\",\"#B0BEC5\",\"#B0BEC5\",\"#B0BEC5\",\"#B0BEC5\",\"#B0BEC5\",\"#B0BEC5\",\"#B0BEC5\",\"#B0BEC5\",\"red\",\"#B0BEC5\",\"#B0BEC5\",\"#B0BEC5\",\"#B0BEC5\",\"#B0BEC5\",\"#B0BEC5\",\"#B0BEC5\",\"#B0BEC5\",\"#B0BEC5\",\"#B0BEC5\",\"#B0BEC5\",\"#B0BEC5\",\"#B0BEC5\",\"#B0BEC5\",\"#B0BEC5\",\"#B0BEC5\",\"#B0BEC5\",\"#B0BEC5\",\"#B0BEC5\",\"#B0BEC5\",\"#B0BEC5\",\"#B0BEC5\",\"#B0BEC5\",\"#B0BEC5\",\"#B0BEC5\",\"#B0BEC5\",\"#B0BEC5\",\"#B0BEC5\",\"#B0BEC5\",\"#B0BEC5\",\"#B0BEC5\",\"#B0BEC5\",\"#B0BEC5\",\"#B0BEC5\",\"#B0BEC5\"]]}],\"label\":\"Topic 22\",\"method\":\"update\"},{\"args\":[{\"marker.color\":[[\"#B0BEC5\",\"#B0BEC5\",\"#B0BEC5\",\"#B0BEC5\",\"#B0BEC5\",\"#B0BEC5\",\"#B0BEC5\",\"#B0BEC5\",\"#B0BEC5\",\"#B0BEC5\",\"#B0BEC5\",\"#B0BEC5\",\"#B0BEC5\",\"#B0BEC5\",\"#B0BEC5\",\"#B0BEC5\",\"#B0BEC5\",\"#B0BEC5\",\"#B0BEC5\",\"#B0BEC5\",\"#B0BEC5\",\"#B0BEC5\",\"#B0BEC5\",\"red\",\"#B0BEC5\",\"#B0BEC5\",\"#B0BEC5\",\"#B0BEC5\",\"#B0BEC5\",\"#B0BEC5\",\"#B0BEC5\",\"#B0BEC5\",\"#B0BEC5\",\"#B0BEC5\",\"#B0BEC5\",\"#B0BEC5\",\"#B0BEC5\",\"#B0BEC5\",\"#B0BEC5\",\"#B0BEC5\",\"#B0BEC5\",\"#B0BEC5\",\"#B0BEC5\",\"#B0BEC5\",\"#B0BEC5\",\"#B0BEC5\",\"#B0BEC5\",\"#B0BEC5\",\"#B0BEC5\",\"#B0BEC5\",\"#B0BEC5\",\"#B0BEC5\",\"#B0BEC5\",\"#B0BEC5\",\"#B0BEC5\",\"#B0BEC5\",\"#B0BEC5\",\"#B0BEC5\"]]}],\"label\":\"Topic 23\",\"method\":\"update\"},{\"args\":[{\"marker.color\":[[\"#B0BEC5\",\"#B0BEC5\",\"#B0BEC5\",\"#B0BEC5\",\"#B0BEC5\",\"#B0BEC5\",\"#B0BEC5\",\"#B0BEC5\",\"#B0BEC5\",\"#B0BEC5\",\"#B0BEC5\",\"#B0BEC5\",\"#B0BEC5\",\"#B0BEC5\",\"#B0BEC5\",\"#B0BEC5\",\"#B0BEC5\",\"#B0BEC5\",\"#B0BEC5\",\"#B0BEC5\",\"#B0BEC5\",\"#B0BEC5\",\"#B0BEC5\",\"#B0BEC5\",\"red\",\"#B0BEC5\",\"#B0BEC5\",\"#B0BEC5\",\"#B0BEC5\",\"#B0BEC5\",\"#B0BEC5\",\"#B0BEC5\",\"#B0BEC5\",\"#B0BEC5\",\"#B0BEC5\",\"#B0BEC5\",\"#B0BEC5\",\"#B0BEC5\",\"#B0BEC5\",\"#B0BEC5\",\"#B0BEC5\",\"#B0BEC5\",\"#B0BEC5\",\"#B0BEC5\",\"#B0BEC5\",\"#B0BEC5\",\"#B0BEC5\",\"#B0BEC5\",\"#B0BEC5\",\"#B0BEC5\",\"#B0BEC5\",\"#B0BEC5\",\"#B0BEC5\",\"#B0BEC5\",\"#B0BEC5\",\"#B0BEC5\",\"#B0BEC5\",\"#B0BEC5\"]]}],\"label\":\"Topic 24\",\"method\":\"update\"},{\"args\":[{\"marker.color\":[[\"#B0BEC5\",\"#B0BEC5\",\"#B0BEC5\",\"#B0BEC5\",\"#B0BEC5\",\"#B0BEC5\",\"#B0BEC5\",\"#B0BEC5\",\"#B0BEC5\",\"#B0BEC5\",\"#B0BEC5\",\"#B0BEC5\",\"#B0BEC5\",\"#B0BEC5\",\"#B0BEC5\",\"#B0BEC5\",\"#B0BEC5\",\"#B0BEC5\",\"#B0BEC5\",\"#B0BEC5\",\"#B0BEC5\",\"#B0BEC5\",\"#B0BEC5\",\"#B0BEC5\",\"#B0BEC5\",\"red\",\"#B0BEC5\",\"#B0BEC5\",\"#B0BEC5\",\"#B0BEC5\",\"#B0BEC5\",\"#B0BEC5\",\"#B0BEC5\",\"#B0BEC5\",\"#B0BEC5\",\"#B0BEC5\",\"#B0BEC5\",\"#B0BEC5\",\"#B0BEC5\",\"#B0BEC5\",\"#B0BEC5\",\"#B0BEC5\",\"#B0BEC5\",\"#B0BEC5\",\"#B0BEC5\",\"#B0BEC5\",\"#B0BEC5\",\"#B0BEC5\",\"#B0BEC5\",\"#B0BEC5\",\"#B0BEC5\",\"#B0BEC5\",\"#B0BEC5\",\"#B0BEC5\",\"#B0BEC5\",\"#B0BEC5\",\"#B0BEC5\",\"#B0BEC5\"]]}],\"label\":\"Topic 25\",\"method\":\"update\"},{\"args\":[{\"marker.color\":[[\"#B0BEC5\",\"#B0BEC5\",\"#B0BEC5\",\"#B0BEC5\",\"#B0BEC5\",\"#B0BEC5\",\"#B0BEC5\",\"#B0BEC5\",\"#B0BEC5\",\"#B0BEC5\",\"#B0BEC5\",\"#B0BEC5\",\"#B0BEC5\",\"#B0BEC5\",\"#B0BEC5\",\"#B0BEC5\",\"#B0BEC5\",\"#B0BEC5\",\"#B0BEC5\",\"#B0BEC5\",\"#B0BEC5\",\"#B0BEC5\",\"#B0BEC5\",\"#B0BEC5\",\"#B0BEC5\",\"#B0BEC5\",\"red\",\"#B0BEC5\",\"#B0BEC5\",\"#B0BEC5\",\"#B0BEC5\",\"#B0BEC5\",\"#B0BEC5\",\"#B0BEC5\",\"#B0BEC5\",\"#B0BEC5\",\"#B0BEC5\",\"#B0BEC5\",\"#B0BEC5\",\"#B0BEC5\",\"#B0BEC5\",\"#B0BEC5\",\"#B0BEC5\",\"#B0BEC5\",\"#B0BEC5\",\"#B0BEC5\",\"#B0BEC5\",\"#B0BEC5\",\"#B0BEC5\",\"#B0BEC5\",\"#B0BEC5\",\"#B0BEC5\",\"#B0BEC5\",\"#B0BEC5\",\"#B0BEC5\",\"#B0BEC5\",\"#B0BEC5\",\"#B0BEC5\"]]}],\"label\":\"Topic 26\",\"method\":\"update\"},{\"args\":[{\"marker.color\":[[\"#B0BEC5\",\"#B0BEC5\",\"#B0BEC5\",\"#B0BEC5\",\"#B0BEC5\",\"#B0BEC5\",\"#B0BEC5\",\"#B0BEC5\",\"#B0BEC5\",\"#B0BEC5\",\"#B0BEC5\",\"#B0BEC5\",\"#B0BEC5\",\"#B0BEC5\",\"#B0BEC5\",\"#B0BEC5\",\"#B0BEC5\",\"#B0BEC5\",\"#B0BEC5\",\"#B0BEC5\",\"#B0BEC5\",\"#B0BEC5\",\"#B0BEC5\",\"#B0BEC5\",\"#B0BEC5\",\"#B0BEC5\",\"#B0BEC5\",\"red\",\"#B0BEC5\",\"#B0BEC5\",\"#B0BEC5\",\"#B0BEC5\",\"#B0BEC5\",\"#B0BEC5\",\"#B0BEC5\",\"#B0BEC5\",\"#B0BEC5\",\"#B0BEC5\",\"#B0BEC5\",\"#B0BEC5\",\"#B0BEC5\",\"#B0BEC5\",\"#B0BEC5\",\"#B0BEC5\",\"#B0BEC5\",\"#B0BEC5\",\"#B0BEC5\",\"#B0BEC5\",\"#B0BEC5\",\"#B0BEC5\",\"#B0BEC5\",\"#B0BEC5\",\"#B0BEC5\",\"#B0BEC5\",\"#B0BEC5\",\"#B0BEC5\",\"#B0BEC5\",\"#B0BEC5\"]]}],\"label\":\"Topic 27\",\"method\":\"update\"},{\"args\":[{\"marker.color\":[[\"#B0BEC5\",\"#B0BEC5\",\"#B0BEC5\",\"#B0BEC5\",\"#B0BEC5\",\"#B0BEC5\",\"#B0BEC5\",\"#B0BEC5\",\"#B0BEC5\",\"#B0BEC5\",\"#B0BEC5\",\"#B0BEC5\",\"#B0BEC5\",\"#B0BEC5\",\"#B0BEC5\",\"#B0BEC5\",\"#B0BEC5\",\"#B0BEC5\",\"#B0BEC5\",\"#B0BEC5\",\"#B0BEC5\",\"#B0BEC5\",\"#B0BEC5\",\"#B0BEC5\",\"#B0BEC5\",\"#B0BEC5\",\"#B0BEC5\",\"#B0BEC5\",\"red\",\"#B0BEC5\",\"#B0BEC5\",\"#B0BEC5\",\"#B0BEC5\",\"#B0BEC5\",\"#B0BEC5\",\"#B0BEC5\",\"#B0BEC5\",\"#B0BEC5\",\"#B0BEC5\",\"#B0BEC5\",\"#B0BEC5\",\"#B0BEC5\",\"#B0BEC5\",\"#B0BEC5\",\"#B0BEC5\",\"#B0BEC5\",\"#B0BEC5\",\"#B0BEC5\",\"#B0BEC5\",\"#B0BEC5\",\"#B0BEC5\",\"#B0BEC5\",\"#B0BEC5\",\"#B0BEC5\",\"#B0BEC5\",\"#B0BEC5\",\"#B0BEC5\",\"#B0BEC5\"]]}],\"label\":\"Topic 28\",\"method\":\"update\"},{\"args\":[{\"marker.color\":[[\"#B0BEC5\",\"#B0BEC5\",\"#B0BEC5\",\"#B0BEC5\",\"#B0BEC5\",\"#B0BEC5\",\"#B0BEC5\",\"#B0BEC5\",\"#B0BEC5\",\"#B0BEC5\",\"#B0BEC5\",\"#B0BEC5\",\"#B0BEC5\",\"#B0BEC5\",\"#B0BEC5\",\"#B0BEC5\",\"#B0BEC5\",\"#B0BEC5\",\"#B0BEC5\",\"#B0BEC5\",\"#B0BEC5\",\"#B0BEC5\",\"#B0BEC5\",\"#B0BEC5\",\"#B0BEC5\",\"#B0BEC5\",\"#B0BEC5\",\"#B0BEC5\",\"#B0BEC5\",\"red\",\"#B0BEC5\",\"#B0BEC5\",\"#B0BEC5\",\"#B0BEC5\",\"#B0BEC5\",\"#B0BEC5\",\"#B0BEC5\",\"#B0BEC5\",\"#B0BEC5\",\"#B0BEC5\",\"#B0BEC5\",\"#B0BEC5\",\"#B0BEC5\",\"#B0BEC5\",\"#B0BEC5\",\"#B0BEC5\",\"#B0BEC5\",\"#B0BEC5\",\"#B0BEC5\",\"#B0BEC5\",\"#B0BEC5\",\"#B0BEC5\",\"#B0BEC5\",\"#B0BEC5\",\"#B0BEC5\",\"#B0BEC5\",\"#B0BEC5\",\"#B0BEC5\"]]}],\"label\":\"Topic 29\",\"method\":\"update\"},{\"args\":[{\"marker.color\":[[\"#B0BEC5\",\"#B0BEC5\",\"#B0BEC5\",\"#B0BEC5\",\"#B0BEC5\",\"#B0BEC5\",\"#B0BEC5\",\"#B0BEC5\",\"#B0BEC5\",\"#B0BEC5\",\"#B0BEC5\",\"#B0BEC5\",\"#B0BEC5\",\"#B0BEC5\",\"#B0BEC5\",\"#B0BEC5\",\"#B0BEC5\",\"#B0BEC5\",\"#B0BEC5\",\"#B0BEC5\",\"#B0BEC5\",\"#B0BEC5\",\"#B0BEC5\",\"#B0BEC5\",\"#B0BEC5\",\"#B0BEC5\",\"#B0BEC5\",\"#B0BEC5\",\"#B0BEC5\",\"#B0BEC5\",\"red\",\"#B0BEC5\",\"#B0BEC5\",\"#B0BEC5\",\"#B0BEC5\",\"#B0BEC5\",\"#B0BEC5\",\"#B0BEC5\",\"#B0BEC5\",\"#B0BEC5\",\"#B0BEC5\",\"#B0BEC5\",\"#B0BEC5\",\"#B0BEC5\",\"#B0BEC5\",\"#B0BEC5\",\"#B0BEC5\",\"#B0BEC5\",\"#B0BEC5\",\"#B0BEC5\",\"#B0BEC5\",\"#B0BEC5\",\"#B0BEC5\",\"#B0BEC5\",\"#B0BEC5\",\"#B0BEC5\",\"#B0BEC5\",\"#B0BEC5\"]]}],\"label\":\"Topic 30\",\"method\":\"update\"},{\"args\":[{\"marker.color\":[[\"#B0BEC5\",\"#B0BEC5\",\"#B0BEC5\",\"#B0BEC5\",\"#B0BEC5\",\"#B0BEC5\",\"#B0BEC5\",\"#B0BEC5\",\"#B0BEC5\",\"#B0BEC5\",\"#B0BEC5\",\"#B0BEC5\",\"#B0BEC5\",\"#B0BEC5\",\"#B0BEC5\",\"#B0BEC5\",\"#B0BEC5\",\"#B0BEC5\",\"#B0BEC5\",\"#B0BEC5\",\"#B0BEC5\",\"#B0BEC5\",\"#B0BEC5\",\"#B0BEC5\",\"#B0BEC5\",\"#B0BEC5\",\"#B0BEC5\",\"#B0BEC5\",\"#B0BEC5\",\"#B0BEC5\",\"#B0BEC5\",\"red\",\"#B0BEC5\",\"#B0BEC5\",\"#B0BEC5\",\"#B0BEC5\",\"#B0BEC5\",\"#B0BEC5\",\"#B0BEC5\",\"#B0BEC5\",\"#B0BEC5\",\"#B0BEC5\",\"#B0BEC5\",\"#B0BEC5\",\"#B0BEC5\",\"#B0BEC5\",\"#B0BEC5\",\"#B0BEC5\",\"#B0BEC5\",\"#B0BEC5\",\"#B0BEC5\",\"#B0BEC5\",\"#B0BEC5\",\"#B0BEC5\",\"#B0BEC5\",\"#B0BEC5\",\"#B0BEC5\",\"#B0BEC5\"]]}],\"label\":\"Topic 31\",\"method\":\"update\"},{\"args\":[{\"marker.color\":[[\"#B0BEC5\",\"#B0BEC5\",\"#B0BEC5\",\"#B0BEC5\",\"#B0BEC5\",\"#B0BEC5\",\"#B0BEC5\",\"#B0BEC5\",\"#B0BEC5\",\"#B0BEC5\",\"#B0BEC5\",\"#B0BEC5\",\"#B0BEC5\",\"#B0BEC5\",\"#B0BEC5\",\"#B0BEC5\",\"#B0BEC5\",\"#B0BEC5\",\"#B0BEC5\",\"#B0BEC5\",\"#B0BEC5\",\"#B0BEC5\",\"#B0BEC5\",\"#B0BEC5\",\"#B0BEC5\",\"#B0BEC5\",\"#B0BEC5\",\"#B0BEC5\",\"#B0BEC5\",\"#B0BEC5\",\"#B0BEC5\",\"#B0BEC5\",\"red\",\"#B0BEC5\",\"#B0BEC5\",\"#B0BEC5\",\"#B0BEC5\",\"#B0BEC5\",\"#B0BEC5\",\"#B0BEC5\",\"#B0BEC5\",\"#B0BEC5\",\"#B0BEC5\",\"#B0BEC5\",\"#B0BEC5\",\"#B0BEC5\",\"#B0BEC5\",\"#B0BEC5\",\"#B0BEC5\",\"#B0BEC5\",\"#B0BEC5\",\"#B0BEC5\",\"#B0BEC5\",\"#B0BEC5\",\"#B0BEC5\",\"#B0BEC5\",\"#B0BEC5\",\"#B0BEC5\"]]}],\"label\":\"Topic 32\",\"method\":\"update\"},{\"args\":[{\"marker.color\":[[\"#B0BEC5\",\"#B0BEC5\",\"#B0BEC5\",\"#B0BEC5\",\"#B0BEC5\",\"#B0BEC5\",\"#B0BEC5\",\"#B0BEC5\",\"#B0BEC5\",\"#B0BEC5\",\"#B0BEC5\",\"#B0BEC5\",\"#B0BEC5\",\"#B0BEC5\",\"#B0BEC5\",\"#B0BEC5\",\"#B0BEC5\",\"#B0BEC5\",\"#B0BEC5\",\"#B0BEC5\",\"#B0BEC5\",\"#B0BEC5\",\"#B0BEC5\",\"#B0BEC5\",\"#B0BEC5\",\"#B0BEC5\",\"#B0BEC5\",\"#B0BEC5\",\"#B0BEC5\",\"#B0BEC5\",\"#B0BEC5\",\"#B0BEC5\",\"#B0BEC5\",\"red\",\"#B0BEC5\",\"#B0BEC5\",\"#B0BEC5\",\"#B0BEC5\",\"#B0BEC5\",\"#B0BEC5\",\"#B0BEC5\",\"#B0BEC5\",\"#B0BEC5\",\"#B0BEC5\",\"#B0BEC5\",\"#B0BEC5\",\"#B0BEC5\",\"#B0BEC5\",\"#B0BEC5\",\"#B0BEC5\",\"#B0BEC5\",\"#B0BEC5\",\"#B0BEC5\",\"#B0BEC5\",\"#B0BEC5\",\"#B0BEC5\",\"#B0BEC5\",\"#B0BEC5\"]]}],\"label\":\"Topic 33\",\"method\":\"update\"},{\"args\":[{\"marker.color\":[[\"#B0BEC5\",\"#B0BEC5\",\"#B0BEC5\",\"#B0BEC5\",\"#B0BEC5\",\"#B0BEC5\",\"#B0BEC5\",\"#B0BEC5\",\"#B0BEC5\",\"#B0BEC5\",\"#B0BEC5\",\"#B0BEC5\",\"#B0BEC5\",\"#B0BEC5\",\"#B0BEC5\",\"#B0BEC5\",\"#B0BEC5\",\"#B0BEC5\",\"#B0BEC5\",\"#B0BEC5\",\"#B0BEC5\",\"#B0BEC5\",\"#B0BEC5\",\"#B0BEC5\",\"#B0BEC5\",\"#B0BEC5\",\"#B0BEC5\",\"#B0BEC5\",\"#B0BEC5\",\"#B0BEC5\",\"#B0BEC5\",\"#B0BEC5\",\"#B0BEC5\",\"#B0BEC5\",\"red\",\"#B0BEC5\",\"#B0BEC5\",\"#B0BEC5\",\"#B0BEC5\",\"#B0BEC5\",\"#B0BEC5\",\"#B0BEC5\",\"#B0BEC5\",\"#B0BEC5\",\"#B0BEC5\",\"#B0BEC5\",\"#B0BEC5\",\"#B0BEC5\",\"#B0BEC5\",\"#B0BEC5\",\"#B0BEC5\",\"#B0BEC5\",\"#B0BEC5\",\"#B0BEC5\",\"#B0BEC5\",\"#B0BEC5\",\"#B0BEC5\",\"#B0BEC5\"]]}],\"label\":\"Topic 34\",\"method\":\"update\"},{\"args\":[{\"marker.color\":[[\"#B0BEC5\",\"#B0BEC5\",\"#B0BEC5\",\"#B0BEC5\",\"#B0BEC5\",\"#B0BEC5\",\"#B0BEC5\",\"#B0BEC5\",\"#B0BEC5\",\"#B0BEC5\",\"#B0BEC5\",\"#B0BEC5\",\"#B0BEC5\",\"#B0BEC5\",\"#B0BEC5\",\"#B0BEC5\",\"#B0BEC5\",\"#B0BEC5\",\"#B0BEC5\",\"#B0BEC5\",\"#B0BEC5\",\"#B0BEC5\",\"#B0BEC5\",\"#B0BEC5\",\"#B0BEC5\",\"#B0BEC5\",\"#B0BEC5\",\"#B0BEC5\",\"#B0BEC5\",\"#B0BEC5\",\"#B0BEC5\",\"#B0BEC5\",\"#B0BEC5\",\"#B0BEC5\",\"#B0BEC5\",\"red\",\"#B0BEC5\",\"#B0BEC5\",\"#B0BEC5\",\"#B0BEC5\",\"#B0BEC5\",\"#B0BEC5\",\"#B0BEC5\",\"#B0BEC5\",\"#B0BEC5\",\"#B0BEC5\",\"#B0BEC5\",\"#B0BEC5\",\"#B0BEC5\",\"#B0BEC5\",\"#B0BEC5\",\"#B0BEC5\",\"#B0BEC5\",\"#B0BEC5\",\"#B0BEC5\",\"#B0BEC5\",\"#B0BEC5\",\"#B0BEC5\"]]}],\"label\":\"Topic 35\",\"method\":\"update\"},{\"args\":[{\"marker.color\":[[\"#B0BEC5\",\"#B0BEC5\",\"#B0BEC5\",\"#B0BEC5\",\"#B0BEC5\",\"#B0BEC5\",\"#B0BEC5\",\"#B0BEC5\",\"#B0BEC5\",\"#B0BEC5\",\"#B0BEC5\",\"#B0BEC5\",\"#B0BEC5\",\"#B0BEC5\",\"#B0BEC5\",\"#B0BEC5\",\"#B0BEC5\",\"#B0BEC5\",\"#B0BEC5\",\"#B0BEC5\",\"#B0BEC5\",\"#B0BEC5\",\"#B0BEC5\",\"#B0BEC5\",\"#B0BEC5\",\"#B0BEC5\",\"#B0BEC5\",\"#B0BEC5\",\"#B0BEC5\",\"#B0BEC5\",\"#B0BEC5\",\"#B0BEC5\",\"#B0BEC5\",\"#B0BEC5\",\"#B0BEC5\",\"#B0BEC5\",\"red\",\"#B0BEC5\",\"#B0BEC5\",\"#B0BEC5\",\"#B0BEC5\",\"#B0BEC5\",\"#B0BEC5\",\"#B0BEC5\",\"#B0BEC5\",\"#B0BEC5\",\"#B0BEC5\",\"#B0BEC5\",\"#B0BEC5\",\"#B0BEC5\",\"#B0BEC5\",\"#B0BEC5\",\"#B0BEC5\",\"#B0BEC5\",\"#B0BEC5\",\"#B0BEC5\",\"#B0BEC5\",\"#B0BEC5\"]]}],\"label\":\"Topic 36\",\"method\":\"update\"},{\"args\":[{\"marker.color\":[[\"#B0BEC5\",\"#B0BEC5\",\"#B0BEC5\",\"#B0BEC5\",\"#B0BEC5\",\"#B0BEC5\",\"#B0BEC5\",\"#B0BEC5\",\"#B0BEC5\",\"#B0BEC5\",\"#B0BEC5\",\"#B0BEC5\",\"#B0BEC5\",\"#B0BEC5\",\"#B0BEC5\",\"#B0BEC5\",\"#B0BEC5\",\"#B0BEC5\",\"#B0BEC5\",\"#B0BEC5\",\"#B0BEC5\",\"#B0BEC5\",\"#B0BEC5\",\"#B0BEC5\",\"#B0BEC5\",\"#B0BEC5\",\"#B0BEC5\",\"#B0BEC5\",\"#B0BEC5\",\"#B0BEC5\",\"#B0BEC5\",\"#B0BEC5\",\"#B0BEC5\",\"#B0BEC5\",\"#B0BEC5\",\"#B0BEC5\",\"#B0BEC5\",\"red\",\"#B0BEC5\",\"#B0BEC5\",\"#B0BEC5\",\"#B0BEC5\",\"#B0BEC5\",\"#B0BEC5\",\"#B0BEC5\",\"#B0BEC5\",\"#B0BEC5\",\"#B0BEC5\",\"#B0BEC5\",\"#B0BEC5\",\"#B0BEC5\",\"#B0BEC5\",\"#B0BEC5\",\"#B0BEC5\",\"#B0BEC5\",\"#B0BEC5\",\"#B0BEC5\",\"#B0BEC5\"]]}],\"label\":\"Topic 37\",\"method\":\"update\"},{\"args\":[{\"marker.color\":[[\"#B0BEC5\",\"#B0BEC5\",\"#B0BEC5\",\"#B0BEC5\",\"#B0BEC5\",\"#B0BEC5\",\"#B0BEC5\",\"#B0BEC5\",\"#B0BEC5\",\"#B0BEC5\",\"#B0BEC5\",\"#B0BEC5\",\"#B0BEC5\",\"#B0BEC5\",\"#B0BEC5\",\"#B0BEC5\",\"#B0BEC5\",\"#B0BEC5\",\"#B0BEC5\",\"#B0BEC5\",\"#B0BEC5\",\"#B0BEC5\",\"#B0BEC5\",\"#B0BEC5\",\"#B0BEC5\",\"#B0BEC5\",\"#B0BEC5\",\"#B0BEC5\",\"#B0BEC5\",\"#B0BEC5\",\"#B0BEC5\",\"#B0BEC5\",\"#B0BEC5\",\"#B0BEC5\",\"#B0BEC5\",\"#B0BEC5\",\"#B0BEC5\",\"#B0BEC5\",\"red\",\"#B0BEC5\",\"#B0BEC5\",\"#B0BEC5\",\"#B0BEC5\",\"#B0BEC5\",\"#B0BEC5\",\"#B0BEC5\",\"#B0BEC5\",\"#B0BEC5\",\"#B0BEC5\",\"#B0BEC5\",\"#B0BEC5\",\"#B0BEC5\",\"#B0BEC5\",\"#B0BEC5\",\"#B0BEC5\",\"#B0BEC5\",\"#B0BEC5\",\"#B0BEC5\"]]}],\"label\":\"Topic 38\",\"method\":\"update\"},{\"args\":[{\"marker.color\":[[\"#B0BEC5\",\"#B0BEC5\",\"#B0BEC5\",\"#B0BEC5\",\"#B0BEC5\",\"#B0BEC5\",\"#B0BEC5\",\"#B0BEC5\",\"#B0BEC5\",\"#B0BEC5\",\"#B0BEC5\",\"#B0BEC5\",\"#B0BEC5\",\"#B0BEC5\",\"#B0BEC5\",\"#B0BEC5\",\"#B0BEC5\",\"#B0BEC5\",\"#B0BEC5\",\"#B0BEC5\",\"#B0BEC5\",\"#B0BEC5\",\"#B0BEC5\",\"#B0BEC5\",\"#B0BEC5\",\"#B0BEC5\",\"#B0BEC5\",\"#B0BEC5\",\"#B0BEC5\",\"#B0BEC5\",\"#B0BEC5\",\"#B0BEC5\",\"#B0BEC5\",\"#B0BEC5\",\"#B0BEC5\",\"#B0BEC5\",\"#B0BEC5\",\"#B0BEC5\",\"#B0BEC5\",\"red\",\"#B0BEC5\",\"#B0BEC5\",\"#B0BEC5\",\"#B0BEC5\",\"#B0BEC5\",\"#B0BEC5\",\"#B0BEC5\",\"#B0BEC5\",\"#B0BEC5\",\"#B0BEC5\",\"#B0BEC5\",\"#B0BEC5\",\"#B0BEC5\",\"#B0BEC5\",\"#B0BEC5\",\"#B0BEC5\",\"#B0BEC5\",\"#B0BEC5\"]]}],\"label\":\"Topic 39\",\"method\":\"update\"},{\"args\":[{\"marker.color\":[[\"#B0BEC5\",\"#B0BEC5\",\"#B0BEC5\",\"#B0BEC5\",\"#B0BEC5\",\"#B0BEC5\",\"#B0BEC5\",\"#B0BEC5\",\"#B0BEC5\",\"#B0BEC5\",\"#B0BEC5\",\"#B0BEC5\",\"#B0BEC5\",\"#B0BEC5\",\"#B0BEC5\",\"#B0BEC5\",\"#B0BEC5\",\"#B0BEC5\",\"#B0BEC5\",\"#B0BEC5\",\"#B0BEC5\",\"#B0BEC5\",\"#B0BEC5\",\"#B0BEC5\",\"#B0BEC5\",\"#B0BEC5\",\"#B0BEC5\",\"#B0BEC5\",\"#B0BEC5\",\"#B0BEC5\",\"#B0BEC5\",\"#B0BEC5\",\"#B0BEC5\",\"#B0BEC5\",\"#B0BEC5\",\"#B0BEC5\",\"#B0BEC5\",\"#B0BEC5\",\"#B0BEC5\",\"#B0BEC5\",\"red\",\"#B0BEC5\",\"#B0BEC5\",\"#B0BEC5\",\"#B0BEC5\",\"#B0BEC5\",\"#B0BEC5\",\"#B0BEC5\",\"#B0BEC5\",\"#B0BEC5\",\"#B0BEC5\",\"#B0BEC5\",\"#B0BEC5\",\"#B0BEC5\",\"#B0BEC5\",\"#B0BEC5\",\"#B0BEC5\",\"#B0BEC5\"]]}],\"label\":\"Topic 40\",\"method\":\"update\"},{\"args\":[{\"marker.color\":[[\"#B0BEC5\",\"#B0BEC5\",\"#B0BEC5\",\"#B0BEC5\",\"#B0BEC5\",\"#B0BEC5\",\"#B0BEC5\",\"#B0BEC5\",\"#B0BEC5\",\"#B0BEC5\",\"#B0BEC5\",\"#B0BEC5\",\"#B0BEC5\",\"#B0BEC5\",\"#B0BEC5\",\"#B0BEC5\",\"#B0BEC5\",\"#B0BEC5\",\"#B0BEC5\",\"#B0BEC5\",\"#B0BEC5\",\"#B0BEC5\",\"#B0BEC5\",\"#B0BEC5\",\"#B0BEC5\",\"#B0BEC5\",\"#B0BEC5\",\"#B0BEC5\",\"#B0BEC5\",\"#B0BEC5\",\"#B0BEC5\",\"#B0BEC5\",\"#B0BEC5\",\"#B0BEC5\",\"#B0BEC5\",\"#B0BEC5\",\"#B0BEC5\",\"#B0BEC5\",\"#B0BEC5\",\"#B0BEC5\",\"#B0BEC5\",\"red\",\"#B0BEC5\",\"#B0BEC5\",\"#B0BEC5\",\"#B0BEC5\",\"#B0BEC5\",\"#B0BEC5\",\"#B0BEC5\",\"#B0BEC5\",\"#B0BEC5\",\"#B0BEC5\",\"#B0BEC5\",\"#B0BEC5\",\"#B0BEC5\",\"#B0BEC5\",\"#B0BEC5\",\"#B0BEC5\"]]}],\"label\":\"Topic 41\",\"method\":\"update\"},{\"args\":[{\"marker.color\":[[\"#B0BEC5\",\"#B0BEC5\",\"#B0BEC5\",\"#B0BEC5\",\"#B0BEC5\",\"#B0BEC5\",\"#B0BEC5\",\"#B0BEC5\",\"#B0BEC5\",\"#B0BEC5\",\"#B0BEC5\",\"#B0BEC5\",\"#B0BEC5\",\"#B0BEC5\",\"#B0BEC5\",\"#B0BEC5\",\"#B0BEC5\",\"#B0BEC5\",\"#B0BEC5\",\"#B0BEC5\",\"#B0BEC5\",\"#B0BEC5\",\"#B0BEC5\",\"#B0BEC5\",\"#B0BEC5\",\"#B0BEC5\",\"#B0BEC5\",\"#B0BEC5\",\"#B0BEC5\",\"#B0BEC5\",\"#B0BEC5\",\"#B0BEC5\",\"#B0BEC5\",\"#B0BEC5\",\"#B0BEC5\",\"#B0BEC5\",\"#B0BEC5\",\"#B0BEC5\",\"#B0BEC5\",\"#B0BEC5\",\"#B0BEC5\",\"#B0BEC5\",\"red\",\"#B0BEC5\",\"#B0BEC5\",\"#B0BEC5\",\"#B0BEC5\",\"#B0BEC5\",\"#B0BEC5\",\"#B0BEC5\",\"#B0BEC5\",\"#B0BEC5\",\"#B0BEC5\",\"#B0BEC5\",\"#B0BEC5\",\"#B0BEC5\",\"#B0BEC5\",\"#B0BEC5\"]]}],\"label\":\"Topic 42\",\"method\":\"update\"},{\"args\":[{\"marker.color\":[[\"#B0BEC5\",\"#B0BEC5\",\"#B0BEC5\",\"#B0BEC5\",\"#B0BEC5\",\"#B0BEC5\",\"#B0BEC5\",\"#B0BEC5\",\"#B0BEC5\",\"#B0BEC5\",\"#B0BEC5\",\"#B0BEC5\",\"#B0BEC5\",\"#B0BEC5\",\"#B0BEC5\",\"#B0BEC5\",\"#B0BEC5\",\"#B0BEC5\",\"#B0BEC5\",\"#B0BEC5\",\"#B0BEC5\",\"#B0BEC5\",\"#B0BEC5\",\"#B0BEC5\",\"#B0BEC5\",\"#B0BEC5\",\"#B0BEC5\",\"#B0BEC5\",\"#B0BEC5\",\"#B0BEC5\",\"#B0BEC5\",\"#B0BEC5\",\"#B0BEC5\",\"#B0BEC5\",\"#B0BEC5\",\"#B0BEC5\",\"#B0BEC5\",\"#B0BEC5\",\"#B0BEC5\",\"#B0BEC5\",\"#B0BEC5\",\"#B0BEC5\",\"#B0BEC5\",\"red\",\"#B0BEC5\",\"#B0BEC5\",\"#B0BEC5\",\"#B0BEC5\",\"#B0BEC5\",\"#B0BEC5\",\"#B0BEC5\",\"#B0BEC5\",\"#B0BEC5\",\"#B0BEC5\",\"#B0BEC5\",\"#B0BEC5\",\"#B0BEC5\",\"#B0BEC5\"]]}],\"label\":\"Topic 43\",\"method\":\"update\"},{\"args\":[{\"marker.color\":[[\"#B0BEC5\",\"#B0BEC5\",\"#B0BEC5\",\"#B0BEC5\",\"#B0BEC5\",\"#B0BEC5\",\"#B0BEC5\",\"#B0BEC5\",\"#B0BEC5\",\"#B0BEC5\",\"#B0BEC5\",\"#B0BEC5\",\"#B0BEC5\",\"#B0BEC5\",\"#B0BEC5\",\"#B0BEC5\",\"#B0BEC5\",\"#B0BEC5\",\"#B0BEC5\",\"#B0BEC5\",\"#B0BEC5\",\"#B0BEC5\",\"#B0BEC5\",\"#B0BEC5\",\"#B0BEC5\",\"#B0BEC5\",\"#B0BEC5\",\"#B0BEC5\",\"#B0BEC5\",\"#B0BEC5\",\"#B0BEC5\",\"#B0BEC5\",\"#B0BEC5\",\"#B0BEC5\",\"#B0BEC5\",\"#B0BEC5\",\"#B0BEC5\",\"#B0BEC5\",\"#B0BEC5\",\"#B0BEC5\",\"#B0BEC5\",\"#B0BEC5\",\"#B0BEC5\",\"#B0BEC5\",\"red\",\"#B0BEC5\",\"#B0BEC5\",\"#B0BEC5\",\"#B0BEC5\",\"#B0BEC5\",\"#B0BEC5\",\"#B0BEC5\",\"#B0BEC5\",\"#B0BEC5\",\"#B0BEC5\",\"#B0BEC5\",\"#B0BEC5\",\"#B0BEC5\"]]}],\"label\":\"Topic 44\",\"method\":\"update\"},{\"args\":[{\"marker.color\":[[\"#B0BEC5\",\"#B0BEC5\",\"#B0BEC5\",\"#B0BEC5\",\"#B0BEC5\",\"#B0BEC5\",\"#B0BEC5\",\"#B0BEC5\",\"#B0BEC5\",\"#B0BEC5\",\"#B0BEC5\",\"#B0BEC5\",\"#B0BEC5\",\"#B0BEC5\",\"#B0BEC5\",\"#B0BEC5\",\"#B0BEC5\",\"#B0BEC5\",\"#B0BEC5\",\"#B0BEC5\",\"#B0BEC5\",\"#B0BEC5\",\"#B0BEC5\",\"#B0BEC5\",\"#B0BEC5\",\"#B0BEC5\",\"#B0BEC5\",\"#B0BEC5\",\"#B0BEC5\",\"#B0BEC5\",\"#B0BEC5\",\"#B0BEC5\",\"#B0BEC5\",\"#B0BEC5\",\"#B0BEC5\",\"#B0BEC5\",\"#B0BEC5\",\"#B0BEC5\",\"#B0BEC5\",\"#B0BEC5\",\"#B0BEC5\",\"#B0BEC5\",\"#B0BEC5\",\"#B0BEC5\",\"#B0BEC5\",\"red\",\"#B0BEC5\",\"#B0BEC5\",\"#B0BEC5\",\"#B0BEC5\",\"#B0BEC5\",\"#B0BEC5\",\"#B0BEC5\",\"#B0BEC5\",\"#B0BEC5\",\"#B0BEC5\",\"#B0BEC5\",\"#B0BEC5\"]]}],\"label\":\"Topic 45\",\"method\":\"update\"},{\"args\":[{\"marker.color\":[[\"#B0BEC5\",\"#B0BEC5\",\"#B0BEC5\",\"#B0BEC5\",\"#B0BEC5\",\"#B0BEC5\",\"#B0BEC5\",\"#B0BEC5\",\"#B0BEC5\",\"#B0BEC5\",\"#B0BEC5\",\"#B0BEC5\",\"#B0BEC5\",\"#B0BEC5\",\"#B0BEC5\",\"#B0BEC5\",\"#B0BEC5\",\"#B0BEC5\",\"#B0BEC5\",\"#B0BEC5\",\"#B0BEC5\",\"#B0BEC5\",\"#B0BEC5\",\"#B0BEC5\",\"#B0BEC5\",\"#B0BEC5\",\"#B0BEC5\",\"#B0BEC5\",\"#B0BEC5\",\"#B0BEC5\",\"#B0BEC5\",\"#B0BEC5\",\"#B0BEC5\",\"#B0BEC5\",\"#B0BEC5\",\"#B0BEC5\",\"#B0BEC5\",\"#B0BEC5\",\"#B0BEC5\",\"#B0BEC5\",\"#B0BEC5\",\"#B0BEC5\",\"#B0BEC5\",\"#B0BEC5\",\"#B0BEC5\",\"#B0BEC5\",\"red\",\"#B0BEC5\",\"#B0BEC5\",\"#B0BEC5\",\"#B0BEC5\",\"#B0BEC5\",\"#B0BEC5\",\"#B0BEC5\",\"#B0BEC5\",\"#B0BEC5\",\"#B0BEC5\",\"#B0BEC5\"]]}],\"label\":\"Topic 46\",\"method\":\"update\"},{\"args\":[{\"marker.color\":[[\"#B0BEC5\",\"#B0BEC5\",\"#B0BEC5\",\"#B0BEC5\",\"#B0BEC5\",\"#B0BEC5\",\"#B0BEC5\",\"#B0BEC5\",\"#B0BEC5\",\"#B0BEC5\",\"#B0BEC5\",\"#B0BEC5\",\"#B0BEC5\",\"#B0BEC5\",\"#B0BEC5\",\"#B0BEC5\",\"#B0BEC5\",\"#B0BEC5\",\"#B0BEC5\",\"#B0BEC5\",\"#B0BEC5\",\"#B0BEC5\",\"#B0BEC5\",\"#B0BEC5\",\"#B0BEC5\",\"#B0BEC5\",\"#B0BEC5\",\"#B0BEC5\",\"#B0BEC5\",\"#B0BEC5\",\"#B0BEC5\",\"#B0BEC5\",\"#B0BEC5\",\"#B0BEC5\",\"#B0BEC5\",\"#B0BEC5\",\"#B0BEC5\",\"#B0BEC5\",\"#B0BEC5\",\"#B0BEC5\",\"#B0BEC5\",\"#B0BEC5\",\"#B0BEC5\",\"#B0BEC5\",\"#B0BEC5\",\"#B0BEC5\",\"#B0BEC5\",\"red\",\"#B0BEC5\",\"#B0BEC5\",\"#B0BEC5\",\"#B0BEC5\",\"#B0BEC5\",\"#B0BEC5\",\"#B0BEC5\",\"#B0BEC5\",\"#B0BEC5\",\"#B0BEC5\"]]}],\"label\":\"Topic 47\",\"method\":\"update\"},{\"args\":[{\"marker.color\":[[\"#B0BEC5\",\"#B0BEC5\",\"#B0BEC5\",\"#B0BEC5\",\"#B0BEC5\",\"#B0BEC5\",\"#B0BEC5\",\"#B0BEC5\",\"#B0BEC5\",\"#B0BEC5\",\"#B0BEC5\",\"#B0BEC5\",\"#B0BEC5\",\"#B0BEC5\",\"#B0BEC5\",\"#B0BEC5\",\"#B0BEC5\",\"#B0BEC5\",\"#B0BEC5\",\"#B0BEC5\",\"#B0BEC5\",\"#B0BEC5\",\"#B0BEC5\",\"#B0BEC5\",\"#B0BEC5\",\"#B0BEC5\",\"#B0BEC5\",\"#B0BEC5\",\"#B0BEC5\",\"#B0BEC5\",\"#B0BEC5\",\"#B0BEC5\",\"#B0BEC5\",\"#B0BEC5\",\"#B0BEC5\",\"#B0BEC5\",\"#B0BEC5\",\"#B0BEC5\",\"#B0BEC5\",\"#B0BEC5\",\"#B0BEC5\",\"#B0BEC5\",\"#B0BEC5\",\"#B0BEC5\",\"#B0BEC5\",\"#B0BEC5\",\"#B0BEC5\",\"#B0BEC5\",\"red\",\"#B0BEC5\",\"#B0BEC5\",\"#B0BEC5\",\"#B0BEC5\",\"#B0BEC5\",\"#B0BEC5\",\"#B0BEC5\",\"#B0BEC5\",\"#B0BEC5\"]]}],\"label\":\"Topic 48\",\"method\":\"update\"},{\"args\":[{\"marker.color\":[[\"#B0BEC5\",\"#B0BEC5\",\"#B0BEC5\",\"#B0BEC5\",\"#B0BEC5\",\"#B0BEC5\",\"#B0BEC5\",\"#B0BEC5\",\"#B0BEC5\",\"#B0BEC5\",\"#B0BEC5\",\"#B0BEC5\",\"#B0BEC5\",\"#B0BEC5\",\"#B0BEC5\",\"#B0BEC5\",\"#B0BEC5\",\"#B0BEC5\",\"#B0BEC5\",\"#B0BEC5\",\"#B0BEC5\",\"#B0BEC5\",\"#B0BEC5\",\"#B0BEC5\",\"#B0BEC5\",\"#B0BEC5\",\"#B0BEC5\",\"#B0BEC5\",\"#B0BEC5\",\"#B0BEC5\",\"#B0BEC5\",\"#B0BEC5\",\"#B0BEC5\",\"#B0BEC5\",\"#B0BEC5\",\"#B0BEC5\",\"#B0BEC5\",\"#B0BEC5\",\"#B0BEC5\",\"#B0BEC5\",\"#B0BEC5\",\"#B0BEC5\",\"#B0BEC5\",\"#B0BEC5\",\"#B0BEC5\",\"#B0BEC5\",\"#B0BEC5\",\"#B0BEC5\",\"#B0BEC5\",\"red\",\"#B0BEC5\",\"#B0BEC5\",\"#B0BEC5\",\"#B0BEC5\",\"#B0BEC5\",\"#B0BEC5\",\"#B0BEC5\",\"#B0BEC5\"]]}],\"label\":\"Topic 49\",\"method\":\"update\"},{\"args\":[{\"marker.color\":[[\"#B0BEC5\",\"#B0BEC5\",\"#B0BEC5\",\"#B0BEC5\",\"#B0BEC5\",\"#B0BEC5\",\"#B0BEC5\",\"#B0BEC5\",\"#B0BEC5\",\"#B0BEC5\",\"#B0BEC5\",\"#B0BEC5\",\"#B0BEC5\",\"#B0BEC5\",\"#B0BEC5\",\"#B0BEC5\",\"#B0BEC5\",\"#B0BEC5\",\"#B0BEC5\",\"#B0BEC5\",\"#B0BEC5\",\"#B0BEC5\",\"#B0BEC5\",\"#B0BEC5\",\"#B0BEC5\",\"#B0BEC5\",\"#B0BEC5\",\"#B0BEC5\",\"#B0BEC5\",\"#B0BEC5\",\"#B0BEC5\",\"#B0BEC5\",\"#B0BEC5\",\"#B0BEC5\",\"#B0BEC5\",\"#B0BEC5\",\"#B0BEC5\",\"#B0BEC5\",\"#B0BEC5\",\"#B0BEC5\",\"#B0BEC5\",\"#B0BEC5\",\"#B0BEC5\",\"#B0BEC5\",\"#B0BEC5\",\"#B0BEC5\",\"#B0BEC5\",\"#B0BEC5\",\"#B0BEC5\",\"#B0BEC5\",\"red\",\"#B0BEC5\",\"#B0BEC5\",\"#B0BEC5\",\"#B0BEC5\",\"#B0BEC5\",\"#B0BEC5\",\"#B0BEC5\"]]}],\"label\":\"Topic 50\",\"method\":\"update\"},{\"args\":[{\"marker.color\":[[\"#B0BEC5\",\"#B0BEC5\",\"#B0BEC5\",\"#B0BEC5\",\"#B0BEC5\",\"#B0BEC5\",\"#B0BEC5\",\"#B0BEC5\",\"#B0BEC5\",\"#B0BEC5\",\"#B0BEC5\",\"#B0BEC5\",\"#B0BEC5\",\"#B0BEC5\",\"#B0BEC5\",\"#B0BEC5\",\"#B0BEC5\",\"#B0BEC5\",\"#B0BEC5\",\"#B0BEC5\",\"#B0BEC5\",\"#B0BEC5\",\"#B0BEC5\",\"#B0BEC5\",\"#B0BEC5\",\"#B0BEC5\",\"#B0BEC5\",\"#B0BEC5\",\"#B0BEC5\",\"#B0BEC5\",\"#B0BEC5\",\"#B0BEC5\",\"#B0BEC5\",\"#B0BEC5\",\"#B0BEC5\",\"#B0BEC5\",\"#B0BEC5\",\"#B0BEC5\",\"#B0BEC5\",\"#B0BEC5\",\"#B0BEC5\",\"#B0BEC5\",\"#B0BEC5\",\"#B0BEC5\",\"#B0BEC5\",\"#B0BEC5\",\"#B0BEC5\",\"#B0BEC5\",\"#B0BEC5\",\"#B0BEC5\",\"#B0BEC5\",\"red\",\"#B0BEC5\",\"#B0BEC5\",\"#B0BEC5\",\"#B0BEC5\",\"#B0BEC5\",\"#B0BEC5\"]]}],\"label\":\"Topic 51\",\"method\":\"update\"},{\"args\":[{\"marker.color\":[[\"#B0BEC5\",\"#B0BEC5\",\"#B0BEC5\",\"#B0BEC5\",\"#B0BEC5\",\"#B0BEC5\",\"#B0BEC5\",\"#B0BEC5\",\"#B0BEC5\",\"#B0BEC5\",\"#B0BEC5\",\"#B0BEC5\",\"#B0BEC5\",\"#B0BEC5\",\"#B0BEC5\",\"#B0BEC5\",\"#B0BEC5\",\"#B0BEC5\",\"#B0BEC5\",\"#B0BEC5\",\"#B0BEC5\",\"#B0BEC5\",\"#B0BEC5\",\"#B0BEC5\",\"#B0BEC5\",\"#B0BEC5\",\"#B0BEC5\",\"#B0BEC5\",\"#B0BEC5\",\"#B0BEC5\",\"#B0BEC5\",\"#B0BEC5\",\"#B0BEC5\",\"#B0BEC5\",\"#B0BEC5\",\"#B0BEC5\",\"#B0BEC5\",\"#B0BEC5\",\"#B0BEC5\",\"#B0BEC5\",\"#B0BEC5\",\"#B0BEC5\",\"#B0BEC5\",\"#B0BEC5\",\"#B0BEC5\",\"#B0BEC5\",\"#B0BEC5\",\"#B0BEC5\",\"#B0BEC5\",\"#B0BEC5\",\"#B0BEC5\",\"#B0BEC5\",\"red\",\"#B0BEC5\",\"#B0BEC5\",\"#B0BEC5\",\"#B0BEC5\",\"#B0BEC5\"]]}],\"label\":\"Topic 52\",\"method\":\"update\"},{\"args\":[{\"marker.color\":[[\"#B0BEC5\",\"#B0BEC5\",\"#B0BEC5\",\"#B0BEC5\",\"#B0BEC5\",\"#B0BEC5\",\"#B0BEC5\",\"#B0BEC5\",\"#B0BEC5\",\"#B0BEC5\",\"#B0BEC5\",\"#B0BEC5\",\"#B0BEC5\",\"#B0BEC5\",\"#B0BEC5\",\"#B0BEC5\",\"#B0BEC5\",\"#B0BEC5\",\"#B0BEC5\",\"#B0BEC5\",\"#B0BEC5\",\"#B0BEC5\",\"#B0BEC5\",\"#B0BEC5\",\"#B0BEC5\",\"#B0BEC5\",\"#B0BEC5\",\"#B0BEC5\",\"#B0BEC5\",\"#B0BEC5\",\"#B0BEC5\",\"#B0BEC5\",\"#B0BEC5\",\"#B0BEC5\",\"#B0BEC5\",\"#B0BEC5\",\"#B0BEC5\",\"#B0BEC5\",\"#B0BEC5\",\"#B0BEC5\",\"#B0BEC5\",\"#B0BEC5\",\"#B0BEC5\",\"#B0BEC5\",\"#B0BEC5\",\"#B0BEC5\",\"#B0BEC5\",\"#B0BEC5\",\"#B0BEC5\",\"#B0BEC5\",\"#B0BEC5\",\"#B0BEC5\",\"#B0BEC5\",\"red\",\"#B0BEC5\",\"#B0BEC5\",\"#B0BEC5\",\"#B0BEC5\"]]}],\"label\":\"Topic 53\",\"method\":\"update\"},{\"args\":[{\"marker.color\":[[\"#B0BEC5\",\"#B0BEC5\",\"#B0BEC5\",\"#B0BEC5\",\"#B0BEC5\",\"#B0BEC5\",\"#B0BEC5\",\"#B0BEC5\",\"#B0BEC5\",\"#B0BEC5\",\"#B0BEC5\",\"#B0BEC5\",\"#B0BEC5\",\"#B0BEC5\",\"#B0BEC5\",\"#B0BEC5\",\"#B0BEC5\",\"#B0BEC5\",\"#B0BEC5\",\"#B0BEC5\",\"#B0BEC5\",\"#B0BEC5\",\"#B0BEC5\",\"#B0BEC5\",\"#B0BEC5\",\"#B0BEC5\",\"#B0BEC5\",\"#B0BEC5\",\"#B0BEC5\",\"#B0BEC5\",\"#B0BEC5\",\"#B0BEC5\",\"#B0BEC5\",\"#B0BEC5\",\"#B0BEC5\",\"#B0BEC5\",\"#B0BEC5\",\"#B0BEC5\",\"#B0BEC5\",\"#B0BEC5\",\"#B0BEC5\",\"#B0BEC5\",\"#B0BEC5\",\"#B0BEC5\",\"#B0BEC5\",\"#B0BEC5\",\"#B0BEC5\",\"#B0BEC5\",\"#B0BEC5\",\"#B0BEC5\",\"#B0BEC5\",\"#B0BEC5\",\"#B0BEC5\",\"#B0BEC5\",\"red\",\"#B0BEC5\",\"#B0BEC5\",\"#B0BEC5\"]]}],\"label\":\"Topic 54\",\"method\":\"update\"},{\"args\":[{\"marker.color\":[[\"#B0BEC5\",\"#B0BEC5\",\"#B0BEC5\",\"#B0BEC5\",\"#B0BEC5\",\"#B0BEC5\",\"#B0BEC5\",\"#B0BEC5\",\"#B0BEC5\",\"#B0BEC5\",\"#B0BEC5\",\"#B0BEC5\",\"#B0BEC5\",\"#B0BEC5\",\"#B0BEC5\",\"#B0BEC5\",\"#B0BEC5\",\"#B0BEC5\",\"#B0BEC5\",\"#B0BEC5\",\"#B0BEC5\",\"#B0BEC5\",\"#B0BEC5\",\"#B0BEC5\",\"#B0BEC5\",\"#B0BEC5\",\"#B0BEC5\",\"#B0BEC5\",\"#B0BEC5\",\"#B0BEC5\",\"#B0BEC5\",\"#B0BEC5\",\"#B0BEC5\",\"#B0BEC5\",\"#B0BEC5\",\"#B0BEC5\",\"#B0BEC5\",\"#B0BEC5\",\"#B0BEC5\",\"#B0BEC5\",\"#B0BEC5\",\"#B0BEC5\",\"#B0BEC5\",\"#B0BEC5\",\"#B0BEC5\",\"#B0BEC5\",\"#B0BEC5\",\"#B0BEC5\",\"#B0BEC5\",\"#B0BEC5\",\"#B0BEC5\",\"#B0BEC5\",\"#B0BEC5\",\"#B0BEC5\",\"#B0BEC5\",\"red\",\"#B0BEC5\",\"#B0BEC5\"]]}],\"label\":\"Topic 55\",\"method\":\"update\"},{\"args\":[{\"marker.color\":[[\"#B0BEC5\",\"#B0BEC5\",\"#B0BEC5\",\"#B0BEC5\",\"#B0BEC5\",\"#B0BEC5\",\"#B0BEC5\",\"#B0BEC5\",\"#B0BEC5\",\"#B0BEC5\",\"#B0BEC5\",\"#B0BEC5\",\"#B0BEC5\",\"#B0BEC5\",\"#B0BEC5\",\"#B0BEC5\",\"#B0BEC5\",\"#B0BEC5\",\"#B0BEC5\",\"#B0BEC5\",\"#B0BEC5\",\"#B0BEC5\",\"#B0BEC5\",\"#B0BEC5\",\"#B0BEC5\",\"#B0BEC5\",\"#B0BEC5\",\"#B0BEC5\",\"#B0BEC5\",\"#B0BEC5\",\"#B0BEC5\",\"#B0BEC5\",\"#B0BEC5\",\"#B0BEC5\",\"#B0BEC5\",\"#B0BEC5\",\"#B0BEC5\",\"#B0BEC5\",\"#B0BEC5\",\"#B0BEC5\",\"#B0BEC5\",\"#B0BEC5\",\"#B0BEC5\",\"#B0BEC5\",\"#B0BEC5\",\"#B0BEC5\",\"#B0BEC5\",\"#B0BEC5\",\"#B0BEC5\",\"#B0BEC5\",\"#B0BEC5\",\"#B0BEC5\",\"#B0BEC5\",\"#B0BEC5\",\"#B0BEC5\",\"#B0BEC5\",\"red\",\"#B0BEC5\"]]}],\"label\":\"Topic 56\",\"method\":\"update\"},{\"args\":[{\"marker.color\":[[\"#B0BEC5\",\"#B0BEC5\",\"#B0BEC5\",\"#B0BEC5\",\"#B0BEC5\",\"#B0BEC5\",\"#B0BEC5\",\"#B0BEC5\",\"#B0BEC5\",\"#B0BEC5\",\"#B0BEC5\",\"#B0BEC5\",\"#B0BEC5\",\"#B0BEC5\",\"#B0BEC5\",\"#B0BEC5\",\"#B0BEC5\",\"#B0BEC5\",\"#B0BEC5\",\"#B0BEC5\",\"#B0BEC5\",\"#B0BEC5\",\"#B0BEC5\",\"#B0BEC5\",\"#B0BEC5\",\"#B0BEC5\",\"#B0BEC5\",\"#B0BEC5\",\"#B0BEC5\",\"#B0BEC5\",\"#B0BEC5\",\"#B0BEC5\",\"#B0BEC5\",\"#B0BEC5\",\"#B0BEC5\",\"#B0BEC5\",\"#B0BEC5\",\"#B0BEC5\",\"#B0BEC5\",\"#B0BEC5\",\"#B0BEC5\",\"#B0BEC5\",\"#B0BEC5\",\"#B0BEC5\",\"#B0BEC5\",\"#B0BEC5\",\"#B0BEC5\",\"#B0BEC5\",\"#B0BEC5\",\"#B0BEC5\",\"#B0BEC5\",\"#B0BEC5\",\"#B0BEC5\",\"#B0BEC5\",\"#B0BEC5\",\"#B0BEC5\",\"#B0BEC5\",\"red\"]]}],\"label\":\"Topic 57\",\"method\":\"update\"}]}],\"shapes\":[{\"line\":{\"color\":\"#CFD8DC\",\"width\":2},\"type\":\"line\",\"x0\":-0.6009200096130378,\"x1\":-0.6009200096130378,\"y0\":-10.964177227020263,\"y1\":24.423551845550538},{\"line\":{\"color\":\"#9E9E9E\",\"width\":2},\"type\":\"line\",\"x0\":-20.916533088684083,\"x1\":19.714693069458008,\"y0\":6.729687309265137,\"y1\":6.729687309265137}],\"annotations\":[{\"showarrow\":false,\"text\":\"D1\",\"x\":-20.916533088684083,\"y\":6.729687309265137,\"yshift\":10},{\"showarrow\":false,\"text\":\"D2\",\"x\":-0.6009200096130378,\"xshift\":10,\"y\":24.423551845550538}]},                        {\"responsive\": true}                    ).then(function(){\n",
       "                            \n",
       "var gd = document.getElementById('808c3a5f-7974-4948-91b1-7d5f1b55326e');\n",
       "var x = new MutationObserver(function (mutations, observer) {{\n",
       "        var display = window.getComputedStyle(gd).display;\n",
       "        if (!display || display === 'none') {{\n",
       "            console.log([gd, 'removed!']);\n",
       "            Plotly.purge(gd);\n",
       "            observer.disconnect();\n",
       "        }}\n",
       "}});\n",
       "\n",
       "// Listen for the removal of the full notebook cells\n",
       "var notebookContainer = gd.closest('#notebook-container');\n",
       "if (notebookContainer) {{\n",
       "    x.observe(notebookContainer, {childList: true});\n",
       "}}\n",
       "\n",
       "// Listen for the clearing of the current output cell\n",
       "var outputEl = gd.closest('.output');\n",
       "if (outputEl) {{\n",
       "    x.observe(outputEl, {childList: true});\n",
       "}}\n",
       "\n",
       "                        })                };                });            </script>        </div>"
      ]
     },
     "metadata": {},
     "output_type": "display_data"
    }
   ],
   "source": [
    "topic_model.visualize_topics()"
   ]
  },
  {
   "cell_type": "code",
   "execution_count": 256,
   "metadata": {},
   "outputs": [
    {
     "data": {
      "application/vnd.plotly.v1+json": {
       "config": {
        "plotlyServerURL": "https://plot.ly"
       },
       "data": [
        {
         "hoverinfo": "text",
         "marker": {
          "color": "rgb(61,153,112)"
         },
         "mode": "lines",
         "type": "scatter",
         "x": [
          0,
          0.8622089887212615,
          0.8622089887212615,
          0
         ],
         "xaxis": "x",
         "y": [
          -15,
          -15,
          -25,
          -25
         ],
         "yaxis": "y"
        },
        {
         "hoverinfo": "text",
         "marker": {
          "color": "rgb(61,153,112)"
         },
         "mode": "lines",
         "type": "scatter",
         "x": [
          0,
          0.9149565381964272,
          0.9149565381964272,
          0.8622089887212615
         ],
         "xaxis": "x",
         "y": [
          -5,
          -5,
          -20,
          -20
         ],
         "yaxis": "y"
        },
        {
         "hoverinfo": "text",
         "marker": {
          "color": "rgb(255,65,54)"
         },
         "mode": "lines",
         "type": "scatter",
         "x": [
          0,
          0.9055680307019764,
          0.9055680307019764,
          0
         ],
         "xaxis": "x",
         "y": [
          -35,
          -35,
          -45,
          -45
         ],
         "yaxis": "y"
        },
        {
         "hoverinfo": "text",
         "marker": {
          "color": "rgb(255,65,54)"
         },
         "mode": "lines",
         "type": "scatter",
         "x": [
          0.9055680307019764,
          0.9498579891117196,
          0.9498579891117196,
          0
         ],
         "xaxis": "x",
         "y": [
          -40,
          -40,
          -55,
          -55
         ],
         "yaxis": "y"
        },
        {
         "hoverinfo": "text",
         "marker": {
          "color": "rgb(35,205,205)"
         },
         "mode": "lines",
         "type": "scatter",
         "x": [
          0,
          0.8914702184854728,
          0.8914702184854728,
          0
         ],
         "xaxis": "x",
         "y": [
          -75,
          -75,
          -85,
          -85
         ],
         "yaxis": "y"
        },
        {
         "hoverinfo": "text",
         "marker": {
          "color": "rgb(35,205,205)"
         },
         "mode": "lines",
         "type": "scatter",
         "x": [
          0,
          0.969663519501249,
          0.969663519501249,
          0.8914702184854728
         ],
         "xaxis": "x",
         "y": [
          -65,
          -65,
          -80,
          -80
         ],
         "yaxis": "y"
        },
        {
         "hoverinfo": "text",
         "marker": {
          "color": "rgb(133,20,75)"
         },
         "mode": "lines",
         "type": "scatter",
         "x": [
          0,
          0.9550057483238168,
          0.9550057483238168,
          0
         ],
         "xaxis": "x",
         "y": [
          -105,
          -105,
          -115,
          -115
         ],
         "yaxis": "y"
        },
        {
         "hoverinfo": "text",
         "marker": {
          "color": "rgb(133,20,75)"
         },
         "mode": "lines",
         "type": "scatter",
         "x": [
          0,
          0.9997809229144009,
          0.9997809229144009,
          0.9550057483238168
         ],
         "xaxis": "x",
         "y": [
          -95,
          -95,
          -110,
          -110
         ],
         "yaxis": "y"
        },
        {
         "hoverinfo": "text",
         "marker": {
          "color": "rgb(255,220,0)"
         },
         "mode": "lines",
         "type": "scatter",
         "x": [
          0,
          0.9866348739559734,
          0.9866348739559734,
          0
         ],
         "xaxis": "x",
         "y": [
          -125,
          -125,
          -135,
          -135
         ],
         "yaxis": "y"
        },
        {
         "hoverinfo": "text",
         "marker": {
          "color": "rgb(0,116,217)"
         },
         "mode": "lines",
         "type": "scatter",
         "x": [
          0.9997809229144009,
          1.005529336994243,
          1.005529336994243,
          0.9866348739559734
         ],
         "xaxis": "x",
         "y": [
          -102.5,
          -102.5,
          -130,
          -130
         ],
         "yaxis": "y"
        },
        {
         "hoverinfo": "text",
         "marker": {
          "color": "rgb(40,35,35)"
         },
         "mode": "lines",
         "type": "scatter",
         "x": [
          0,
          0.9708013017612872,
          0.9708013017612872,
          0
         ],
         "xaxis": "x",
         "y": [
          -155,
          -155,
          -165,
          -165
         ],
         "yaxis": "y"
        },
        {
         "hoverinfo": "text",
         "marker": {
          "color": "rgb(40,35,35)"
         },
         "mode": "lines",
         "type": "scatter",
         "x": [
          0,
          0.9916028015971781,
          0.9916028015971781,
          0.9708013017612872
         ],
         "xaxis": "x",
         "y": [
          -145,
          -145,
          -160,
          -160
         ],
         "yaxis": "y"
        },
        {
         "hoverinfo": "text",
         "marker": {
          "color": "rgb(61,153,112)"
         },
         "mode": "lines",
         "type": "scatter",
         "x": [
          0,
          0.9791069130500416,
          0.9791069130500416,
          0
         ],
         "xaxis": "x",
         "y": [
          -175,
          -175,
          -185,
          -185
         ],
         "yaxis": "y"
        },
        {
         "hoverinfo": "text",
         "marker": {
          "color": "rgb(61,153,112)"
         },
         "mode": "lines",
         "type": "scatter",
         "x": [
          0.9791069130500416,
          0.997157140649921,
          0.997157140649921,
          0
         ],
         "xaxis": "x",
         "y": [
          -180,
          -180,
          -195,
          -195
         ],
         "yaxis": "y"
        },
        {
         "hoverinfo": "text",
         "marker": {
          "color": "rgb(255,65,54)"
         },
         "mode": "lines",
         "type": "scatter",
         "x": [
          0,
          0.9902308906999888,
          0.9902308906999888,
          0
         ],
         "xaxis": "x",
         "y": [
          -205,
          -205,
          -215,
          -215
         ],
         "yaxis": "y"
        },
        {
         "hoverinfo": "text",
         "marker": {
          "color": "rgb(35,205,205)"
         },
         "mode": "lines",
         "type": "scatter",
         "x": [
          0,
          0.9999999999999999,
          0.9999999999999999,
          0
         ],
         "xaxis": "x",
         "y": [
          -245,
          -245,
          -255,
          -255
         ],
         "yaxis": "y"
        },
        {
         "hoverinfo": "text",
         "marker": {
          "color": "rgb(35,205,205)"
         },
         "mode": "lines",
         "type": "scatter",
         "x": [
          0,
          0.9999999999999999,
          0.9999999999999999,
          0.9999999999999999
         ],
         "xaxis": "x",
         "y": [
          -235,
          -235,
          -250,
          -250
         ],
         "yaxis": "y"
        },
        {
         "hoverinfo": "text",
         "marker": {
          "color": "rgb(35,205,205)"
         },
         "mode": "lines",
         "type": "scatter",
         "x": [
          0,
          0.9999999999999998,
          0.9999999999999998,
          0
         ],
         "xaxis": "x",
         "y": [
          -265,
          -265,
          -275,
          -275
         ],
         "yaxis": "y"
        },
        {
         "hoverinfo": "text",
         "marker": {
          "color": "rgb(35,205,205)"
         },
         "mode": "lines",
         "type": "scatter",
         "x": [
          0.9999999999999998,
          0.9999999999999998,
          0.9999999999999998,
          0
         ],
         "xaxis": "x",
         "y": [
          -270,
          -270,
          -285,
          -285
         ],
         "yaxis": "y"
        },
        {
         "hoverinfo": "text",
         "marker": {
          "color": "rgb(35,205,205)"
         },
         "mode": "lines",
         "type": "scatter",
         "x": [
          0.9999999999999999,
          0.9999999999999999,
          0.9999999999999999,
          0.9999999999999998
         ],
         "xaxis": "x",
         "y": [
          -242.5,
          -242.5,
          -277.5,
          -277.5
         ],
         "yaxis": "y"
        },
        {
         "hoverinfo": "text",
         "marker": {
          "color": "rgb(35,205,205)"
         },
         "mode": "lines",
         "type": "scatter",
         "x": [
          0,
          0.9999999999999999,
          0.9999999999999999,
          0.9999999999999999
         ],
         "xaxis": "x",
         "y": [
          -225,
          -225,
          -260,
          -260
         ],
         "yaxis": "y"
        },
        {
         "hoverinfo": "text",
         "marker": {
          "color": "rgb(0,116,217)"
         },
         "mode": "lines",
         "type": "scatter",
         "x": [
          0,
          1,
          1,
          0
         ],
         "xaxis": "x",
         "y": [
          -305,
          -305,
          -315,
          -315
         ],
         "yaxis": "y"
        },
        {
         "hoverinfo": "text",
         "marker": {
          "color": "rgb(0,116,217)"
         },
         "mode": "lines",
         "type": "scatter",
         "x": [
          0,
          1,
          1,
          1
         ],
         "xaxis": "x",
         "y": [
          -295,
          -295,
          -310,
          -310
         ],
         "yaxis": "y"
        },
        {
         "hoverinfo": "text",
         "marker": {
          "color": "rgb(0,116,217)"
         },
         "mode": "lines",
         "type": "scatter",
         "x": [
          1,
          1,
          1,
          0
         ],
         "xaxis": "x",
         "y": [
          -302.5,
          -302.5,
          -325,
          -325
         ],
         "yaxis": "y"
        },
        {
         "hoverinfo": "text",
         "marker": {
          "color": "rgb(0,116,217)"
         },
         "mode": "lines",
         "type": "scatter",
         "x": [
          0.9999999999999999,
          1,
          1,
          1
         ],
         "xaxis": "x",
         "y": [
          -242.5,
          -242.5,
          -313.75,
          -313.75
         ],
         "yaxis": "y"
        },
        {
         "hoverinfo": "text",
         "marker": {
          "color": "rgb(61,153,112)"
         },
         "mode": "lines",
         "type": "scatter",
         "x": [
          0,
          0.997691433424298,
          0.997691433424298,
          0
         ],
         "xaxis": "x",
         "y": [
          -335,
          -335,
          -345,
          -345
         ],
         "yaxis": "y"
        },
        {
         "hoverinfo": "text",
         "marker": {
          "color": "rgb(61,153,112)"
         },
         "mode": "lines",
         "type": "scatter",
         "x": [
          0.997691433424298,
          0.9995288505917926,
          0.9995288505917926,
          0
         ],
         "xaxis": "x",
         "y": [
          -340,
          -340,
          -355,
          -355
         ],
         "yaxis": "y"
        },
        {
         "hoverinfo": "text",
         "marker": {
          "color": "rgb(0,116,217)"
         },
         "mode": "lines",
         "type": "scatter",
         "x": [
          1,
          1.0021795065032235,
          1.0021795065032235,
          0.9995288505917926
         ],
         "xaxis": "x",
         "y": [
          -278.125,
          -278.125,
          -347.5,
          -347.5
         ],
         "yaxis": "y"
        },
        {
         "hoverinfo": "text",
         "marker": {
          "color": "rgb(0,116,217)"
         },
         "mode": "lines",
         "type": "scatter",
         "x": [
          0.9902308906999888,
          1.0085440991210997,
          1.0085440991210997,
          1.0021795065032235
         ],
         "xaxis": "x",
         "y": [
          -210,
          -210,
          -312.8125,
          -312.8125
         ],
         "yaxis": "y"
        },
        {
         "hoverinfo": "text",
         "marker": {
          "color": "rgb(255,65,54)"
         },
         "mode": "lines",
         "type": "scatter",
         "x": [
          0,
          0.9880682958449806,
          0.9880682958449806,
          0
         ],
         "xaxis": "x",
         "y": [
          -365,
          -365,
          -375,
          -375
         ],
         "yaxis": "y"
        },
        {
         "hoverinfo": "text",
         "marker": {
          "color": "rgb(0,116,217)"
         },
         "mode": "lines",
         "type": "scatter",
         "x": [
          1.0085440991210997,
          1.01067854228131,
          1.01067854228131,
          0.9880682958449806
         ],
         "xaxis": "x",
         "y": [
          -261.40625,
          -261.40625,
          -370,
          -370
         ],
         "yaxis": "y"
        },
        {
         "hoverinfo": "text",
         "marker": {
          "color": "rgb(0,116,217)"
         },
         "mode": "lines",
         "type": "scatter",
         "x": [
          0.997157140649921,
          1.0202497817740404,
          1.0202497817740404,
          1.01067854228131
         ],
         "xaxis": "x",
         "y": [
          -187.5,
          -187.5,
          -315.703125,
          -315.703125
         ],
         "yaxis": "y"
        },
        {
         "hoverinfo": "text",
         "marker": {
          "color": "rgb(35,205,205)"
         },
         "mode": "lines",
         "type": "scatter",
         "x": [
          0,
          0.9690754603838014,
          0.9690754603838014,
          0
         ],
         "xaxis": "x",
         "y": [
          -385,
          -385,
          -395,
          -395
         ],
         "yaxis": "y"
        },
        {
         "hoverinfo": "text",
         "marker": {
          "color": "rgb(0,116,217)"
         },
         "mode": "lines",
         "type": "scatter",
         "x": [
          1.0202497817740404,
          1.0279237493595366,
          1.0279237493595366,
          0.9690754603838014
         ],
         "xaxis": "x",
         "y": [
          -251.6015625,
          -251.6015625,
          -390,
          -390
         ],
         "yaxis": "y"
        },
        {
         "hoverinfo": "text",
         "marker": {
          "color": "rgb(0,116,217)"
         },
         "mode": "lines",
         "type": "scatter",
         "x": [
          0.9916028015971781,
          1.0312662629398928,
          1.0312662629398928,
          1.0279237493595366
         ],
         "xaxis": "x",
         "y": [
          -152.5,
          -152.5,
          -320.80078125,
          -320.80078125
         ],
         "yaxis": "y"
        },
        {
         "hoverinfo": "text",
         "marker": {
          "color": "rgb(133,20,75)"
         },
         "mode": "lines",
         "type": "scatter",
         "x": [
          0,
          0.9546908424751213,
          0.9546908424751213,
          0
         ],
         "xaxis": "x",
         "y": [
          -405,
          -405,
          -415,
          -415
         ],
         "yaxis": "y"
        },
        {
         "hoverinfo": "text",
         "marker": {
          "color": "rgb(0,116,217)"
         },
         "mode": "lines",
         "type": "scatter",
         "x": [
          1.0312662629398928,
          1.041229135189792,
          1.041229135189792,
          0.9546908424751213
         ],
         "xaxis": "x",
         "y": [
          -236.650390625,
          -236.650390625,
          -410,
          -410
         ],
         "yaxis": "y"
        },
        {
         "hoverinfo": "text",
         "marker": {
          "color": "rgb(0,116,217)"
         },
         "mode": "lines",
         "type": "scatter",
         "x": [
          1.005529336994243,
          1.0429547016011373,
          1.0429547016011373,
          1.041229135189792
         ],
         "xaxis": "x",
         "y": [
          -116.25,
          -116.25,
          -323.3251953125,
          -323.3251953125
         ],
         "yaxis": "y"
        },
        {
         "hoverinfo": "text",
         "marker": {
          "color": "rgb(255,220,0)"
         },
         "mode": "lines",
         "type": "scatter",
         "x": [
          0,
          0.9537727895399801,
          0.9537727895399801,
          0
         ],
         "xaxis": "x",
         "y": [
          -425,
          -425,
          -435,
          -435
         ],
         "yaxis": "y"
        },
        {
         "hoverinfo": "text",
         "marker": {
          "color": "rgb(255,220,0)"
         },
         "mode": "lines",
         "type": "scatter",
         "x": [
          0.9537727895399801,
          0.9807409428878249,
          0.9807409428878249,
          0
         ],
         "xaxis": "x",
         "y": [
          -430,
          -430,
          -445,
          -445
         ],
         "yaxis": "y"
        },
        {
         "hoverinfo": "text",
         "marker": {
          "color": "rgb(40,35,35)"
         },
         "mode": "lines",
         "type": "scatter",
         "x": [
          0,
          0.9758806034628871,
          0.9758806034628871,
          0
         ],
         "xaxis": "x",
         "y": [
          -455,
          -455,
          -465,
          -465
         ],
         "yaxis": "y"
        },
        {
         "hoverinfo": "text",
         "marker": {
          "color": "rgb(0,116,217)"
         },
         "mode": "lines",
         "type": "scatter",
         "x": [
          0.9807409428878249,
          1.0205166346047678,
          1.0205166346047678,
          0.9758806034628871
         ],
         "xaxis": "x",
         "y": [
          -437.5,
          -437.5,
          -460,
          -460
         ],
         "yaxis": "y"
        },
        {
         "hoverinfo": "text",
         "marker": {
          "color": "rgb(0,116,217)"
         },
         "mode": "lines",
         "type": "scatter",
         "x": [
          1.0429547016011373,
          1.0542026642623512,
          1.0542026642623512,
          1.0205166346047678
         ],
         "xaxis": "x",
         "y": [
          -219.78759765625,
          -219.78759765625,
          -448.75,
          -448.75
         ],
         "yaxis": "y"
        },
        {
         "hoverinfo": "text",
         "marker": {
          "color": "rgb(61,153,112)"
         },
         "mode": "lines",
         "type": "scatter",
         "x": [
          0,
          0.9267749120567808,
          0.9267749120567808,
          0
         ],
         "xaxis": "x",
         "y": [
          -475,
          -475,
          -485,
          -485
         ],
         "yaxis": "y"
        },
        {
         "hoverinfo": "text",
         "marker": {
          "color": "rgb(255,65,54)"
         },
         "mode": "lines",
         "type": "scatter",
         "x": [
          0,
          0.9734448878035947,
          0.9734448878035947,
          0
         ],
         "xaxis": "x",
         "y": [
          -495,
          -495,
          -505,
          -505
         ],
         "yaxis": "y"
        },
        {
         "hoverinfo": "text",
         "marker": {
          "color": "rgb(255,65,54)"
         },
         "mode": "lines",
         "type": "scatter",
         "x": [
          0.9734448878035947,
          0.9836149783617146,
          0.9836149783617146,
          0
         ],
         "xaxis": "x",
         "y": [
          -500,
          -500,
          -515,
          -515
         ],
         "yaxis": "y"
        },
        {
         "hoverinfo": "text",
         "marker": {
          "color": "rgb(0,116,217)"
         },
         "mode": "lines",
         "type": "scatter",
         "x": [
          0.9267749120567808,
          1.0351799135554838,
          1.0351799135554838,
          0.9836149783617146
         ],
         "xaxis": "x",
         "y": [
          -480,
          -480,
          -507.5,
          -507.5
         ],
         "yaxis": "y"
        },
        {
         "hoverinfo": "text",
         "marker": {
          "color": "rgb(0,116,217)"
         },
         "mode": "lines",
         "type": "scatter",
         "x": [
          1.0542026642623512,
          1.0612274076468193,
          1.0612274076468193,
          1.0351799135554838
         ],
         "xaxis": "x",
         "y": [
          -334.268798828125,
          -334.268798828125,
          -493.75,
          -493.75
         ],
         "yaxis": "y"
        },
        {
         "hoverinfo": "text",
         "marker": {
          "color": "rgb(0,116,217)"
         },
         "mode": "lines",
         "type": "scatter",
         "x": [
          0.969663519501249,
          1.1128333839860025,
          1.1128333839860025,
          1.0612274076468193
         ],
         "xaxis": "x",
         "y": [
          -72.5,
          -72.5,
          -414.0093994140625,
          -414.0093994140625
         ],
         "yaxis": "y"
        },
        {
         "hoverinfo": "text",
         "marker": {
          "color": "rgb(35,205,205)"
         },
         "mode": "lines",
         "type": "scatter",
         "x": [
          0,
          0.9195623810208551,
          0.9195623810208551,
          0
         ],
         "xaxis": "x",
         "y": [
          -525,
          -525,
          -535,
          -535
         ],
         "yaxis": "y"
        },
        {
         "hoverinfo": "text",
         "marker": {
          "color": "rgb(35,205,205)"
         },
         "mode": "lines",
         "type": "scatter",
         "x": [
          0.9195623810208551,
          0.9609927950351449,
          0.9609927950351449,
          0
         ],
         "xaxis": "x",
         "y": [
          -530,
          -530,
          -545,
          -545
         ],
         "yaxis": "y"
        },
        {
         "hoverinfo": "text",
         "marker": {
          "color": "rgb(35,205,205)"
         },
         "mode": "lines",
         "type": "scatter",
         "x": [
          0.9609927950351449,
          0.9807070783358618,
          0.9807070783358618,
          0
         ],
         "xaxis": "x",
         "y": [
          -537.5,
          -537.5,
          -555,
          -555
         ],
         "yaxis": "y"
        },
        {
         "hoverinfo": "text",
         "marker": {
          "color": "rgb(0,116,217)"
         },
         "mode": "lines",
         "type": "scatter",
         "x": [
          1.1128333839860025,
          1.1155416841081616,
          1.1155416841081616,
          0.9807070783358618
         ],
         "xaxis": "x",
         "y": [
          -243.25469970703125,
          -243.25469970703125,
          -546.25,
          -546.25
         ],
         "yaxis": "y"
        },
        {
         "hoverinfo": "text",
         "marker": {
          "color": "rgb(0,116,217)"
         },
         "mode": "lines",
         "type": "scatter",
         "x": [
          0.9498579891117196,
          1.1207953842371565,
          1.1207953842371565,
          1.1155416841081616
         ],
         "xaxis": "x",
         "y": [
          -47.5,
          -47.5,
          -394.7523498535156,
          -394.7523498535156
         ],
         "yaxis": "y"
        },
        {
         "hoverinfo": "text",
         "marker": {
          "color": "rgb(61,153,112)"
         },
         "mode": "lines",
         "type": "scatter",
         "x": [
          0,
          0.8428190371532319,
          0.8428190371532319,
          0
         ],
         "xaxis": "x",
         "y": [
          -565,
          -565,
          -575,
          -575
         ],
         "yaxis": "y"
        },
        {
         "hoverinfo": "text",
         "marker": {
          "color": "rgb(0,116,217)"
         },
         "mode": "lines",
         "type": "scatter",
         "x": [
          1.1207953842371565,
          1.1240566925705386,
          1.1240566925705386,
          0.8428190371532319
         ],
         "xaxis": "x",
         "y": [
          -221.1261749267578,
          -221.1261749267578,
          -570,
          -570
         ],
         "yaxis": "y"
        },
        {
         "hoverinfo": "text",
         "marker": {
          "color": "rgb(0,116,217)"
         },
         "mode": "lines",
         "type": "scatter",
         "x": [
          0.9149565381964272,
          1.1777105399212697,
          1.1777105399212697,
          1.1240566925705386
         ],
         "xaxis": "x",
         "y": [
          -12.5,
          -12.5,
          -395.5630874633789,
          -395.5630874633789
         ],
         "yaxis": "y"
        }
       ],
       "layout": {
        "autosize": false,
        "height": 1070,
        "hoverlabel": {
         "bgcolor": "white",
         "font": {
          "family": "Rockwell",
          "size": 16
         }
        },
        "hovermode": "closest",
        "plot_bgcolor": "#ECEFF1",
        "showlegend": false,
        "template": {
         "data": {
          "bar": [
           {
            "error_x": {
             "color": "#2a3f5f"
            },
            "error_y": {
             "color": "#2a3f5f"
            },
            "marker": {
             "line": {
              "color": "white",
              "width": 0.5
             },
             "pattern": {
              "fillmode": "overlay",
              "size": 10,
              "solidity": 0.2
             }
            },
            "type": "bar"
           }
          ],
          "barpolar": [
           {
            "marker": {
             "line": {
              "color": "white",
              "width": 0.5
             },
             "pattern": {
              "fillmode": "overlay",
              "size": 10,
              "solidity": 0.2
             }
            },
            "type": "barpolar"
           }
          ],
          "carpet": [
           {
            "aaxis": {
             "endlinecolor": "#2a3f5f",
             "gridcolor": "#C8D4E3",
             "linecolor": "#C8D4E3",
             "minorgridcolor": "#C8D4E3",
             "startlinecolor": "#2a3f5f"
            },
            "baxis": {
             "endlinecolor": "#2a3f5f",
             "gridcolor": "#C8D4E3",
             "linecolor": "#C8D4E3",
             "minorgridcolor": "#C8D4E3",
             "startlinecolor": "#2a3f5f"
            },
            "type": "carpet"
           }
          ],
          "choropleth": [
           {
            "colorbar": {
             "outlinewidth": 0,
             "ticks": ""
            },
            "type": "choropleth"
           }
          ],
          "contour": [
           {
            "colorbar": {
             "outlinewidth": 0,
             "ticks": ""
            },
            "colorscale": [
             [
              0,
              "#0d0887"
             ],
             [
              0.1111111111111111,
              "#46039f"
             ],
             [
              0.2222222222222222,
              "#7201a8"
             ],
             [
              0.3333333333333333,
              "#9c179e"
             ],
             [
              0.4444444444444444,
              "#bd3786"
             ],
             [
              0.5555555555555556,
              "#d8576b"
             ],
             [
              0.6666666666666666,
              "#ed7953"
             ],
             [
              0.7777777777777778,
              "#fb9f3a"
             ],
             [
              0.8888888888888888,
              "#fdca26"
             ],
             [
              1,
              "#f0f921"
             ]
            ],
            "type": "contour"
           }
          ],
          "contourcarpet": [
           {
            "colorbar": {
             "outlinewidth": 0,
             "ticks": ""
            },
            "type": "contourcarpet"
           }
          ],
          "heatmap": [
           {
            "colorbar": {
             "outlinewidth": 0,
             "ticks": ""
            },
            "colorscale": [
             [
              0,
              "#0d0887"
             ],
             [
              0.1111111111111111,
              "#46039f"
             ],
             [
              0.2222222222222222,
              "#7201a8"
             ],
             [
              0.3333333333333333,
              "#9c179e"
             ],
             [
              0.4444444444444444,
              "#bd3786"
             ],
             [
              0.5555555555555556,
              "#d8576b"
             ],
             [
              0.6666666666666666,
              "#ed7953"
             ],
             [
              0.7777777777777778,
              "#fb9f3a"
             ],
             [
              0.8888888888888888,
              "#fdca26"
             ],
             [
              1,
              "#f0f921"
             ]
            ],
            "type": "heatmap"
           }
          ],
          "heatmapgl": [
           {
            "colorbar": {
             "outlinewidth": 0,
             "ticks": ""
            },
            "colorscale": [
             [
              0,
              "#0d0887"
             ],
             [
              0.1111111111111111,
              "#46039f"
             ],
             [
              0.2222222222222222,
              "#7201a8"
             ],
             [
              0.3333333333333333,
              "#9c179e"
             ],
             [
              0.4444444444444444,
              "#bd3786"
             ],
             [
              0.5555555555555556,
              "#d8576b"
             ],
             [
              0.6666666666666666,
              "#ed7953"
             ],
             [
              0.7777777777777778,
              "#fb9f3a"
             ],
             [
              0.8888888888888888,
              "#fdca26"
             ],
             [
              1,
              "#f0f921"
             ]
            ],
            "type": "heatmapgl"
           }
          ],
          "histogram": [
           {
            "marker": {
             "pattern": {
              "fillmode": "overlay",
              "size": 10,
              "solidity": 0.2
             }
            },
            "type": "histogram"
           }
          ],
          "histogram2d": [
           {
            "colorbar": {
             "outlinewidth": 0,
             "ticks": ""
            },
            "colorscale": [
             [
              0,
              "#0d0887"
             ],
             [
              0.1111111111111111,
              "#46039f"
             ],
             [
              0.2222222222222222,
              "#7201a8"
             ],
             [
              0.3333333333333333,
              "#9c179e"
             ],
             [
              0.4444444444444444,
              "#bd3786"
             ],
             [
              0.5555555555555556,
              "#d8576b"
             ],
             [
              0.6666666666666666,
              "#ed7953"
             ],
             [
              0.7777777777777778,
              "#fb9f3a"
             ],
             [
              0.8888888888888888,
              "#fdca26"
             ],
             [
              1,
              "#f0f921"
             ]
            ],
            "type": "histogram2d"
           }
          ],
          "histogram2dcontour": [
           {
            "colorbar": {
             "outlinewidth": 0,
             "ticks": ""
            },
            "colorscale": [
             [
              0,
              "#0d0887"
             ],
             [
              0.1111111111111111,
              "#46039f"
             ],
             [
              0.2222222222222222,
              "#7201a8"
             ],
             [
              0.3333333333333333,
              "#9c179e"
             ],
             [
              0.4444444444444444,
              "#bd3786"
             ],
             [
              0.5555555555555556,
              "#d8576b"
             ],
             [
              0.6666666666666666,
              "#ed7953"
             ],
             [
              0.7777777777777778,
              "#fb9f3a"
             ],
             [
              0.8888888888888888,
              "#fdca26"
             ],
             [
              1,
              "#f0f921"
             ]
            ],
            "type": "histogram2dcontour"
           }
          ],
          "mesh3d": [
           {
            "colorbar": {
             "outlinewidth": 0,
             "ticks": ""
            },
            "type": "mesh3d"
           }
          ],
          "parcoords": [
           {
            "line": {
             "colorbar": {
              "outlinewidth": 0,
              "ticks": ""
             }
            },
            "type": "parcoords"
           }
          ],
          "pie": [
           {
            "automargin": true,
            "type": "pie"
           }
          ],
          "scatter": [
           {
            "fillpattern": {
             "fillmode": "overlay",
             "size": 10,
             "solidity": 0.2
            },
            "type": "scatter"
           }
          ],
          "scatter3d": [
           {
            "line": {
             "colorbar": {
              "outlinewidth": 0,
              "ticks": ""
             }
            },
            "marker": {
             "colorbar": {
              "outlinewidth": 0,
              "ticks": ""
             }
            },
            "type": "scatter3d"
           }
          ],
          "scattercarpet": [
           {
            "marker": {
             "colorbar": {
              "outlinewidth": 0,
              "ticks": ""
             }
            },
            "type": "scattercarpet"
           }
          ],
          "scattergeo": [
           {
            "marker": {
             "colorbar": {
              "outlinewidth": 0,
              "ticks": ""
             }
            },
            "type": "scattergeo"
           }
          ],
          "scattergl": [
           {
            "marker": {
             "colorbar": {
              "outlinewidth": 0,
              "ticks": ""
             }
            },
            "type": "scattergl"
           }
          ],
          "scattermapbox": [
           {
            "marker": {
             "colorbar": {
              "outlinewidth": 0,
              "ticks": ""
             }
            },
            "type": "scattermapbox"
           }
          ],
          "scatterpolar": [
           {
            "marker": {
             "colorbar": {
              "outlinewidth": 0,
              "ticks": ""
             }
            },
            "type": "scatterpolar"
           }
          ],
          "scatterpolargl": [
           {
            "marker": {
             "colorbar": {
              "outlinewidth": 0,
              "ticks": ""
             }
            },
            "type": "scatterpolargl"
           }
          ],
          "scatterternary": [
           {
            "marker": {
             "colorbar": {
              "outlinewidth": 0,
              "ticks": ""
             }
            },
            "type": "scatterternary"
           }
          ],
          "surface": [
           {
            "colorbar": {
             "outlinewidth": 0,
             "ticks": ""
            },
            "colorscale": [
             [
              0,
              "#0d0887"
             ],
             [
              0.1111111111111111,
              "#46039f"
             ],
             [
              0.2222222222222222,
              "#7201a8"
             ],
             [
              0.3333333333333333,
              "#9c179e"
             ],
             [
              0.4444444444444444,
              "#bd3786"
             ],
             [
              0.5555555555555556,
              "#d8576b"
             ],
             [
              0.6666666666666666,
              "#ed7953"
             ],
             [
              0.7777777777777778,
              "#fb9f3a"
             ],
             [
              0.8888888888888888,
              "#fdca26"
             ],
             [
              1,
              "#f0f921"
             ]
            ],
            "type": "surface"
           }
          ],
          "table": [
           {
            "cells": {
             "fill": {
              "color": "#EBF0F8"
             },
             "line": {
              "color": "white"
             }
            },
            "header": {
             "fill": {
              "color": "#C8D4E3"
             },
             "line": {
              "color": "white"
             }
            },
            "type": "table"
           }
          ]
         },
         "layout": {
          "annotationdefaults": {
           "arrowcolor": "#2a3f5f",
           "arrowhead": 0,
           "arrowwidth": 1
          },
          "autotypenumbers": "strict",
          "coloraxis": {
           "colorbar": {
            "outlinewidth": 0,
            "ticks": ""
           }
          },
          "colorscale": {
           "diverging": [
            [
             0,
             "#8e0152"
            ],
            [
             0.1,
             "#c51b7d"
            ],
            [
             0.2,
             "#de77ae"
            ],
            [
             0.3,
             "#f1b6da"
            ],
            [
             0.4,
             "#fde0ef"
            ],
            [
             0.5,
             "#f7f7f7"
            ],
            [
             0.6,
             "#e6f5d0"
            ],
            [
             0.7,
             "#b8e186"
            ],
            [
             0.8,
             "#7fbc41"
            ],
            [
             0.9,
             "#4d9221"
            ],
            [
             1,
             "#276419"
            ]
           ],
           "sequential": [
            [
             0,
             "#0d0887"
            ],
            [
             0.1111111111111111,
             "#46039f"
            ],
            [
             0.2222222222222222,
             "#7201a8"
            ],
            [
             0.3333333333333333,
             "#9c179e"
            ],
            [
             0.4444444444444444,
             "#bd3786"
            ],
            [
             0.5555555555555556,
             "#d8576b"
            ],
            [
             0.6666666666666666,
             "#ed7953"
            ],
            [
             0.7777777777777778,
             "#fb9f3a"
            ],
            [
             0.8888888888888888,
             "#fdca26"
            ],
            [
             1,
             "#f0f921"
            ]
           ],
           "sequentialminus": [
            [
             0,
             "#0d0887"
            ],
            [
             0.1111111111111111,
             "#46039f"
            ],
            [
             0.2222222222222222,
             "#7201a8"
            ],
            [
             0.3333333333333333,
             "#9c179e"
            ],
            [
             0.4444444444444444,
             "#bd3786"
            ],
            [
             0.5555555555555556,
             "#d8576b"
            ],
            [
             0.6666666666666666,
             "#ed7953"
            ],
            [
             0.7777777777777778,
             "#fb9f3a"
            ],
            [
             0.8888888888888888,
             "#fdca26"
            ],
            [
             1,
             "#f0f921"
            ]
           ]
          },
          "colorway": [
           "#636efa",
           "#EF553B",
           "#00cc96",
           "#ab63fa",
           "#FFA15A",
           "#19d3f3",
           "#FF6692",
           "#B6E880",
           "#FF97FF",
           "#FECB52"
          ],
          "font": {
           "color": "#2a3f5f"
          },
          "geo": {
           "bgcolor": "white",
           "lakecolor": "white",
           "landcolor": "white",
           "showlakes": true,
           "showland": true,
           "subunitcolor": "#C8D4E3"
          },
          "hoverlabel": {
           "align": "left"
          },
          "hovermode": "closest",
          "mapbox": {
           "style": "light"
          },
          "paper_bgcolor": "white",
          "plot_bgcolor": "white",
          "polar": {
           "angularaxis": {
            "gridcolor": "#EBF0F8",
            "linecolor": "#EBF0F8",
            "ticks": ""
           },
           "bgcolor": "white",
           "radialaxis": {
            "gridcolor": "#EBF0F8",
            "linecolor": "#EBF0F8",
            "ticks": ""
           }
          },
          "scene": {
           "xaxis": {
            "backgroundcolor": "white",
            "gridcolor": "#DFE8F3",
            "gridwidth": 2,
            "linecolor": "#EBF0F8",
            "showbackground": true,
            "ticks": "",
            "zerolinecolor": "#EBF0F8"
           },
           "yaxis": {
            "backgroundcolor": "white",
            "gridcolor": "#DFE8F3",
            "gridwidth": 2,
            "linecolor": "#EBF0F8",
            "showbackground": true,
            "ticks": "",
            "zerolinecolor": "#EBF0F8"
           },
           "zaxis": {
            "backgroundcolor": "white",
            "gridcolor": "#DFE8F3",
            "gridwidth": 2,
            "linecolor": "#EBF0F8",
            "showbackground": true,
            "ticks": "",
            "zerolinecolor": "#EBF0F8"
           }
          },
          "shapedefaults": {
           "line": {
            "color": "#2a3f5f"
           }
          },
          "ternary": {
           "aaxis": {
            "gridcolor": "#DFE8F3",
            "linecolor": "#A2B1C6",
            "ticks": ""
           },
           "baxis": {
            "gridcolor": "#DFE8F3",
            "linecolor": "#A2B1C6",
            "ticks": ""
           },
           "bgcolor": "white",
           "caxis": {
            "gridcolor": "#DFE8F3",
            "linecolor": "#A2B1C6",
            "ticks": ""
           }
          },
          "title": {
           "x": 0.05
          },
          "xaxis": {
           "automargin": true,
           "gridcolor": "#EBF0F8",
           "linecolor": "#EBF0F8",
           "ticks": "",
           "title": {
            "standoff": 15
           },
           "zerolinecolor": "#EBF0F8",
           "zerolinewidth": 2
          },
          "yaxis": {
           "automargin": true,
           "gridcolor": "#EBF0F8",
           "linecolor": "#EBF0F8",
           "ticks": "",
           "title": {
            "standoff": 15
           },
           "zerolinecolor": "#EBF0F8",
           "zerolinewidth": 2
          }
         }
        },
        "title": {
         "font": {
          "color": "Black",
          "size": 22
         },
         "text": "<b>Hierarchical Clustering</b>",
         "x": 0.5,
         "xanchor": "center",
         "yanchor": "top"
        },
        "width": 1000,
        "xaxis": {
         "mirror": "allticks",
         "rangemode": "tozero",
         "showgrid": false,
         "showline": true,
         "showticklabels": true,
         "ticks": "outside",
         "type": "linear",
         "zeroline": false
        },
        "yaxis": {
         "mirror": "allticks",
         "range": [
          -580,
          0
         ],
         "rangemode": "tozero",
         "showgrid": false,
         "showline": true,
         "showticklabels": true,
         "tickmode": "array",
         "ticks": "outside",
         "ticktext": [
          "30_人工知能_ai_人工知能について",
          "27_ai_人工知能_負の相関",
          "22_弱いai_強いai_特化型ai",
          "25_エッジ抽出_エッジ_文字",
          "12_相関_統計的検定_差がない",
          "49_相関について_検定と画像処理について学んだ_検定...",
          "51_これら二つは相同性検索クラスタリング系統分離判定...",
          "10_距離_類似度_似ている",
          "53_様々な距離_距離と類似度_ベクトル距離類似度",
          "44_乗算器_位相応答_振幅応答",
          "11_離散時間フーリエ変換と離散フーリエ変換_離散時間...",
          "6_z変換について_z変換の性質逆z変換_離散フーリエ変換",
          "55_の周期関数であると解釈することでフーリエ変換する...",
          "18_非周期信号のフーリエ変換_周期信号のフーリエ級数...",
          "42_フーリエ級数表現_あらゆる信号は正弦波を用いて表...",
          "24_フーリエ級数からフーリエ変換への拡張_フーリエ級...",
          "37_フーリエ級数について学んだ_これからの授業で何を...",
          "54_ヒープソートとマージソートについて_マージソート...",
          "34_マージソートと二分探索法について_二分探索法_2...",
          "33_二分探索法とデータについて_二分探索法について_...",
          "14_知識マップの作成_知識マップの作製_知識マップ作成",
          "39_興味が惹かれやすい内容だった_brーmapを用い...",
          "57_練習問題や課題の解説ヒープソートの復習マージソー...",
          "46_研究倫理情報倫理について_研究においてのマナー的...",
          "43_2fm_連続信号の標本化の精度に関わる標本化定理...",
          "40_離散フーリエ変換の性質について学んだ_離散フーリ...",
          "48_授業のガイダンス_今後の授業のためのガイダンス_...",
          "50_逆z変換_逆z変換について_逆z変換の求め方に関...",
          "56_警戒が大事_ict社会で生き抜くために_ict環...",
          "23_著作権について_財産権_著作権",
          "21_期末テスト_確認テスト_テスト",
          "3_符号語同士がs_2k_ハミング距離",
          "31_改竄_捏造_そして情報倫理について九州大学の例を...",
          "15_コモンズ_全数調査_標本調査",
          "1_バイ_完全性_暗号について",
          "17_高速フーリエ変換_高速フーリエ変換について_高速...",
          "35_ガイダンス_オリエンテーション_ソートの大まかな概要",
          "7_パターン認識_ベクトル_画像処理",
          "41_firの設計には窓関数が用いられる手順は次のとお...",
          "28_ディジタルフィルタの設計_ディジタルフィルタの設...",
          "47_差分方程式_インパルス応答伝達関数とその計算の手...",
          "26_離散時間システムの線形時不変システムと差分方程式...",
          "4_情報源符号化_エントロピー_情報源",
          "9_xy_log2_情報量",
          "8_2回_バブルソート_cf",
          "2_計算_アルゴリズム_問題",
          "0_情報科学_情報_0と1",
          "19_klogn_logn_kn",
          "5_予測_発見_グルーピング",
          "29_データの可視化について_可視化_ことができるかと...",
          "13_ノード_と辺_エッジ",
          "45_可視化の種類_可視化について_可視化とその手法",
          "52_標本化定理について学習した_サンプリング信号標本...",
          "38_標本化について_標本化_標本化定理",
          "20_nt_連続時間信号の標本化_連続時間信号の標本化...",
          "16_ディジタル信号処理の概要_量子化_符号化",
          "36_nlogn_log_通りがけ順",
          "32_nlogn_log2n_マージソート"
         ],
         "tickvals": [
          -5,
          -15,
          -25,
          -35,
          -45,
          -55,
          -65,
          -75,
          -85,
          -95,
          -105,
          -115,
          -125,
          -135,
          -145,
          -155,
          -165,
          -175,
          -185,
          -195,
          -205,
          -215,
          -225,
          -235,
          -245,
          -255,
          -265,
          -275,
          -285,
          -295,
          -305,
          -315,
          -325,
          -335,
          -345,
          -355,
          -365,
          -375,
          -385,
          -395,
          -405,
          -415,
          -425,
          -435,
          -445,
          -455,
          -465,
          -475,
          -485,
          -495,
          -505,
          -515,
          -525,
          -535,
          -545,
          -555,
          -565,
          -575
         ],
         "type": "linear",
         "zeroline": false
        }
       }
      },
      "text/html": [
       "<div>                            <div id=\"a670f19a-d96b-486c-abc6-38f83a07a7d4\" class=\"plotly-graph-div\" style=\"height:1070px; width:1000px;\"></div>            <script type=\"text/javascript\">                require([\"plotly\"], function(Plotly) {                    window.PLOTLYENV=window.PLOTLYENV || {};                                    if (document.getElementById(\"a670f19a-d96b-486c-abc6-38f83a07a7d4\")) {                    Plotly.newPlot(                        \"a670f19a-d96b-486c-abc6-38f83a07a7d4\",                        [{\"hoverinfo\":\"text\",\"marker\":{\"color\":\"rgb(61,153,112)\"},\"mode\":\"lines\",\"x\":[0.0,0.8622089887212615,0.8622089887212615,0.0],\"xaxis\":\"x\",\"y\":[-15.0,-15.0,-25.0,-25.0],\"yaxis\":\"y\",\"type\":\"scatter\"},{\"hoverinfo\":\"text\",\"marker\":{\"color\":\"rgb(61,153,112)\"},\"mode\":\"lines\",\"x\":[0.0,0.9149565381964272,0.9149565381964272,0.8622089887212615],\"xaxis\":\"x\",\"y\":[-5.0,-5.0,-20.0,-20.0],\"yaxis\":\"y\",\"type\":\"scatter\"},{\"hoverinfo\":\"text\",\"marker\":{\"color\":\"rgb(255,65,54)\"},\"mode\":\"lines\",\"x\":[0.0,0.9055680307019764,0.9055680307019764,0.0],\"xaxis\":\"x\",\"y\":[-35.0,-35.0,-45.0,-45.0],\"yaxis\":\"y\",\"type\":\"scatter\"},{\"hoverinfo\":\"text\",\"marker\":{\"color\":\"rgb(255,65,54)\"},\"mode\":\"lines\",\"x\":[0.9055680307019764,0.9498579891117196,0.9498579891117196,0.0],\"xaxis\":\"x\",\"y\":[-40.0,-40.0,-55.0,-55.0],\"yaxis\":\"y\",\"type\":\"scatter\"},{\"hoverinfo\":\"text\",\"marker\":{\"color\":\"rgb(35,205,205)\"},\"mode\":\"lines\",\"x\":[0.0,0.8914702184854728,0.8914702184854728,0.0],\"xaxis\":\"x\",\"y\":[-75.0,-75.0,-85.0,-85.0],\"yaxis\":\"y\",\"type\":\"scatter\"},{\"hoverinfo\":\"text\",\"marker\":{\"color\":\"rgb(35,205,205)\"},\"mode\":\"lines\",\"x\":[0.0,0.969663519501249,0.969663519501249,0.8914702184854728],\"xaxis\":\"x\",\"y\":[-65.0,-65.0,-80.0,-80.0],\"yaxis\":\"y\",\"type\":\"scatter\"},{\"hoverinfo\":\"text\",\"marker\":{\"color\":\"rgb(133,20,75)\"},\"mode\":\"lines\",\"x\":[0.0,0.9550057483238168,0.9550057483238168,0.0],\"xaxis\":\"x\",\"y\":[-105.0,-105.0,-115.0,-115.0],\"yaxis\":\"y\",\"type\":\"scatter\"},{\"hoverinfo\":\"text\",\"marker\":{\"color\":\"rgb(133,20,75)\"},\"mode\":\"lines\",\"x\":[0.0,0.9997809229144009,0.9997809229144009,0.9550057483238168],\"xaxis\":\"x\",\"y\":[-95.0,-95.0,-110.0,-110.0],\"yaxis\":\"y\",\"type\":\"scatter\"},{\"hoverinfo\":\"text\",\"marker\":{\"color\":\"rgb(255,220,0)\"},\"mode\":\"lines\",\"x\":[0.0,0.9866348739559734,0.9866348739559734,0.0],\"xaxis\":\"x\",\"y\":[-125.0,-125.0,-135.0,-135.0],\"yaxis\":\"y\",\"type\":\"scatter\"},{\"hoverinfo\":\"text\",\"marker\":{\"color\":\"rgb(0,116,217)\"},\"mode\":\"lines\",\"x\":[0.9997809229144009,1.005529336994243,1.005529336994243,0.9866348739559734],\"xaxis\":\"x\",\"y\":[-102.5,-102.5,-130.0,-130.0],\"yaxis\":\"y\",\"type\":\"scatter\"},{\"hoverinfo\":\"text\",\"marker\":{\"color\":\"rgb(40,35,35)\"},\"mode\":\"lines\",\"x\":[0.0,0.9708013017612872,0.9708013017612872,0.0],\"xaxis\":\"x\",\"y\":[-155.0,-155.0,-165.0,-165.0],\"yaxis\":\"y\",\"type\":\"scatter\"},{\"hoverinfo\":\"text\",\"marker\":{\"color\":\"rgb(40,35,35)\"},\"mode\":\"lines\",\"x\":[0.0,0.9916028015971781,0.9916028015971781,0.9708013017612872],\"xaxis\":\"x\",\"y\":[-145.0,-145.0,-160.0,-160.0],\"yaxis\":\"y\",\"type\":\"scatter\"},{\"hoverinfo\":\"text\",\"marker\":{\"color\":\"rgb(61,153,112)\"},\"mode\":\"lines\",\"x\":[0.0,0.9791069130500416,0.9791069130500416,0.0],\"xaxis\":\"x\",\"y\":[-175.0,-175.0,-185.0,-185.0],\"yaxis\":\"y\",\"type\":\"scatter\"},{\"hoverinfo\":\"text\",\"marker\":{\"color\":\"rgb(61,153,112)\"},\"mode\":\"lines\",\"x\":[0.9791069130500416,0.997157140649921,0.997157140649921,0.0],\"xaxis\":\"x\",\"y\":[-180.0,-180.0,-195.0,-195.0],\"yaxis\":\"y\",\"type\":\"scatter\"},{\"hoverinfo\":\"text\",\"marker\":{\"color\":\"rgb(255,65,54)\"},\"mode\":\"lines\",\"x\":[0.0,0.9902308906999888,0.9902308906999888,0.0],\"xaxis\":\"x\",\"y\":[-205.0,-205.0,-215.0,-215.0],\"yaxis\":\"y\",\"type\":\"scatter\"},{\"hoverinfo\":\"text\",\"marker\":{\"color\":\"rgb(35,205,205)\"},\"mode\":\"lines\",\"x\":[0.0,0.9999999999999999,0.9999999999999999,0.0],\"xaxis\":\"x\",\"y\":[-245.0,-245.0,-255.0,-255.0],\"yaxis\":\"y\",\"type\":\"scatter\"},{\"hoverinfo\":\"text\",\"marker\":{\"color\":\"rgb(35,205,205)\"},\"mode\":\"lines\",\"x\":[0.0,0.9999999999999999,0.9999999999999999,0.9999999999999999],\"xaxis\":\"x\",\"y\":[-235.0,-235.0,-250.0,-250.0],\"yaxis\":\"y\",\"type\":\"scatter\"},{\"hoverinfo\":\"text\",\"marker\":{\"color\":\"rgb(35,205,205)\"},\"mode\":\"lines\",\"x\":[0.0,0.9999999999999998,0.9999999999999998,0.0],\"xaxis\":\"x\",\"y\":[-265.0,-265.0,-275.0,-275.0],\"yaxis\":\"y\",\"type\":\"scatter\"},{\"hoverinfo\":\"text\",\"marker\":{\"color\":\"rgb(35,205,205)\"},\"mode\":\"lines\",\"x\":[0.9999999999999998,0.9999999999999998,0.9999999999999998,0.0],\"xaxis\":\"x\",\"y\":[-270.0,-270.0,-285.0,-285.0],\"yaxis\":\"y\",\"type\":\"scatter\"},{\"hoverinfo\":\"text\",\"marker\":{\"color\":\"rgb(35,205,205)\"},\"mode\":\"lines\",\"x\":[0.9999999999999999,0.9999999999999999,0.9999999999999999,0.9999999999999998],\"xaxis\":\"x\",\"y\":[-242.5,-242.5,-277.5,-277.5],\"yaxis\":\"y\",\"type\":\"scatter\"},{\"hoverinfo\":\"text\",\"marker\":{\"color\":\"rgb(35,205,205)\"},\"mode\":\"lines\",\"x\":[0.0,0.9999999999999999,0.9999999999999999,0.9999999999999999],\"xaxis\":\"x\",\"y\":[-225.0,-225.0,-260.0,-260.0],\"yaxis\":\"y\",\"type\":\"scatter\"},{\"hoverinfo\":\"text\",\"marker\":{\"color\":\"rgb(0,116,217)\"},\"mode\":\"lines\",\"x\":[0.0,1.0,1.0,0.0],\"xaxis\":\"x\",\"y\":[-305.0,-305.0,-315.0,-315.0],\"yaxis\":\"y\",\"type\":\"scatter\"},{\"hoverinfo\":\"text\",\"marker\":{\"color\":\"rgb(0,116,217)\"},\"mode\":\"lines\",\"x\":[0.0,1.0,1.0,1.0],\"xaxis\":\"x\",\"y\":[-295.0,-295.0,-310.0,-310.0],\"yaxis\":\"y\",\"type\":\"scatter\"},{\"hoverinfo\":\"text\",\"marker\":{\"color\":\"rgb(0,116,217)\"},\"mode\":\"lines\",\"x\":[1.0,1.0,1.0,0.0],\"xaxis\":\"x\",\"y\":[-302.5,-302.5,-325.0,-325.0],\"yaxis\":\"y\",\"type\":\"scatter\"},{\"hoverinfo\":\"text\",\"marker\":{\"color\":\"rgb(0,116,217)\"},\"mode\":\"lines\",\"x\":[0.9999999999999999,1.0,1.0,1.0],\"xaxis\":\"x\",\"y\":[-242.5,-242.5,-313.75,-313.75],\"yaxis\":\"y\",\"type\":\"scatter\"},{\"hoverinfo\":\"text\",\"marker\":{\"color\":\"rgb(61,153,112)\"},\"mode\":\"lines\",\"x\":[0.0,0.997691433424298,0.997691433424298,0.0],\"xaxis\":\"x\",\"y\":[-335.0,-335.0,-345.0,-345.0],\"yaxis\":\"y\",\"type\":\"scatter\"},{\"hoverinfo\":\"text\",\"marker\":{\"color\":\"rgb(61,153,112)\"},\"mode\":\"lines\",\"x\":[0.997691433424298,0.9995288505917926,0.9995288505917926,0.0],\"xaxis\":\"x\",\"y\":[-340.0,-340.0,-355.0,-355.0],\"yaxis\":\"y\",\"type\":\"scatter\"},{\"hoverinfo\":\"text\",\"marker\":{\"color\":\"rgb(0,116,217)\"},\"mode\":\"lines\",\"x\":[1.0,1.0021795065032235,1.0021795065032235,0.9995288505917926],\"xaxis\":\"x\",\"y\":[-278.125,-278.125,-347.5,-347.5],\"yaxis\":\"y\",\"type\":\"scatter\"},{\"hoverinfo\":\"text\",\"marker\":{\"color\":\"rgb(0,116,217)\"},\"mode\":\"lines\",\"x\":[0.9902308906999888,1.0085440991210997,1.0085440991210997,1.0021795065032235],\"xaxis\":\"x\",\"y\":[-210.0,-210.0,-312.8125,-312.8125],\"yaxis\":\"y\",\"type\":\"scatter\"},{\"hoverinfo\":\"text\",\"marker\":{\"color\":\"rgb(255,65,54)\"},\"mode\":\"lines\",\"x\":[0.0,0.9880682958449806,0.9880682958449806,0.0],\"xaxis\":\"x\",\"y\":[-365.0,-365.0,-375.0,-375.0],\"yaxis\":\"y\",\"type\":\"scatter\"},{\"hoverinfo\":\"text\",\"marker\":{\"color\":\"rgb(0,116,217)\"},\"mode\":\"lines\",\"x\":[1.0085440991210997,1.01067854228131,1.01067854228131,0.9880682958449806],\"xaxis\":\"x\",\"y\":[-261.40625,-261.40625,-370.0,-370.0],\"yaxis\":\"y\",\"type\":\"scatter\"},{\"hoverinfo\":\"text\",\"marker\":{\"color\":\"rgb(0,116,217)\"},\"mode\":\"lines\",\"x\":[0.997157140649921,1.0202497817740404,1.0202497817740404,1.01067854228131],\"xaxis\":\"x\",\"y\":[-187.5,-187.5,-315.703125,-315.703125],\"yaxis\":\"y\",\"type\":\"scatter\"},{\"hoverinfo\":\"text\",\"marker\":{\"color\":\"rgb(35,205,205)\"},\"mode\":\"lines\",\"x\":[0.0,0.9690754603838014,0.9690754603838014,0.0],\"xaxis\":\"x\",\"y\":[-385.0,-385.0,-395.0,-395.0],\"yaxis\":\"y\",\"type\":\"scatter\"},{\"hoverinfo\":\"text\",\"marker\":{\"color\":\"rgb(0,116,217)\"},\"mode\":\"lines\",\"x\":[1.0202497817740404,1.0279237493595366,1.0279237493595366,0.9690754603838014],\"xaxis\":\"x\",\"y\":[-251.6015625,-251.6015625,-390.0,-390.0],\"yaxis\":\"y\",\"type\":\"scatter\"},{\"hoverinfo\":\"text\",\"marker\":{\"color\":\"rgb(0,116,217)\"},\"mode\":\"lines\",\"x\":[0.9916028015971781,1.0312662629398928,1.0312662629398928,1.0279237493595366],\"xaxis\":\"x\",\"y\":[-152.5,-152.5,-320.80078125,-320.80078125],\"yaxis\":\"y\",\"type\":\"scatter\"},{\"hoverinfo\":\"text\",\"marker\":{\"color\":\"rgb(133,20,75)\"},\"mode\":\"lines\",\"x\":[0.0,0.9546908424751213,0.9546908424751213,0.0],\"xaxis\":\"x\",\"y\":[-405.0,-405.0,-415.0,-415.0],\"yaxis\":\"y\",\"type\":\"scatter\"},{\"hoverinfo\":\"text\",\"marker\":{\"color\":\"rgb(0,116,217)\"},\"mode\":\"lines\",\"x\":[1.0312662629398928,1.041229135189792,1.041229135189792,0.9546908424751213],\"xaxis\":\"x\",\"y\":[-236.650390625,-236.650390625,-410.0,-410.0],\"yaxis\":\"y\",\"type\":\"scatter\"},{\"hoverinfo\":\"text\",\"marker\":{\"color\":\"rgb(0,116,217)\"},\"mode\":\"lines\",\"x\":[1.005529336994243,1.0429547016011373,1.0429547016011373,1.041229135189792],\"xaxis\":\"x\",\"y\":[-116.25,-116.25,-323.3251953125,-323.3251953125],\"yaxis\":\"y\",\"type\":\"scatter\"},{\"hoverinfo\":\"text\",\"marker\":{\"color\":\"rgb(255,220,0)\"},\"mode\":\"lines\",\"x\":[0.0,0.9537727895399801,0.9537727895399801,0.0],\"xaxis\":\"x\",\"y\":[-425.0,-425.0,-435.0,-435.0],\"yaxis\":\"y\",\"type\":\"scatter\"},{\"hoverinfo\":\"text\",\"marker\":{\"color\":\"rgb(255,220,0)\"},\"mode\":\"lines\",\"x\":[0.9537727895399801,0.9807409428878249,0.9807409428878249,0.0],\"xaxis\":\"x\",\"y\":[-430.0,-430.0,-445.0,-445.0],\"yaxis\":\"y\",\"type\":\"scatter\"},{\"hoverinfo\":\"text\",\"marker\":{\"color\":\"rgb(40,35,35)\"},\"mode\":\"lines\",\"x\":[0.0,0.9758806034628871,0.9758806034628871,0.0],\"xaxis\":\"x\",\"y\":[-455.0,-455.0,-465.0,-465.0],\"yaxis\":\"y\",\"type\":\"scatter\"},{\"hoverinfo\":\"text\",\"marker\":{\"color\":\"rgb(0,116,217)\"},\"mode\":\"lines\",\"x\":[0.9807409428878249,1.0205166346047678,1.0205166346047678,0.9758806034628871],\"xaxis\":\"x\",\"y\":[-437.5,-437.5,-460.0,-460.0],\"yaxis\":\"y\",\"type\":\"scatter\"},{\"hoverinfo\":\"text\",\"marker\":{\"color\":\"rgb(0,116,217)\"},\"mode\":\"lines\",\"x\":[1.0429547016011373,1.0542026642623512,1.0542026642623512,1.0205166346047678],\"xaxis\":\"x\",\"y\":[-219.78759765625,-219.78759765625,-448.75,-448.75],\"yaxis\":\"y\",\"type\":\"scatter\"},{\"hoverinfo\":\"text\",\"marker\":{\"color\":\"rgb(61,153,112)\"},\"mode\":\"lines\",\"x\":[0.0,0.9267749120567808,0.9267749120567808,0.0],\"xaxis\":\"x\",\"y\":[-475.0,-475.0,-485.0,-485.0],\"yaxis\":\"y\",\"type\":\"scatter\"},{\"hoverinfo\":\"text\",\"marker\":{\"color\":\"rgb(255,65,54)\"},\"mode\":\"lines\",\"x\":[0.0,0.9734448878035947,0.9734448878035947,0.0],\"xaxis\":\"x\",\"y\":[-495.0,-495.0,-505.0,-505.0],\"yaxis\":\"y\",\"type\":\"scatter\"},{\"hoverinfo\":\"text\",\"marker\":{\"color\":\"rgb(255,65,54)\"},\"mode\":\"lines\",\"x\":[0.9734448878035947,0.9836149783617146,0.9836149783617146,0.0],\"xaxis\":\"x\",\"y\":[-500.0,-500.0,-515.0,-515.0],\"yaxis\":\"y\",\"type\":\"scatter\"},{\"hoverinfo\":\"text\",\"marker\":{\"color\":\"rgb(0,116,217)\"},\"mode\":\"lines\",\"x\":[0.9267749120567808,1.0351799135554838,1.0351799135554838,0.9836149783617146],\"xaxis\":\"x\",\"y\":[-480.0,-480.0,-507.5,-507.5],\"yaxis\":\"y\",\"type\":\"scatter\"},{\"hoverinfo\":\"text\",\"marker\":{\"color\":\"rgb(0,116,217)\"},\"mode\":\"lines\",\"x\":[1.0542026642623512,1.0612274076468193,1.0612274076468193,1.0351799135554838],\"xaxis\":\"x\",\"y\":[-334.268798828125,-334.268798828125,-493.75,-493.75],\"yaxis\":\"y\",\"type\":\"scatter\"},{\"hoverinfo\":\"text\",\"marker\":{\"color\":\"rgb(0,116,217)\"},\"mode\":\"lines\",\"x\":[0.969663519501249,1.1128333839860025,1.1128333839860025,1.0612274076468193],\"xaxis\":\"x\",\"y\":[-72.5,-72.5,-414.0093994140625,-414.0093994140625],\"yaxis\":\"y\",\"type\":\"scatter\"},{\"hoverinfo\":\"text\",\"marker\":{\"color\":\"rgb(35,205,205)\"},\"mode\":\"lines\",\"x\":[0.0,0.9195623810208551,0.9195623810208551,0.0],\"xaxis\":\"x\",\"y\":[-525.0,-525.0,-535.0,-535.0],\"yaxis\":\"y\",\"type\":\"scatter\"},{\"hoverinfo\":\"text\",\"marker\":{\"color\":\"rgb(35,205,205)\"},\"mode\":\"lines\",\"x\":[0.9195623810208551,0.9609927950351449,0.9609927950351449,0.0],\"xaxis\":\"x\",\"y\":[-530.0,-530.0,-545.0,-545.0],\"yaxis\":\"y\",\"type\":\"scatter\"},{\"hoverinfo\":\"text\",\"marker\":{\"color\":\"rgb(35,205,205)\"},\"mode\":\"lines\",\"x\":[0.9609927950351449,0.9807070783358618,0.9807070783358618,0.0],\"xaxis\":\"x\",\"y\":[-537.5,-537.5,-555.0,-555.0],\"yaxis\":\"y\",\"type\":\"scatter\"},{\"hoverinfo\":\"text\",\"marker\":{\"color\":\"rgb(0,116,217)\"},\"mode\":\"lines\",\"x\":[1.1128333839860025,1.1155416841081616,1.1155416841081616,0.9807070783358618],\"xaxis\":\"x\",\"y\":[-243.25469970703125,-243.25469970703125,-546.25,-546.25],\"yaxis\":\"y\",\"type\":\"scatter\"},{\"hoverinfo\":\"text\",\"marker\":{\"color\":\"rgb(0,116,217)\"},\"mode\":\"lines\",\"x\":[0.9498579891117196,1.1207953842371565,1.1207953842371565,1.1155416841081616],\"xaxis\":\"x\",\"y\":[-47.5,-47.5,-394.7523498535156,-394.7523498535156],\"yaxis\":\"y\",\"type\":\"scatter\"},{\"hoverinfo\":\"text\",\"marker\":{\"color\":\"rgb(61,153,112)\"},\"mode\":\"lines\",\"x\":[0.0,0.8428190371532319,0.8428190371532319,0.0],\"xaxis\":\"x\",\"y\":[-565.0,-565.0,-575.0,-575.0],\"yaxis\":\"y\",\"type\":\"scatter\"},{\"hoverinfo\":\"text\",\"marker\":{\"color\":\"rgb(0,116,217)\"},\"mode\":\"lines\",\"x\":[1.1207953842371565,1.1240566925705386,1.1240566925705386,0.8428190371532319],\"xaxis\":\"x\",\"y\":[-221.1261749267578,-221.1261749267578,-570.0,-570.0],\"yaxis\":\"y\",\"type\":\"scatter\"},{\"hoverinfo\":\"text\",\"marker\":{\"color\":\"rgb(0,116,217)\"},\"mode\":\"lines\",\"x\":[0.9149565381964272,1.1777105399212697,1.1777105399212697,1.1240566925705386],\"xaxis\":\"x\",\"y\":[-12.5,-12.5,-395.5630874633789,-395.5630874633789],\"yaxis\":\"y\",\"type\":\"scatter\"}],                        {\"autosize\":false,\"height\":1070,\"hovermode\":\"closest\",\"showlegend\":false,\"width\":1000,\"xaxis\":{\"mirror\":\"allticks\",\"rangemode\":\"tozero\",\"showgrid\":false,\"showline\":true,\"showticklabels\":true,\"ticks\":\"outside\",\"type\":\"linear\",\"zeroline\":false},\"yaxis\":{\"mirror\":\"allticks\",\"rangemode\":\"tozero\",\"showgrid\":false,\"showline\":true,\"showticklabels\":true,\"tickmode\":\"array\",\"ticks\":\"outside\",\"ticktext\":[\"30_\\u4eba\\u5de5\\u77e5\\u80fd_ai_\\u4eba\\u5de5\\u77e5\\u80fd\\u306b\\u3064\\u3044\\u3066\",\"27_ai_\\u4eba\\u5de5\\u77e5\\u80fd_\\u8ca0\\u306e\\u76f8\\u95a2\",\"22_\\u5f31\\u3044ai_\\u5f37\\u3044ai_\\u7279\\u5316\\u578bai\",\"25_\\u30a8\\u30c3\\u30b8\\u62bd\\u51fa_\\u30a8\\u30c3\\u30b8_\\u6587\\u5b57\",\"12_\\u76f8\\u95a2_\\u7d71\\u8a08\\u7684\\u691c\\u5b9a_\\u5dee\\u304c\\u306a\\u3044\",\"49_\\u76f8\\u95a2\\u306b\\u3064\\u3044\\u3066_\\u691c\\u5b9a\\u3068\\u753b\\u50cf\\u51e6\\u7406\\u306b\\u3064\\u3044\\u3066\\u5b66\\u3093\\u3060_\\u691c\\u5b9a...\",\"51_\\u3053\\u308c\\u3089\\u4e8c\\u3064\\u306f\\u76f8\\u540c\\u6027\\u691c\\u7d22\\u30af\\u30e9\\u30b9\\u30bf\\u30ea\\u30f3\\u30b0\\u7cfb\\u7d71\\u5206\\u96e2\\u5224\\u5b9a...\",\"10_\\u8ddd\\u96e2_\\u985e\\u4f3c\\u5ea6_\\u4f3c\\u3066\\u3044\\u308b\",\"53_\\u69d8\\u3005\\u306a\\u8ddd\\u96e2_\\u8ddd\\u96e2\\u3068\\u985e\\u4f3c\\u5ea6_\\u30d9\\u30af\\u30c8\\u30eb\\u8ddd\\u96e2\\u985e\\u4f3c\\u5ea6\",\"44_\\u4e57\\u7b97\\u5668_\\u4f4d\\u76f8\\u5fdc\\u7b54_\\u632f\\u5e45\\u5fdc\\u7b54\",\"11_\\u96e2\\u6563\\u6642\\u9593\\u30d5\\u30fc\\u30ea\\u30a8\\u5909\\u63db\\u3068\\u96e2\\u6563\\u30d5\\u30fc\\u30ea\\u30a8\\u5909\\u63db_\\u96e2\\u6563\\u6642\\u9593...\",\"6_z\\u5909\\u63db\\u306b\\u3064\\u3044\\u3066_z\\u5909\\u63db\\u306e\\u6027\\u8cea\\u9006z\\u5909\\u63db_\\u96e2\\u6563\\u30d5\\u30fc\\u30ea\\u30a8\\u5909\\u63db\",\"55_\\u306e\\u5468\\u671f\\u95a2\\u6570\\u3067\\u3042\\u308b\\u3068\\u89e3\\u91c8\\u3059\\u308b\\u3053\\u3068\\u3067\\u30d5\\u30fc\\u30ea\\u30a8\\u5909\\u63db\\u3059\\u308b...\",\"18_\\u975e\\u5468\\u671f\\u4fe1\\u53f7\\u306e\\u30d5\\u30fc\\u30ea\\u30a8\\u5909\\u63db_\\u5468\\u671f\\u4fe1\\u53f7\\u306e\\u30d5\\u30fc\\u30ea\\u30a8\\u7d1a\\u6570...\",\"42_\\u30d5\\u30fc\\u30ea\\u30a8\\u7d1a\\u6570\\u8868\\u73fe_\\u3042\\u3089\\u3086\\u308b\\u4fe1\\u53f7\\u306f\\u6b63\\u5f26\\u6ce2\\u3092\\u7528\\u3044\\u3066\\u8868...\",\"24_\\u30d5\\u30fc\\u30ea\\u30a8\\u7d1a\\u6570\\u304b\\u3089\\u30d5\\u30fc\\u30ea\\u30a8\\u5909\\u63db\\u3078\\u306e\\u62e1\\u5f35_\\u30d5\\u30fc\\u30ea\\u30a8\\u7d1a...\",\"37_\\u30d5\\u30fc\\u30ea\\u30a8\\u7d1a\\u6570\\u306b\\u3064\\u3044\\u3066\\u5b66\\u3093\\u3060_\\u3053\\u308c\\u304b\\u3089\\u306e\\u6388\\u696d\\u3067\\u4f55\\u3092...\",\"54_\\u30d2\\u30fc\\u30d7\\u30bd\\u30fc\\u30c8\\u3068\\u30de\\u30fc\\u30b8\\u30bd\\u30fc\\u30c8\\u306b\\u3064\\u3044\\u3066_\\u30de\\u30fc\\u30b8\\u30bd\\u30fc\\u30c8...\",\"34_\\u30de\\u30fc\\u30b8\\u30bd\\u30fc\\u30c8\\u3068\\u4e8c\\u5206\\u63a2\\u7d22\\u6cd5\\u306b\\u3064\\u3044\\u3066_\\u4e8c\\u5206\\u63a2\\u7d22\\u6cd5_2...\",\"33_\\u4e8c\\u5206\\u63a2\\u7d22\\u6cd5\\u3068\\u30c7\\u30fc\\u30bf\\u306b\\u3064\\u3044\\u3066_\\u4e8c\\u5206\\u63a2\\u7d22\\u6cd5\\u306b\\u3064\\u3044\\u3066_...\",\"14_\\u77e5\\u8b58\\u30de\\u30c3\\u30d7\\u306e\\u4f5c\\u6210_\\u77e5\\u8b58\\u30de\\u30c3\\u30d7\\u306e\\u4f5c\\u88fd_\\u77e5\\u8b58\\u30de\\u30c3\\u30d7\\u4f5c\\u6210\",\"39_\\u8208\\u5473\\u304c\\u60f9\\u304b\\u308c\\u3084\\u3059\\u3044\\u5185\\u5bb9\\u3060\\u3063\\u305f_br\\u30fcmap\\u3092\\u7528\\u3044...\",\"57_\\u7df4\\u7fd2\\u554f\\u984c\\u3084\\u8ab2\\u984c\\u306e\\u89e3\\u8aac\\u30d2\\u30fc\\u30d7\\u30bd\\u30fc\\u30c8\\u306e\\u5fa9\\u7fd2\\u30de\\u30fc\\u30b8\\u30bd\\u30fc...\",\"46_\\u7814\\u7a76\\u502b\\u7406\\u60c5\\u5831\\u502b\\u7406\\u306b\\u3064\\u3044\\u3066_\\u7814\\u7a76\\u306b\\u304a\\u3044\\u3066\\u306e\\u30de\\u30ca\\u30fc\\u7684...\",\"43_2fm_\\u9023\\u7d9a\\u4fe1\\u53f7\\u306e\\u6a19\\u672c\\u5316\\u306e\\u7cbe\\u5ea6\\u306b\\u95a2\\u308f\\u308b\\u6a19\\u672c\\u5316\\u5b9a\\u7406...\",\"40_\\u96e2\\u6563\\u30d5\\u30fc\\u30ea\\u30a8\\u5909\\u63db\\u306e\\u6027\\u8cea\\u306b\\u3064\\u3044\\u3066\\u5b66\\u3093\\u3060_\\u96e2\\u6563\\u30d5\\u30fc\\u30ea...\",\"48_\\u6388\\u696d\\u306e\\u30ac\\u30a4\\u30c0\\u30f3\\u30b9_\\u4eca\\u5f8c\\u306e\\u6388\\u696d\\u306e\\u305f\\u3081\\u306e\\u30ac\\u30a4\\u30c0\\u30f3\\u30b9_...\",\"50_\\u9006z\\u5909\\u63db_\\u9006z\\u5909\\u63db\\u306b\\u3064\\u3044\\u3066_\\u9006z\\u5909\\u63db\\u306e\\u6c42\\u3081\\u65b9\\u306b\\u95a2...\",\"56_\\u8b66\\u6212\\u304c\\u5927\\u4e8b_ict\\u793e\\u4f1a\\u3067\\u751f\\u304d\\u629c\\u304f\\u305f\\u3081\\u306b_ict\\u74b0...\",\"23_\\u8457\\u4f5c\\u6a29\\u306b\\u3064\\u3044\\u3066_\\u8ca1\\u7523\\u6a29_\\u8457\\u4f5c\\u6a29\",\"21_\\u671f\\u672b\\u30c6\\u30b9\\u30c8_\\u78ba\\u8a8d\\u30c6\\u30b9\\u30c8_\\u30c6\\u30b9\\u30c8\",\"3_\\u7b26\\u53f7\\u8a9e\\u540c\\u58eb\\u304cs_2k_\\u30cf\\u30df\\u30f3\\u30b0\\u8ddd\\u96e2\",\"31_\\u6539\\u7ac4_\\u634f\\u9020_\\u305d\\u3057\\u3066\\u60c5\\u5831\\u502b\\u7406\\u306b\\u3064\\u3044\\u3066\\u4e5d\\u5dde\\u5927\\u5b66\\u306e\\u4f8b\\u3092...\",\"15_\\u30b3\\u30e2\\u30f3\\u30ba_\\u5168\\u6570\\u8abf\\u67fb_\\u6a19\\u672c\\u8abf\\u67fb\",\"1_\\u30d0\\u30a4_\\u5b8c\\u5168\\u6027_\\u6697\\u53f7\\u306b\\u3064\\u3044\\u3066\",\"17_\\u9ad8\\u901f\\u30d5\\u30fc\\u30ea\\u30a8\\u5909\\u63db_\\u9ad8\\u901f\\u30d5\\u30fc\\u30ea\\u30a8\\u5909\\u63db\\u306b\\u3064\\u3044\\u3066_\\u9ad8\\u901f...\",\"35_\\u30ac\\u30a4\\u30c0\\u30f3\\u30b9_\\u30aa\\u30ea\\u30a8\\u30f3\\u30c6\\u30fc\\u30b7\\u30e7\\u30f3_\\u30bd\\u30fc\\u30c8\\u306e\\u5927\\u307e\\u304b\\u306a\\u6982\\u8981\",\"7_\\u30d1\\u30bf\\u30fc\\u30f3\\u8a8d\\u8b58_\\u30d9\\u30af\\u30c8\\u30eb_\\u753b\\u50cf\\u51e6\\u7406\",\"41_fir\\u306e\\u8a2d\\u8a08\\u306b\\u306f\\u7a93\\u95a2\\u6570\\u304c\\u7528\\u3044\\u3089\\u308c\\u308b\\u624b\\u9806\\u306f\\u6b21\\u306e\\u3068\\u304a...\",\"28_\\u30c7\\u30a3\\u30b8\\u30bf\\u30eb\\u30d5\\u30a3\\u30eb\\u30bf\\u306e\\u8a2d\\u8a08_\\u30c7\\u30a3\\u30b8\\u30bf\\u30eb\\u30d5\\u30a3\\u30eb\\u30bf\\u306e\\u8a2d...\",\"47_\\u5dee\\u5206\\u65b9\\u7a0b\\u5f0f_\\u30a4\\u30f3\\u30d1\\u30eb\\u30b9\\u5fdc\\u7b54\\u4f1d\\u9054\\u95a2\\u6570\\u3068\\u305d\\u306e\\u8a08\\u7b97\\u306e\\u624b...\",\"26_\\u96e2\\u6563\\u6642\\u9593\\u30b7\\u30b9\\u30c6\\u30e0\\u306e\\u7dda\\u5f62\\u6642\\u4e0d\\u5909\\u30b7\\u30b9\\u30c6\\u30e0\\u3068\\u5dee\\u5206\\u65b9\\u7a0b\\u5f0f...\",\"4_\\u60c5\\u5831\\u6e90\\u7b26\\u53f7\\u5316_\\u30a8\\u30f3\\u30c8\\u30ed\\u30d4\\u30fc_\\u60c5\\u5831\\u6e90\",\"9_xy_log2_\\u60c5\\u5831\\u91cf\",\"8_2\\u56de_\\u30d0\\u30d6\\u30eb\\u30bd\\u30fc\\u30c8_cf\",\"2_\\u8a08\\u7b97_\\u30a2\\u30eb\\u30b4\\u30ea\\u30ba\\u30e0_\\u554f\\u984c\",\"0_\\u60c5\\u5831\\u79d1\\u5b66_\\u60c5\\u5831_0\\u30681\",\"19_klogn_logn_kn\",\"5_\\u4e88\\u6e2c_\\u767a\\u898b_\\u30b0\\u30eb\\u30fc\\u30d4\\u30f3\\u30b0\",\"29_\\u30c7\\u30fc\\u30bf\\u306e\\u53ef\\u8996\\u5316\\u306b\\u3064\\u3044\\u3066_\\u53ef\\u8996\\u5316_\\u3053\\u3068\\u304c\\u3067\\u304d\\u308b\\u304b\\u3068...\",\"13_\\u30ce\\u30fc\\u30c9_\\u3068\\u8fba_\\u30a8\\u30c3\\u30b8\",\"45_\\u53ef\\u8996\\u5316\\u306e\\u7a2e\\u985e_\\u53ef\\u8996\\u5316\\u306b\\u3064\\u3044\\u3066_\\u53ef\\u8996\\u5316\\u3068\\u305d\\u306e\\u624b\\u6cd5\",\"52_\\u6a19\\u672c\\u5316\\u5b9a\\u7406\\u306b\\u3064\\u3044\\u3066\\u5b66\\u7fd2\\u3057\\u305f_\\u30b5\\u30f3\\u30d7\\u30ea\\u30f3\\u30b0\\u4fe1\\u53f7\\u6a19\\u672c...\",\"38_\\u6a19\\u672c\\u5316\\u306b\\u3064\\u3044\\u3066_\\u6a19\\u672c\\u5316_\\u6a19\\u672c\\u5316\\u5b9a\\u7406\",\"20_nt_\\u9023\\u7d9a\\u6642\\u9593\\u4fe1\\u53f7\\u306e\\u6a19\\u672c\\u5316_\\u9023\\u7d9a\\u6642\\u9593\\u4fe1\\u53f7\\u306e\\u6a19\\u672c\\u5316...\",\"16_\\u30c7\\u30a3\\u30b8\\u30bf\\u30eb\\u4fe1\\u53f7\\u51e6\\u7406\\u306e\\u6982\\u8981_\\u91cf\\u5b50\\u5316_\\u7b26\\u53f7\\u5316\",\"36_nlogn_log_\\u901a\\u308a\\u304c\\u3051\\u9806\",\"32_nlogn_log2n_\\u30de\\u30fc\\u30b8\\u30bd\\u30fc\\u30c8\"],\"tickvals\":[-5.0,-15.0,-25.0,-35.0,-45.0,-55.0,-65.0,-75.0,-85.0,-95.0,-105.0,-115.0,-125.0,-135.0,-145.0,-155.0,-165.0,-175.0,-185.0,-195.0,-205.0,-215.0,-225.0,-235.0,-245.0,-255.0,-265.0,-275.0,-285.0,-295.0,-305.0,-315.0,-325.0,-335.0,-345.0,-355.0,-365.0,-375.0,-385.0,-395.0,-405.0,-415.0,-425.0,-435.0,-445.0,-455.0,-465.0,-475.0,-485.0,-495.0,-505.0,-515.0,-525.0,-535.0,-545.0,-555.0,-565.0,-575.0],\"type\":\"linear\",\"zeroline\":false,\"range\":[-580.0,0.0]},\"template\":{\"data\":{\"barpolar\":[{\"marker\":{\"line\":{\"color\":\"white\",\"width\":0.5},\"pattern\":{\"fillmode\":\"overlay\",\"size\":10,\"solidity\":0.2}},\"type\":\"barpolar\"}],\"bar\":[{\"error_x\":{\"color\":\"#2a3f5f\"},\"error_y\":{\"color\":\"#2a3f5f\"},\"marker\":{\"line\":{\"color\":\"white\",\"width\":0.5},\"pattern\":{\"fillmode\":\"overlay\",\"size\":10,\"solidity\":0.2}},\"type\":\"bar\"}],\"carpet\":[{\"aaxis\":{\"endlinecolor\":\"#2a3f5f\",\"gridcolor\":\"#C8D4E3\",\"linecolor\":\"#C8D4E3\",\"minorgridcolor\":\"#C8D4E3\",\"startlinecolor\":\"#2a3f5f\"},\"baxis\":{\"endlinecolor\":\"#2a3f5f\",\"gridcolor\":\"#C8D4E3\",\"linecolor\":\"#C8D4E3\",\"minorgridcolor\":\"#C8D4E3\",\"startlinecolor\":\"#2a3f5f\"},\"type\":\"carpet\"}],\"choropleth\":[{\"colorbar\":{\"outlinewidth\":0,\"ticks\":\"\"},\"type\":\"choropleth\"}],\"contourcarpet\":[{\"colorbar\":{\"outlinewidth\":0,\"ticks\":\"\"},\"type\":\"contourcarpet\"}],\"contour\":[{\"colorbar\":{\"outlinewidth\":0,\"ticks\":\"\"},\"colorscale\":[[0.0,\"#0d0887\"],[0.1111111111111111,\"#46039f\"],[0.2222222222222222,\"#7201a8\"],[0.3333333333333333,\"#9c179e\"],[0.4444444444444444,\"#bd3786\"],[0.5555555555555556,\"#d8576b\"],[0.6666666666666666,\"#ed7953\"],[0.7777777777777778,\"#fb9f3a\"],[0.8888888888888888,\"#fdca26\"],[1.0,\"#f0f921\"]],\"type\":\"contour\"}],\"heatmapgl\":[{\"colorbar\":{\"outlinewidth\":0,\"ticks\":\"\"},\"colorscale\":[[0.0,\"#0d0887\"],[0.1111111111111111,\"#46039f\"],[0.2222222222222222,\"#7201a8\"],[0.3333333333333333,\"#9c179e\"],[0.4444444444444444,\"#bd3786\"],[0.5555555555555556,\"#d8576b\"],[0.6666666666666666,\"#ed7953\"],[0.7777777777777778,\"#fb9f3a\"],[0.8888888888888888,\"#fdca26\"],[1.0,\"#f0f921\"]],\"type\":\"heatmapgl\"}],\"heatmap\":[{\"colorbar\":{\"outlinewidth\":0,\"ticks\":\"\"},\"colorscale\":[[0.0,\"#0d0887\"],[0.1111111111111111,\"#46039f\"],[0.2222222222222222,\"#7201a8\"],[0.3333333333333333,\"#9c179e\"],[0.4444444444444444,\"#bd3786\"],[0.5555555555555556,\"#d8576b\"],[0.6666666666666666,\"#ed7953\"],[0.7777777777777778,\"#fb9f3a\"],[0.8888888888888888,\"#fdca26\"],[1.0,\"#f0f921\"]],\"type\":\"heatmap\"}],\"histogram2dcontour\":[{\"colorbar\":{\"outlinewidth\":0,\"ticks\":\"\"},\"colorscale\":[[0.0,\"#0d0887\"],[0.1111111111111111,\"#46039f\"],[0.2222222222222222,\"#7201a8\"],[0.3333333333333333,\"#9c179e\"],[0.4444444444444444,\"#bd3786\"],[0.5555555555555556,\"#d8576b\"],[0.6666666666666666,\"#ed7953\"],[0.7777777777777778,\"#fb9f3a\"],[0.8888888888888888,\"#fdca26\"],[1.0,\"#f0f921\"]],\"type\":\"histogram2dcontour\"}],\"histogram2d\":[{\"colorbar\":{\"outlinewidth\":0,\"ticks\":\"\"},\"colorscale\":[[0.0,\"#0d0887\"],[0.1111111111111111,\"#46039f\"],[0.2222222222222222,\"#7201a8\"],[0.3333333333333333,\"#9c179e\"],[0.4444444444444444,\"#bd3786\"],[0.5555555555555556,\"#d8576b\"],[0.6666666666666666,\"#ed7953\"],[0.7777777777777778,\"#fb9f3a\"],[0.8888888888888888,\"#fdca26\"],[1.0,\"#f0f921\"]],\"type\":\"histogram2d\"}],\"histogram\":[{\"marker\":{\"pattern\":{\"fillmode\":\"overlay\",\"size\":10,\"solidity\":0.2}},\"type\":\"histogram\"}],\"mesh3d\":[{\"colorbar\":{\"outlinewidth\":0,\"ticks\":\"\"},\"type\":\"mesh3d\"}],\"parcoords\":[{\"line\":{\"colorbar\":{\"outlinewidth\":0,\"ticks\":\"\"}},\"type\":\"parcoords\"}],\"pie\":[{\"automargin\":true,\"type\":\"pie\"}],\"scatter3d\":[{\"line\":{\"colorbar\":{\"outlinewidth\":0,\"ticks\":\"\"}},\"marker\":{\"colorbar\":{\"outlinewidth\":0,\"ticks\":\"\"}},\"type\":\"scatter3d\"}],\"scattercarpet\":[{\"marker\":{\"colorbar\":{\"outlinewidth\":0,\"ticks\":\"\"}},\"type\":\"scattercarpet\"}],\"scattergeo\":[{\"marker\":{\"colorbar\":{\"outlinewidth\":0,\"ticks\":\"\"}},\"type\":\"scattergeo\"}],\"scattergl\":[{\"marker\":{\"colorbar\":{\"outlinewidth\":0,\"ticks\":\"\"}},\"type\":\"scattergl\"}],\"scattermapbox\":[{\"marker\":{\"colorbar\":{\"outlinewidth\":0,\"ticks\":\"\"}},\"type\":\"scattermapbox\"}],\"scatterpolargl\":[{\"marker\":{\"colorbar\":{\"outlinewidth\":0,\"ticks\":\"\"}},\"type\":\"scatterpolargl\"}],\"scatterpolar\":[{\"marker\":{\"colorbar\":{\"outlinewidth\":0,\"ticks\":\"\"}},\"type\":\"scatterpolar\"}],\"scatter\":[{\"fillpattern\":{\"fillmode\":\"overlay\",\"size\":10,\"solidity\":0.2},\"type\":\"scatter\"}],\"scatterternary\":[{\"marker\":{\"colorbar\":{\"outlinewidth\":0,\"ticks\":\"\"}},\"type\":\"scatterternary\"}],\"surface\":[{\"colorbar\":{\"outlinewidth\":0,\"ticks\":\"\"},\"colorscale\":[[0.0,\"#0d0887\"],[0.1111111111111111,\"#46039f\"],[0.2222222222222222,\"#7201a8\"],[0.3333333333333333,\"#9c179e\"],[0.4444444444444444,\"#bd3786\"],[0.5555555555555556,\"#d8576b\"],[0.6666666666666666,\"#ed7953\"],[0.7777777777777778,\"#fb9f3a\"],[0.8888888888888888,\"#fdca26\"],[1.0,\"#f0f921\"]],\"type\":\"surface\"}],\"table\":[{\"cells\":{\"fill\":{\"color\":\"#EBF0F8\"},\"line\":{\"color\":\"white\"}},\"header\":{\"fill\":{\"color\":\"#C8D4E3\"},\"line\":{\"color\":\"white\"}},\"type\":\"table\"}]},\"layout\":{\"annotationdefaults\":{\"arrowcolor\":\"#2a3f5f\",\"arrowhead\":0,\"arrowwidth\":1},\"autotypenumbers\":\"strict\",\"coloraxis\":{\"colorbar\":{\"outlinewidth\":0,\"ticks\":\"\"}},\"colorscale\":{\"diverging\":[[0,\"#8e0152\"],[0.1,\"#c51b7d\"],[0.2,\"#de77ae\"],[0.3,\"#f1b6da\"],[0.4,\"#fde0ef\"],[0.5,\"#f7f7f7\"],[0.6,\"#e6f5d0\"],[0.7,\"#b8e186\"],[0.8,\"#7fbc41\"],[0.9,\"#4d9221\"],[1,\"#276419\"]],\"sequential\":[[0.0,\"#0d0887\"],[0.1111111111111111,\"#46039f\"],[0.2222222222222222,\"#7201a8\"],[0.3333333333333333,\"#9c179e\"],[0.4444444444444444,\"#bd3786\"],[0.5555555555555556,\"#d8576b\"],[0.6666666666666666,\"#ed7953\"],[0.7777777777777778,\"#fb9f3a\"],[0.8888888888888888,\"#fdca26\"],[1.0,\"#f0f921\"]],\"sequentialminus\":[[0.0,\"#0d0887\"],[0.1111111111111111,\"#46039f\"],[0.2222222222222222,\"#7201a8\"],[0.3333333333333333,\"#9c179e\"],[0.4444444444444444,\"#bd3786\"],[0.5555555555555556,\"#d8576b\"],[0.6666666666666666,\"#ed7953\"],[0.7777777777777778,\"#fb9f3a\"],[0.8888888888888888,\"#fdca26\"],[1.0,\"#f0f921\"]]},\"colorway\":[\"#636efa\",\"#EF553B\",\"#00cc96\",\"#ab63fa\",\"#FFA15A\",\"#19d3f3\",\"#FF6692\",\"#B6E880\",\"#FF97FF\",\"#FECB52\"],\"font\":{\"color\":\"#2a3f5f\"},\"geo\":{\"bgcolor\":\"white\",\"lakecolor\":\"white\",\"landcolor\":\"white\",\"showlakes\":true,\"showland\":true,\"subunitcolor\":\"#C8D4E3\"},\"hoverlabel\":{\"align\":\"left\"},\"hovermode\":\"closest\",\"mapbox\":{\"style\":\"light\"},\"paper_bgcolor\":\"white\",\"plot_bgcolor\":\"white\",\"polar\":{\"angularaxis\":{\"gridcolor\":\"#EBF0F8\",\"linecolor\":\"#EBF0F8\",\"ticks\":\"\"},\"bgcolor\":\"white\",\"radialaxis\":{\"gridcolor\":\"#EBF0F8\",\"linecolor\":\"#EBF0F8\",\"ticks\":\"\"}},\"scene\":{\"xaxis\":{\"backgroundcolor\":\"white\",\"gridcolor\":\"#DFE8F3\",\"gridwidth\":2,\"linecolor\":\"#EBF0F8\",\"showbackground\":true,\"ticks\":\"\",\"zerolinecolor\":\"#EBF0F8\"},\"yaxis\":{\"backgroundcolor\":\"white\",\"gridcolor\":\"#DFE8F3\",\"gridwidth\":2,\"linecolor\":\"#EBF0F8\",\"showbackground\":true,\"ticks\":\"\",\"zerolinecolor\":\"#EBF0F8\"},\"zaxis\":{\"backgroundcolor\":\"white\",\"gridcolor\":\"#DFE8F3\",\"gridwidth\":2,\"linecolor\":\"#EBF0F8\",\"showbackground\":true,\"ticks\":\"\",\"zerolinecolor\":\"#EBF0F8\"}},\"shapedefaults\":{\"line\":{\"color\":\"#2a3f5f\"}},\"ternary\":{\"aaxis\":{\"gridcolor\":\"#DFE8F3\",\"linecolor\":\"#A2B1C6\",\"ticks\":\"\"},\"baxis\":{\"gridcolor\":\"#DFE8F3\",\"linecolor\":\"#A2B1C6\",\"ticks\":\"\"},\"bgcolor\":\"white\",\"caxis\":{\"gridcolor\":\"#DFE8F3\",\"linecolor\":\"#A2B1C6\",\"ticks\":\"\"}},\"title\":{\"x\":0.05},\"xaxis\":{\"automargin\":true,\"gridcolor\":\"#EBF0F8\",\"linecolor\":\"#EBF0F8\",\"ticks\":\"\",\"title\":{\"standoff\":15},\"zerolinecolor\":\"#EBF0F8\",\"zerolinewidth\":2},\"yaxis\":{\"automargin\":true,\"gridcolor\":\"#EBF0F8\",\"linecolor\":\"#EBF0F8\",\"ticks\":\"\",\"title\":{\"standoff\":15},\"zerolinecolor\":\"#EBF0F8\",\"zerolinewidth\":2}}},\"title\":{\"font\":{\"size\":22,\"color\":\"Black\"},\"text\":\"\\u003cb\\u003eHierarchical Clustering\\u003c\\u002fb\\u003e\",\"x\":0.5,\"xanchor\":\"center\",\"yanchor\":\"top\"},\"hoverlabel\":{\"font\":{\"size\":16,\"family\":\"Rockwell\"},\"bgcolor\":\"white\"},\"plot_bgcolor\":\"#ECEFF1\"},                        {\"responsive\": true}                    ).then(function(){\n",
       "                            \n",
       "var gd = document.getElementById('a670f19a-d96b-486c-abc6-38f83a07a7d4');\n",
       "var x = new MutationObserver(function (mutations, observer) {{\n",
       "        var display = window.getComputedStyle(gd).display;\n",
       "        if (!display || display === 'none') {{\n",
       "            console.log([gd, 'removed!']);\n",
       "            Plotly.purge(gd);\n",
       "            observer.disconnect();\n",
       "        }}\n",
       "}});\n",
       "\n",
       "// Listen for the removal of the full notebook cells\n",
       "var notebookContainer = gd.closest('#notebook-container');\n",
       "if (notebookContainer) {{\n",
       "    x.observe(notebookContainer, {childList: true});\n",
       "}}\n",
       "\n",
       "// Listen for the clearing of the current output cell\n",
       "var outputEl = gd.closest('.output');\n",
       "if (outputEl) {{\n",
       "    x.observe(outputEl, {childList: true});\n",
       "}}\n",
       "\n",
       "                        })                };                });            </script>        </div>"
      ]
     },
     "metadata": {},
     "output_type": "display_data"
    }
   ],
   "source": [
    "topic_model.visualize_hierarchy()"
   ]
  },
  {
   "cell_type": "code",
   "execution_count": 257,
   "metadata": {},
   "outputs": [],
   "source": [
    "# トピックと真のラベルの関連をデータフレームで表現\n",
    "df_topics_labels = pd.DataFrame({'Topic': topics, 'True_Label': df['label']})\n",
    "\n",
    "# 各トピックにおけるラベルの分布を集計\n",
    "label_distribution = df_topics_labels.groupby('Topic')['True_Label'].value_counts().unstack().fillna(0)"
   ]
  },
  {
   "cell_type": "code",
   "execution_count": 258,
   "metadata": {},
   "outputs": [
    {
     "data": {
      "image/png": "[encoded data removed]",
      "text/plain": [
       "<Figure size 1200x800 with 2 Axes>"
      ]
     },
     "metadata": {},
     "output_type": "display_data"
    }
   ],
   "source": [
    "import pandas as pd\n",
    "import matplotlib.pyplot as plt\n",
    "import seaborn as sns\n",
    "\n",
    "\n",
    "\n",
    "# 結果を視覚化\n",
    "plt.figure(figsize=(12, 8))\n",
    "sns.heatmap(label_distribution, annot=True, cmap='viridis')\n",
    "plt.title('Label Distribution per Topic')\n",
    "plt.xlabel('True Labels')\n",
    "plt.ylabel('Topics')\n",
    "plt.show()"
   ]
  },
  {
   "cell_type": "code",
   "execution_count": 259,
   "metadata": {},
   "outputs": [],
   "source": [
    "# import plotly.graph_objects as go\n",
    "\n",
    "# # トピックと真のラベルの関連をデータフレームで表現\n",
    "# df_topics_labels = pd.DataFrame({'Topic': topics, 'True_Label': train['label']})\n",
    "\n",
    "# # 各トピックにおけるラベルの分布を集計\n",
    "# label_distribution = df_topics_labels.groupby('Topic')['True_Label'].value_counts().unstack().fillna(0)\n",
    "\n",
    "# # Plotlyの棒グラフを作成\n",
    "# fig = go.Figure()\n",
    "\n",
    "# # トピックごとの棒グラフを作成\n",
    "# for topic in label_distribution.index:\n",
    "#     fig.add_trace(\n",
    "#         go.Bar(\n",
    "#             x=label_distribution.columns,\n",
    "#             y=label_distribution.loc[topic],\n",
    "#             name=f\"Topic {topic}\"\n",
    "#         )\n",
    "#     )\n",
    "\n",
    "# # シークバーの設定\n",
    "# steps = []\n",
    "# for i in range(len(label_distribution.index)):\n",
    "#     step = dict(\n",
    "#         method=\"update\",\n",
    "#         args=[{\"visible\": [False] * len(label_distribution.index)},\n",
    "#               {\"title\": f\"Topic {label_distribution.index[i]}\"}],\n",
    "#         label=f\"Topic {label_distribution.index[i]}\"\n",
    "#     )\n",
    "#     step[\"args\"][0][\"visible\"][i] = True  # このトピックのバーだけを表示\n",
    "#     steps.append(step)\n",
    "\n",
    "# sliders = [dict(\n",
    "#     active=0,\n",
    "#     currentvalue={\"prefix\": \"Selected Topic: \"},\n",
    "#     pad={\"t\": 50},\n",
    "#     steps=steps\n",
    "# )]\n",
    "\n",
    "# fig.update_layout(\n",
    "#     sliders=sliders,\n",
    "#     title=\"Label Distribution per Topic\",\n",
    "#     xaxis_title=\"True Labels\",\n",
    "#     yaxis_title=\"Count\"\n",
    "# )\n",
    "\n",
    "# fig.show()\n"
   ]
  },
  {
   "cell_type": "code",
   "execution_count": 260,
   "metadata": {},
   "outputs": [
    {
     "name": "stderr",
     "output_type": "stream",
     "text": [
      "Batches:   0%|          | 0/189 [00:00<?, ?it/s]"
     ]
    },
    {
     "name": "stderr",
     "output_type": "stream",
     "text": [
      "Batches: 100%|██████████| 189/189 [00:49<00:00,  3.79it/s]\n",
      "2024-04-08 06:52:46,685 - BERTopic - Dimensionality - Reducing dimensionality of input embeddings.\n",
      "2024-04-08 06:52:46,701 - BERTopic - Dimensionality - Completed ✓\n",
      "2024-04-08 06:52:46,701 - BERTopic - Clustering - Approximating new points with `hdbscan_model`\n",
      "2024-04-08 06:52:46,905 - BERTopic - Probabilities - Start calculation of probabilities with HDBSCAN\n",
      "2024-04-08 06:52:49,314 - BERTopic - Probabilities - Completed ✓\n",
      "2024-04-08 06:52:49,315 - BERTopic - Cluster - Completed ✓\n"
     ]
    }
   ],
   "source": [
    "# すべての文書に対してトピック割り当てを行う\n",
    "topics, _ = topic_model.transform(docs)\n",
    "\n",
    "# トピック1に割り当てられた文書のインデックスを取得\n",
    "topic_1_indices = [i for i, topic in enumerate(topics) if topic == 1]\n",
    "\n",
    "# トピック1に割り当てられた文書を抽出\n",
    "topic_1_docs = [docs[i] for i in topic_1_indices]\n",
    "\n",
    "# トピック1に割り当てられた文書を表示または保存\n",
    "# for doc in topic_1_docs:\n",
    "#     print(doc)\n"
   ]
  },
  {
   "cell_type": "code",
   "execution_count": 261,
   "metadata": {},
   "outputs": [
    {
     "data": {
      "application/vnd.plotly.v1+json": {
       "config": {
        "plotlyServerURL": "https://plot.ly"
       },
       "data": [
        {
         "hoverinfo": "text",
         "marker": {
          "color": "rgb(61,153,112)"
         },
         "mode": "lines",
         "type": "scatter",
         "x": [
          0,
          0.8622089887212615,
          0.8622089887212615,
          0
         ],
         "xaxis": "x",
         "y": [
          -15,
          -15,
          -25,
          -25
         ],
         "yaxis": "y"
        },
        {
         "hoverinfo": "text",
         "marker": {
          "color": "rgb(61,153,112)"
         },
         "mode": "lines",
         "type": "scatter",
         "x": [
          0,
          0.9149565381964272,
          0.9149565381964272,
          0.8622089887212615
         ],
         "xaxis": "x",
         "y": [
          -5,
          -5,
          -20,
          -20
         ],
         "yaxis": "y"
        },
        {
         "hoverinfo": "text",
         "marker": {
          "color": "rgb(255,65,54)"
         },
         "mode": "lines",
         "type": "scatter",
         "x": [
          0,
          0.9055680307019764,
          0.9055680307019764,
          0
         ],
         "xaxis": "x",
         "y": [
          -35,
          -35,
          -45,
          -45
         ],
         "yaxis": "y"
        },
        {
         "hoverinfo": "text",
         "marker": {
          "color": "rgb(255,65,54)"
         },
         "mode": "lines",
         "type": "scatter",
         "x": [
          0.9055680307019764,
          0.9498579891117196,
          0.9498579891117196,
          0
         ],
         "xaxis": "x",
         "y": [
          -40,
          -40,
          -55,
          -55
         ],
         "yaxis": "y"
        },
        {
         "hoverinfo": "text",
         "marker": {
          "color": "rgb(35,205,205)"
         },
         "mode": "lines",
         "type": "scatter",
         "x": [
          0,
          0.8914702184854728,
          0.8914702184854728,
          0
         ],
         "xaxis": "x",
         "y": [
          -75,
          -75,
          -85,
          -85
         ],
         "yaxis": "y"
        },
        {
         "hoverinfo": "text",
         "marker": {
          "color": "rgb(35,205,205)"
         },
         "mode": "lines",
         "type": "scatter",
         "x": [
          0,
          0.969663519501249,
          0.969663519501249,
          0.8914702184854728
         ],
         "xaxis": "x",
         "y": [
          -65,
          -65,
          -80,
          -80
         ],
         "yaxis": "y"
        },
        {
         "hoverinfo": "text",
         "marker": {
          "color": "rgb(133,20,75)"
         },
         "mode": "lines",
         "type": "scatter",
         "x": [
          0,
          0.9550057483238168,
          0.9550057483238168,
          0
         ],
         "xaxis": "x",
         "y": [
          -105,
          -105,
          -115,
          -115
         ],
         "yaxis": "y"
        },
        {
         "hoverinfo": "text",
         "marker": {
          "color": "rgb(133,20,75)"
         },
         "mode": "lines",
         "type": "scatter",
         "x": [
          0,
          0.9997809229144009,
          0.9997809229144009,
          0.9550057483238168
         ],
         "xaxis": "x",
         "y": [
          -95,
          -95,
          -110,
          -110
         ],
         "yaxis": "y"
        },
        {
         "hoverinfo": "text",
         "marker": {
          "color": "rgb(255,220,0)"
         },
         "mode": "lines",
         "type": "scatter",
         "x": [
          0,
          0.9866348739559734,
          0.9866348739559734,
          0
         ],
         "xaxis": "x",
         "y": [
          -125,
          -125,
          -135,
          -135
         ],
         "yaxis": "y"
        },
        {
         "hoverinfo": "text",
         "marker": {
          "color": "rgb(0,116,217)"
         },
         "mode": "lines",
         "type": "scatter",
         "x": [
          0.9997809229144009,
          1.005529336994243,
          1.005529336994243,
          0.9866348739559734
         ],
         "xaxis": "x",
         "y": [
          -102.5,
          -102.5,
          -130,
          -130
         ],
         "yaxis": "y"
        },
        {
         "hoverinfo": "text",
         "marker": {
          "color": "rgb(40,35,35)"
         },
         "mode": "lines",
         "type": "scatter",
         "x": [
          0,
          0.9708013017612872,
          0.9708013017612872,
          0
         ],
         "xaxis": "x",
         "y": [
          -155,
          -155,
          -165,
          -165
         ],
         "yaxis": "y"
        },
        {
         "hoverinfo": "text",
         "marker": {
          "color": "rgb(40,35,35)"
         },
         "mode": "lines",
         "type": "scatter",
         "x": [
          0,
          0.9916028015971781,
          0.9916028015971781,
          0.9708013017612872
         ],
         "xaxis": "x",
         "y": [
          -145,
          -145,
          -160,
          -160
         ],
         "yaxis": "y"
        },
        {
         "hoverinfo": "text",
         "marker": {
          "color": "rgb(61,153,112)"
         },
         "mode": "lines",
         "type": "scatter",
         "x": [
          0,
          0.9791069130500416,
          0.9791069130500416,
          0
         ],
         "xaxis": "x",
         "y": [
          -175,
          -175,
          -185,
          -185
         ],
         "yaxis": "y"
        },
        {
         "hoverinfo": "text",
         "marker": {
          "color": "rgb(61,153,112)"
         },
         "mode": "lines",
         "type": "scatter",
         "x": [
          0.9791069130500416,
          0.997157140649921,
          0.997157140649921,
          0
         ],
         "xaxis": "x",
         "y": [
          -180,
          -180,
          -195,
          -195
         ],
         "yaxis": "y"
        },
        {
         "hoverinfo": "text",
         "marker": {
          "color": "rgb(255,65,54)"
         },
         "mode": "lines",
         "type": "scatter",
         "x": [
          0,
          0.9902308906999888,
          0.9902308906999888,
          0
         ],
         "xaxis": "x",
         "y": [
          -205,
          -205,
          -215,
          -215
         ],
         "yaxis": "y"
        },
        {
         "hoverinfo": "text",
         "marker": {
          "color": "rgb(35,205,205)"
         },
         "mode": "lines",
         "type": "scatter",
         "x": [
          0,
          0.9999999999999999,
          0.9999999999999999,
          0
         ],
         "xaxis": "x",
         "y": [
          -245,
          -245,
          -255,
          -255
         ],
         "yaxis": "y"
        },
        {
         "hoverinfo": "text",
         "marker": {
          "color": "rgb(35,205,205)"
         },
         "mode": "lines",
         "type": "scatter",
         "x": [
          0,
          0.9999999999999999,
          0.9999999999999999,
          0.9999999999999999
         ],
         "xaxis": "x",
         "y": [
          -235,
          -235,
          -250,
          -250
         ],
         "yaxis": "y"
        },
        {
         "hoverinfo": "text",
         "marker": {
          "color": "rgb(35,205,205)"
         },
         "mode": "lines",
         "type": "scatter",
         "x": [
          0,
          0.9999999999999998,
          0.9999999999999998,
          0
         ],
         "xaxis": "x",
         "y": [
          -265,
          -265,
          -275,
          -275
         ],
         "yaxis": "y"
        },
        {
         "hoverinfo": "text",
         "marker": {
          "color": "rgb(35,205,205)"
         },
         "mode": "lines",
         "type": "scatter",
         "x": [
          0.9999999999999998,
          0.9999999999999998,
          0.9999999999999998,
          0
         ],
         "xaxis": "x",
         "y": [
          -270,
          -270,
          -285,
          -285
         ],
         "yaxis": "y"
        },
        {
         "hoverinfo": "text",
         "marker": {
          "color": "rgb(35,205,205)"
         },
         "mode": "lines",
         "type": "scatter",
         "x": [
          0.9999999999999999,
          0.9999999999999999,
          0.9999999999999999,
          0.9999999999999998
         ],
         "xaxis": "x",
         "y": [
          -242.5,
          -242.5,
          -277.5,
          -277.5
         ],
         "yaxis": "y"
        },
        {
         "hoverinfo": "text",
         "marker": {
          "color": "rgb(35,205,205)"
         },
         "mode": "lines",
         "type": "scatter",
         "x": [
          0,
          0.9999999999999999,
          0.9999999999999999,
          0.9999999999999999
         ],
         "xaxis": "x",
         "y": [
          -225,
          -225,
          -260,
          -260
         ],
         "yaxis": "y"
        },
        {
         "hoverinfo": "text",
         "marker": {
          "color": "rgb(0,116,217)"
         },
         "mode": "lines",
         "type": "scatter",
         "x": [
          0,
          1,
          1,
          0
         ],
         "xaxis": "x",
         "y": [
          -305,
          -305,
          -315,
          -315
         ],
         "yaxis": "y"
        },
        {
         "hoverinfo": "text",
         "marker": {
          "color": "rgb(0,116,217)"
         },
         "mode": "lines",
         "type": "scatter",
         "x": [
          0,
          1,
          1,
          1
         ],
         "xaxis": "x",
         "y": [
          -295,
          -295,
          -310,
          -310
         ],
         "yaxis": "y"
        },
        {
         "hoverinfo": "text",
         "marker": {
          "color": "rgb(0,116,217)"
         },
         "mode": "lines",
         "type": "scatter",
         "x": [
          1,
          1,
          1,
          0
         ],
         "xaxis": "x",
         "y": [
          -302.5,
          -302.5,
          -325,
          -325
         ],
         "yaxis": "y"
        },
        {
         "hoverinfo": "text",
         "marker": {
          "color": "rgb(0,116,217)"
         },
         "mode": "lines",
         "type": "scatter",
         "x": [
          0.9999999999999999,
          1,
          1,
          1
         ],
         "xaxis": "x",
         "y": [
          -242.5,
          -242.5,
          -313.75,
          -313.75
         ],
         "yaxis": "y"
        },
        {
         "hoverinfo": "text",
         "marker": {
          "color": "rgb(61,153,112)"
         },
         "mode": "lines",
         "type": "scatter",
         "x": [
          0,
          0.997691433424298,
          0.997691433424298,
          0
         ],
         "xaxis": "x",
         "y": [
          -335,
          -335,
          -345,
          -345
         ],
         "yaxis": "y"
        },
        {
         "hoverinfo": "text",
         "marker": {
          "color": "rgb(61,153,112)"
         },
         "mode": "lines",
         "type": "scatter",
         "x": [
          0.997691433424298,
          0.9995288505917926,
          0.9995288505917926,
          0
         ],
         "xaxis": "x",
         "y": [
          -340,
          -340,
          -355,
          -355
         ],
         "yaxis": "y"
        },
        {
         "hoverinfo": "text",
         "marker": {
          "color": "rgb(0,116,217)"
         },
         "mode": "lines",
         "type": "scatter",
         "x": [
          1,
          1.0021795065032235,
          1.0021795065032235,
          0.9995288505917926
         ],
         "xaxis": "x",
         "y": [
          -278.125,
          -278.125,
          -347.5,
          -347.5
         ],
         "yaxis": "y"
        },
        {
         "hoverinfo": "text",
         "marker": {
          "color": "rgb(0,116,217)"
         },
         "mode": "lines",
         "type": "scatter",
         "x": [
          0.9902308906999888,
          1.0085440991210997,
          1.0085440991210997,
          1.0021795065032235
         ],
         "xaxis": "x",
         "y": [
          -210,
          -210,
          -312.8125,
          -312.8125
         ],
         "yaxis": "y"
        },
        {
         "hoverinfo": "text",
         "marker": {
          "color": "rgb(255,65,54)"
         },
         "mode": "lines",
         "type": "scatter",
         "x": [
          0,
          0.9880682958449806,
          0.9880682958449806,
          0
         ],
         "xaxis": "x",
         "y": [
          -365,
          -365,
          -375,
          -375
         ],
         "yaxis": "y"
        },
        {
         "hoverinfo": "text",
         "marker": {
          "color": "rgb(0,116,217)"
         },
         "mode": "lines",
         "type": "scatter",
         "x": [
          1.0085440991210997,
          1.01067854228131,
          1.01067854228131,
          0.9880682958449806
         ],
         "xaxis": "x",
         "y": [
          -261.40625,
          -261.40625,
          -370,
          -370
         ],
         "yaxis": "y"
        },
        {
         "hoverinfo": "text",
         "marker": {
          "color": "rgb(0,116,217)"
         },
         "mode": "lines",
         "type": "scatter",
         "x": [
          0.997157140649921,
          1.0202497817740404,
          1.0202497817740404,
          1.01067854228131
         ],
         "xaxis": "x",
         "y": [
          -187.5,
          -187.5,
          -315.703125,
          -315.703125
         ],
         "yaxis": "y"
        },
        {
         "hoverinfo": "text",
         "marker": {
          "color": "rgb(35,205,205)"
         },
         "mode": "lines",
         "type": "scatter",
         "x": [
          0,
          0.9690754603838014,
          0.9690754603838014,
          0
         ],
         "xaxis": "x",
         "y": [
          -385,
          -385,
          -395,
          -395
         ],
         "yaxis": "y"
        },
        {
         "hoverinfo": "text",
         "marker": {
          "color": "rgb(0,116,217)"
         },
         "mode": "lines",
         "type": "scatter",
         "x": [
          1.0202497817740404,
          1.0279237493595366,
          1.0279237493595366,
          0.9690754603838014
         ],
         "xaxis": "x",
         "y": [
          -251.6015625,
          -251.6015625,
          -390,
          -390
         ],
         "yaxis": "y"
        },
        {
         "hoverinfo": "text",
         "marker": {
          "color": "rgb(0,116,217)"
         },
         "mode": "lines",
         "type": "scatter",
         "x": [
          0.9916028015971781,
          1.0312662629398928,
          1.0312662629398928,
          1.0279237493595366
         ],
         "xaxis": "x",
         "y": [
          -152.5,
          -152.5,
          -320.80078125,
          -320.80078125
         ],
         "yaxis": "y"
        },
        {
         "hoverinfo": "text",
         "marker": {
          "color": "rgb(133,20,75)"
         },
         "mode": "lines",
         "type": "scatter",
         "x": [
          0,
          0.9546908424751213,
          0.9546908424751213,
          0
         ],
         "xaxis": "x",
         "y": [
          -405,
          -405,
          -415,
          -415
         ],
         "yaxis": "y"
        },
        {
         "hoverinfo": "text",
         "marker": {
          "color": "rgb(0,116,217)"
         },
         "mode": "lines",
         "type": "scatter",
         "x": [
          1.0312662629398928,
          1.041229135189792,
          1.041229135189792,
          0.9546908424751213
         ],
         "xaxis": "x",
         "y": [
          -236.650390625,
          -236.650390625,
          -410,
          -410
         ],
         "yaxis": "y"
        },
        {
         "hoverinfo": "text",
         "marker": {
          "color": "rgb(0,116,217)"
         },
         "mode": "lines",
         "type": "scatter",
         "x": [
          1.005529336994243,
          1.0429547016011373,
          1.0429547016011373,
          1.041229135189792
         ],
         "xaxis": "x",
         "y": [
          -116.25,
          -116.25,
          -323.3251953125,
          -323.3251953125
         ],
         "yaxis": "y"
        },
        {
         "hoverinfo": "text",
         "marker": {
          "color": "rgb(255,220,0)"
         },
         "mode": "lines",
         "type": "scatter",
         "x": [
          0,
          0.9537727895399801,
          0.9537727895399801,
          0
         ],
         "xaxis": "x",
         "y": [
          -425,
          -425,
          -435,
          -435
         ],
         "yaxis": "y"
        },
        {
         "hoverinfo": "text",
         "marker": {
          "color": "rgb(255,220,0)"
         },
         "mode": "lines",
         "type": "scatter",
         "x": [
          0.9537727895399801,
          0.9807409428878249,
          0.9807409428878249,
          0
         ],
         "xaxis": "x",
         "y": [
          -430,
          -430,
          -445,
          -445
         ],
         "yaxis": "y"
        },
        {
         "hoverinfo": "text",
         "marker": {
          "color": "rgb(40,35,35)"
         },
         "mode": "lines",
         "type": "scatter",
         "x": [
          0,
          0.9758806034628871,
          0.9758806034628871,
          0
         ],
         "xaxis": "x",
         "y": [
          -455,
          -455,
          -465,
          -465
         ],
         "yaxis": "y"
        },
        {
         "hoverinfo": "text",
         "marker": {
          "color": "rgb(0,116,217)"
         },
         "mode": "lines",
         "type": "scatter",
         "x": [
          0.9807409428878249,
          1.0205166346047678,
          1.0205166346047678,
          0.9758806034628871
         ],
         "xaxis": "x",
         "y": [
          -437.5,
          -437.5,
          -460,
          -460
         ],
         "yaxis": "y"
        },
        {
         "hoverinfo": "text",
         "marker": {
          "color": "rgb(0,116,217)"
         },
         "mode": "lines",
         "type": "scatter",
         "x": [
          1.0429547016011373,
          1.0542026642623512,
          1.0542026642623512,
          1.0205166346047678
         ],
         "xaxis": "x",
         "y": [
          -219.78759765625,
          -219.78759765625,
          -448.75,
          -448.75
         ],
         "yaxis": "y"
        },
        {
         "hoverinfo": "text",
         "marker": {
          "color": "rgb(61,153,112)"
         },
         "mode": "lines",
         "type": "scatter",
         "x": [
          0,
          0.9267749120567808,
          0.9267749120567808,
          0
         ],
         "xaxis": "x",
         "y": [
          -475,
          -475,
          -485,
          -485
         ],
         "yaxis": "y"
        },
        {
         "hoverinfo": "text",
         "marker": {
          "color": "rgb(255,65,54)"
         },
         "mode": "lines",
         "type": "scatter",
         "x": [
          0,
          0.9734448878035947,
          0.9734448878035947,
          0
         ],
         "xaxis": "x",
         "y": [
          -495,
          -495,
          -505,
          -505
         ],
         "yaxis": "y"
        },
        {
         "hoverinfo": "text",
         "marker": {
          "color": "rgb(255,65,54)"
         },
         "mode": "lines",
         "type": "scatter",
         "x": [
          0.9734448878035947,
          0.9836149783617146,
          0.9836149783617146,
          0
         ],
         "xaxis": "x",
         "y": [
          -500,
          -500,
          -515,
          -515
         ],
         "yaxis": "y"
        },
        {
         "hoverinfo": "text",
         "marker": {
          "color": "rgb(0,116,217)"
         },
         "mode": "lines",
         "type": "scatter",
         "x": [
          0.9267749120567808,
          1.0351799135554838,
          1.0351799135554838,
          0.9836149783617146
         ],
         "xaxis": "x",
         "y": [
          -480,
          -480,
          -507.5,
          -507.5
         ],
         "yaxis": "y"
        },
        {
         "hoverinfo": "text",
         "marker": {
          "color": "rgb(0,116,217)"
         },
         "mode": "lines",
         "type": "scatter",
         "x": [
          1.0542026642623512,
          1.0612274076468193,
          1.0612274076468193,
          1.0351799135554838
         ],
         "xaxis": "x",
         "y": [
          -334.268798828125,
          -334.268798828125,
          -493.75,
          -493.75
         ],
         "yaxis": "y"
        },
        {
         "hoverinfo": "text",
         "marker": {
          "color": "rgb(0,116,217)"
         },
         "mode": "lines",
         "type": "scatter",
         "x": [
          0.969663519501249,
          1.1128333839860025,
          1.1128333839860025,
          1.0612274076468193
         ],
         "xaxis": "x",
         "y": [
          -72.5,
          -72.5,
          -414.0093994140625,
          -414.0093994140625
         ],
         "yaxis": "y"
        },
        {
         "hoverinfo": "text",
         "marker": {
          "color": "rgb(35,205,205)"
         },
         "mode": "lines",
         "type": "scatter",
         "x": [
          0,
          0.9195623810208551,
          0.9195623810208551,
          0
         ],
         "xaxis": "x",
         "y": [
          -525,
          -525,
          -535,
          -535
         ],
         "yaxis": "y"
        },
        {
         "hoverinfo": "text",
         "marker": {
          "color": "rgb(35,205,205)"
         },
         "mode": "lines",
         "type": "scatter",
         "x": [
          0.9195623810208551,
          0.9609927950351449,
          0.9609927950351449,
          0
         ],
         "xaxis": "x",
         "y": [
          -530,
          -530,
          -545,
          -545
         ],
         "yaxis": "y"
        },
        {
         "hoverinfo": "text",
         "marker": {
          "color": "rgb(35,205,205)"
         },
         "mode": "lines",
         "type": "scatter",
         "x": [
          0.9609927950351449,
          0.9807070783358618,
          0.9807070783358618,
          0
         ],
         "xaxis": "x",
         "y": [
          -537.5,
          -537.5,
          -555,
          -555
         ],
         "yaxis": "y"
        },
        {
         "hoverinfo": "text",
         "marker": {
          "color": "rgb(0,116,217)"
         },
         "mode": "lines",
         "type": "scatter",
         "x": [
          1.1128333839860025,
          1.1155416841081616,
          1.1155416841081616,
          0.9807070783358618
         ],
         "xaxis": "x",
         "y": [
          -243.25469970703125,
          -243.25469970703125,
          -546.25,
          -546.25
         ],
         "yaxis": "y"
        },
        {
         "hoverinfo": "text",
         "marker": {
          "color": "rgb(0,116,217)"
         },
         "mode": "lines",
         "type": "scatter",
         "x": [
          0.9498579891117196,
          1.1207953842371565,
          1.1207953842371565,
          1.1155416841081616
         ],
         "xaxis": "x",
         "y": [
          -47.5,
          -47.5,
          -394.7523498535156,
          -394.7523498535156
         ],
         "yaxis": "y"
        },
        {
         "hoverinfo": "text",
         "marker": {
          "color": "rgb(61,153,112)"
         },
         "mode": "lines",
         "type": "scatter",
         "x": [
          0,
          0.8428190371532319,
          0.8428190371532319,
          0
         ],
         "xaxis": "x",
         "y": [
          -565,
          -565,
          -575,
          -575
         ],
         "yaxis": "y"
        },
        {
         "hoverinfo": "text",
         "marker": {
          "color": "rgb(0,116,217)"
         },
         "mode": "lines",
         "type": "scatter",
         "x": [
          1.1207953842371565,
          1.1240566925705386,
          1.1240566925705386,
          0.8428190371532319
         ],
         "xaxis": "x",
         "y": [
          -221.1261749267578,
          -221.1261749267578,
          -570,
          -570
         ],
         "yaxis": "y"
        },
        {
         "hoverinfo": "text",
         "marker": {
          "color": "rgb(0,116,217)"
         },
         "mode": "lines",
         "type": "scatter",
         "x": [
          0.9149565381964272,
          1.1777105399212697,
          1.1777105399212697,
          1.1240566925705386
         ],
         "xaxis": "x",
         "y": [
          -12.5,
          -12.5,
          -395.5630874633789,
          -395.5630874633789
         ],
         "yaxis": "y"
        }
       ],
       "layout": {
        "autosize": false,
        "height": 1070,
        "hoverlabel": {
         "bgcolor": "white",
         "font": {
          "family": "Rockwell",
          "size": 16
         }
        },
        "hovermode": "closest",
        "plot_bgcolor": "#ECEFF1",
        "showlegend": false,
        "template": {
         "data": {
          "bar": [
           {
            "error_x": {
             "color": "#2a3f5f"
            },
            "error_y": {
             "color": "#2a3f5f"
            },
            "marker": {
             "line": {
              "color": "white",
              "width": 0.5
             },
             "pattern": {
              "fillmode": "overlay",
              "size": 10,
              "solidity": 0.2
             }
            },
            "type": "bar"
           }
          ],
          "barpolar": [
           {
            "marker": {
             "line": {
              "color": "white",
              "width": 0.5
             },
             "pattern": {
              "fillmode": "overlay",
              "size": 10,
              "solidity": 0.2
             }
            },
            "type": "barpolar"
           }
          ],
          "carpet": [
           {
            "aaxis": {
             "endlinecolor": "#2a3f5f",
             "gridcolor": "#C8D4E3",
             "linecolor": "#C8D4E3",
             "minorgridcolor": "#C8D4E3",
             "startlinecolor": "#2a3f5f"
            },
            "baxis": {
             "endlinecolor": "#2a3f5f",
             "gridcolor": "#C8D4E3",
             "linecolor": "#C8D4E3",
             "minorgridcolor": "#C8D4E3",
             "startlinecolor": "#2a3f5f"
            },
            "type": "carpet"
           }
          ],
          "choropleth": [
           {
            "colorbar": {
             "outlinewidth": 0,
             "ticks": ""
            },
            "type": "choropleth"
           }
          ],
          "contour": [
           {
            "colorbar": {
             "outlinewidth": 0,
             "ticks": ""
            },
            "colorscale": [
             [
              0,
              "#0d0887"
             ],
             [
              0.1111111111111111,
              "#46039f"
             ],
             [
              0.2222222222222222,
              "#7201a8"
             ],
             [
              0.3333333333333333,
              "#9c179e"
             ],
             [
              0.4444444444444444,
              "#bd3786"
             ],
             [
              0.5555555555555556,
              "#d8576b"
             ],
             [
              0.6666666666666666,
              "#ed7953"
             ],
             [
              0.7777777777777778,
              "#fb9f3a"
             ],
             [
              0.8888888888888888,
              "#fdca26"
             ],
             [
              1,
              "#f0f921"
             ]
            ],
            "type": "contour"
           }
          ],
          "contourcarpet": [
           {
            "colorbar": {
             "outlinewidth": 0,
             "ticks": ""
            },
            "type": "contourcarpet"
           }
          ],
          "heatmap": [
           {
            "colorbar": {
             "outlinewidth": 0,
             "ticks": ""
            },
            "colorscale": [
             [
              0,
              "#0d0887"
             ],
             [
              0.1111111111111111,
              "#46039f"
             ],
             [
              0.2222222222222222,
              "#7201a8"
             ],
             [
              0.3333333333333333,
              "#9c179e"
             ],
             [
              0.4444444444444444,
              "#bd3786"
             ],
             [
              0.5555555555555556,
              "#d8576b"
             ],
             [
              0.6666666666666666,
              "#ed7953"
             ],
             [
              0.7777777777777778,
              "#fb9f3a"
             ],
             [
              0.8888888888888888,
              "#fdca26"
             ],
             [
              1,
              "#f0f921"
             ]
            ],
            "type": "heatmap"
           }
          ],
          "heatmapgl": [
           {
            "colorbar": {
             "outlinewidth": 0,
             "ticks": ""
            },
            "colorscale": [
             [
              0,
              "#0d0887"
             ],
             [
              0.1111111111111111,
              "#46039f"
             ],
             [
              0.2222222222222222,
              "#7201a8"
             ],
             [
              0.3333333333333333,
              "#9c179e"
             ],
             [
              0.4444444444444444,
              "#bd3786"
             ],
             [
              0.5555555555555556,
              "#d8576b"
             ],
             [
              0.6666666666666666,
              "#ed7953"
             ],
             [
              0.7777777777777778,
              "#fb9f3a"
             ],
             [
              0.8888888888888888,
              "#fdca26"
             ],
             [
              1,
              "#f0f921"
             ]
            ],
            "type": "heatmapgl"
           }
          ],
          "histogram": [
           {
            "marker": {
             "pattern": {
              "fillmode": "overlay",
              "size": 10,
              "solidity": 0.2
             }
            },
            "type": "histogram"
           }
          ],
          "histogram2d": [
           {
            "colorbar": {
             "outlinewidth": 0,
             "ticks": ""
            },
            "colorscale": [
             [
              0,
              "#0d0887"
             ],
             [
              0.1111111111111111,
              "#46039f"
             ],
             [
              0.2222222222222222,
              "#7201a8"
             ],
             [
              0.3333333333333333,
              "#9c179e"
             ],
             [
              0.4444444444444444,
              "#bd3786"
             ],
             [
              0.5555555555555556,
              "#d8576b"
             ],
             [
              0.6666666666666666,
              "#ed7953"
             ],
             [
              0.7777777777777778,
              "#fb9f3a"
             ],
             [
              0.8888888888888888,
              "#fdca26"
             ],
             [
              1,
              "#f0f921"
             ]
            ],
            "type": "histogram2d"
           }
          ],
          "histogram2dcontour": [
           {
            "colorbar": {
             "outlinewidth": 0,
             "ticks": ""
            },
            "colorscale": [
             [
              0,
              "#0d0887"
             ],
             [
              0.1111111111111111,
              "#46039f"
             ],
             [
              0.2222222222222222,
              "#7201a8"
             ],
             [
              0.3333333333333333,
              "#9c179e"
             ],
             [
              0.4444444444444444,
              "#bd3786"
             ],
             [
              0.5555555555555556,
              "#d8576b"
             ],
             [
              0.6666666666666666,
              "#ed7953"
             ],
             [
              0.7777777777777778,
              "#fb9f3a"
             ],
             [
              0.8888888888888888,
              "#fdca26"
             ],
             [
              1,
              "#f0f921"
             ]
            ],
            "type": "histogram2dcontour"
           }
          ],
          "mesh3d": [
           {
            "colorbar": {
             "outlinewidth": 0,
             "ticks": ""
            },
            "type": "mesh3d"
           }
          ],
          "parcoords": [
           {
            "line": {
             "colorbar": {
              "outlinewidth": 0,
              "ticks": ""
             }
            },
            "type": "parcoords"
           }
          ],
          "pie": [
           {
            "automargin": true,
            "type": "pie"
           }
          ],
          "scatter": [
           {
            "fillpattern": {
             "fillmode": "overlay",
             "size": 10,
             "solidity": 0.2
            },
            "type": "scatter"
           }
          ],
          "scatter3d": [
           {
            "line": {
             "colorbar": {
              "outlinewidth": 0,
              "ticks": ""
             }
            },
            "marker": {
             "colorbar": {
              "outlinewidth": 0,
              "ticks": ""
             }
            },
            "type": "scatter3d"
           }
          ],
          "scattercarpet": [
           {
            "marker": {
             "colorbar": {
              "outlinewidth": 0,
              "ticks": ""
             }
            },
            "type": "scattercarpet"
           }
          ],
          "scattergeo": [
           {
            "marker": {
             "colorbar": {
              "outlinewidth": 0,
              "ticks": ""
             }
            },
            "type": "scattergeo"
           }
          ],
          "scattergl": [
           {
            "marker": {
             "colorbar": {
              "outlinewidth": 0,
              "ticks": ""
             }
            },
            "type": "scattergl"
           }
          ],
          "scattermapbox": [
           {
            "marker": {
             "colorbar": {
              "outlinewidth": 0,
              "ticks": ""
             }
            },
            "type": "scattermapbox"
           }
          ],
          "scatterpolar": [
           {
            "marker": {
             "colorbar": {
              "outlinewidth": 0,
              "ticks": ""
             }
            },
            "type": "scatterpolar"
           }
          ],
          "scatterpolargl": [
           {
            "marker": {
             "colorbar": {
              "outlinewidth": 0,
              "ticks": ""
             }
            },
            "type": "scatterpolargl"
           }
          ],
          "scatterternary": [
           {
            "marker": {
             "colorbar": {
              "outlinewidth": 0,
              "ticks": ""
             }
            },
            "type": "scatterternary"
           }
          ],
          "surface": [
           {
            "colorbar": {
             "outlinewidth": 0,
             "ticks": ""
            },
            "colorscale": [
             [
              0,
              "#0d0887"
             ],
             [
              0.1111111111111111,
              "#46039f"
             ],
             [
              0.2222222222222222,
              "#7201a8"
             ],
             [
              0.3333333333333333,
              "#9c179e"
             ],
             [
              0.4444444444444444,
              "#bd3786"
             ],
             [
              0.5555555555555556,
              "#d8576b"
             ],
             [
              0.6666666666666666,
              "#ed7953"
             ],
             [
              0.7777777777777778,
              "#fb9f3a"
             ],
             [
              0.8888888888888888,
              "#fdca26"
             ],
             [
              1,
              "#f0f921"
             ]
            ],
            "type": "surface"
           }
          ],
          "table": [
           {
            "cells": {
             "fill": {
              "color": "#EBF0F8"
             },
             "line": {
              "color": "white"
             }
            },
            "header": {
             "fill": {
              "color": "#C8D4E3"
             },
             "line": {
              "color": "white"
             }
            },
            "type": "table"
           }
          ]
         },
         "layout": {
          "annotationdefaults": {
           "arrowcolor": "#2a3f5f",
           "arrowhead": 0,
           "arrowwidth": 1
          },
          "autotypenumbers": "strict",
          "coloraxis": {
           "colorbar": {
            "outlinewidth": 0,
            "ticks": ""
           }
          },
          "colorscale": {
           "diverging": [
            [
             0,
             "#8e0152"
            ],
            [
             0.1,
             "#c51b7d"
            ],
            [
             0.2,
             "#de77ae"
            ],
            [
             0.3,
             "#f1b6da"
            ],
            [
             0.4,
             "#fde0ef"
            ],
            [
             0.5,
             "#f7f7f7"
            ],
            [
             0.6,
             "#e6f5d0"
            ],
            [
             0.7,
             "#b8e186"
            ],
            [
             0.8,
             "#7fbc41"
            ],
            [
             0.9,
             "#4d9221"
            ],
            [
             1,
             "#276419"
            ]
           ],
           "sequential": [
            [
             0,
             "#0d0887"
            ],
            [
             0.1111111111111111,
             "#46039f"
            ],
            [
             0.2222222222222222,
             "#7201a8"
            ],
            [
             0.3333333333333333,
             "#9c179e"
            ],
            [
             0.4444444444444444,
             "#bd3786"
            ],
            [
             0.5555555555555556,
             "#d8576b"
            ],
            [
             0.6666666666666666,
             "#ed7953"
            ],
            [
             0.7777777777777778,
             "#fb9f3a"
            ],
            [
             0.8888888888888888,
             "#fdca26"
            ],
            [
             1,
             "#f0f921"
            ]
           ],
           "sequentialminus": [
            [
             0,
             "#0d0887"
            ],
            [
             0.1111111111111111,
             "#46039f"
            ],
            [
             0.2222222222222222,
             "#7201a8"
            ],
            [
             0.3333333333333333,
             "#9c179e"
            ],
            [
             0.4444444444444444,
             "#bd3786"
            ],
            [
             0.5555555555555556,
             "#d8576b"
            ],
            [
             0.6666666666666666,
             "#ed7953"
            ],
            [
             0.7777777777777778,
             "#fb9f3a"
            ],
            [
             0.8888888888888888,
             "#fdca26"
            ],
            [
             1,
             "#f0f921"
            ]
           ]
          },
          "colorway": [
           "#636efa",
           "#EF553B",
           "#00cc96",
           "#ab63fa",
           "#FFA15A",
           "#19d3f3",
           "#FF6692",
           "#B6E880",
           "#FF97FF",
           "#FECB52"
          ],
          "font": {
           "color": "#2a3f5f"
          },
          "geo": {
           "bgcolor": "white",
           "lakecolor": "white",
           "landcolor": "white",
           "showlakes": true,
           "showland": true,
           "subunitcolor": "#C8D4E3"
          },
          "hoverlabel": {
           "align": "left"
          },
          "hovermode": "closest",
          "mapbox": {
           "style": "light"
          },
          "paper_bgcolor": "white",
          "plot_bgcolor": "white",
          "polar": {
           "angularaxis": {
            "gridcolor": "#EBF0F8",
            "linecolor": "#EBF0F8",
            "ticks": ""
           },
           "bgcolor": "white",
           "radialaxis": {
            "gridcolor": "#EBF0F8",
            "linecolor": "#EBF0F8",
            "ticks": ""
           }
          },
          "scene": {
           "xaxis": {
            "backgroundcolor": "white",
            "gridcolor": "#DFE8F3",
            "gridwidth": 2,
            "linecolor": "#EBF0F8",
            "showbackground": true,
            "ticks": "",
            "zerolinecolor": "#EBF0F8"
           },
           "yaxis": {
            "backgroundcolor": "white",
            "gridcolor": "#DFE8F3",
            "gridwidth": 2,
            "linecolor": "#EBF0F8",
            "showbackground": true,
            "ticks": "",
            "zerolinecolor": "#EBF0F8"
           },
           "zaxis": {
            "backgroundcolor": "white",
            "gridcolor": "#DFE8F3",
            "gridwidth": 2,
            "linecolor": "#EBF0F8",
            "showbackground": true,
            "ticks": "",
            "zerolinecolor": "#EBF0F8"
           }
          },
          "shapedefaults": {
           "line": {
            "color": "#2a3f5f"
           }
          },
          "ternary": {
           "aaxis": {
            "gridcolor": "#DFE8F3",
            "linecolor": "#A2B1C6",
            "ticks": ""
           },
           "baxis": {
            "gridcolor": "#DFE8F3",
            "linecolor": "#A2B1C6",
            "ticks": ""
           },
           "bgcolor": "white",
           "caxis": {
            "gridcolor": "#DFE8F3",
            "linecolor": "#A2B1C6",
            "ticks": ""
           }
          },
          "title": {
           "x": 0.05
          },
          "xaxis": {
           "automargin": true,
           "gridcolor": "#EBF0F8",
           "linecolor": "#EBF0F8",
           "ticks": "",
           "title": {
            "standoff": 15
           },
           "zerolinecolor": "#EBF0F8",
           "zerolinewidth": 2
          },
          "yaxis": {
           "automargin": true,
           "gridcolor": "#EBF0F8",
           "linecolor": "#EBF0F8",
           "ticks": "",
           "title": {
            "standoff": 15
           },
           "zerolinecolor": "#EBF0F8",
           "zerolinewidth": 2
          }
         }
        },
        "title": {
         "font": {
          "color": "Black",
          "size": 22
         },
         "text": "<b>Hierarchical Clustering</b>",
         "x": 0.5,
         "xanchor": "center",
         "yanchor": "top"
        },
        "width": 1000,
        "xaxis": {
         "mirror": "allticks",
         "rangemode": "tozero",
         "showgrid": false,
         "showline": true,
         "showticklabels": true,
         "ticks": "outside",
         "type": "linear",
         "zeroline": false
        },
        "yaxis": {
         "mirror": "allticks",
         "range": [
          -580,
          0
         ],
         "rangemode": "tozero",
         "showgrid": false,
         "showline": true,
         "showticklabels": true,
         "tickmode": "array",
         "ticks": "outside",
         "ticktext": [
          "30_人工知能_ai_人工知能について",
          "27_ai_人工知能_負の相関",
          "22_弱いai_強いai_特化型ai",
          "25_エッジ抽出_エッジ_文字",
          "12_相関_統計的検定_差がない",
          "49_相関について_検定と画像処理について学んだ_検定...",
          "51_これら二つは相同性検索クラスタリング系統分離判定...",
          "10_距離_類似度_似ている",
          "53_様々な距離_距離と類似度_ベクトル距離類似度",
          "44_乗算器_位相応答_振幅応答",
          "11_離散時間フーリエ変換と離散フーリエ変換_離散時間...",
          "6_z変換について_z変換の性質逆z変換_離散フーリエ変換",
          "55_の周期関数であると解釈することでフーリエ変換する...",
          "18_非周期信号のフーリエ変換_周期信号のフーリエ級数...",
          "42_フーリエ級数表現_あらゆる信号は正弦波を用いて表...",
          "24_フーリエ級数からフーリエ変換への拡張_フーリエ級...",
          "37_フーリエ級数について学んだ_これからの授業で何を...",
          "54_ヒープソートとマージソートについて_マージソート...",
          "34_マージソートと二分探索法について_二分探索法_2...",
          "33_二分探索法とデータについて_二分探索法について_...",
          "14_知識マップの作成_知識マップの作製_知識マップ作成",
          "39_興味が惹かれやすい内容だった_brーmapを用い...",
          "57_練習問題や課題の解説ヒープソートの復習マージソー...",
          "46_研究倫理情報倫理について_研究においてのマナー的...",
          "43_2fm_連続信号の標本化の精度に関わる標本化定理...",
          "40_離散フーリエ変換の性質について学んだ_離散フーリ...",
          "48_授業のガイダンス_今後の授業のためのガイダンス_...",
          "50_逆z変換_逆z変換について_逆z変換の求め方に関...",
          "56_警戒が大事_ict社会で生き抜くために_ict環...",
          "23_著作権について_財産権_著作権",
          "21_期末テスト_確認テスト_テスト",
          "3_符号語同士がs_2k_ハミング距離",
          "31_改竄_捏造_そして情報倫理について九州大学の例を...",
          "15_コモンズ_全数調査_標本調査",
          "1_バイ_完全性_暗号について",
          "17_高速フーリエ変換_高速フーリエ変換について_高速...",
          "35_ガイダンス_オリエンテーション_ソートの大まかな概要",
          "7_パターン認識_ベクトル_画像処理",
          "41_firの設計には窓関数が用いられる手順は次のとお...",
          "28_ディジタルフィルタの設計_ディジタルフィルタの設...",
          "47_差分方程式_インパルス応答伝達関数とその計算の手...",
          "26_離散時間システムの線形時不変システムと差分方程式...",
          "4_情報源符号化_エントロピー_情報源",
          "9_xy_log2_情報量",
          "8_2回_バブルソート_cf",
          "2_計算_アルゴリズム_問題",
          "0_情報科学_情報_0と1",
          "19_klogn_logn_kn",
          "5_予測_発見_グルーピング",
          "29_データの可視化について_可視化_ことができるかと...",
          "13_ノード_と辺_エッジ",
          "45_可視化の種類_可視化について_可視化とその手法",
          "52_標本化定理について学習した_サンプリング信号標本...",
          "38_標本化について_標本化_標本化定理",
          "20_nt_連続時間信号の標本化_連続時間信号の標本化...",
          "16_ディジタル信号処理の概要_量子化_符号化",
          "36_nlogn_log_通りがけ順",
          "32_nlogn_log2n_マージソート"
         ],
         "tickvals": [
          -5,
          -15,
          -25,
          -35,
          -45,
          -55,
          -65,
          -75,
          -85,
          -95,
          -105,
          -115,
          -125,
          -135,
          -145,
          -155,
          -165,
          -175,
          -185,
          -195,
          -205,
          -215,
          -225,
          -235,
          -245,
          -255,
          -265,
          -275,
          -285,
          -295,
          -305,
          -315,
          -325,
          -335,
          -345,
          -355,
          -365,
          -375,
          -385,
          -395,
          -405,
          -415,
          -425,
          -435,
          -445,
          -455,
          -465,
          -475,
          -485,
          -495,
          -505,
          -515,
          -525,
          -535,
          -545,
          -555,
          -565,
          -575
         ],
         "type": "linear",
         "zeroline": false
        }
       }
      },
      "text/html": [
       "<div>                            <div id=\"19a9bd13-81b3-4f25-adb1-c4e1fe942a02\" class=\"plotly-graph-div\" style=\"height:1070px; width:1000px;\"></div>            <script type=\"text/javascript\">                require([\"plotly\"], function(Plotly) {                    window.PLOTLYENV=window.PLOTLYENV || {};                                    if (document.getElementById(\"19a9bd13-81b3-4f25-adb1-c4e1fe942a02\")) {                    Plotly.newPlot(                        \"19a9bd13-81b3-4f25-adb1-c4e1fe942a02\",                        [{\"hoverinfo\":\"text\",\"marker\":{\"color\":\"rgb(61,153,112)\"},\"mode\":\"lines\",\"x\":[0.0,0.8622089887212615,0.8622089887212615,0.0],\"xaxis\":\"x\",\"y\":[-15.0,-15.0,-25.0,-25.0],\"yaxis\":\"y\",\"type\":\"scatter\"},{\"hoverinfo\":\"text\",\"marker\":{\"color\":\"rgb(61,153,112)\"},\"mode\":\"lines\",\"x\":[0.0,0.9149565381964272,0.9149565381964272,0.8622089887212615],\"xaxis\":\"x\",\"y\":[-5.0,-5.0,-20.0,-20.0],\"yaxis\":\"y\",\"type\":\"scatter\"},{\"hoverinfo\":\"text\",\"marker\":{\"color\":\"rgb(255,65,54)\"},\"mode\":\"lines\",\"x\":[0.0,0.9055680307019764,0.9055680307019764,0.0],\"xaxis\":\"x\",\"y\":[-35.0,-35.0,-45.0,-45.0],\"yaxis\":\"y\",\"type\":\"scatter\"},{\"hoverinfo\":\"text\",\"marker\":{\"color\":\"rgb(255,65,54)\"},\"mode\":\"lines\",\"x\":[0.9055680307019764,0.9498579891117196,0.9498579891117196,0.0],\"xaxis\":\"x\",\"y\":[-40.0,-40.0,-55.0,-55.0],\"yaxis\":\"y\",\"type\":\"scatter\"},{\"hoverinfo\":\"text\",\"marker\":{\"color\":\"rgb(35,205,205)\"},\"mode\":\"lines\",\"x\":[0.0,0.8914702184854728,0.8914702184854728,0.0],\"xaxis\":\"x\",\"y\":[-75.0,-75.0,-85.0,-85.0],\"yaxis\":\"y\",\"type\":\"scatter\"},{\"hoverinfo\":\"text\",\"marker\":{\"color\":\"rgb(35,205,205)\"},\"mode\":\"lines\",\"x\":[0.0,0.969663519501249,0.969663519501249,0.8914702184854728],\"xaxis\":\"x\",\"y\":[-65.0,-65.0,-80.0,-80.0],\"yaxis\":\"y\",\"type\":\"scatter\"},{\"hoverinfo\":\"text\",\"marker\":{\"color\":\"rgb(133,20,75)\"},\"mode\":\"lines\",\"x\":[0.0,0.9550057483238168,0.9550057483238168,0.0],\"xaxis\":\"x\",\"y\":[-105.0,-105.0,-115.0,-115.0],\"yaxis\":\"y\",\"type\":\"scatter\"},{\"hoverinfo\":\"text\",\"marker\":{\"color\":\"rgb(133,20,75)\"},\"mode\":\"lines\",\"x\":[0.0,0.9997809229144009,0.9997809229144009,0.9550057483238168],\"xaxis\":\"x\",\"y\":[-95.0,-95.0,-110.0,-110.0],\"yaxis\":\"y\",\"type\":\"scatter\"},{\"hoverinfo\":\"text\",\"marker\":{\"color\":\"rgb(255,220,0)\"},\"mode\":\"lines\",\"x\":[0.0,0.9866348739559734,0.9866348739559734,0.0],\"xaxis\":\"x\",\"y\":[-125.0,-125.0,-135.0,-135.0],\"yaxis\":\"y\",\"type\":\"scatter\"},{\"hoverinfo\":\"text\",\"marker\":{\"color\":\"rgb(0,116,217)\"},\"mode\":\"lines\",\"x\":[0.9997809229144009,1.005529336994243,1.005529336994243,0.9866348739559734],\"xaxis\":\"x\",\"y\":[-102.5,-102.5,-130.0,-130.0],\"yaxis\":\"y\",\"type\":\"scatter\"},{\"hoverinfo\":\"text\",\"marker\":{\"color\":\"rgb(40,35,35)\"},\"mode\":\"lines\",\"x\":[0.0,0.9708013017612872,0.9708013017612872,0.0],\"xaxis\":\"x\",\"y\":[-155.0,-155.0,-165.0,-165.0],\"yaxis\":\"y\",\"type\":\"scatter\"},{\"hoverinfo\":\"text\",\"marker\":{\"color\":\"rgb(40,35,35)\"},\"mode\":\"lines\",\"x\":[0.0,0.9916028015971781,0.9916028015971781,0.9708013017612872],\"xaxis\":\"x\",\"y\":[-145.0,-145.0,-160.0,-160.0],\"yaxis\":\"y\",\"type\":\"scatter\"},{\"hoverinfo\":\"text\",\"marker\":{\"color\":\"rgb(61,153,112)\"},\"mode\":\"lines\",\"x\":[0.0,0.9791069130500416,0.9791069130500416,0.0],\"xaxis\":\"x\",\"y\":[-175.0,-175.0,-185.0,-185.0],\"yaxis\":\"y\",\"type\":\"scatter\"},{\"hoverinfo\":\"text\",\"marker\":{\"color\":\"rgb(61,153,112)\"},\"mode\":\"lines\",\"x\":[0.9791069130500416,0.997157140649921,0.997157140649921,0.0],\"xaxis\":\"x\",\"y\":[-180.0,-180.0,-195.0,-195.0],\"yaxis\":\"y\",\"type\":\"scatter\"},{\"hoverinfo\":\"text\",\"marker\":{\"color\":\"rgb(255,65,54)\"},\"mode\":\"lines\",\"x\":[0.0,0.9902308906999888,0.9902308906999888,0.0],\"xaxis\":\"x\",\"y\":[-205.0,-205.0,-215.0,-215.0],\"yaxis\":\"y\",\"type\":\"scatter\"},{\"hoverinfo\":\"text\",\"marker\":{\"color\":\"rgb(35,205,205)\"},\"mode\":\"lines\",\"x\":[0.0,0.9999999999999999,0.9999999999999999,0.0],\"xaxis\":\"x\",\"y\":[-245.0,-245.0,-255.0,-255.0],\"yaxis\":\"y\",\"type\":\"scatter\"},{\"hoverinfo\":\"text\",\"marker\":{\"color\":\"rgb(35,205,205)\"},\"mode\":\"lines\",\"x\":[0.0,0.9999999999999999,0.9999999999999999,0.9999999999999999],\"xaxis\":\"x\",\"y\":[-235.0,-235.0,-250.0,-250.0],\"yaxis\":\"y\",\"type\":\"scatter\"},{\"hoverinfo\":\"text\",\"marker\":{\"color\":\"rgb(35,205,205)\"},\"mode\":\"lines\",\"x\":[0.0,0.9999999999999998,0.9999999999999998,0.0],\"xaxis\":\"x\",\"y\":[-265.0,-265.0,-275.0,-275.0],\"yaxis\":\"y\",\"type\":\"scatter\"},{\"hoverinfo\":\"text\",\"marker\":{\"color\":\"rgb(35,205,205)\"},\"mode\":\"lines\",\"x\":[0.9999999999999998,0.9999999999999998,0.9999999999999998,0.0],\"xaxis\":\"x\",\"y\":[-270.0,-270.0,-285.0,-285.0],\"yaxis\":\"y\",\"type\":\"scatter\"},{\"hoverinfo\":\"text\",\"marker\":{\"color\":\"rgb(35,205,205)\"},\"mode\":\"lines\",\"x\":[0.9999999999999999,0.9999999999999999,0.9999999999999999,0.9999999999999998],\"xaxis\":\"x\",\"y\":[-242.5,-242.5,-277.5,-277.5],\"yaxis\":\"y\",\"type\":\"scatter\"},{\"hoverinfo\":\"text\",\"marker\":{\"color\":\"rgb(35,205,205)\"},\"mode\":\"lines\",\"x\":[0.0,0.9999999999999999,0.9999999999999999,0.9999999999999999],\"xaxis\":\"x\",\"y\":[-225.0,-225.0,-260.0,-260.0],\"yaxis\":\"y\",\"type\":\"scatter\"},{\"hoverinfo\":\"text\",\"marker\":{\"color\":\"rgb(0,116,217)\"},\"mode\":\"lines\",\"x\":[0.0,1.0,1.0,0.0],\"xaxis\":\"x\",\"y\":[-305.0,-305.0,-315.0,-315.0],\"yaxis\":\"y\",\"type\":\"scatter\"},{\"hoverinfo\":\"text\",\"marker\":{\"color\":\"rgb(0,116,217)\"},\"mode\":\"lines\",\"x\":[0.0,1.0,1.0,1.0],\"xaxis\":\"x\",\"y\":[-295.0,-295.0,-310.0,-310.0],\"yaxis\":\"y\",\"type\":\"scatter\"},{\"hoverinfo\":\"text\",\"marker\":{\"color\":\"rgb(0,116,217)\"},\"mode\":\"lines\",\"x\":[1.0,1.0,1.0,0.0],\"xaxis\":\"x\",\"y\":[-302.5,-302.5,-325.0,-325.0],\"yaxis\":\"y\",\"type\":\"scatter\"},{\"hoverinfo\":\"text\",\"marker\":{\"color\":\"rgb(0,116,217)\"},\"mode\":\"lines\",\"x\":[0.9999999999999999,1.0,1.0,1.0],\"xaxis\":\"x\",\"y\":[-242.5,-242.5,-313.75,-313.75],\"yaxis\":\"y\",\"type\":\"scatter\"},{\"hoverinfo\":\"text\",\"marker\":{\"color\":\"rgb(61,153,112)\"},\"mode\":\"lines\",\"x\":[0.0,0.997691433424298,0.997691433424298,0.0],\"xaxis\":\"x\",\"y\":[-335.0,-335.0,-345.0,-345.0],\"yaxis\":\"y\",\"type\":\"scatter\"},{\"hoverinfo\":\"text\",\"marker\":{\"color\":\"rgb(61,153,112)\"},\"mode\":\"lines\",\"x\":[0.997691433424298,0.9995288505917926,0.9995288505917926,0.0],\"xaxis\":\"x\",\"y\":[-340.0,-340.0,-355.0,-355.0],\"yaxis\":\"y\",\"type\":\"scatter\"},{\"hoverinfo\":\"text\",\"marker\":{\"color\":\"rgb(0,116,217)\"},\"mode\":\"lines\",\"x\":[1.0,1.0021795065032235,1.0021795065032235,0.9995288505917926],\"xaxis\":\"x\",\"y\":[-278.125,-278.125,-347.5,-347.5],\"yaxis\":\"y\",\"type\":\"scatter\"},{\"hoverinfo\":\"text\",\"marker\":{\"color\":\"rgb(0,116,217)\"},\"mode\":\"lines\",\"x\":[0.9902308906999888,1.0085440991210997,1.0085440991210997,1.0021795065032235],\"xaxis\":\"x\",\"y\":[-210.0,-210.0,-312.8125,-312.8125],\"yaxis\":\"y\",\"type\":\"scatter\"},{\"hoverinfo\":\"text\",\"marker\":{\"color\":\"rgb(255,65,54)\"},\"mode\":\"lines\",\"x\":[0.0,0.9880682958449806,0.9880682958449806,0.0],\"xaxis\":\"x\",\"y\":[-365.0,-365.0,-375.0,-375.0],\"yaxis\":\"y\",\"type\":\"scatter\"},{\"hoverinfo\":\"text\",\"marker\":{\"color\":\"rgb(0,116,217)\"},\"mode\":\"lines\",\"x\":[1.0085440991210997,1.01067854228131,1.01067854228131,0.9880682958449806],\"xaxis\":\"x\",\"y\":[-261.40625,-261.40625,-370.0,-370.0],\"yaxis\":\"y\",\"type\":\"scatter\"},{\"hoverinfo\":\"text\",\"marker\":{\"color\":\"rgb(0,116,217)\"},\"mode\":\"lines\",\"x\":[0.997157140649921,1.0202497817740404,1.0202497817740404,1.01067854228131],\"xaxis\":\"x\",\"y\":[-187.5,-187.5,-315.703125,-315.703125],\"yaxis\":\"y\",\"type\":\"scatter\"},{\"hoverinfo\":\"text\",\"marker\":{\"color\":\"rgb(35,205,205)\"},\"mode\":\"lines\",\"x\":[0.0,0.9690754603838014,0.9690754603838014,0.0],\"xaxis\":\"x\",\"y\":[-385.0,-385.0,-395.0,-395.0],\"yaxis\":\"y\",\"type\":\"scatter\"},{\"hoverinfo\":\"text\",\"marker\":{\"color\":\"rgb(0,116,217)\"},\"mode\":\"lines\",\"x\":[1.0202497817740404,1.0279237493595366,1.0279237493595366,0.9690754603838014],\"xaxis\":\"x\",\"y\":[-251.6015625,-251.6015625,-390.0,-390.0],\"yaxis\":\"y\",\"type\":\"scatter\"},{\"hoverinfo\":\"text\",\"marker\":{\"color\":\"rgb(0,116,217)\"},\"mode\":\"lines\",\"x\":[0.9916028015971781,1.0312662629398928,1.0312662629398928,1.0279237493595366],\"xaxis\":\"x\",\"y\":[-152.5,-152.5,-320.80078125,-320.80078125],\"yaxis\":\"y\",\"type\":\"scatter\"},{\"hoverinfo\":\"text\",\"marker\":{\"color\":\"rgb(133,20,75)\"},\"mode\":\"lines\",\"x\":[0.0,0.9546908424751213,0.9546908424751213,0.0],\"xaxis\":\"x\",\"y\":[-405.0,-405.0,-415.0,-415.0],\"yaxis\":\"y\",\"type\":\"scatter\"},{\"hoverinfo\":\"text\",\"marker\":{\"color\":\"rgb(0,116,217)\"},\"mode\":\"lines\",\"x\":[1.0312662629398928,1.041229135189792,1.041229135189792,0.9546908424751213],\"xaxis\":\"x\",\"y\":[-236.650390625,-236.650390625,-410.0,-410.0],\"yaxis\":\"y\",\"type\":\"scatter\"},{\"hoverinfo\":\"text\",\"marker\":{\"color\":\"rgb(0,116,217)\"},\"mode\":\"lines\",\"x\":[1.005529336994243,1.0429547016011373,1.0429547016011373,1.041229135189792],\"xaxis\":\"x\",\"y\":[-116.25,-116.25,-323.3251953125,-323.3251953125],\"yaxis\":\"y\",\"type\":\"scatter\"},{\"hoverinfo\":\"text\",\"marker\":{\"color\":\"rgb(255,220,0)\"},\"mode\":\"lines\",\"x\":[0.0,0.9537727895399801,0.9537727895399801,0.0],\"xaxis\":\"x\",\"y\":[-425.0,-425.0,-435.0,-435.0],\"yaxis\":\"y\",\"type\":\"scatter\"},{\"hoverinfo\":\"text\",\"marker\":{\"color\":\"rgb(255,220,0)\"},\"mode\":\"lines\",\"x\":[0.9537727895399801,0.9807409428878249,0.9807409428878249,0.0],\"xaxis\":\"x\",\"y\":[-430.0,-430.0,-445.0,-445.0],\"yaxis\":\"y\",\"type\":\"scatter\"},{\"hoverinfo\":\"text\",\"marker\":{\"color\":\"rgb(40,35,35)\"},\"mode\":\"lines\",\"x\":[0.0,0.9758806034628871,0.9758806034628871,0.0],\"xaxis\":\"x\",\"y\":[-455.0,-455.0,-465.0,-465.0],\"yaxis\":\"y\",\"type\":\"scatter\"},{\"hoverinfo\":\"text\",\"marker\":{\"color\":\"rgb(0,116,217)\"},\"mode\":\"lines\",\"x\":[0.9807409428878249,1.0205166346047678,1.0205166346047678,0.9758806034628871],\"xaxis\":\"x\",\"y\":[-437.5,-437.5,-460.0,-460.0],\"yaxis\":\"y\",\"type\":\"scatter\"},{\"hoverinfo\":\"text\",\"marker\":{\"color\":\"rgb(0,116,217)\"},\"mode\":\"lines\",\"x\":[1.0429547016011373,1.0542026642623512,1.0542026642623512,1.0205166346047678],\"xaxis\":\"x\",\"y\":[-219.78759765625,-219.78759765625,-448.75,-448.75],\"yaxis\":\"y\",\"type\":\"scatter\"},{\"hoverinfo\":\"text\",\"marker\":{\"color\":\"rgb(61,153,112)\"},\"mode\":\"lines\",\"x\":[0.0,0.9267749120567808,0.9267749120567808,0.0],\"xaxis\":\"x\",\"y\":[-475.0,-475.0,-485.0,-485.0],\"yaxis\":\"y\",\"type\":\"scatter\"},{\"hoverinfo\":\"text\",\"marker\":{\"color\":\"rgb(255,65,54)\"},\"mode\":\"lines\",\"x\":[0.0,0.9734448878035947,0.9734448878035947,0.0],\"xaxis\":\"x\",\"y\":[-495.0,-495.0,-505.0,-505.0],\"yaxis\":\"y\",\"type\":\"scatter\"},{\"hoverinfo\":\"text\",\"marker\":{\"color\":\"rgb(255,65,54)\"},\"mode\":\"lines\",\"x\":[0.9734448878035947,0.9836149783617146,0.9836149783617146,0.0],\"xaxis\":\"x\",\"y\":[-500.0,-500.0,-515.0,-515.0],\"yaxis\":\"y\",\"type\":\"scatter\"},{\"hoverinfo\":\"text\",\"marker\":{\"color\":\"rgb(0,116,217)\"},\"mode\":\"lines\",\"x\":[0.9267749120567808,1.0351799135554838,1.0351799135554838,0.9836149783617146],\"xaxis\":\"x\",\"y\":[-480.0,-480.0,-507.5,-507.5],\"yaxis\":\"y\",\"type\":\"scatter\"},{\"hoverinfo\":\"text\",\"marker\":{\"color\":\"rgb(0,116,217)\"},\"mode\":\"lines\",\"x\":[1.0542026642623512,1.0612274076468193,1.0612274076468193,1.0351799135554838],\"xaxis\":\"x\",\"y\":[-334.268798828125,-334.268798828125,-493.75,-493.75],\"yaxis\":\"y\",\"type\":\"scatter\"},{\"hoverinfo\":\"text\",\"marker\":{\"color\":\"rgb(0,116,217)\"},\"mode\":\"lines\",\"x\":[0.969663519501249,1.1128333839860025,1.1128333839860025,1.0612274076468193],\"xaxis\":\"x\",\"y\":[-72.5,-72.5,-414.0093994140625,-414.0093994140625],\"yaxis\":\"y\",\"type\":\"scatter\"},{\"hoverinfo\":\"text\",\"marker\":{\"color\":\"rgb(35,205,205)\"},\"mode\":\"lines\",\"x\":[0.0,0.9195623810208551,0.9195623810208551,0.0],\"xaxis\":\"x\",\"y\":[-525.0,-525.0,-535.0,-535.0],\"yaxis\":\"y\",\"type\":\"scatter\"},{\"hoverinfo\":\"text\",\"marker\":{\"color\":\"rgb(35,205,205)\"},\"mode\":\"lines\",\"x\":[0.9195623810208551,0.9609927950351449,0.9609927950351449,0.0],\"xaxis\":\"x\",\"y\":[-530.0,-530.0,-545.0,-545.0],\"yaxis\":\"y\",\"type\":\"scatter\"},{\"hoverinfo\":\"text\",\"marker\":{\"color\":\"rgb(35,205,205)\"},\"mode\":\"lines\",\"x\":[0.9609927950351449,0.9807070783358618,0.9807070783358618,0.0],\"xaxis\":\"x\",\"y\":[-537.5,-537.5,-555.0,-555.0],\"yaxis\":\"y\",\"type\":\"scatter\"},{\"hoverinfo\":\"text\",\"marker\":{\"color\":\"rgb(0,116,217)\"},\"mode\":\"lines\",\"x\":[1.1128333839860025,1.1155416841081616,1.1155416841081616,0.9807070783358618],\"xaxis\":\"x\",\"y\":[-243.25469970703125,-243.25469970703125,-546.25,-546.25],\"yaxis\":\"y\",\"type\":\"scatter\"},{\"hoverinfo\":\"text\",\"marker\":{\"color\":\"rgb(0,116,217)\"},\"mode\":\"lines\",\"x\":[0.9498579891117196,1.1207953842371565,1.1207953842371565,1.1155416841081616],\"xaxis\":\"x\",\"y\":[-47.5,-47.5,-394.7523498535156,-394.7523498535156],\"yaxis\":\"y\",\"type\":\"scatter\"},{\"hoverinfo\":\"text\",\"marker\":{\"color\":\"rgb(61,153,112)\"},\"mode\":\"lines\",\"x\":[0.0,0.8428190371532319,0.8428190371532319,0.0],\"xaxis\":\"x\",\"y\":[-565.0,-565.0,-575.0,-575.0],\"yaxis\":\"y\",\"type\":\"scatter\"},{\"hoverinfo\":\"text\",\"marker\":{\"color\":\"rgb(0,116,217)\"},\"mode\":\"lines\",\"x\":[1.1207953842371565,1.1240566925705386,1.1240566925705386,0.8428190371532319],\"xaxis\":\"x\",\"y\":[-221.1261749267578,-221.1261749267578,-570.0,-570.0],\"yaxis\":\"y\",\"type\":\"scatter\"},{\"hoverinfo\":\"text\",\"marker\":{\"color\":\"rgb(0,116,217)\"},\"mode\":\"lines\",\"x\":[0.9149565381964272,1.1777105399212697,1.1777105399212697,1.1240566925705386],\"xaxis\":\"x\",\"y\":[-12.5,-12.5,-395.5630874633789,-395.5630874633789],\"yaxis\":\"y\",\"type\":\"scatter\"}],                        {\"autosize\":false,\"height\":1070,\"hovermode\":\"closest\",\"showlegend\":false,\"width\":1000,\"xaxis\":{\"mirror\":\"allticks\",\"rangemode\":\"tozero\",\"showgrid\":false,\"showline\":true,\"showticklabels\":true,\"ticks\":\"outside\",\"type\":\"linear\",\"zeroline\":false},\"yaxis\":{\"mirror\":\"allticks\",\"rangemode\":\"tozero\",\"showgrid\":false,\"showline\":true,\"showticklabels\":true,\"tickmode\":\"array\",\"ticks\":\"outside\",\"ticktext\":[\"30_\\u4eba\\u5de5\\u77e5\\u80fd_ai_\\u4eba\\u5de5\\u77e5\\u80fd\\u306b\\u3064\\u3044\\u3066\",\"27_ai_\\u4eba\\u5de5\\u77e5\\u80fd_\\u8ca0\\u306e\\u76f8\\u95a2\",\"22_\\u5f31\\u3044ai_\\u5f37\\u3044ai_\\u7279\\u5316\\u578bai\",\"25_\\u30a8\\u30c3\\u30b8\\u62bd\\u51fa_\\u30a8\\u30c3\\u30b8_\\u6587\\u5b57\",\"12_\\u76f8\\u95a2_\\u7d71\\u8a08\\u7684\\u691c\\u5b9a_\\u5dee\\u304c\\u306a\\u3044\",\"49_\\u76f8\\u95a2\\u306b\\u3064\\u3044\\u3066_\\u691c\\u5b9a\\u3068\\u753b\\u50cf\\u51e6\\u7406\\u306b\\u3064\\u3044\\u3066\\u5b66\\u3093\\u3060_\\u691c\\u5b9a...\",\"51_\\u3053\\u308c\\u3089\\u4e8c\\u3064\\u306f\\u76f8\\u540c\\u6027\\u691c\\u7d22\\u30af\\u30e9\\u30b9\\u30bf\\u30ea\\u30f3\\u30b0\\u7cfb\\u7d71\\u5206\\u96e2\\u5224\\u5b9a...\",\"10_\\u8ddd\\u96e2_\\u985e\\u4f3c\\u5ea6_\\u4f3c\\u3066\\u3044\\u308b\",\"53_\\u69d8\\u3005\\u306a\\u8ddd\\u96e2_\\u8ddd\\u96e2\\u3068\\u985e\\u4f3c\\u5ea6_\\u30d9\\u30af\\u30c8\\u30eb\\u8ddd\\u96e2\\u985e\\u4f3c\\u5ea6\",\"44_\\u4e57\\u7b97\\u5668_\\u4f4d\\u76f8\\u5fdc\\u7b54_\\u632f\\u5e45\\u5fdc\\u7b54\",\"11_\\u96e2\\u6563\\u6642\\u9593\\u30d5\\u30fc\\u30ea\\u30a8\\u5909\\u63db\\u3068\\u96e2\\u6563\\u30d5\\u30fc\\u30ea\\u30a8\\u5909\\u63db_\\u96e2\\u6563\\u6642\\u9593...\",\"6_z\\u5909\\u63db\\u306b\\u3064\\u3044\\u3066_z\\u5909\\u63db\\u306e\\u6027\\u8cea\\u9006z\\u5909\\u63db_\\u96e2\\u6563\\u30d5\\u30fc\\u30ea\\u30a8\\u5909\\u63db\",\"55_\\u306e\\u5468\\u671f\\u95a2\\u6570\\u3067\\u3042\\u308b\\u3068\\u89e3\\u91c8\\u3059\\u308b\\u3053\\u3068\\u3067\\u30d5\\u30fc\\u30ea\\u30a8\\u5909\\u63db\\u3059\\u308b...\",\"18_\\u975e\\u5468\\u671f\\u4fe1\\u53f7\\u306e\\u30d5\\u30fc\\u30ea\\u30a8\\u5909\\u63db_\\u5468\\u671f\\u4fe1\\u53f7\\u306e\\u30d5\\u30fc\\u30ea\\u30a8\\u7d1a\\u6570...\",\"42_\\u30d5\\u30fc\\u30ea\\u30a8\\u7d1a\\u6570\\u8868\\u73fe_\\u3042\\u3089\\u3086\\u308b\\u4fe1\\u53f7\\u306f\\u6b63\\u5f26\\u6ce2\\u3092\\u7528\\u3044\\u3066\\u8868...\",\"24_\\u30d5\\u30fc\\u30ea\\u30a8\\u7d1a\\u6570\\u304b\\u3089\\u30d5\\u30fc\\u30ea\\u30a8\\u5909\\u63db\\u3078\\u306e\\u62e1\\u5f35_\\u30d5\\u30fc\\u30ea\\u30a8\\u7d1a...\",\"37_\\u30d5\\u30fc\\u30ea\\u30a8\\u7d1a\\u6570\\u306b\\u3064\\u3044\\u3066\\u5b66\\u3093\\u3060_\\u3053\\u308c\\u304b\\u3089\\u306e\\u6388\\u696d\\u3067\\u4f55\\u3092...\",\"54_\\u30d2\\u30fc\\u30d7\\u30bd\\u30fc\\u30c8\\u3068\\u30de\\u30fc\\u30b8\\u30bd\\u30fc\\u30c8\\u306b\\u3064\\u3044\\u3066_\\u30de\\u30fc\\u30b8\\u30bd\\u30fc\\u30c8...\",\"34_\\u30de\\u30fc\\u30b8\\u30bd\\u30fc\\u30c8\\u3068\\u4e8c\\u5206\\u63a2\\u7d22\\u6cd5\\u306b\\u3064\\u3044\\u3066_\\u4e8c\\u5206\\u63a2\\u7d22\\u6cd5_2...\",\"33_\\u4e8c\\u5206\\u63a2\\u7d22\\u6cd5\\u3068\\u30c7\\u30fc\\u30bf\\u306b\\u3064\\u3044\\u3066_\\u4e8c\\u5206\\u63a2\\u7d22\\u6cd5\\u306b\\u3064\\u3044\\u3066_...\",\"14_\\u77e5\\u8b58\\u30de\\u30c3\\u30d7\\u306e\\u4f5c\\u6210_\\u77e5\\u8b58\\u30de\\u30c3\\u30d7\\u306e\\u4f5c\\u88fd_\\u77e5\\u8b58\\u30de\\u30c3\\u30d7\\u4f5c\\u6210\",\"39_\\u8208\\u5473\\u304c\\u60f9\\u304b\\u308c\\u3084\\u3059\\u3044\\u5185\\u5bb9\\u3060\\u3063\\u305f_br\\u30fcmap\\u3092\\u7528\\u3044...\",\"57_\\u7df4\\u7fd2\\u554f\\u984c\\u3084\\u8ab2\\u984c\\u306e\\u89e3\\u8aac\\u30d2\\u30fc\\u30d7\\u30bd\\u30fc\\u30c8\\u306e\\u5fa9\\u7fd2\\u30de\\u30fc\\u30b8\\u30bd\\u30fc...\",\"46_\\u7814\\u7a76\\u502b\\u7406\\u60c5\\u5831\\u502b\\u7406\\u306b\\u3064\\u3044\\u3066_\\u7814\\u7a76\\u306b\\u304a\\u3044\\u3066\\u306e\\u30de\\u30ca\\u30fc\\u7684...\",\"43_2fm_\\u9023\\u7d9a\\u4fe1\\u53f7\\u306e\\u6a19\\u672c\\u5316\\u306e\\u7cbe\\u5ea6\\u306b\\u95a2\\u308f\\u308b\\u6a19\\u672c\\u5316\\u5b9a\\u7406...\",\"40_\\u96e2\\u6563\\u30d5\\u30fc\\u30ea\\u30a8\\u5909\\u63db\\u306e\\u6027\\u8cea\\u306b\\u3064\\u3044\\u3066\\u5b66\\u3093\\u3060_\\u96e2\\u6563\\u30d5\\u30fc\\u30ea...\",\"48_\\u6388\\u696d\\u306e\\u30ac\\u30a4\\u30c0\\u30f3\\u30b9_\\u4eca\\u5f8c\\u306e\\u6388\\u696d\\u306e\\u305f\\u3081\\u306e\\u30ac\\u30a4\\u30c0\\u30f3\\u30b9_...\",\"50_\\u9006z\\u5909\\u63db_\\u9006z\\u5909\\u63db\\u306b\\u3064\\u3044\\u3066_\\u9006z\\u5909\\u63db\\u306e\\u6c42\\u3081\\u65b9\\u306b\\u95a2...\",\"56_\\u8b66\\u6212\\u304c\\u5927\\u4e8b_ict\\u793e\\u4f1a\\u3067\\u751f\\u304d\\u629c\\u304f\\u305f\\u3081\\u306b_ict\\u74b0...\",\"23_\\u8457\\u4f5c\\u6a29\\u306b\\u3064\\u3044\\u3066_\\u8ca1\\u7523\\u6a29_\\u8457\\u4f5c\\u6a29\",\"21_\\u671f\\u672b\\u30c6\\u30b9\\u30c8_\\u78ba\\u8a8d\\u30c6\\u30b9\\u30c8_\\u30c6\\u30b9\\u30c8\",\"3_\\u7b26\\u53f7\\u8a9e\\u540c\\u58eb\\u304cs_2k_\\u30cf\\u30df\\u30f3\\u30b0\\u8ddd\\u96e2\",\"31_\\u6539\\u7ac4_\\u634f\\u9020_\\u305d\\u3057\\u3066\\u60c5\\u5831\\u502b\\u7406\\u306b\\u3064\\u3044\\u3066\\u4e5d\\u5dde\\u5927\\u5b66\\u306e\\u4f8b\\u3092...\",\"15_\\u30b3\\u30e2\\u30f3\\u30ba_\\u5168\\u6570\\u8abf\\u67fb_\\u6a19\\u672c\\u8abf\\u67fb\",\"1_\\u30d0\\u30a4_\\u5b8c\\u5168\\u6027_\\u6697\\u53f7\\u306b\\u3064\\u3044\\u3066\",\"17_\\u9ad8\\u901f\\u30d5\\u30fc\\u30ea\\u30a8\\u5909\\u63db_\\u9ad8\\u901f\\u30d5\\u30fc\\u30ea\\u30a8\\u5909\\u63db\\u306b\\u3064\\u3044\\u3066_\\u9ad8\\u901f...\",\"35_\\u30ac\\u30a4\\u30c0\\u30f3\\u30b9_\\u30aa\\u30ea\\u30a8\\u30f3\\u30c6\\u30fc\\u30b7\\u30e7\\u30f3_\\u30bd\\u30fc\\u30c8\\u306e\\u5927\\u307e\\u304b\\u306a\\u6982\\u8981\",\"7_\\u30d1\\u30bf\\u30fc\\u30f3\\u8a8d\\u8b58_\\u30d9\\u30af\\u30c8\\u30eb_\\u753b\\u50cf\\u51e6\\u7406\",\"41_fir\\u306e\\u8a2d\\u8a08\\u306b\\u306f\\u7a93\\u95a2\\u6570\\u304c\\u7528\\u3044\\u3089\\u308c\\u308b\\u624b\\u9806\\u306f\\u6b21\\u306e\\u3068\\u304a...\",\"28_\\u30c7\\u30a3\\u30b8\\u30bf\\u30eb\\u30d5\\u30a3\\u30eb\\u30bf\\u306e\\u8a2d\\u8a08_\\u30c7\\u30a3\\u30b8\\u30bf\\u30eb\\u30d5\\u30a3\\u30eb\\u30bf\\u306e\\u8a2d...\",\"47_\\u5dee\\u5206\\u65b9\\u7a0b\\u5f0f_\\u30a4\\u30f3\\u30d1\\u30eb\\u30b9\\u5fdc\\u7b54\\u4f1d\\u9054\\u95a2\\u6570\\u3068\\u305d\\u306e\\u8a08\\u7b97\\u306e\\u624b...\",\"26_\\u96e2\\u6563\\u6642\\u9593\\u30b7\\u30b9\\u30c6\\u30e0\\u306e\\u7dda\\u5f62\\u6642\\u4e0d\\u5909\\u30b7\\u30b9\\u30c6\\u30e0\\u3068\\u5dee\\u5206\\u65b9\\u7a0b\\u5f0f...\",\"4_\\u60c5\\u5831\\u6e90\\u7b26\\u53f7\\u5316_\\u30a8\\u30f3\\u30c8\\u30ed\\u30d4\\u30fc_\\u60c5\\u5831\\u6e90\",\"9_xy_log2_\\u60c5\\u5831\\u91cf\",\"8_2\\u56de_\\u30d0\\u30d6\\u30eb\\u30bd\\u30fc\\u30c8_cf\",\"2_\\u8a08\\u7b97_\\u30a2\\u30eb\\u30b4\\u30ea\\u30ba\\u30e0_\\u554f\\u984c\",\"0_\\u60c5\\u5831\\u79d1\\u5b66_\\u60c5\\u5831_0\\u30681\",\"19_klogn_logn_kn\",\"5_\\u4e88\\u6e2c_\\u767a\\u898b_\\u30b0\\u30eb\\u30fc\\u30d4\\u30f3\\u30b0\",\"29_\\u30c7\\u30fc\\u30bf\\u306e\\u53ef\\u8996\\u5316\\u306b\\u3064\\u3044\\u3066_\\u53ef\\u8996\\u5316_\\u3053\\u3068\\u304c\\u3067\\u304d\\u308b\\u304b\\u3068...\",\"13_\\u30ce\\u30fc\\u30c9_\\u3068\\u8fba_\\u30a8\\u30c3\\u30b8\",\"45_\\u53ef\\u8996\\u5316\\u306e\\u7a2e\\u985e_\\u53ef\\u8996\\u5316\\u306b\\u3064\\u3044\\u3066_\\u53ef\\u8996\\u5316\\u3068\\u305d\\u306e\\u624b\\u6cd5\",\"52_\\u6a19\\u672c\\u5316\\u5b9a\\u7406\\u306b\\u3064\\u3044\\u3066\\u5b66\\u7fd2\\u3057\\u305f_\\u30b5\\u30f3\\u30d7\\u30ea\\u30f3\\u30b0\\u4fe1\\u53f7\\u6a19\\u672c...\",\"38_\\u6a19\\u672c\\u5316\\u306b\\u3064\\u3044\\u3066_\\u6a19\\u672c\\u5316_\\u6a19\\u672c\\u5316\\u5b9a\\u7406\",\"20_nt_\\u9023\\u7d9a\\u6642\\u9593\\u4fe1\\u53f7\\u306e\\u6a19\\u672c\\u5316_\\u9023\\u7d9a\\u6642\\u9593\\u4fe1\\u53f7\\u306e\\u6a19\\u672c\\u5316...\",\"16_\\u30c7\\u30a3\\u30b8\\u30bf\\u30eb\\u4fe1\\u53f7\\u51e6\\u7406\\u306e\\u6982\\u8981_\\u91cf\\u5b50\\u5316_\\u7b26\\u53f7\\u5316\",\"36_nlogn_log_\\u901a\\u308a\\u304c\\u3051\\u9806\",\"32_nlogn_log2n_\\u30de\\u30fc\\u30b8\\u30bd\\u30fc\\u30c8\"],\"tickvals\":[-5.0,-15.0,-25.0,-35.0,-45.0,-55.0,-65.0,-75.0,-85.0,-95.0,-105.0,-115.0,-125.0,-135.0,-145.0,-155.0,-165.0,-175.0,-185.0,-195.0,-205.0,-215.0,-225.0,-235.0,-245.0,-255.0,-265.0,-275.0,-285.0,-295.0,-305.0,-315.0,-325.0,-335.0,-345.0,-355.0,-365.0,-375.0,-385.0,-395.0,-405.0,-415.0,-425.0,-435.0,-445.0,-455.0,-465.0,-475.0,-485.0,-495.0,-505.0,-515.0,-525.0,-535.0,-545.0,-555.0,-565.0,-575.0],\"type\":\"linear\",\"zeroline\":false,\"range\":[-580.0,0.0]},\"template\":{\"data\":{\"barpolar\":[{\"marker\":{\"line\":{\"color\":\"white\",\"width\":0.5},\"pattern\":{\"fillmode\":\"overlay\",\"size\":10,\"solidity\":0.2}},\"type\":\"barpolar\"}],\"bar\":[{\"error_x\":{\"color\":\"#2a3f5f\"},\"error_y\":{\"color\":\"#2a3f5f\"},\"marker\":{\"line\":{\"color\":\"white\",\"width\":0.5},\"pattern\":{\"fillmode\":\"overlay\",\"size\":10,\"solidity\":0.2}},\"type\":\"bar\"}],\"carpet\":[{\"aaxis\":{\"endlinecolor\":\"#2a3f5f\",\"gridcolor\":\"#C8D4E3\",\"linecolor\":\"#C8D4E3\",\"minorgridcolor\":\"#C8D4E3\",\"startlinecolor\":\"#2a3f5f\"},\"baxis\":{\"endlinecolor\":\"#2a3f5f\",\"gridcolor\":\"#C8D4E3\",\"linecolor\":\"#C8D4E3\",\"minorgridcolor\":\"#C8D4E3\",\"startlinecolor\":\"#2a3f5f\"},\"type\":\"carpet\"}],\"choropleth\":[{\"colorbar\":{\"outlinewidth\":0,\"ticks\":\"\"},\"type\":\"choropleth\"}],\"contourcarpet\":[{\"colorbar\":{\"outlinewidth\":0,\"ticks\":\"\"},\"type\":\"contourcarpet\"}],\"contour\":[{\"colorbar\":{\"outlinewidth\":0,\"ticks\":\"\"},\"colorscale\":[[0.0,\"#0d0887\"],[0.1111111111111111,\"#46039f\"],[0.2222222222222222,\"#7201a8\"],[0.3333333333333333,\"#9c179e\"],[0.4444444444444444,\"#bd3786\"],[0.5555555555555556,\"#d8576b\"],[0.6666666666666666,\"#ed7953\"],[0.7777777777777778,\"#fb9f3a\"],[0.8888888888888888,\"#fdca26\"],[1.0,\"#f0f921\"]],\"type\":\"contour\"}],\"heatmapgl\":[{\"colorbar\":{\"outlinewidth\":0,\"ticks\":\"\"},\"colorscale\":[[0.0,\"#0d0887\"],[0.1111111111111111,\"#46039f\"],[0.2222222222222222,\"#7201a8\"],[0.3333333333333333,\"#9c179e\"],[0.4444444444444444,\"#bd3786\"],[0.5555555555555556,\"#d8576b\"],[0.6666666666666666,\"#ed7953\"],[0.7777777777777778,\"#fb9f3a\"],[0.8888888888888888,\"#fdca26\"],[1.0,\"#f0f921\"]],\"type\":\"heatmapgl\"}],\"heatmap\":[{\"colorbar\":{\"outlinewidth\":0,\"ticks\":\"\"},\"colorscale\":[[0.0,\"#0d0887\"],[0.1111111111111111,\"#46039f\"],[0.2222222222222222,\"#7201a8\"],[0.3333333333333333,\"#9c179e\"],[0.4444444444444444,\"#bd3786\"],[0.5555555555555556,\"#d8576b\"],[0.6666666666666666,\"#ed7953\"],[0.7777777777777778,\"#fb9f3a\"],[0.8888888888888888,\"#fdca26\"],[1.0,\"#f0f921\"]],\"type\":\"heatmap\"}],\"histogram2dcontour\":[{\"colorbar\":{\"outlinewidth\":0,\"ticks\":\"\"},\"colorscale\":[[0.0,\"#0d0887\"],[0.1111111111111111,\"#46039f\"],[0.2222222222222222,\"#7201a8\"],[0.3333333333333333,\"#9c179e\"],[0.4444444444444444,\"#bd3786\"],[0.5555555555555556,\"#d8576b\"],[0.6666666666666666,\"#ed7953\"],[0.7777777777777778,\"#fb9f3a\"],[0.8888888888888888,\"#fdca26\"],[1.0,\"#f0f921\"]],\"type\":\"histogram2dcontour\"}],\"histogram2d\":[{\"colorbar\":{\"outlinewidth\":0,\"ticks\":\"\"},\"colorscale\":[[0.0,\"#0d0887\"],[0.1111111111111111,\"#46039f\"],[0.2222222222222222,\"#7201a8\"],[0.3333333333333333,\"#9c179e\"],[0.4444444444444444,\"#bd3786\"],[0.5555555555555556,\"#d8576b\"],[0.6666666666666666,\"#ed7953\"],[0.7777777777777778,\"#fb9f3a\"],[0.8888888888888888,\"#fdca26\"],[1.0,\"#f0f921\"]],\"type\":\"histogram2d\"}],\"histogram\":[{\"marker\":{\"pattern\":{\"fillmode\":\"overlay\",\"size\":10,\"solidity\":0.2}},\"type\":\"histogram\"}],\"mesh3d\":[{\"colorbar\":{\"outlinewidth\":0,\"ticks\":\"\"},\"type\":\"mesh3d\"}],\"parcoords\":[{\"line\":{\"colorbar\":{\"outlinewidth\":0,\"ticks\":\"\"}},\"type\":\"parcoords\"}],\"pie\":[{\"automargin\":true,\"type\":\"pie\"}],\"scatter3d\":[{\"line\":{\"colorbar\":{\"outlinewidth\":0,\"ticks\":\"\"}},\"marker\":{\"colorbar\":{\"outlinewidth\":0,\"ticks\":\"\"}},\"type\":\"scatter3d\"}],\"scattercarpet\":[{\"marker\":{\"colorbar\":{\"outlinewidth\":0,\"ticks\":\"\"}},\"type\":\"scattercarpet\"}],\"scattergeo\":[{\"marker\":{\"colorbar\":{\"outlinewidth\":0,\"ticks\":\"\"}},\"type\":\"scattergeo\"}],\"scattergl\":[{\"marker\":{\"colorbar\":{\"outlinewidth\":0,\"ticks\":\"\"}},\"type\":\"scattergl\"}],\"scattermapbox\":[{\"marker\":{\"colorbar\":{\"outlinewidth\":0,\"ticks\":\"\"}},\"type\":\"scattermapbox\"}],\"scatterpolargl\":[{\"marker\":{\"colorbar\":{\"outlinewidth\":0,\"ticks\":\"\"}},\"type\":\"scatterpolargl\"}],\"scatterpolar\":[{\"marker\":{\"colorbar\":{\"outlinewidth\":0,\"ticks\":\"\"}},\"type\":\"scatterpolar\"}],\"scatter\":[{\"fillpattern\":{\"fillmode\":\"overlay\",\"size\":10,\"solidity\":0.2},\"type\":\"scatter\"}],\"scatterternary\":[{\"marker\":{\"colorbar\":{\"outlinewidth\":0,\"ticks\":\"\"}},\"type\":\"scatterternary\"}],\"surface\":[{\"colorbar\":{\"outlinewidth\":0,\"ticks\":\"\"},\"colorscale\":[[0.0,\"#0d0887\"],[0.1111111111111111,\"#46039f\"],[0.2222222222222222,\"#7201a8\"],[0.3333333333333333,\"#9c179e\"],[0.4444444444444444,\"#bd3786\"],[0.5555555555555556,\"#d8576b\"],[0.6666666666666666,\"#ed7953\"],[0.7777777777777778,\"#fb9f3a\"],[0.8888888888888888,\"#fdca26\"],[1.0,\"#f0f921\"]],\"type\":\"surface\"}],\"table\":[{\"cells\":{\"fill\":{\"color\":\"#EBF0F8\"},\"line\":{\"color\":\"white\"}},\"header\":{\"fill\":{\"color\":\"#C8D4E3\"},\"line\":{\"color\":\"white\"}},\"type\":\"table\"}]},\"layout\":{\"annotationdefaults\":{\"arrowcolor\":\"#2a3f5f\",\"arrowhead\":0,\"arrowwidth\":1},\"autotypenumbers\":\"strict\",\"coloraxis\":{\"colorbar\":{\"outlinewidth\":0,\"ticks\":\"\"}},\"colorscale\":{\"diverging\":[[0,\"#8e0152\"],[0.1,\"#c51b7d\"],[0.2,\"#de77ae\"],[0.3,\"#f1b6da\"],[0.4,\"#fde0ef\"],[0.5,\"#f7f7f7\"],[0.6,\"#e6f5d0\"],[0.7,\"#b8e186\"],[0.8,\"#7fbc41\"],[0.9,\"#4d9221\"],[1,\"#276419\"]],\"sequential\":[[0.0,\"#0d0887\"],[0.1111111111111111,\"#46039f\"],[0.2222222222222222,\"#7201a8\"],[0.3333333333333333,\"#9c179e\"],[0.4444444444444444,\"#bd3786\"],[0.5555555555555556,\"#d8576b\"],[0.6666666666666666,\"#ed7953\"],[0.7777777777777778,\"#fb9f3a\"],[0.8888888888888888,\"#fdca26\"],[1.0,\"#f0f921\"]],\"sequentialminus\":[[0.0,\"#0d0887\"],[0.1111111111111111,\"#46039f\"],[0.2222222222222222,\"#7201a8\"],[0.3333333333333333,\"#9c179e\"],[0.4444444444444444,\"#bd3786\"],[0.5555555555555556,\"#d8576b\"],[0.6666666666666666,\"#ed7953\"],[0.7777777777777778,\"#fb9f3a\"],[0.8888888888888888,\"#fdca26\"],[1.0,\"#f0f921\"]]},\"colorway\":[\"#636efa\",\"#EF553B\",\"#00cc96\",\"#ab63fa\",\"#FFA15A\",\"#19d3f3\",\"#FF6692\",\"#B6E880\",\"#FF97FF\",\"#FECB52\"],\"font\":{\"color\":\"#2a3f5f\"},\"geo\":{\"bgcolor\":\"white\",\"lakecolor\":\"white\",\"landcolor\":\"white\",\"showlakes\":true,\"showland\":true,\"subunitcolor\":\"#C8D4E3\"},\"hoverlabel\":{\"align\":\"left\"},\"hovermode\":\"closest\",\"mapbox\":{\"style\":\"light\"},\"paper_bgcolor\":\"white\",\"plot_bgcolor\":\"white\",\"polar\":{\"angularaxis\":{\"gridcolor\":\"#EBF0F8\",\"linecolor\":\"#EBF0F8\",\"ticks\":\"\"},\"bgcolor\":\"white\",\"radialaxis\":{\"gridcolor\":\"#EBF0F8\",\"linecolor\":\"#EBF0F8\",\"ticks\":\"\"}},\"scene\":{\"xaxis\":{\"backgroundcolor\":\"white\",\"gridcolor\":\"#DFE8F3\",\"gridwidth\":2,\"linecolor\":\"#EBF0F8\",\"showbackground\":true,\"ticks\":\"\",\"zerolinecolor\":\"#EBF0F8\"},\"yaxis\":{\"backgroundcolor\":\"white\",\"gridcolor\":\"#DFE8F3\",\"gridwidth\":2,\"linecolor\":\"#EBF0F8\",\"showbackground\":true,\"ticks\":\"\",\"zerolinecolor\":\"#EBF0F8\"},\"zaxis\":{\"backgroundcolor\":\"white\",\"gridcolor\":\"#DFE8F3\",\"gridwidth\":2,\"linecolor\":\"#EBF0F8\",\"showbackground\":true,\"ticks\":\"\",\"zerolinecolor\":\"#EBF0F8\"}},\"shapedefaults\":{\"line\":{\"color\":\"#2a3f5f\"}},\"ternary\":{\"aaxis\":{\"gridcolor\":\"#DFE8F3\",\"linecolor\":\"#A2B1C6\",\"ticks\":\"\"},\"baxis\":{\"gridcolor\":\"#DFE8F3\",\"linecolor\":\"#A2B1C6\",\"ticks\":\"\"},\"bgcolor\":\"white\",\"caxis\":{\"gridcolor\":\"#DFE8F3\",\"linecolor\":\"#A2B1C6\",\"ticks\":\"\"}},\"title\":{\"x\":0.05},\"xaxis\":{\"automargin\":true,\"gridcolor\":\"#EBF0F8\",\"linecolor\":\"#EBF0F8\",\"ticks\":\"\",\"title\":{\"standoff\":15},\"zerolinecolor\":\"#EBF0F8\",\"zerolinewidth\":2},\"yaxis\":{\"automargin\":true,\"gridcolor\":\"#EBF0F8\",\"linecolor\":\"#EBF0F8\",\"ticks\":\"\",\"title\":{\"standoff\":15},\"zerolinecolor\":\"#EBF0F8\",\"zerolinewidth\":2}}},\"title\":{\"font\":{\"size\":22,\"color\":\"Black\"},\"text\":\"\\u003cb\\u003eHierarchical Clustering\\u003c\\u002fb\\u003e\",\"x\":0.5,\"xanchor\":\"center\",\"yanchor\":\"top\"},\"hoverlabel\":{\"font\":{\"size\":16,\"family\":\"Rockwell\"},\"bgcolor\":\"white\"},\"plot_bgcolor\":\"#ECEFF1\"},                        {\"responsive\": true}                    ).then(function(){\n",
       "                            \n",
       "var gd = document.getElementById('19a9bd13-81b3-4f25-adb1-c4e1fe942a02');\n",
       "var x = new MutationObserver(function (mutations, observer) {{\n",
       "        var display = window.getComputedStyle(gd).display;\n",
       "        if (!display || display === 'none') {{\n",
       "            console.log([gd, 'removed!']);\n",
       "            Plotly.purge(gd);\n",
       "            observer.disconnect();\n",
       "        }}\n",
       "}});\n",
       "\n",
       "// Listen for the removal of the full notebook cells\n",
       "var notebookContainer = gd.closest('#notebook-container');\n",
       "if (notebookContainer) {{\n",
       "    x.observe(notebookContainer, {childList: true});\n",
       "}}\n",
       "\n",
       "// Listen for the clearing of the current output cell\n",
       "var outputEl = gd.closest('.output');\n",
       "if (outputEl) {{\n",
       "    x.observe(outputEl, {childList: true});\n",
       "}}\n",
       "\n",
       "                        })                };                });            </script>        </div>"
      ]
     },
     "metadata": {},
     "output_type": "display_data"
    }
   ],
   "source": [
    "topic_model.visualize_hierarchy()"
   ]
  },
  {
   "cell_type": "code",
   "execution_count": 262,
   "metadata": {},
   "outputs": [
    {
     "data": {
      "application/vnd.plotly.v1+json": {
       "config": {
        "plotlyServerURL": "https://plot.ly"
       },
       "data": [
        {
         "name": "Topic -1",
         "type": "bar",
         "x": [
          0,
          1,
          2,
          3,
          4
         ],
         "y": [
          257,
          97,
          169,
          102,
          217
         ]
        },
        {
         "name": "Topic 0",
         "type": "bar",
         "x": [
          0,
          1,
          2,
          3,
          4
         ],
         "y": [
          61,
          31,
          76,
          54,
          101
         ]
        },
        {
         "name": "Topic 1",
         "type": "bar",
         "x": [
          0,
          1,
          2,
          3,
          4
         ],
         "y": [
          103,
          115,
          31,
          2,
          59
         ]
        },
        {
         "name": "Topic 2",
         "type": "bar",
         "x": [
          0,
          1,
          2,
          3,
          4
         ],
         "y": [
          0,
          27,
          84,
          58,
          120
         ]
        },
        {
         "name": "Topic 3",
         "type": "bar",
         "x": [
          0,
          1,
          2,
          3,
          4
         ],
         "y": [
          1,
          20,
          66,
          62,
          108
         ]
        },
        {
         "name": "Topic 4",
         "type": "bar",
         "x": [
          0,
          1,
          2,
          3,
          4
         ],
         "y": [
          0,
          25,
          69,
          63,
          95
         ]
        },
        {
         "name": "Topic 5",
         "type": "bar",
         "x": [
          0,
          1,
          2,
          3,
          4
         ],
         "y": [
          0,
          23,
          61,
          54,
          90
         ]
        },
        {
         "name": "Topic 6",
         "type": "bar",
         "x": [
          0,
          1,
          2,
          3,
          4
         ],
         "y": [
          171,
          26,
          13,
          8,
          10
         ]
        },
        {
         "name": "Topic 7",
         "type": "bar",
         "x": [
          0,
          1,
          2,
          3,
          4
         ],
         "y": [
          0,
          17,
          54,
          54,
          94
         ]
        },
        {
         "name": "Topic 8",
         "type": "bar",
         "x": [
          0,
          1,
          2,
          3,
          4
         ],
         "y": [
          0,
          21,
          59,
          48,
          89
         ]
        },
        {
         "name": "Topic 9",
         "type": "bar",
         "x": [
          0,
          1,
          2,
          3,
          4
         ],
         "y": [
          0,
          20,
          67,
          51,
          36
         ]
        },
        {
         "name": "Topic 10",
         "type": "bar",
         "x": [
          0,
          1,
          2,
          3,
          4
         ],
         "y": [
          0,
          16,
          47,
          36,
          66
         ]
        },
        {
         "name": "Topic 11",
         "type": "bar",
         "x": [
          0,
          1,
          2,
          3,
          4
         ],
         "y": [
          131,
          16,
          6,
          4,
          5
         ]
        },
        {
         "name": "Topic 12",
         "type": "bar",
         "x": [
          0,
          1,
          2,
          3,
          4
         ],
         "y": [
          2,
          20,
          53,
          47,
          37
         ]
        },
        {
         "name": "Topic 13",
         "type": "bar",
         "x": [
          0,
          1,
          2,
          3,
          4
         ],
         "y": [
          0,
          15,
          41,
          28,
          61
         ]
        },
        {
         "name": "Topic 14",
         "type": "bar",
         "x": [
          0,
          1,
          2,
          3,
          4
         ],
         "y": [
          118,
          12,
          6,
          1,
          2
         ]
        },
        {
         "name": "Topic 15",
         "type": "bar",
         "x": [
          0,
          1,
          2,
          3,
          4
         ],
         "y": [
          0,
          9,
          34,
          24,
          56
         ]
        },
        {
         "name": "Topic 16",
         "type": "bar",
         "x": [
          0,
          1,
          2,
          3,
          4
         ],
         "y": [
          86,
          14,
          10,
          4,
          5
         ]
        },
        {
         "name": "Topic 17",
         "type": "bar",
         "x": [
          0,
          1,
          2,
          3,
          4
         ],
         "y": [
          93,
          8,
          8,
          1,
          5
         ]
        },
        {
         "name": "Topic 18",
         "type": "bar",
         "x": [
          0,
          1,
          2,
          3,
          4
         ],
         "y": [
          79,
          13,
          6,
          5,
          4
         ]
        },
        {
         "name": "Topic 19",
         "type": "bar",
         "x": [
          0,
          1,
          2,
          3,
          4
         ],
         "y": [
          0,
          6,
          37,
          23,
          35
         ]
        },
        {
         "name": "Topic 20",
         "type": "bar",
         "x": [
          0,
          1,
          2,
          3,
          4
         ],
         "y": [
          77,
          9,
          8,
          1,
          1
         ]
        },
        {
         "name": "Topic 21",
         "type": "bar",
         "x": [
          0,
          1,
          2,
          3,
          4
         ],
         "y": [
          2,
          8,
          20,
          21,
          38
         ]
        },
        {
         "name": "Topic 22",
         "type": "bar",
         "x": [
          0,
          1,
          2,
          3,
          4
         ],
         "y": [
          0,
          10,
          17,
          22,
          26
         ]
        },
        {
         "name": "Topic 23",
         "type": "bar",
         "x": [
          0,
          1,
          2,
          3,
          4
         ],
         "y": [
          25,
          27,
          10,
          0,
          0
         ]
        },
        {
         "name": "Topic 24",
         "type": "bar",
         "x": [
          0,
          1,
          2,
          3,
          4
         ],
         "y": [
          29,
          7,
          11,
          5,
          6
         ]
        },
        {
         "name": "Topic 25",
         "type": "bar",
         "x": [
          0,
          1,
          2,
          3,
          4
         ],
         "y": [
          1,
          3,
          7,
          7,
          38
         ]
        },
        {
         "name": "Topic 26",
         "type": "bar",
         "x": [
          0,
          1,
          2,
          3,
          4
         ],
         "y": [
          45,
          5,
          2,
          1,
          1
         ]
        },
        {
         "name": "Topic 27",
         "type": "bar",
         "x": [
          0,
          1,
          2,
          3,
          4
         ],
         "y": [
          0,
          4,
          14,
          9,
          25
         ]
        },
        {
         "name": "Topic 28",
         "type": "bar",
         "x": [
          0,
          1,
          2,
          3,
          4
         ],
         "y": [
          43,
          4,
          2,
          1,
          0
         ]
        },
        {
         "name": "Topic 29",
         "type": "bar",
         "x": [
          0,
          1,
          2,
          3,
          4
         ],
         "y": [
          0,
          5,
          13,
          10,
          22
         ]
        },
        {
         "name": "Topic 30",
         "type": "bar",
         "x": [
          0,
          1,
          2,
          3,
          4
         ],
         "y": [
          0,
          5,
          14,
          11,
          13
         ]
        },
        {
         "name": "Topic 31",
         "type": "bar",
         "x": [
          0,
          1,
          2,
          3,
          4
         ],
         "y": [
          19,
          16,
          5,
          1,
          0
         ]
        },
        {
         "name": "Topic 32",
         "type": "bar",
         "x": [
          0,
          1,
          2,
          3,
          4
         ],
         "y": [
          0,
          1,
          11,
          14,
          12
         ]
        },
        {
         "name": "Topic 33",
         "type": "bar",
         "x": [
          0,
          1,
          2,
          3,
          4
         ],
         "y": [
          0,
          2,
          8,
          9,
          19
         ]
        },
        {
         "name": "Topic 34",
         "type": "bar",
         "x": [
          0,
          1,
          2,
          3,
          4
         ],
         "y": [
          0,
          9,
          10,
          7,
          12
         ]
        },
        {
         "name": "Topic 35",
         "type": "bar",
         "x": [
          0,
          1,
          2,
          3,
          4
         ],
         "y": [
          10,
          3,
          7,
          7,
          8
         ]
        },
        {
         "name": "Topic 36",
         "type": "bar",
         "x": [
          0,
          1,
          2,
          3,
          4
         ],
         "y": [
          0,
          4,
          12,
          5,
          12
         ]
        },
        {
         "name": "Topic 37",
         "type": "bar",
         "x": [
          0,
          1,
          2,
          3,
          4
         ],
         "y": [
          10,
          5,
          7,
          2,
          8
         ]
        },
        {
         "name": "Topic 38",
         "type": "bar",
         "x": [
          0,
          1,
          2,
          3,
          4
         ],
         "y": [
          19,
          8,
          1,
          2,
          1
         ]
        },
        {
         "name": "Topic 39",
         "type": "bar",
         "x": [
          0,
          1,
          2,
          3,
          4
         ],
         "y": [
          12,
          4,
          2,
          10,
          3
         ]
        },
        {
         "name": "Topic 40",
         "type": "bar",
         "x": [
          0,
          1,
          2,
          3,
          4
         ],
         "y": [
          22,
          5,
          3,
          0,
          0
         ]
        },
        {
         "name": "Topic 41",
         "type": "bar",
         "x": [
          0,
          1,
          2,
          3,
          4
         ],
         "y": [
          30,
          0,
          0,
          0,
          0
         ]
        },
        {
         "name": "Topic 42",
         "type": "bar",
         "x": [
          0,
          1,
          2,
          3,
          4
         ],
         "y": [
          23,
          2,
          2,
          1,
          1
         ]
        },
        {
         "name": "Topic 43",
         "type": "bar",
         "x": [
          0,
          1,
          2,
          3,
          4
         ],
         "y": [
          18,
          1,
          2,
          3,
          2
         ]
        },
        {
         "name": "Topic 44",
         "type": "bar",
         "x": [
          0,
          1,
          2,
          3,
          4
         ],
         "y": [
          21,
          1,
          3,
          1,
          0
         ]
        },
        {
         "name": "Topic 45",
         "type": "bar",
         "x": [
          0,
          1,
          2,
          3,
          4
         ],
         "y": [
          0,
          2,
          7,
          5,
          10
         ]
        },
        {
         "name": "Topic 46",
         "type": "bar",
         "x": [
          0,
          1,
          2,
          3,
          4
         ],
         "y": [
          4,
          14,
          2,
          0,
          1
         ]
        },
        {
         "name": "Topic 47",
         "type": "bar",
         "x": [
          0,
          1,
          2,
          3,
          4
         ],
         "y": [
          19,
          2,
          0,
          0,
          0
         ]
        },
        {
         "name": "Topic 48",
         "type": "bar",
         "x": [
          0,
          1,
          2,
          3,
          4
         ],
         "y": [
          9,
          2,
          2,
          3,
          4
         ]
        },
        {
         "name": "Topic 49",
         "type": "bar",
         "x": [
          0,
          1,
          2,
          3,
          4
         ],
         "y": [
          0,
          1,
          8,
          5,
          5
         ]
        },
        {
         "name": "Topic 50",
         "type": "bar",
         "x": [
          0,
          1,
          2,
          3,
          4
         ],
         "y": [
          14,
          2,
          1,
          1,
          0
         ]
        },
        {
         "name": "Topic 51",
         "type": "bar",
         "x": [
          0,
          1,
          2,
          3,
          4
         ],
         "y": [
          0,
          4,
          3,
          4,
          5
         ]
        },
        {
         "name": "Topic 52",
         "type": "bar",
         "x": [
          0,
          1,
          2,
          3,
          4
         ],
         "y": [
          11,
          4,
          0,
          0,
          0
         ]
        },
        {
         "name": "Topic 53",
         "type": "bar",
         "x": [
          0,
          1,
          2,
          3,
          4
         ],
         "y": [
          0,
          1,
          4,
          2,
          7
         ]
        },
        {
         "name": "Topic 54",
         "type": "bar",
         "x": [
          0,
          1,
          2,
          3,
          4
         ],
         "y": [
          0,
          2,
          4,
          4,
          4
         ]
        },
        {
         "name": "Topic 55",
         "type": "bar",
         "x": [
          0,
          1,
          2,
          3,
          4
         ],
         "y": [
          9,
          2,
          2,
          0,
          0
         ]
        },
        {
         "name": "Topic 56",
         "type": "bar",
         "x": [
          0,
          1,
          2,
          3,
          4
         ],
         "y": [
          6,
          6,
          1,
          0,
          0
         ]
        },
        {
         "name": "Topic 57",
         "type": "bar",
         "x": [
          0,
          1,
          2,
          3,
          4
         ],
         "y": [
          6,
          4,
          0,
          1,
          2
         ]
        }
       ],
       "layout": {
        "sliders": [
         {
          "active": 0,
          "currentvalue": {
           "prefix": "Selected Topic: "
          },
          "pad": {
           "t": 50
          },
          "steps": [
           {
            "args": [
             {
              "visible": [
               true,
               false,
               false,
               false,
               false,
               false,
               false,
               false,
               false,
               false,
               false,
               false,
               false,
               false,
               false,
               false,
               false,
               false,
               false,
               false,
               false,
               false,
               false,
               false,
               false,
               false,
               false,
               false,
               false,
               false,
               false,
               false,
               false,
               false,
               false,
               false,
               false,
               false,
               false,
               false,
               false,
               false,
               false,
               false,
               false,
               false,
               false,
               false,
               false,
               false,
               false,
               false,
               false,
               false,
               false,
               false,
               false,
               false,
               false
              ]
             },
             {
              "title": "Topic -1"
             }
            ],
            "label": "Topic -1",
            "method": "update"
           },
           {
            "args": [
             {
              "visible": [
               false,
               true,
               false,
               false,
               false,
               false,
               false,
               false,
               false,
               false,
               false,
               false,
               false,
               false,
               false,
               false,
               false,
               false,
               false,
               false,
               false,
               false,
               false,
               false,
               false,
               false,
               false,
               false,
               false,
               false,
               false,
               false,
               false,
               false,
               false,
               false,
               false,
               false,
               false,
               false,
               false,
               false,
               false,
               false,
               false,
               false,
               false,
               false,
               false,
               false,
               false,
               false,
               false,
               false,
               false,
               false,
               false,
               false,
               false
              ]
             },
             {
              "title": "Topic 0"
             }
            ],
            "label": "Topic 0",
            "method": "update"
           },
           {
            "args": [
             {
              "visible": [
               false,
               false,
               true,
               false,
               false,
               false,
               false,
               false,
               false,
               false,
               false,
               false,
               false,
               false,
               false,
               false,
               false,
               false,
               false,
               false,
               false,
               false,
               false,
               false,
               false,
               false,
               false,
               false,
               false,
               false,
               false,
               false,
               false,
               false,
               false,
               false,
               false,
               false,
               false,
               false,
               false,
               false,
               false,
               false,
               false,
               false,
               false,
               false,
               false,
               false,
               false,
               false,
               false,
               false,
               false,
               false,
               false,
               false,
               false
              ]
             },
             {
              "title": "Topic 1"
             }
            ],
            "label": "Topic 1",
            "method": "update"
           },
           {
            "args": [
             {
              "visible": [
               false,
               false,
               false,
               true,
               false,
               false,
               false,
               false,
               false,
               false,
               false,
               false,
               false,
               false,
               false,
               false,
               false,
               false,
               false,
               false,
               false,
               false,
               false,
               false,
               false,
               false,
               false,
               false,
               false,
               false,
               false,
               false,
               false,
               false,
               false,
               false,
               false,
               false,
               false,
               false,
               false,
               false,
               false,
               false,
               false,
               false,
               false,
               false,
               false,
               false,
               false,
               false,
               false,
               false,
               false,
               false,
               false,
               false,
               false
              ]
             },
             {
              "title": "Topic 2"
             }
            ],
            "label": "Topic 2",
            "method": "update"
           },
           {
            "args": [
             {
              "visible": [
               false,
               false,
               false,
               false,
               true,
               false,
               false,
               false,
               false,
               false,
               false,
               false,
               false,
               false,
               false,
               false,
               false,
               false,
               false,
               false,
               false,
               false,
               false,
               false,
               false,
               false,
               false,
               false,
               false,
               false,
               false,
               false,
               false,
               false,
               false,
               false,
               false,
               false,
               false,
               false,
               false,
               false,
               false,
               false,
               false,
               false,
               false,
               false,
               false,
               false,
               false,
               false,
               false,
               false,
               false,
               false,
               false,
               false,
               false
              ]
             },
             {
              "title": "Topic 3"
             }
            ],
            "label": "Topic 3",
            "method": "update"
           },
           {
            "args": [
             {
              "visible": [
               false,
               false,
               false,
               false,
               false,
               true,
               false,
               false,
               false,
               false,
               false,
               false,
               false,
               false,
               false,
               false,
               false,
               false,
               false,
               false,
               false,
               false,
               false,
               false,
               false,
               false,
               false,
               false,
               false,
               false,
               false,
               false,
               false,
               false,
               false,
               false,
               false,
               false,
               false,
               false,
               false,
               false,
               false,
               false,
               false,
               false,
               false,
               false,
               false,
               false,
               false,
               false,
               false,
               false,
               false,
               false,
               false,
               false,
               false
              ]
             },
             {
              "title": "Topic 4"
             }
            ],
            "label": "Topic 4",
            "method": "update"
           },
           {
            "args": [
             {
              "visible": [
               false,
               false,
               false,
               false,
               false,
               false,
               true,
               false,
               false,
               false,
               false,
               false,
               false,
               false,
               false,
               false,
               false,
               false,
               false,
               false,
               false,
               false,
               false,
               false,
               false,
               false,
               false,
               false,
               false,
               false,
               false,
               false,
               false,
               false,
               false,
               false,
               false,
               false,
               false,
               false,
               false,
               false,
               false,
               false,
               false,
               false,
               false,
               false,
               false,
               false,
               false,
               false,
               false,
               false,
               false,
               false,
               false,
               false,
               false
              ]
             },
             {
              "title": "Topic 5"
             }
            ],
            "label": "Topic 5",
            "method": "update"
           },
           {
            "args": [
             {
              "visible": [
               false,
               false,
               false,
               false,
               false,
               false,
               false,
               true,
               false,
               false,
               false,
               false,
               false,
               false,
               false,
               false,
               false,
               false,
               false,
               false,
               false,
               false,
               false,
               false,
               false,
               false,
               false,
               false,
               false,
               false,
               false,
               false,
               false,
               false,
               false,
               false,
               false,
               false,
               false,
               false,
               false,
               false,
               false,
               false,
               false,
               false,
               false,
               false,
               false,
               false,
               false,
               false,
               false,
               false,
               false,
               false,
               false,
               false,
               false
              ]
             },
             {
              "title": "Topic 6"
             }
            ],
            "label": "Topic 6",
            "method": "update"
           },
           {
            "args": [
             {
              "visible": [
               false,
               false,
               false,
               false,
               false,
               false,
               false,
               false,
               true,
               false,
               false,
               false,
               false,
               false,
               false,
               false,
               false,
               false,
               false,
               false,
               false,
               false,
               false,
               false,
               false,
               false,
               false,
               false,
               false,
               false,
               false,
               false,
               false,
               false,
               false,
               false,
               false,
               false,
               false,
               false,
               false,
               false,
               false,
               false,
               false,
               false,
               false,
               false,
               false,
               false,
               false,
               false,
               false,
               false,
               false,
               false,
               false,
               false,
               false
              ]
             },
             {
              "title": "Topic 7"
             }
            ],
            "label": "Topic 7",
            "method": "update"
           },
           {
            "args": [
             {
              "visible": [
               false,
               false,
               false,
               false,
               false,
               false,
               false,
               false,
               false,
               true,
               false,
               false,
               false,
               false,
               false,
               false,
               false,
               false,
               false,
               false,
               false,
               false,
               false,
               false,
               false,
               false,
               false,
               false,
               false,
               false,
               false,
               false,
               false,
               false,
               false,
               false,
               false,
               false,
               false,
               false,
               false,
               false,
               false,
               false,
               false,
               false,
               false,
               false,
               false,
               false,
               false,
               false,
               false,
               false,
               false,
               false,
               false,
               false,
               false
              ]
             },
             {
              "title": "Topic 8"
             }
            ],
            "label": "Topic 8",
            "method": "update"
           },
           {
            "args": [
             {
              "visible": [
               false,
               false,
               false,
               false,
               false,
               false,
               false,
               false,
               false,
               false,
               true,
               false,
               false,
               false,
               false,
               false,
               false,
               false,
               false,
               false,
               false,
               false,
               false,
               false,
               false,
               false,
               false,
               false,
               false,
               false,
               false,
               false,
               false,
               false,
               false,
               false,
               false,
               false,
               false,
               false,
               false,
               false,
               false,
               false,
               false,
               false,
               false,
               false,
               false,
               false,
               false,
               false,
               false,
               false,
               false,
               false,
               false,
               false,
               false
              ]
             },
             {
              "title": "Topic 9"
             }
            ],
            "label": "Topic 9",
            "method": "update"
           },
           {
            "args": [
             {
              "visible": [
               false,
               false,
               false,
               false,
               false,
               false,
               false,
               false,
               false,
               false,
               false,
               true,
               false,
               false,
               false,
               false,
               false,
               false,
               false,
               false,
               false,
               false,
               false,
               false,
               false,
               false,
               false,
               false,
               false,
               false,
               false,
               false,
               false,
               false,
               false,
               false,
               false,
               false,
               false,
               false,
               false,
               false,
               false,
               false,
               false,
               false,
               false,
               false,
               false,
               false,
               false,
               false,
               false,
               false,
               false,
               false,
               false,
               false,
               false
              ]
             },
             {
              "title": "Topic 10"
             }
            ],
            "label": "Topic 10",
            "method": "update"
           },
           {
            "args": [
             {
              "visible": [
               false,
               false,
               false,
               false,
               false,
               false,
               false,
               false,
               false,
               false,
               false,
               false,
               true,
               false,
               false,
               false,
               false,
               false,
               false,
               false,
               false,
               false,
               false,
               false,
               false,
               false,
               false,
               false,
               false,
               false,
               false,
               false,
               false,
               false,
               false,
               false,
               false,
               false,
               false,
               false,
               false,
               false,
               false,
               false,
               false,
               false,
               false,
               false,
               false,
               false,
               false,
               false,
               false,
               false,
               false,
               false,
               false,
               false,
               false
              ]
             },
             {
              "title": "Topic 11"
             }
            ],
            "label": "Topic 11",
            "method": "update"
           },
           {
            "args": [
             {
              "visible": [
               false,
               false,
               false,
               false,
               false,
               false,
               false,
               false,
               false,
               false,
               false,
               false,
               false,
               true,
               false,
               false,
               false,
               false,
               false,
               false,
               false,
               false,
               false,
               false,
               false,
               false,
               false,
               false,
               false,
               false,
               false,
               false,
               false,
               false,
               false,
               false,
               false,
               false,
               false,
               false,
               false,
               false,
               false,
               false,
               false,
               false,
               false,
               false,
               false,
               false,
               false,
               false,
               false,
               false,
               false,
               false,
               false,
               false,
               false
              ]
             },
             {
              "title": "Topic 12"
             }
            ],
            "label": "Topic 12",
            "method": "update"
           },
           {
            "args": [
             {
              "visible": [
               false,
               false,
               false,
               false,
               false,
               false,
               false,
               false,
               false,
               false,
               false,
               false,
               false,
               false,
               true,
               false,
               false,
               false,
               false,
               false,
               false,
               false,
               false,
               false,
               false,
               false,
               false,
               false,
               false,
               false,
               false,
               false,
               false,
               false,
               false,
               false,
               false,
               false,
               false,
               false,
               false,
               false,
               false,
               false,
               false,
               false,
               false,
               false,
               false,
               false,
               false,
               false,
               false,
               false,
               false,
               false,
               false,
               false,
               false
              ]
             },
             {
              "title": "Topic 13"
             }
            ],
            "label": "Topic 13",
            "method": "update"
           },
           {
            "args": [
             {
              "visible": [
               false,
               false,
               false,
               false,
               false,
               false,
               false,
               false,
               false,
               false,
               false,
               false,
               false,
               false,
               false,
               true,
               false,
               false,
               false,
               false,
               false,
               false,
               false,
               false,
               false,
               false,
               false,
               false,
               false,
               false,
               false,
               false,
               false,
               false,
               false,
               false,
               false,
               false,
               false,
               false,
               false,
               false,
               false,
               false,
               false,
               false,
               false,
               false,
               false,
               false,
               false,
               false,
               false,
               false,
               false,
               false,
               false,
               false,
               false
              ]
             },
             {
              "title": "Topic 14"
             }
            ],
            "label": "Topic 14",
            "method": "update"
           },
           {
            "args": [
             {
              "visible": [
               false,
               false,
               false,
               false,
               false,
               false,
               false,
               false,
               false,
               false,
               false,
               false,
               false,
               false,
               false,
               false,
               true,
               false,
               false,
               false,
               false,
               false,
               false,
               false,
               false,
               false,
               false,
               false,
               false,
               false,
               false,
               false,
               false,
               false,
               false,
               false,
               false,
               false,
               false,
               false,
               false,
               false,
               false,
               false,
               false,
               false,
               false,
               false,
               false,
               false,
               false,
               false,
               false,
               false,
               false,
               false,
               false,
               false,
               false
              ]
             },
             {
              "title": "Topic 15"
             }
            ],
            "label": "Topic 15",
            "method": "update"
           },
           {
            "args": [
             {
              "visible": [
               false,
               false,
               false,
               false,
               false,
               false,
               false,
               false,
               false,
               false,
               false,
               false,
               false,
               false,
               false,
               false,
               false,
               true,
               false,
               false,
               false,
               false,
               false,
               false,
               false,
               false,
               false,
               false,
               false,
               false,
               false,
               false,
               false,
               false,
               false,
               false,
               false,
               false,
               false,
               false,
               false,
               false,
               false,
               false,
               false,
               false,
               false,
               false,
               false,
               false,
               false,
               false,
               false,
               false,
               false,
               false,
               false,
               false,
               false
              ]
             },
             {
              "title": "Topic 16"
             }
            ],
            "label": "Topic 16",
            "method": "update"
           },
           {
            "args": [
             {
              "visible": [
               false,
               false,
               false,
               false,
               false,
               false,
               false,
               false,
               false,
               false,
               false,
               false,
               false,
               false,
               false,
               false,
               false,
               false,
               true,
               false,
               false,
               false,
               false,
               false,
               false,
               false,
               false,
               false,
               false,
               false,
               false,
               false,
               false,
               false,
               false,
               false,
               false,
               false,
               false,
               false,
               false,
               false,
               false,
               false,
               false,
               false,
               false,
               false,
               false,
               false,
               false,
               false,
               false,
               false,
               false,
               false,
               false,
               false,
               false
              ]
             },
             {
              "title": "Topic 17"
             }
            ],
            "label": "Topic 17",
            "method": "update"
           },
           {
            "args": [
             {
              "visible": [
               false,
               false,
               false,
               false,
               false,
               false,
               false,
               false,
               false,
               false,
               false,
               false,
               false,
               false,
               false,
               false,
               false,
               false,
               false,
               true,
               false,
               false,
               false,
               false,
               false,
               false,
               false,
               false,
               false,
               false,
               false,
               false,
               false,
               false,
               false,
               false,
               false,
               false,
               false,
               false,
               false,
               false,
               false,
               false,
               false,
               false,
               false,
               false,
               false,
               false,
               false,
               false,
               false,
               false,
               false,
               false,
               false,
               false,
               false
              ]
             },
             {
              "title": "Topic 18"
             }
            ],
            "label": "Topic 18",
            "method": "update"
           },
           {
            "args": [
             {
              "visible": [
               false,
               false,
               false,
               false,
               false,
               false,
               false,
               false,
               false,
               false,
               false,
               false,
               false,
               false,
               false,
               false,
               false,
               false,
               false,
               false,
               true,
               false,
               false,
               false,
               false,
               false,
               false,
               false,
               false,
               false,
               false,
               false,
               false,
               false,
               false,
               false,
               false,
               false,
               false,
               false,
               false,
               false,
               false,
               false,
               false,
               false,
               false,
               false,
               false,
               false,
               false,
               false,
               false,
               false,
               false,
               false,
               false,
               false,
               false
              ]
             },
             {
              "title": "Topic 19"
             }
            ],
            "label": "Topic 19",
            "method": "update"
           },
           {
            "args": [
             {
              "visible": [
               false,
               false,
               false,
               false,
               false,
               false,
               false,
               false,
               false,
               false,
               false,
               false,
               false,
               false,
               false,
               false,
               false,
               false,
               false,
               false,
               false,
               true,
               false,
               false,
               false,
               false,
               false,
               false,
               false,
               false,
               false,
               false,
               false,
               false,
               false,
               false,
               false,
               false,
               false,
               false,
               false,
               false,
               false,
               false,
               false,
               false,
               false,
               false,
               false,
               false,
               false,
               false,
               false,
               false,
               false,
               false,
               false,
               false,
               false
              ]
             },
             {
              "title": "Topic 20"
             }
            ],
            "label": "Topic 20",
            "method": "update"
           },
           {
            "args": [
             {
              "visible": [
               false,
               false,
               false,
               false,
               false,
               false,
               false,
               false,
               false,
               false,
               false,
               false,
               false,
               false,
               false,
               false,
               false,
               false,
               false,
               false,
               false,
               false,
               true,
               false,
               false,
               false,
               false,
               false,
               false,
               false,
               false,
               false,
               false,
               false,
               false,
               false,
               false,
               false,
               false,
               false,
               false,
               false,
               false,
               false,
               false,
               false,
               false,
               false,
               false,
               false,
               false,
               false,
               false,
               false,
               false,
               false,
               false,
               false,
               false
              ]
             },
             {
              "title": "Topic 21"
             }
            ],
            "label": "Topic 21",
            "method": "update"
           },
           {
            "args": [
             {
              "visible": [
               false,
               false,
               false,
               false,
               false,
               false,
               false,
               false,
               false,
               false,
               false,
               false,
               false,
               false,
               false,
               false,
               false,
               false,
               false,
               false,
               false,
               false,
               false,
               true,
               false,
               false,
               false,
               false,
               false,
               false,
               false,
               false,
               false,
               false,
               false,
               false,
               false,
               false,
               false,
               false,
               false,
               false,
               false,
               false,
               false,
               false,
               false,
               false,
               false,
               false,
               false,
               false,
               false,
               false,
               false,
               false,
               false,
               false,
               false
              ]
             },
             {
              "title": "Topic 22"
             }
            ],
            "label": "Topic 22",
            "method": "update"
           },
           {
            "args": [
             {
              "visible": [
               false,
               false,
               false,
               false,
               false,
               false,
               false,
               false,
               false,
               false,
               false,
               false,
               false,
               false,
               false,
               false,
               false,
               false,
               false,
               false,
               false,
               false,
               false,
               false,
               true,
               false,
               false,
               false,
               false,
               false,
               false,
               false,
               false,
               false,
               false,
               false,
               false,
               false,
               false,
               false,
               false,
               false,
               false,
               false,
               false,
               false,
               false,
               false,
               false,
               false,
               false,
               false,
               false,
               false,
               false,
               false,
               false,
               false,
               false
              ]
             },
             {
              "title": "Topic 23"
             }
            ],
            "label": "Topic 23",
            "method": "update"
           },
           {
            "args": [
             {
              "visible": [
               false,
               false,
               false,
               false,
               false,
               false,
               false,
               false,
               false,
               false,
               false,
               false,
               false,
               false,
               false,
               false,
               false,
               false,
               false,
               false,
               false,
               false,
               false,
               false,
               false,
               true,
               false,
               false,
               false,
               false,
               false,
               false,
               false,
               false,
               false,
               false,
               false,
               false,
               false,
               false,
               false,
               false,
               false,
               false,
               false,
               false,
               false,
               false,
               false,
               false,
               false,
               false,
               false,
               false,
               false,
               false,
               false,
               false,
               false
              ]
             },
             {
              "title": "Topic 24"
             }
            ],
            "label": "Topic 24",
            "method": "update"
           },
           {
            "args": [
             {
              "visible": [
               false,
               false,
               false,
               false,
               false,
               false,
               false,
               false,
               false,
               false,
               false,
               false,
               false,
               false,
               false,
               false,
               false,
               false,
               false,
               false,
               false,
               false,
               false,
               false,
               false,
               false,
               true,
               false,
               false,
               false,
               false,
               false,
               false,
               false,
               false,
               false,
               false,
               false,
               false,
               false,
               false,
               false,
               false,
               false,
               false,
               false,
               false,
               false,
               false,
               false,
               false,
               false,
               false,
               false,
               false,
               false,
               false,
               false,
               false
              ]
             },
             {
              "title": "Topic 25"
             }
            ],
            "label": "Topic 25",
            "method": "update"
           },
           {
            "args": [
             {
              "visible": [
               false,
               false,
               false,
               false,
               false,
               false,
               false,
               false,
               false,
               false,
               false,
               false,
               false,
               false,
               false,
               false,
               false,
               false,
               false,
               false,
               false,
               false,
               false,
               false,
               false,
               false,
               false,
               true,
               false,
               false,
               false,
               false,
               false,
               false,
               false,
               false,
               false,
               false,
               false,
               false,
               false,
               false,
               false,
               false,
               false,
               false,
               false,
               false,
               false,
               false,
               false,
               false,
               false,
               false,
               false,
               false,
               false,
               false,
               false
              ]
             },
             {
              "title": "Topic 26"
             }
            ],
            "label": "Topic 26",
            "method": "update"
           },
           {
            "args": [
             {
              "visible": [
               false,
               false,
               false,
               false,
               false,
               false,
               false,
               false,
               false,
               false,
               false,
               false,
               false,
               false,
               false,
               false,
               false,
               false,
               false,
               false,
               false,
               false,
               false,
               false,
               false,
               false,
               false,
               false,
               true,
               false,
               false,
               false,
               false,
               false,
               false,
               false,
               false,
               false,
               false,
               false,
               false,
               false,
               false,
               false,
               false,
               false,
               false,
               false,
               false,
               false,
               false,
               false,
               false,
               false,
               false,
               false,
               false,
               false,
               false
              ]
             },
             {
              "title": "Topic 27"
             }
            ],
            "label": "Topic 27",
            "method": "update"
           },
           {
            "args": [
             {
              "visible": [
               false,
               false,
               false,
               false,
               false,
               false,
               false,
               false,
               false,
               false,
               false,
               false,
               false,
               false,
               false,
               false,
               false,
               false,
               false,
               false,
               false,
               false,
               false,
               false,
               false,
               false,
               false,
               false,
               false,
               true,
               false,
               false,
               false,
               false,
               false,
               false,
               false,
               false,
               false,
               false,
               false,
               false,
               false,
               false,
               false,
               false,
               false,
               false,
               false,
               false,
               false,
               false,
               false,
               false,
               false,
               false,
               false,
               false,
               false
              ]
             },
             {
              "title": "Topic 28"
             }
            ],
            "label": "Topic 28",
            "method": "update"
           },
           {
            "args": [
             {
              "visible": [
               false,
               false,
               false,
               false,
               false,
               false,
               false,
               false,
               false,
               false,
               false,
               false,
               false,
               false,
               false,
               false,
               false,
               false,
               false,
               false,
               false,
               false,
               false,
               false,
               false,
               false,
               false,
               false,
               false,
               false,
               true,
               false,
               false,
               false,
               false,
               false,
               false,
               false,
               false,
               false,
               false,
               false,
               false,
               false,
               false,
               false,
               false,
               false,
               false,
               false,
               false,
               false,
               false,
               false,
               false,
               false,
               false,
               false,
               false
              ]
             },
             {
              "title": "Topic 29"
             }
            ],
            "label": "Topic 29",
            "method": "update"
           },
           {
            "args": [
             {
              "visible": [
               false,
               false,
               false,
               false,
               false,
               false,
               false,
               false,
               false,
               false,
               false,
               false,
               false,
               false,
               false,
               false,
               false,
               false,
               false,
               false,
               false,
               false,
               false,
               false,
               false,
               false,
               false,
               false,
               false,
               false,
               false,
               true,
               false,
               false,
               false,
               false,
               false,
               false,
               false,
               false,
               false,
               false,
               false,
               false,
               false,
               false,
               false,
               false,
               false,
               false,
               false,
               false,
               false,
               false,
               false,
               false,
               false,
               false,
               false
              ]
             },
             {
              "title": "Topic 30"
             }
            ],
            "label": "Topic 30",
            "method": "update"
           },
           {
            "args": [
             {
              "visible": [
               false,
               false,
               false,
               false,
               false,
               false,
               false,
               false,
               false,
               false,
               false,
               false,
               false,
               false,
               false,
               false,
               false,
               false,
               false,
               false,
               false,
               false,
               false,
               false,
               false,
               false,
               false,
               false,
               false,
               false,
               false,
               false,
               true,
               false,
               false,
               false,
               false,
               false,
               false,
               false,
               false,
               false,
               false,
               false,
               false,
               false,
               false,
               false,
               false,
               false,
               false,
               false,
               false,
               false,
               false,
               false,
               false,
               false,
               false
              ]
             },
             {
              "title": "Topic 31"
             }
            ],
            "label": "Topic 31",
            "method": "update"
           },
           {
            "args": [
             {
              "visible": [
               false,
               false,
               false,
               false,
               false,
               false,
               false,
               false,
               false,
               false,
               false,
               false,
               false,
               false,
               false,
               false,
               false,
               false,
               false,
               false,
               false,
               false,
               false,
               false,
               false,
               false,
               false,
               false,
               false,
               false,
               false,
               false,
               false,
               true,
               false,
               false,
               false,
               false,
               false,
               false,
               false,
               false,
               false,
               false,
               false,
               false,
               false,
               false,
               false,
               false,
               false,
               false,
               false,
               false,
               false,
               false,
               false,
               false,
               false
              ]
             },
             {
              "title": "Topic 32"
             }
            ],
            "label": "Topic 32",
            "method": "update"
           },
           {
            "args": [
             {
              "visible": [
               false,
               false,
               false,
               false,
               false,
               false,
               false,
               false,
               false,
               false,
               false,
               false,
               false,
               false,
               false,
               false,
               false,
               false,
               false,
               false,
               false,
               false,
               false,
               false,
               false,
               false,
               false,
               false,
               false,
               false,
               false,
               false,
               false,
               false,
               true,
               false,
               false,
               false,
               false,
               false,
               false,
               false,
               false,
               false,
               false,
               false,
               false,
               false,
               false,
               false,
               false,
               false,
               false,
               false,
               false,
               false,
               false,
               false,
               false
              ]
             },
             {
              "title": "Topic 33"
             }
            ],
            "label": "Topic 33",
            "method": "update"
           },
           {
            "args": [
             {
              "visible": [
               false,
               false,
               false,
               false,
               false,
               false,
               false,
               false,
               false,
               false,
               false,
               false,
               false,
               false,
               false,
               false,
               false,
               false,
               false,
               false,
               false,
               false,
               false,
               false,
               false,
               false,
               false,
               false,
               false,
               false,
               false,
               false,
               false,
               false,
               false,
               true,
               false,
               false,
               false,
               false,
               false,
               false,
               false,
               false,
               false,
               false,
               false,
               false,
               false,
               false,
               false,
               false,
               false,
               false,
               false,
               false,
               false,
               false,
               false
              ]
             },
             {
              "title": "Topic 34"
             }
            ],
            "label": "Topic 34",
            "method": "update"
           },
           {
            "args": [
             {
              "visible": [
               false,
               false,
               false,
               false,
               false,
               false,
               false,
               false,
               false,
               false,
               false,
               false,
               false,
               false,
               false,
               false,
               false,
               false,
               false,
               false,
               false,
               false,
               false,
               false,
               false,
               false,
               false,
               false,
               false,
               false,
               false,
               false,
               false,
               false,
               false,
               false,
               true,
               false,
               false,
               false,
               false,
               false,
               false,
               false,
               false,
               false,
               false,
               false,
               false,
               false,
               false,
               false,
               false,
               false,
               false,
               false,
               false,
               false,
               false
              ]
             },
             {
              "title": "Topic 35"
             }
            ],
            "label": "Topic 35",
            "method": "update"
           },
           {
            "args": [
             {
              "visible": [
               false,
               false,
               false,
               false,
               false,
               false,
               false,
               false,
               false,
               false,
               false,
               false,
               false,
               false,
               false,
               false,
               false,
               false,
               false,
               false,
               false,
               false,
               false,
               false,
               false,
               false,
               false,
               false,
               false,
               false,
               false,
               false,
               false,
               false,
               false,
               false,
               false,
               true,
               false,
               false,
               false,
               false,
               false,
               false,
               false,
               false,
               false,
               false,
               false,
               false,
               false,
               false,
               false,
               false,
               false,
               false,
               false,
               false,
               false
              ]
             },
             {
              "title": "Topic 36"
             }
            ],
            "label": "Topic 36",
            "method": "update"
           },
           {
            "args": [
             {
              "visible": [
               false,
               false,
               false,
               false,
               false,
               false,
               false,
               false,
               false,
               false,
               false,
               false,
               false,
               false,
               false,
               false,
               false,
               false,
               false,
               false,
               false,
               false,
               false,
               false,
               false,
               false,
               false,
               false,
               false,
               false,
               false,
               false,
               false,
               false,
               false,
               false,
               false,
               false,
               true,
               false,
               false,
               false,
               false,
               false,
               false,
               false,
               false,
               false,
               false,
               false,
               false,
               false,
               false,
               false,
               false,
               false,
               false,
               false,
               false
              ]
             },
             {
              "title": "Topic 37"
             }
            ],
            "label": "Topic 37",
            "method": "update"
           },
           {
            "args": [
             {
              "visible": [
               false,
               false,
               false,
               false,
               false,
               false,
               false,
               false,
               false,
               false,
               false,
               false,
               false,
               false,
               false,
               false,
               false,
               false,
               false,
               false,
               false,
               false,
               false,
               false,
               false,
               false,
               false,
               false,
               false,
               false,
               false,
               false,
               false,
               false,
               false,
               false,
               false,
               false,
               false,
               true,
               false,
               false,
               false,
               false,
               false,
               false,
               false,
               false,
               false,
               false,
               false,
               false,
               false,
               false,
               false,
               false,
               false,
               false,
               false
              ]
             },
             {
              "title": "Topic 38"
             }
            ],
            "label": "Topic 38",
            "method": "update"
           },
           {
            "args": [
             {
              "visible": [
               false,
               false,
               false,
               false,
               false,
               false,
               false,
               false,
               false,
               false,
               false,
               false,
               false,
               false,
               false,
               false,
               false,
               false,
               false,
               false,
               false,
               false,
               false,
               false,
               false,
               false,
               false,
               false,
               false,
               false,
               false,
               false,
               false,
               false,
               false,
               false,
               false,
               false,
               false,
               false,
               true,
               false,
               false,
               false,
               false,
               false,
               false,
               false,
               false,
               false,
               false,
               false,
               false,
               false,
               false,
               false,
               false,
               false,
               false
              ]
             },
             {
              "title": "Topic 39"
             }
            ],
            "label": "Topic 39",
            "method": "update"
           },
           {
            "args": [
             {
              "visible": [
               false,
               false,
               false,
               false,
               false,
               false,
               false,
               false,
               false,
               false,
               false,
               false,
               false,
               false,
               false,
               false,
               false,
               false,
               false,
               false,
               false,
               false,
               false,
               false,
               false,
               false,
               false,
               false,
               false,
               false,
               false,
               false,
               false,
               false,
               false,
               false,
               false,
               false,
               false,
               false,
               false,
               true,
               false,
               false,
               false,
               false,
               false,
               false,
               false,
               false,
               false,
               false,
               false,
               false,
               false,
               false,
               false,
               false,
               false
              ]
             },
             {
              "title": "Topic 40"
             }
            ],
            "label": "Topic 40",
            "method": "update"
           },
           {
            "args": [
             {
              "visible": [
               false,
               false,
               false,
               false,
               false,
               false,
               false,
               false,
               false,
               false,
               false,
               false,
               false,
               false,
               false,
               false,
               false,
               false,
               false,
               false,
               false,
               false,
               false,
               false,
               false,
               false,
               false,
               false,
               false,
               false,
               false,
               false,
               false,
               false,
               false,
               false,
               false,
               false,
               false,
               false,
               false,
               false,
               true,
               false,
               false,
               false,
               false,
               false,
               false,
               false,
               false,
               false,
               false,
               false,
               false,
               false,
               false,
               false,
               false
              ]
             },
             {
              "title": "Topic 41"
             }
            ],
            "label": "Topic 41",
            "method": "update"
           },
           {
            "args": [
             {
              "visible": [
               false,
               false,
               false,
               false,
               false,
               false,
               false,
               false,
               false,
               false,
               false,
               false,
               false,
               false,
               false,
               false,
               false,
               false,
               false,
               false,
               false,
               false,
               false,
               false,
               false,
               false,
               false,
               false,
               false,
               false,
               false,
               false,
               false,
               false,
               false,
               false,
               false,
               false,
               false,
               false,
               false,
               false,
               false,
               true,
               false,
               false,
               false,
               false,
               false,
               false,
               false,
               false,
               false,
               false,
               false,
               false,
               false,
               false,
               false
              ]
             },
             {
              "title": "Topic 42"
             }
            ],
            "label": "Topic 42",
            "method": "update"
           },
           {
            "args": [
             {
              "visible": [
               false,
               false,
               false,
               false,
               false,
               false,
               false,
               false,
               false,
               false,
               false,
               false,
               false,
               false,
               false,
               false,
               false,
               false,
               false,
               false,
               false,
               false,
               false,
               false,
               false,
               false,
               false,
               false,
               false,
               false,
               false,
               false,
               false,
               false,
               false,
               false,
               false,
               false,
               false,
               false,
               false,
               false,
               false,
               false,
               true,
               false,
               false,
               false,
               false,
               false,
               false,
               false,
               false,
               false,
               false,
               false,
               false,
               false,
               false
              ]
             },
             {
              "title": "Topic 43"
             }
            ],
            "label": "Topic 43",
            "method": "update"
           },
           {
            "args": [
             {
              "visible": [
               false,
               false,
               false,
               false,
               false,
               false,
               false,
               false,
               false,
               false,
               false,
               false,
               false,
               false,
               false,
               false,
               false,
               false,
               false,
               false,
               false,
               false,
               false,
               false,
               false,
               false,
               false,
               false,
               false,
               false,
               false,
               false,
               false,
               false,
               false,
               false,
               false,
               false,
               false,
               false,
               false,
               false,
               false,
               false,
               false,
               true,
               false,
               false,
               false,
               false,
               false,
               false,
               false,
               false,
               false,
               false,
               false,
               false,
               false
              ]
             },
             {
              "title": "Topic 44"
             }
            ],
            "label": "Topic 44",
            "method": "update"
           },
           {
            "args": [
             {
              "visible": [
               false,
               false,
               false,
               false,
               false,
               false,
               false,
               false,
               false,
               false,
               false,
               false,
               false,
               false,
               false,
               false,
               false,
               false,
               false,
               false,
               false,
               false,
               false,
               false,
               false,
               false,
               false,
               false,
               false,
               false,
               false,
               false,
               false,
               false,
               false,
               false,
               false,
               false,
               false,
               false,
               false,
               false,
               false,
               false,
               false,
               false,
               true,
               false,
               false,
               false,
               false,
               false,
               false,
               false,
               false,
               false,
               false,
               false,
               false
              ]
             },
             {
              "title": "Topic 45"
             }
            ],
            "label": "Topic 45",
            "method": "update"
           },
           {
            "args": [
             {
              "visible": [
               false,
               false,
               false,
               false,
               false,
               false,
               false,
               false,
               false,
               false,
               false,
               false,
               false,
               false,
               false,
               false,
               false,
               false,
               false,
               false,
               false,
               false,
               false,
               false,
               false,
               false,
               false,
               false,
               false,
               false,
               false,
               false,
               false,
               false,
               false,
               false,
               false,
               false,
               false,
               false,
               false,
               false,
               false,
               false,
               false,
               false,
               false,
               true,
               false,
               false,
               false,
               false,
               false,
               false,
               false,
               false,
               false,
               false,
               false
              ]
             },
             {
              "title": "Topic 46"
             }
            ],
            "label": "Topic 46",
            "method": "update"
           },
           {
            "args": [
             {
              "visible": [
               false,
               false,
               false,
               false,
               false,
               false,
               false,
               false,
               false,
               false,
               false,
               false,
               false,
               false,
               false,
               false,
               false,
               false,
               false,
               false,
               false,
               false,
               false,
               false,
               false,
               false,
               false,
               false,
               false,
               false,
               false,
               false,
               false,
               false,
               false,
               false,
               false,
               false,
               false,
               false,
               false,
               false,
               false,
               false,
               false,
               false,
               false,
               false,
               true,
               false,
               false,
               false,
               false,
               false,
               false,
               false,
               false,
               false,
               false
              ]
             },
             {
              "title": "Topic 47"
             }
            ],
            "label": "Topic 47",
            "method": "update"
           },
           {
            "args": [
             {
              "visible": [
               false,
               false,
               false,
               false,
               false,
               false,
               false,
               false,
               false,
               false,
               false,
               false,
               false,
               false,
               false,
               false,
               false,
               false,
               false,
               false,
               false,
               false,
               false,
               false,
               false,
               false,
               false,
               false,
               false,
               false,
               false,
               false,
               false,
               false,
               false,
               false,
               false,
               false,
               false,
               false,
               false,
               false,
               false,
               false,
               false,
               false,
               false,
               false,
               false,
               true,
               false,
               false,
               false,
               false,
               false,
               false,
               false,
               false,
               false
              ]
             },
             {
              "title": "Topic 48"
             }
            ],
            "label": "Topic 48",
            "method": "update"
           },
           {
            "args": [
             {
              "visible": [
               false,
               false,
               false,
               false,
               false,
               false,
               false,
               false,
               false,
               false,
               false,
               false,
               false,
               false,
               false,
               false,
               false,
               false,
               false,
               false,
               false,
               false,
               false,
               false,
               false,
               false,
               false,
               false,
               false,
               false,
               false,
               false,
               false,
               false,
               false,
               false,
               false,
               false,
               false,
               false,
               false,
               false,
               false,
               false,
               false,
               false,
               false,
               false,
               false,
               false,
               true,
               false,
               false,
               false,
               false,
               false,
               false,
               false,
               false
              ]
             },
             {
              "title": "Topic 49"
             }
            ],
            "label": "Topic 49",
            "method": "update"
           },
           {
            "args": [
             {
              "visible": [
               false,
               false,
               false,
               false,
               false,
               false,
               false,
               false,
               false,
               false,
               false,
               false,
               false,
               false,
               false,
               false,
               false,
               false,
               false,
               false,
               false,
               false,
               false,
               false,
               false,
               false,
               false,
               false,
               false,
               false,
               false,
               false,
               false,
               false,
               false,
               false,
               false,
               false,
               false,
               false,
               false,
               false,
               false,
               false,
               false,
               false,
               false,
               false,
               false,
               false,
               false,
               true,
               false,
               false,
               false,
               false,
               false,
               false,
               false
              ]
             },
             {
              "title": "Topic 50"
             }
            ],
            "label": "Topic 50",
            "method": "update"
           },
           {
            "args": [
             {
              "visible": [
               false,
               false,
               false,
               false,
               false,
               false,
               false,
               false,
               false,
               false,
               false,
               false,
               false,
               false,
               false,
               false,
               false,
               false,
               false,
               false,
               false,
               false,
               false,
               false,
               false,
               false,
               false,
               false,
               false,
               false,
               false,
               false,
               false,
               false,
               false,
               false,
               false,
               false,
               false,
               false,
               false,
               false,
               false,
               false,
               false,
               false,
               false,
               false,
               false,
               false,
               false,
               false,
               true,
               false,
               false,
               false,
               false,
               false,
               false
              ]
             },
             {
              "title": "Topic 51"
             }
            ],
            "label": "Topic 51",
            "method": "update"
           },
           {
            "args": [
             {
              "visible": [
               false,
               false,
               false,
               false,
               false,
               false,
               false,
               false,
               false,
               false,
               false,
               false,
               false,
               false,
               false,
               false,
               false,
               false,
               false,
               false,
               false,
               false,
               false,
               false,
               false,
               false,
               false,
               false,
               false,
               false,
               false,
               false,
               false,
               false,
               false,
               false,
               false,
               false,
               false,
               false,
               false,
               false,
               false,
               false,
               false,
               false,
               false,
               false,
               false,
               false,
               false,
               false,
               false,
               true,
               false,
               false,
               false,
               false,
               false
              ]
             },
             {
              "title": "Topic 52"
             }
            ],
            "label": "Topic 52",
            "method": "update"
           },
           {
            "args": [
             {
              "visible": [
               false,
               false,
               false,
               false,
               false,
               false,
               false,
               false,
               false,
               false,
               false,
               false,
               false,
               false,
               false,
               false,
               false,
               false,
               false,
               false,
               false,
               false,
               false,
               false,
               false,
               false,
               false,
               false,
               false,
               false,
               false,
               false,
               false,
               false,
               false,
               false,
               false,
               false,
               false,
               false,
               false,
               false,
               false,
               false,
               false,
               false,
               false,
               false,
               false,
               false,
               false,
               false,
               false,
               false,
               true,
               false,
               false,
               false,
               false
              ]
             },
             {
              "title": "Topic 53"
             }
            ],
            "label": "Topic 53",
            "method": "update"
           },
           {
            "args": [
             {
              "visible": [
               false,
               false,
               false,
               false,
               false,
               false,
               false,
               false,
               false,
               false,
               false,
               false,
               false,
               false,
               false,
               false,
               false,
               false,
               false,
               false,
               false,
               false,
               false,
               false,
               false,
               false,
               false,
               false,
               false,
               false,
               false,
               false,
               false,
               false,
               false,
               false,
               false,
               false,
               false,
               false,
               false,
               false,
               false,
               false,
               false,
               false,
               false,
               false,
               false,
               false,
               false,
               false,
               false,
               false,
               false,
               true,
               false,
               false,
               false
              ]
             },
             {
              "title": "Topic 54"
             }
            ],
            "label": "Topic 54",
            "method": "update"
           },
           {
            "args": [
             {
              "visible": [
               false,
               false,
               false,
               false,
               false,
               false,
               false,
               false,
               false,
               false,
               false,
               false,
               false,
               false,
               false,
               false,
               false,
               false,
               false,
               false,
               false,
               false,
               false,
               false,
               false,
               false,
               false,
               false,
               false,
               false,
               false,
               false,
               false,
               false,
               false,
               false,
               false,
               false,
               false,
               false,
               false,
               false,
               false,
               false,
               false,
               false,
               false,
               false,
               false,
               false,
               false,
               false,
               false,
               false,
               false,
               false,
               true,
               false,
               false
              ]
             },
             {
              "title": "Topic 55"
             }
            ],
            "label": "Topic 55",
            "method": "update"
           },
           {
            "args": [
             {
              "visible": [
               false,
               false,
               false,
               false,
               false,
               false,
               false,
               false,
               false,
               false,
               false,
               false,
               false,
               false,
               false,
               false,
               false,
               false,
               false,
               false,
               false,
               false,
               false,
               false,
               false,
               false,
               false,
               false,
               false,
               false,
               false,
               false,
               false,
               false,
               false,
               false,
               false,
               false,
               false,
               false,
               false,
               false,
               false,
               false,
               false,
               false,
               false,
               false,
               false,
               false,
               false,
               false,
               false,
               false,
               false,
               false,
               false,
               true,
               false
              ]
             },
             {
              "title": "Topic 56"
             }
            ],
            "label": "Topic 56",
            "method": "update"
           },
           {
            "args": [
             {
              "visible": [
               false,
               false,
               false,
               false,
               false,
               false,
               false,
               false,
               false,
               false,
               false,
               false,
               false,
               false,
               false,
               false,
               false,
               false,
               false,
               false,
               false,
               false,
               false,
               false,
               false,
               false,
               false,
               false,
               false,
               false,
               false,
               false,
               false,
               false,
               false,
               false,
               false,
               false,
               false,
               false,
               false,
               false,
               false,
               false,
               false,
               false,
               false,
               false,
               false,
               false,
               false,
               false,
               false,
               false,
               false,
               false,
               false,
               false,
               true
              ]
             },
             {
              "title": "Topic 57"
             }
            ],
            "label": "Topic 57",
            "method": "update"
           }
          ]
         }
        ],
        "template": {
         "data": {
          "bar": [
           {
            "error_x": {
             "color": "#2a3f5f"
            },
            "error_y": {
             "color": "#2a3f5f"
            },
            "marker": {
             "line": {
              "color": "#E5ECF6",
              "width": 0.5
             },
             "pattern": {
              "fillmode": "overlay",
              "size": 10,
              "solidity": 0.2
             }
            },
            "type": "bar"
           }
          ],
          "barpolar": [
           {
            "marker": {
             "line": {
              "color": "#E5ECF6",
              "width": 0.5
             },
             "pattern": {
              "fillmode": "overlay",
              "size": 10,
              "solidity": 0.2
             }
            },
            "type": "barpolar"
           }
          ],
          "carpet": [
           {
            "aaxis": {
             "endlinecolor": "#2a3f5f",
             "gridcolor": "white",
             "linecolor": "white",
             "minorgridcolor": "white",
             "startlinecolor": "#2a3f5f"
            },
            "baxis": {
             "endlinecolor": "#2a3f5f",
             "gridcolor": "white",
             "linecolor": "white",
             "minorgridcolor": "white",
             "startlinecolor": "#2a3f5f"
            },
            "type": "carpet"
           }
          ],
          "choropleth": [
           {
            "colorbar": {
             "outlinewidth": 0,
             "ticks": ""
            },
            "type": "choropleth"
           }
          ],
          "contour": [
           {
            "colorbar": {
             "outlinewidth": 0,
             "ticks": ""
            },
            "colorscale": [
             [
              0,
              "#0d0887"
             ],
             [
              0.1111111111111111,
              "#46039f"
             ],
             [
              0.2222222222222222,
              "#7201a8"
             ],
             [
              0.3333333333333333,
              "#9c179e"
             ],
             [
              0.4444444444444444,
              "#bd3786"
             ],
             [
              0.5555555555555556,
              "#d8576b"
             ],
             [
              0.6666666666666666,
              "#ed7953"
             ],
             [
              0.7777777777777778,
              "#fb9f3a"
             ],
             [
              0.8888888888888888,
              "#fdca26"
             ],
             [
              1,
              "#f0f921"
             ]
            ],
            "type": "contour"
           }
          ],
          "contourcarpet": [
           {
            "colorbar": {
             "outlinewidth": 0,
             "ticks": ""
            },
            "type": "contourcarpet"
           }
          ],
          "heatmap": [
           {
            "colorbar": {
             "outlinewidth": 0,
             "ticks": ""
            },
            "colorscale": [
             [
              0,
              "#0d0887"
             ],
             [
              0.1111111111111111,
              "#46039f"
             ],
             [
              0.2222222222222222,
              "#7201a8"
             ],
             [
              0.3333333333333333,
              "#9c179e"
             ],
             [
              0.4444444444444444,
              "#bd3786"
             ],
             [
              0.5555555555555556,
              "#d8576b"
             ],
             [
              0.6666666666666666,
              "#ed7953"
             ],
             [
              0.7777777777777778,
              "#fb9f3a"
             ],
             [
              0.8888888888888888,
              "#fdca26"
             ],
             [
              1,
              "#f0f921"
             ]
            ],
            "type": "heatmap"
           }
          ],
          "heatmapgl": [
           {
            "colorbar": {
             "outlinewidth": 0,
             "ticks": ""
            },
            "colorscale": [
             [
              0,
              "#0d0887"
             ],
             [
              0.1111111111111111,
              "#46039f"
             ],
             [
              0.2222222222222222,
              "#7201a8"
             ],
             [
              0.3333333333333333,
              "#9c179e"
             ],
             [
              0.4444444444444444,
              "#bd3786"
             ],
             [
              0.5555555555555556,
              "#d8576b"
             ],
             [
              0.6666666666666666,
              "#ed7953"
             ],
             [
              0.7777777777777778,
              "#fb9f3a"
             ],
             [
              0.8888888888888888,
              "#fdca26"
             ],
             [
              1,
              "#f0f921"
             ]
            ],
            "type": "heatmapgl"
           }
          ],
          "histogram": [
           {
            "marker": {
             "pattern": {
              "fillmode": "overlay",
              "size": 10,
              "solidity": 0.2
             }
            },
            "type": "histogram"
           }
          ],
          "histogram2d": [
           {
            "colorbar": {
             "outlinewidth": 0,
             "ticks": ""
            },
            "colorscale": [
             [
              0,
              "#0d0887"
             ],
             [
              0.1111111111111111,
              "#46039f"
             ],
             [
              0.2222222222222222,
              "#7201a8"
             ],
             [
              0.3333333333333333,
              "#9c179e"
             ],
             [
              0.4444444444444444,
              "#bd3786"
             ],
             [
              0.5555555555555556,
              "#d8576b"
             ],
             [
              0.6666666666666666,
              "#ed7953"
             ],
             [
              0.7777777777777778,
              "#fb9f3a"
             ],
             [
              0.8888888888888888,
              "#fdca26"
             ],
             [
              1,
              "#f0f921"
             ]
            ],
            "type": "histogram2d"
           }
          ],
          "histogram2dcontour": [
           {
            "colorbar": {
             "outlinewidth": 0,
             "ticks": ""
            },
            "colorscale": [
             [
              0,
              "#0d0887"
             ],
             [
              0.1111111111111111,
              "#46039f"
             ],
             [
              0.2222222222222222,
              "#7201a8"
             ],
             [
              0.3333333333333333,
              "#9c179e"
             ],
             [
              0.4444444444444444,
              "#bd3786"
             ],
             [
              0.5555555555555556,
              "#d8576b"
             ],
             [
              0.6666666666666666,
              "#ed7953"
             ],
             [
              0.7777777777777778,
              "#fb9f3a"
             ],
             [
              0.8888888888888888,
              "#fdca26"
             ],
             [
              1,
              "#f0f921"
             ]
            ],
            "type": "histogram2dcontour"
           }
          ],
          "mesh3d": [
           {
            "colorbar": {
             "outlinewidth": 0,
             "ticks": ""
            },
            "type": "mesh3d"
           }
          ],
          "parcoords": [
           {
            "line": {
             "colorbar": {
              "outlinewidth": 0,
              "ticks": ""
             }
            },
            "type": "parcoords"
           }
          ],
          "pie": [
           {
            "automargin": true,
            "type": "pie"
           }
          ],
          "scatter": [
           {
            "fillpattern": {
             "fillmode": "overlay",
             "size": 10,
             "solidity": 0.2
            },
            "type": "scatter"
           }
          ],
          "scatter3d": [
           {
            "line": {
             "colorbar": {
              "outlinewidth": 0,
              "ticks": ""
             }
            },
            "marker": {
             "colorbar": {
              "outlinewidth": 0,
              "ticks": ""
             }
            },
            "type": "scatter3d"
           }
          ],
          "scattercarpet": [
           {
            "marker": {
             "colorbar": {
              "outlinewidth": 0,
              "ticks": ""
             }
            },
            "type": "scattercarpet"
           }
          ],
          "scattergeo": [
           {
            "marker": {
             "colorbar": {
              "outlinewidth": 0,
              "ticks": ""
             }
            },
            "type": "scattergeo"
           }
          ],
          "scattergl": [
           {
            "marker": {
             "colorbar": {
              "outlinewidth": 0,
              "ticks": ""
             }
            },
            "type": "scattergl"
           }
          ],
          "scattermapbox": [
           {
            "marker": {
             "colorbar": {
              "outlinewidth": 0,
              "ticks": ""
             }
            },
            "type": "scattermapbox"
           }
          ],
          "scatterpolar": [
           {
            "marker": {
             "colorbar": {
              "outlinewidth": 0,
              "ticks": ""
             }
            },
            "type": "scatterpolar"
           }
          ],
          "scatterpolargl": [
           {
            "marker": {
             "colorbar": {
              "outlinewidth": 0,
              "ticks": ""
             }
            },
            "type": "scatterpolargl"
           }
          ],
          "scatterternary": [
           {
            "marker": {
             "colorbar": {
              "outlinewidth": 0,
              "ticks": ""
             }
            },
            "type": "scatterternary"
           }
          ],
          "surface": [
           {
            "colorbar": {
             "outlinewidth": 0,
             "ticks": ""
            },
            "colorscale": [
             [
              0,
              "#0d0887"
             ],
             [
              0.1111111111111111,
              "#46039f"
             ],
             [
              0.2222222222222222,
              "#7201a8"
             ],
             [
              0.3333333333333333,
              "#9c179e"
             ],
             [
              0.4444444444444444,
              "#bd3786"
             ],
             [
              0.5555555555555556,
              "#d8576b"
             ],
             [
              0.6666666666666666,
              "#ed7953"
             ],
             [
              0.7777777777777778,
              "#fb9f3a"
             ],
             [
              0.8888888888888888,
              "#fdca26"
             ],
             [
              1,
              "#f0f921"
             ]
            ],
            "type": "surface"
           }
          ],
          "table": [
           {
            "cells": {
             "fill": {
              "color": "#EBF0F8"
             },
             "line": {
              "color": "white"
             }
            },
            "header": {
             "fill": {
              "color": "#C8D4E3"
             },
             "line": {
              "color": "white"
             }
            },
            "type": "table"
           }
          ]
         },
         "layout": {
          "annotationdefaults": {
           "arrowcolor": "#2a3f5f",
           "arrowhead": 0,
           "arrowwidth": 1
          },
          "autotypenumbers": "strict",
          "coloraxis": {
           "colorbar": {
            "outlinewidth": 0,
            "ticks": ""
           }
          },
          "colorscale": {
           "diverging": [
            [
             0,
             "#8e0152"
            ],
            [
             0.1,
             "#c51b7d"
            ],
            [
             0.2,
             "#de77ae"
            ],
            [
             0.3,
             "#f1b6da"
            ],
            [
             0.4,
             "#fde0ef"
            ],
            [
             0.5,
             "#f7f7f7"
            ],
            [
             0.6,
             "#e6f5d0"
            ],
            [
             0.7,
             "#b8e186"
            ],
            [
             0.8,
             "#7fbc41"
            ],
            [
             0.9,
             "#4d9221"
            ],
            [
             1,
             "#276419"
            ]
           ],
           "sequential": [
            [
             0,
             "#0d0887"
            ],
            [
             0.1111111111111111,
             "#46039f"
            ],
            [
             0.2222222222222222,
             "#7201a8"
            ],
            [
             0.3333333333333333,
             "#9c179e"
            ],
            [
             0.4444444444444444,
             "#bd3786"
            ],
            [
             0.5555555555555556,
             "#d8576b"
            ],
            [
             0.6666666666666666,
             "#ed7953"
            ],
            [
             0.7777777777777778,
             "#fb9f3a"
            ],
            [
             0.8888888888888888,
             "#fdca26"
            ],
            [
             1,
             "#f0f921"
            ]
           ],
           "sequentialminus": [
            [
             0,
             "#0d0887"
            ],
            [
             0.1111111111111111,
             "#46039f"
            ],
            [
             0.2222222222222222,
             "#7201a8"
            ],
            [
             0.3333333333333333,
             "#9c179e"
            ],
            [
             0.4444444444444444,
             "#bd3786"
            ],
            [
             0.5555555555555556,
             "#d8576b"
            ],
            [
             0.6666666666666666,
             "#ed7953"
            ],
            [
             0.7777777777777778,
             "#fb9f3a"
            ],
            [
             0.8888888888888888,
             "#fdca26"
            ],
            [
             1,
             "#f0f921"
            ]
           ]
          },
          "colorway": [
           "#636efa",
           "#EF553B",
           "#00cc96",
           "#ab63fa",
           "#FFA15A",
           "#19d3f3",
           "#FF6692",
           "#B6E880",
           "#FF97FF",
           "#FECB52"
          ],
          "font": {
           "color": "#2a3f5f"
          },
          "geo": {
           "bgcolor": "white",
           "lakecolor": "white",
           "landcolor": "#E5ECF6",
           "showlakes": true,
           "showland": true,
           "subunitcolor": "white"
          },
          "hoverlabel": {
           "align": "left"
          },
          "hovermode": "closest",
          "mapbox": {
           "style": "light"
          },
          "paper_bgcolor": "white",
          "plot_bgcolor": "#E5ECF6",
          "polar": {
           "angularaxis": {
            "gridcolor": "white",
            "linecolor": "white",
            "ticks": ""
           },
           "bgcolor": "#E5ECF6",
           "radialaxis": {
            "gridcolor": "white",
            "linecolor": "white",
            "ticks": ""
           }
          },
          "scene": {
           "xaxis": {
            "backgroundcolor": "#E5ECF6",
            "gridcolor": "white",
            "gridwidth": 2,
            "linecolor": "white",
            "showbackground": true,
            "ticks": "",
            "zerolinecolor": "white"
           },
           "yaxis": {
            "backgroundcolor": "#E5ECF6",
            "gridcolor": "white",
            "gridwidth": 2,
            "linecolor": "white",
            "showbackground": true,
            "ticks": "",
            "zerolinecolor": "white"
           },
           "zaxis": {
            "backgroundcolor": "#E5ECF6",
            "gridcolor": "white",
            "gridwidth": 2,
            "linecolor": "white",
            "showbackground": true,
            "ticks": "",
            "zerolinecolor": "white"
           }
          },
          "shapedefaults": {
           "line": {
            "color": "#2a3f5f"
           }
          },
          "ternary": {
           "aaxis": {
            "gridcolor": "white",
            "linecolor": "white",
            "ticks": ""
           },
           "baxis": {
            "gridcolor": "white",
            "linecolor": "white",
            "ticks": ""
           },
           "bgcolor": "#E5ECF6",
           "caxis": {
            "gridcolor": "white",
            "linecolor": "white",
            "ticks": ""
           }
          },
          "title": {
           "x": 0.05
          },
          "xaxis": {
           "automargin": true,
           "gridcolor": "white",
           "linecolor": "white",
           "ticks": "",
           "title": {
            "standoff": 15
           },
           "zerolinecolor": "white",
           "zerolinewidth": 2
          },
          "yaxis": {
           "automargin": true,
           "gridcolor": "white",
           "linecolor": "white",
           "ticks": "",
           "title": {
            "standoff": 15
           },
           "zerolinecolor": "white",
           "zerolinewidth": 2
          }
         }
        },
        "title": {
         "text": "Label Distribution per Topic"
        },
        "xaxis": {
         "title": {
          "text": "True Labels"
         }
        },
        "yaxis": {
         "title": {
          "text": "Count"
         }
        }
       }
      },
      "text/html": [
       "<div>                            <div id=\"933d8b06-3e79-4f22-aaf6-ad59743e1f12\" class=\"plotly-graph-div\" style=\"height:525px; width:100%;\"></div>            <script type=\"text/javascript\">                require([\"plotly\"], function(Plotly) {                    window.PLOTLYENV=window.PLOTLYENV || {};                                    if (document.getElementById(\"933d8b06-3e79-4f22-aaf6-ad59743e1f12\")) {                    Plotly.newPlot(                        \"933d8b06-3e79-4f22-aaf6-ad59743e1f12\",                        [{\"name\":\"Topic -1\",\"x\":[0,1,2,3,4],\"y\":[257.0,97.0,169.0,102.0,217.0],\"type\":\"bar\"},{\"name\":\"Topic 0\",\"x\":[0,1,2,3,4],\"y\":[61.0,31.0,76.0,54.0,101.0],\"type\":\"bar\"},{\"name\":\"Topic 1\",\"x\":[0,1,2,3,4],\"y\":[103.0,115.0,31.0,2.0,59.0],\"type\":\"bar\"},{\"name\":\"Topic 2\",\"x\":[0,1,2,3,4],\"y\":[0.0,27.0,84.0,58.0,120.0],\"type\":\"bar\"},{\"name\":\"Topic 3\",\"x\":[0,1,2,3,4],\"y\":[1.0,20.0,66.0,62.0,108.0],\"type\":\"bar\"},{\"name\":\"Topic 4\",\"x\":[0,1,2,3,4],\"y\":[0.0,25.0,69.0,63.0,95.0],\"type\":\"bar\"},{\"name\":\"Topic 5\",\"x\":[0,1,2,3,4],\"y\":[0.0,23.0,61.0,54.0,90.0],\"type\":\"bar\"},{\"name\":\"Topic 6\",\"x\":[0,1,2,3,4],\"y\":[171.0,26.0,13.0,8.0,10.0],\"type\":\"bar\"},{\"name\":\"Topic 7\",\"x\":[0,1,2,3,4],\"y\":[0.0,17.0,54.0,54.0,94.0],\"type\":\"bar\"},{\"name\":\"Topic 8\",\"x\":[0,1,2,3,4],\"y\":[0.0,21.0,59.0,48.0,89.0],\"type\":\"bar\"},{\"name\":\"Topic 9\",\"x\":[0,1,2,3,4],\"y\":[0.0,20.0,67.0,51.0,36.0],\"type\":\"bar\"},{\"name\":\"Topic 10\",\"x\":[0,1,2,3,4],\"y\":[0.0,16.0,47.0,36.0,66.0],\"type\":\"bar\"},{\"name\":\"Topic 11\",\"x\":[0,1,2,3,4],\"y\":[131.0,16.0,6.0,4.0,5.0],\"type\":\"bar\"},{\"name\":\"Topic 12\",\"x\":[0,1,2,3,4],\"y\":[2.0,20.0,53.0,47.0,37.0],\"type\":\"bar\"},{\"name\":\"Topic 13\",\"x\":[0,1,2,3,4],\"y\":[0.0,15.0,41.0,28.0,61.0],\"type\":\"bar\"},{\"name\":\"Topic 14\",\"x\":[0,1,2,3,4],\"y\":[118.0,12.0,6.0,1.0,2.0],\"type\":\"bar\"},{\"name\":\"Topic 15\",\"x\":[0,1,2,3,4],\"y\":[0.0,9.0,34.0,24.0,56.0],\"type\":\"bar\"},{\"name\":\"Topic 16\",\"x\":[0,1,2,3,4],\"y\":[86.0,14.0,10.0,4.0,5.0],\"type\":\"bar\"},{\"name\":\"Topic 17\",\"x\":[0,1,2,3,4],\"y\":[93.0,8.0,8.0,1.0,5.0],\"type\":\"bar\"},{\"name\":\"Topic 18\",\"x\":[0,1,2,3,4],\"y\":[79.0,13.0,6.0,5.0,4.0],\"type\":\"bar\"},{\"name\":\"Topic 19\",\"x\":[0,1,2,3,4],\"y\":[0.0,6.0,37.0,23.0,35.0],\"type\":\"bar\"},{\"name\":\"Topic 20\",\"x\":[0,1,2,3,4],\"y\":[77.0,9.0,8.0,1.0,1.0],\"type\":\"bar\"},{\"name\":\"Topic 21\",\"x\":[0,1,2,3,4],\"y\":[2.0,8.0,20.0,21.0,38.0],\"type\":\"bar\"},{\"name\":\"Topic 22\",\"x\":[0,1,2,3,4],\"y\":[0.0,10.0,17.0,22.0,26.0],\"type\":\"bar\"},{\"name\":\"Topic 23\",\"x\":[0,1,2,3,4],\"y\":[25.0,27.0,10.0,0.0,0.0],\"type\":\"bar\"},{\"name\":\"Topic 24\",\"x\":[0,1,2,3,4],\"y\":[29.0,7.0,11.0,5.0,6.0],\"type\":\"bar\"},{\"name\":\"Topic 25\",\"x\":[0,1,2,3,4],\"y\":[1.0,3.0,7.0,7.0,38.0],\"type\":\"bar\"},{\"name\":\"Topic 26\",\"x\":[0,1,2,3,4],\"y\":[45.0,5.0,2.0,1.0,1.0],\"type\":\"bar\"},{\"name\":\"Topic 27\",\"x\":[0,1,2,3,4],\"y\":[0.0,4.0,14.0,9.0,25.0],\"type\":\"bar\"},{\"name\":\"Topic 28\",\"x\":[0,1,2,3,4],\"y\":[43.0,4.0,2.0,1.0,0.0],\"type\":\"bar\"},{\"name\":\"Topic 29\",\"x\":[0,1,2,3,4],\"y\":[0.0,5.0,13.0,10.0,22.0],\"type\":\"bar\"},{\"name\":\"Topic 30\",\"x\":[0,1,2,3,4],\"y\":[0.0,5.0,14.0,11.0,13.0],\"type\":\"bar\"},{\"name\":\"Topic 31\",\"x\":[0,1,2,3,4],\"y\":[19.0,16.0,5.0,1.0,0.0],\"type\":\"bar\"},{\"name\":\"Topic 32\",\"x\":[0,1,2,3,4],\"y\":[0.0,1.0,11.0,14.0,12.0],\"type\":\"bar\"},{\"name\":\"Topic 33\",\"x\":[0,1,2,3,4],\"y\":[0.0,2.0,8.0,9.0,19.0],\"type\":\"bar\"},{\"name\":\"Topic 34\",\"x\":[0,1,2,3,4],\"y\":[0.0,9.0,10.0,7.0,12.0],\"type\":\"bar\"},{\"name\":\"Topic 35\",\"x\":[0,1,2,3,4],\"y\":[10.0,3.0,7.0,7.0,8.0],\"type\":\"bar\"},{\"name\":\"Topic 36\",\"x\":[0,1,2,3,4],\"y\":[0.0,4.0,12.0,5.0,12.0],\"type\":\"bar\"},{\"name\":\"Topic 37\",\"x\":[0,1,2,3,4],\"y\":[10.0,5.0,7.0,2.0,8.0],\"type\":\"bar\"},{\"name\":\"Topic 38\",\"x\":[0,1,2,3,4],\"y\":[19.0,8.0,1.0,2.0,1.0],\"type\":\"bar\"},{\"name\":\"Topic 39\",\"x\":[0,1,2,3,4],\"y\":[12.0,4.0,2.0,10.0,3.0],\"type\":\"bar\"},{\"name\":\"Topic 40\",\"x\":[0,1,2,3,4],\"y\":[22.0,5.0,3.0,0.0,0.0],\"type\":\"bar\"},{\"name\":\"Topic 41\",\"x\":[0,1,2,3,4],\"y\":[30.0,0.0,0.0,0.0,0.0],\"type\":\"bar\"},{\"name\":\"Topic 42\",\"x\":[0,1,2,3,4],\"y\":[23.0,2.0,2.0,1.0,1.0],\"type\":\"bar\"},{\"name\":\"Topic 43\",\"x\":[0,1,2,3,4],\"y\":[18.0,1.0,2.0,3.0,2.0],\"type\":\"bar\"},{\"name\":\"Topic 44\",\"x\":[0,1,2,3,4],\"y\":[21.0,1.0,3.0,1.0,0.0],\"type\":\"bar\"},{\"name\":\"Topic 45\",\"x\":[0,1,2,3,4],\"y\":[0.0,2.0,7.0,5.0,10.0],\"type\":\"bar\"},{\"name\":\"Topic 46\",\"x\":[0,1,2,3,4],\"y\":[4.0,14.0,2.0,0.0,1.0],\"type\":\"bar\"},{\"name\":\"Topic 47\",\"x\":[0,1,2,3,4],\"y\":[19.0,2.0,0.0,0.0,0.0],\"type\":\"bar\"},{\"name\":\"Topic 48\",\"x\":[0,1,2,3,4],\"y\":[9.0,2.0,2.0,3.0,4.0],\"type\":\"bar\"},{\"name\":\"Topic 49\",\"x\":[0,1,2,3,4],\"y\":[0.0,1.0,8.0,5.0,5.0],\"type\":\"bar\"},{\"name\":\"Topic 50\",\"x\":[0,1,2,3,4],\"y\":[14.0,2.0,1.0,1.0,0.0],\"type\":\"bar\"},{\"name\":\"Topic 51\",\"x\":[0,1,2,3,4],\"y\":[0.0,4.0,3.0,4.0,5.0],\"type\":\"bar\"},{\"name\":\"Topic 52\",\"x\":[0,1,2,3,4],\"y\":[11.0,4.0,0.0,0.0,0.0],\"type\":\"bar\"},{\"name\":\"Topic 53\",\"x\":[0,1,2,3,4],\"y\":[0.0,1.0,4.0,2.0,7.0],\"type\":\"bar\"},{\"name\":\"Topic 54\",\"x\":[0,1,2,3,4],\"y\":[0.0,2.0,4.0,4.0,4.0],\"type\":\"bar\"},{\"name\":\"Topic 55\",\"x\":[0,1,2,3,4],\"y\":[9.0,2.0,2.0,0.0,0.0],\"type\":\"bar\"},{\"name\":\"Topic 56\",\"x\":[0,1,2,3,4],\"y\":[6.0,6.0,1.0,0.0,0.0],\"type\":\"bar\"},{\"name\":\"Topic 57\",\"x\":[0,1,2,3,4],\"y\":[6.0,4.0,0.0,1.0,2.0],\"type\":\"bar\"}],                        {\"template\":{\"data\":{\"histogram2dcontour\":[{\"type\":\"histogram2dcontour\",\"colorbar\":{\"outlinewidth\":0,\"ticks\":\"\"},\"colorscale\":[[0.0,\"#0d0887\"],[0.1111111111111111,\"#46039f\"],[0.2222222222222222,\"#7201a8\"],[0.3333333333333333,\"#9c179e\"],[0.4444444444444444,\"#bd3786\"],[0.5555555555555556,\"#d8576b\"],[0.6666666666666666,\"#ed7953\"],[0.7777777777777778,\"#fb9f3a\"],[0.8888888888888888,\"#fdca26\"],[1.0,\"#f0f921\"]]}],\"choropleth\":[{\"type\":\"choropleth\",\"colorbar\":{\"outlinewidth\":0,\"ticks\":\"\"}}],\"histogram2d\":[{\"type\":\"histogram2d\",\"colorbar\":{\"outlinewidth\":0,\"ticks\":\"\"},\"colorscale\":[[0.0,\"#0d0887\"],[0.1111111111111111,\"#46039f\"],[0.2222222222222222,\"#7201a8\"],[0.3333333333333333,\"#9c179e\"],[0.4444444444444444,\"#bd3786\"],[0.5555555555555556,\"#d8576b\"],[0.6666666666666666,\"#ed7953\"],[0.7777777777777778,\"#fb9f3a\"],[0.8888888888888888,\"#fdca26\"],[1.0,\"#f0f921\"]]}],\"heatmap\":[{\"type\":\"heatmap\",\"colorbar\":{\"outlinewidth\":0,\"ticks\":\"\"},\"colorscale\":[[0.0,\"#0d0887\"],[0.1111111111111111,\"#46039f\"],[0.2222222222222222,\"#7201a8\"],[0.3333333333333333,\"#9c179e\"],[0.4444444444444444,\"#bd3786\"],[0.5555555555555556,\"#d8576b\"],[0.6666666666666666,\"#ed7953\"],[0.7777777777777778,\"#fb9f3a\"],[0.8888888888888888,\"#fdca26\"],[1.0,\"#f0f921\"]]}],\"heatmapgl\":[{\"type\":\"heatmapgl\",\"colorbar\":{\"outlinewidth\":0,\"ticks\":\"\"},\"colorscale\":[[0.0,\"#0d0887\"],[0.1111111111111111,\"#46039f\"],[0.2222222222222222,\"#7201a8\"],[0.3333333333333333,\"#9c179e\"],[0.4444444444444444,\"#bd3786\"],[0.5555555555555556,\"#d8576b\"],[0.6666666666666666,\"#ed7953\"],[0.7777777777777778,\"#fb9f3a\"],[0.8888888888888888,\"#fdca26\"],[1.0,\"#f0f921\"]]}],\"contourcarpet\":[{\"type\":\"contourcarpet\",\"colorbar\":{\"outlinewidth\":0,\"ticks\":\"\"}}],\"contour\":[{\"type\":\"contour\",\"colorbar\":{\"outlinewidth\":0,\"ticks\":\"\"},\"colorscale\":[[0.0,\"#0d0887\"],[0.1111111111111111,\"#46039f\"],[0.2222222222222222,\"#7201a8\"],[0.3333333333333333,\"#9c179e\"],[0.4444444444444444,\"#bd3786\"],[0.5555555555555556,\"#d8576b\"],[0.6666666666666666,\"#ed7953\"],[0.7777777777777778,\"#fb9f3a\"],[0.8888888888888888,\"#fdca26\"],[1.0,\"#f0f921\"]]}],\"surface\":[{\"type\":\"surface\",\"colorbar\":{\"outlinewidth\":0,\"ticks\":\"\"},\"colorscale\":[[0.0,\"#0d0887\"],[0.1111111111111111,\"#46039f\"],[0.2222222222222222,\"#7201a8\"],[0.3333333333333333,\"#9c179e\"],[0.4444444444444444,\"#bd3786\"],[0.5555555555555556,\"#d8576b\"],[0.6666666666666666,\"#ed7953\"],[0.7777777777777778,\"#fb9f3a\"],[0.8888888888888888,\"#fdca26\"],[1.0,\"#f0f921\"]]}],\"mesh3d\":[{\"type\":\"mesh3d\",\"colorbar\":{\"outlinewidth\":0,\"ticks\":\"\"}}],\"scatter\":[{\"fillpattern\":{\"fillmode\":\"overlay\",\"size\":10,\"solidity\":0.2},\"type\":\"scatter\"}],\"parcoords\":[{\"type\":\"parcoords\",\"line\":{\"colorbar\":{\"outlinewidth\":0,\"ticks\":\"\"}}}],\"scatterpolargl\":[{\"type\":\"scatterpolargl\",\"marker\":{\"colorbar\":{\"outlinewidth\":0,\"ticks\":\"\"}}}],\"bar\":[{\"error_x\":{\"color\":\"#2a3f5f\"},\"error_y\":{\"color\":\"#2a3f5f\"},\"marker\":{\"line\":{\"color\":\"#E5ECF6\",\"width\":0.5},\"pattern\":{\"fillmode\":\"overlay\",\"size\":10,\"solidity\":0.2}},\"type\":\"bar\"}],\"scattergeo\":[{\"type\":\"scattergeo\",\"marker\":{\"colorbar\":{\"outlinewidth\":0,\"ticks\":\"\"}}}],\"scatterpolar\":[{\"type\":\"scatterpolar\",\"marker\":{\"colorbar\":{\"outlinewidth\":0,\"ticks\":\"\"}}}],\"histogram\":[{\"marker\":{\"pattern\":{\"fillmode\":\"overlay\",\"size\":10,\"solidity\":0.2}},\"type\":\"histogram\"}],\"scattergl\":[{\"type\":\"scattergl\",\"marker\":{\"colorbar\":{\"outlinewidth\":0,\"ticks\":\"\"}}}],\"scatter3d\":[{\"type\":\"scatter3d\",\"line\":{\"colorbar\":{\"outlinewidth\":0,\"ticks\":\"\"}},\"marker\":{\"colorbar\":{\"outlinewidth\":0,\"ticks\":\"\"}}}],\"scattermapbox\":[{\"type\":\"scattermapbox\",\"marker\":{\"colorbar\":{\"outlinewidth\":0,\"ticks\":\"\"}}}],\"scatterternary\":[{\"type\":\"scatterternary\",\"marker\":{\"colorbar\":{\"outlinewidth\":0,\"ticks\":\"\"}}}],\"scattercarpet\":[{\"type\":\"scattercarpet\",\"marker\":{\"colorbar\":{\"outlinewidth\":0,\"ticks\":\"\"}}}],\"carpet\":[{\"aaxis\":{\"endlinecolor\":\"#2a3f5f\",\"gridcolor\":\"white\",\"linecolor\":\"white\",\"minorgridcolor\":\"white\",\"startlinecolor\":\"#2a3f5f\"},\"baxis\":{\"endlinecolor\":\"#2a3f5f\",\"gridcolor\":\"white\",\"linecolor\":\"white\",\"minorgridcolor\":\"white\",\"startlinecolor\":\"#2a3f5f\"},\"type\":\"carpet\"}],\"table\":[{\"cells\":{\"fill\":{\"color\":\"#EBF0F8\"},\"line\":{\"color\":\"white\"}},\"header\":{\"fill\":{\"color\":\"#C8D4E3\"},\"line\":{\"color\":\"white\"}},\"type\":\"table\"}],\"barpolar\":[{\"marker\":{\"line\":{\"color\":\"#E5ECF6\",\"width\":0.5},\"pattern\":{\"fillmode\":\"overlay\",\"size\":10,\"solidity\":0.2}},\"type\":\"barpolar\"}],\"pie\":[{\"automargin\":true,\"type\":\"pie\"}]},\"layout\":{\"autotypenumbers\":\"strict\",\"colorway\":[\"#636efa\",\"#EF553B\",\"#00cc96\",\"#ab63fa\",\"#FFA15A\",\"#19d3f3\",\"#FF6692\",\"#B6E880\",\"#FF97FF\",\"#FECB52\"],\"font\":{\"color\":\"#2a3f5f\"},\"hovermode\":\"closest\",\"hoverlabel\":{\"align\":\"left\"},\"paper_bgcolor\":\"white\",\"plot_bgcolor\":\"#E5ECF6\",\"polar\":{\"bgcolor\":\"#E5ECF6\",\"angularaxis\":{\"gridcolor\":\"white\",\"linecolor\":\"white\",\"ticks\":\"\"},\"radialaxis\":{\"gridcolor\":\"white\",\"linecolor\":\"white\",\"ticks\":\"\"}},\"ternary\":{\"bgcolor\":\"#E5ECF6\",\"aaxis\":{\"gridcolor\":\"white\",\"linecolor\":\"white\",\"ticks\":\"\"},\"baxis\":{\"gridcolor\":\"white\",\"linecolor\":\"white\",\"ticks\":\"\"},\"caxis\":{\"gridcolor\":\"white\",\"linecolor\":\"white\",\"ticks\":\"\"}},\"coloraxis\":{\"colorbar\":{\"outlinewidth\":0,\"ticks\":\"\"}},\"colorscale\":{\"sequential\":[[0.0,\"#0d0887\"],[0.1111111111111111,\"#46039f\"],[0.2222222222222222,\"#7201a8\"],[0.3333333333333333,\"#9c179e\"],[0.4444444444444444,\"#bd3786\"],[0.5555555555555556,\"#d8576b\"],[0.6666666666666666,\"#ed7953\"],[0.7777777777777778,\"#fb9f3a\"],[0.8888888888888888,\"#fdca26\"],[1.0,\"#f0f921\"]],\"sequentialminus\":[[0.0,\"#0d0887\"],[0.1111111111111111,\"#46039f\"],[0.2222222222222222,\"#7201a8\"],[0.3333333333333333,\"#9c179e\"],[0.4444444444444444,\"#bd3786\"],[0.5555555555555556,\"#d8576b\"],[0.6666666666666666,\"#ed7953\"],[0.7777777777777778,\"#fb9f3a\"],[0.8888888888888888,\"#fdca26\"],[1.0,\"#f0f921\"]],\"diverging\":[[0,\"#8e0152\"],[0.1,\"#c51b7d\"],[0.2,\"#de77ae\"],[0.3,\"#f1b6da\"],[0.4,\"#fde0ef\"],[0.5,\"#f7f7f7\"],[0.6,\"#e6f5d0\"],[0.7,\"#b8e186\"],[0.8,\"#7fbc41\"],[0.9,\"#4d9221\"],[1,\"#276419\"]]},\"xaxis\":{\"gridcolor\":\"white\",\"linecolor\":\"white\",\"ticks\":\"\",\"title\":{\"standoff\":15},\"zerolinecolor\":\"white\",\"automargin\":true,\"zerolinewidth\":2},\"yaxis\":{\"gridcolor\":\"white\",\"linecolor\":\"white\",\"ticks\":\"\",\"title\":{\"standoff\":15},\"zerolinecolor\":\"white\",\"automargin\":true,\"zerolinewidth\":2},\"scene\":{\"xaxis\":{\"backgroundcolor\":\"#E5ECF6\",\"gridcolor\":\"white\",\"linecolor\":\"white\",\"showbackground\":true,\"ticks\":\"\",\"zerolinecolor\":\"white\",\"gridwidth\":2},\"yaxis\":{\"backgroundcolor\":\"#E5ECF6\",\"gridcolor\":\"white\",\"linecolor\":\"white\",\"showbackground\":true,\"ticks\":\"\",\"zerolinecolor\":\"white\",\"gridwidth\":2},\"zaxis\":{\"backgroundcolor\":\"#E5ECF6\",\"gridcolor\":\"white\",\"linecolor\":\"white\",\"showbackground\":true,\"ticks\":\"\",\"zerolinecolor\":\"white\",\"gridwidth\":2}},\"shapedefaults\":{\"line\":{\"color\":\"#2a3f5f\"}},\"annotationdefaults\":{\"arrowcolor\":\"#2a3f5f\",\"arrowhead\":0,\"arrowwidth\":1},\"geo\":{\"bgcolor\":\"white\",\"landcolor\":\"#E5ECF6\",\"subunitcolor\":\"white\",\"showland\":true,\"showlakes\":true,\"lakecolor\":\"white\"},\"title\":{\"x\":0.05},\"mapbox\":{\"style\":\"light\"}}},\"sliders\":[{\"active\":0,\"currentvalue\":{\"prefix\":\"Selected Topic: \"},\"pad\":{\"t\":50},\"steps\":[{\"args\":[{\"visible\":[true,false,false,false,false,false,false,false,false,false,false,false,false,false,false,false,false,false,false,false,false,false,false,false,false,false,false,false,false,false,false,false,false,false,false,false,false,false,false,false,false,false,false,false,false,false,false,false,false,false,false,false,false,false,false,false,false,false,false]},{\"title\":\"Topic -1\"}],\"label\":\"Topic -1\",\"method\":\"update\"},{\"args\":[{\"visible\":[false,true,false,false,false,false,false,false,false,false,false,false,false,false,false,false,false,false,false,false,false,false,false,false,false,false,false,false,false,false,false,false,false,false,false,false,false,false,false,false,false,false,false,false,false,false,false,false,false,false,false,false,false,false,false,false,false,false,false]},{\"title\":\"Topic 0\"}],\"label\":\"Topic 0\",\"method\":\"update\"},{\"args\":[{\"visible\":[false,false,true,false,false,false,false,false,false,false,false,false,false,false,false,false,false,false,false,false,false,false,false,false,false,false,false,false,false,false,false,false,false,false,false,false,false,false,false,false,false,false,false,false,false,false,false,false,false,false,false,false,false,false,false,false,false,false,false]},{\"title\":\"Topic 1\"}],\"label\":\"Topic 1\",\"method\":\"update\"},{\"args\":[{\"visible\":[false,false,false,true,false,false,false,false,false,false,false,false,false,false,false,false,false,false,false,false,false,false,false,false,false,false,false,false,false,false,false,false,false,false,false,false,false,false,false,false,false,false,false,false,false,false,false,false,false,false,false,false,false,false,false,false,false,false,false]},{\"title\":\"Topic 2\"}],\"label\":\"Topic 2\",\"method\":\"update\"},{\"args\":[{\"visible\":[false,false,false,false,true,false,false,false,false,false,false,false,false,false,false,false,false,false,false,false,false,false,false,false,false,false,false,false,false,false,false,false,false,false,false,false,false,false,false,false,false,false,false,false,false,false,false,false,false,false,false,false,false,false,false,false,false,false,false]},{\"title\":\"Topic 3\"}],\"label\":\"Topic 3\",\"method\":\"update\"},{\"args\":[{\"visible\":[false,false,false,false,false,true,false,false,false,false,false,false,false,false,false,false,false,false,false,false,false,false,false,false,false,false,false,false,false,false,false,false,false,false,false,false,false,false,false,false,false,false,false,false,false,false,false,false,false,false,false,false,false,false,false,false,false,false,false]},{\"title\":\"Topic 4\"}],\"label\":\"Topic 4\",\"method\":\"update\"},{\"args\":[{\"visible\":[false,false,false,false,false,false,true,false,false,false,false,false,false,false,false,false,false,false,false,false,false,false,false,false,false,false,false,false,false,false,false,false,false,false,false,false,false,false,false,false,false,false,false,false,false,false,false,false,false,false,false,false,false,false,false,false,false,false,false]},{\"title\":\"Topic 5\"}],\"label\":\"Topic 5\",\"method\":\"update\"},{\"args\":[{\"visible\":[false,false,false,false,false,false,false,true,false,false,false,false,false,false,false,false,false,false,false,false,false,false,false,false,false,false,false,false,false,false,false,false,false,false,false,false,false,false,false,false,false,false,false,false,false,false,false,false,false,false,false,false,false,false,false,false,false,false,false]},{\"title\":\"Topic 6\"}],\"label\":\"Topic 6\",\"method\":\"update\"},{\"args\":[{\"visible\":[false,false,false,false,false,false,false,false,true,false,false,false,false,false,false,false,false,false,false,false,false,false,false,false,false,false,false,false,false,false,false,false,false,false,false,false,false,false,false,false,false,false,false,false,false,false,false,false,false,false,false,false,false,false,false,false,false,false,false]},{\"title\":\"Topic 7\"}],\"label\":\"Topic 7\",\"method\":\"update\"},{\"args\":[{\"visible\":[false,false,false,false,false,false,false,false,false,true,false,false,false,false,false,false,false,false,false,false,false,false,false,false,false,false,false,false,false,false,false,false,false,false,false,false,false,false,false,false,false,false,false,false,false,false,false,false,false,false,false,false,false,false,false,false,false,false,false]},{\"title\":\"Topic 8\"}],\"label\":\"Topic 8\",\"method\":\"update\"},{\"args\":[{\"visible\":[false,false,false,false,false,false,false,false,false,false,true,false,false,false,false,false,false,false,false,false,false,false,false,false,false,false,false,false,false,false,false,false,false,false,false,false,false,false,false,false,false,false,false,false,false,false,false,false,false,false,false,false,false,false,false,false,false,false,false]},{\"title\":\"Topic 9\"}],\"label\":\"Topic 9\",\"method\":\"update\"},{\"args\":[{\"visible\":[false,false,false,false,false,false,false,false,false,false,false,true,false,false,false,false,false,false,false,false,false,false,false,false,false,false,false,false,false,false,false,false,false,false,false,false,false,false,false,false,false,false,false,false,false,false,false,false,false,false,false,false,false,false,false,false,false,false,false]},{\"title\":\"Topic 10\"}],\"label\":\"Topic 10\",\"method\":\"update\"},{\"args\":[{\"visible\":[false,false,false,false,false,false,false,false,false,false,false,false,true,false,false,false,false,false,false,false,false,false,false,false,false,false,false,false,false,false,false,false,false,false,false,false,false,false,false,false,false,false,false,false,false,false,false,false,false,false,false,false,false,false,false,false,false,false,false]},{\"title\":\"Topic 11\"}],\"label\":\"Topic 11\",\"method\":\"update\"},{\"args\":[{\"visible\":[false,false,false,false,false,false,false,false,false,false,false,false,false,true,false,false,false,false,false,false,false,false,false,false,false,false,false,false,false,false,false,false,false,false,false,false,false,false,false,false,false,false,false,false,false,false,false,false,false,false,false,false,false,false,false,false,false,false,false]},{\"title\":\"Topic 12\"}],\"label\":\"Topic 12\",\"method\":\"update\"},{\"args\":[{\"visible\":[false,false,false,false,false,false,false,false,false,false,false,false,false,false,true,false,false,false,false,false,false,false,false,false,false,false,false,false,false,false,false,false,false,false,false,false,false,false,false,false,false,false,false,false,false,false,false,false,false,false,false,false,false,false,false,false,false,false,false]},{\"title\":\"Topic 13\"}],\"label\":\"Topic 13\",\"method\":\"update\"},{\"args\":[{\"visible\":[false,false,false,false,false,false,false,false,false,false,false,false,false,false,false,true,false,false,false,false,false,false,false,false,false,false,false,false,false,false,false,false,false,false,false,false,false,false,false,false,false,false,false,false,false,false,false,false,false,false,false,false,false,false,false,false,false,false,false]},{\"title\":\"Topic 14\"}],\"label\":\"Topic 14\",\"method\":\"update\"},{\"args\":[{\"visible\":[false,false,false,false,false,false,false,false,false,false,false,false,false,false,false,false,true,false,false,false,false,false,false,false,false,false,false,false,false,false,false,false,false,false,false,false,false,false,false,false,false,false,false,false,false,false,false,false,false,false,false,false,false,false,false,false,false,false,false]},{\"title\":\"Topic 15\"}],\"label\":\"Topic 15\",\"method\":\"update\"},{\"args\":[{\"visible\":[false,false,false,false,false,false,false,false,false,false,false,false,false,false,false,false,false,true,false,false,false,false,false,false,false,false,false,false,false,false,false,false,false,false,false,false,false,false,false,false,false,false,false,false,false,false,false,false,false,false,false,false,false,false,false,false,false,false,false]},{\"title\":\"Topic 16\"}],\"label\":\"Topic 16\",\"method\":\"update\"},{\"args\":[{\"visible\":[false,false,false,false,false,false,false,false,false,false,false,false,false,false,false,false,false,false,true,false,false,false,false,false,false,false,false,false,false,false,false,false,false,false,false,false,false,false,false,false,false,false,false,false,false,false,false,false,false,false,false,false,false,false,false,false,false,false,false]},{\"title\":\"Topic 17\"}],\"label\":\"Topic 17\",\"method\":\"update\"},{\"args\":[{\"visible\":[false,false,false,false,false,false,false,false,false,false,false,false,false,false,false,false,false,false,false,true,false,false,false,false,false,false,false,false,false,false,false,false,false,false,false,false,false,false,false,false,false,false,false,false,false,false,false,false,false,false,false,false,false,false,false,false,false,false,false]},{\"title\":\"Topic 18\"}],\"label\":\"Topic 18\",\"method\":\"update\"},{\"args\":[{\"visible\":[false,false,false,false,false,false,false,false,false,false,false,false,false,false,false,false,false,false,false,false,true,false,false,false,false,false,false,false,false,false,false,false,false,false,false,false,false,false,false,false,false,false,false,false,false,false,false,false,false,false,false,false,false,false,false,false,false,false,false]},{\"title\":\"Topic 19\"}],\"label\":\"Topic 19\",\"method\":\"update\"},{\"args\":[{\"visible\":[false,false,false,false,false,false,false,false,false,false,false,false,false,false,false,false,false,false,false,false,false,true,false,false,false,false,false,false,false,false,false,false,false,false,false,false,false,false,false,false,false,false,false,false,false,false,false,false,false,false,false,false,false,false,false,false,false,false,false]},{\"title\":\"Topic 20\"}],\"label\":\"Topic 20\",\"method\":\"update\"},{\"args\":[{\"visible\":[false,false,false,false,false,false,false,false,false,false,false,false,false,false,false,false,false,false,false,false,false,false,true,false,false,false,false,false,false,false,false,false,false,false,false,false,false,false,false,false,false,false,false,false,false,false,false,false,false,false,false,false,false,false,false,false,false,false,false]},{\"title\":\"Topic 21\"}],\"label\":\"Topic 21\",\"method\":\"update\"},{\"args\":[{\"visible\":[false,false,false,false,false,false,false,false,false,false,false,false,false,false,false,false,false,false,false,false,false,false,false,true,false,false,false,false,false,false,false,false,false,false,false,false,false,false,false,false,false,false,false,false,false,false,false,false,false,false,false,false,false,false,false,false,false,false,false]},{\"title\":\"Topic 22\"}],\"label\":\"Topic 22\",\"method\":\"update\"},{\"args\":[{\"visible\":[false,false,false,false,false,false,false,false,false,false,false,false,false,false,false,false,false,false,false,false,false,false,false,false,true,false,false,false,false,false,false,false,false,false,false,false,false,false,false,false,false,false,false,false,false,false,false,false,false,false,false,false,false,false,false,false,false,false,false]},{\"title\":\"Topic 23\"}],\"label\":\"Topic 23\",\"method\":\"update\"},{\"args\":[{\"visible\":[false,false,false,false,false,false,false,false,false,false,false,false,false,false,false,false,false,false,false,false,false,false,false,false,false,true,false,false,false,false,false,false,false,false,false,false,false,false,false,false,false,false,false,false,false,false,false,false,false,false,false,false,false,false,false,false,false,false,false]},{\"title\":\"Topic 24\"}],\"label\":\"Topic 24\",\"method\":\"update\"},{\"args\":[{\"visible\":[false,false,false,false,false,false,false,false,false,false,false,false,false,false,false,false,false,false,false,false,false,false,false,false,false,false,true,false,false,false,false,false,false,false,false,false,false,false,false,false,false,false,false,false,false,false,false,false,false,false,false,false,false,false,false,false,false,false,false]},{\"title\":\"Topic 25\"}],\"label\":\"Topic 25\",\"method\":\"update\"},{\"args\":[{\"visible\":[false,false,false,false,false,false,false,false,false,false,false,false,false,false,false,false,false,false,false,false,false,false,false,false,false,false,false,true,false,false,false,false,false,false,false,false,false,false,false,false,false,false,false,false,false,false,false,false,false,false,false,false,false,false,false,false,false,false,false]},{\"title\":\"Topic 26\"}],\"label\":\"Topic 26\",\"method\":\"update\"},{\"args\":[{\"visible\":[false,false,false,false,false,false,false,false,false,false,false,false,false,false,false,false,false,false,false,false,false,false,false,false,false,false,false,false,true,false,false,false,false,false,false,false,false,false,false,false,false,false,false,false,false,false,false,false,false,false,false,false,false,false,false,false,false,false,false]},{\"title\":\"Topic 27\"}],\"label\":\"Topic 27\",\"method\":\"update\"},{\"args\":[{\"visible\":[false,false,false,false,false,false,false,false,false,false,false,false,false,false,false,false,false,false,false,false,false,false,false,false,false,false,false,false,false,true,false,false,false,false,false,false,false,false,false,false,false,false,false,false,false,false,false,false,false,false,false,false,false,false,false,false,false,false,false]},{\"title\":\"Topic 28\"}],\"label\":\"Topic 28\",\"method\":\"update\"},{\"args\":[{\"visible\":[false,false,false,false,false,false,false,false,false,false,false,false,false,false,false,false,false,false,false,false,false,false,false,false,false,false,false,false,false,false,true,false,false,false,false,false,false,false,false,false,false,false,false,false,false,false,false,false,false,false,false,false,false,false,false,false,false,false,false]},{\"title\":\"Topic 29\"}],\"label\":\"Topic 29\",\"method\":\"update\"},{\"args\":[{\"visible\":[false,false,false,false,false,false,false,false,false,false,false,false,false,false,false,false,false,false,false,false,false,false,false,false,false,false,false,false,false,false,false,true,false,false,false,false,false,false,false,false,false,false,false,false,false,false,false,false,false,false,false,false,false,false,false,false,false,false,false]},{\"title\":\"Topic 30\"}],\"label\":\"Topic 30\",\"method\":\"update\"},{\"args\":[{\"visible\":[false,false,false,false,false,false,false,false,false,false,false,false,false,false,false,false,false,false,false,false,false,false,false,false,false,false,false,false,false,false,false,false,true,false,false,false,false,false,false,false,false,false,false,false,false,false,false,false,false,false,false,false,false,false,false,false,false,false,false]},{\"title\":\"Topic 31\"}],\"label\":\"Topic 31\",\"method\":\"update\"},{\"args\":[{\"visible\":[false,false,false,false,false,false,false,false,false,false,false,false,false,false,false,false,false,false,false,false,false,false,false,false,false,false,false,false,false,false,false,false,false,true,false,false,false,false,false,false,false,false,false,false,false,false,false,false,false,false,false,false,false,false,false,false,false,false,false]},{\"title\":\"Topic 32\"}],\"label\":\"Topic 32\",\"method\":\"update\"},{\"args\":[{\"visible\":[false,false,false,false,false,false,false,false,false,false,false,false,false,false,false,false,false,false,false,false,false,false,false,false,false,false,false,false,false,false,false,false,false,false,true,false,false,false,false,false,false,false,false,false,false,false,false,false,false,false,false,false,false,false,false,false,false,false,false]},{\"title\":\"Topic 33\"}],\"label\":\"Topic 33\",\"method\":\"update\"},{\"args\":[{\"visible\":[false,false,false,false,false,false,false,false,false,false,false,false,false,false,false,false,false,false,false,false,false,false,false,false,false,false,false,false,false,false,false,false,false,false,false,true,false,false,false,false,false,false,false,false,false,false,false,false,false,false,false,false,false,false,false,false,false,false,false]},{\"title\":\"Topic 34\"}],\"label\":\"Topic 34\",\"method\":\"update\"},{\"args\":[{\"visible\":[false,false,false,false,false,false,false,false,false,false,false,false,false,false,false,false,false,false,false,false,false,false,false,false,false,false,false,false,false,false,false,false,false,false,false,false,true,false,false,false,false,false,false,false,false,false,false,false,false,false,false,false,false,false,false,false,false,false,false]},{\"title\":\"Topic 35\"}],\"label\":\"Topic 35\",\"method\":\"update\"},{\"args\":[{\"visible\":[false,false,false,false,false,false,false,false,false,false,false,false,false,false,false,false,false,false,false,false,false,false,false,false,false,false,false,false,false,false,false,false,false,false,false,false,false,true,false,false,false,false,false,false,false,false,false,false,false,false,false,false,false,false,false,false,false,false,false]},{\"title\":\"Topic 36\"}],\"label\":\"Topic 36\",\"method\":\"update\"},{\"args\":[{\"visible\":[false,false,false,false,false,false,false,false,false,false,false,false,false,false,false,false,false,false,false,false,false,false,false,false,false,false,false,false,false,false,false,false,false,false,false,false,false,false,true,false,false,false,false,false,false,false,false,false,false,false,false,false,false,false,false,false,false,false,false]},{\"title\":\"Topic 37\"}],\"label\":\"Topic 37\",\"method\":\"update\"},{\"args\":[{\"visible\":[false,false,false,false,false,false,false,false,false,false,false,false,false,false,false,false,false,false,false,false,false,false,false,false,false,false,false,false,false,false,false,false,false,false,false,false,false,false,false,true,false,false,false,false,false,false,false,false,false,false,false,false,false,false,false,false,false,false,false]},{\"title\":\"Topic 38\"}],\"label\":\"Topic 38\",\"method\":\"update\"},{\"args\":[{\"visible\":[false,false,false,false,false,false,false,false,false,false,false,false,false,false,false,false,false,false,false,false,false,false,false,false,false,false,false,false,false,false,false,false,false,false,false,false,false,false,false,false,true,false,false,false,false,false,false,false,false,false,false,false,false,false,false,false,false,false,false]},{\"title\":\"Topic 39\"}],\"label\":\"Topic 39\",\"method\":\"update\"},{\"args\":[{\"visible\":[false,false,false,false,false,false,false,false,false,false,false,false,false,false,false,false,false,false,false,false,false,false,false,false,false,false,false,false,false,false,false,false,false,false,false,false,false,false,false,false,false,true,false,false,false,false,false,false,false,false,false,false,false,false,false,false,false,false,false]},{\"title\":\"Topic 40\"}],\"label\":\"Topic 40\",\"method\":\"update\"},{\"args\":[{\"visible\":[false,false,false,false,false,false,false,false,false,false,false,false,false,false,false,false,false,false,false,false,false,false,false,false,false,false,false,false,false,false,false,false,false,false,false,false,false,false,false,false,false,false,true,false,false,false,false,false,false,false,false,false,false,false,false,false,false,false,false]},{\"title\":\"Topic 41\"}],\"label\":\"Topic 41\",\"method\":\"update\"},{\"args\":[{\"visible\":[false,false,false,false,false,false,false,false,false,false,false,false,false,false,false,false,false,false,false,false,false,false,false,false,false,false,false,false,false,false,false,false,false,false,false,false,false,false,false,false,false,false,false,true,false,false,false,false,false,false,false,false,false,false,false,false,false,false,false]},{\"title\":\"Topic 42\"}],\"label\":\"Topic 42\",\"method\":\"update\"},{\"args\":[{\"visible\":[false,false,false,false,false,false,false,false,false,false,false,false,false,false,false,false,false,false,false,false,false,false,false,false,false,false,false,false,false,false,false,false,false,false,false,false,false,false,false,false,false,false,false,false,true,false,false,false,false,false,false,false,false,false,false,false,false,false,false]},{\"title\":\"Topic 43\"}],\"label\":\"Topic 43\",\"method\":\"update\"},{\"args\":[{\"visible\":[false,false,false,false,false,false,false,false,false,false,false,false,false,false,false,false,false,false,false,false,false,false,false,false,false,false,false,false,false,false,false,false,false,false,false,false,false,false,false,false,false,false,false,false,false,true,false,false,false,false,false,false,false,false,false,false,false,false,false]},{\"title\":\"Topic 44\"}],\"label\":\"Topic 44\",\"method\":\"update\"},{\"args\":[{\"visible\":[false,false,false,false,false,false,false,false,false,false,false,false,false,false,false,false,false,false,false,false,false,false,false,false,false,false,false,false,false,false,false,false,false,false,false,false,false,false,false,false,false,false,false,false,false,false,true,false,false,false,false,false,false,false,false,false,false,false,false]},{\"title\":\"Topic 45\"}],\"label\":\"Topic 45\",\"method\":\"update\"},{\"args\":[{\"visible\":[false,false,false,false,false,false,false,false,false,false,false,false,false,false,false,false,false,false,false,false,false,false,false,false,false,false,false,false,false,false,false,false,false,false,false,false,false,false,false,false,false,false,false,false,false,false,false,true,false,false,false,false,false,false,false,false,false,false,false]},{\"title\":\"Topic 46\"}],\"label\":\"Topic 46\",\"method\":\"update\"},{\"args\":[{\"visible\":[false,false,false,false,false,false,false,false,false,false,false,false,false,false,false,false,false,false,false,false,false,false,false,false,false,false,false,false,false,false,false,false,false,false,false,false,false,false,false,false,false,false,false,false,false,false,false,false,true,false,false,false,false,false,false,false,false,false,false]},{\"title\":\"Topic 47\"}],\"label\":\"Topic 47\",\"method\":\"update\"},{\"args\":[{\"visible\":[false,false,false,false,false,false,false,false,false,false,false,false,false,false,false,false,false,false,false,false,false,false,false,false,false,false,false,false,false,false,false,false,false,false,false,false,false,false,false,false,false,false,false,false,false,false,false,false,false,true,false,false,false,false,false,false,false,false,false]},{\"title\":\"Topic 48\"}],\"label\":\"Topic 48\",\"method\":\"update\"},{\"args\":[{\"visible\":[false,false,false,false,false,false,false,false,false,false,false,false,false,false,false,false,false,false,false,false,false,false,false,false,false,false,false,false,false,false,false,false,false,false,false,false,false,false,false,false,false,false,false,false,false,false,false,false,false,false,true,false,false,false,false,false,false,false,false]},{\"title\":\"Topic 49\"}],\"label\":\"Topic 49\",\"method\":\"update\"},{\"args\":[{\"visible\":[false,false,false,false,false,false,false,false,false,false,false,false,false,false,false,false,false,false,false,false,false,false,false,false,false,false,false,false,false,false,false,false,false,false,false,false,false,false,false,false,false,false,false,false,false,false,false,false,false,false,false,true,false,false,false,false,false,false,false]},{\"title\":\"Topic 50\"}],\"label\":\"Topic 50\",\"method\":\"update\"},{\"args\":[{\"visible\":[false,false,false,false,false,false,false,false,false,false,false,false,false,false,false,false,false,false,false,false,false,false,false,false,false,false,false,false,false,false,false,false,false,false,false,false,false,false,false,false,false,false,false,false,false,false,false,false,false,false,false,false,true,false,false,false,false,false,false]},{\"title\":\"Topic 51\"}],\"label\":\"Topic 51\",\"method\":\"update\"},{\"args\":[{\"visible\":[false,false,false,false,false,false,false,false,false,false,false,false,false,false,false,false,false,false,false,false,false,false,false,false,false,false,false,false,false,false,false,false,false,false,false,false,false,false,false,false,false,false,false,false,false,false,false,false,false,false,false,false,false,true,false,false,false,false,false]},{\"title\":\"Topic 52\"}],\"label\":\"Topic 52\",\"method\":\"update\"},{\"args\":[{\"visible\":[false,false,false,false,false,false,false,false,false,false,false,false,false,false,false,false,false,false,false,false,false,false,false,false,false,false,false,false,false,false,false,false,false,false,false,false,false,false,false,false,false,false,false,false,false,false,false,false,false,false,false,false,false,false,true,false,false,false,false]},{\"title\":\"Topic 53\"}],\"label\":\"Topic 53\",\"method\":\"update\"},{\"args\":[{\"visible\":[false,false,false,false,false,false,false,false,false,false,false,false,false,false,false,false,false,false,false,false,false,false,false,false,false,false,false,false,false,false,false,false,false,false,false,false,false,false,false,false,false,false,false,false,false,false,false,false,false,false,false,false,false,false,false,true,false,false,false]},{\"title\":\"Topic 54\"}],\"label\":\"Topic 54\",\"method\":\"update\"},{\"args\":[{\"visible\":[false,false,false,false,false,false,false,false,false,false,false,false,false,false,false,false,false,false,false,false,false,false,false,false,false,false,false,false,false,false,false,false,false,false,false,false,false,false,false,false,false,false,false,false,false,false,false,false,false,false,false,false,false,false,false,false,true,false,false]},{\"title\":\"Topic 55\"}],\"label\":\"Topic 55\",\"method\":\"update\"},{\"args\":[{\"visible\":[false,false,false,false,false,false,false,false,false,false,false,false,false,false,false,false,false,false,false,false,false,false,false,false,false,false,false,false,false,false,false,false,false,false,false,false,false,false,false,false,false,false,false,false,false,false,false,false,false,false,false,false,false,false,false,false,false,true,false]},{\"title\":\"Topic 56\"}],\"label\":\"Topic 56\",\"method\":\"update\"},{\"args\":[{\"visible\":[false,false,false,false,false,false,false,false,false,false,false,false,false,false,false,false,false,false,false,false,false,false,false,false,false,false,false,false,false,false,false,false,false,false,false,false,false,false,false,false,false,false,false,false,false,false,false,false,false,false,false,false,false,false,false,false,false,false,true]},{\"title\":\"Topic 57\"}],\"label\":\"Topic 57\",\"method\":\"update\"}]}],\"title\":{\"text\":\"Label Distribution per Topic\"},\"xaxis\":{\"title\":{\"text\":\"True Labels\"}},\"yaxis\":{\"title\":{\"text\":\"Count\"}}},                        {\"responsive\": true}                    ).then(function(){\n",
       "                            \n",
       "var gd = document.getElementById('933d8b06-3e79-4f22-aaf6-ad59743e1f12');\n",
       "var x = new MutationObserver(function (mutations, observer) {{\n",
       "        var display = window.getComputedStyle(gd).display;\n",
       "        if (!display || display === 'none') {{\n",
       "            console.log([gd, 'removed!']);\n",
       "            Plotly.purge(gd);\n",
       "            observer.disconnect();\n",
       "        }}\n",
       "}});\n",
       "\n",
       "// Listen for the removal of the full notebook cells\n",
       "var notebookContainer = gd.closest('#notebook-container');\n",
       "if (notebookContainer) {{\n",
       "    x.observe(notebookContainer, {childList: true});\n",
       "}}\n",
       "\n",
       "// Listen for the clearing of the current output cell\n",
       "var outputEl = gd.closest('.output');\n",
       "if (outputEl) {{\n",
       "    x.observe(outputEl, {childList: true});\n",
       "}}\n",
       "\n",
       "                        })                };                });            </script>        </div>"
      ]
     },
     "metadata": {},
     "output_type": "display_data"
    }
   ],
   "source": [
    "import plotly.graph_objects as go\n",
    "\n",
    "# トピックと真のラベルの関連をデータフレームで表現\n",
    "df_topics_labels = pd.DataFrame({'Topic': topics, 'True_Label': train['label']})\n",
    "\n",
    "# 各トピックにおけるラベルの分布を集計\n",
    "label_distribution = df_topics_labels.groupby('Topic')['True_Label'].value_counts().unstack().fillna(0)\n",
    "\n",
    "# Plotlyの棒グラフを作成\n",
    "fig = go.Figure()\n",
    "\n",
    "# トピックごとの棒グラフを作成\n",
    "for topic in label_distribution.index:\n",
    "    fig.add_trace(\n",
    "        go.Bar(\n",
    "            x=label_distribution.columns,\n",
    "            y=label_distribution.loc[topic],\n",
    "            name=f\"Topic {topic}\"\n",
    "        )\n",
    "    )\n",
    "\n",
    "# シークバーの設定\n",
    "steps = []\n",
    "for i in range(len(label_distribution.index)):\n",
    "    step = dict(\n",
    "        method=\"update\",\n",
    "        args=[{\"visible\": [False] * len(label_distribution.index)},\n",
    "              {\"title\": f\"Topic {label_distribution.index[i]}\"}],\n",
    "        label=f\"Topic {label_distribution.index[i]}\"\n",
    "    )\n",
    "    step[\"args\"][0][\"visible\"][i] = True  # このトピックのバーだけを表示\n",
    "    steps.append(step)\n",
    "\n",
    "sliders = [dict(\n",
    "    active=0,\n",
    "    currentvalue={\"prefix\": \"Selected Topic: \"},\n",
    "    pad={\"t\": 50},\n",
    "    steps=steps\n",
    ")]\n",
    "\n",
    "fig.update_layout(\n",
    "    sliders=sliders,\n",
    "    title=\"Label Distribution per Topic\",\n",
    "    xaxis_title=\"True Labels\",\n",
    "    yaxis_title=\"Count\"\n",
    ")\n",
    "\n",
    "fig.show()\n"
   ]
  },
  {
   "cell_type": "code",
   "execution_count": 264,
   "metadata": {},
   "outputs": [],
   "source": [
    "import csv\n",
    "\n",
    "# BERTopicからトピック情報を取得\n",
    "topic_info = topic_model.get_topic_info()\n",
    "\n",
    "# トピック番号と題名の対応を辞書で取得\n",
    "topic_names = topic_info.set_index('Topic')['Name'].to_dict()\n",
    "\n",
    "# トピックごとに文書をフィルタリングしてCSVファイルに保存\n",
    "for topic_number in set(topics):\n",
    "    # トピック番号に一致する文書をフィルタリング\n",
    "    topic_docs = [doc for doc, topic in zip(docs, topics) if topic == topic_number]\n",
    "    \n",
    "    # トピックに対応する文書のデータフレームを作成\n",
    "    df = pd.DataFrame(topic_docs, columns=['Document'])\n",
    "    \n",
    "    # トピックの題名をデータフレームに追加\n",
    "    df['Topic Name'] = topic_names.get(topic_number, 'Unknown Topic')\n",
    "    \n",
    "    # CSVファイルに保存\n",
    "    file_name = f'{OUT_PATH}/all_topics/topic_{topic_number}.csv'\n",
    "    df.to_csv(file_name, index=False, quoting=csv.QUOTE_ALL)"
   ]
  },
  {
   "cell_type": "code",
   "execution_count": null,
   "metadata": {},
   "outputs": [],
   "source": []
  }
 ],
 "metadata": {
  "kernelspec": {
   "display_name": "Python 3",
   "language": "python",
   "name": "python3"
  },
  "language_info": {
   "codemirror_mode": {
    "name": "ipython",
    "version": 3
   },
   "file_extension": ".py",
   "mimetype": "text/x-python",
   "name": "python",
   "nbconvert_exporter": "python",
   "pygments_lexer": "ipython3",
   "version": "3.10.12"
  }
 },
 "nbformat": 4,
 "nbformat_minor": 2
}
